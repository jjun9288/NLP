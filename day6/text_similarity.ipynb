{
  "nbformat": 4,
  "nbformat_minor": 0,
  "metadata": {
    "colab": {
      "name": "06-01-text-similarity-강의 (1).ipynb",
      "provenance": [],
      "collapsed_sections": [
        "g78tzmjN3mzF",
        "6dfJPT-2XMTB",
        "JHkHg6XAXoyK",
        "XwriCkq_R1Lc",
        "fsRvlzDzSX9e",
        "MXrWvdLuhVIu",
        "iCtHjN1jiPBl",
        "8BJA69lTf6_P",
        "vuf2hfnmgPtJ",
        "z5vUjpBDjvwM",
        "0wOb77mrgo2j",
        "aAf5NLDXg1ri",
        "HH3c7rY7kbCh",
        "INyPdEigjQpG",
        "CZNmjRZLjcU-",
        "OMncJs1dlHLK",
        "PEEHnQPfluqb",
        "3myBX8hNEH1u",
        "gcG7zBAr_R_4",
        "jv0OPyaKSpjw",
        "IFTsdA3kE2h-",
        "PQvKAxTbaEpt",
        "zSaoCf37q3aC",
        "arOON7lCq3aC",
        "wMPwmL79q3aG",
        "jTN2yeNEq3aI"
      ]
    },
    "kernelspec": {
      "name": "python3",
      "display_name": "Python 3"
    },
    "accelerator": "GPU",
    "widgets": {
      "application/vnd.jupyter.widget-state+json": {
        "ae2e954081054221bb97420152ca8beb": {
          "model_module": "@jupyter-widgets/controls",
          "model_name": "HBoxModel",
          "state": {
            "_view_name": "HBoxView",
            "_dom_classes": [],
            "_model_name": "HBoxModel",
            "_view_module": "@jupyter-widgets/controls",
            "_model_module_version": "1.5.0",
            "_view_count": null,
            "_view_module_version": "1.5.0",
            "box_style": "",
            "layout": "IPY_MODEL_bf0dfa53b48b455abe350c0bc85029a1",
            "_model_module": "@jupyter-widgets/controls",
            "children": [
              "IPY_MODEL_691e1ce1e94c4b628e500b601b271958",
              "IPY_MODEL_eb28d72f7ae14179af80e4e9925cf559"
            ]
          }
        },
        "bf0dfa53b48b455abe350c0bc85029a1": {
          "model_module": "@jupyter-widgets/base",
          "model_name": "LayoutModel",
          "state": {
            "_view_name": "LayoutView",
            "grid_template_rows": null,
            "right": null,
            "justify_content": null,
            "_view_module": "@jupyter-widgets/base",
            "overflow": null,
            "_model_module_version": "1.2.0",
            "_view_count": null,
            "flex_flow": null,
            "width": null,
            "min_width": null,
            "border": null,
            "align_items": null,
            "bottom": null,
            "_model_module": "@jupyter-widgets/base",
            "top": null,
            "grid_column": null,
            "overflow_y": null,
            "overflow_x": null,
            "grid_auto_flow": null,
            "grid_area": null,
            "grid_template_columns": null,
            "flex": null,
            "_model_name": "LayoutModel",
            "justify_items": null,
            "grid_row": null,
            "max_height": null,
            "align_content": null,
            "visibility": null,
            "align_self": null,
            "height": null,
            "min_height": null,
            "padding": null,
            "grid_auto_rows": null,
            "grid_gap": null,
            "max_width": null,
            "order": null,
            "_view_module_version": "1.2.0",
            "grid_template_areas": null,
            "object_position": null,
            "object_fit": null,
            "grid_auto_columns": null,
            "margin": null,
            "display": null,
            "left": null
          }
        },
        "691e1ce1e94c4b628e500b601b271958": {
          "model_module": "@jupyter-widgets/controls",
          "model_name": "FloatProgressModel",
          "state": {
            "_view_name": "ProgressView",
            "style": "IPY_MODEL_cb96da794d1a409cb10374686c5a0a23",
            "_dom_classes": [],
            "description": "100%",
            "_model_name": "FloatProgressModel",
            "bar_style": "success",
            "max": 10,
            "_view_module": "@jupyter-widgets/controls",
            "_model_module_version": "1.5.0",
            "value": 10,
            "_view_count": null,
            "_view_module_version": "1.5.0",
            "orientation": "horizontal",
            "min": 0,
            "description_tooltip": null,
            "_model_module": "@jupyter-widgets/controls",
            "layout": "IPY_MODEL_02767daed8654d88a13e8a72746bc4f6"
          }
        },
        "eb28d72f7ae14179af80e4e9925cf559": {
          "model_module": "@jupyter-widgets/controls",
          "model_name": "HTMLModel",
          "state": {
            "_view_name": "HTMLView",
            "style": "IPY_MODEL_7952a290ca2f49d0b300ec0bf393b261",
            "_dom_classes": [],
            "description": "",
            "_model_name": "HTMLModel",
            "placeholder": "​",
            "_view_module": "@jupyter-widgets/controls",
            "_model_module_version": "1.5.0",
            "value": " 10/10 [00:12&lt;00:00,  1.26s/it]",
            "_view_count": null,
            "_view_module_version": "1.5.0",
            "description_tooltip": null,
            "_model_module": "@jupyter-widgets/controls",
            "layout": "IPY_MODEL_f4b44743a4c3485084c3476a5f833859"
          }
        },
        "cb96da794d1a409cb10374686c5a0a23": {
          "model_module": "@jupyter-widgets/controls",
          "model_name": "ProgressStyleModel",
          "state": {
            "_view_name": "StyleView",
            "_model_name": "ProgressStyleModel",
            "description_width": "initial",
            "_view_module": "@jupyter-widgets/base",
            "_model_module_version": "1.5.0",
            "_view_count": null,
            "_view_module_version": "1.2.0",
            "bar_color": null,
            "_model_module": "@jupyter-widgets/controls"
          }
        },
        "02767daed8654d88a13e8a72746bc4f6": {
          "model_module": "@jupyter-widgets/base",
          "model_name": "LayoutModel",
          "state": {
            "_view_name": "LayoutView",
            "grid_template_rows": null,
            "right": null,
            "justify_content": null,
            "_view_module": "@jupyter-widgets/base",
            "overflow": null,
            "_model_module_version": "1.2.0",
            "_view_count": null,
            "flex_flow": null,
            "width": null,
            "min_width": null,
            "border": null,
            "align_items": null,
            "bottom": null,
            "_model_module": "@jupyter-widgets/base",
            "top": null,
            "grid_column": null,
            "overflow_y": null,
            "overflow_x": null,
            "grid_auto_flow": null,
            "grid_area": null,
            "grid_template_columns": null,
            "flex": null,
            "_model_name": "LayoutModel",
            "justify_items": null,
            "grid_row": null,
            "max_height": null,
            "align_content": null,
            "visibility": null,
            "align_self": null,
            "height": null,
            "min_height": null,
            "padding": null,
            "grid_auto_rows": null,
            "grid_gap": null,
            "max_width": null,
            "order": null,
            "_view_module_version": "1.2.0",
            "grid_template_areas": null,
            "object_position": null,
            "object_fit": null,
            "grid_auto_columns": null,
            "margin": null,
            "display": null,
            "left": null
          }
        },
        "7952a290ca2f49d0b300ec0bf393b261": {
          "model_module": "@jupyter-widgets/controls",
          "model_name": "DescriptionStyleModel",
          "state": {
            "_view_name": "StyleView",
            "_model_name": "DescriptionStyleModel",
            "description_width": "",
            "_view_module": "@jupyter-widgets/base",
            "_model_module_version": "1.5.0",
            "_view_count": null,
            "_view_module_version": "1.2.0",
            "_model_module": "@jupyter-widgets/controls"
          }
        },
        "f4b44743a4c3485084c3476a5f833859": {
          "model_module": "@jupyter-widgets/base",
          "model_name": "LayoutModel",
          "state": {
            "_view_name": "LayoutView",
            "grid_template_rows": null,
            "right": null,
            "justify_content": null,
            "_view_module": "@jupyter-widgets/base",
            "overflow": null,
            "_model_module_version": "1.2.0",
            "_view_count": null,
            "flex_flow": null,
            "width": null,
            "min_width": null,
            "border": null,
            "align_items": null,
            "bottom": null,
            "_model_module": "@jupyter-widgets/base",
            "top": null,
            "grid_column": null,
            "overflow_y": null,
            "overflow_x": null,
            "grid_auto_flow": null,
            "grid_area": null,
            "grid_template_columns": null,
            "flex": null,
            "_model_name": "LayoutModel",
            "justify_items": null,
            "grid_row": null,
            "max_height": null,
            "align_content": null,
            "visibility": null,
            "align_self": null,
            "height": null,
            "min_height": null,
            "padding": null,
            "grid_auto_rows": null,
            "grid_gap": null,
            "max_width": null,
            "order": null,
            "_view_module_version": "1.2.0",
            "grid_template_areas": null,
            "object_position": null,
            "object_fit": null,
            "grid_auto_columns": null,
            "margin": null,
            "display": null,
            "left": null
          }
        },
        "081fdd6706b6400dafcd7bac96c0bbf1": {
          "model_module": "@jupyter-widgets/controls",
          "model_name": "HBoxModel",
          "state": {
            "_view_name": "HBoxView",
            "_dom_classes": [],
            "_model_name": "HBoxModel",
            "_view_module": "@jupyter-widgets/controls",
            "_model_module_version": "1.5.0",
            "_view_count": null,
            "_view_module_version": "1.5.0",
            "box_style": "",
            "layout": "IPY_MODEL_70785bb59c124fb79dd7edfe98760821",
            "_model_module": "@jupyter-widgets/controls",
            "children": [
              "IPY_MODEL_e3ea7355ea7c4f97a055bd964d2fdd2c",
              "IPY_MODEL_61374a83484441e0b9406ff54617ebcf"
            ]
          }
        },
        "70785bb59c124fb79dd7edfe98760821": {
          "model_module": "@jupyter-widgets/base",
          "model_name": "LayoutModel",
          "state": {
            "_view_name": "LayoutView",
            "grid_template_rows": null,
            "right": null,
            "justify_content": null,
            "_view_module": "@jupyter-widgets/base",
            "overflow": null,
            "_model_module_version": "1.2.0",
            "_view_count": null,
            "flex_flow": null,
            "width": null,
            "min_width": null,
            "border": null,
            "align_items": null,
            "bottom": null,
            "_model_module": "@jupyter-widgets/base",
            "top": null,
            "grid_column": null,
            "overflow_y": null,
            "overflow_x": null,
            "grid_auto_flow": null,
            "grid_area": null,
            "grid_template_columns": null,
            "flex": null,
            "_model_name": "LayoutModel",
            "justify_items": null,
            "grid_row": null,
            "max_height": null,
            "align_content": null,
            "visibility": null,
            "align_self": null,
            "height": null,
            "min_height": null,
            "padding": null,
            "grid_auto_rows": null,
            "grid_gap": null,
            "max_width": null,
            "order": null,
            "_view_module_version": "1.2.0",
            "grid_template_areas": null,
            "object_position": null,
            "object_fit": null,
            "grid_auto_columns": null,
            "margin": null,
            "display": null,
            "left": null
          }
        },
        "e3ea7355ea7c4f97a055bd964d2fdd2c": {
          "model_module": "@jupyter-widgets/controls",
          "model_name": "FloatProgressModel",
          "state": {
            "_view_name": "ProgressView",
            "style": "IPY_MODEL_913e9e0c4ade4937a5f696e4ec18c49b",
            "_dom_classes": [],
            "description": "100%",
            "_model_name": "FloatProgressModel",
            "bar_style": "success",
            "max": 10,
            "_view_module": "@jupyter-widgets/controls",
            "_model_module_version": "1.5.0",
            "value": 10,
            "_view_count": null,
            "_view_module_version": "1.5.0",
            "orientation": "horizontal",
            "min": 0,
            "description_tooltip": null,
            "_model_module": "@jupyter-widgets/controls",
            "layout": "IPY_MODEL_1df3b0bc5d5c4f6bb0a4146ecb7bf560"
          }
        },
        "61374a83484441e0b9406ff54617ebcf": {
          "model_module": "@jupyter-widgets/controls",
          "model_name": "HTMLModel",
          "state": {
            "_view_name": "HTMLView",
            "style": "IPY_MODEL_1dceee43310f49c9a7975dc05211da65",
            "_dom_classes": [],
            "description": "",
            "_model_name": "HTMLModel",
            "placeholder": "​",
            "_view_module": "@jupyter-widgets/controls",
            "_model_module_version": "1.5.0",
            "value": " 10/10 [00:06&lt;00:00,  1.54it/s]",
            "_view_count": null,
            "_view_module_version": "1.5.0",
            "description_tooltip": null,
            "_model_module": "@jupyter-widgets/controls",
            "layout": "IPY_MODEL_44471c4e9f234611ad74efa8887f4f21"
          }
        },
        "913e9e0c4ade4937a5f696e4ec18c49b": {
          "model_module": "@jupyter-widgets/controls",
          "model_name": "ProgressStyleModel",
          "state": {
            "_view_name": "StyleView",
            "_model_name": "ProgressStyleModel",
            "description_width": "initial",
            "_view_module": "@jupyter-widgets/base",
            "_model_module_version": "1.5.0",
            "_view_count": null,
            "_view_module_version": "1.2.0",
            "bar_color": null,
            "_model_module": "@jupyter-widgets/controls"
          }
        },
        "1df3b0bc5d5c4f6bb0a4146ecb7bf560": {
          "model_module": "@jupyter-widgets/base",
          "model_name": "LayoutModel",
          "state": {
            "_view_name": "LayoutView",
            "grid_template_rows": null,
            "right": null,
            "justify_content": null,
            "_view_module": "@jupyter-widgets/base",
            "overflow": null,
            "_model_module_version": "1.2.0",
            "_view_count": null,
            "flex_flow": null,
            "width": null,
            "min_width": null,
            "border": null,
            "align_items": null,
            "bottom": null,
            "_model_module": "@jupyter-widgets/base",
            "top": null,
            "grid_column": null,
            "overflow_y": null,
            "overflow_x": null,
            "grid_auto_flow": null,
            "grid_area": null,
            "grid_template_columns": null,
            "flex": null,
            "_model_name": "LayoutModel",
            "justify_items": null,
            "grid_row": null,
            "max_height": null,
            "align_content": null,
            "visibility": null,
            "align_self": null,
            "height": null,
            "min_height": null,
            "padding": null,
            "grid_auto_rows": null,
            "grid_gap": null,
            "max_width": null,
            "order": null,
            "_view_module_version": "1.2.0",
            "grid_template_areas": null,
            "object_position": null,
            "object_fit": null,
            "grid_auto_columns": null,
            "margin": null,
            "display": null,
            "left": null
          }
        },
        "1dceee43310f49c9a7975dc05211da65": {
          "model_module": "@jupyter-widgets/controls",
          "model_name": "DescriptionStyleModel",
          "state": {
            "_view_name": "StyleView",
            "_model_name": "DescriptionStyleModel",
            "description_width": "",
            "_view_module": "@jupyter-widgets/base",
            "_model_module_version": "1.5.0",
            "_view_count": null,
            "_view_module_version": "1.2.0",
            "_model_module": "@jupyter-widgets/controls"
          }
        },
        "44471c4e9f234611ad74efa8887f4f21": {
          "model_module": "@jupyter-widgets/base",
          "model_name": "LayoutModel",
          "state": {
            "_view_name": "LayoutView",
            "grid_template_rows": null,
            "right": null,
            "justify_content": null,
            "_view_module": "@jupyter-widgets/base",
            "overflow": null,
            "_model_module_version": "1.2.0",
            "_view_count": null,
            "flex_flow": null,
            "width": null,
            "min_width": null,
            "border": null,
            "align_items": null,
            "bottom": null,
            "_model_module": "@jupyter-widgets/base",
            "top": null,
            "grid_column": null,
            "overflow_y": null,
            "overflow_x": null,
            "grid_auto_flow": null,
            "grid_area": null,
            "grid_template_columns": null,
            "flex": null,
            "_model_name": "LayoutModel",
            "justify_items": null,
            "grid_row": null,
            "max_height": null,
            "align_content": null,
            "visibility": null,
            "align_self": null,
            "height": null,
            "min_height": null,
            "padding": null,
            "grid_auto_rows": null,
            "grid_gap": null,
            "max_width": null,
            "order": null,
            "_view_module_version": "1.2.0",
            "grid_template_areas": null,
            "object_position": null,
            "object_fit": null,
            "grid_auto_columns": null,
            "margin": null,
            "display": null,
            "left": null
          }
        }
      }
    }
  },
  "cells": [
    {
      "cell_type": "markdown",
      "metadata": {
        "id": "g78tzmjN3mzF"
      },
      "source": [
        "# 한글폰트 설치\n",
        "- 아래 실행후 '런터임 다시 시작' 하면 됩니다.\n",
        "- 메뉴에서 '런타임' >> '런타임 다시 시작'을 클릭하세요.\n",
        "- 런타임 다시 시작 후 다시 실행할 필요 없습니다."
      ]
    },
    {
      "cell_type": "code",
      "metadata": {
        "id": "Co97FHic3p0D",
        "colab": {
          "base_uri": "https://localhost:8080/"
        },
        "outputId": "9a1d1132-0dfe-490e-d4ab-00bbf3c7106d"
      },
      "source": [
        "# 폰트 설치\n",
        "!apt-get update -qq # 나눔고딕 설치\n",
        "!apt-get install fonts-nanum* -qq\n",
        "\n",
        "import matplotlib as mpl\n",
        "import matplotlib.pyplot as plt\n",
        "import matplotlib.font_manager as fm\n",
        "\n",
        "# 폰트 로딩\n",
        "fontpath = '/usr/share/fonts/truetype/nanum/NanumBarunGothic.ttf'\n",
        "font = fm.FontProperties(fname=fontpath, size=9)\n",
        "plt.rc('font', family='NanumBarunGothic') \n",
        "mpl.font_manager._rebuild()"
      ],
      "execution_count": 1,
      "outputs": [
        {
          "output_type": "stream",
          "text": [
            "Selecting previously unselected package fonts-nanum.\n",
            "(Reading database ... 146374 files and directories currently installed.)\n",
            "Preparing to unpack .../fonts-nanum_20170925-1_all.deb ...\n",
            "Unpacking fonts-nanum (20170925-1) ...\n",
            "Selecting previously unselected package fonts-nanum-eco.\n",
            "Preparing to unpack .../fonts-nanum-eco_1.000-6_all.deb ...\n",
            "Unpacking fonts-nanum-eco (1.000-6) ...\n",
            "Selecting previously unselected package fonts-nanum-extra.\n",
            "Preparing to unpack .../fonts-nanum-extra_20170925-1_all.deb ...\n",
            "Unpacking fonts-nanum-extra (20170925-1) ...\n",
            "Selecting previously unselected package fonts-nanum-coding.\n",
            "Preparing to unpack .../fonts-nanum-coding_2.5-1_all.deb ...\n",
            "Unpacking fonts-nanum-coding (2.5-1) ...\n",
            "Setting up fonts-nanum-extra (20170925-1) ...\n",
            "Setting up fonts-nanum (20170925-1) ...\n",
            "Setting up fonts-nanum-coding (2.5-1) ...\n",
            "Setting up fonts-nanum-eco (1.000-6) ...\n",
            "Processing triggers for fontconfig (2.12.6-0ubuntu2) ...\n"
          ],
          "name": "stdout"
        }
      ]
    },
    {
      "cell_type": "markdown",
      "metadata": {
        "id": "6dfJPT-2XMTB"
      },
      "source": [
        "# Install"
      ]
    },
    {
      "cell_type": "code",
      "metadata": {
        "id": "a193aGJWVaqb",
        "colab": {
          "base_uri": "https://localhost:8080/"
        },
        "outputId": "cbc32367-c5a4-4188-8973-2c85fcfe2e1e"
      },
      "source": [
        "!pip install sentencepiece"
      ],
      "execution_count": 1,
      "outputs": [
        {
          "output_type": "stream",
          "text": [
            "Collecting sentencepiece\n",
            "\u001b[?25l  Downloading https://files.pythonhosted.org/packages/14/67/e42bd1181472c95c8cda79305df848264f2a7f62740995a46945d9797b67/sentencepiece-0.1.95-cp36-cp36m-manylinux2014_x86_64.whl (1.2MB)\n",
            "\r\u001b[K     |▎                               | 10kB 21.3MB/s eta 0:00:01\r\u001b[K     |▌                               | 20kB 15.1MB/s eta 0:00:01\r\u001b[K     |▉                               | 30kB 12.8MB/s eta 0:00:01\r\u001b[K     |█                               | 40kB 13.1MB/s eta 0:00:01\r\u001b[K     |█▍                              | 51kB 8.9MB/s eta 0:00:01\r\u001b[K     |█▋                              | 61kB 9.5MB/s eta 0:00:01\r\u001b[K     |██                              | 71kB 9.3MB/s eta 0:00:01\r\u001b[K     |██▏                             | 81kB 10.4MB/s eta 0:00:01\r\u001b[K     |██▌                             | 92kB 9.7MB/s eta 0:00:01\r\u001b[K     |██▊                             | 102kB 8.5MB/s eta 0:00:01\r\u001b[K     |███                             | 112kB 8.5MB/s eta 0:00:01\r\u001b[K     |███▎                            | 122kB 8.5MB/s eta 0:00:01\r\u001b[K     |███▌                            | 133kB 8.5MB/s eta 0:00:01\r\u001b[K     |███▉                            | 143kB 8.5MB/s eta 0:00:01\r\u001b[K     |████                            | 153kB 8.5MB/s eta 0:00:01\r\u001b[K     |████▍                           | 163kB 8.5MB/s eta 0:00:01\r\u001b[K     |████▋                           | 174kB 8.5MB/s eta 0:00:01\r\u001b[K     |█████                           | 184kB 8.5MB/s eta 0:00:01\r\u001b[K     |█████▏                          | 194kB 8.5MB/s eta 0:00:01\r\u001b[K     |█████▌                          | 204kB 8.5MB/s eta 0:00:01\r\u001b[K     |█████▊                          | 215kB 8.5MB/s eta 0:00:01\r\u001b[K     |██████                          | 225kB 8.5MB/s eta 0:00:01\r\u001b[K     |██████▎                         | 235kB 8.5MB/s eta 0:00:01\r\u001b[K     |██████▌                         | 245kB 8.5MB/s eta 0:00:01\r\u001b[K     |██████▉                         | 256kB 8.5MB/s eta 0:00:01\r\u001b[K     |███████                         | 266kB 8.5MB/s eta 0:00:01\r\u001b[K     |███████▍                        | 276kB 8.5MB/s eta 0:00:01\r\u001b[K     |███████▋                        | 286kB 8.5MB/s eta 0:00:01\r\u001b[K     |████████                        | 296kB 8.5MB/s eta 0:00:01\r\u001b[K     |████████▏                       | 307kB 8.5MB/s eta 0:00:01\r\u001b[K     |████████▍                       | 317kB 8.5MB/s eta 0:00:01\r\u001b[K     |████████▊                       | 327kB 8.5MB/s eta 0:00:01\r\u001b[K     |█████████                       | 337kB 8.5MB/s eta 0:00:01\r\u001b[K     |█████████▎                      | 348kB 8.5MB/s eta 0:00:01\r\u001b[K     |█████████▌                      | 358kB 8.5MB/s eta 0:00:01\r\u001b[K     |█████████▉                      | 368kB 8.5MB/s eta 0:00:01\r\u001b[K     |██████████                      | 378kB 8.5MB/s eta 0:00:01\r\u001b[K     |██████████▍                     | 389kB 8.5MB/s eta 0:00:01\r\u001b[K     |██████████▋                     | 399kB 8.5MB/s eta 0:00:01\r\u001b[K     |███████████                     | 409kB 8.5MB/s eta 0:00:01\r\u001b[K     |███████████▏                    | 419kB 8.5MB/s eta 0:00:01\r\u001b[K     |███████████▍                    | 430kB 8.5MB/s eta 0:00:01\r\u001b[K     |███████████▊                    | 440kB 8.5MB/s eta 0:00:01\r\u001b[K     |████████████                    | 450kB 8.5MB/s eta 0:00:01\r\u001b[K     |████████████▎                   | 460kB 8.5MB/s eta 0:00:01\r\u001b[K     |████████████▌                   | 471kB 8.5MB/s eta 0:00:01\r\u001b[K     |████████████▉                   | 481kB 8.5MB/s eta 0:00:01\r\u001b[K     |█████████████                   | 491kB 8.5MB/s eta 0:00:01\r\u001b[K     |█████████████▍                  | 501kB 8.5MB/s eta 0:00:01\r\u001b[K     |█████████████▋                  | 512kB 8.5MB/s eta 0:00:01\r\u001b[K     |█████████████▉                  | 522kB 8.5MB/s eta 0:00:01\r\u001b[K     |██████████████▏                 | 532kB 8.5MB/s eta 0:00:01\r\u001b[K     |██████████████▍                 | 542kB 8.5MB/s eta 0:00:01\r\u001b[K     |██████████████▊                 | 552kB 8.5MB/s eta 0:00:01\r\u001b[K     |███████████████                 | 563kB 8.5MB/s eta 0:00:01\r\u001b[K     |███████████████▎                | 573kB 8.5MB/s eta 0:00:01\r\u001b[K     |███████████████▌                | 583kB 8.5MB/s eta 0:00:01\r\u001b[K     |███████████████▉                | 593kB 8.5MB/s eta 0:00:01\r\u001b[K     |████████████████                | 604kB 8.5MB/s eta 0:00:01\r\u001b[K     |████████████████▍               | 614kB 8.5MB/s eta 0:00:01\r\u001b[K     |████████████████▋               | 624kB 8.5MB/s eta 0:00:01\r\u001b[K     |████████████████▉               | 634kB 8.5MB/s eta 0:00:01\r\u001b[K     |█████████████████▏              | 645kB 8.5MB/s eta 0:00:01\r\u001b[K     |█████████████████▍              | 655kB 8.5MB/s eta 0:00:01\r\u001b[K     |█████████████████▊              | 665kB 8.5MB/s eta 0:00:01\r\u001b[K     |██████████████████              | 675kB 8.5MB/s eta 0:00:01\r\u001b[K     |██████████████████▎             | 686kB 8.5MB/s eta 0:00:01\r\u001b[K     |██████████████████▌             | 696kB 8.5MB/s eta 0:00:01\r\u001b[K     |██████████████████▉             | 706kB 8.5MB/s eta 0:00:01\r\u001b[K     |███████████████████             | 716kB 8.5MB/s eta 0:00:01\r\u001b[K     |███████████████████▎            | 727kB 8.5MB/s eta 0:00:01\r\u001b[K     |███████████████████▋            | 737kB 8.5MB/s eta 0:00:01\r\u001b[K     |███████████████████▉            | 747kB 8.5MB/s eta 0:00:01\r\u001b[K     |████████████████████▏           | 757kB 8.5MB/s eta 0:00:01\r\u001b[K     |████████████████████▍           | 768kB 8.5MB/s eta 0:00:01\r\u001b[K     |████████████████████▊           | 778kB 8.5MB/s eta 0:00:01\r\u001b[K     |█████████████████████           | 788kB 8.5MB/s eta 0:00:01\r\u001b[K     |█████████████████████▎          | 798kB 8.5MB/s eta 0:00:01\r\u001b[K     |█████████████████████▌          | 808kB 8.5MB/s eta 0:00:01\r\u001b[K     |█████████████████████▉          | 819kB 8.5MB/s eta 0:00:01\r\u001b[K     |██████████████████████          | 829kB 8.5MB/s eta 0:00:01\r\u001b[K     |██████████████████████▎         | 839kB 8.5MB/s eta 0:00:01\r\u001b[K     |██████████████████████▋         | 849kB 8.5MB/s eta 0:00:01\r\u001b[K     |██████████████████████▉         | 860kB 8.5MB/s eta 0:00:01\r\u001b[K     |███████████████████████▏        | 870kB 8.5MB/s eta 0:00:01\r\u001b[K     |███████████████████████▍        | 880kB 8.5MB/s eta 0:00:01\r\u001b[K     |███████████████████████▊        | 890kB 8.5MB/s eta 0:00:01\r\u001b[K     |████████████████████████        | 901kB 8.5MB/s eta 0:00:01\r\u001b[K     |████████████████████████▎       | 911kB 8.5MB/s eta 0:00:01\r\u001b[K     |████████████████████████▌       | 921kB 8.5MB/s eta 0:00:01\r\u001b[K     |████████████████████████▊       | 931kB 8.5MB/s eta 0:00:01\r\u001b[K     |█████████████████████████       | 942kB 8.5MB/s eta 0:00:01\r\u001b[K     |█████████████████████████▎      | 952kB 8.5MB/s eta 0:00:01\r\u001b[K     |█████████████████████████▋      | 962kB 8.5MB/s eta 0:00:01\r\u001b[K     |█████████████████████████▉      | 972kB 8.5MB/s eta 0:00:01\r\u001b[K     |██████████████████████████▏     | 983kB 8.5MB/s eta 0:00:01\r\u001b[K     |██████████████████████████▍     | 993kB 8.5MB/s eta 0:00:01\r\u001b[K     |██████████████████████████▊     | 1.0MB 8.5MB/s eta 0:00:01\r\u001b[K     |███████████████████████████     | 1.0MB 8.5MB/s eta 0:00:01\r\u001b[K     |███████████████████████████▎    | 1.0MB 8.5MB/s eta 0:00:01\r\u001b[K     |███████████████████████████▌    | 1.0MB 8.5MB/s eta 0:00:01\r\u001b[K     |███████████████████████████▊    | 1.0MB 8.5MB/s eta 0:00:01\r\u001b[K     |████████████████████████████    | 1.1MB 8.5MB/s eta 0:00:01\r\u001b[K     |████████████████████████████▎   | 1.1MB 8.5MB/s eta 0:00:01\r\u001b[K     |████████████████████████████▋   | 1.1MB 8.5MB/s eta 0:00:01\r\u001b[K     |████████████████████████████▉   | 1.1MB 8.5MB/s eta 0:00:01\r\u001b[K     |█████████████████████████████▏  | 1.1MB 8.5MB/s eta 0:00:01\r\u001b[K     |█████████████████████████████▍  | 1.1MB 8.5MB/s eta 0:00:01\r\u001b[K     |█████████████████████████████▊  | 1.1MB 8.5MB/s eta 0:00:01\r\u001b[K     |██████████████████████████████  | 1.1MB 8.5MB/s eta 0:00:01\r\u001b[K     |██████████████████████████████▏ | 1.1MB 8.5MB/s eta 0:00:01\r\u001b[K     |██████████████████████████████▌ | 1.1MB 8.5MB/s eta 0:00:01\r\u001b[K     |██████████████████████████████▊ | 1.2MB 8.5MB/s eta 0:00:01\r\u001b[K     |███████████████████████████████ | 1.2MB 8.5MB/s eta 0:00:01\r\u001b[K     |███████████████████████████████▎| 1.2MB 8.5MB/s eta 0:00:01\r\u001b[K     |███████████████████████████████▋| 1.2MB 8.5MB/s eta 0:00:01\r\u001b[K     |███████████████████████████████▉| 1.2MB 8.5MB/s eta 0:00:01\r\u001b[K     |████████████████████████████████| 1.2MB 8.5MB/s \n",
            "\u001b[?25hInstalling collected packages: sentencepiece\n",
            "Successfully installed sentencepiece-0.1.95\n"
          ],
          "name": "stdout"
        }
      ]
    },
    {
      "cell_type": "markdown",
      "metadata": {
        "id": "JHkHg6XAXoyK"
      },
      "source": [
        "# Evn"
      ]
    },
    {
      "cell_type": "code",
      "metadata": {
        "id": "WkYXFwcBXJDG"
      },
      "source": [
        "import os\n",
        "import random\n",
        "import shutil\n",
        "import json\n",
        "import zipfile\n",
        "import math\n",
        "import copy\n",
        "import collections\n",
        "import re\n",
        "\n",
        "import matplotlib.pyplot as plt\n",
        "import seaborn as sns\n",
        "from wordcloud import WordCloud\n",
        "import pandas as pd\n",
        "import numpy as np\n",
        "import sentencepiece as spm\n",
        "import tensorflow as tf\n",
        "import tensorflow.keras.backend as K\n",
        "\n",
        "from tqdm.notebook import tqdm"
      ],
      "execution_count": 2,
      "outputs": []
    },
    {
      "cell_type": "code",
      "metadata": {
        "id": "nvjyruUlXtlR"
      },
      "source": [
        "# random seed initialize\n",
        "random_seed = 1234\n",
        "random.seed(random_seed)\n",
        "np.random.seed(random_seed)\n",
        "tf.random.set_seed(random_seed)"
      ],
      "execution_count": 3,
      "outputs": []
    },
    {
      "cell_type": "code",
      "metadata": {
        "id": "BC3fXkhdYcYt",
        "colab": {
          "base_uri": "https://localhost:8080/"
        },
        "outputId": "6433cdae-324c-499a-96ba-2de18957f9fb"
      },
      "source": [
        "!nvidia-smi"
      ],
      "execution_count": 4,
      "outputs": [
        {
          "output_type": "stream",
          "text": [
            "Mon Feb  1 10:15:25 2021       \n",
            "+-----------------------------------------------------------------------------+\n",
            "| NVIDIA-SMI 460.32.03    Driver Version: 418.67       CUDA Version: 10.1     |\n",
            "|-------------------------------+----------------------+----------------------+\n",
            "| GPU  Name        Persistence-M| Bus-Id        Disp.A | Volatile Uncorr. ECC |\n",
            "| Fan  Temp  Perf  Pwr:Usage/Cap|         Memory-Usage | GPU-Util  Compute M. |\n",
            "|                               |                      |               MIG M. |\n",
            "|===============================+======================+======================|\n",
            "|   0  Tesla T4            Off  | 00000000:00:04.0 Off |                    0 |\n",
            "| N/A   57C    P8    10W /  70W |      0MiB / 15079MiB |      0%      Default |\n",
            "|                               |                      |                 ERR! |\n",
            "+-------------------------------+----------------------+----------------------+\n",
            "                                                                               \n",
            "+-----------------------------------------------------------------------------+\n",
            "| Processes:                                                                  |\n",
            "|  GPU   GI   CI        PID   Type   Process name                  GPU Memory |\n",
            "|        ID   ID                                                   Usage      |\n",
            "|=============================================================================|\n",
            "|  No running processes found                                                 |\n",
            "+-----------------------------------------------------------------------------+\n"
          ],
          "name": "stdout"
        }
      ]
    },
    {
      "cell_type": "code",
      "metadata": {
        "id": "xVRdxYReYeQj",
        "colab": {
          "base_uri": "https://localhost:8080/"
        },
        "outputId": "c9b4a810-f96a-467a-a52c-5ff75ec16a36"
      },
      "source": [
        "# google drive mount\n",
        "from google.colab import drive\n",
        "drive.mount('/content/drive')"
      ],
      "execution_count": 5,
      "outputs": [
        {
          "output_type": "stream",
          "text": [
            "Mounted at /content/drive\n"
          ],
          "name": "stdout"
        }
      ]
    },
    {
      "cell_type": "code",
      "metadata": {
        "id": "byCIiLJBbFHh",
        "colab": {
          "base_uri": "https://localhost:8080/"
        },
        "outputId": "7026054f-e96d-406f-d746-527464cbfa88"
      },
      "source": [
        "# data dir\n",
        "data_dir = '/content/drive/MyDrive/kowiki'\n",
        "os.listdir(data_dir)"
      ],
      "execution_count": 10,
      "outputs": [
        {
          "output_type": "execute_result",
          "data": {
            "text/plain": [
              "['ko_32000.model',\n",
              " 'ko_32000.vocab',\n",
              " 'kowiki.txt.zip',\n",
              " 'my_corpus.txt',\n",
              " 'nsmc (1)',\n",
              " 'nsmc',\n",
              " 'quora']"
            ]
          },
          "metadata": {
            "tags": []
          },
          "execution_count": 10
        }
      ]
    },
    {
      "cell_type": "code",
      "metadata": {
        "id": "_Ru56YS3-SME",
        "colab": {
          "base_uri": "https://localhost:8080/"
        },
        "outputId": "b5a857eb-2881-4a0b-a956-3cb9ec413362"
      },
      "source": [
        "# quora dir\n",
        "quora_dir = os.path.join(data_dir, 'quora')\n",
        "if not os.path.exists(quora_dir):\n",
        "    os.makedirs(quora_dir)\n",
        "os.listdir(quora_dir)"
      ],
      "execution_count": 12,
      "outputs": [
        {
          "output_type": "execute_result",
          "data": {
            "text/plain": [
              "['stub.csv', 'stub.hdf5', 'kor_pair_train.csv', 'kor_Pair_test.csv']"
            ]
          },
          "metadata": {
            "tags": []
          },
          "execution_count": 12
        }
      ]
    },
    {
      "cell_type": "markdown",
      "metadata": {
        "id": "XwriCkq_R1Lc"
      },
      "source": [
        "# Vocabulary & config"
      ]
    },
    {
      "cell_type": "code",
      "metadata": {
        "id": "2H0BLydCb7lg",
        "colab": {
          "base_uri": "https://localhost:8080/"
        },
        "outputId": "7dbdd29c-d82f-461d-a4a9-88451256b3dc"
      },
      "source": [
        "# vocab loading\n",
        "vocab = spm.SentencePieceProcessor()\n",
        "vocab.load(os.path.join(data_dir, 'ko_32000.model'))"
      ],
      "execution_count": 13,
      "outputs": [
        {
          "output_type": "execute_result",
          "data": {
            "text/plain": [
              "True"
            ]
          },
          "metadata": {
            "tags": []
          },
          "execution_count": 13
        }
      ]
    },
    {
      "cell_type": "code",
      "metadata": {
        "id": "0ETZ19flTRmt"
      },
      "source": [
        "n_vocab = len(vocab)  # number of vocabulary\n",
        "n_seq_1 = 26  # number of sequence 1\n",
        "n_seq_2 = 27  # number of sequence 2\n",
        "d_model = 256  # dimension of model\n",
        "n_out = 2  # number of output class"
      ],
      "execution_count": 14,
      "outputs": []
    },
    {
      "cell_type": "markdown",
      "metadata": {
        "id": "fsRvlzDzSX9e"
      },
      "source": [
        "# 다운로드\n",
        "- https://github.com/songys/Question_pair"
      ]
    },
    {
      "cell_type": "code",
      "metadata": {
        "id": "BEBQj0AFSXOH",
        "colab": {
          "base_uri": "https://localhost:8080/"
        },
        "outputId": "8575801a-cfc5-4b23-8f89-4a7f488324ad"
      },
      "source": [
        "!wget https://raw.githubusercontent.com/songys/Question_pair/master/kor_pair_train.csv\n",
        "!wget https://raw.githubusercontent.com/songys/Question_pair/master/kor_Pair_test.csv"
      ],
      "execution_count": 15,
      "outputs": [
        {
          "output_type": "stream",
          "text": [
            "--2021-02-01 10:17:47--  https://raw.githubusercontent.com/songys/Question_pair/master/kor_pair_train.csv\n",
            "Resolving raw.githubusercontent.com (raw.githubusercontent.com)... 151.101.0.133, 151.101.64.133, 151.101.128.133, ...\n",
            "Connecting to raw.githubusercontent.com (raw.githubusercontent.com)|151.101.0.133|:443... connected.\n",
            "HTTP request sent, awaiting response... 200 OK\n",
            "Length: 608164 (594K) [text/plain]\n",
            "Saving to: ‘kor_pair_train.csv’\n",
            "\n",
            "kor_pair_train.csv  100%[===================>] 593.91K  --.-KB/s    in 0.03s   \n",
            "\n",
            "2021-02-01 10:17:48 (19.0 MB/s) - ‘kor_pair_train.csv’ saved [608164/608164]\n",
            "\n",
            "--2021-02-01 10:17:48--  https://raw.githubusercontent.com/songys/Question_pair/master/kor_Pair_test.csv\n",
            "Resolving raw.githubusercontent.com (raw.githubusercontent.com)... 151.101.0.133, 151.101.64.133, 151.101.128.133, ...\n",
            "Connecting to raw.githubusercontent.com (raw.githubusercontent.com)|151.101.0.133|:443... connected.\n",
            "HTTP request sent, awaiting response... 200 OK\n",
            "Length: 52943 (52K) [text/plain]\n",
            "Saving to: ‘kor_Pair_test.csv’\n",
            "\n",
            "kor_Pair_test.csv   100%[===================>]  51.70K  --.-KB/s    in 0.007s  \n",
            "\n",
            "2021-02-01 10:17:48 (7.50 MB/s) - ‘kor_Pair_test.csv’ saved [52943/52943]\n",
            "\n"
          ],
          "name": "stdout"
        }
      ]
    },
    {
      "cell_type": "code",
      "metadata": {
        "id": "_L3k4qr5SaVb",
        "colab": {
          "base_uri": "https://localhost:8080/"
        },
        "outputId": "a5ca9990-0c9d-44e6-8811-c46466812091"
      },
      "source": [
        "shutil.move('kor_pair_train.csv', os.path.join(quora_dir, 'kor_pair_train.csv'))\n",
        "shutil.move('kor_Pair_test.csv', os.path.join(quora_dir, 'kor_Pair_test.csv'))\n",
        "os.listdir(quora_dir)"
      ],
      "execution_count": 16,
      "outputs": [
        {
          "output_type": "execute_result",
          "data": {
            "text/plain": [
              "['stub.csv', 'stub.hdf5', 'kor_pair_train.csv', 'kor_Pair_test.csv']"
            ]
          },
          "metadata": {
            "tags": []
          },
          "execution_count": 16
        }
      ]
    },
    {
      "cell_type": "markdown",
      "metadata": {
        "id": "MXrWvdLuhVIu"
      },
      "source": [
        "# 데이터 분석"
      ]
    },
    {
      "cell_type": "code",
      "metadata": {
        "id": "MhP07wT3hXoN",
        "colab": {
          "base_uri": "https://localhost:8080/",
          "height": 402
        },
        "outputId": "b4f4cc0e-0d3a-468c-8d2f-afa5ef97c02f"
      },
      "source": [
        "# train data load\n",
        "df_train = pd.read_csv(os.path.join(quora_dir, 'kor_pair_train.csv'), delimiter=',')\n",
        "df_train"
      ],
      "execution_count": 17,
      "outputs": [
        {
          "output_type": "execute_result",
          "data": {
            "text/html": [
              "<div>\n",
              "<style scoped>\n",
              "    .dataframe tbody tr th:only-of-type {\n",
              "        vertical-align: middle;\n",
              "    }\n",
              "\n",
              "    .dataframe tbody tr th {\n",
              "        vertical-align: top;\n",
              "    }\n",
              "\n",
              "    .dataframe thead th {\n",
              "        text-align: right;\n",
              "    }\n",
              "</style>\n",
              "<table border=\"1\" class=\"dataframe\">\n",
              "  <thead>\n",
              "    <tr style=\"text-align: right;\">\n",
              "      <th></th>\n",
              "      <th>id</th>\n",
              "      <th>qid1</th>\n",
              "      <th>qid2</th>\n",
              "      <th>question1</th>\n",
              "      <th>question2</th>\n",
              "      <th>is_duplicate</th>\n",
              "    </tr>\n",
              "  </thead>\n",
              "  <tbody>\n",
              "    <tr>\n",
              "      <th>0</th>\n",
              "      <td>1</td>\n",
              "      <td>1</td>\n",
              "      <td>2</td>\n",
              "      <td>1000일 만난 여자친구와 이별</td>\n",
              "      <td>10년 연예의끝</td>\n",
              "      <td>1</td>\n",
              "    </tr>\n",
              "    <tr>\n",
              "      <th>1</th>\n",
              "      <td>2</td>\n",
              "      <td>3</td>\n",
              "      <td>4</td>\n",
              "      <td>10년 연애사 되돌아보니 다 부질없네</td>\n",
              "      <td>10년이라는 시간이 참 무색하다 싶네</td>\n",
              "      <td>1</td>\n",
              "    </tr>\n",
              "    <tr>\n",
              "      <th>2</th>\n",
              "      <td>3</td>\n",
              "      <td>5</td>\n",
              "      <td>6</td>\n",
              "      <td>10년만나다 헤어지네</td>\n",
              "      <td>14년된 여자친구랑 이별</td>\n",
              "      <td>1</td>\n",
              "    </tr>\n",
              "    <tr>\n",
              "      <th>3</th>\n",
              "      <td>4</td>\n",
              "      <td>7</td>\n",
              "      <td>8</td>\n",
              "      <td>10월의 마지막밤 . 더 보고싶네 그사람</td>\n",
              "      <td>15년…안녕</td>\n",
              "      <td>1</td>\n",
              "    </tr>\n",
              "    <tr>\n",
              "      <th>4</th>\n",
              "      <td>5</td>\n",
              "      <td>9</td>\n",
              "      <td>10</td>\n",
              "      <td>14년의 기나긴 이야기.</td>\n",
              "      <td>1년 9개월 의 연애 종지부.</td>\n",
              "      <td>1</td>\n",
              "    </tr>\n",
              "    <tr>\n",
              "      <th>...</th>\n",
              "      <td>...</td>\n",
              "      <td>...</td>\n",
              "      <td>...</td>\n",
              "      <td>...</td>\n",
              "      <td>...</td>\n",
              "      <td>...</td>\n",
              "    </tr>\n",
              "    <tr>\n",
              "      <th>6883</th>\n",
              "      <td>6884</td>\n",
              "      <td>13767</td>\n",
              "      <td>13768</td>\n",
              "      <td>O형 남자와 썸을 타는데</td>\n",
              "      <td>O형 여자와 썸을 타는데</td>\n",
              "      <td>1</td>\n",
              "    </tr>\n",
              "    <tr>\n",
              "      <th>6884</th>\n",
              "      <td>6885</td>\n",
              "      <td>13769</td>\n",
              "      <td>13770</td>\n",
              "      <td>SD카드 안돼</td>\n",
              "      <td>SD카드 망가졌어</td>\n",
              "      <td>0</td>\n",
              "    </tr>\n",
              "    <tr>\n",
              "      <th>6885</th>\n",
              "      <td>6886</td>\n",
              "      <td>13771</td>\n",
              "      <td>13772</td>\n",
              "      <td>SNS 를 끊어야 하는데.</td>\n",
              "      <td>가슴 아픈 이별</td>\n",
              "      <td>1</td>\n",
              "    </tr>\n",
              "    <tr>\n",
              "      <th>6886</th>\n",
              "      <td>6887</td>\n",
              "      <td>13773</td>\n",
              "      <td>13774</td>\n",
              "      <td>SNS 시간낭비인데 자꾸 보게됨</td>\n",
              "      <td>SNS 시간낭비인 거 아는데 매일 하는 중</td>\n",
              "      <td>0</td>\n",
              "    </tr>\n",
              "    <tr>\n",
              "      <th>6887</th>\n",
              "      <td>6888</td>\n",
              "      <td>13775</td>\n",
              "      <td>13776</td>\n",
              "      <td>sns에서 다른 이성이랑 대화하는걸 보니 화가 나</td>\n",
              "      <td>가슴에 구멍이 너무 커.</td>\n",
              "      <td>1</td>\n",
              "    </tr>\n",
              "  </tbody>\n",
              "</table>\n",
              "<p>6888 rows × 6 columns</p>\n",
              "</div>"
            ],
            "text/plain": [
              "        id   qid1  ...                question2 is_duplicate\n",
              "0        1      1  ...                 10년 연예의끝            1\n",
              "1        2      3  ...     10년이라는 시간이 참 무색하다 싶네            1\n",
              "2        3      5  ...            14년된 여자친구랑 이별            1\n",
              "3        4      7  ...                   15년…안녕            1\n",
              "4        5      9  ...         1년 9개월 의 연애 종지부.            1\n",
              "...    ...    ...  ...                      ...          ...\n",
              "6883  6884  13767  ...            O형 여자와 썸을 타는데            1\n",
              "6884  6885  13769  ...                SD카드 망가졌어            0\n",
              "6885  6886  13771  ...                 가슴 아픈 이별            1\n",
              "6886  6887  13773  ...  SNS 시간낭비인 거 아는데 매일 하는 중            0\n",
              "6887  6888  13775  ...            가슴에 구멍이 너무 커.            1\n",
              "\n",
              "[6888 rows x 6 columns]"
            ]
          },
          "metadata": {
            "tags": []
          },
          "execution_count": 17
        }
      ]
    },
    {
      "cell_type": "code",
      "metadata": {
        "id": "f0aL5Ve6iVbk",
        "colab": {
          "base_uri": "https://localhost:8080/",
          "height": 402
        },
        "outputId": "2529d72d-f3c8-43e3-d721-1c1713e93d96"
      },
      "source": [
        "# train null 데이터 제거\n",
        "df_train = df_train.dropna()\n",
        "df_train"
      ],
      "execution_count": 18,
      "outputs": [
        {
          "output_type": "execute_result",
          "data": {
            "text/html": [
              "<div>\n",
              "<style scoped>\n",
              "    .dataframe tbody tr th:only-of-type {\n",
              "        vertical-align: middle;\n",
              "    }\n",
              "\n",
              "    .dataframe tbody tr th {\n",
              "        vertical-align: top;\n",
              "    }\n",
              "\n",
              "    .dataframe thead th {\n",
              "        text-align: right;\n",
              "    }\n",
              "</style>\n",
              "<table border=\"1\" class=\"dataframe\">\n",
              "  <thead>\n",
              "    <tr style=\"text-align: right;\">\n",
              "      <th></th>\n",
              "      <th>id</th>\n",
              "      <th>qid1</th>\n",
              "      <th>qid2</th>\n",
              "      <th>question1</th>\n",
              "      <th>question2</th>\n",
              "      <th>is_duplicate</th>\n",
              "    </tr>\n",
              "  </thead>\n",
              "  <tbody>\n",
              "    <tr>\n",
              "      <th>0</th>\n",
              "      <td>1</td>\n",
              "      <td>1</td>\n",
              "      <td>2</td>\n",
              "      <td>1000일 만난 여자친구와 이별</td>\n",
              "      <td>10년 연예의끝</td>\n",
              "      <td>1</td>\n",
              "    </tr>\n",
              "    <tr>\n",
              "      <th>1</th>\n",
              "      <td>2</td>\n",
              "      <td>3</td>\n",
              "      <td>4</td>\n",
              "      <td>10년 연애사 되돌아보니 다 부질없네</td>\n",
              "      <td>10년이라는 시간이 참 무색하다 싶네</td>\n",
              "      <td>1</td>\n",
              "    </tr>\n",
              "    <tr>\n",
              "      <th>2</th>\n",
              "      <td>3</td>\n",
              "      <td>5</td>\n",
              "      <td>6</td>\n",
              "      <td>10년만나다 헤어지네</td>\n",
              "      <td>14년된 여자친구랑 이별</td>\n",
              "      <td>1</td>\n",
              "    </tr>\n",
              "    <tr>\n",
              "      <th>3</th>\n",
              "      <td>4</td>\n",
              "      <td>7</td>\n",
              "      <td>8</td>\n",
              "      <td>10월의 마지막밤 . 더 보고싶네 그사람</td>\n",
              "      <td>15년…안녕</td>\n",
              "      <td>1</td>\n",
              "    </tr>\n",
              "    <tr>\n",
              "      <th>4</th>\n",
              "      <td>5</td>\n",
              "      <td>9</td>\n",
              "      <td>10</td>\n",
              "      <td>14년의 기나긴 이야기.</td>\n",
              "      <td>1년 9개월 의 연애 종지부.</td>\n",
              "      <td>1</td>\n",
              "    </tr>\n",
              "    <tr>\n",
              "      <th>...</th>\n",
              "      <td>...</td>\n",
              "      <td>...</td>\n",
              "      <td>...</td>\n",
              "      <td>...</td>\n",
              "      <td>...</td>\n",
              "      <td>...</td>\n",
              "    </tr>\n",
              "    <tr>\n",
              "      <th>6883</th>\n",
              "      <td>6884</td>\n",
              "      <td>13767</td>\n",
              "      <td>13768</td>\n",
              "      <td>O형 남자와 썸을 타는데</td>\n",
              "      <td>O형 여자와 썸을 타는데</td>\n",
              "      <td>1</td>\n",
              "    </tr>\n",
              "    <tr>\n",
              "      <th>6884</th>\n",
              "      <td>6885</td>\n",
              "      <td>13769</td>\n",
              "      <td>13770</td>\n",
              "      <td>SD카드 안돼</td>\n",
              "      <td>SD카드 망가졌어</td>\n",
              "      <td>0</td>\n",
              "    </tr>\n",
              "    <tr>\n",
              "      <th>6885</th>\n",
              "      <td>6886</td>\n",
              "      <td>13771</td>\n",
              "      <td>13772</td>\n",
              "      <td>SNS 를 끊어야 하는데.</td>\n",
              "      <td>가슴 아픈 이별</td>\n",
              "      <td>1</td>\n",
              "    </tr>\n",
              "    <tr>\n",
              "      <th>6886</th>\n",
              "      <td>6887</td>\n",
              "      <td>13773</td>\n",
              "      <td>13774</td>\n",
              "      <td>SNS 시간낭비인데 자꾸 보게됨</td>\n",
              "      <td>SNS 시간낭비인 거 아는데 매일 하는 중</td>\n",
              "      <td>0</td>\n",
              "    </tr>\n",
              "    <tr>\n",
              "      <th>6887</th>\n",
              "      <td>6888</td>\n",
              "      <td>13775</td>\n",
              "      <td>13776</td>\n",
              "      <td>sns에서 다른 이성이랑 대화하는걸 보니 화가 나</td>\n",
              "      <td>가슴에 구멍이 너무 커.</td>\n",
              "      <td>1</td>\n",
              "    </tr>\n",
              "  </tbody>\n",
              "</table>\n",
              "<p>6888 rows × 6 columns</p>\n",
              "</div>"
            ],
            "text/plain": [
              "        id   qid1  ...                question2 is_duplicate\n",
              "0        1      1  ...                 10년 연예의끝            1\n",
              "1        2      3  ...     10년이라는 시간이 참 무색하다 싶네            1\n",
              "2        3      5  ...            14년된 여자친구랑 이별            1\n",
              "3        4      7  ...                   15년…안녕            1\n",
              "4        5      9  ...         1년 9개월 의 연애 종지부.            1\n",
              "...    ...    ...  ...                      ...          ...\n",
              "6883  6884  13767  ...            O형 여자와 썸을 타는데            1\n",
              "6884  6885  13769  ...                SD카드 망가졌어            0\n",
              "6885  6886  13771  ...                 가슴 아픈 이별            1\n",
              "6886  6887  13773  ...  SNS 시간낭비인 거 아는데 매일 하는 중            0\n",
              "6887  6888  13775  ...            가슴에 구멍이 너무 커.            1\n",
              "\n",
              "[6888 rows x 6 columns]"
            ]
          },
          "metadata": {
            "tags": []
          },
          "execution_count": 18
        }
      ]
    },
    {
      "cell_type": "markdown",
      "metadata": {
        "id": "iCtHjN1jiPBl"
      },
      "source": [
        "## Char"
      ]
    },
    {
      "cell_type": "markdown",
      "metadata": {
        "id": "8BJA69lTf6_P"
      },
      "source": [
        "### question1"
      ]
    },
    {
      "cell_type": "code",
      "metadata": {
        "colab": {
          "base_uri": "https://localhost:8080/"
        },
        "id": "WHtRNTBoiOck",
        "outputId": "443411f9-832a-4d0d-f307-2c4a644156e1"
      },
      "source": [
        "# char 길이 데이터\n",
        "char_len = df_train['question1'].astype(\"str\").apply(len)\n",
        "char_len.head(10)"
      ],
      "execution_count": 55,
      "outputs": [
        {
          "output_type": "execute_result",
          "data": {
            "text/plain": [
              "0    17\n",
              "1    20\n",
              "2    11\n",
              "3    22\n",
              "4    13\n",
              "5    12\n",
              "6     5\n",
              "7    11\n",
              "8    14\n",
              "9    20\n",
              "Name: question1, dtype: int64"
            ]
          },
          "metadata": {
            "tags": []
          },
          "execution_count": 55
        }
      ]
    },
    {
      "cell_type": "code",
      "metadata": {
        "colab": {
          "base_uri": "https://localhost:8080/",
          "height": 295
        },
        "id": "1hFnO7mOikBU",
        "outputId": "c1cd6a8d-8a7d-4dd9-91d6-c920db56b062"
      },
      "source": [
        "# 그래프에 대한 이미지 사이즈 선언\n",
        "# figsize: (가로, 세로) 형태의 튜플로 입력\n",
        "plt.figure(figsize=(8, 4))\n",
        "# histogram 선언\n",
        "# bins: 히스토그램 값들에 대한 버켓 범위, \n",
        "# range: x축 값의 범위\n",
        "# facecolor: 그래프 색상\n",
        "# label: 그래프에 대한 라벨\n",
        "plt.hist(char_len, bins=60, range=[0, 60], facecolor='r', label='train')\n",
        "# 그래프 제목\n",
        "plt.title('Lengh of char')\n",
        "# 그래프 x 축 라벨\n",
        "plt.xlabel('Number of char')\n",
        "# 그래프 y 축 라벨\n",
        "plt.ylabel('Count of review')\n",
        "plt.show()"
      ],
      "execution_count": 56,
      "outputs": [
        {
          "output_type": "display_data",
          "data": {
            "image/png": "[encoded data removed]",
            "text/plain": [
              "<Figure size 576x288 with 1 Axes>"
            ]
          },
          "metadata": {
            "tags": [],
            "needs_background": "light"
          }
        }
      ]
    },
    {
      "cell_type": "code",
      "metadata": {
        "colab": {
          "base_uri": "https://localhost:8080/"
        },
        "id": "sOyYWAgWipKs",
        "outputId": "e6ce3623-91a9-4536-b7e8-36af74b9829b"
      },
      "source": [
        "# 데이터 길이\n",
        "print(f\"char 길이 최대:    {np.max(char_len):4d}\")\n",
        "print(f\"char 길이 최소:    {np.min(char_len):4d}\")\n",
        "print(f\"char 길이 평균:    {np.mean(char_len):7.2f}\")\n",
        "print(f\"char 길이 표준편차: {np.std(char_len):7.2f}\")\n",
        "# https://ko.wikipedia.org/wiki/%EB%B0%B1%EB%B6%84%EC%9C%84%EC%88%98\n",
        "# 백분위수(Percentile)는 크기가 있는 값들로 이뤄진 자료를 순서대로 나열했을 때 백분율로 나타낸 특정 위치의 값을 이르는 용어이다.\n",
        "# 일반적으로 크기가 작은 것부터 나열하여 가장 작은 것을 0, 가장 큰 것을 100으로 한다.\n",
        "# 100개의 값을 가진 어떤 자료의 20 백분위수는 그 자료의 값들 중 20번째로 작은 값을 뜻한다. 50 백분위수는 중앙값과 같다.\n",
        "percentile25 = np.percentile(char_len, 25)\n",
        "percentile50 = np.percentile(char_len, 50)\n",
        "percentile75 = np.percentile(char_len, 75)\n",
        "percentileIQR = percentile75 - percentile25\n",
        "percentileMAX = percentile75 + percentileIQR * 1.5\n",
        "print(f\"char 25/100분위:  {percentile25:7.2f}\")\n",
        "print(f\"char 50/100분위:  {percentile50:7.2f}\")\n",
        "print(f\"char 75/100분위:  {percentile75:7.2f}\")\n",
        "print(f\"char IQR:        {percentileIQR:7.2f}\")\n",
        "print(f\"char MAX/100분위: {percentileMAX:7.2f}\")"
      ],
      "execution_count": 57,
      "outputs": [
        {
          "output_type": "stream",
          "text": [
            "char 길이 최대:      47\n",
            "char 길이 최소:       1\n",
            "char 길이 평균:      13.60\n",
            "char 길이 표준편차:    6.40\n",
            "char 25/100분위:     9.00\n",
            "char 50/100분위:    12.00\n",
            "char 75/100분위:    17.00\n",
            "char IQR:           8.00\n",
            "char MAX/100분위:   29.00\n"
          ],
          "name": "stdout"
        }
      ]
    },
    {
      "cell_type": "code",
      "metadata": {
        "colab": {
          "base_uri": "https://localhost:8080/",
          "height": 374
        },
        "id": "TWVI7cQNjXKZ",
        "outputId": "d1ff50c5-6fa2-4220-82d9-e96934eaf4f4"
      },
      "source": [
        "plt.figure(figsize=(4, 6))\n",
        "# 박스플롯 생성\n",
        "# 첫번째 파라메터: 여러 분포에 대한 데이터 리스트를\n",
        "# labels: 입력한 데이터에 대한 라벨\n",
        "# showmeans: 평균값을 표현\n",
        "# 참고: https://leebaro.tistory.com/entry/%EB%B0%95%EC%8A%A4-%ED%94%8C%EB%A1%AFbox-plot-%EC%84%A4%EB%AA%85\n",
        "plt.boxplot(char_len, labels=['char counts'], showmeans=True)\n",
        "plt.show()"
      ],
      "execution_count": 58,
      "outputs": [
        {
          "output_type": "display_data",
          "data": {
            "image/png": "[encoded data removed]",
            "text/plain": [
              "<Figure size 288x432 with 1 Axes>"
            ]
          },
          "metadata": {
            "tags": [],
            "needs_background": "light"
          }
        }
      ]
    },
    {
      "cell_type": "markdown",
      "metadata": {
        "id": "vuf2hfnmgPtJ"
      },
      "source": [
        "### question2"
      ]
    },
    {
      "cell_type": "code",
      "metadata": {
        "colab": {
          "base_uri": "https://localhost:8080/"
        },
        "id": "3KpYJ-pogPtK",
        "outputId": "9b1d49a6-90e5-4e5f-ae5b-753286b34e90"
      },
      "source": [
        "# char 길이 데이터\n",
        "char_len = df_train['question2'].astype(\"str\").apply(len)\n",
        "char_len.head(10)"
      ],
      "execution_count": 59,
      "outputs": [
        {
          "output_type": "execute_result",
          "data": {
            "text/plain": [
              "0     8\n",
              "1    20\n",
              "2    13\n",
              "3     6\n",
              "4    16\n",
              "5    15\n",
              "6    18\n",
              "7    12\n",
              "8     9\n",
              "9     8\n",
              "Name: question2, dtype: int64"
            ]
          },
          "metadata": {
            "tags": []
          },
          "execution_count": 59
        }
      ]
    },
    {
      "cell_type": "code",
      "metadata": {
        "colab": {
          "base_uri": "https://localhost:8080/",
          "height": 295
        },
        "id": "bxB0kK6ZgPtK",
        "outputId": "fdbbd19a-d794-45d9-a231-452719adf3c5"
      },
      "source": [
        "# 그래프에 대한 이미지 사이즈 선언\n",
        "# figsize: (가로, 세로) 형태의 튜플로 입력\n",
        "plt.figure(figsize=(8, 4))\n",
        "# histogram 선언\n",
        "# bins: 히스토그램 값들에 대한 버켓 범위, \n",
        "# range: x축 값의 범위\n",
        "# facecolor: 그래프 색상\n",
        "# label: 그래프에 대한 라벨\n",
        "plt.hist(char_len, bins=60, range=[0, 60], facecolor='r', label='train')\n",
        "# 그래프 제목\n",
        "plt.title('Lengh of char')\n",
        "# 그래프 x 축 라벨\n",
        "plt.xlabel('Number of char')\n",
        "# 그래프 y 축 라벨\n",
        "plt.ylabel('Count of review')\n",
        "plt.show()"
      ],
      "execution_count": 60,
      "outputs": [
        {
          "output_type": "display_data",
          "data": {
            "image/png": "[encoded data removed]",
            "text/plain": [
              "<Figure size 576x288 with 1 Axes>"
            ]
          },
          "metadata": {
            "tags": [],
            "needs_background": "light"
          }
        }
      ]
    },
    {
      "cell_type": "code",
      "metadata": {
        "colab": {
          "base_uri": "https://localhost:8080/"
        },
        "id": "csmytKFngPtL",
        "outputId": "0529098e-f319-4164-fcee-1c142eba1966"
      },
      "source": [
        "# 데이터 길이\n",
        "print(f\"char 길이 최대:    {np.max(char_len):4d}\")\n",
        "print(f\"char 길이 최소:    {np.min(char_len):4d}\")\n",
        "print(f\"char 길이 평균:    {np.mean(char_len):7.2f}\")\n",
        "print(f\"char 길이 표준편차: {np.std(char_len):7.2f}\")\n",
        "# https://ko.wikipedia.org/wiki/%EB%B0%B1%EB%B6%84%EC%9C%84%EC%88%98\n",
        "# 백분위수(Percentile)는 크기가 있는 값들로 이뤄진 자료를 순서대로 나열했을 때 백분율로 나타낸 특정 위치의 값을 이르는 용어이다.\n",
        "# 일반적으로 크기가 작은 것부터 나열하여 가장 작은 것을 0, 가장 큰 것을 100으로 한다.\n",
        "# 100개의 값을 가진 어떤 자료의 20 백분위수는 그 자료의 값들 중 20번째로 작은 값을 뜻한다. 50 백분위수는 중앙값과 같다.\n",
        "percentile25 = np.percentile(char_len, 25)\n",
        "percentile50 = np.percentile(char_len, 50)\n",
        "percentile75 = np.percentile(char_len, 75)\n",
        "percentileIQR = percentile75 - percentile25\n",
        "percentileMAX = percentile75 + percentileIQR * 1.5\n",
        "print(f\"char 25/100분위:  {percentile25:7.2f}\")\n",
        "print(f\"char 50/100분위:  {percentile50:7.2f}\")\n",
        "print(f\"char 75/100분위:  {percentile75:7.2f}\")\n",
        "print(f\"char IQR:        {percentileIQR:7.2f}\")\n",
        "print(f\"char MAX/100분위: {percentileMAX:7.2f}\")"
      ],
      "execution_count": 61,
      "outputs": [
        {
          "output_type": "stream",
          "text": [
            "char 길이 최대:      56\n",
            "char 길이 최소:       1\n",
            "char 길이 평균:      13.30\n",
            "char 길이 표준편차:    6.22\n",
            "char 25/100분위:     9.00\n",
            "char 50/100분위:    12.00\n",
            "char 75/100분위:    17.00\n",
            "char IQR:           8.00\n",
            "char MAX/100분위:   29.00\n"
          ],
          "name": "stdout"
        }
      ]
    },
    {
      "cell_type": "code",
      "metadata": {
        "colab": {
          "base_uri": "https://localhost:8080/",
          "height": 374
        },
        "id": "J-l0t3u1gPtL",
        "outputId": "c4abe288-3266-4a25-a53a-727efaa9a1bf"
      },
      "source": [
        "plt.figure(figsize=(4, 6))\n",
        "# 박스플롯 생성\n",
        "# 첫번째 파라메터: 여러 분포에 대한 데이터 리스트를\n",
        "# labels: 입력한 데이터에 대한 라벨\n",
        "# showmeans: 평균값을 표현\n",
        "# 참고: https://leebaro.tistory.com/entry/%EB%B0%95%EC%8A%A4-%ED%94%8C%EB%A1%AFbox-plot-%EC%84%A4%EB%AA%85\n",
        "plt.boxplot(char_len, labels=['char counts'], showmeans=True)\n",
        "plt.show()"
      ],
      "execution_count": 62,
      "outputs": [
        {
          "output_type": "display_data",
          "data": {
            "image/png": "[encoded data removed]",
            "text/plain": [
              "<Figure size 288x432 with 1 Axes>"
            ]
          },
          "metadata": {
            "tags": [],
            "needs_background": "light"
          }
        }
      ]
    },
    {
      "cell_type": "markdown",
      "metadata": {
        "id": "z5vUjpBDjvwM"
      },
      "source": [
        "## Word"
      ]
    },
    {
      "cell_type": "markdown",
      "metadata": {
        "id": "0wOb77mrgo2j"
      },
      "source": [
        "### question1"
      ]
    },
    {
      "cell_type": "code",
      "metadata": {
        "colab": {
          "base_uri": "https://localhost:8080/"
        },
        "id": "6H_Rp3N5jvwX",
        "outputId": "7805e3bc-dd93-4f13-af34-74035fd8d357"
      },
      "source": [
        "# word 길이 데이터\n",
        "word_len = df_train['question1'].astype(str).apply(lambda x:len(x.split(' ')))\n",
        "word_len.head(10)"
      ],
      "execution_count": 63,
      "outputs": [
        {
          "output_type": "execute_result",
          "data": {
            "text/plain": [
              "0    4\n",
              "1    5\n",
              "2    2\n",
              "3    6\n",
              "4    3\n",
              "5    3\n",
              "6    2\n",
              "7    3\n",
              "8    3\n",
              "9    5\n",
              "Name: question1, dtype: int64"
            ]
          },
          "metadata": {
            "tags": []
          },
          "execution_count": 63
        }
      ]
    },
    {
      "cell_type": "code",
      "metadata": {
        "colab": {
          "base_uri": "https://localhost:8080/",
          "height": 295
        },
        "id": "P26X6GHQjvwY",
        "outputId": "54e76207-5efe-4c4e-8b8e-22d6e79eb474"
      },
      "source": [
        "# 그래프에 대한 이미지 사이즈 선언\n",
        "# figsize: (가로, 세로) 형태의 튜플로 입력\n",
        "plt.figure(figsize=(8, 4))\n",
        "# histogram 선언\n",
        "# bins: 히스토그램 값들에 대한 버켓 범위, \n",
        "# range: x축 값의 범위\n",
        "# facecolor: 그래프 색상\n",
        "# label: 그래프에 대한 라벨\n",
        "plt.hist(word_len, bins=15, range=[0, 15], facecolor='r', label='train')\n",
        "# 그래프 제목\n",
        "plt.title('Lengh of word')\n",
        "# 그래프 x 축 라벨\n",
        "plt.xlabel('Number of word')\n",
        "# 그래프 y 축 라벨\n",
        "plt.ylabel('Count of review')\n",
        "plt.show()"
      ],
      "execution_count": 64,
      "outputs": [
        {
          "output_type": "display_data",
          "data": {
            "image/png": "[encoded data removed]",
            "text/plain": [
              "<Figure size 576x288 with 1 Axes>"
            ]
          },
          "metadata": {
            "tags": [],
            "needs_background": "light"
          }
        }
      ]
    },
    {
      "cell_type": "code",
      "metadata": {
        "colab": {
          "base_uri": "https://localhost:8080/"
        },
        "id": "2eW21IJ8jvwa",
        "outputId": "4b5a37bc-6306-4a67-d8f2-6259a45a3733"
      },
      "source": [
        "# 데이터 길이\n",
        "print(f\"word 길이 최대:    {np.max(word_len):4d}\")\n",
        "print(f\"word 길이 최소:    {np.min(word_len):4d}\")\n",
        "print(f\"word 길이 평균:    {np.mean(word_len):7.2f}\")\n",
        "print(f\"word 길이 표준편차: {np.std(word_len):7.2f}\")\n",
        "# https://ko.wikipedia.org/wiki/%EB%B0%B1%EB%B6%84%EC%9C%84%EC%88%98\n",
        "# 백분위수(Percentile)는 크기가 있는 값들로 이뤄진 자료를 순서대로 나열했을 때 백분율로 나타낸 특정 위치의 값을 이르는 용어이다.\n",
        "# 일반적으로 크기가 작은 것부터 나열하여 가장 작은 것을 0, 가장 큰 것을 100으로 한다.\n",
        "# 100개의 값을 가진 어떤 자료의 20 백분위수는 그 자료의 값들 중 20번째로 작은 값을 뜻한다. 50 백분위수는 중앙값과 같다.\n",
        "percentile25 = np.percentile(word_len, 25)\n",
        "percentile50 = np.percentile(word_len, 50)\n",
        "percentile75 = np.percentile(word_len, 75)\n",
        "percentileIQR = percentile75 - percentile25\n",
        "percentileMAX = percentile75 + percentileIQR * 1.5\n",
        "print(f\"word 25/100분위:  {percentile25:7.2f}\")\n",
        "print(f\"word 50/100분위:  {percentile50:7.2f}\")\n",
        "print(f\"word 75/100분위:  {percentile75:7.2f}\")\n",
        "print(f\"word IQR:        {percentileIQR:7.2f}\")\n",
        "print(f\"word MAX/100분위: {percentileMAX:7.2f}\")"
      ],
      "execution_count": 65,
      "outputs": [
        {
          "output_type": "stream",
          "text": [
            "word 길이 최대:      12\n",
            "word 길이 최소:       1\n",
            "word 길이 평균:       3.77\n",
            "word 길이 표준편차:    1.67\n",
            "word 25/100분위:     3.00\n",
            "word 50/100분위:     4.00\n",
            "word 75/100분위:     5.00\n",
            "word IQR:           2.00\n",
            "word MAX/100분위:    8.00\n"
          ],
          "name": "stdout"
        }
      ]
    },
    {
      "cell_type": "code",
      "metadata": {
        "colab": {
          "base_uri": "https://localhost:8080/",
          "height": 374
        },
        "id": "NerMTgt_jvwa",
        "outputId": "c0f5a8ed-7735-44b4-be33-c08cd4c4e0d6"
      },
      "source": [
        "plt.figure(figsize=(4, 6))\n",
        "# 박스플롯 생성\n",
        "# 첫번째 파라메터: 여러 분포에 대한 데이터 리스트를\n",
        "# labels: 입력한 데이터에 대한 라벨\n",
        "# showmeans: 평균값을 표현\n",
        "# 참고: https://leebaro.tistory.com/entry/%EB%B0%95%EC%8A%A4-%ED%94%8C%EB%A1%AFbox-plot-%EC%84%A4%EB%AA%85\n",
        "plt.boxplot(word_len, labels=['word counts'], showmeans=True)\n",
        "plt.show()"
      ],
      "execution_count": 66,
      "outputs": [
        {
          "output_type": "display_data",
          "data": {
            "image/png": "[encoded data removed]",
            "text/plain": [
              "<Figure size 288x432 with 1 Axes>"
            ]
          },
          "metadata": {
            "tags": [],
            "needs_background": "light"
          }
        }
      ]
    },
    {
      "cell_type": "markdown",
      "metadata": {
        "id": "aAf5NLDXg1ri"
      },
      "source": [
        "### question2"
      ]
    },
    {
      "cell_type": "code",
      "metadata": {
        "colab": {
          "base_uri": "https://localhost:8080/"
        },
        "id": "KSwFC-_Gg1rj",
        "outputId": "079023d7-b260-4c19-bf3f-ebce94443693"
      },
      "source": [
        "# word 길이 데이터\n",
        "word_len = df_train['question2'].astype(str).apply(lambda x:len(x.split(' ')))\n",
        "word_len.head(10)"
      ],
      "execution_count": 67,
      "outputs": [
        {
          "output_type": "execute_result",
          "data": {
            "text/plain": [
              "0    2\n",
              "1    5\n",
              "2    3\n",
              "3    1\n",
              "4    5\n",
              "5    3\n",
              "6    5\n",
              "7    3\n",
              "8    2\n",
              "9    2\n",
              "Name: question2, dtype: int64"
            ]
          },
          "metadata": {
            "tags": []
          },
          "execution_count": 67
        }
      ]
    },
    {
      "cell_type": "code",
      "metadata": {
        "colab": {
          "base_uri": "https://localhost:8080/",
          "height": 295
        },
        "id": "CnikZCQCg1rj",
        "outputId": "d8cb5931-94f8-4f5e-8cca-f5c86d1c6da1"
      },
      "source": [
        "# 그래프에 대한 이미지 사이즈 선언\n",
        "# figsize: (가로, 세로) 형태의 튜플로 입력\n",
        "plt.figure(figsize=(8, 4))\n",
        "# histogram 선언\n",
        "# bins: 히스토그램 값들에 대한 버켓 범위, \n",
        "# range: x축 값의 범위\n",
        "# facecolor: 그래프 색상\n",
        "# label: 그래프에 대한 라벨\n",
        "plt.hist(word_len, bins=15, range=[0, 15], facecolor='r', label='train')\n",
        "# 그래프 제목\n",
        "plt.title('Lengh of word')\n",
        "# 그래프 x 축 라벨\n",
        "plt.xlabel('Number of word')\n",
        "# 그래프 y 축 라벨\n",
        "plt.ylabel('Count of review')\n",
        "plt.show()"
      ],
      "execution_count": 68,
      "outputs": [
        {
          "output_type": "display_data",
          "data": {
            "image/png": "[encoded data removed]",
            "text/plain": [
              "<Figure size 576x288 with 1 Axes>"
            ]
          },
          "metadata": {
            "tags": [],
            "needs_background": "light"
          }
        }
      ]
    },
    {
      "cell_type": "code",
      "metadata": {
        "colab": {
          "base_uri": "https://localhost:8080/"
        },
        "id": "Ji9DXHsSg1rk",
        "outputId": "0c025506-e4cc-4579-b408-fa665cf38573"
      },
      "source": [
        "# 데이터 길이\n",
        "print(f\"word 길이 최대:    {np.max(word_len):4d}\")\n",
        "print(f\"word 길이 최소:    {np.min(word_len):4d}\")\n",
        "print(f\"word 길이 평균:    {np.mean(word_len):7.2f}\")\n",
        "print(f\"word 길이 표준편차: {np.std(word_len):7.2f}\")\n",
        "# https://ko.wikipedia.org/wiki/%EB%B0%B1%EB%B6%84%EC%9C%84%EC%88%98\n",
        "# 백분위수(Percentile)는 크기가 있는 값들로 이뤄진 자료를 순서대로 나열했을 때 백분율로 나타낸 특정 위치의 값을 이르는 용어이다.\n",
        "# 일반적으로 크기가 작은 것부터 나열하여 가장 작은 것을 0, 가장 큰 것을 100으로 한다.\n",
        "# 100개의 값을 가진 어떤 자료의 20 백분위수는 그 자료의 값들 중 20번째로 작은 값을 뜻한다. 50 백분위수는 중앙값과 같다.\n",
        "percentile25 = np.percentile(word_len, 25)\n",
        "percentile50 = np.percentile(word_len, 50)\n",
        "percentile75 = np.percentile(word_len, 75)\n",
        "percentileIQR = percentile75 - percentile25\n",
        "percentileMAX = percentile75 + percentileIQR * 1.5\n",
        "print(f\"word 25/100분위:  {percentile25:7.2f}\")\n",
        "print(f\"word 50/100분위:  {percentile50:7.2f}\")\n",
        "print(f\"word 75/100분위:  {percentile75:7.2f}\")\n",
        "print(f\"word IQR:        {percentileIQR:7.2f}\")\n",
        "print(f\"word MAX/100분위: {percentileMAX:7.2f}\")"
      ],
      "execution_count": 69,
      "outputs": [
        {
          "output_type": "stream",
          "text": [
            "word 길이 최대:      15\n",
            "word 길이 최소:       1\n",
            "word 길이 평균:       3.69\n",
            "word 길이 표준편차:    1.63\n",
            "word 25/100분위:     3.00\n",
            "word 50/100분위:     3.00\n",
            "word 75/100분위:     5.00\n",
            "word IQR:           2.00\n",
            "word MAX/100분위:    8.00\n"
          ],
          "name": "stdout"
        }
      ]
    },
    {
      "cell_type": "code",
      "metadata": {
        "colab": {
          "base_uri": "https://localhost:8080/",
          "height": 374
        },
        "id": "FDYnKKC4g1rk",
        "outputId": "fed92b28-4529-4b42-9dbc-ef5f5e1b0a53"
      },
      "source": [
        "plt.figure(figsize=(4, 6))\n",
        "# 박스플롯 생성\n",
        "# 첫번째 파라메터: 여러 분포에 대한 데이터 리스트를\n",
        "# labels: 입력한 데이터에 대한 라벨\n",
        "# showmeans: 평균값을 표현\n",
        "# 참고: https://leebaro.tistory.com/entry/%EB%B0%95%EC%8A%A4-%ED%94%8C%EB%A1%AFbox-plot-%EC%84%A4%EB%AA%85\n",
        "plt.boxplot(word_len, labels=['word counts'], showmeans=True)\n",
        "plt.show()"
      ],
      "execution_count": 70,
      "outputs": [
        {
          "output_type": "display_data",
          "data": {
            "image/png": "[encoded data removed]",
            "text/plain": [
              "<Figure size 288x432 with 1 Axes>"
            ]
          },
          "metadata": {
            "tags": [],
            "needs_background": "light"
          }
        }
      ]
    },
    {
      "cell_type": "markdown",
      "metadata": {
        "id": "HH3c7rY7kbCh"
      },
      "source": [
        "## SentencePiece"
      ]
    },
    {
      "cell_type": "markdown",
      "metadata": {
        "id": "INyPdEigjQpG"
      },
      "source": [
        "### question1"
      ]
    },
    {
      "cell_type": "code",
      "metadata": {
        "colab": {
          "base_uri": "https://localhost:8080/"
        },
        "id": "6cvc0ZDzkbCi",
        "outputId": "6937d5e4-269d-4f23-eb43-d5b08382c1e6"
      },
      "source": [
        "# word 길이 데이터\n",
        "spm_len = df_train['question1'].astype(str).apply(lambda x:len(vocab.encode_as_pieces(x)))\n",
        "spm_len.head(10)"
      ],
      "execution_count": 71,
      "outputs": [
        {
          "output_type": "execute_result",
          "data": {
            "text/plain": [
              "0     7\n",
              "1    11\n",
              "2     8\n",
              "3    13\n",
              "4     8\n",
              "5     5\n",
              "6     4\n",
              "7     7\n",
              "8     9\n",
              "9    10\n",
              "Name: question1, dtype: int64"
            ]
          },
          "metadata": {
            "tags": []
          },
          "execution_count": 71
        }
      ]
    },
    {
      "cell_type": "code",
      "metadata": {
        "colab": {
          "base_uri": "https://localhost:8080/",
          "height": 295
        },
        "id": "KDr_r83DkbCi",
        "outputId": "71d60b58-ae63-4968-f014-f497ebbc1ab3"
      },
      "source": [
        "# 그래프에 대한 이미지 사이즈 선언\n",
        "# figsize: (가로, 세로) 형태의 튜플로 입력\n",
        "plt.figure(figsize=(8, 4))\n",
        "# histogram 선언\n",
        "# bins: 히스토그램 값들에 대한 버켓 범위, \n",
        "# range: x축 값의 범위\n",
        "# facecolor: 그래프 색상\n",
        "# label: 그래프에 대한 라벨\n",
        "plt.hist(spm_len, bins=30, range=[0, 30], facecolor='r', label='train')\n",
        "# 그래프 제목\n",
        "plt.title('Lengh of spm')\n",
        "# 그래프 x 축 라벨\n",
        "plt.xlabel('Number of spm')\n",
        "# 그래프 y 축 라벨\n",
        "plt.ylabel('Count of review')\n",
        "plt.show()"
      ],
      "execution_count": 72,
      "outputs": [
        {
          "output_type": "display_data",
          "data": {
            "image/png": "[encoded data removed]",
            "text/plain": [
              "<Figure size 576x288 with 1 Axes>"
            ]
          },
          "metadata": {
            "tags": [],
            "needs_background": "light"
          }
        }
      ]
    },
    {
      "cell_type": "code",
      "metadata": {
        "colab": {
          "base_uri": "https://localhost:8080/"
        },
        "id": "hl9BiOWnkbCj",
        "outputId": "992b77e6-aefc-4bb1-82bc-f4fcc7979b3a"
      },
      "source": [
        "# 데이터 길이\n",
        "print(f\"spm 길이 최대:    {np.max(spm_len):4d}\")\n",
        "print(f\"spm 길이 최소:    {np.min(spm_len):4d}\")\n",
        "print(f\"spm 길이 평균:    {np.mean(spm_len):7.2f}\")\n",
        "print(f\"spm 길이 표준편차: {np.std(spm_len):7.2f}\")\n",
        "# https://ko.wikipedia.org/wiki/%EB%B0%B1%EB%B6%84%EC%9C%84%EC%88%98\n",
        "# 백분위수(Percentile)는 크기가 있는 값들로 이뤄진 자료를 순서대로 나열했을 때 백분율로 나타낸 특정 위치의 값을 이르는 용어이다.\n",
        "# 일반적으로 크기가 작은 것부터 나열하여 가장 작은 것을 0, 가장 큰 것을 100으로 한다.\n",
        "# 100개의 값을 가진 어떤 자료의 20 백분위수는 그 자료의 값들 중 20번째로 작은 값을 뜻한다. 50 백분위수는 중앙값과 같다.\n",
        "percentile25 = np.percentile(spm_len, 25)\n",
        "percentile50 = np.percentile(spm_len, 50)\n",
        "percentile75 = np.percentile(spm_len, 75)\n",
        "percentileIQR = percentile75 - percentile25\n",
        "percentileMAX = percentile75 + percentileIQR * 1.5\n",
        "print(f\"spm 25/100분위:  {percentile25:7.2f}\")\n",
        "print(f\"spm 50/100분위:  {percentile50:7.2f}\")\n",
        "print(f\"spm 75/100분위:  {percentile75:7.2f}\")\n",
        "print(f\"spm IQR:        {percentileIQR:7.2f}\")\n",
        "print(f\"spm MAX/100분위: {percentileMAX:7.2f}\")"
      ],
      "execution_count": 73,
      "outputs": [
        {
          "output_type": "stream",
          "text": [
            "spm 길이 최대:      26\n",
            "spm 길이 최소:       1\n",
            "spm 길이 평균:       7.33\n",
            "spm 길이 표준편차:    3.19\n",
            "spm 25/100분위:     5.00\n",
            "spm 50/100분위:     7.00\n",
            "spm 75/100분위:     9.00\n",
            "spm IQR:           4.00\n",
            "spm MAX/100분위:   15.00\n"
          ],
          "name": "stdout"
        }
      ]
    },
    {
      "cell_type": "code",
      "metadata": {
        "colab": {
          "base_uri": "https://localhost:8080/",
          "height": 374
        },
        "id": "bhYzc3QVkbCj",
        "outputId": "403d46f7-0bc8-47d3-a6e1-304e96c9b2f5"
      },
      "source": [
        "plt.figure(figsize=(4, 6))\n",
        "# 박스플롯 생성\n",
        "# 첫번째 파라메터: 여러 분포에 대한 데이터 리스트를\n",
        "# labels: 입력한 데이터에 대한 라벨\n",
        "# showmeans: 평균값을 표현\n",
        "# 참고: https://leebaro.tistory.com/entry/%EB%B0%95%EC%8A%A4-%ED%94%8C%EB%A1%AFbox-plot-%EC%84%A4%EB%AA%85\n",
        "plt.boxplot(spm_len, labels=['spm counts'], showmeans=True)\n",
        "plt.show()"
      ],
      "execution_count": 74,
      "outputs": [
        {
          "output_type": "display_data",
          "data": {
            "image/png": "[encoded data removed]",
            "text/plain": [
              "<Figure size 288x432 with 1 Axes>"
            ]
          },
          "metadata": {
            "tags": [],
            "needs_background": "light"
          }
        }
      ]
    },
    {
      "cell_type": "markdown",
      "metadata": {
        "id": "CZNmjRZLjcU-"
      },
      "source": [
        "### question2"
      ]
    },
    {
      "cell_type": "code",
      "metadata": {
        "colab": {
          "base_uri": "https://localhost:8080/"
        },
        "id": "WiYg-7FcjcU-",
        "outputId": "d7096982-4fb0-449d-ef7f-038c21a3a0d0"
      },
      "source": [
        "# word 길이 데이터\n",
        "spm_len = df_train['question2'].astype(str).apply(lambda x:len(vocab.encode_as_pieces(x)))\n",
        "spm_len.head(10)"
      ],
      "execution_count": 75,
      "outputs": [
        {
          "output_type": "execute_result",
          "data": {
            "text/plain": [
              "0     5\n",
              "1     9\n",
              "2     7\n",
              "3     7\n",
              "4    10\n",
              "5    11\n",
              "6    10\n",
              "7     8\n",
              "8     6\n",
              "9     6\n",
              "Name: question2, dtype: int64"
            ]
          },
          "metadata": {
            "tags": []
          },
          "execution_count": 75
        }
      ]
    },
    {
      "cell_type": "code",
      "metadata": {
        "colab": {
          "base_uri": "https://localhost:8080/",
          "height": 295
        },
        "id": "VCsAsqaGjcU_",
        "outputId": "32143e45-a436-47d3-8c37-a3f903e94948"
      },
      "source": [
        "# 그래프에 대한 이미지 사이즈 선언\n",
        "# figsize: (가로, 세로) 형태의 튜플로 입력\n",
        "plt.figure(figsize=(8, 4))\n",
        "# histogram 선언\n",
        "# bins: 히스토그램 값들에 대한 버켓 범위, \n",
        "# range: x축 값의 범위\n",
        "# facecolor: 그래프 색상\n",
        "# label: 그래프에 대한 라벨\n",
        "plt.hist(spm_len, bins=30, range=[0, 30], facecolor='r', label='train')\n",
        "# 그래프 제목\n",
        "plt.title('Lengh of spm')\n",
        "# 그래프 x 축 라벨\n",
        "plt.xlabel('Number of spm')\n",
        "# 그래프 y 축 라벨\n",
        "plt.ylabel('Count of review')\n",
        "plt.show()"
      ],
      "execution_count": 76,
      "outputs": [
        {
          "output_type": "display_data",
          "data": {
            "image/png": "[encoded data removed]",
            "text/plain": [
              "<Figure size 576x288 with 1 Axes>"
            ]
          },
          "metadata": {
            "tags": [],
            "needs_background": "light"
          }
        }
      ]
    },
    {
      "cell_type": "code",
      "metadata": {
        "colab": {
          "base_uri": "https://localhost:8080/"
        },
        "id": "2vghdAIjjcVB",
        "outputId": "adac0ebb-7dce-429c-de36-80650c602114"
      },
      "source": [
        "# 데이터 길이\n",
        "print(f\"spm 길이 최대:    {np.max(spm_len):4d}\")\n",
        "print(f\"spm 길이 최소:    {np.min(spm_len):4d}\")\n",
        "print(f\"spm 길이 평균:    {np.mean(spm_len):7.2f}\")\n",
        "print(f\"spm 길이 표준편차: {np.std(spm_len):7.2f}\")\n",
        "# https://ko.wikipedia.org/wiki/%EB%B0%B1%EB%B6%84%EC%9C%84%EC%88%98\n",
        "# 백분위수(Percentile)는 크기가 있는 값들로 이뤄진 자료를 순서대로 나열했을 때 백분율로 나타낸 특정 위치의 값을 이르는 용어이다.\n",
        "# 일반적으로 크기가 작은 것부터 나열하여 가장 작은 것을 0, 가장 큰 것을 100으로 한다.\n",
        "# 100개의 값을 가진 어떤 자료의 20 백분위수는 그 자료의 값들 중 20번째로 작은 값을 뜻한다. 50 백분위수는 중앙값과 같다.\n",
        "percentile25 = np.percentile(spm_len, 25)\n",
        "percentile50 = np.percentile(spm_len, 50)\n",
        "percentile75 = np.percentile(spm_len, 75)\n",
        "percentileIQR = percentile75 - percentile25\n",
        "percentileMAX = percentile75 + percentileIQR * 1.5\n",
        "print(f\"spm 25/100분위:  {percentile25:7.2f}\")\n",
        "print(f\"spm 50/100분위:  {percentile50:7.2f}\")\n",
        "print(f\"spm 75/100분위:  {percentile75:7.2f}\")\n",
        "print(f\"spm IQR:        {percentileIQR:7.2f}\")\n",
        "print(f\"spm MAX/100분위: {percentileMAX:7.2f}\")"
      ],
      "execution_count": 77,
      "outputs": [
        {
          "output_type": "stream",
          "text": [
            "spm 길이 최대:      26\n",
            "spm 길이 최소:       1\n",
            "spm 길이 평균:       7.16\n",
            "spm 길이 표준편차:    3.11\n",
            "spm 25/100분위:     5.00\n",
            "spm 50/100분위:     7.00\n",
            "spm 75/100분위:     9.00\n",
            "spm IQR:           4.00\n",
            "spm MAX/100분위:   15.00\n"
          ],
          "name": "stdout"
        }
      ]
    },
    {
      "cell_type": "code",
      "metadata": {
        "colab": {
          "base_uri": "https://localhost:8080/",
          "height": 374
        },
        "id": "_VXBV7NMjcVB",
        "outputId": "8bf93a0c-a47b-400e-d6e5-8dff6059ef49"
      },
      "source": [
        "plt.figure(figsize=(4, 6))\n",
        "# 박스플롯 생성\n",
        "# 첫번째 파라메터: 여러 분포에 대한 데이터 리스트를\n",
        "# labels: 입력한 데이터에 대한 라벨\n",
        "# showmeans: 평균값을 표현\n",
        "# 참고: https://leebaro.tistory.com/entry/%EB%B0%95%EC%8A%A4-%ED%94%8C%EB%A1%AFbox-plot-%EC%84%A4%EB%AA%85\n",
        "plt.boxplot(spm_len, labels=['spm counts'], showmeans=True)\n",
        "plt.show()"
      ],
      "execution_count": 78,
      "outputs": [
        {
          "output_type": "display_data",
          "data": {
            "image/png": "[encoded data removed]",
            "text/plain": [
              "<Figure size 288x432 with 1 Axes>"
            ]
          },
          "metadata": {
            "tags": [],
            "needs_background": "light"
          }
        }
      ]
    },
    {
      "cell_type": "markdown",
      "metadata": {
        "id": "OMncJs1dlHLK"
      },
      "source": [
        "## Label"
      ]
    },
    {
      "cell_type": "code",
      "metadata": {
        "colab": {
          "base_uri": "https://localhost:8080/"
        },
        "id": "WByhTbdjlJCQ",
        "outputId": "ab0a4558-67ce-4660-a32a-602a3057a726"
      },
      "source": [
        "df_train['is_duplicate'].value_counts()"
      ],
      "execution_count": 79,
      "outputs": [
        {
          "output_type": "execute_result",
          "data": {
            "text/plain": [
              "0    4750\n",
              "1    2138\n",
              "Name: is_duplicate, dtype: int64"
            ]
          },
          "metadata": {
            "tags": []
          },
          "execution_count": 79
        }
      ]
    },
    {
      "cell_type": "code",
      "metadata": {
        "colab": {
          "base_uri": "https://localhost:8080/"
        },
        "id": "N9bBFn-klSuw",
        "outputId": "d6f762ec-af67-4f5c-e34e-8a2034d26865"
      },
      "source": [
        "# label count\n",
        "print(f\"같은 질문 개수: {df_train['is_duplicate'].value_counts()[0]}\")\n",
        "print(f\"다른 질문 개수: {df_train['is_duplicate'].value_counts()[1]}\")"
      ],
      "execution_count": 80,
      "outputs": [
        {
          "output_type": "stream",
          "text": [
            "같은 질문 개수: 4750\n",
            "다른 질문 개수: 2138\n"
          ],
          "name": "stdout"
        }
      ]
    },
    {
      "cell_type": "code",
      "metadata": {
        "colab": {
          "base_uri": "https://localhost:8080/",
          "height": 390
        },
        "id": "pfZqqRG_lYwh",
        "outputId": "16e0858e-99e0-4fd0-b191-0914ba202088"
      },
      "source": [
        "# label counter plot\n",
        "fig, axe = plt.subplots(ncols=1)\n",
        "fig.set_size_inches(6, 5)\n",
        "# https://seaborn.pydata.org/\n",
        "subplt = sns.countplot(df_train['is_duplicate'])"
      ],
      "execution_count": 81,
      "outputs": [
        {
          "output_type": "stream",
          "text": [
            "/usr/local/lib/python3.6/dist-packages/seaborn/_decorators.py:43: FutureWarning: Pass the following variable as a keyword arg: x. From version 0.12, the only valid positional argument will be `data`, and passing other arguments without an explicit keyword will result in an error or misinterpretation.\n",
            "  FutureWarning\n"
          ],
          "name": "stderr"
        },
        {
          "output_type": "display_data",
          "data": {
            "image/png": "[encoded data removed]",
            "text/plain": [
              "<Figure size 432x360 with 1 Axes>"
            ]
          },
          "metadata": {
            "tags": [],
            "needs_background": "light"
          }
        }
      ]
    },
    {
      "cell_type": "markdown",
      "metadata": {
        "id": "PEEHnQPfluqb"
      },
      "source": [
        "## Word Cloud"
      ]
    },
    {
      "cell_type": "code",
      "metadata": {
        "id": "jpbqKmUNXhiG",
        "colab": {
          "base_uri": "https://localhost:8080/"
        },
        "outputId": "dfd6064b-0ec7-4cc7-ae08-d8f3a65f2f5d"
      },
      "source": [
        "[1, 2, 3] + [4, 5, 6]"
      ],
      "execution_count": 82,
      "outputs": [
        {
          "output_type": "execute_result",
          "data": {
            "text/plain": [
              "[1, 2, 3, 4, 5, 6]"
            ]
          },
          "metadata": {
            "tags": []
          },
          "execution_count": 82
        }
      ]
    },
    {
      "cell_type": "code",
      "metadata": {
        "colab": {
          "base_uri": "https://localhost:8080/"
        },
        "id": "WXlNyhTvkiRi",
        "outputId": "da38f239-cf3f-40d8-d6ee-d591afabeb5c"
      },
      "source": [
        "# data 합치기\n",
        "train_set = pd.Series(df_train['question1'].tolist() + df_train['question2'].tolist()).astype(str)\n",
        "train_set.head(10)"
      ],
      "execution_count": 84,
      "outputs": [
        {
          "output_type": "execute_result",
          "data": {
            "text/plain": [
              "0         1000일 만난 여자친구와 이별\n",
              "1      10년 연애사 되돌아보니 다 부질없네\n",
              "2               10년만나다 헤어지네\n",
              "3    10월의 마지막밤 . 더 보고싶네 그사람\n",
              "4             14년의 기나긴 이야기.\n",
              "5              15년만에 쓰는 편지.\n",
              "6                     1년 반.\n",
              "7               1년동거 끝에 헤어짐\n",
              "8            1년만에 다시헤어지게 됐네\n",
              "9      1년을 넘게 만났는데 어떻게 이럽니까\n",
              "dtype: object"
            ]
          },
          "metadata": {
            "tags": []
          },
          "execution_count": 84
        }
      ]
    },
    {
      "cell_type": "code",
      "metadata": {
        "colab": {
          "base_uri": "https://localhost:8080/"
        },
        "id": "HRb4fQxsloKx",
        "outputId": "92982ad8-2d61-4ff4-88df-5aa01a133dd9"
      },
      "source": [
        "# train review documents\n",
        "train_review = [review for review in train_set if type(review) is str]\n",
        "train_review[:10]"
      ],
      "execution_count": 85,
      "outputs": [
        {
          "output_type": "execute_result",
          "data": {
            "text/plain": [
              "['1000일 만난 여자친구와 이별',\n",
              " '10년 연애사 되돌아보니 다 부질없네',\n",
              " '10년만나다 헤어지네',\n",
              " '10월의 마지막밤 . 더 보고싶네 그사람',\n",
              " '14년의 기나긴 이야기.',\n",
              " '15년만에 쓰는 편지.',\n",
              " '1년 반.',\n",
              " '1년동거 끝에 헤어짐',\n",
              " '1년만에 다시헤어지게 됐네',\n",
              " '1년을 넘게 만났는데 어떻게 이럽니까']"
            ]
          },
          "metadata": {
            "tags": []
          },
          "execution_count": 85
        }
      ]
    },
    {
      "cell_type": "code",
      "metadata": {
        "colab": {
          "base_uri": "https://localhost:8080/",
          "height": 53
        },
        "id": "ASMXNml2lz8i",
        "outputId": "be9a7e84-d0a3-44ff-a733-4e6a5f0ee2c6"
      },
      "source": [
        "' '.join(train_review[:10])"
      ],
      "execution_count": 86,
      "outputs": [
        {
          "output_type": "execute_result",
          "data": {
            "application/vnd.google.colaboratory.intrinsic+json": {
              "type": "string"
            },
            "text/plain": [
              "'1000일 만난 여자친구와 이별 10년 연애사 되돌아보니 다 부질없네 10년만나다 헤어지네 10월의 마지막밤 . 더 보고싶네 그사람 14년의 기나긴 이야기. 15년만에 쓰는 편지. 1년 반. 1년동거 끝에 헤어짐 1년만에 다시헤어지게 됐네 1년을 넘게 만났는데 어떻게 이럽니까'"
            ]
          },
          "metadata": {
            "tags": []
          },
          "execution_count": 86
        }
      ]
    },
    {
      "cell_type": "code",
      "metadata": {
        "colab": {
          "base_uri": "https://localhost:8080/",
          "height": 575
        },
        "id": "MmQXZB-bl4RM",
        "outputId": "b4df8e1b-ff18-472d-ef8f-d77618d6ec8b"
      },
      "source": [
        "# WordCloud\n",
        "# window: C:/Windows/Fonts/malgun.ttf, mac: /Library/Fonts/AppleGothic.ttf, colab: /usr/share/fonts/truetype/nanum/NanumBarunGothic.ttf\n",
        "wordcloud = WordCloud(width=800, height=800, font_path='/usr/share/fonts/truetype/nanum/NanumBarunGothic.ttf').generate(' '.join(train_review))\n",
        "plt.figure(figsize=(10, 10))\n",
        "# https://datascienceschool.net/view-notebook/6e71dbff254542d9b0a054a7c98b34ec/\n",
        "# image 출력, interpolation 이미지 시각화 옵션\n",
        "plt.imshow(wordcloud, interpolation='bilinear')\n",
        "plt.axis('off')\n",
        "plt.show()"
      ],
      "execution_count": 87,
      "outputs": [
        {
          "output_type": "display_data",
          "data": {
            "image/png": "[encoded data removed]",
            "text/plain": [
              "<Figure size 720x720 with 1 Axes>"
            ]
          },
          "metadata": {
            "tags": [],
            "needs_background": "light"
          }
        }
      ]
    },
    {
      "cell_type": "markdown",
      "metadata": {
        "id": "3myBX8hNEH1u"
      },
      "source": [
        "# 모델링"
      ]
    },
    {
      "cell_type": "code",
      "metadata": {
        "id": "l6sAFRH5oFn9"
      },
      "source": [
        "# 입력 문장\n",
        "sentences = [\n",
        "    ['나는 오늘 기분이 좋아', '나는 오늘 우울해'],\n",
        "    ['나는 오늘 행복해', '나는 오늘 즐거워'],\n",
        "]\n",
        "\n",
        "# 출력 정답\n",
        "labels = [0, 1]  # 같음(1), 다름(0)"
      ],
      "execution_count": 88,
      "outputs": []
    },
    {
      "cell_type": "code",
      "metadata": {
        "id": "0ezTNco4o36T",
        "colab": {
          "base_uri": "https://localhost:8080/"
        },
        "outputId": "768301ca-3b2d-4a03-bdaa-73918533dce1"
      },
      "source": [
        "# 각 문장을 띄어쓰기 단위로 분할\n",
        "words = []\n",
        "for pair in sentences:\n",
        "    print(pair)\n",
        "    for sentence in pair:\n",
        "        print(sentence)\n",
        "        words.extend(sentence.split())\n",
        "\n",
        "# 중복 단어 제거\n",
        "words = list(dict.fromkeys(words))\n",
        "\n",
        "# 각 단어별 고유한 번호 부여\n",
        "word_to_id = {'[PAD]': 0, '[UNK]': 1}\n",
        "for word in words:\n",
        "    word_to_id[word] = len(word_to_id)\n",
        "\n",
        "# 각 숫자별 단어 부여\n",
        "id_to_word = {_id:word for word, _id in word_to_id.items()}\n",
        "\n",
        "word_to_id, id_to_word"
      ],
      "execution_count": 89,
      "outputs": [
        {
          "output_type": "stream",
          "text": [
            "['나는 오늘 기분이 좋아', '나는 오늘 우울해']\n",
            "나는 오늘 기분이 좋아\n",
            "나는 오늘 우울해\n",
            "['나는 오늘 행복해', '나는 오늘 즐거워']\n",
            "나는 오늘 행복해\n",
            "나는 오늘 즐거워\n"
          ],
          "name": "stdout"
        },
        {
          "output_type": "execute_result",
          "data": {
            "text/plain": [
              "({'[PAD]': 0,\n",
              "  '[UNK]': 1,\n",
              "  '기분이': 4,\n",
              "  '나는': 2,\n",
              "  '오늘': 3,\n",
              "  '우울해': 6,\n",
              "  '좋아': 5,\n",
              "  '즐거워': 8,\n",
              "  '행복해': 7},\n",
              " {0: '[PAD]',\n",
              "  1: '[UNK]',\n",
              "  2: '나는',\n",
              "  3: '오늘',\n",
              "  4: '기분이',\n",
              "  5: '좋아',\n",
              "  6: '우울해',\n",
              "  7: '행복해',\n",
              "  8: '즐거워'})"
            ]
          },
          "metadata": {
            "tags": []
          },
          "execution_count": 89
        }
      ]
    },
    {
      "cell_type": "code",
      "metadata": {
        "id": "awy48gACpKA7",
        "colab": {
          "base_uri": "https://localhost:8080/"
        },
        "outputId": "06e0d938-e4c1-4720-f9f2-4b1331eab67c"
      },
      "source": [
        "# 학습용 입력 데이터 생성\n",
        "train_inputs_1, train_inputs_2 = [], []\n",
        "for pair in sentences:\n",
        "    train_inputs_1.append([word_to_id[word] for word in pair[0].split()])\n",
        "    train_inputs_2.append([word_to_id[word] for word in pair[1].split()])\n",
        "\n",
        "# train label\n",
        "train_labels = labels\n",
        "\n",
        "# 문장의 길이를 모두 동일하게 변경 (최대길이 4)\n",
        "for row in train_inputs_1:\n",
        "    row += [0] * (4 - len(row))\n",
        "\n",
        "# 문장의 길이를 모두 동일하게 변경 (최대길이 3)\n",
        "for row in train_inputs_2:\n",
        "    row += [0] * (3 - len(row))\n",
        "\n",
        "# train inputs을 numpy array로 변환\n",
        "train_inputs_1 = np.array(train_inputs_1)\n",
        "train_inputs_2 = np.array(train_inputs_2)\n",
        "\n",
        "# 학습용 정답을 numpy array로 변환\n",
        "train_labels = np.array(train_labels)\n",
        "\n",
        "train_inputs_1, train_inputs_2, train_labels"
      ],
      "execution_count": 90,
      "outputs": [
        {
          "output_type": "execute_result",
          "data": {
            "text/plain": [
              "(array([[2, 3, 4, 5],\n",
              "        [2, 3, 7, 0]]), array([[2, 3, 6],\n",
              "        [2, 3, 8]]), array([0, 1]))"
            ]
          },
          "metadata": {
            "tags": []
          },
          "execution_count": 90
        }
      ]
    },
    {
      "cell_type": "code",
      "metadata": {
        "id": "34wJtGLuGR-9"
      },
      "source": [
        "# embedding 생성\n",
        "embedding = tf.keras.layers.Embedding(len(word_to_id), 5)"
      ],
      "execution_count": 91,
      "outputs": []
    },
    {
      "cell_type": "code",
      "metadata": {
        "id": "u3qs4Y0EGVz8",
        "colab": {
          "base_uri": "https://localhost:8080/"
        },
        "outputId": "dd51957a-2011-4cc4-b92c-6ca86eadf48e"
      },
      "source": [
        "# word embedding\n",
        "hidden_1 = embedding(train_inputs_1)  # (bs, n_seq_1, 5)\n",
        "hidden_2 = embedding(train_inputs_2)  # (bs, n_seq_2, 5)\n",
        "hidden_1, hidden_2"
      ],
      "execution_count": 92,
      "outputs": [
        {
          "output_type": "execute_result",
          "data": {
            "text/plain": [
              "(<tf.Tensor: shape=(2, 4, 5), dtype=float32, numpy=\n",
              " array([[[ 0.02688133, -0.00167429,  0.00873896, -0.04772998,\n",
              "          -0.00643448],\n",
              "         [ 0.04782395,  0.04810704, -0.03535189,  0.04945729,\n",
              "           0.02813626],\n",
              "         [-0.02798697, -0.00110071,  0.0133124 ,  0.00637371,\n",
              "          -0.00963336],\n",
              "         [-0.01013004,  0.01826939,  0.02741292, -0.00544795,\n",
              "          -0.04431503]],\n",
              " \n",
              "        [[ 0.02688133, -0.00167429,  0.00873896, -0.04772998,\n",
              "          -0.00643448],\n",
              "         [ 0.04782395,  0.04810704, -0.03535189,  0.04945729,\n",
              "           0.02813626],\n",
              "         [ 0.00923193, -0.01256046,  0.0343336 , -0.02595751,\n",
              "           0.03221213],\n",
              "         [ 0.00380393, -0.01353813,  0.00816301, -0.02561716,\n",
              "          -0.00696643]]], dtype=float32)>,\n",
              " <tf.Tensor: shape=(2, 3, 5), dtype=float32, numpy=\n",
              " array([[[ 0.02688133, -0.00167429,  0.00873896, -0.04772998,\n",
              "          -0.00643448],\n",
              "         [ 0.04782395,  0.04810704, -0.03535189,  0.04945729,\n",
              "           0.02813626],\n",
              "         [-0.02540476, -0.0194685 , -0.01826397, -0.03069841,\n",
              "           0.03251565]],\n",
              " \n",
              "        [[ 0.02688133, -0.00167429,  0.00873896, -0.04772998,\n",
              "          -0.00643448],\n",
              "         [ 0.04782395,  0.04810704, -0.03535189,  0.04945729,\n",
              "           0.02813626],\n",
              "         [-0.03375109, -0.02327753, -0.00871272,  0.00912046,\n",
              "           0.01447895]]], dtype=float32)>)"
            ]
          },
          "metadata": {
            "tags": []
          },
          "execution_count": 92
        }
      ]
    },
    {
      "cell_type": "code",
      "metadata": {
        "id": "N7syLD2CaJ8v"
      },
      "source": [
        "# RNN, CNN 등"
      ],
      "execution_count": null,
      "outputs": []
    },
    {
      "cell_type": "code",
      "metadata": {
        "id": "Cd3Gs-VAGhyq",
        "colab": {
          "base_uri": "https://localhost:8080/"
        },
        "outputId": "189fe3a5-22e8-4420-c648-5c9707996daa"
      },
      "source": [
        "# sentence embedding\n",
        "pool = tf.keras.layers.GlobalMaxPool1D()\n",
        "hidden_pool_1 = pool(hidden_1)  # (bs, 5)\n",
        "hidden_pool_2 = pool(hidden_2)  # (bs, 5)\n",
        "hidden_pool_1, hidden_pool_2"
      ],
      "execution_count": 95,
      "outputs": [
        {
          "output_type": "execute_result",
          "data": {
            "text/plain": [
              "(<tf.Tensor: shape=(2, 5), dtype=float32, numpy=\n",
              " array([[0.04782395, 0.04810704, 0.02741292, 0.04945729, 0.02813626],\n",
              "        [0.04782395, 0.04810704, 0.0343336 , 0.04945729, 0.03221213]],\n",
              "       dtype=float32)>, <tf.Tensor: shape=(2, 5), dtype=float32, numpy=\n",
              " array([[0.04782395, 0.04810704, 0.00873896, 0.04945729, 0.03251565],\n",
              "        [0.04782395, 0.04810704, 0.00873896, 0.04945729, 0.02813626]],\n",
              "       dtype=float32)>)"
            ]
          },
          "metadata": {
            "tags": []
          },
          "execution_count": 95
        }
      ]
    },
    {
      "cell_type": "code",
      "metadata": {
        "id": "L47UgZ04J80U",
        "colab": {
          "base_uri": "https://localhost:8080/"
        },
        "outputId": "ef8802aa-e068-411a-ba01-7e92bd6ebd6f"
      },
      "source": [
        "# distance abs\n",
        "K.abs(hidden_pool_1 - hidden_pool_2)"
      ],
      "execution_count": 96,
      "outputs": [
        {
          "output_type": "execute_result",
          "data": {
            "text/plain": [
              "<tf.Tensor: shape=(2, 5), dtype=float32, numpy=\n",
              "array([[0.        , 0.        , 0.01867396, 0.        , 0.00437939],\n",
              "       [0.        , 0.        , 0.02559464, 0.        , 0.00407587]],\n",
              "      dtype=float32)>"
            ]
          },
          "metadata": {
            "tags": []
          },
          "execution_count": 96
        }
      ]
    },
    {
      "cell_type": "code",
      "metadata": {
        "id": "UZoXpiTtG2o2",
        "colab": {
          "base_uri": "https://localhost:8080/"
        },
        "outputId": "02df6143-3364-4120-c310-e5deec4db003"
      },
      "source": [
        "# manhattan distance abs\n",
        "distance = K.sum(K.abs(hidden_pool_1 - hidden_pool_2), axis=-1)\n",
        "distance"
      ],
      "execution_count": 97,
      "outputs": [
        {
          "output_type": "execute_result",
          "data": {
            "text/plain": [
              "<tf.Tensor: shape=(2,), dtype=float32, numpy=array([0.02305335, 0.02967051], dtype=float32)>"
            ]
          },
          "metadata": {
            "tags": []
          },
          "execution_count": 97
        }
      ]
    },
    {
      "cell_type": "code",
      "metadata": {
        "id": "Svm6u8oVG9Ue",
        "colab": {
          "base_uri": "https://localhost:8080/"
        },
        "outputId": "7bdb9a26-352d-4c11-d198-1cbeb96252af"
      },
      "source": [
        "# output value\n",
        "output = K.exp(-distance)\n",
        "output"
      ],
      "execution_count": 98,
      "outputs": [
        {
          "output_type": "execute_result",
          "data": {
            "text/plain": [
              "<tf.Tensor: shape=(2,), dtype=float32, numpy=array([0.9772103, 0.9707653], dtype=float32)>"
            ]
          },
          "metadata": {
            "tags": []
          },
          "execution_count": 98
        }
      ]
    },
    {
      "cell_type": "code",
      "metadata": {
        "id": "SKiXOU6pqRXB",
        "colab": {
          "base_uri": "https://localhost:8080/"
        },
        "outputId": "01918206-411f-4d5a-9e78-dfd286141eb7"
      },
      "source": [
        "# Generate linearly spaced vector\n",
        "distance = np.linspace(0, 10, 100)\n",
        "distance"
      ],
      "execution_count": 99,
      "outputs": [
        {
          "output_type": "execute_result",
          "data": {
            "text/plain": [
              "array([ 0.        ,  0.1010101 ,  0.2020202 ,  0.3030303 ,  0.4040404 ,\n",
              "        0.50505051,  0.60606061,  0.70707071,  0.80808081,  0.90909091,\n",
              "        1.01010101,  1.11111111,  1.21212121,  1.31313131,  1.41414141,\n",
              "        1.51515152,  1.61616162,  1.71717172,  1.81818182,  1.91919192,\n",
              "        2.02020202,  2.12121212,  2.22222222,  2.32323232,  2.42424242,\n",
              "        2.52525253,  2.62626263,  2.72727273,  2.82828283,  2.92929293,\n",
              "        3.03030303,  3.13131313,  3.23232323,  3.33333333,  3.43434343,\n",
              "        3.53535354,  3.63636364,  3.73737374,  3.83838384,  3.93939394,\n",
              "        4.04040404,  4.14141414,  4.24242424,  4.34343434,  4.44444444,\n",
              "        4.54545455,  4.64646465,  4.74747475,  4.84848485,  4.94949495,\n",
              "        5.05050505,  5.15151515,  5.25252525,  5.35353535,  5.45454545,\n",
              "        5.55555556,  5.65656566,  5.75757576,  5.85858586,  5.95959596,\n",
              "        6.06060606,  6.16161616,  6.26262626,  6.36363636,  6.46464646,\n",
              "        6.56565657,  6.66666667,  6.76767677,  6.86868687,  6.96969697,\n",
              "        7.07070707,  7.17171717,  7.27272727,  7.37373737,  7.47474747,\n",
              "        7.57575758,  7.67676768,  7.77777778,  7.87878788,  7.97979798,\n",
              "        8.08080808,  8.18181818,  8.28282828,  8.38383838,  8.48484848,\n",
              "        8.58585859,  8.68686869,  8.78787879,  8.88888889,  8.98989899,\n",
              "        9.09090909,  9.19191919,  9.29292929,  9.39393939,  9.49494949,\n",
              "        9.5959596 ,  9.6969697 ,  9.7979798 ,  9.8989899 , 10.        ])"
            ]
          },
          "metadata": {
            "tags": []
          },
          "execution_count": 99
        }
      ]
    },
    {
      "cell_type": "code",
      "metadata": {
        "id": "28OWJI7AqSML",
        "colab": {
          "base_uri": "https://localhost:8080/",
          "height": 281
        },
        "outputId": "1d6bfbda-a902-4213-f6d0-d1faa52b7c4d"
      },
      "source": [
        "# draw plot\n",
        "plt.plot(distance, K.exp(-distance))\n",
        "plt.title('malstm')\n",
        "plt.show()"
      ],
      "execution_count": 100,
      "outputs": [
        {
          "output_type": "display_data",
          "data": {
            "image/png": "[encoded data removed]",
            "text/plain": [
              "<Figure size 432x288 with 1 Axes>"
            ]
          },
          "metadata": {
            "tags": [],
            "needs_background": "light"
          }
        }
      ]
    },
    {
      "cell_type": "code",
      "metadata": {
        "id": "SobekkcjEX_P"
      },
      "source": [
        "def build_model(n_vocab, d_model, n_seq_1, n_seq_2):\n",
        "    \"\"\"\n",
        "    문장 유사도 비교 모델\n",
        "    :param n_vocab: vocabulary 단어 수\n",
        "    :param d_model: 단어를 의미하는 벡터의 차원 수\n",
        "    :param n_seq_1: 문장 1 길이 (단어 수)\n",
        "    :param n_seq_2: 문장 2 길이 (단어 수)\n",
        "    \"\"\"\n",
        "    inputs_1 = tf.keras.layers.Input((n_seq_1,))  # (bs, n_seq_1)\n",
        "    inputs_2 = tf.keras.layers.Input((n_seq_2,))  # (bs, n_seq_2)\n",
        "    ##########################################\n",
        "    # 입력 단어를 vector로 변환\n",
        "    embedding = tf.keras.layers.Embedding(n_vocab, d_model)\n",
        "    hidden_1 = embedding(inputs_1)  # (bs, n_seq_1, d_model)\n",
        "    hidden_2 = embedding(inputs_2)  # (bs, n_seq_2, d_model)\n",
        "\n",
        "    # RNN, CNN, Dense\n",
        "    \n",
        "    # 각 단어 벡터의 최대값 기준으로 벡터를 더해서 차원을 줄여줌 (문장 vector 생성)\n",
        "    pool = tf.keras.layers.GlobalMaxPool1D()\n",
        "    hidden_pool_1 = pool(hidden_1)  # (bs, d_model)\n",
        "    hidden_pool_2 = pool(hidden_2)  # (bs, d_model)\n",
        "\n",
        "    # distance 계산 ||a - b||\n",
        "    distance = K.sum(K.abs(hidden_pool_1 - hidden_pool_2), axis=-1)\n",
        "    outputs = K.exp(-distance)\n",
        "    ##########################################\n",
        "    # 학습할 모델 선언\n",
        "    model = tf.keras.Model(inputs=(inputs_1, inputs_2), outputs=outputs)\n",
        "    return model"
      ],
      "execution_count": 101,
      "outputs": []
    },
    {
      "cell_type": "code",
      "metadata": {
        "id": "72cRi9zUEeqG",
        "colab": {
          "base_uri": "https://localhost:8080/",
          "height": 865
        },
        "outputId": "49234010-ac38-4c8a-9dd9-ea59a440324f"
      },
      "source": [
        "# 모델 생성\n",
        "model = build_model(len(word_to_id), 5, 4, 3)\n",
        "# 모델 내용 그래프 출력\n",
        "tf.keras.utils.plot_model(model, 'model.png', show_shapes=True)"
      ],
      "execution_count": 102,
      "outputs": [
        {
          "output_type": "execute_result",
          "data": {
            "image/png": "[encoded data removed]",
            "text/plain": [
              "<IPython.core.display.Image object>"
            ]
          },
          "metadata": {
            "tags": []
          },
          "execution_count": 102
        }
      ]
    },
    {
      "cell_type": "markdown",
      "metadata": {
        "id": "gcG7zBAr_R_4"
      },
      "source": [
        "# Sample Data Project"
      ]
    },
    {
      "cell_type": "markdown",
      "metadata": {
        "id": "jv0OPyaKSpjw"
      },
      "source": [
        "## Data\n"
      ]
    },
    {
      "cell_type": "code",
      "metadata": {
        "id": "98u39IsbSoBk",
        "colab": {
          "base_uri": "https://localhost:8080/",
          "height": 402
        },
        "outputId": "7453453f-214d-4232-e458-13f1a7364114"
      },
      "source": [
        "df_train = pd.read_csv(os.path.join(quora_dir, 'kor_pair_train.csv'), delimiter=',')\n",
        "df_train"
      ],
      "execution_count": 103,
      "outputs": [
        {
          "output_type": "execute_result",
          "data": {
            "text/html": [
              "<div>\n",
              "<style scoped>\n",
              "    .dataframe tbody tr th:only-of-type {\n",
              "        vertical-align: middle;\n",
              "    }\n",
              "\n",
              "    .dataframe tbody tr th {\n",
              "        vertical-align: top;\n",
              "    }\n",
              "\n",
              "    .dataframe thead th {\n",
              "        text-align: right;\n",
              "    }\n",
              "</style>\n",
              "<table border=\"1\" class=\"dataframe\">\n",
              "  <thead>\n",
              "    <tr style=\"text-align: right;\">\n",
              "      <th></th>\n",
              "      <th>id</th>\n",
              "      <th>qid1</th>\n",
              "      <th>qid2</th>\n",
              "      <th>question1</th>\n",
              "      <th>question2</th>\n",
              "      <th>is_duplicate</th>\n",
              "    </tr>\n",
              "  </thead>\n",
              "  <tbody>\n",
              "    <tr>\n",
              "      <th>0</th>\n",
              "      <td>1</td>\n",
              "      <td>1</td>\n",
              "      <td>2</td>\n",
              "      <td>1000일 만난 여자친구와 이별</td>\n",
              "      <td>10년 연예의끝</td>\n",
              "      <td>1</td>\n",
              "    </tr>\n",
              "    <tr>\n",
              "      <th>1</th>\n",
              "      <td>2</td>\n",
              "      <td>3</td>\n",
              "      <td>4</td>\n",
              "      <td>10년 연애사 되돌아보니 다 부질없네</td>\n",
              "      <td>10년이라는 시간이 참 무색하다 싶네</td>\n",
              "      <td>1</td>\n",
              "    </tr>\n",
              "    <tr>\n",
              "      <th>2</th>\n",
              "      <td>3</td>\n",
              "      <td>5</td>\n",
              "      <td>6</td>\n",
              "      <td>10년만나다 헤어지네</td>\n",
              "      <td>14년된 여자친구랑 이별</td>\n",
              "      <td>1</td>\n",
              "    </tr>\n",
              "    <tr>\n",
              "      <th>3</th>\n",
              "      <td>4</td>\n",
              "      <td>7</td>\n",
              "      <td>8</td>\n",
              "      <td>10월의 마지막밤 . 더 보고싶네 그사람</td>\n",
              "      <td>15년…안녕</td>\n",
              "      <td>1</td>\n",
              "    </tr>\n",
              "    <tr>\n",
              "      <th>4</th>\n",
              "      <td>5</td>\n",
              "      <td>9</td>\n",
              "      <td>10</td>\n",
              "      <td>14년의 기나긴 이야기.</td>\n",
              "      <td>1년 9개월 의 연애 종지부.</td>\n",
              "      <td>1</td>\n",
              "    </tr>\n",
              "    <tr>\n",
              "      <th>...</th>\n",
              "      <td>...</td>\n",
              "      <td>...</td>\n",
              "      <td>...</td>\n",
              "      <td>...</td>\n",
              "      <td>...</td>\n",
              "      <td>...</td>\n",
              "    </tr>\n",
              "    <tr>\n",
              "      <th>6883</th>\n",
              "      <td>6884</td>\n",
              "      <td>13767</td>\n",
              "      <td>13768</td>\n",
              "      <td>O형 남자와 썸을 타는데</td>\n",
              "      <td>O형 여자와 썸을 타는데</td>\n",
              "      <td>1</td>\n",
              "    </tr>\n",
              "    <tr>\n",
              "      <th>6884</th>\n",
              "      <td>6885</td>\n",
              "      <td>13769</td>\n",
              "      <td>13770</td>\n",
              "      <td>SD카드 안돼</td>\n",
              "      <td>SD카드 망가졌어</td>\n",
              "      <td>0</td>\n",
              "    </tr>\n",
              "    <tr>\n",
              "      <th>6885</th>\n",
              "      <td>6886</td>\n",
              "      <td>13771</td>\n",
              "      <td>13772</td>\n",
              "      <td>SNS 를 끊어야 하는데.</td>\n",
              "      <td>가슴 아픈 이별</td>\n",
              "      <td>1</td>\n",
              "    </tr>\n",
              "    <tr>\n",
              "      <th>6886</th>\n",
              "      <td>6887</td>\n",
              "      <td>13773</td>\n",
              "      <td>13774</td>\n",
              "      <td>SNS 시간낭비인데 자꾸 보게됨</td>\n",
              "      <td>SNS 시간낭비인 거 아는데 매일 하는 중</td>\n",
              "      <td>0</td>\n",
              "    </tr>\n",
              "    <tr>\n",
              "      <th>6887</th>\n",
              "      <td>6888</td>\n",
              "      <td>13775</td>\n",
              "      <td>13776</td>\n",
              "      <td>sns에서 다른 이성이랑 대화하는걸 보니 화가 나</td>\n",
              "      <td>가슴에 구멍이 너무 커.</td>\n",
              "      <td>1</td>\n",
              "    </tr>\n",
              "  </tbody>\n",
              "</table>\n",
              "<p>6888 rows × 6 columns</p>\n",
              "</div>"
            ],
            "text/plain": [
              "        id   qid1  ...                question2 is_duplicate\n",
              "0        1      1  ...                 10년 연예의끝            1\n",
              "1        2      3  ...     10년이라는 시간이 참 무색하다 싶네            1\n",
              "2        3      5  ...            14년된 여자친구랑 이별            1\n",
              "3        4      7  ...                   15년…안녕            1\n",
              "4        5      9  ...         1년 9개월 의 연애 종지부.            1\n",
              "...    ...    ...  ...                      ...          ...\n",
              "6883  6884  13767  ...            O형 여자와 썸을 타는데            1\n",
              "6884  6885  13769  ...                SD카드 망가졌어            0\n",
              "6885  6886  13771  ...                 가슴 아픈 이별            1\n",
              "6886  6887  13773  ...  SNS 시간낭비인 거 아는데 매일 하는 중            0\n",
              "6887  6888  13775  ...            가슴에 구멍이 너무 커.            1\n",
              "\n",
              "[6888 rows x 6 columns]"
            ]
          },
          "metadata": {
            "tags": []
          },
          "execution_count": 103
        }
      ]
    },
    {
      "cell_type": "code",
      "metadata": {
        "id": "q3oQCaiHlIE6",
        "colab": {
          "base_uri": "https://localhost:8080/",
          "height": 402
        },
        "outputId": "d1b24c71-6b72-4847-d5d5-62dbed9299fa"
      },
      "source": [
        "df_train = df_train.dropna()\n",
        "df_train"
      ],
      "execution_count": 104,
      "outputs": [
        {
          "output_type": "execute_result",
          "data": {
            "text/html": [
              "<div>\n",
              "<style scoped>\n",
              "    .dataframe tbody tr th:only-of-type {\n",
              "        vertical-align: middle;\n",
              "    }\n",
              "\n",
              "    .dataframe tbody tr th {\n",
              "        vertical-align: top;\n",
              "    }\n",
              "\n",
              "    .dataframe thead th {\n",
              "        text-align: right;\n",
              "    }\n",
              "</style>\n",
              "<table border=\"1\" class=\"dataframe\">\n",
              "  <thead>\n",
              "    <tr style=\"text-align: right;\">\n",
              "      <th></th>\n",
              "      <th>id</th>\n",
              "      <th>qid1</th>\n",
              "      <th>qid2</th>\n",
              "      <th>question1</th>\n",
              "      <th>question2</th>\n",
              "      <th>is_duplicate</th>\n",
              "    </tr>\n",
              "  </thead>\n",
              "  <tbody>\n",
              "    <tr>\n",
              "      <th>0</th>\n",
              "      <td>1</td>\n",
              "      <td>1</td>\n",
              "      <td>2</td>\n",
              "      <td>1000일 만난 여자친구와 이별</td>\n",
              "      <td>10년 연예의끝</td>\n",
              "      <td>1</td>\n",
              "    </tr>\n",
              "    <tr>\n",
              "      <th>1</th>\n",
              "      <td>2</td>\n",
              "      <td>3</td>\n",
              "      <td>4</td>\n",
              "      <td>10년 연애사 되돌아보니 다 부질없네</td>\n",
              "      <td>10년이라는 시간이 참 무색하다 싶네</td>\n",
              "      <td>1</td>\n",
              "    </tr>\n",
              "    <tr>\n",
              "      <th>2</th>\n",
              "      <td>3</td>\n",
              "      <td>5</td>\n",
              "      <td>6</td>\n",
              "      <td>10년만나다 헤어지네</td>\n",
              "      <td>14년된 여자친구랑 이별</td>\n",
              "      <td>1</td>\n",
              "    </tr>\n",
              "    <tr>\n",
              "      <th>3</th>\n",
              "      <td>4</td>\n",
              "      <td>7</td>\n",
              "      <td>8</td>\n",
              "      <td>10월의 마지막밤 . 더 보고싶네 그사람</td>\n",
              "      <td>15년…안녕</td>\n",
              "      <td>1</td>\n",
              "    </tr>\n",
              "    <tr>\n",
              "      <th>4</th>\n",
              "      <td>5</td>\n",
              "      <td>9</td>\n",
              "      <td>10</td>\n",
              "      <td>14년의 기나긴 이야기.</td>\n",
              "      <td>1년 9개월 의 연애 종지부.</td>\n",
              "      <td>1</td>\n",
              "    </tr>\n",
              "    <tr>\n",
              "      <th>...</th>\n",
              "      <td>...</td>\n",
              "      <td>...</td>\n",
              "      <td>...</td>\n",
              "      <td>...</td>\n",
              "      <td>...</td>\n",
              "      <td>...</td>\n",
              "    </tr>\n",
              "    <tr>\n",
              "      <th>6883</th>\n",
              "      <td>6884</td>\n",
              "      <td>13767</td>\n",
              "      <td>13768</td>\n",
              "      <td>O형 남자와 썸을 타는데</td>\n",
              "      <td>O형 여자와 썸을 타는데</td>\n",
              "      <td>1</td>\n",
              "    </tr>\n",
              "    <tr>\n",
              "      <th>6884</th>\n",
              "      <td>6885</td>\n",
              "      <td>13769</td>\n",
              "      <td>13770</td>\n",
              "      <td>SD카드 안돼</td>\n",
              "      <td>SD카드 망가졌어</td>\n",
              "      <td>0</td>\n",
              "    </tr>\n",
              "    <tr>\n",
              "      <th>6885</th>\n",
              "      <td>6886</td>\n",
              "      <td>13771</td>\n",
              "      <td>13772</td>\n",
              "      <td>SNS 를 끊어야 하는데.</td>\n",
              "      <td>가슴 아픈 이별</td>\n",
              "      <td>1</td>\n",
              "    </tr>\n",
              "    <tr>\n",
              "      <th>6886</th>\n",
              "      <td>6887</td>\n",
              "      <td>13773</td>\n",
              "      <td>13774</td>\n",
              "      <td>SNS 시간낭비인데 자꾸 보게됨</td>\n",
              "      <td>SNS 시간낭비인 거 아는데 매일 하는 중</td>\n",
              "      <td>0</td>\n",
              "    </tr>\n",
              "    <tr>\n",
              "      <th>6887</th>\n",
              "      <td>6888</td>\n",
              "      <td>13775</td>\n",
              "      <td>13776</td>\n",
              "      <td>sns에서 다른 이성이랑 대화하는걸 보니 화가 나</td>\n",
              "      <td>가슴에 구멍이 너무 커.</td>\n",
              "      <td>1</td>\n",
              "    </tr>\n",
              "  </tbody>\n",
              "</table>\n",
              "<p>6888 rows × 6 columns</p>\n",
              "</div>"
            ],
            "text/plain": [
              "        id   qid1  ...                question2 is_duplicate\n",
              "0        1      1  ...                 10년 연예의끝            1\n",
              "1        2      3  ...     10년이라는 시간이 참 무색하다 싶네            1\n",
              "2        3      5  ...            14년된 여자친구랑 이별            1\n",
              "3        4      7  ...                   15년…안녕            1\n",
              "4        5      9  ...         1년 9개월 의 연애 종지부.            1\n",
              "...    ...    ...  ...                      ...          ...\n",
              "6883  6884  13767  ...            O형 여자와 썸을 타는데            1\n",
              "6884  6885  13769  ...                SD카드 망가졌어            0\n",
              "6885  6886  13771  ...                 가슴 아픈 이별            1\n",
              "6886  6887  13773  ...  SNS 시간낭비인 거 아는데 매일 하는 중            0\n",
              "6887  6888  13775  ...            가슴에 구멍이 너무 커.            1\n",
              "\n",
              "[6888 rows x 6 columns]"
            ]
          },
          "metadata": {
            "tags": []
          },
          "execution_count": 104
        }
      ]
    },
    {
      "cell_type": "code",
      "metadata": {
        "id": "EKoCzDHNSy3r",
        "colab": {
          "base_uri": "https://localhost:8080/",
          "height": 402
        },
        "outputId": "1e333743-a66e-4414-fb65-45d167dfaaca"
      },
      "source": [
        "df_test = pd.read_csv(os.path.join(quora_dir, 'kor_Pair_test.csv'), delimiter=',')\n",
        "df_test"
      ],
      "execution_count": 105,
      "outputs": [
        {
          "output_type": "execute_result",
          "data": {
            "text/html": [
              "<div>\n",
              "<style scoped>\n",
              "    .dataframe tbody tr th:only-of-type {\n",
              "        vertical-align: middle;\n",
              "    }\n",
              "\n",
              "    .dataframe tbody tr th {\n",
              "        vertical-align: top;\n",
              "    }\n",
              "\n",
              "    .dataframe thead th {\n",
              "        text-align: right;\n",
              "    }\n",
              "</style>\n",
              "<table border=\"1\" class=\"dataframe\">\n",
              "  <thead>\n",
              "    <tr style=\"text-align: right;\">\n",
              "      <th></th>\n",
              "      <th>test_id</th>\n",
              "      <th>question1</th>\n",
              "      <th>question2</th>\n",
              "      <th>is_duplicate</th>\n",
              "      <th>Unnamed: 4</th>\n",
              "    </tr>\n",
              "  </thead>\n",
              "  <tbody>\n",
              "    <tr>\n",
              "      <th>0</th>\n",
              "      <td>1</td>\n",
              "      <td>21살의 사랑에 대해</td>\n",
              "      <td>사랑을 노력한다는게 말이 되나요?</td>\n",
              "      <td>1</td>\n",
              "      <td>NaN</td>\n",
              "    </tr>\n",
              "    <tr>\n",
              "      <th>1</th>\n",
              "      <td>2</td>\n",
              "      <td>2년 가량의 연애</td>\n",
              "      <td>2년 만났어</td>\n",
              "      <td>0</td>\n",
              "      <td>NaN</td>\n",
              "    </tr>\n",
              "    <tr>\n",
              "      <th>2</th>\n",
              "      <td>3</td>\n",
              "      <td>2년 만난 기념일이야</td>\n",
              "      <td>우리 벌써 2년 동안 사궜어</td>\n",
              "      <td>0</td>\n",
              "      <td>NaN</td>\n",
              "    </tr>\n",
              "    <tr>\n",
              "      <th>3</th>\n",
              "      <td>4</td>\n",
              "      <td>2년 사귀었는데 결혼하려고</td>\n",
              "      <td>2년째 짝사랑하는 사람이 있어.</td>\n",
              "      <td>1</td>\n",
              "      <td>NaN</td>\n",
              "    </tr>\n",
              "    <tr>\n",
              "      <th>4</th>\n",
              "      <td>5</td>\n",
              "      <td>5급면제도 나랑사랑카드 발급하나요?</td>\n",
              "      <td>아이콘 노래 사랑을 했다 별로인것같은데</td>\n",
              "      <td>1</td>\n",
              "      <td>NaN</td>\n",
              "    </tr>\n",
              "    <tr>\n",
              "      <th>...</th>\n",
              "      <td>...</td>\n",
              "      <td>...</td>\n",
              "      <td>...</td>\n",
              "      <td>...</td>\n",
              "      <td>...</td>\n",
              "    </tr>\n",
              "    <tr>\n",
              "      <th>683</th>\n",
              "      <td>684</td>\n",
              "      <td>회사에서 짤릴 필이 와</td>\n",
              "      <td>나 회사 짤릴 거 같은데 어떻게 만회하지</td>\n",
              "      <td>0</td>\n",
              "      <td>1.0</td>\n",
              "    </tr>\n",
              "    <tr>\n",
              "      <th>684</th>\n",
              "      <td>685</td>\n",
              "      <td>효율적으로 공부하는 방법</td>\n",
              "      <td>새 해 결심 뭐였더라</td>\n",
              "      <td>1</td>\n",
              "      <td>NaN</td>\n",
              "    </tr>\n",
              "    <tr>\n",
              "      <th>685</th>\n",
              "      <td>686</td>\n",
              "      <td>휴대폰 액정 깨졌어</td>\n",
              "      <td>액정 깨짐</td>\n",
              "      <td>0</td>\n",
              "      <td>NaN</td>\n",
              "    </tr>\n",
              "    <tr>\n",
              "      <th>686</th>\n",
              "      <td>687</td>\n",
              "      <td>힘든 일이 너무 많아요</td>\n",
              "      <td>괜찮아 천천히 해도 돼</td>\n",
              "      <td>1</td>\n",
              "      <td>NaN</td>\n",
              "    </tr>\n",
              "    <tr>\n",
              "      <th>687</th>\n",
              "      <td>688</td>\n",
              "      <td>AI도 감정 있나?</td>\n",
              "      <td>이런 감정은 처음인데 설레네</td>\n",
              "      <td>1</td>\n",
              "      <td>NaN</td>\n",
              "    </tr>\n",
              "  </tbody>\n",
              "</table>\n",
              "<p>688 rows × 5 columns</p>\n",
              "</div>"
            ],
            "text/plain": [
              "     test_id            question1  ... is_duplicate  Unnamed: 4\n",
              "0          1          21살의 사랑에 대해  ...            1         NaN\n",
              "1          2            2년 가량의 연애  ...            0         NaN\n",
              "2          3          2년 만난 기념일이야  ...            0         NaN\n",
              "3          4       2년 사귀었는데 결혼하려고  ...            1         NaN\n",
              "4          5  5급면제도 나랑사랑카드 발급하나요?  ...            1         NaN\n",
              "..       ...                  ...  ...          ...         ...\n",
              "683      684         회사에서 짤릴 필이 와  ...            0         1.0\n",
              "684      685        효율적으로 공부하는 방법  ...            1         NaN\n",
              "685      686           휴대폰 액정 깨졌어  ...            0         NaN\n",
              "686      687         힘든 일이 너무 많아요  ...            1         NaN\n",
              "687      688           AI도 감정 있나?  ...            1         NaN\n",
              "\n",
              "[688 rows x 5 columns]"
            ]
          },
          "metadata": {
            "tags": []
          },
          "execution_count": 105
        }
      ]
    },
    {
      "cell_type": "code",
      "metadata": {
        "id": "GQdNoI3HlO5_",
        "colab": {
          "base_uri": "https://localhost:8080/",
          "height": 77
        },
        "outputId": "b949ce0b-b193-44c4-be6d-3195aa4ba0e6"
      },
      "source": [
        "df_test.dropna()"
      ],
      "execution_count": 106,
      "outputs": [
        {
          "output_type": "execute_result",
          "data": {
            "text/html": [
              "<div>\n",
              "<style scoped>\n",
              "    .dataframe tbody tr th:only-of-type {\n",
              "        vertical-align: middle;\n",
              "    }\n",
              "\n",
              "    .dataframe tbody tr th {\n",
              "        vertical-align: top;\n",
              "    }\n",
              "\n",
              "    .dataframe thead th {\n",
              "        text-align: right;\n",
              "    }\n",
              "</style>\n",
              "<table border=\"1\" class=\"dataframe\">\n",
              "  <thead>\n",
              "    <tr style=\"text-align: right;\">\n",
              "      <th></th>\n",
              "      <th>test_id</th>\n",
              "      <th>question1</th>\n",
              "      <th>question2</th>\n",
              "      <th>is_duplicate</th>\n",
              "      <th>Unnamed: 4</th>\n",
              "    </tr>\n",
              "  </thead>\n",
              "  <tbody>\n",
              "    <tr>\n",
              "      <th>683</th>\n",
              "      <td>684</td>\n",
              "      <td>회사에서 짤릴 필이 와</td>\n",
              "      <td>나 회사 짤릴 거 같은데 어떻게 만회하지</td>\n",
              "      <td>0</td>\n",
              "      <td>1.0</td>\n",
              "    </tr>\n",
              "  </tbody>\n",
              "</table>\n",
              "</div>"
            ],
            "text/plain": [
              "     test_id     question1               question2  is_duplicate  Unnamed: 4\n",
              "683      684  회사에서 짤릴 필이 와  나 회사 짤릴 거 같은데 어떻게 만회하지             0         1.0"
            ]
          },
          "metadata": {
            "tags": []
          },
          "execution_count": 106
        }
      ]
    },
    {
      "cell_type": "code",
      "metadata": {
        "id": "UNNBJKa_Abb7",
        "colab": {
          "base_uri": "https://localhost:8080/",
          "height": 402
        },
        "outputId": "6971c29e-06de-419f-d321-7cd16d18d648"
      },
      "source": [
        "df_test = df_test[['test_id', 'question1', 'question2', 'is_duplicate']]\n",
        "df_test"
      ],
      "execution_count": 107,
      "outputs": [
        {
          "output_type": "execute_result",
          "data": {
            "text/html": [
              "<div>\n",
              "<style scoped>\n",
              "    .dataframe tbody tr th:only-of-type {\n",
              "        vertical-align: middle;\n",
              "    }\n",
              "\n",
              "    .dataframe tbody tr th {\n",
              "        vertical-align: top;\n",
              "    }\n",
              "\n",
              "    .dataframe thead th {\n",
              "        text-align: right;\n",
              "    }\n",
              "</style>\n",
              "<table border=\"1\" class=\"dataframe\">\n",
              "  <thead>\n",
              "    <tr style=\"text-align: right;\">\n",
              "      <th></th>\n",
              "      <th>test_id</th>\n",
              "      <th>question1</th>\n",
              "      <th>question2</th>\n",
              "      <th>is_duplicate</th>\n",
              "    </tr>\n",
              "  </thead>\n",
              "  <tbody>\n",
              "    <tr>\n",
              "      <th>0</th>\n",
              "      <td>1</td>\n",
              "      <td>21살의 사랑에 대해</td>\n",
              "      <td>사랑을 노력한다는게 말이 되나요?</td>\n",
              "      <td>1</td>\n",
              "    </tr>\n",
              "    <tr>\n",
              "      <th>1</th>\n",
              "      <td>2</td>\n",
              "      <td>2년 가량의 연애</td>\n",
              "      <td>2년 만났어</td>\n",
              "      <td>0</td>\n",
              "    </tr>\n",
              "    <tr>\n",
              "      <th>2</th>\n",
              "      <td>3</td>\n",
              "      <td>2년 만난 기념일이야</td>\n",
              "      <td>우리 벌써 2년 동안 사궜어</td>\n",
              "      <td>0</td>\n",
              "    </tr>\n",
              "    <tr>\n",
              "      <th>3</th>\n",
              "      <td>4</td>\n",
              "      <td>2년 사귀었는데 결혼하려고</td>\n",
              "      <td>2년째 짝사랑하는 사람이 있어.</td>\n",
              "      <td>1</td>\n",
              "    </tr>\n",
              "    <tr>\n",
              "      <th>4</th>\n",
              "      <td>5</td>\n",
              "      <td>5급면제도 나랑사랑카드 발급하나요?</td>\n",
              "      <td>아이콘 노래 사랑을 했다 별로인것같은데</td>\n",
              "      <td>1</td>\n",
              "    </tr>\n",
              "    <tr>\n",
              "      <th>...</th>\n",
              "      <td>...</td>\n",
              "      <td>...</td>\n",
              "      <td>...</td>\n",
              "      <td>...</td>\n",
              "    </tr>\n",
              "    <tr>\n",
              "      <th>683</th>\n",
              "      <td>684</td>\n",
              "      <td>회사에서 짤릴 필이 와</td>\n",
              "      <td>나 회사 짤릴 거 같은데 어떻게 만회하지</td>\n",
              "      <td>0</td>\n",
              "    </tr>\n",
              "    <tr>\n",
              "      <th>684</th>\n",
              "      <td>685</td>\n",
              "      <td>효율적으로 공부하는 방법</td>\n",
              "      <td>새 해 결심 뭐였더라</td>\n",
              "      <td>1</td>\n",
              "    </tr>\n",
              "    <tr>\n",
              "      <th>685</th>\n",
              "      <td>686</td>\n",
              "      <td>휴대폰 액정 깨졌어</td>\n",
              "      <td>액정 깨짐</td>\n",
              "      <td>0</td>\n",
              "    </tr>\n",
              "    <tr>\n",
              "      <th>686</th>\n",
              "      <td>687</td>\n",
              "      <td>힘든 일이 너무 많아요</td>\n",
              "      <td>괜찮아 천천히 해도 돼</td>\n",
              "      <td>1</td>\n",
              "    </tr>\n",
              "    <tr>\n",
              "      <th>687</th>\n",
              "      <td>688</td>\n",
              "      <td>AI도 감정 있나?</td>\n",
              "      <td>이런 감정은 처음인데 설레네</td>\n",
              "      <td>1</td>\n",
              "    </tr>\n",
              "  </tbody>\n",
              "</table>\n",
              "<p>688 rows × 4 columns</p>\n",
              "</div>"
            ],
            "text/plain": [
              "     test_id            question1               question2  is_duplicate\n",
              "0          1          21살의 사랑에 대해      사랑을 노력한다는게 말이 되나요?             1\n",
              "1          2            2년 가량의 연애                  2년 만났어             0\n",
              "2          3          2년 만난 기념일이야         우리 벌써 2년 동안 사궜어             0\n",
              "3          4       2년 사귀었는데 결혼하려고       2년째 짝사랑하는 사람이 있어.             1\n",
              "4          5  5급면제도 나랑사랑카드 발급하나요?   아이콘 노래 사랑을 했다 별로인것같은데             1\n",
              "..       ...                  ...                     ...           ...\n",
              "683      684         회사에서 짤릴 필이 와  나 회사 짤릴 거 같은데 어떻게 만회하지             0\n",
              "684      685        효율적으로 공부하는 방법             새 해 결심 뭐였더라             1\n",
              "685      686           휴대폰 액정 깨졌어                   액정 깨짐             0\n",
              "686      687         힘든 일이 너무 많아요            괜찮아 천천히 해도 돼             1\n",
              "687      688           AI도 감정 있나?         이런 감정은 처음인데 설레네             1\n",
              "\n",
              "[688 rows x 4 columns]"
            ]
          },
          "metadata": {
            "tags": []
          },
          "execution_count": 107
        }
      ]
    },
    {
      "cell_type": "code",
      "metadata": {
        "id": "83Sk-EN0lT35",
        "colab": {
          "base_uri": "https://localhost:8080/",
          "height": 402
        },
        "outputId": "35df88dc-2545-44f2-8817-c974df78e148"
      },
      "source": [
        "df_test = df_test.dropna()\n",
        "df_test"
      ],
      "execution_count": 108,
      "outputs": [
        {
          "output_type": "execute_result",
          "data": {
            "text/html": [
              "<div>\n",
              "<style scoped>\n",
              "    .dataframe tbody tr th:only-of-type {\n",
              "        vertical-align: middle;\n",
              "    }\n",
              "\n",
              "    .dataframe tbody tr th {\n",
              "        vertical-align: top;\n",
              "    }\n",
              "\n",
              "    .dataframe thead th {\n",
              "        text-align: right;\n",
              "    }\n",
              "</style>\n",
              "<table border=\"1\" class=\"dataframe\">\n",
              "  <thead>\n",
              "    <tr style=\"text-align: right;\">\n",
              "      <th></th>\n",
              "      <th>test_id</th>\n",
              "      <th>question1</th>\n",
              "      <th>question2</th>\n",
              "      <th>is_duplicate</th>\n",
              "    </tr>\n",
              "  </thead>\n",
              "  <tbody>\n",
              "    <tr>\n",
              "      <th>0</th>\n",
              "      <td>1</td>\n",
              "      <td>21살의 사랑에 대해</td>\n",
              "      <td>사랑을 노력한다는게 말이 되나요?</td>\n",
              "      <td>1</td>\n",
              "    </tr>\n",
              "    <tr>\n",
              "      <th>1</th>\n",
              "      <td>2</td>\n",
              "      <td>2년 가량의 연애</td>\n",
              "      <td>2년 만났어</td>\n",
              "      <td>0</td>\n",
              "    </tr>\n",
              "    <tr>\n",
              "      <th>2</th>\n",
              "      <td>3</td>\n",
              "      <td>2년 만난 기념일이야</td>\n",
              "      <td>우리 벌써 2년 동안 사궜어</td>\n",
              "      <td>0</td>\n",
              "    </tr>\n",
              "    <tr>\n",
              "      <th>3</th>\n",
              "      <td>4</td>\n",
              "      <td>2년 사귀었는데 결혼하려고</td>\n",
              "      <td>2년째 짝사랑하는 사람이 있어.</td>\n",
              "      <td>1</td>\n",
              "    </tr>\n",
              "    <tr>\n",
              "      <th>4</th>\n",
              "      <td>5</td>\n",
              "      <td>5급면제도 나랑사랑카드 발급하나요?</td>\n",
              "      <td>아이콘 노래 사랑을 했다 별로인것같은데</td>\n",
              "      <td>1</td>\n",
              "    </tr>\n",
              "    <tr>\n",
              "      <th>...</th>\n",
              "      <td>...</td>\n",
              "      <td>...</td>\n",
              "      <td>...</td>\n",
              "      <td>...</td>\n",
              "    </tr>\n",
              "    <tr>\n",
              "      <th>683</th>\n",
              "      <td>684</td>\n",
              "      <td>회사에서 짤릴 필이 와</td>\n",
              "      <td>나 회사 짤릴 거 같은데 어떻게 만회하지</td>\n",
              "      <td>0</td>\n",
              "    </tr>\n",
              "    <tr>\n",
              "      <th>684</th>\n",
              "      <td>685</td>\n",
              "      <td>효율적으로 공부하는 방법</td>\n",
              "      <td>새 해 결심 뭐였더라</td>\n",
              "      <td>1</td>\n",
              "    </tr>\n",
              "    <tr>\n",
              "      <th>685</th>\n",
              "      <td>686</td>\n",
              "      <td>휴대폰 액정 깨졌어</td>\n",
              "      <td>액정 깨짐</td>\n",
              "      <td>0</td>\n",
              "    </tr>\n",
              "    <tr>\n",
              "      <th>686</th>\n",
              "      <td>687</td>\n",
              "      <td>힘든 일이 너무 많아요</td>\n",
              "      <td>괜찮아 천천히 해도 돼</td>\n",
              "      <td>1</td>\n",
              "    </tr>\n",
              "    <tr>\n",
              "      <th>687</th>\n",
              "      <td>688</td>\n",
              "      <td>AI도 감정 있나?</td>\n",
              "      <td>이런 감정은 처음인데 설레네</td>\n",
              "      <td>1</td>\n",
              "    </tr>\n",
              "  </tbody>\n",
              "</table>\n",
              "<p>688 rows × 4 columns</p>\n",
              "</div>"
            ],
            "text/plain": [
              "     test_id            question1               question2  is_duplicate\n",
              "0          1          21살의 사랑에 대해      사랑을 노력한다는게 말이 되나요?             1\n",
              "1          2            2년 가량의 연애                  2년 만났어             0\n",
              "2          3          2년 만난 기념일이야         우리 벌써 2년 동안 사궜어             0\n",
              "3          4       2년 사귀었는데 결혼하려고       2년째 짝사랑하는 사람이 있어.             1\n",
              "4          5  5급면제도 나랑사랑카드 발급하나요?   아이콘 노래 사랑을 했다 별로인것같은데             1\n",
              "..       ...                  ...                     ...           ...\n",
              "683      684         회사에서 짤릴 필이 와  나 회사 짤릴 거 같은데 어떻게 만회하지             0\n",
              "684      685        효율적으로 공부하는 방법             새 해 결심 뭐였더라             1\n",
              "685      686           휴대폰 액정 깨졌어                   액정 깨짐             0\n",
              "686      687         힘든 일이 너무 많아요            괜찮아 천천히 해도 돼             1\n",
              "687      688           AI도 감정 있나?         이런 감정은 처음인데 설레네             1\n",
              "\n",
              "[688 rows x 4 columns]"
            ]
          },
          "metadata": {
            "tags": []
          },
          "execution_count": 108
        }
      ]
    },
    {
      "cell_type": "code",
      "metadata": {
        "id": "lAZD9iR6_oO_",
        "colab": {
          "base_uri": "https://localhost:8080/",
          "height": 343
        },
        "outputId": "5860032e-9903-4a16-b060-70a37035d030"
      },
      "source": [
        "# 랜덤하게 10개만 확인\n",
        "df_train = df_train.sample(10)\n",
        "df_train"
      ],
      "execution_count": 109,
      "outputs": [
        {
          "output_type": "execute_result",
          "data": {
            "text/html": [
              "<div>\n",
              "<style scoped>\n",
              "    .dataframe tbody tr th:only-of-type {\n",
              "        vertical-align: middle;\n",
              "    }\n",
              "\n",
              "    .dataframe tbody tr th {\n",
              "        vertical-align: top;\n",
              "    }\n",
              "\n",
              "    .dataframe thead th {\n",
              "        text-align: right;\n",
              "    }\n",
              "</style>\n",
              "<table border=\"1\" class=\"dataframe\">\n",
              "  <thead>\n",
              "    <tr style=\"text-align: right;\">\n",
              "      <th></th>\n",
              "      <th>id</th>\n",
              "      <th>qid1</th>\n",
              "      <th>qid2</th>\n",
              "      <th>question1</th>\n",
              "      <th>question2</th>\n",
              "      <th>is_duplicate</th>\n",
              "    </tr>\n",
              "  </thead>\n",
              "  <tbody>\n",
              "    <tr>\n",
              "      <th>3713</th>\n",
              "      <td>3714</td>\n",
              "      <td>7427</td>\n",
              "      <td>7428</td>\n",
              "      <td>어이가 없어서</td>\n",
              "      <td>어이없어</td>\n",
              "      <td>0</td>\n",
              "    </tr>\n",
              "    <tr>\n",
              "      <th>208</th>\n",
              "      <td>209</td>\n",
              "      <td>417</td>\n",
              "      <td>418</td>\n",
              "      <td>결국 헤어짐이 찾아오네</td>\n",
              "      <td>결혼 가치관 때문에 헤어졌네.</td>\n",
              "      <td>1</td>\n",
              "    </tr>\n",
              "    <tr>\n",
              "      <th>2600</th>\n",
              "      <td>2601</td>\n",
              "      <td>5201</td>\n",
              "      <td>5202</td>\n",
              "      <td>사랑을 믿으세요?</td>\n",
              "      <td>사랑이 끝나고 할 일?</td>\n",
              "      <td>1</td>\n",
              "    </tr>\n",
              "    <tr>\n",
              "      <th>2664</th>\n",
              "      <td>2665</td>\n",
              "      <td>5329</td>\n",
              "      <td>5330</td>\n",
              "      <td>사랑하는 사람이 떠난대</td>\n",
              "      <td>내가 사랑하는 사람이 떠난대</td>\n",
              "      <td>0</td>\n",
              "    </tr>\n",
              "    <tr>\n",
              "      <th>2055</th>\n",
              "      <td>2056</td>\n",
              "      <td>4111</td>\n",
              "      <td>4112</td>\n",
              "      <td>목표가 없어</td>\n",
              "      <td>목표가 없어서 걱정임</td>\n",
              "      <td>0</td>\n",
              "    </tr>\n",
              "    <tr>\n",
              "      <th>3371</th>\n",
              "      <td>3372</td>\n",
              "      <td>6743</td>\n",
              "      <td>6744</td>\n",
              "      <td>썸남한테 크리스마스 선물 오바?</td>\n",
              "      <td>썸남한테 크리스마스 선물 오바?</td>\n",
              "      <td>0</td>\n",
              "    </tr>\n",
              "    <tr>\n",
              "      <th>3059</th>\n",
              "      <td>3060</td>\n",
              "      <td>6119</td>\n",
              "      <td>6120</td>\n",
              "      <td>스키장 간다!</td>\n",
              "      <td>주말에 스키장 간다!</td>\n",
              "      <td>0</td>\n",
              "    </tr>\n",
              "    <tr>\n",
              "      <th>6025</th>\n",
              "      <td>6026</td>\n",
              "      <td>12051</td>\n",
              "      <td>12052</td>\n",
              "      <td>착한남자.너무 쿨하지못한남자 매력없어.</td>\n",
              "      <td>참 답 없는 나란 놈.</td>\n",
              "      <td>1</td>\n",
              "    </tr>\n",
              "    <tr>\n",
              "      <th>4051</th>\n",
              "      <td>4052</td>\n",
              "      <td>8103</td>\n",
              "      <td>8104</td>\n",
              "      <td>연락했는데</td>\n",
              "      <td>연애하는 것도 기술이 필요한가봐</td>\n",
              "      <td>1</td>\n",
              "    </tr>\n",
              "    <tr>\n",
              "      <th>688</th>\n",
              "      <td>689</td>\n",
              "      <td>1377</td>\n",
              "      <td>1378</td>\n",
              "      <td>나 잘하고 있는 걸까?</td>\n",
              "      <td>나 잘하고 있는 건지 모르겠어</td>\n",
              "      <td>0</td>\n",
              "    </tr>\n",
              "  </tbody>\n",
              "</table>\n",
              "</div>"
            ],
            "text/plain": [
              "        id   qid1  ...          question2 is_duplicate\n",
              "3713  3714   7427  ...               어이없어            0\n",
              "208    209    417  ...   결혼 가치관 때문에 헤어졌네.            1\n",
              "2600  2601   5201  ...       사랑이 끝나고 할 일?            1\n",
              "2664  2665   5329  ...    내가 사랑하는 사람이 떠난대            0\n",
              "2055  2056   4111  ...        목표가 없어서 걱정임            0\n",
              "3371  3372   6743  ...  썸남한테 크리스마스 선물 오바?            0\n",
              "3059  3060   6119  ...        주말에 스키장 간다!            0\n",
              "6025  6026  12051  ...       참 답 없는 나란 놈.            1\n",
              "4051  4052   8103  ...  연애하는 것도 기술이 필요한가봐            1\n",
              "688    689   1377  ...   나 잘하고 있는 건지 모르겠어            0\n",
              "\n",
              "[10 rows x 6 columns]"
            ]
          },
          "metadata": {
            "tags": []
          },
          "execution_count": 109
        }
      ]
    },
    {
      "cell_type": "code",
      "metadata": {
        "id": "SxUEnWqP_9UG",
        "colab": {
          "base_uri": "https://localhost:8080/",
          "height": 343
        },
        "outputId": "8c8beb2f-8d9d-4e72-c386-c47e30222f6c"
      },
      "source": [
        "# 랜덤하게 10개만 확인\n",
        "df_test = df_test.sample(10)\n",
        "df_test"
      ],
      "execution_count": 110,
      "outputs": [
        {
          "output_type": "execute_result",
          "data": {
            "text/html": [
              "<div>\n",
              "<style scoped>\n",
              "    .dataframe tbody tr th:only-of-type {\n",
              "        vertical-align: middle;\n",
              "    }\n",
              "\n",
              "    .dataframe tbody tr th {\n",
              "        vertical-align: top;\n",
              "    }\n",
              "\n",
              "    .dataframe thead th {\n",
              "        text-align: right;\n",
              "    }\n",
              "</style>\n",
              "<table border=\"1\" class=\"dataframe\">\n",
              "  <thead>\n",
              "    <tr style=\"text-align: right;\">\n",
              "      <th></th>\n",
              "      <th>test_id</th>\n",
              "      <th>question1</th>\n",
              "      <th>question2</th>\n",
              "      <th>is_duplicate</th>\n",
              "    </tr>\n",
              "  </thead>\n",
              "  <tbody>\n",
              "    <tr>\n",
              "      <th>138</th>\n",
              "      <td>139</td>\n",
              "      <td>노래 불러줘</td>\n",
              "      <td>웃긴게 장난없음</td>\n",
              "      <td>1</td>\n",
              "    </tr>\n",
              "    <tr>\n",
              "      <th>423</th>\n",
              "      <td>424</td>\n",
              "      <td>오늘 화장 좀 잘된다</td>\n",
              "      <td>부모님이 허락 안해주셔</td>\n",
              "      <td>1</td>\n",
              "    </tr>\n",
              "    <tr>\n",
              "      <th>224</th>\n",
              "      <td>225</td>\n",
              "      <td>뭐 이렇게 끝나냐</td>\n",
              "      <td>마지막 문자 보냄</td>\n",
              "      <td>1</td>\n",
              "    </tr>\n",
              "    <tr>\n",
              "      <th>499</th>\n",
              "      <td>500</td>\n",
              "      <td>잘 다녀왔습니다</td>\n",
              "      <td>백만년만에 만난 친구랑 스테이크 먹었어</td>\n",
              "      <td>1</td>\n",
              "    </tr>\n",
              "    <tr>\n",
              "      <th>238</th>\n",
              "      <td>239</td>\n",
              "      <td>배 아파서 누워있어</td>\n",
              "      <td>회사가기 싫어</td>\n",
              "      <td>1</td>\n",
              "    </tr>\n",
              "    <tr>\n",
              "      <th>503</th>\n",
              "      <td>504</td>\n",
              "      <td>잠수타는거 너무 짜증나</td>\n",
              "      <td>아 좀 전화 좀 받으라고</td>\n",
              "      <td>1</td>\n",
              "    </tr>\n",
              "    <tr>\n",
              "      <th>309</th>\n",
              "      <td>310</td>\n",
              "      <td>셀프웨딩 어떨까?</td>\n",
              "      <td>셀프웨딩으로 준비 해볼까</td>\n",
              "      <td>0</td>\n",
              "    </tr>\n",
              "    <tr>\n",
              "      <th>343</th>\n",
              "      <td>344</td>\n",
              "      <td>썸인 것 같아</td>\n",
              "      <td>썸 타다가 자연스럽게 사귀는 방법</td>\n",
              "      <td>1</td>\n",
              "    </tr>\n",
              "    <tr>\n",
              "      <th>489</th>\n",
              "      <td>490</td>\n",
              "      <td>자꾸 궁금한데 집착일까</td>\n",
              "      <td>집착한다고 할까봐 문자 못하겠어</td>\n",
              "      <td>1</td>\n",
              "    </tr>\n",
              "    <tr>\n",
              "      <th>366</th>\n",
              "      <td>367</td>\n",
              "      <td>아직 보내지 못한 이별편지</td>\n",
              "      <td>마지막이라니 울고 싶다.</td>\n",
              "      <td>1</td>\n",
              "    </tr>\n",
              "  </tbody>\n",
              "</table>\n",
              "</div>"
            ],
            "text/plain": [
              "     test_id       question1              question2  is_duplicate\n",
              "138      139          노래 불러줘               웃긴게 장난없음             1\n",
              "423      424     오늘 화장 좀 잘된다           부모님이 허락 안해주셔             1\n",
              "224      225       뭐 이렇게 끝나냐              마지막 문자 보냄             1\n",
              "499      500        잘 다녀왔습니다  백만년만에 만난 친구랑 스테이크 먹었어             1\n",
              "238      239      배 아파서 누워있어                회사가기 싫어             1\n",
              "503      504    잠수타는거 너무 짜증나          아 좀 전화 좀 받으라고             1\n",
              "309      310       셀프웨딩 어떨까?          셀프웨딩으로 준비 해볼까             0\n",
              "343      344         썸인 것 같아     썸 타다가 자연스럽게 사귀는 방법             1\n",
              "489      490    자꾸 궁금한데 집착일까      집착한다고 할까봐 문자 못하겠어             1\n",
              "366      367  아직 보내지 못한 이별편지          마지막이라니 울고 싶다.             1"
            ]
          },
          "metadata": {
            "tags": []
          },
          "execution_count": 110
        }
      ]
    },
    {
      "cell_type": "code",
      "metadata": {
        "id": "pkzwlvcVS1cj"
      },
      "source": [
        "def load_data(df, n_seq_1, n_seq_2):\n",
        "    \"\"\"\n",
        "    Quora 학습 데이터 생성\n",
        "    :param df: data frame\n",
        "    :param n_seq_1: number of sequence 1\n",
        "    :param n_seq_2: number of sequence 2\n",
        "    :return inputs_1: input data 1\n",
        "    :return inputs_2: input data 2\n",
        "    :return labels: label data\n",
        "    \"\"\"\n",
        "    inputs_1 = np.zeros((len(df), n_seq_1)).astype(np.int32)\n",
        "    inputs_2 = np.zeros((len(df), n_seq_2)).astype(np.int32)\n",
        "    labels = np.zeros((len(df),))\n",
        "    index = 0\n",
        "    for i, row in tqdm(df.iterrows(), total=len(df)):\n",
        "        # tokens 저장\n",
        "        print()\n",
        "        #################################\n",
        "        is_duplicate = row['is_duplicate']\n",
        "        question1 = row['question1']\n",
        "        question2 = row['question2']\n",
        "        print(is_duplicate, '/', question1, '/', question2)\n",
        "        # 문장을 token으로 변환\n",
        "        tokens_1 = vocab.encode_as_pieces(question1)\n",
        "        print(len(tokens_1), ':', tokens_1)\n",
        "        tokens_2 = vocab.encode_as_pieces(question2)\n",
        "        print(len(tokens_2), ':', tokens_2)\n",
        "        # 문장을 id로 변환\n",
        "        token_ids_1 = vocab.encode_as_ids(question1)\n",
        "        print(len(token_ids_1), ':', token_ids_1)\n",
        "        token_ids_2 = vocab.encode_as_ids(question2)\n",
        "        print(len(token_ids_2), ':', token_ids_2)\n",
        "        # 길이가 길면 길이를 줄임\n",
        "        token_ids_1 = token_ids_1[:n_seq_1]\n",
        "        print(len(token_ids_1), ':', token_ids_1)\n",
        "        token_ids_2 = token_ids_2[:n_seq_2]\n",
        "        print(len(token_ids_2), ':', token_ids_2)\n",
        "        # 길이가 짧으면 늘려줌 (pad(0))\n",
        "        token_ids_1 += [0] * (n_seq_1 - len(token_ids_1))\n",
        "        print(len(token_ids_1), ':', token_ids_1)\n",
        "        token_ids_2 += [0] * (n_seq_2 - len(token_ids_2))\n",
        "        print(len(token_ids_2), ':', token_ids_2)\n",
        "\n",
        "        labels[index] = 1 - is_duplicate  # 0 -> 1, 1 -> 0\n",
        "        inputs_1[index] = token_ids_1\n",
        "        inputs_2[index] = token_ids_2\n",
        "        index += 1\n",
        "        #################################\n",
        "    return inputs_1, inputs_2, labels"
      ],
      "execution_count": 111,
      "outputs": []
    },
    {
      "cell_type": "code",
      "metadata": {
        "id": "bfEwG-jgS4aN",
        "colab": {
          "base_uri": "https://localhost:8080/",
          "height": 1000,
          "referenced_widgets": [
            "ae2e954081054221bb97420152ca8beb",
            "bf0dfa53b48b455abe350c0bc85029a1",
            "691e1ce1e94c4b628e500b601b271958",
            "eb28d72f7ae14179af80e4e9925cf559",
            "cb96da794d1a409cb10374686c5a0a23",
            "02767daed8654d88a13e8a72746bc4f6",
            "7952a290ca2f49d0b300ec0bf393b261",
            "f4b44743a4c3485084c3476a5f833859"
          ]
        },
        "outputId": "85cf6505-97e6-4e6f-e8b6-a5cbc0b71894"
      },
      "source": [
        "# train data 생성\n",
        "train_inputs_1, train_inputs_2, train_labels = load_data(df_train, n_seq_1, n_seq_2)\n",
        "train_inputs_1, train_inputs_2, train_labels"
      ],
      "execution_count": 112,
      "outputs": [
        {
          "output_type": "display_data",
          "data": {
            "application/vnd.jupyter.widget-view+json": {
              "model_id": "ae2e954081054221bb97420152ca8beb",
              "version_minor": 0,
              "version_major": 2
            },
            "text/plain": [
              "HBox(children=(FloatProgress(value=0.0, max=10.0), HTML(value='')))"
            ]
          },
          "metadata": {
            "tags": []
          }
        },
        {
          "output_type": "stream",
          "text": [
            "\n",
            "0 / 어이가 없어서 / 어이없어\n",
            "4 : ['▁어', '이', '가', '▁없어서']\n",
            "4 : ['▁어', '이', '없', '어']\n",
            "4 : [492, 17, 19, 11579]\n",
            "4 : [492, 17, 11654, 110]\n",
            "4 : [492, 17, 19, 11579]\n",
            "4 : [492, 17, 11654, 110]\n",
            "26 : [492, 17, 19, 11579, 0, 0, 0, 0, 0, 0, 0, 0, 0, 0, 0, 0, 0, 0, 0, 0, 0, 0, 0, 0, 0, 0]\n",
            "27 : [492, 17, 11654, 110, 0, 0, 0, 0, 0, 0, 0, 0, 0, 0, 0, 0, 0, 0, 0, 0, 0, 0, 0, 0, 0, 0, 0]\n",
            "\n",
            "1 / 결국 헤어짐이 찾아오네 / 결혼 가치관 때문에 헤어졌네.\n",
            "6 : ['▁결국', '▁헤어', '짐', '이', '▁찾아오', '네']\n",
            "7 : ['▁결혼', '▁가치관', '▁때문에', '▁헤어', '졌', '네', '.']\n",
            "6 : [493, 10316, 4418, 17, 22564, 343]\n",
            "7 : [1381, 23399, 135, 10316, 14916, 343, 7]\n",
            "6 : [493, 10316, 4418, 17, 22564, 343]\n",
            "7 : [1381, 23399, 135, 10316, 14916, 343, 7]\n",
            "26 : [493, 10316, 4418, 17, 22564, 343, 0, 0, 0, 0, 0, 0, 0, 0, 0, 0, 0, 0, 0, 0, 0, 0, 0, 0, 0, 0]\n",
            "27 : [1381, 23399, 135, 10316, 14916, 343, 7, 0, 0, 0, 0, 0, 0, 0, 0, 0, 0, 0, 0, 0, 0, 0, 0, 0, 0, 0, 0]\n",
            "\n",
            "1 / 사랑을 믿으세요? / 사랑이 끝나고 할 일?\n",
            "5 : ['▁사랑을', '▁믿', '으', '세요', '?']\n",
            "6 : ['▁사랑', '이', '▁끝나고', '▁할', '▁일', '?']\n",
            "5 : [5775, 7830, 3481, 15319, 1860]\n",
            "6 : [1816, 17, 8838, 276, 312, 1860]\n",
            "5 : [5775, 7830, 3481, 15319, 1860]\n",
            "6 : [1816, 17, 8838, 276, 312, 1860]\n",
            "26 : [5775, 7830, 3481, 15319, 1860, 0, 0, 0, 0, 0, 0, 0, 0, 0, 0, 0, 0, 0, 0, 0, 0, 0, 0, 0, 0, 0]\n",
            "27 : [1816, 17, 8838, 276, 312, 1860, 0, 0, 0, 0, 0, 0, 0, 0, 0, 0, 0, 0, 0, 0, 0, 0, 0, 0, 0, 0, 0]\n",
            "\n",
            "0 / 사랑하는 사람이 떠난대 / 내가 사랑하는 사람이 떠난대\n",
            "4 : ['▁사랑하는', '▁사람이', '▁떠난', '대']\n",
            "5 : ['▁내가', '▁사랑하는', '▁사람이', '▁떠난', '대']\n",
            "4 : [13454, 1183, 8236, 72]\n",
            "5 : [7349, 13454, 1183, 8236, 72]\n",
            "4 : [13454, 1183, 8236, 72]\n",
            "5 : [7349, 13454, 1183, 8236, 72]\n",
            "26 : [13454, 1183, 8236, 72, 0, 0, 0, 0, 0, 0, 0, 0, 0, 0, 0, 0, 0, 0, 0, 0, 0, 0, 0, 0, 0, 0]\n",
            "27 : [7349, 13454, 1183, 8236, 72, 0, 0, 0, 0, 0, 0, 0, 0, 0, 0, 0, 0, 0, 0, 0, 0, 0, 0, 0, 0, 0, 0]\n",
            "\n",
            "0 / 목표가 없어 / 목표가 없어서 걱정임\n",
            "3 : ['▁목표', '가', '▁없어']\n",
            "5 : ['▁목표', '가', '▁없어서', '▁걱정', '임']\n",
            "3 : [2971, 19, 2591]\n",
            "5 : [2971, 19, 11579, 9520, 729]\n",
            "3 : [2971, 19, 2591]\n",
            "5 : [2971, 19, 11579, 9520, 729]\n",
            "26 : [2971, 19, 2591, 0, 0, 0, 0, 0, 0, 0, 0, 0, 0, 0, 0, 0, 0, 0, 0, 0, 0, 0, 0, 0, 0, 0]\n",
            "27 : [2971, 19, 11579, 9520, 729, 0, 0, 0, 0, 0, 0, 0, 0, 0, 0, 0, 0, 0, 0, 0, 0, 0, 0, 0, 0, 0, 0]\n",
            "\n",
            "0 / 썸남한테 크리스마스 선물 오바? / 썸남한테 크리스마스 선물 오바?\n",
            "9 : ['▁', '썸', '남', '한테', '▁크리스마스', '▁선물', '▁오', '바', '?']\n",
            "9 : ['▁', '썸', '남', '한테', '▁크리스마스', '▁선물', '▁오', '바', '?']\n",
            "9 : [10, 28134, 481, 12712, 9542, 6647, 178, 297, 1860]\n",
            "9 : [10, 28134, 481, 12712, 9542, 6647, 178, 297, 1860]\n",
            "9 : [10, 28134, 481, 12712, 9542, 6647, 178, 297, 1860]\n",
            "9 : [10, 28134, 481, 12712, 9542, 6647, 178, 297, 1860]\n",
            "26 : [10, 28134, 481, 12712, 9542, 6647, 178, 297, 1860, 0, 0, 0, 0, 0, 0, 0, 0, 0, 0, 0, 0, 0, 0, 0, 0, 0]\n",
            "27 : [10, 28134, 481, 12712, 9542, 6647, 178, 297, 1860, 0, 0, 0, 0, 0, 0, 0, 0, 0, 0, 0, 0, 0, 0, 0, 0, 0, 0]\n",
            "\n",
            "0 / 스키장 간다! / 주말에 스키장 간다!\n",
            "4 : ['▁스키', '장', '▁간다', '!']\n",
            "6 : ['▁주말', '에', '▁스키', '장', '▁간다', '!']\n",
            "4 : [6254, 147, 7193, 1030]\n",
            "6 : [7335, 13, 6254, 147, 7193, 1030]\n",
            "4 : [6254, 147, 7193, 1030]\n",
            "6 : [7335, 13, 6254, 147, 7193, 1030]\n",
            "26 : [6254, 147, 7193, 1030, 0, 0, 0, 0, 0, 0, 0, 0, 0, 0, 0, 0, 0, 0, 0, 0, 0, 0, 0, 0, 0, 0]\n",
            "27 : [7335, 13, 6254, 147, 7193, 1030, 0, 0, 0, 0, 0, 0, 0, 0, 0, 0, 0, 0, 0, 0, 0, 0, 0, 0, 0, 0, 0]\n",
            "\n",
            "1 / 착한남자.너무 쿨하지못한남자 매력없어. / 참 답 없는 나란 놈.\n",
            "15 : ['▁착', '한', '남자', '.', '너', '무', '▁쿨', '하지', '못', '한', '남자', '▁매력', '없', '어', '.']\n",
            "8 : ['▁참', '▁답', '▁없는', '▁나', '란', '▁', '놈', '.']\n",
            "15 : [4186, 33, 21375, 7, 767, 257, 8739, 202, 11666, 33, 21375, 11967, 11654, 110, 7]\n",
            "8 : [1120, 4509, 500, 339, 352, 10, 9782, 7]\n",
            "15 : [4186, 33, 21375, 7, 767, 257, 8739, 202, 11666, 33, 21375, 11967, 11654, 110, 7]\n",
            "8 : [1120, 4509, 500, 339, 352, 10, 9782, 7]\n",
            "26 : [4186, 33, 21375, 7, 767, 257, 8739, 202, 11666, 33, 21375, 11967, 11654, 110, 7, 0, 0, 0, 0, 0, 0, 0, 0, 0, 0, 0]\n",
            "27 : [1120, 4509, 500, 339, 352, 10, 9782, 7, 0, 0, 0, 0, 0, 0, 0, 0, 0, 0, 0, 0, 0, 0, 0, 0, 0, 0, 0]\n",
            "\n",
            "1 / 연락했는데 / 연애하는 것도 기술이 필요한가봐\n",
            "2 : ['▁연락', '했는데']\n",
            "7 : ['▁연애', '하는', '▁것도', '▁기술이', '▁필요한', '가', '봐']\n",
            "2 : [5324, 1137]\n",
            "7 : [8256, 42, 1800, 8524, 1866, 19, 15346]\n",
            "2 : [5324, 1137]\n",
            "7 : [8256, 42, 1800, 8524, 1866, 19, 15346]\n",
            "26 : [5324, 1137, 0, 0, 0, 0, 0, 0, 0, 0, 0, 0, 0, 0, 0, 0, 0, 0, 0, 0, 0, 0, 0, 0, 0, 0]\n",
            "27 : [8256, 42, 1800, 8524, 1866, 19, 15346, 0, 0, 0, 0, 0, 0, 0, 0, 0, 0, 0, 0, 0, 0, 0, 0, 0, 0, 0, 0]\n",
            "\n",
            "0 / 나 잘하고 있는 걸까? / 나 잘하고 있는 건지 모르겠어\n",
            "7 : ['▁나', '▁잘', '하고', '▁있는', '▁걸', '까', '?']\n",
            "9 : ['▁나', '▁잘', '하고', '▁있는', '▁건', '지', '▁모르', '겠', '어']\n",
            "7 : [339, 441, 43, 40, 1473, 2657, 1860]\n",
            "9 : [339, 441, 43, 40, 1054, 47, 5983, 12273, 110]\n",
            "7 : [339, 441, 43, 40, 1473, 2657, 1860]\n",
            "9 : [339, 441, 43, 40, 1054, 47, 5983, 12273, 110]\n",
            "26 : [339, 441, 43, 40, 1473, 2657, 1860, 0, 0, 0, 0, 0, 0, 0, 0, 0, 0, 0, 0, 0, 0, 0, 0, 0, 0, 0]\n",
            "27 : [339, 441, 43, 40, 1054, 47, 5983, 12273, 110, 0, 0, 0, 0, 0, 0, 0, 0, 0, 0, 0, 0, 0, 0, 0, 0, 0, 0]\n",
            "\n"
          ],
          "name": "stdout"
        },
        {
          "output_type": "execute_result",
          "data": {
            "text/plain": [
              "(array([[  492,    17,    19, 11579,     0,     0,     0,     0,     0,\n",
              "             0,     0,     0,     0,     0,     0,     0,     0,     0,\n",
              "             0,     0,     0,     0,     0,     0,     0,     0],\n",
              "        [  493, 10316,  4418,    17, 22564,   343,     0,     0,     0,\n",
              "             0,     0,     0,     0,     0,     0,     0,     0,     0,\n",
              "             0,     0,     0,     0,     0,     0,     0,     0],\n",
              "        [ 5775,  7830,  3481, 15319,  1860,     0,     0,     0,     0,\n",
              "             0,     0,     0,     0,     0,     0,     0,     0,     0,\n",
              "             0,     0,     0,     0,     0,     0,     0,     0],\n",
              "        [13454,  1183,  8236,    72,     0,     0,     0,     0,     0,\n",
              "             0,     0,     0,     0,     0,     0,     0,     0,     0,\n",
              "             0,     0,     0,     0,     0,     0,     0,     0],\n",
              "        [ 2971,    19,  2591,     0,     0,     0,     0,     0,     0,\n",
              "             0,     0,     0,     0,     0,     0,     0,     0,     0,\n",
              "             0,     0,     0,     0,     0,     0,     0,     0],\n",
              "        [   10, 28134,   481, 12712,  9542,  6647,   178,   297,  1860,\n",
              "             0,     0,     0,     0,     0,     0,     0,     0,     0,\n",
              "             0,     0,     0,     0,     0,     0,     0,     0],\n",
              "        [ 6254,   147,  7193,  1030,     0,     0,     0,     0,     0,\n",
              "             0,     0,     0,     0,     0,     0,     0,     0,     0,\n",
              "             0,     0,     0,     0,     0,     0,     0,     0],\n",
              "        [ 4186,    33, 21375,     7,   767,   257,  8739,   202, 11666,\n",
              "            33, 21375, 11967, 11654,   110,     7,     0,     0,     0,\n",
              "             0,     0,     0,     0,     0,     0,     0,     0],\n",
              "        [ 5324,  1137,     0,     0,     0,     0,     0,     0,     0,\n",
              "             0,     0,     0,     0,     0,     0,     0,     0,     0,\n",
              "             0,     0,     0,     0,     0,     0,     0,     0],\n",
              "        [  339,   441,    43,    40,  1473,  2657,  1860,     0,     0,\n",
              "             0,     0,     0,     0,     0,     0,     0,     0,     0,\n",
              "             0,     0,     0,     0,     0,     0,     0,     0]],\n",
              "       dtype=int32),\n",
              " array([[  492,    17, 11654,   110,     0,     0,     0,     0,     0,\n",
              "             0,     0,     0,     0,     0,     0,     0,     0,     0,\n",
              "             0,     0,     0,     0,     0,     0,     0,     0,     0],\n",
              "        [ 1381, 23399,   135, 10316, 14916,   343,     7,     0,     0,\n",
              "             0,     0,     0,     0,     0,     0,     0,     0,     0,\n",
              "             0,     0,     0,     0,     0,     0,     0,     0,     0],\n",
              "        [ 1816,    17,  8838,   276,   312,  1860,     0,     0,     0,\n",
              "             0,     0,     0,     0,     0,     0,     0,     0,     0,\n",
              "             0,     0,     0,     0,     0,     0,     0,     0,     0],\n",
              "        [ 7349, 13454,  1183,  8236,    72,     0,     0,     0,     0,\n",
              "             0,     0,     0,     0,     0,     0,     0,     0,     0,\n",
              "             0,     0,     0,     0,     0,     0,     0,     0,     0],\n",
              "        [ 2971,    19, 11579,  9520,   729,     0,     0,     0,     0,\n",
              "             0,     0,     0,     0,     0,     0,     0,     0,     0,\n",
              "             0,     0,     0,     0,     0,     0,     0,     0,     0],\n",
              "        [   10, 28134,   481, 12712,  9542,  6647,   178,   297,  1860,\n",
              "             0,     0,     0,     0,     0,     0,     0,     0,     0,\n",
              "             0,     0,     0,     0,     0,     0,     0,     0,     0],\n",
              "        [ 7335,    13,  6254,   147,  7193,  1030,     0,     0,     0,\n",
              "             0,     0,     0,     0,     0,     0,     0,     0,     0,\n",
              "             0,     0,     0,     0,     0,     0,     0,     0,     0],\n",
              "        [ 1120,  4509,   500,   339,   352,    10,  9782,     7,     0,\n",
              "             0,     0,     0,     0,     0,     0,     0,     0,     0,\n",
              "             0,     0,     0,     0,     0,     0,     0,     0,     0],\n",
              "        [ 8256,    42,  1800,  8524,  1866,    19, 15346,     0,     0,\n",
              "             0,     0,     0,     0,     0,     0,     0,     0,     0,\n",
              "             0,     0,     0,     0,     0,     0,     0,     0,     0],\n",
              "        [  339,   441,    43,    40,  1054,    47,  5983, 12273,   110,\n",
              "             0,     0,     0,     0,     0,     0,     0,     0,     0,\n",
              "             0,     0,     0,     0,     0,     0,     0,     0,     0]],\n",
              "       dtype=int32),\n",
              " array([1., 0., 0., 1., 1., 1., 1., 0., 0., 1.]))"
            ]
          },
          "metadata": {
            "tags": []
          },
          "execution_count": 112
        }
      ]
    },
    {
      "cell_type": "code",
      "metadata": {
        "id": "Ou45grDSS60t",
        "colab": {
          "base_uri": "https://localhost:8080/",
          "height": 1000,
          "referenced_widgets": [
            "081fdd6706b6400dafcd7bac96c0bbf1",
            "70785bb59c124fb79dd7edfe98760821",
            "e3ea7355ea7c4f97a055bd964d2fdd2c",
            "61374a83484441e0b9406ff54617ebcf",
            "913e9e0c4ade4937a5f696e4ec18c49b",
            "1df3b0bc5d5c4f6bb0a4146ecb7bf560",
            "1dceee43310f49c9a7975dc05211da65",
            "44471c4e9f234611ad74efa8887f4f21"
          ]
        },
        "outputId": "18dcf0db-246b-4a54-b55c-e2d3bfa14608"
      },
      "source": [
        "# test data 생성\n",
        "test_inputs_1, test_inputs_2, test_labels = load_data(df_test, n_seq_1, n_seq_2)\n",
        "test_inputs_1, test_inputs_2, test_labels"
      ],
      "execution_count": 113,
      "outputs": [
        {
          "output_type": "display_data",
          "data": {
            "application/vnd.jupyter.widget-view+json": {
              "model_id": "081fdd6706b6400dafcd7bac96c0bbf1",
              "version_minor": 0,
              "version_major": 2
            },
            "text/plain": [
              "HBox(children=(FloatProgress(value=0.0, max=10.0), HTML(value='')))"
            ]
          },
          "metadata": {
            "tags": []
          }
        },
        {
          "output_type": "stream",
          "text": [
            "\n",
            "1 / 노래 불러줘 / 웃긴게 장난없음\n",
            "3 : ['▁노래', '▁불러', '줘']\n",
            "6 : ['▁웃', '긴', '게', '▁장난', '없', '음']\n",
            "3 : [1186, 2887, 14904]\n",
            "6 : [8196, 1994, 128, 18006, 11654, 583]\n",
            "3 : [1186, 2887, 14904]\n",
            "6 : [8196, 1994, 128, 18006, 11654, 583]\n",
            "26 : [1186, 2887, 14904, 0, 0, 0, 0, 0, 0, 0, 0, 0, 0, 0, 0, 0, 0, 0, 0, 0, 0, 0, 0, 0, 0, 0]\n",
            "27 : [8196, 1994, 128, 18006, 11654, 583, 0, 0, 0, 0, 0, 0, 0, 0, 0, 0, 0, 0, 0, 0, 0, 0, 0, 0, 0, 0, 0]\n",
            "\n",
            "1 / 오늘 화장 좀 잘된다 / 부모님이 허락 안해주셔\n",
            "5 : ['▁오늘', '▁화장', '▁좀', '▁잘', '된다']\n",
            "7 : ['▁부모님', '이', '▁허락', '▁안', '해', '주', '셔']\n",
            "5 : [9676, 16081, 3760, 441, 309]\n",
            "7 : [10676, 17, 5235, 295, 61, 92, 2548]\n",
            "5 : [9676, 16081, 3760, 441, 309]\n",
            "7 : [10676, 17, 5235, 295, 61, 92, 2548]\n",
            "26 : [9676, 16081, 3760, 441, 309, 0, 0, 0, 0, 0, 0, 0, 0, 0, 0, 0, 0, 0, 0, 0, 0, 0, 0, 0, 0, 0]\n",
            "27 : [10676, 17, 5235, 295, 61, 92, 2548, 0, 0, 0, 0, 0, 0, 0, 0, 0, 0, 0, 0, 0, 0, 0, 0, 0, 0, 0, 0]\n",
            "\n",
            "1 / 뭐 이렇게 끝나냐 / 마지막 문자 보냄\n",
            "4 : ['▁뭐', '▁이렇게', '▁끝나', '냐']\n",
            "4 : ['▁마지막', '▁문자', '▁보', '냄']\n",
            "4 : [19999, 1640, 9737, 1969]\n",
            "4 : [803, 1847, 359, 18702]\n",
            "4 : [19999, 1640, 9737, 1969]\n",
            "4 : [803, 1847, 359, 18702]\n",
            "26 : [19999, 1640, 9737, 1969, 0, 0, 0, 0, 0, 0, 0, 0, 0, 0, 0, 0, 0, 0, 0, 0, 0, 0, 0, 0, 0, 0]\n",
            "27 : [803, 1847, 359, 18702, 0, 0, 0, 0, 0, 0, 0, 0, 0, 0, 0, 0, 0, 0, 0, 0, 0, 0, 0, 0, 0, 0, 0]\n",
            "\n",
            "1 / 잘 다녀왔습니다 / 백만년만에 만난 친구랑 스테이크 먹었어\n",
            "4 : ['▁잘', '▁다녀', '왔', '습니다']\n",
            "11 : ['▁백만', '년만에', '▁만난', '▁친구', '랑', '▁스테', '이', '크', '▁먹', '었', '어']\n",
            "4 : [441, 16935, 13549, 6452]\n",
            "11 : [22157, 6798, 7314, 2331, 637, 7261, 17, 311, 3355, 5562, 110]\n",
            "4 : [441, 16935, 13549, 6452]\n",
            "11 : [22157, 6798, 7314, 2331, 637, 7261, 17, 311, 3355, 5562, 110]\n",
            "26 : [441, 16935, 13549, 6452, 0, 0, 0, 0, 0, 0, 0, 0, 0, 0, 0, 0, 0, 0, 0, 0, 0, 0, 0, 0, 0, 0]\n",
            "27 : [22157, 6798, 7314, 2331, 637, 7261, 17, 311, 3355, 5562, 110, 0, 0, 0, 0, 0, 0, 0, 0, 0, 0, 0, 0, 0, 0, 0, 0]\n",
            "\n",
            "1 / 배 아파서 누워있어 / 회사가기 싫어\n",
            "6 : ['▁배', '▁아', '파', '서', '▁누워', '있어']\n",
            "3 : ['▁회사가', '기', '▁싫어']\n",
            "6 : [507, 188, 264, 70, 25523, 13865]\n",
            "3 : [11565, 48, 8375]\n",
            "6 : [507, 188, 264, 70, 25523, 13865]\n",
            "3 : [11565, 48, 8375]\n",
            "26 : [507, 188, 264, 70, 25523, 13865, 0, 0, 0, 0, 0, 0, 0, 0, 0, 0, 0, 0, 0, 0, 0, 0, 0, 0, 0, 0]\n",
            "27 : [11565, 48, 8375, 0, 0, 0, 0, 0, 0, 0, 0, 0, 0, 0, 0, 0, 0, 0, 0, 0, 0, 0, 0, 0, 0, 0, 0]\n",
            "\n",
            "1 / 잠수타는거 너무 짜증나 / 아 좀 전화 좀 받으라고\n",
            "7 : ['▁잠수', '타는', '거', '▁너무', '▁짜', '증', '나']\n",
            "6 : ['▁아', '▁좀', '▁전화', '▁좀', '▁받으', '라고']\n",
            "7 : [20952, 7649, 439, 2329, 6099, 756, 58]\n",
            "6 : [188, 3760, 5033, 3760, 25897, 137]\n",
            "7 : [20952, 7649, 439, 2329, 6099, 756, 58]\n",
            "6 : [188, 3760, 5033, 3760, 25897, 137]\n",
            "26 : [20952, 7649, 439, 2329, 6099, 756, 58, 0, 0, 0, 0, 0, 0, 0, 0, 0, 0, 0, 0, 0, 0, 0, 0, 0, 0, 0]\n",
            "27 : [188, 3760, 5033, 3760, 25897, 137, 0, 0, 0, 0, 0, 0, 0, 0, 0, 0, 0, 0, 0, 0, 0, 0, 0, 0, 0, 0, 0]\n",
            "\n",
            "0 / 셀프웨딩 어떨까? / 셀프웨딩으로 준비 해볼까\n",
            "7 : ['▁셀프', '웨', '딩', '▁어', '떨', '까', '?']\n",
            "8 : ['▁셀프', '웨', '딩', '으로', '▁준비', '▁해', '볼', '까']\n",
            "7 : [28842, 6873, 2251, 492, 17782, 2657, 1860]\n",
            "8 : [28842, 6873, 2251, 28, 1685, 210, 1408, 2657]\n",
            "7 : [28842, 6873, 2251, 492, 17782, 2657, 1860]\n",
            "8 : [28842, 6873, 2251, 28, 1685, 210, 1408, 2657]\n",
            "26 : [28842, 6873, 2251, 492, 17782, 2657, 1860, 0, 0, 0, 0, 0, 0, 0, 0, 0, 0, 0, 0, 0, 0, 0, 0, 0, 0, 0]\n",
            "27 : [28842, 6873, 2251, 28, 1685, 210, 1408, 2657, 0, 0, 0, 0, 0, 0, 0, 0, 0, 0, 0, 0, 0, 0, 0, 0, 0, 0, 0]\n",
            "\n",
            "1 / 썸인 것 같아 / 썸 타다가 자연스럽게 사귀는 방법\n",
            "5 : ['▁', '썸', '인', '▁것', '▁같아']\n",
            "8 : ['▁', '썸', '▁타', '다가', '▁자연스럽게', '▁사귀', '는', '▁방법']\n",
            "5 : [10, 28134, 31, 434, 15509]\n",
            "8 : [10, 28134, 530, 1425, 11015, 21096, 11, 2842]\n",
            "5 : [10, 28134, 31, 434, 15509]\n",
            "8 : [10, 28134, 530, 1425, 11015, 21096, 11, 2842]\n",
            "26 : [10, 28134, 31, 434, 15509, 0, 0, 0, 0, 0, 0, 0, 0, 0, 0, 0, 0, 0, 0, 0, 0, 0, 0, 0, 0, 0]\n",
            "27 : [10, 28134, 530, 1425, 11015, 21096, 11, 2842, 0, 0, 0, 0, 0, 0, 0, 0, 0, 0, 0, 0, 0, 0, 0, 0, 0, 0, 0]\n",
            "\n",
            "1 / 자꾸 궁금한데 집착일까 / 집착한다고 할까봐 문자 못하겠어\n",
            "8 : ['▁자', '꾸', '▁궁금', '한', '데', '▁집착', '일', '까']\n",
            "10 : ['▁집착', '한다고', '▁할', '까', '봐', '▁문자', '▁못', '하', '겠', '어']\n",
            "8 : [371, 7516, 28955, 33, 298, 18244, 26, 2657]\n",
            "10 : [18244, 2650, 276, 2657, 15346, 1847, 1382, 237, 12273, 110]\n",
            "8 : [371, 7516, 28955, 33, 298, 18244, 26, 2657]\n",
            "10 : [18244, 2650, 276, 2657, 15346, 1847, 1382, 237, 12273, 110]\n",
            "26 : [371, 7516, 28955, 33, 298, 18244, 26, 2657, 0, 0, 0, 0, 0, 0, 0, 0, 0, 0, 0, 0, 0, 0, 0, 0, 0, 0]\n",
            "27 : [18244, 2650, 276, 2657, 15346, 1847, 1382, 237, 12273, 110, 0, 0, 0, 0, 0, 0, 0, 0, 0, 0, 0, 0, 0, 0, 0, 0, 0]\n",
            "\n",
            "1 / 아직 보내지 못한 이별편지 / 마지막이라니 울고 싶다.\n",
            "8 : ['▁아직', '▁보내', '지', '▁못한', '▁이', '별', '편', '지']\n",
            "7 : ['▁마지막', '이', '라니', '▁울', '고', '▁싶다', '.']\n",
            "8 : [1950, 1455, 47, 1781, 29, 1086, 979, 47]\n",
            "7 : [803, 17, 11282, 2376, 37, 9608, 7]\n",
            "8 : [1950, 1455, 47, 1781, 29, 1086, 979, 47]\n",
            "7 : [803, 17, 11282, 2376, 37, 9608, 7]\n",
            "26 : [1950, 1455, 47, 1781, 29, 1086, 979, 47, 0, 0, 0, 0, 0, 0, 0, 0, 0, 0, 0, 0, 0, 0, 0, 0, 0, 0]\n",
            "27 : [803, 17, 11282, 2376, 37, 9608, 7, 0, 0, 0, 0, 0, 0, 0, 0, 0, 0, 0, 0, 0, 0, 0, 0, 0, 0, 0, 0]\n",
            "\n"
          ],
          "name": "stdout"
        },
        {
          "output_type": "execute_result",
          "data": {
            "text/plain": [
              "(array([[ 1186,  2887, 14904,     0,     0,     0,     0,     0,     0,\n",
              "             0,     0,     0,     0,     0,     0,     0,     0,     0,\n",
              "             0,     0,     0,     0,     0,     0,     0,     0],\n",
              "        [ 9676, 16081,  3760,   441,   309,     0,     0,     0,     0,\n",
              "             0,     0,     0,     0,     0,     0,     0,     0,     0,\n",
              "             0,     0,     0,     0,     0,     0,     0,     0],\n",
              "        [19999,  1640,  9737,  1969,     0,     0,     0,     0,     0,\n",
              "             0,     0,     0,     0,     0,     0,     0,     0,     0,\n",
              "             0,     0,     0,     0,     0,     0,     0,     0],\n",
              "        [  441, 16935, 13549,  6452,     0,     0,     0,     0,     0,\n",
              "             0,     0,     0,     0,     0,     0,     0,     0,     0,\n",
              "             0,     0,     0,     0,     0,     0,     0,     0],\n",
              "        [  507,   188,   264,    70, 25523, 13865,     0,     0,     0,\n",
              "             0,     0,     0,     0,     0,     0,     0,     0,     0,\n",
              "             0,     0,     0,     0,     0,     0,     0,     0],\n",
              "        [20952,  7649,   439,  2329,  6099,   756,    58,     0,     0,\n",
              "             0,     0,     0,     0,     0,     0,     0,     0,     0,\n",
              "             0,     0,     0,     0,     0,     0,     0,     0],\n",
              "        [28842,  6873,  2251,   492, 17782,  2657,  1860,     0,     0,\n",
              "             0,     0,     0,     0,     0,     0,     0,     0,     0,\n",
              "             0,     0,     0,     0,     0,     0,     0,     0],\n",
              "        [   10, 28134,    31,   434, 15509,     0,     0,     0,     0,\n",
              "             0,     0,     0,     0,     0,     0,     0,     0,     0,\n",
              "             0,     0,     0,     0,     0,     0,     0,     0],\n",
              "        [  371,  7516, 28955,    33,   298, 18244,    26,  2657,     0,\n",
              "             0,     0,     0,     0,     0,     0,     0,     0,     0,\n",
              "             0,     0,     0,     0,     0,     0,     0,     0],\n",
              "        [ 1950,  1455,    47,  1781,    29,  1086,   979,    47,     0,\n",
              "             0,     0,     0,     0,     0,     0,     0,     0,     0,\n",
              "             0,     0,     0,     0,     0,     0,     0,     0]],\n",
              "       dtype=int32),\n",
              " array([[ 8196,  1994,   128, 18006, 11654,   583,     0,     0,     0,\n",
              "             0,     0,     0,     0,     0,     0,     0,     0,     0,\n",
              "             0,     0,     0,     0,     0,     0,     0,     0,     0],\n",
              "        [10676,    17,  5235,   295,    61,    92,  2548,     0,     0,\n",
              "             0,     0,     0,     0,     0,     0,     0,     0,     0,\n",
              "             0,     0,     0,     0,     0,     0,     0,     0,     0],\n",
              "        [  803,  1847,   359, 18702,     0,     0,     0,     0,     0,\n",
              "             0,     0,     0,     0,     0,     0,     0,     0,     0,\n",
              "             0,     0,     0,     0,     0,     0,     0,     0,     0],\n",
              "        [22157,  6798,  7314,  2331,   637,  7261,    17,   311,  3355,\n",
              "          5562,   110,     0,     0,     0,     0,     0,     0,     0,\n",
              "             0,     0,     0,     0,     0,     0,     0,     0,     0],\n",
              "        [11565,    48,  8375,     0,     0,     0,     0,     0,     0,\n",
              "             0,     0,     0,     0,     0,     0,     0,     0,     0,\n",
              "             0,     0,     0,     0,     0,     0,     0,     0,     0],\n",
              "        [  188,  3760,  5033,  3760, 25897,   137,     0,     0,     0,\n",
              "             0,     0,     0,     0,     0,     0,     0,     0,     0,\n",
              "             0,     0,     0,     0,     0,     0,     0,     0,     0],\n",
              "        [28842,  6873,  2251,    28,  1685,   210,  1408,  2657,     0,\n",
              "             0,     0,     0,     0,     0,     0,     0,     0,     0,\n",
              "             0,     0,     0,     0,     0,     0,     0,     0,     0],\n",
              "        [   10, 28134,   530,  1425, 11015, 21096,    11,  2842,     0,\n",
              "             0,     0,     0,     0,     0,     0,     0,     0,     0,\n",
              "             0,     0,     0,     0,     0,     0,     0,     0,     0],\n",
              "        [18244,  2650,   276,  2657, 15346,  1847,  1382,   237, 12273,\n",
              "           110,     0,     0,     0,     0,     0,     0,     0,     0,\n",
              "             0,     0,     0,     0,     0,     0,     0,     0,     0],\n",
              "        [  803,    17, 11282,  2376,    37,  9608,     7,     0,     0,\n",
              "             0,     0,     0,     0,     0,     0,     0,     0,     0,\n",
              "             0,     0,     0,     0,     0,     0,     0,     0,     0]],\n",
              "       dtype=int32),\n",
              " array([0., 0., 0., 0., 0., 0., 1., 0., 0., 0.]))"
            ]
          },
          "metadata": {
            "tags": []
          },
          "execution_count": 113
        }
      ]
    },
    {
      "cell_type": "markdown",
      "metadata": {
        "id": "IFTsdA3kE2h-"
      },
      "source": [
        "## 학습"
      ]
    },
    {
      "cell_type": "code",
      "metadata": {
        "colab": {
          "base_uri": "https://localhost:8080/"
        },
        "id": "jXhzwUI3oT5l",
        "outputId": "2fbea6dc-5aaf-46fd-bcc3-95ef810ad2e5"
      },
      "source": [
        "len(vocab), d_model, n_seq_1, n_seq_2"
      ],
      "execution_count": 114,
      "outputs": [
        {
          "output_type": "execute_result",
          "data": {
            "text/plain": [
              "(32007, 256, 26, 27)"
            ]
          },
          "metadata": {
            "tags": []
          },
          "execution_count": 114
        }
      ]
    },
    {
      "cell_type": "code",
      "metadata": {
        "id": "qTq-wlOgqCFe",
        "colab": {
          "base_uri": "https://localhost:8080/",
          "height": 865
        },
        "outputId": "f2e132f8-74a5-4feb-c8be-10e2cbed7b7e"
      },
      "source": [
        "# 모델 생성\n",
        "model = build_model(len(vocab), d_model, n_seq_1, n_seq_2)\n",
        "# 모델 내용 그래프 출력\n",
        "tf.keras.utils.plot_model(model, 'model.png', show_shapes=True)"
      ],
      "execution_count": 115,
      "outputs": [
        {
          "output_type": "execute_result",
          "data": {
            "image/png": "[encoded data removed]",
            "text/plain": [
              "<IPython.core.display.Image object>"
            ]
          },
          "metadata": {
            "tags": []
          },
          "execution_count": 115
        }
      ]
    },
    {
      "cell_type": "code",
      "metadata": {
        "id": "X7UDvaPqEx1c"
      },
      "source": [
        "# 모델 loss, optimizer, metric 정의\n",
        "model.compile(loss='mean_squared_error', optimizer='adam', metrics=['binary_accuracy'])"
      ],
      "execution_count": 116,
      "outputs": []
    },
    {
      "cell_type": "code",
      "metadata": {
        "id": "-FQBJ2aQLXdp"
      },
      "source": [
        "# early stopping\n",
        "early_stopping = tf.keras.callbacks.EarlyStopping(monitor='val_binary_accuracy', patience=50)\n",
        "# save weights callback\n",
        "save_weights = tf.keras.callbacks.ModelCheckpoint(os.path.join(quora_dir, 'stub.hdf5'),\n",
        "                                                  monitor='val_binary_accuracy',\n",
        "                                                  verbose=1,\n",
        "                                                  save_best_only=True,\n",
        "                                                  mode=\"max\",\n",
        "                                                  save_freq=\"epoch\",\n",
        "                                                  save_weights_only=True)\n",
        "# csv logger\n",
        "csv_logger = tf.keras.callbacks.CSVLogger(os.path.join(quora_dir, 'stub.csv'))"
      ],
      "execution_count": 117,
      "outputs": []
    },
    {
      "cell_type": "code",
      "metadata": {
        "id": "MSyF0MvAFGoJ",
        "colab": {
          "base_uri": "https://localhost:8080/"
        },
        "outputId": "79afee02-88f1-49ed-94b4-9040bd1bed8a"
      },
      "source": [
        "# 모델 학습\n",
        "history = model.fit((train_inputs_1, train_inputs_2),\n",
        "                    train_labels,\n",
        "                    validation_data=((test_inputs_1, test_inputs_2), test_labels),\n",
        "                    epochs=100,\n",
        "                    batch_size=256,\n",
        "                    callbacks=[early_stopping, save_weights, csv_logger])"
      ],
      "execution_count": 118,
      "outputs": [
        {
          "output_type": "stream",
          "text": [
            "Epoch 1/100\n",
            "1/1 [==============================] - 1s 854ms/step - loss: 0.2817 - binary_accuracy: 0.6000 - val_loss: 0.0498 - val_binary_accuracy: 0.9000\n",
            "\n",
            "Epoch 00001: val_binary_accuracy improved from -inf to 0.90000, saving model to /content/drive/MyDrive/kowiki/quora/stub.hdf5\n",
            "Epoch 2/100\n",
            "1/1 [==============================] - 0s 145ms/step - loss: 0.2485 - binary_accuracy: 0.6000 - val_loss: 0.0494 - val_binary_accuracy: 0.9000\n",
            "\n",
            "Epoch 00002: val_binary_accuracy did not improve from 0.90000\n",
            "Epoch 3/100\n",
            "1/1 [==============================] - 0s 105ms/step - loss: 0.2173 - binary_accuracy: 0.6000 - val_loss: 0.0492 - val_binary_accuracy: 0.9000\n",
            "\n",
            "Epoch 00003: val_binary_accuracy did not improve from 0.90000\n",
            "Epoch 4/100\n",
            "1/1 [==============================] - 0s 102ms/step - loss: 0.1886 - binary_accuracy: 0.7000 - val_loss: 0.0490 - val_binary_accuracy: 0.9000\n",
            "\n",
            "Epoch 00004: val_binary_accuracy did not improve from 0.90000\n",
            "Epoch 5/100\n",
            "1/1 [==============================] - 0s 152ms/step - loss: 0.1618 - binary_accuracy: 0.8000 - val_loss: 0.0486 - val_binary_accuracy: 0.9000\n",
            "\n",
            "Epoch 00005: val_binary_accuracy did not improve from 0.90000\n",
            "Epoch 6/100\n",
            "1/1 [==============================] - 0s 100ms/step - loss: 0.1379 - binary_accuracy: 0.8000 - val_loss: 0.0483 - val_binary_accuracy: 0.9000\n",
            "\n",
            "Epoch 00006: val_binary_accuracy did not improve from 0.90000\n",
            "Epoch 7/100\n",
            "1/1 [==============================] - 0s 102ms/step - loss: 0.1162 - binary_accuracy: 0.8000 - val_loss: 0.0480 - val_binary_accuracy: 0.9000\n",
            "\n",
            "Epoch 00007: val_binary_accuracy did not improve from 0.90000\n",
            "Epoch 8/100\n",
            "1/1 [==============================] - 0s 104ms/step - loss: 0.0969 - binary_accuracy: 0.8000 - val_loss: 0.0478 - val_binary_accuracy: 0.9000\n",
            "\n",
            "Epoch 00008: val_binary_accuracy did not improve from 0.90000\n",
            "Epoch 9/100\n",
            "1/1 [==============================] - 0s 110ms/step - loss: 0.0801 - binary_accuracy: 0.8000 - val_loss: 0.0476 - val_binary_accuracy: 0.9000\n",
            "\n",
            "Epoch 00009: val_binary_accuracy did not improve from 0.90000\n",
            "Epoch 10/100\n",
            "1/1 [==============================] - 0s 120ms/step - loss: 0.0656 - binary_accuracy: 0.9000 - val_loss: 0.0475 - val_binary_accuracy: 0.9000\n",
            "\n",
            "Epoch 00010: val_binary_accuracy did not improve from 0.90000\n",
            "Epoch 11/100\n",
            "1/1 [==============================] - 0s 120ms/step - loss: 0.0534 - binary_accuracy: 0.9000 - val_loss: 0.0475 - val_binary_accuracy: 0.9000\n",
            "\n",
            "Epoch 00011: val_binary_accuracy did not improve from 0.90000\n",
            "Epoch 12/100\n",
            "1/1 [==============================] - 0s 108ms/step - loss: 0.0433 - binary_accuracy: 1.0000 - val_loss: 0.0474 - val_binary_accuracy: 0.9000\n",
            "\n",
            "Epoch 00012: val_binary_accuracy did not improve from 0.90000\n",
            "Epoch 13/100\n",
            "1/1 [==============================] - 0s 104ms/step - loss: 0.0351 - binary_accuracy: 1.0000 - val_loss: 0.0474 - val_binary_accuracy: 0.9000\n",
            "\n",
            "Epoch 00013: val_binary_accuracy did not improve from 0.90000\n",
            "Epoch 14/100\n",
            "1/1 [==============================] - 0s 105ms/step - loss: 0.0279 - binary_accuracy: 1.0000 - val_loss: 0.0473 - val_binary_accuracy: 0.9000\n",
            "\n",
            "Epoch 00014: val_binary_accuracy did not improve from 0.90000\n",
            "Epoch 15/100\n",
            "1/1 [==============================] - 0s 100ms/step - loss: 0.0217 - binary_accuracy: 1.0000 - val_loss: 0.0472 - val_binary_accuracy: 0.9000\n",
            "\n",
            "Epoch 00015: val_binary_accuracy did not improve from 0.90000\n",
            "Epoch 16/100\n",
            "1/1 [==============================] - 0s 103ms/step - loss: 0.0172 - binary_accuracy: 1.0000 - val_loss: 0.0471 - val_binary_accuracy: 0.9000\n",
            "\n",
            "Epoch 00016: val_binary_accuracy did not improve from 0.90000\n",
            "Epoch 17/100\n",
            "1/1 [==============================] - 0s 218ms/step - loss: 0.0140 - binary_accuracy: 1.0000 - val_loss: 0.0471 - val_binary_accuracy: 0.9000\n",
            "\n",
            "Epoch 00017: val_binary_accuracy did not improve from 0.90000\n",
            "Epoch 18/100\n",
            "1/1 [==============================] - 0s 104ms/step - loss: 0.0116 - binary_accuracy: 1.0000 - val_loss: 0.0472 - val_binary_accuracy: 0.9000\n",
            "\n",
            "Epoch 00018: val_binary_accuracy did not improve from 0.90000\n",
            "Epoch 19/100\n",
            "1/1 [==============================] - 0s 97ms/step - loss: 0.0103 - binary_accuracy: 1.0000 - val_loss: 0.0472 - val_binary_accuracy: 0.9000\n",
            "\n",
            "Epoch 00019: val_binary_accuracy did not improve from 0.90000\n",
            "Epoch 20/100\n",
            "1/1 [==============================] - 0s 108ms/step - loss: 0.0093 - binary_accuracy: 1.0000 - val_loss: 0.0472 - val_binary_accuracy: 0.9000\n",
            "\n",
            "Epoch 00020: val_binary_accuracy did not improve from 0.90000\n",
            "Epoch 21/100\n",
            "1/1 [==============================] - 0s 100ms/step - loss: 0.0083 - binary_accuracy: 1.0000 - val_loss: 0.0473 - val_binary_accuracy: 0.9000\n",
            "\n",
            "Epoch 00021: val_binary_accuracy did not improve from 0.90000\n",
            "Epoch 22/100\n",
            "1/1 [==============================] - 0s 103ms/step - loss: 0.0075 - binary_accuracy: 1.0000 - val_loss: 0.0474 - val_binary_accuracy: 0.9000\n",
            "\n",
            "Epoch 00022: val_binary_accuracy did not improve from 0.90000\n",
            "Epoch 23/100\n",
            "1/1 [==============================] - 0s 102ms/step - loss: 0.0066 - binary_accuracy: 1.0000 - val_loss: 0.0475 - val_binary_accuracy: 0.9000\n",
            "\n",
            "Epoch 00023: val_binary_accuracy did not improve from 0.90000\n",
            "Epoch 24/100\n",
            "1/1 [==============================] - 0s 100ms/step - loss: 0.0058 - binary_accuracy: 1.0000 - val_loss: 0.0476 - val_binary_accuracy: 0.9000\n",
            "\n",
            "Epoch 00024: val_binary_accuracy did not improve from 0.90000\n",
            "Epoch 25/100\n",
            "1/1 [==============================] - 0s 102ms/step - loss: 0.0050 - binary_accuracy: 1.0000 - val_loss: 0.0477 - val_binary_accuracy: 0.9000\n",
            "\n",
            "Epoch 00025: val_binary_accuracy did not improve from 0.90000\n",
            "Epoch 26/100\n",
            "1/1 [==============================] - 0s 106ms/step - loss: 0.0043 - binary_accuracy: 1.0000 - val_loss: 0.0478 - val_binary_accuracy: 0.9000\n",
            "\n",
            "Epoch 00026: val_binary_accuracy did not improve from 0.90000\n",
            "Epoch 27/100\n",
            "1/1 [==============================] - 0s 103ms/step - loss: 0.0036 - binary_accuracy: 1.0000 - val_loss: 0.0479 - val_binary_accuracy: 0.9000\n",
            "\n",
            "Epoch 00027: val_binary_accuracy did not improve from 0.90000\n",
            "Epoch 28/100\n",
            "1/1 [==============================] - 0s 108ms/step - loss: 0.0031 - binary_accuracy: 1.0000 - val_loss: 0.0480 - val_binary_accuracy: 0.9000\n",
            "\n",
            "Epoch 00028: val_binary_accuracy did not improve from 0.90000\n",
            "Epoch 29/100\n",
            "1/1 [==============================] - 0s 109ms/step - loss: 0.0028 - binary_accuracy: 1.0000 - val_loss: 0.0481 - val_binary_accuracy: 0.9000\n",
            "\n",
            "Epoch 00029: val_binary_accuracy did not improve from 0.90000\n",
            "Epoch 30/100\n",
            "1/1 [==============================] - 0s 102ms/step - loss: 0.0025 - binary_accuracy: 1.0000 - val_loss: 0.0482 - val_binary_accuracy: 0.9000\n",
            "\n",
            "Epoch 00030: val_binary_accuracy did not improve from 0.90000\n",
            "Epoch 31/100\n",
            "1/1 [==============================] - 0s 98ms/step - loss: 0.0022 - binary_accuracy: 1.0000 - val_loss: 0.0483 - val_binary_accuracy: 0.9000\n",
            "\n",
            "Epoch 00031: val_binary_accuracy did not improve from 0.90000\n",
            "Epoch 32/100\n",
            "1/1 [==============================] - 0s 107ms/step - loss: 0.0019 - binary_accuracy: 1.0000 - val_loss: 0.0483 - val_binary_accuracy: 0.9000\n",
            "\n",
            "Epoch 00032: val_binary_accuracy did not improve from 0.90000\n",
            "Epoch 33/100\n",
            "1/1 [==============================] - 0s 102ms/step - loss: 0.0016 - binary_accuracy: 1.0000 - val_loss: 0.0484 - val_binary_accuracy: 0.9000\n",
            "\n",
            "Epoch 00033: val_binary_accuracy did not improve from 0.90000\n",
            "Epoch 34/100\n",
            "1/1 [==============================] - 0s 104ms/step - loss: 0.0014 - binary_accuracy: 1.0000 - val_loss: 0.0484 - val_binary_accuracy: 0.9000\n",
            "\n",
            "Epoch 00034: val_binary_accuracy did not improve from 0.90000\n",
            "Epoch 35/100\n",
            "1/1 [==============================] - 0s 106ms/step - loss: 0.0012 - binary_accuracy: 1.0000 - val_loss: 0.0484 - val_binary_accuracy: 0.9000\n",
            "\n",
            "Epoch 00035: val_binary_accuracy did not improve from 0.90000\n",
            "Epoch 36/100\n",
            "1/1 [==============================] - 0s 103ms/step - loss: 0.0011 - binary_accuracy: 1.0000 - val_loss: 0.0484 - val_binary_accuracy: 0.9000\n",
            "\n",
            "Epoch 00036: val_binary_accuracy did not improve from 0.90000\n",
            "Epoch 37/100\n",
            "1/1 [==============================] - 0s 106ms/step - loss: 9.4712e-04 - binary_accuracy: 1.0000 - val_loss: 0.0484 - val_binary_accuracy: 0.9000\n",
            "\n",
            "Epoch 00037: val_binary_accuracy did not improve from 0.90000\n",
            "Epoch 38/100\n",
            "1/1 [==============================] - 0s 108ms/step - loss: 8.1775e-04 - binary_accuracy: 1.0000 - val_loss: 0.0484 - val_binary_accuracy: 0.9000\n",
            "\n",
            "Epoch 00038: val_binary_accuracy did not improve from 0.90000\n",
            "Epoch 39/100\n",
            "1/1 [==============================] - 0s 105ms/step - loss: 7.0391e-04 - binary_accuracy: 1.0000 - val_loss: 0.0485 - val_binary_accuracy: 0.9000\n",
            "\n",
            "Epoch 00039: val_binary_accuracy did not improve from 0.90000\n",
            "Epoch 40/100\n",
            "1/1 [==============================] - 0s 107ms/step - loss: 6.3659e-04 - binary_accuracy: 1.0000 - val_loss: 0.0485 - val_binary_accuracy: 0.9000\n",
            "\n",
            "Epoch 00040: val_binary_accuracy did not improve from 0.90000\n",
            "Epoch 41/100\n",
            "1/1 [==============================] - 0s 101ms/step - loss: 5.6198e-04 - binary_accuracy: 1.0000 - val_loss: 0.0485 - val_binary_accuracy: 0.9000\n",
            "\n",
            "Epoch 00041: val_binary_accuracy did not improve from 0.90000\n",
            "Epoch 42/100\n",
            "1/1 [==============================] - 0s 112ms/step - loss: 5.0973e-04 - binary_accuracy: 1.0000 - val_loss: 0.0485 - val_binary_accuracy: 0.9000\n",
            "\n",
            "Epoch 00042: val_binary_accuracy did not improve from 0.90000\n",
            "Epoch 43/100\n",
            "1/1 [==============================] - 0s 110ms/step - loss: 4.7435e-04 - binary_accuracy: 1.0000 - val_loss: 0.0485 - val_binary_accuracy: 0.9000\n",
            "\n",
            "Epoch 00043: val_binary_accuracy did not improve from 0.90000\n",
            "Epoch 44/100\n",
            "1/1 [==============================] - 0s 105ms/step - loss: 4.4019e-04 - binary_accuracy: 1.0000 - val_loss: 0.0485 - val_binary_accuracy: 0.9000\n",
            "\n",
            "Epoch 00044: val_binary_accuracy did not improve from 0.90000\n",
            "Epoch 45/100\n",
            "1/1 [==============================] - 0s 109ms/step - loss: 4.2859e-04 - binary_accuracy: 1.0000 - val_loss: 0.0485 - val_binary_accuracy: 0.9000\n",
            "\n",
            "Epoch 00045: val_binary_accuracy did not improve from 0.90000\n",
            "Epoch 46/100\n",
            "1/1 [==============================] - 0s 107ms/step - loss: 4.1156e-04 - binary_accuracy: 1.0000 - val_loss: 0.0485 - val_binary_accuracy: 0.9000\n",
            "\n",
            "Epoch 00046: val_binary_accuracy did not improve from 0.90000\n",
            "Epoch 47/100\n",
            "1/1 [==============================] - 0s 112ms/step - loss: 3.7885e-04 - binary_accuracy: 1.0000 - val_loss: 0.0485 - val_binary_accuracy: 0.9000\n",
            "\n",
            "Epoch 00047: val_binary_accuracy did not improve from 0.90000\n",
            "Epoch 48/100\n",
            "1/1 [==============================] - 0s 107ms/step - loss: 3.3305e-04 - binary_accuracy: 1.0000 - val_loss: 0.0485 - val_binary_accuracy: 0.9000\n",
            "\n",
            "Epoch 00048: val_binary_accuracy did not improve from 0.90000\n",
            "Epoch 49/100\n",
            "1/1 [==============================] - 0s 104ms/step - loss: 3.0404e-04 - binary_accuracy: 1.0000 - val_loss: 0.0485 - val_binary_accuracy: 0.9000\n",
            "\n",
            "Epoch 00049: val_binary_accuracy did not improve from 0.90000\n",
            "Epoch 50/100\n",
            "1/1 [==============================] - 0s 113ms/step - loss: 2.7359e-04 - binary_accuracy: 1.0000 - val_loss: 0.0485 - val_binary_accuracy: 0.9000\n",
            "\n",
            "Epoch 00050: val_binary_accuracy did not improve from 0.90000\n",
            "Epoch 51/100\n",
            "1/1 [==============================] - 0s 103ms/step - loss: 2.4169e-04 - binary_accuracy: 1.0000 - val_loss: 0.0485 - val_binary_accuracy: 0.9000\n",
            "\n",
            "Epoch 00051: val_binary_accuracy did not improve from 0.90000\n"
          ],
          "name": "stdout"
        }
      ]
    },
    {
      "cell_type": "code",
      "metadata": {
        "id": "m1UWJMf4FTiZ",
        "colab": {
          "base_uri": "https://localhost:8080/",
          "height": 279
        },
        "outputId": "e11fcd1c-85a2-41a1-9f93-bc458a91062b"
      },
      "source": [
        "plt.figure(figsize=(12, 4))\n",
        "\n",
        "plt.subplot(1, 2, 1)\n",
        "plt.plot(history.history['loss'], 'b-', label='loss')\n",
        "plt.plot(history.history['val_loss'], 'r--', label='val_loss')\n",
        "plt.xlabel('Epoch')\n",
        "plt.legend()\n",
        "\n",
        "plt.subplot(1, 2, 2)\n",
        "plt.plot(history.history['binary_accuracy'], 'g-', label='acc')\n",
        "plt.plot(history.history['val_binary_accuracy'], 'k--', label='val_acc')\n",
        "plt.xlabel('Epoch')\n",
        "plt.legend()\n",
        "\n",
        "plt.show()"
      ],
      "execution_count": 119,
      "outputs": [
        {
          "output_type": "display_data",
          "data": {
            "image/png": "[encoded data removed]",
            "text/plain": [
              "<Figure size 864x288 with 2 Axes>"
            ]
          },
          "metadata": {
            "tags": [],
            "needs_background": "light"
          }
        }
      ]
    },
    {
      "cell_type": "markdown",
      "metadata": {
        "id": "PQvKAxTbaEpt"
      },
      "source": [
        "## Inference"
      ]
    },
    {
      "cell_type": "code",
      "metadata": {
        "id": "ZuK60XkEOSUS"
      },
      "source": [
        "# 모델 생성\n",
        "model = build_model(len(vocab), d_model, n_seq_1, n_seq_2)\n",
        "# train weight로 초기화\n",
        "model.load_weights(os.path.join(quora_dir, 'stub.hdf5'))"
      ],
      "execution_count": 120,
      "outputs": []
    },
    {
      "cell_type": "code",
      "metadata": {
        "colab": {
          "base_uri": "https://localhost:8080/"
        },
        "id": "2ZyXlkk4OSUd",
        "outputId": "e5ee0cba-407f-4cc0-a9c0-4ce065013757"
      },
      "source": [
        "# 예측\n",
        "logits = model.predict((test_inputs_1, test_inputs_2))\n",
        "logits"
      ],
      "execution_count": 121,
      "outputs": [
        {
          "output_type": "execute_result",
          "data": {
            "text/plain": [
              "array([0.02530433, 0.05701054, 0.02742256, 0.03443673, 0.02164804,\n",
              "       0.0667263 , 0.32108283, 0.0846392 , 0.11033073, 0.08364752],\n",
              "      dtype=float32)"
            ]
          },
          "metadata": {
            "tags": []
          },
          "execution_count": 121
        }
      ]
    },
    {
      "cell_type": "code",
      "metadata": {
        "colab": {
          "base_uri": "https://localhost:8080/"
        },
        "id": "rMxIk3rdOSUe",
        "outputId": "b1ea2210-dd87-4b4c-b7f3-15e278e27df7"
      },
      "source": [
        "# 0.5를 기준으로 (0, 1) 결정\n",
        "test_preds = (0.5 < logits).astype(np.int)\n",
        "test_preds"
      ],
      "execution_count": 122,
      "outputs": [
        {
          "output_type": "execute_result",
          "data": {
            "text/plain": [
              "array([0, 0, 0, 0, 0, 0, 0, 0, 0, 0])"
            ]
          },
          "metadata": {
            "tags": []
          },
          "execution_count": 122
        }
      ]
    },
    {
      "cell_type": "code",
      "metadata": {
        "id": "pwQhmGPcOSUe",
        "colab": {
          "base_uri": "https://localhost:8080/"
        },
        "outputId": "1efa9af4-9bdf-4a47-ea20-6bc37d5f0ab8"
      },
      "source": [
        "# confusion matrix 계산\n",
        "confusion_matrix = np.zeros((2, 2)).astype(np.int)\n",
        "for y_true, y_pred in zip(test_labels, test_preds):\n",
        "    confusion_matrix[int(y_true), int(y_pred)] += 1\n",
        "confusion_matrix"
      ],
      "execution_count": 123,
      "outputs": [
        {
          "output_type": "execute_result",
          "data": {
            "text/plain": [
              "array([[9, 0],\n",
              "       [1, 0]])"
            ]
          },
          "metadata": {
            "tags": []
          },
          "execution_count": 123
        }
      ]
    },
    {
      "cell_type": "code",
      "metadata": {
        "id": "_pjiEotjOSUe",
        "colab": {
          "base_uri": "https://localhost:8080/"
        },
        "outputId": "e5fa3e21-4835-4019-db9d-19ff84e4973e"
      },
      "source": [
        "# score 계산\n",
        "tp = confusion_matrix[1, 1]\n",
        "tn = confusion_matrix[0, 0]\n",
        "fp = confusion_matrix[0, 1]\n",
        "fn = confusion_matrix[1, 0]\n",
        "\n",
        "accuracy = (tp + tn) / max(tp + tn + fp + fn, 1)\n",
        "print(f'accuracy: {accuracy}')\n",
        "precision = (tp) / max(tp + fp, 1)\n",
        "print(f'precision: {precision}')\n",
        "recall = (tp) / max(tp + fn, 1)\n",
        "print(f'recall: {recall}')\n",
        "f1 = 2 * (precision * recall) / max(precision + recall, 1)\n",
        "print(f'f1: {f1}')"
      ],
      "execution_count": 124,
      "outputs": [
        {
          "output_type": "stream",
          "text": [
            "accuracy: 0.9\n",
            "precision: 0.0\n",
            "recall: 0.0\n",
            "f1: 0.0\n"
          ],
          "name": "stdout"
        }
      ]
    },
    {
      "cell_type": "code",
      "metadata": {
        "id": "KzaDEUSbaeu4"
      },
      "source": [
        "def do_predict(model, n_seq_1, string1, n_seq_2, string2):\n",
        "    \"\"\"\n",
        "    입력에 대한 답변 생성하는 함수\n",
        "    :param model: model\n",
        "    :param n_seq_1: 입력 개수 1\n",
        "    :param string1: 입력 문자열 1\n",
        "    :param n_seq_1: 입력 개수 2\n",
        "    :param string2: 입력 문자열 2\n",
        "    \"\"\"\n",
        "    ###############################\n",
        "    # token 생성: <string 1 tokens>, [PAD] tokens\n",
        "    token1 = vocab.encode_as_ids(string1)\n",
        "    token1 = token1[:n_seq_1]\n",
        "    token1 += [0] * (n_seq_1 - len(token1))\n",
        "    print(token1)\n",
        "\n",
        "    # token 생성: <string 2 tokens>, [PAD] tokens\n",
        "    token2 = vocab.encode_as_ids(string2)\n",
        "    token2 = token2[:n_seq_2]\n",
        "    token2 += [0] * (n_seq_2 - len(token2))\n",
        "    print(token2)\n",
        "\n",
        "    y_pred = model.predict((np.array([token1]), np.array([token2])))\n",
        "\n",
        "    return \"같음\" if y_pred[0] > 0.5 else \"다름\"\n",
        "    ###############################"
      ],
      "execution_count": 125,
      "outputs": []
    },
    {
      "cell_type": "code",
      "metadata": {
        "id": "ewK2GsOMtvkj",
        "colab": {
          "base_uri": "https://localhost:8080/",
          "height": 70
        },
        "outputId": "ad95b86f-a38d-444c-c988-cdde73296e2b"
      },
      "source": [
        "string1 = '나는 오늘 기분이 좋아'\n",
        "string2 = '나는 오늘 우울해'\n",
        "do_predict(model, n_seq_1, string1, n_seq_2, string2)"
      ],
      "execution_count": 126,
      "outputs": [
        {
          "output_type": "stream",
          "text": [
            "[3872, 9676, 16056, 17, 2795, 0, 0, 0, 0, 0, 0, 0, 0, 0, 0, 0, 0, 0, 0, 0, 0, 0, 0, 0, 0, 0]\n",
            "[3872, 9676, 22428, 61, 0, 0, 0, 0, 0, 0, 0, 0, 0, 0, 0, 0, 0, 0, 0, 0, 0, 0, 0, 0, 0, 0, 0]\n"
          ],
          "name": "stdout"
        },
        {
          "output_type": "execute_result",
          "data": {
            "application/vnd.google.colaboratory.intrinsic+json": {
              "type": "string"
            },
            "text/plain": [
              "'다름'"
            ]
          },
          "metadata": {
            "tags": []
          },
          "execution_count": 126
        }
      ]
    },
    {
      "cell_type": "code",
      "metadata": {
        "id": "mQVkuBylavCr",
        "colab": {
          "base_uri": "https://localhost:8080/"
        },
        "outputId": "2c8c1e38-c281-4f82-8eb8-4dcd53efcb68"
      },
      "source": [
        "while True:\n",
        "    print(\"string #1 > \", end=\"\")\n",
        "    string1 = str(input())\n",
        "    if len(string1) == 0:\n",
        "        break\n",
        "    print(\"string #2 > \", end=\"\")\n",
        "    string2 = str(input())\n",
        "    if len(string2) == 0:\n",
        "        break\n",
        "    print(f\"output > {do_predict(model, n_seq_1, string1, n_seq_2, string2)}\")"
      ],
      "execution_count": null,
      "outputs": [
        {
          "output_type": "stream",
          "text": [
            "string #1 > 우울하네\n",
            "string #2 > 기분이 안좋아\n",
            "[22428, 237, 343, 0, 0, 0, 0, 0, 0, 0, 0, 0, 0, 0, 0, 0, 0, 0, 0, 0, 0, 0, 0, 0, 0, 0]\n",
            "[16056, 17, 295, 23912, 141, 0, 0, 0, 0, 0, 0, 0, 0, 0, 0, 0, 0, 0, 0, 0, 0, 0, 0, 0, 0, 0, 0]\n",
            "output > 다름\n",
            "string #1 > "
          ],
          "name": "stdout"
        }
      ]
    },
    {
      "cell_type": "markdown",
      "metadata": {
        "id": "zSaoCf37q3aC"
      },
      "source": [
        "# All Data Project"
      ]
    },
    {
      "cell_type": "markdown",
      "metadata": {
        "id": "arOON7lCq3aC"
      },
      "source": [
        "## Data\n"
      ]
    },
    {
      "cell_type": "code",
      "metadata": {
        "id": "tNIbidDEq3aC"
      },
      "source": [
        "df_train = pd.read_csv(os.path.join(quora_dir, 'kor_pair_train.csv'), delimiter=',')\n",
        "df_train"
      ],
      "execution_count": null,
      "outputs": []
    },
    {
      "cell_type": "code",
      "metadata": {
        "id": "6kGWoqa0q3aD"
      },
      "source": [
        "df_train = df_train.dropna()\n",
        "df_train"
      ],
      "execution_count": null,
      "outputs": []
    },
    {
      "cell_type": "code",
      "metadata": {
        "id": "KWPDQFPBq3aD"
      },
      "source": [
        "df_test = pd.read_csv(os.path.join(quora_dir, 'kor_Pair_test.csv'), delimiter=',')\n",
        "df_test"
      ],
      "execution_count": null,
      "outputs": []
    },
    {
      "cell_type": "code",
      "metadata": {
        "id": "y9ewl-6Zq3aE"
      },
      "source": [
        "df_test = df_test[['test_id', 'question1', 'question2', 'is_duplicate']]\n",
        "df_test"
      ],
      "execution_count": null,
      "outputs": []
    },
    {
      "cell_type": "code",
      "metadata": {
        "id": "kXcHn9p4q3aE"
      },
      "source": [
        "df_test = df_test.dropna()\n",
        "df_test"
      ],
      "execution_count": null,
      "outputs": []
    },
    {
      "cell_type": "code",
      "metadata": {
        "id": "pl2JDf6Aq3aF"
      },
      "source": [
        "def load_data(df, n_seq_1, n_seq_2):\n",
        "    \"\"\"\n",
        "    Quora 학습 데이터 생성\n",
        "    :param df: data frame\n",
        "    :param n_seq_1: number of sequence 1\n",
        "    :param n_seq_2: number of sequence 2\n",
        "    :return inputs_1: input data 1\n",
        "    :return inputs_2: input data 2\n",
        "    :return labels: label data\n",
        "    \"\"\"\n",
        "    inputs_1 = np.zeros((len(df), n_seq_1)).astype(np.int32)\n",
        "    inputs_2 = np.zeros((len(df), n_seq_2)).astype(np.int32)\n",
        "    labels = np.zeros((len(df),))\n",
        "    index = 0\n",
        "    for i, row in tqdm(df.iterrows(), total=len(df)):\n",
        "        # tokens 저장\n",
        "        # print()\n",
        "        is_duplicate = row['is_duplicate']\n",
        "        question1 = row['question1']\n",
        "        question2 = row['question2']\n",
        "        # print(is_duplicate, question1, question2)\n",
        "\n",
        "        tokens_1 = vocab.encode_as_pieces(question1)\n",
        "        # print(len(tokens_1), ':', tokens_1)\n",
        "        tokens_2 = vocab.encode_as_pieces(question2)\n",
        "        # print(len(tokens_2), ':', tokens_2)\n",
        "\n",
        "        token_ids_1 = vocab.encode_as_ids(question1)\n",
        "        # print(len(token_ids_1), ':', token_ids_1)\n",
        "        token_ids_2 = vocab.encode_as_ids(question2)\n",
        "        # print(len(token_ids_2), ':', token_ids_2)\n",
        "\n",
        "        token_ids_1 = token_ids_1[:n_seq_1]\n",
        "        # print(len(token_ids_1), ':', token_ids_1)\n",
        "        token_ids_2 = token_ids_2[:n_seq_2]\n",
        "        # print(len(token_ids_2), ':', token_ids_2)\n",
        "\n",
        "        token_ids_1 += [0] * (n_seq_1 - len(token_ids_1))\n",
        "        # print(len(token_ids_1), ':', token_ids_1)\n",
        "        token_ids_2 += [0] * (n_seq_2 - len(token_ids_2))\n",
        "        # print(len(token_ids_2), ':', token_ids_2)\n",
        "\n",
        "        labels[index] = 1 - is_duplicate  # 0 -> 1, 1 -> 0\n",
        "        inputs_1[index] = token_ids_1\n",
        "        inputs_2[index] = token_ids_2\n",
        "        index += 1\n",
        "    return inputs_1, inputs_2, labels"
      ],
      "execution_count": null,
      "outputs": []
    },
    {
      "cell_type": "code",
      "metadata": {
        "id": "f5cu4GTFq3aF"
      },
      "source": [
        "# train data 생성\n",
        "train_inputs_1, train_inputs_2, train_labels = load_data(df_train, n_seq_1, n_seq_2)\n",
        "train_inputs_1, train_inputs_2, train_labels"
      ],
      "execution_count": null,
      "outputs": []
    },
    {
      "cell_type": "code",
      "metadata": {
        "id": "wAc54dMJq3aF"
      },
      "source": [
        "# test data 생성\n",
        "test_inputs_1, test_inputs_2, test_labels = load_data(df_test, n_seq_1, n_seq_2)\n",
        "test_inputs_1, test_inputs_2, test_labels"
      ],
      "execution_count": null,
      "outputs": []
    },
    {
      "cell_type": "markdown",
      "metadata": {
        "id": "wMPwmL79q3aG"
      },
      "source": [
        "## 학습"
      ]
    },
    {
      "cell_type": "code",
      "metadata": {
        "id": "dFNqEE0Bq3aG"
      },
      "source": [
        "# 모델 생성\n",
        "model = build_model(len(vocab), d_model, n_seq_1, n_seq_2)\n",
        "# 모델 내용 그래프 출력\n",
        "tf.keras.utils.plot_model(model, 'model.png', show_shapes=True)"
      ],
      "execution_count": null,
      "outputs": []
    },
    {
      "cell_type": "code",
      "metadata": {
        "id": "jQIP_O8Dq3aG"
      },
      "source": [
        "# 모델 loss, optimizer, metric 정의\n",
        "model.compile(loss='mean_squared_error', optimizer='adam', metrics=['binary_accuracy'])"
      ],
      "execution_count": null,
      "outputs": []
    },
    {
      "cell_type": "code",
      "metadata": {
        "id": "P8Kb7jHvq3aG"
      },
      "source": [
        "# early stopping\n",
        "early_stopping = tf.keras.callbacks.EarlyStopping(monitor='val_binary_accuracy', patience=5)\n",
        "# save weights callback\n",
        "save_weights = tf.keras.callbacks.ModelCheckpoint(os.path.join(quora_dir, 'stub.hdf5'),\n",
        "                                                  monitor='val_binary_accuracy',\n",
        "                                                  verbose=1,\n",
        "                                                  save_best_only=True,\n",
        "                                                  mode=\"max\",\n",
        "                                                  save_freq=\"epoch\",\n",
        "                                                  save_weights_only=True)\n",
        "# csv logger\n",
        "csv_logger = tf.keras.callbacks.CSVLogger(os.path.join(quora_dir, 'stub.csv'))"
      ],
      "execution_count": null,
      "outputs": []
    },
    {
      "cell_type": "code",
      "metadata": {
        "id": "DU7VaxEcq3aG"
      },
      "source": [
        "# 모델 학습\n",
        "history = model.fit((train_inputs_1, train_inputs_2),\n",
        "                    train_labels,\n",
        "                    validation_data=((test_inputs_1, test_inputs_2), test_labels),\n",
        "                    epochs=100,\n",
        "                    batch_size=256,\n",
        "                    callbacks=[early_stopping, save_weights, csv_logger])"
      ],
      "execution_count": null,
      "outputs": []
    },
    {
      "cell_type": "code",
      "metadata": {
        "colab": {
          "base_uri": "https://localhost:8080/",
          "height": 279
        },
        "id": "6jigtzHxq3aG",
        "outputId": "aac98c37-488b-4fd6-e662-ac9b93ffbd39"
      },
      "source": [
        "plt.figure(figsize=(12, 4))\n",
        "\n",
        "plt.subplot(1, 2, 1)\n",
        "plt.plot(history.history['loss'], 'b-', label='loss')\n",
        "plt.plot(history.history['val_loss'], 'r--', label='val_loss')\n",
        "plt.xlabel('Epoch')\n",
        "plt.legend()\n",
        "\n",
        "plt.subplot(1, 2, 2)\n",
        "plt.plot(history.history['binary_accuracy'], 'g-', label='acc')\n",
        "plt.plot(history.history['val_binary_accuracy'], 'k--', label='val_acc')\n",
        "plt.xlabel('Epoch')\n",
        "plt.legend()\n",
        "\n",
        "plt.show()"
      ],
      "execution_count": null,
      "outputs": [
        {
          "output_type": "display_data",
          "data": {
            "image/png": "[encoded data removed]",
            "text/plain": [
              "<Figure size 864x288 with 2 Axes>"
            ]
          },
          "metadata": {
            "tags": [],
            "needs_background": "light"
          }
        }
      ]
    },
    {
      "cell_type": "markdown",
      "metadata": {
        "id": "jTN2yeNEq3aI"
      },
      "source": [
        "## Inference"
      ]
    },
    {
      "cell_type": "code",
      "metadata": {
        "id": "iSWxgN2iq3aI"
      },
      "source": [
        "# 모델 생성\n",
        "model = build_model(len(vocab), d_model, n_seq_1, n_seq_2)\n",
        "# train weight로 초기화\n",
        "model.load_weights(os.path.join(quora_dir, 'stub.hdf5'))"
      ],
      "execution_count": null,
      "outputs": []
    },
    {
      "cell_type": "code",
      "metadata": {
        "id": "i0nmHeRbq3aI"
      },
      "source": [
        "# 예측\n",
        "logits = model.predict((test_inputs_1, test_inputs_2))\n",
        "logits"
      ],
      "execution_count": null,
      "outputs": []
    },
    {
      "cell_type": "code",
      "metadata": {
        "id": "K8CprZvVq3aI"
      },
      "source": [
        "# 0.5를 기준으로 (0, 1) 결정\n",
        "test_preds = (0.5 < logits).astype(np.int)\n",
        "test_preds"
      ],
      "execution_count": null,
      "outputs": []
    },
    {
      "cell_type": "code",
      "metadata": {
        "id": "Nr6i_0noq3aJ"
      },
      "source": [
        "# confusion matrix 계산\n",
        "confusion_matrix = np.zeros((2, 2)).astype(np.int)\n",
        "for y_true, y_pred in zip(test_labels, test_preds):\n",
        "    confusion_matrix[int(y_true), int(y_pred)] += 1\n",
        "confusion_matrix"
      ],
      "execution_count": null,
      "outputs": []
    },
    {
      "cell_type": "code",
      "metadata": {
        "id": "dRx3o1frq3aJ"
      },
      "source": [
        "# score 계산\n",
        "tp = confusion_matrix[1, 1]\n",
        "tn = confusion_matrix[0, 0]\n",
        "fp = confusion_matrix[0, 1]\n",
        "fn = confusion_matrix[1, 0]\n",
        "\n",
        "accuracy = (tp + tn) / max(tp + tn + fp + fn, 1)\n",
        "print(f'accuracy: {accuracy}')\n",
        "precision = (tp) / max(tp + fp, 1)\n",
        "print(f'precision: {precision}')\n",
        "recall = (tp) / max(tp + fn, 1)\n",
        "print(f'recall: {recall}')\n",
        "f1 = 2 * (precision * recall) / max(precision + recall, 1)\n",
        "print(f'f1: {f1}')"
      ],
      "execution_count": null,
      "outputs": []
    },
    {
      "cell_type": "code",
      "metadata": {
        "id": "dTLqY8UUq3aJ"
      },
      "source": [
        "def do_predict(model, n_seq_1, string1, n_seq_2, string2):\n",
        "    \"\"\"\n",
        "    입력에 대한 답변 생성하는 함수\n",
        "    :param model: model\n",
        "    :param n_seq_1: 입력 개수 1\n",
        "    :param string1: 입력 문자열 1\n",
        "    :param n_seq_1: 입력 개수 3\n",
        "    :param string2: 입력 문자열 2\n",
        "    \"\"\"\n",
        "    # token 생성: <string 1 tokens>, [PAD] tokens\n",
        "    token1 = vocab.encode_as_ids(string1)[:n_seq_1]\n",
        "    token1 += [0] * (n_seq_1 - len(token1))\n",
        "\n",
        "    # token 생성: <string 2 tokens>, [PAD] tokens\n",
        "    token2 = vocab.encode_as_ids(string2)[:n_seq_2]\n",
        "    token2 += [0] * (n_seq_2 - len(token2))\n",
        "\n",
        "    y_pred = model.predict((np.array([token1]), np.array([token2])))\n",
        "\n",
        "    return \"같음\" if y_pred[0] > 0.5 else \"다름\""
      ],
      "execution_count": null,
      "outputs": []
    },
    {
      "cell_type": "code",
      "metadata": {
        "id": "jOLOr1Ygq3aJ"
      },
      "source": [
        "while True:\n",
        "    print(\"string #1 > \", end=\"\")\n",
        "    string1 = str(input())\n",
        "    if len(string1) == 0:\n",
        "        break\n",
        "    print(\"string #2 > \", end=\"\")\n",
        "    string2 = str(input())\n",
        "    if len(string2) == 0:\n",
        "        break\n",
        "    print(f\"output > {do_predict(model, n_seq_1, string1, n_seq_2, string2)}\")"
      ],
      "execution_count": null,
      "outputs": []
    },
    {
      "cell_type": "code",
      "metadata": {
        "id": "F1YfFKUrsVp8"
      },
      "source": [
        ""
      ],
      "execution_count": null,
      "outputs": []
    }
  ]
}