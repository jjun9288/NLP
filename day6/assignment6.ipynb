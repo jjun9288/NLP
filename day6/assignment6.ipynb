{
  "nbformat": 4,
  "nbformat_minor": 0,
  "metadata": {
    "colab": {
      "name": "06-01-text-similarity-과제.ipynb",
      "provenance": [],
      "collapsed_sections": [
        "g78tzmjN3mzF",
        "6dfJPT-2XMTB",
        "JHkHg6XAXoyK",
        "XwriCkq_R1Lc",
        "3myBX8hNEH1u",
        "zSaoCf37q3aC",
        "arOON7lCq3aC",
        "wMPwmL79q3aG",
        "jTN2yeNEq3aI"
      ]
    },
    "kernelspec": {
      "name": "python3",
      "display_name": "Python 3"
    },
    "accelerator": "GPU",
    "widgets": {
      "application/vnd.jupyter.widget-state+json": {
        "1b8800311c8f438e899058c5fc4d8afe": {
          "model_module": "@jupyter-widgets/controls",
          "model_name": "HBoxModel",
          "state": {
            "_view_name": "HBoxView",
            "_dom_classes": [],
            "_model_name": "HBoxModel",
            "_view_module": "@jupyter-widgets/controls",
            "_model_module_version": "1.5.0",
            "_view_count": null,
            "_view_module_version": "1.5.0",
            "box_style": "",
            "layout": "IPY_MODEL_45d37f0a13a4464c88a922a2384e7b8f",
            "_model_module": "@jupyter-widgets/controls",
            "children": [
              "IPY_MODEL_433406c6354e4c9a9cffaab93297eb44",
              "IPY_MODEL_8d62a49b985145a0b4fe81890e7013e8"
            ]
          }
        },
        "45d37f0a13a4464c88a922a2384e7b8f": {
          "model_module": "@jupyter-widgets/base",
          "model_name": "LayoutModel",
          "state": {
            "_view_name": "LayoutView",
            "grid_template_rows": null,
            "right": null,
            "justify_content": null,
            "_view_module": "@jupyter-widgets/base",
            "overflow": null,
            "_model_module_version": "1.2.0",
            "_view_count": null,
            "flex_flow": null,
            "width": null,
            "min_width": null,
            "border": null,
            "align_items": null,
            "bottom": null,
            "_model_module": "@jupyter-widgets/base",
            "top": null,
            "grid_column": null,
            "overflow_y": null,
            "overflow_x": null,
            "grid_auto_flow": null,
            "grid_area": null,
            "grid_template_columns": null,
            "flex": null,
            "_model_name": "LayoutModel",
            "justify_items": null,
            "grid_row": null,
            "max_height": null,
            "align_content": null,
            "visibility": null,
            "align_self": null,
            "height": null,
            "min_height": null,
            "padding": null,
            "grid_auto_rows": null,
            "grid_gap": null,
            "max_width": null,
            "order": null,
            "_view_module_version": "1.2.0",
            "grid_template_areas": null,
            "object_position": null,
            "object_fit": null,
            "grid_auto_columns": null,
            "margin": null,
            "display": null,
            "left": null
          }
        },
        "433406c6354e4c9a9cffaab93297eb44": {
          "model_module": "@jupyter-widgets/controls",
          "model_name": "FloatProgressModel",
          "state": {
            "_view_name": "ProgressView",
            "style": "IPY_MODEL_a462c26ab48e4109b55d78bda54852aa",
            "_dom_classes": [],
            "description": "100%",
            "_model_name": "FloatProgressModel",
            "bar_style": "success",
            "max": 6888,
            "_view_module": "@jupyter-widgets/controls",
            "_model_module_version": "1.5.0",
            "value": 6888,
            "_view_count": null,
            "_view_module_version": "1.5.0",
            "orientation": "horizontal",
            "min": 0,
            "description_tooltip": null,
            "_model_module": "@jupyter-widgets/controls",
            "layout": "IPY_MODEL_4ac1532d4ffa470ea7daf94404834b98"
          }
        },
        "8d62a49b985145a0b4fe81890e7013e8": {
          "model_module": "@jupyter-widgets/controls",
          "model_name": "HTMLModel",
          "state": {
            "_view_name": "HTMLView",
            "style": "IPY_MODEL_3e2d6219d0a94cf2bac0df443c682a96",
            "_dom_classes": [],
            "description": "",
            "_model_name": "HTMLModel",
            "placeholder": "​",
            "_view_module": "@jupyter-widgets/controls",
            "_model_module_version": "1.5.0",
            "value": " 6888/6888 [00:12&lt;00:00, 571.33it/s]",
            "_view_count": null,
            "_view_module_version": "1.5.0",
            "description_tooltip": null,
            "_model_module": "@jupyter-widgets/controls",
            "layout": "IPY_MODEL_e02de3ccef064ffdb991663b97588207"
          }
        },
        "a462c26ab48e4109b55d78bda54852aa": {
          "model_module": "@jupyter-widgets/controls",
          "model_name": "ProgressStyleModel",
          "state": {
            "_view_name": "StyleView",
            "_model_name": "ProgressStyleModel",
            "description_width": "initial",
            "_view_module": "@jupyter-widgets/base",
            "_model_module_version": "1.5.0",
            "_view_count": null,
            "_view_module_version": "1.2.0",
            "bar_color": null,
            "_model_module": "@jupyter-widgets/controls"
          }
        },
        "4ac1532d4ffa470ea7daf94404834b98": {
          "model_module": "@jupyter-widgets/base",
          "model_name": "LayoutModel",
          "state": {
            "_view_name": "LayoutView",
            "grid_template_rows": null,
            "right": null,
            "justify_content": null,
            "_view_module": "@jupyter-widgets/base",
            "overflow": null,
            "_model_module_version": "1.2.0",
            "_view_count": null,
            "flex_flow": null,
            "width": null,
            "min_width": null,
            "border": null,
            "align_items": null,
            "bottom": null,
            "_model_module": "@jupyter-widgets/base",
            "top": null,
            "grid_column": null,
            "overflow_y": null,
            "overflow_x": null,
            "grid_auto_flow": null,
            "grid_area": null,
            "grid_template_columns": null,
            "flex": null,
            "_model_name": "LayoutModel",
            "justify_items": null,
            "grid_row": null,
            "max_height": null,
            "align_content": null,
            "visibility": null,
            "align_self": null,
            "height": null,
            "min_height": null,
            "padding": null,
            "grid_auto_rows": null,
            "grid_gap": null,
            "max_width": null,
            "order": null,
            "_view_module_version": "1.2.0",
            "grid_template_areas": null,
            "object_position": null,
            "object_fit": null,
            "grid_auto_columns": null,
            "margin": null,
            "display": null,
            "left": null
          }
        },
        "3e2d6219d0a94cf2bac0df443c682a96": {
          "model_module": "@jupyter-widgets/controls",
          "model_name": "DescriptionStyleModel",
          "state": {
            "_view_name": "StyleView",
            "_model_name": "DescriptionStyleModel",
            "description_width": "",
            "_view_module": "@jupyter-widgets/base",
            "_model_module_version": "1.5.0",
            "_view_count": null,
            "_view_module_version": "1.2.0",
            "_model_module": "@jupyter-widgets/controls"
          }
        },
        "e02de3ccef064ffdb991663b97588207": {
          "model_module": "@jupyter-widgets/base",
          "model_name": "LayoutModel",
          "state": {
            "_view_name": "LayoutView",
            "grid_template_rows": null,
            "right": null,
            "justify_content": null,
            "_view_module": "@jupyter-widgets/base",
            "overflow": null,
            "_model_module_version": "1.2.0",
            "_view_count": null,
            "flex_flow": null,
            "width": null,
            "min_width": null,
            "border": null,
            "align_items": null,
            "bottom": null,
            "_model_module": "@jupyter-widgets/base",
            "top": null,
            "grid_column": null,
            "overflow_y": null,
            "overflow_x": null,
            "grid_auto_flow": null,
            "grid_area": null,
            "grid_template_columns": null,
            "flex": null,
            "_model_name": "LayoutModel",
            "justify_items": null,
            "grid_row": null,
            "max_height": null,
            "align_content": null,
            "visibility": null,
            "align_self": null,
            "height": null,
            "min_height": null,
            "padding": null,
            "grid_auto_rows": null,
            "grid_gap": null,
            "max_width": null,
            "order": null,
            "_view_module_version": "1.2.0",
            "grid_template_areas": null,
            "object_position": null,
            "object_fit": null,
            "grid_auto_columns": null,
            "margin": null,
            "display": null,
            "left": null
          }
        },
        "1766f03bd93b4d78bed13d01074eb590": {
          "model_module": "@jupyter-widgets/controls",
          "model_name": "HBoxModel",
          "state": {
            "_view_name": "HBoxView",
            "_dom_classes": [],
            "_model_name": "HBoxModel",
            "_view_module": "@jupyter-widgets/controls",
            "_model_module_version": "1.5.0",
            "_view_count": null,
            "_view_module_version": "1.5.0",
            "box_style": "",
            "layout": "IPY_MODEL_ee39597601c5414abdfd867dc7263f58",
            "_model_module": "@jupyter-widgets/controls",
            "children": [
              "IPY_MODEL_4d5a5efd07674a4abac2901ca9244c03",
              "IPY_MODEL_00df43cbbce1499aae96bd58a90fb939"
            ]
          }
        },
        "ee39597601c5414abdfd867dc7263f58": {
          "model_module": "@jupyter-widgets/base",
          "model_name": "LayoutModel",
          "state": {
            "_view_name": "LayoutView",
            "grid_template_rows": null,
            "right": null,
            "justify_content": null,
            "_view_module": "@jupyter-widgets/base",
            "overflow": null,
            "_model_module_version": "1.2.0",
            "_view_count": null,
            "flex_flow": null,
            "width": null,
            "min_width": null,
            "border": null,
            "align_items": null,
            "bottom": null,
            "_model_module": "@jupyter-widgets/base",
            "top": null,
            "grid_column": null,
            "overflow_y": null,
            "overflow_x": null,
            "grid_auto_flow": null,
            "grid_area": null,
            "grid_template_columns": null,
            "flex": null,
            "_model_name": "LayoutModel",
            "justify_items": null,
            "grid_row": null,
            "max_height": null,
            "align_content": null,
            "visibility": null,
            "align_self": null,
            "height": null,
            "min_height": null,
            "padding": null,
            "grid_auto_rows": null,
            "grid_gap": null,
            "max_width": null,
            "order": null,
            "_view_module_version": "1.2.0",
            "grid_template_areas": null,
            "object_position": null,
            "object_fit": null,
            "grid_auto_columns": null,
            "margin": null,
            "display": null,
            "left": null
          }
        },
        "4d5a5efd07674a4abac2901ca9244c03": {
          "model_module": "@jupyter-widgets/controls",
          "model_name": "FloatProgressModel",
          "state": {
            "_view_name": "ProgressView",
            "style": "IPY_MODEL_79aba206f8ce4d228593ad637f79219d",
            "_dom_classes": [],
            "description": "100%",
            "_model_name": "FloatProgressModel",
            "bar_style": "success",
            "max": 688,
            "_view_module": "@jupyter-widgets/controls",
            "_model_module_version": "1.5.0",
            "value": 688,
            "_view_count": null,
            "_view_module_version": "1.5.0",
            "orientation": "horizontal",
            "min": 0,
            "description_tooltip": null,
            "_model_module": "@jupyter-widgets/controls",
            "layout": "IPY_MODEL_8b1d5ebe214b4c9ba9e2dc5ca241d4a4"
          }
        },
        "00df43cbbce1499aae96bd58a90fb939": {
          "model_module": "@jupyter-widgets/controls",
          "model_name": "HTMLModel",
          "state": {
            "_view_name": "HTMLView",
            "style": "IPY_MODEL_65e9f155967b431e80677f8b614db34a",
            "_dom_classes": [],
            "description": "",
            "_model_name": "HTMLModel",
            "placeholder": "​",
            "_view_module": "@jupyter-widgets/controls",
            "_model_module_version": "1.5.0",
            "value": " 688/688 [00:00&lt;00:00, 4839.40it/s]",
            "_view_count": null,
            "_view_module_version": "1.5.0",
            "description_tooltip": null,
            "_model_module": "@jupyter-widgets/controls",
            "layout": "IPY_MODEL_638d00f240ea4bc9839422add70a561d"
          }
        },
        "79aba206f8ce4d228593ad637f79219d": {
          "model_module": "@jupyter-widgets/controls",
          "model_name": "ProgressStyleModel",
          "state": {
            "_view_name": "StyleView",
            "_model_name": "ProgressStyleModel",
            "description_width": "initial",
            "_view_module": "@jupyter-widgets/base",
            "_model_module_version": "1.5.0",
            "_view_count": null,
            "_view_module_version": "1.2.0",
            "bar_color": null,
            "_model_module": "@jupyter-widgets/controls"
          }
        },
        "8b1d5ebe214b4c9ba9e2dc5ca241d4a4": {
          "model_module": "@jupyter-widgets/base",
          "model_name": "LayoutModel",
          "state": {
            "_view_name": "LayoutView",
            "grid_template_rows": null,
            "right": null,
            "justify_content": null,
            "_view_module": "@jupyter-widgets/base",
            "overflow": null,
            "_model_module_version": "1.2.0",
            "_view_count": null,
            "flex_flow": null,
            "width": null,
            "min_width": null,
            "border": null,
            "align_items": null,
            "bottom": null,
            "_model_module": "@jupyter-widgets/base",
            "top": null,
            "grid_column": null,
            "overflow_y": null,
            "overflow_x": null,
            "grid_auto_flow": null,
            "grid_area": null,
            "grid_template_columns": null,
            "flex": null,
            "_model_name": "LayoutModel",
            "justify_items": null,
            "grid_row": null,
            "max_height": null,
            "align_content": null,
            "visibility": null,
            "align_self": null,
            "height": null,
            "min_height": null,
            "padding": null,
            "grid_auto_rows": null,
            "grid_gap": null,
            "max_width": null,
            "order": null,
            "_view_module_version": "1.2.0",
            "grid_template_areas": null,
            "object_position": null,
            "object_fit": null,
            "grid_auto_columns": null,
            "margin": null,
            "display": null,
            "left": null
          }
        },
        "65e9f155967b431e80677f8b614db34a": {
          "model_module": "@jupyter-widgets/controls",
          "model_name": "DescriptionStyleModel",
          "state": {
            "_view_name": "StyleView",
            "_model_name": "DescriptionStyleModel",
            "description_width": "",
            "_view_module": "@jupyter-widgets/base",
            "_model_module_version": "1.5.0",
            "_view_count": null,
            "_view_module_version": "1.2.0",
            "_model_module": "@jupyter-widgets/controls"
          }
        },
        "638d00f240ea4bc9839422add70a561d": {
          "model_module": "@jupyter-widgets/base",
          "model_name": "LayoutModel",
          "state": {
            "_view_name": "LayoutView",
            "grid_template_rows": null,
            "right": null,
            "justify_content": null,
            "_view_module": "@jupyter-widgets/base",
            "overflow": null,
            "_model_module_version": "1.2.0",
            "_view_count": null,
            "flex_flow": null,
            "width": null,
            "min_width": null,
            "border": null,
            "align_items": null,
            "bottom": null,
            "_model_module": "@jupyter-widgets/base",
            "top": null,
            "grid_column": null,
            "overflow_y": null,
            "overflow_x": null,
            "grid_auto_flow": null,
            "grid_area": null,
            "grid_template_columns": null,
            "flex": null,
            "_model_name": "LayoutModel",
            "justify_items": null,
            "grid_row": null,
            "max_height": null,
            "align_content": null,
            "visibility": null,
            "align_self": null,
            "height": null,
            "min_height": null,
            "padding": null,
            "grid_auto_rows": null,
            "grid_gap": null,
            "max_width": null,
            "order": null,
            "_view_module_version": "1.2.0",
            "grid_template_areas": null,
            "object_position": null,
            "object_fit": null,
            "grid_auto_columns": null,
            "margin": null,
            "display": null,
            "left": null
          }
        }
      }
    }
  },
  "cells": [
    {
      "cell_type": "markdown",
      "metadata": {
        "id": "g78tzmjN3mzF"
      },
      "source": [
        "# 한글폰트 설치\n",
        "- 아래 실행후 '런터임 다시 시작' 하면 됩니다.\n",
        "- 메뉴에서 '런타임' >> '런타임 다시 시작'을 클릭하세요.\n",
        "- 런타임 다시 시작 후 다시 실행할 필요 없습니다."
      ]
    },
    {
      "cell_type": "code",
      "metadata": {
        "id": "Co97FHic3p0D",
        "colab": {
          "base_uri": "https://localhost:8080/"
        },
        "outputId": "c663e42e-c121-4a7c-ae1a-0000721dbda2"
      },
      "source": [
        "# 폰트 설치\n",
        "!apt-get update -qq # 나눔고딕 설치\n",
        "!apt-get install fonts-nanum* -qq\n",
        "\n",
        "import matplotlib as mpl\n",
        "import matplotlib.pyplot as plt\n",
        "import matplotlib.font_manager as fm\n",
        "\n",
        "# 폰트 로딩\n",
        "fontpath = '/usr/share/fonts/truetype/nanum/NanumBarunGothic.ttf'\n",
        "font = fm.FontProperties(fname=fontpath, size=9)\n",
        "plt.rc('font', family='NanumBarunGothic') \n",
        "mpl.font_manager._rebuild()"
      ],
      "execution_count": 1,
      "outputs": [
        {
          "output_type": "stream",
          "text": [
            "Selecting previously unselected package fonts-nanum.\n",
            "(Reading database ... 146374 files and directories currently installed.)\n",
            "Preparing to unpack .../fonts-nanum_20170925-1_all.deb ...\n",
            "Unpacking fonts-nanum (20170925-1) ...\n",
            "Selecting previously unselected package fonts-nanum-eco.\n",
            "Preparing to unpack .../fonts-nanum-eco_1.000-6_all.deb ...\n",
            "Unpacking fonts-nanum-eco (1.000-6) ...\n",
            "Selecting previously unselected package fonts-nanum-extra.\n",
            "Preparing to unpack .../fonts-nanum-extra_20170925-1_all.deb ...\n",
            "Unpacking fonts-nanum-extra (20170925-1) ...\n",
            "Selecting previously unselected package fonts-nanum-coding.\n",
            "Preparing to unpack .../fonts-nanum-coding_2.5-1_all.deb ...\n",
            "Unpacking fonts-nanum-coding (2.5-1) ...\n",
            "Setting up fonts-nanum-extra (20170925-1) ...\n",
            "Setting up fonts-nanum (20170925-1) ...\n",
            "Setting up fonts-nanum-coding (2.5-1) ...\n",
            "Setting up fonts-nanum-eco (1.000-6) ...\n",
            "Processing triggers for fontconfig (2.12.6-0ubuntu2) ...\n"
          ],
          "name": "stdout"
        }
      ]
    },
    {
      "cell_type": "markdown",
      "metadata": {
        "id": "6dfJPT-2XMTB"
      },
      "source": [
        "# Install"
      ]
    },
    {
      "cell_type": "code",
      "metadata": {
        "id": "a193aGJWVaqb",
        "colab": {
          "base_uri": "https://localhost:8080/"
        },
        "outputId": "edd6f362-1eb3-4069-bf67-32f3361c3b54"
      },
      "source": [
        "!pip install sentencepiece"
      ],
      "execution_count": 1,
      "outputs": [
        {
          "output_type": "stream",
          "text": [
            "Collecting sentencepiece\n",
            "\u001b[?25l  Downloading https://files.pythonhosted.org/packages/14/67/e42bd1181472c95c8cda79305df848264f2a7f62740995a46945d9797b67/sentencepiece-0.1.95-cp36-cp36m-manylinux2014_x86_64.whl (1.2MB)\n",
            "\r\u001b[K     |▎                               | 10kB 26.7MB/s eta 0:00:01\r\u001b[K     |▌                               | 20kB 15.9MB/s eta 0:00:01\r\u001b[K     |▉                               | 30kB 10.0MB/s eta 0:00:01\r\u001b[K     |█                               | 40kB 8.2MB/s eta 0:00:01\r\u001b[K     |█▍                              | 51kB 4.2MB/s eta 0:00:01\r\u001b[K     |█▋                              | 61kB 4.7MB/s eta 0:00:01\r\u001b[K     |██                              | 71kB 4.9MB/s eta 0:00:01\r\u001b[K     |██▏                             | 81kB 5.3MB/s eta 0:00:01\r\u001b[K     |██▌                             | 92kB 5.7MB/s eta 0:00:01\r\u001b[K     |██▊                             | 102kB 5.8MB/s eta 0:00:01\r\u001b[K     |███                             | 112kB 5.8MB/s eta 0:00:01\r\u001b[K     |███▎                            | 122kB 5.8MB/s eta 0:00:01\r\u001b[K     |███▌                            | 133kB 5.8MB/s eta 0:00:01\r\u001b[K     |███▉                            | 143kB 5.8MB/s eta 0:00:01\r\u001b[K     |████                            | 153kB 5.8MB/s eta 0:00:01\r\u001b[K     |████▍                           | 163kB 5.8MB/s eta 0:00:01\r\u001b[K     |████▋                           | 174kB 5.8MB/s eta 0:00:01\r\u001b[K     |█████                           | 184kB 5.8MB/s eta 0:00:01\r\u001b[K     |█████▏                          | 194kB 5.8MB/s eta 0:00:01\r\u001b[K     |█████▌                          | 204kB 5.8MB/s eta 0:00:01\r\u001b[K     |█████▊                          | 215kB 5.8MB/s eta 0:00:01\r\u001b[K     |██████                          | 225kB 5.8MB/s eta 0:00:01\r\u001b[K     |██████▎                         | 235kB 5.8MB/s eta 0:00:01\r\u001b[K     |██████▌                         | 245kB 5.8MB/s eta 0:00:01\r\u001b[K     |██████▉                         | 256kB 5.8MB/s eta 0:00:01\r\u001b[K     |███████                         | 266kB 5.8MB/s eta 0:00:01\r\u001b[K     |███████▍                        | 276kB 5.8MB/s eta 0:00:01\r\u001b[K     |███████▋                        | 286kB 5.8MB/s eta 0:00:01\r\u001b[K     |████████                        | 296kB 5.8MB/s eta 0:00:01\r\u001b[K     |████████▏                       | 307kB 5.8MB/s eta 0:00:01\r\u001b[K     |████████▍                       | 317kB 5.8MB/s eta 0:00:01\r\u001b[K     |████████▊                       | 327kB 5.8MB/s eta 0:00:01\r\u001b[K     |█████████                       | 337kB 5.8MB/s eta 0:00:01\r\u001b[K     |█████████▎                      | 348kB 5.8MB/s eta 0:00:01\r\u001b[K     |█████████▌                      | 358kB 5.8MB/s eta 0:00:01\r\u001b[K     |█████████▉                      | 368kB 5.8MB/s eta 0:00:01\r\u001b[K     |██████████                      | 378kB 5.8MB/s eta 0:00:01\r\u001b[K     |██████████▍                     | 389kB 5.8MB/s eta 0:00:01\r\u001b[K     |██████████▋                     | 399kB 5.8MB/s eta 0:00:01\r\u001b[K     |███████████                     | 409kB 5.8MB/s eta 0:00:01\r\u001b[K     |███████████▏                    | 419kB 5.8MB/s eta 0:00:01\r\u001b[K     |███████████▍                    | 430kB 5.8MB/s eta 0:00:01\r\u001b[K     |███████████▊                    | 440kB 5.8MB/s eta 0:00:01\r\u001b[K     |████████████                    | 450kB 5.8MB/s eta 0:00:01\r\u001b[K     |████████████▎                   | 460kB 5.8MB/s eta 0:00:01\r\u001b[K     |████████████▌                   | 471kB 5.8MB/s eta 0:00:01\r\u001b[K     |████████████▉                   | 481kB 5.8MB/s eta 0:00:01\r\u001b[K     |█████████████                   | 491kB 5.8MB/s eta 0:00:01\r\u001b[K     |█████████████▍                  | 501kB 5.8MB/s eta 0:00:01\r\u001b[K     |█████████████▋                  | 512kB 5.8MB/s eta 0:00:01\r\u001b[K     |█████████████▉                  | 522kB 5.8MB/s eta 0:00:01\r\u001b[K     |██████████████▏                 | 532kB 5.8MB/s eta 0:00:01\r\u001b[K     |██████████████▍                 | 542kB 5.8MB/s eta 0:00:01\r\u001b[K     |██████████████▊                 | 552kB 5.8MB/s eta 0:00:01\r\u001b[K     |███████████████                 | 563kB 5.8MB/s eta 0:00:01\r\u001b[K     |███████████████▎                | 573kB 5.8MB/s eta 0:00:01\r\u001b[K     |███████████████▌                | 583kB 5.8MB/s eta 0:00:01\r\u001b[K     |███████████████▉                | 593kB 5.8MB/s eta 0:00:01\r\u001b[K     |████████████████                | 604kB 5.8MB/s eta 0:00:01\r\u001b[K     |████████████████▍               | 614kB 5.8MB/s eta 0:00:01\r\u001b[K     |████████████████▋               | 624kB 5.8MB/s eta 0:00:01\r\u001b[K     |████████████████▉               | 634kB 5.8MB/s eta 0:00:01\r\u001b[K     |█████████████████▏              | 645kB 5.8MB/s eta 0:00:01\r\u001b[K     |█████████████████▍              | 655kB 5.8MB/s eta 0:00:01\r\u001b[K     |█████████████████▊              | 665kB 5.8MB/s eta 0:00:01\r\u001b[K     |██████████████████              | 675kB 5.8MB/s eta 0:00:01\r\u001b[K     |██████████████████▎             | 686kB 5.8MB/s eta 0:00:01\r\u001b[K     |██████████████████▌             | 696kB 5.8MB/s eta 0:00:01\r\u001b[K     |██████████████████▉             | 706kB 5.8MB/s eta 0:00:01\r\u001b[K     |███████████████████             | 716kB 5.8MB/s eta 0:00:01\r\u001b[K     |███████████████████▎            | 727kB 5.8MB/s eta 0:00:01\r\u001b[K     |███████████████████▋            | 737kB 5.8MB/s eta 0:00:01\r\u001b[K     |███████████████████▉            | 747kB 5.8MB/s eta 0:00:01\r\u001b[K     |████████████████████▏           | 757kB 5.8MB/s eta 0:00:01\r\u001b[K     |████████████████████▍           | 768kB 5.8MB/s eta 0:00:01\r\u001b[K     |████████████████████▊           | 778kB 5.8MB/s eta 0:00:01\r\u001b[K     |█████████████████████           | 788kB 5.8MB/s eta 0:00:01\r\u001b[K     |█████████████████████▎          | 798kB 5.8MB/s eta 0:00:01\r\u001b[K     |█████████████████████▌          | 808kB 5.8MB/s eta 0:00:01\r\u001b[K     |█████████████████████▉          | 819kB 5.8MB/s eta 0:00:01\r\u001b[K     |██████████████████████          | 829kB 5.8MB/s eta 0:00:01\r\u001b[K     |██████████████████████▎         | 839kB 5.8MB/s eta 0:00:01\r\u001b[K     |██████████████████████▋         | 849kB 5.8MB/s eta 0:00:01\r\u001b[K     |██████████████████████▉         | 860kB 5.8MB/s eta 0:00:01\r\u001b[K     |███████████████████████▏        | 870kB 5.8MB/s eta 0:00:01\r\u001b[K     |███████████████████████▍        | 880kB 5.8MB/s eta 0:00:01\r\u001b[K     |███████████████████████▊        | 890kB 5.8MB/s eta 0:00:01\r\u001b[K     |████████████████████████        | 901kB 5.8MB/s eta 0:00:01\r\u001b[K     |████████████████████████▎       | 911kB 5.8MB/s eta 0:00:01\r\u001b[K     |████████████████████████▌       | 921kB 5.8MB/s eta 0:00:01\r\u001b[K     |████████████████████████▊       | 931kB 5.8MB/s eta 0:00:01\r\u001b[K     |█████████████████████████       | 942kB 5.8MB/s eta 0:00:01\r\u001b[K     |█████████████████████████▎      | 952kB 5.8MB/s eta 0:00:01\r\u001b[K     |█████████████████████████▋      | 962kB 5.8MB/s eta 0:00:01\r\u001b[K     |█████████████████████████▉      | 972kB 5.8MB/s eta 0:00:01\r\u001b[K     |██████████████████████████▏     | 983kB 5.8MB/s eta 0:00:01\r\u001b[K     |██████████████████████████▍     | 993kB 5.8MB/s eta 0:00:01\r\u001b[K     |██████████████████████████▊     | 1.0MB 5.8MB/s eta 0:00:01\r\u001b[K     |███████████████████████████     | 1.0MB 5.8MB/s eta 0:00:01\r\u001b[K     |███████████████████████████▎    | 1.0MB 5.8MB/s eta 0:00:01\r\u001b[K     |███████████████████████████▌    | 1.0MB 5.8MB/s eta 0:00:01\r\u001b[K     |███████████████████████████▊    | 1.0MB 5.8MB/s eta 0:00:01\r\u001b[K     |████████████████████████████    | 1.1MB 5.8MB/s eta 0:00:01\r\u001b[K     |████████████████████████████▎   | 1.1MB 5.8MB/s eta 0:00:01\r\u001b[K     |████████████████████████████▋   | 1.1MB 5.8MB/s eta 0:00:01\r\u001b[K     |████████████████████████████▉   | 1.1MB 5.8MB/s eta 0:00:01\r\u001b[K     |█████████████████████████████▏  | 1.1MB 5.8MB/s eta 0:00:01\r\u001b[K     |█████████████████████████████▍  | 1.1MB 5.8MB/s eta 0:00:01\r\u001b[K     |█████████████████████████████▊  | 1.1MB 5.8MB/s eta 0:00:01\r\u001b[K     |██████████████████████████████  | 1.1MB 5.8MB/s eta 0:00:01\r\u001b[K     |██████████████████████████████▏ | 1.1MB 5.8MB/s eta 0:00:01\r\u001b[K     |██████████████████████████████▌ | 1.1MB 5.8MB/s eta 0:00:01\r\u001b[K     |██████████████████████████████▊ | 1.2MB 5.8MB/s eta 0:00:01\r\u001b[K     |███████████████████████████████ | 1.2MB 5.8MB/s eta 0:00:01\r\u001b[K     |███████████████████████████████▎| 1.2MB 5.8MB/s eta 0:00:01\r\u001b[K     |███████████████████████████████▋| 1.2MB 5.8MB/s eta 0:00:01\r\u001b[K     |███████████████████████████████▉| 1.2MB 5.8MB/s eta 0:00:01\r\u001b[K     |████████████████████████████████| 1.2MB 5.8MB/s \n",
            "\u001b[?25hInstalling collected packages: sentencepiece\n",
            "Successfully installed sentencepiece-0.1.95\n"
          ],
          "name": "stdout"
        }
      ]
    },
    {
      "cell_type": "markdown",
      "metadata": {
        "id": "JHkHg6XAXoyK"
      },
      "source": [
        "# Evn"
      ]
    },
    {
      "cell_type": "code",
      "metadata": {
        "id": "WkYXFwcBXJDG"
      },
      "source": [
        "import os\n",
        "import random\n",
        "import shutil\n",
        "import json\n",
        "import zipfile\n",
        "import math\n",
        "import copy\n",
        "import collections\n",
        "import re\n",
        "\n",
        "import matplotlib.pyplot as plt\n",
        "import seaborn as sns\n",
        "from wordcloud import WordCloud\n",
        "import pandas as pd\n",
        "import numpy as np\n",
        "import sentencepiece as spm\n",
        "import tensorflow as tf\n",
        "import tensorflow.keras.backend as K\n",
        "\n",
        "from tqdm.notebook import tqdm"
      ],
      "execution_count": 2,
      "outputs": []
    },
    {
      "cell_type": "code",
      "metadata": {
        "id": "nvjyruUlXtlR"
      },
      "source": [
        "# random seed initialize\n",
        "random_seed = 1234\n",
        "random.seed(random_seed)\n",
        "np.random.seed(random_seed)\n",
        "tf.random.set_seed(random_seed)"
      ],
      "execution_count": 3,
      "outputs": []
    },
    {
      "cell_type": "code",
      "metadata": {
        "id": "BC3fXkhdYcYt",
        "colab": {
          "base_uri": "https://localhost:8080/"
        },
        "outputId": "73b4aa82-4553-44cf-b249-dc7b5bc7ce1c"
      },
      "source": [
        "!nvidia-smi"
      ],
      "execution_count": 4,
      "outputs": [
        {
          "output_type": "stream",
          "text": [
            "Mon Feb  1 10:37:13 2021       \n",
            "+-----------------------------------------------------------------------------+\n",
            "| NVIDIA-SMI 460.32.03    Driver Version: 418.67       CUDA Version: 10.1     |\n",
            "|-------------------------------+----------------------+----------------------+\n",
            "| GPU  Name        Persistence-M| Bus-Id        Disp.A | Volatile Uncorr. ECC |\n",
            "| Fan  Temp  Perf  Pwr:Usage/Cap|         Memory-Usage | GPU-Util  Compute M. |\n",
            "|                               |                      |               MIG M. |\n",
            "|===============================+======================+======================|\n",
            "|   0  Tesla P100-PCIE...  Off  | 00000000:00:04.0 Off |                    0 |\n",
            "| N/A   36C    P0    26W / 250W |      0MiB / 16280MiB |      0%      Default |\n",
            "|                               |                      |                 ERR! |\n",
            "+-------------------------------+----------------------+----------------------+\n",
            "                                                                               \n",
            "+-----------------------------------------------------------------------------+\n",
            "| Processes:                                                                  |\n",
            "|  GPU   GI   CI        PID   Type   Process name                  GPU Memory |\n",
            "|        ID   ID                                                   Usage      |\n",
            "|=============================================================================|\n",
            "|  No running processes found                                                 |\n",
            "+-----------------------------------------------------------------------------+\n"
          ],
          "name": "stdout"
        }
      ]
    },
    {
      "cell_type": "code",
      "metadata": {
        "id": "xVRdxYReYeQj",
        "colab": {
          "base_uri": "https://localhost:8080/"
        },
        "outputId": "44266af6-97a0-49ce-8bd2-bbc5d369e900"
      },
      "source": [
        "# google drive mount\n",
        "from google.colab import drive\n",
        "drive.mount('/content/drive')"
      ],
      "execution_count": 5,
      "outputs": [
        {
          "output_type": "stream",
          "text": [
            "Mounted at /content/drive\n"
          ],
          "name": "stdout"
        }
      ]
    },
    {
      "cell_type": "code",
      "metadata": {
        "id": "byCIiLJBbFHh",
        "colab": {
          "base_uri": "https://localhost:8080/"
        },
        "outputId": "f7f831ac-5e0b-490d-bb5c-a8c531073da4"
      },
      "source": [
        "# data dir\n",
        "data_dir = '/content/drive/MyDrive/kowiki'\n",
        "os.listdir(data_dir)"
      ],
      "execution_count": 6,
      "outputs": [
        {
          "output_type": "execute_result",
          "data": {
            "text/plain": [
              "['ko_32000.model',\n",
              " 'ko_32000.vocab',\n",
              " 'kowiki.txt.zip',\n",
              " 'my_corpus.txt',\n",
              " 'nsmc (1)',\n",
              " 'nsmc',\n",
              " 'quora']"
            ]
          },
          "metadata": {
            "tags": []
          },
          "execution_count": 6
        }
      ]
    },
    {
      "cell_type": "code",
      "metadata": {
        "id": "_Ru56YS3-SME",
        "colab": {
          "base_uri": "https://localhost:8080/"
        },
        "outputId": "5af4d5bb-77ec-4c26-8d8e-20fa5304dbed"
      },
      "source": [
        "# quora dir\n",
        "quora_dir = os.path.join(data_dir, 'quora')\n",
        "if not os.path.exists(quora_dir):\n",
        "    os.makedirs(quora_dir)\n",
        "os.listdir(quora_dir)"
      ],
      "execution_count": 7,
      "outputs": [
        {
          "output_type": "execute_result",
          "data": {
            "text/plain": [
              "['kor_pair_train.csv', 'kor_Pair_test.csv', 'stub.hdf5', 'stub.csv']"
            ]
          },
          "metadata": {
            "tags": []
          },
          "execution_count": 7
        }
      ]
    },
    {
      "cell_type": "markdown",
      "metadata": {
        "id": "XwriCkq_R1Lc"
      },
      "source": [
        "# Vocabulary & config"
      ]
    },
    {
      "cell_type": "code",
      "metadata": {
        "id": "2H0BLydCb7lg",
        "colab": {
          "base_uri": "https://localhost:8080/"
        },
        "outputId": "32e7bf52-7f8e-4b4d-d68c-78dbd024c070"
      },
      "source": [
        "# vocab loading\n",
        "vocab = spm.SentencePieceProcessor()\n",
        "vocab.load(os.path.join(data_dir, 'ko_32000.model'))"
      ],
      "execution_count": 8,
      "outputs": [
        {
          "output_type": "execute_result",
          "data": {
            "text/plain": [
              "True"
            ]
          },
          "metadata": {
            "tags": []
          },
          "execution_count": 8
        }
      ]
    },
    {
      "cell_type": "code",
      "metadata": {
        "id": "0ETZ19flTRmt"
      },
      "source": [
        "n_vocab = len(vocab)  # number of vocabulary\n",
        "n_seq_1 = 26  # number of sequence 1\n",
        "n_seq_2 = 27  # number of sequence 2\n",
        "d_model = 256  # dimension of model\n",
        "n_out = 2  # number of output class"
      ],
      "execution_count": 9,
      "outputs": []
    },
    {
      "cell_type": "markdown",
      "metadata": {
        "id": "3myBX8hNEH1u"
      },
      "source": [
        "# 모델링"
      ]
    },
    {
      "cell_type": "code",
      "metadata": {
        "id": "SobekkcjEX_P"
      },
      "source": [
        "def build_model(n_vocab, d_model, n_seq_1, n_seq_2):\n",
        "    \"\"\"\n",
        "    문장 유사도 비교 모델\n",
        "    :param n_vocab: vocabulary 단어 수\n",
        "    :param d_model: 단어를 의미하는 벡터의 차원 수\n",
        "    :param n_seq_1: 문장 1 길이 (단어 수)\n",
        "    :param n_seq_2: 문장 2 길이 (단어 수)\n",
        "    \"\"\"\n",
        "    inputs_1 = tf.keras.layers.Input((n_seq_1,))  # (bs, n_seq_1)\n",
        "    inputs_2 = tf.keras.layers.Input((n_seq_2,))  # (bs, n_seq_2)\n",
        "    # 입력 단어를 vector로 변환\n",
        "    embedding = tf.keras.layers.Embedding(n_vocab, d_model)\n",
        "    hidden_1 = embedding(inputs_1)  # (bs, n_seq_1, d_model)\n",
        "    hidden_2 = embedding(inputs_2)  # (bs, n_seq_2, d_model)\n",
        "    ####################################\n",
        "    # RNN,CNN \n",
        "    hidden_1 = tf.keras.layers.Conv1D(filters=128, kernel_size=3, padding='causal')(hidden_1)\n",
        "    hidden_1 = tf.keras.layers.SimpleRNN(units=256, return_sequences=True)(hidden_1)\n",
        "    hidden_2 = tf.keras.layers.Conv1D(filters=128, kernel_size=3, padding='causal')(hidden_2)\n",
        "    hidden_2 = tf.keras.layers.SimpleRNN(units=256, return_sequences=True)(hidden_2)\n",
        "    ####################################\n",
        "    # 각 단어 벡터의 최대값 기준으로 벡터를 더해서 차원을 줄여줌 (문장 vector 생성)\n",
        "    pool = tf.keras.layers.GlobalMaxPool1D()\n",
        "    hidden_pool_1 = pool(hidden_1)  # (bs, d_model)\n",
        "    hidden_pool_2 = pool(hidden_2)  # (bs, d_model)\n",
        "    # distance 계산 ||a - b||\n",
        "    distance = K.sum(K.abs(hidden_pool_1 - hidden_pool_2), axis=-1)\n",
        "    outputs = K.exp(-distance)\n",
        "    # 학습할 모델 선언\n",
        "    model = tf.keras.Model(inputs=(inputs_1, inputs_2), outputs=outputs)\n",
        "    return model"
      ],
      "execution_count": 23,
      "outputs": []
    },
    {
      "cell_type": "markdown",
      "metadata": {
        "id": "zSaoCf37q3aC"
      },
      "source": [
        "# All Data Project"
      ]
    },
    {
      "cell_type": "markdown",
      "metadata": {
        "id": "arOON7lCq3aC"
      },
      "source": [
        "## Data\n"
      ]
    },
    {
      "cell_type": "code",
      "metadata": {
        "id": "tNIbidDEq3aC",
        "colab": {
          "base_uri": "https://localhost:8080/",
          "height": 402
        },
        "outputId": "e64a0114-926d-4636-988e-d468bbab0d2d"
      },
      "source": [
        "df_train = pd.read_csv(os.path.join(quora_dir, 'kor_pair_train.csv'), delimiter=',')\n",
        "df_train"
      ],
      "execution_count": 12,
      "outputs": [
        {
          "output_type": "execute_result",
          "data": {
            "text/html": [
              "<div>\n",
              "<style scoped>\n",
              "    .dataframe tbody tr th:only-of-type {\n",
              "        vertical-align: middle;\n",
              "    }\n",
              "\n",
              "    .dataframe tbody tr th {\n",
              "        vertical-align: top;\n",
              "    }\n",
              "\n",
              "    .dataframe thead th {\n",
              "        text-align: right;\n",
              "    }\n",
              "</style>\n",
              "<table border=\"1\" class=\"dataframe\">\n",
              "  <thead>\n",
              "    <tr style=\"text-align: right;\">\n",
              "      <th></th>\n",
              "      <th>id</th>\n",
              "      <th>qid1</th>\n",
              "      <th>qid2</th>\n",
              "      <th>question1</th>\n",
              "      <th>question2</th>\n",
              "      <th>is_duplicate</th>\n",
              "    </tr>\n",
              "  </thead>\n",
              "  <tbody>\n",
              "    <tr>\n",
              "      <th>0</th>\n",
              "      <td>1</td>\n",
              "      <td>1</td>\n",
              "      <td>2</td>\n",
              "      <td>1000일 만난 여자친구와 이별</td>\n",
              "      <td>10년 연예의끝</td>\n",
              "      <td>1</td>\n",
              "    </tr>\n",
              "    <tr>\n",
              "      <th>1</th>\n",
              "      <td>2</td>\n",
              "      <td>3</td>\n",
              "      <td>4</td>\n",
              "      <td>10년 연애사 되돌아보니 다 부질없네</td>\n",
              "      <td>10년이라는 시간이 참 무색하다 싶네</td>\n",
              "      <td>1</td>\n",
              "    </tr>\n",
              "    <tr>\n",
              "      <th>2</th>\n",
              "      <td>3</td>\n",
              "      <td>5</td>\n",
              "      <td>6</td>\n",
              "      <td>10년만나다 헤어지네</td>\n",
              "      <td>14년된 여자친구랑 이별</td>\n",
              "      <td>1</td>\n",
              "    </tr>\n",
              "    <tr>\n",
              "      <th>3</th>\n",
              "      <td>4</td>\n",
              "      <td>7</td>\n",
              "      <td>8</td>\n",
              "      <td>10월의 마지막밤 . 더 보고싶네 그사람</td>\n",
              "      <td>15년…안녕</td>\n",
              "      <td>1</td>\n",
              "    </tr>\n",
              "    <tr>\n",
              "      <th>4</th>\n",
              "      <td>5</td>\n",
              "      <td>9</td>\n",
              "      <td>10</td>\n",
              "      <td>14년의 기나긴 이야기.</td>\n",
              "      <td>1년 9개월 의 연애 종지부.</td>\n",
              "      <td>1</td>\n",
              "    </tr>\n",
              "    <tr>\n",
              "      <th>...</th>\n",
              "      <td>...</td>\n",
              "      <td>...</td>\n",
              "      <td>...</td>\n",
              "      <td>...</td>\n",
              "      <td>...</td>\n",
              "      <td>...</td>\n",
              "    </tr>\n",
              "    <tr>\n",
              "      <th>6883</th>\n",
              "      <td>6884</td>\n",
              "      <td>13767</td>\n",
              "      <td>13768</td>\n",
              "      <td>O형 남자와 썸을 타는데</td>\n",
              "      <td>O형 여자와 썸을 타는데</td>\n",
              "      <td>1</td>\n",
              "    </tr>\n",
              "    <tr>\n",
              "      <th>6884</th>\n",
              "      <td>6885</td>\n",
              "      <td>13769</td>\n",
              "      <td>13770</td>\n",
              "      <td>SD카드 안돼</td>\n",
              "      <td>SD카드 망가졌어</td>\n",
              "      <td>0</td>\n",
              "    </tr>\n",
              "    <tr>\n",
              "      <th>6885</th>\n",
              "      <td>6886</td>\n",
              "      <td>13771</td>\n",
              "      <td>13772</td>\n",
              "      <td>SNS 를 끊어야 하는데.</td>\n",
              "      <td>가슴 아픈 이별</td>\n",
              "      <td>1</td>\n",
              "    </tr>\n",
              "    <tr>\n",
              "      <th>6886</th>\n",
              "      <td>6887</td>\n",
              "      <td>13773</td>\n",
              "      <td>13774</td>\n",
              "      <td>SNS 시간낭비인데 자꾸 보게됨</td>\n",
              "      <td>SNS 시간낭비인 거 아는데 매일 하는 중</td>\n",
              "      <td>0</td>\n",
              "    </tr>\n",
              "    <tr>\n",
              "      <th>6887</th>\n",
              "      <td>6888</td>\n",
              "      <td>13775</td>\n",
              "      <td>13776</td>\n",
              "      <td>sns에서 다른 이성이랑 대화하는걸 보니 화가 나</td>\n",
              "      <td>가슴에 구멍이 너무 커.</td>\n",
              "      <td>1</td>\n",
              "    </tr>\n",
              "  </tbody>\n",
              "</table>\n",
              "<p>6888 rows × 6 columns</p>\n",
              "</div>"
            ],
            "text/plain": [
              "        id   qid1  ...                question2 is_duplicate\n",
              "0        1      1  ...                 10년 연예의끝            1\n",
              "1        2      3  ...     10년이라는 시간이 참 무색하다 싶네            1\n",
              "2        3      5  ...            14년된 여자친구랑 이별            1\n",
              "3        4      7  ...                   15년…안녕            1\n",
              "4        5      9  ...         1년 9개월 의 연애 종지부.            1\n",
              "...    ...    ...  ...                      ...          ...\n",
              "6883  6884  13767  ...            O형 여자와 썸을 타는데            1\n",
              "6884  6885  13769  ...                SD카드 망가졌어            0\n",
              "6885  6886  13771  ...                 가슴 아픈 이별            1\n",
              "6886  6887  13773  ...  SNS 시간낭비인 거 아는데 매일 하는 중            0\n",
              "6887  6888  13775  ...            가슴에 구멍이 너무 커.            1\n",
              "\n",
              "[6888 rows x 6 columns]"
            ]
          },
          "metadata": {
            "tags": []
          },
          "execution_count": 12
        }
      ]
    },
    {
      "cell_type": "code",
      "metadata": {
        "id": "6kGWoqa0q3aD",
        "colab": {
          "base_uri": "https://localhost:8080/",
          "height": 402
        },
        "outputId": "4d957eed-2790-40f0-b317-3825efaedf26"
      },
      "source": [
        "df_train = df_train.dropna()\n",
        "df_train"
      ],
      "execution_count": 13,
      "outputs": [
        {
          "output_type": "execute_result",
          "data": {
            "text/html": [
              "<div>\n",
              "<style scoped>\n",
              "    .dataframe tbody tr th:only-of-type {\n",
              "        vertical-align: middle;\n",
              "    }\n",
              "\n",
              "    .dataframe tbody tr th {\n",
              "        vertical-align: top;\n",
              "    }\n",
              "\n",
              "    .dataframe thead th {\n",
              "        text-align: right;\n",
              "    }\n",
              "</style>\n",
              "<table border=\"1\" class=\"dataframe\">\n",
              "  <thead>\n",
              "    <tr style=\"text-align: right;\">\n",
              "      <th></th>\n",
              "      <th>id</th>\n",
              "      <th>qid1</th>\n",
              "      <th>qid2</th>\n",
              "      <th>question1</th>\n",
              "      <th>question2</th>\n",
              "      <th>is_duplicate</th>\n",
              "    </tr>\n",
              "  </thead>\n",
              "  <tbody>\n",
              "    <tr>\n",
              "      <th>0</th>\n",
              "      <td>1</td>\n",
              "      <td>1</td>\n",
              "      <td>2</td>\n",
              "      <td>1000일 만난 여자친구와 이별</td>\n",
              "      <td>10년 연예의끝</td>\n",
              "      <td>1</td>\n",
              "    </tr>\n",
              "    <tr>\n",
              "      <th>1</th>\n",
              "      <td>2</td>\n",
              "      <td>3</td>\n",
              "      <td>4</td>\n",
              "      <td>10년 연애사 되돌아보니 다 부질없네</td>\n",
              "      <td>10년이라는 시간이 참 무색하다 싶네</td>\n",
              "      <td>1</td>\n",
              "    </tr>\n",
              "    <tr>\n",
              "      <th>2</th>\n",
              "      <td>3</td>\n",
              "      <td>5</td>\n",
              "      <td>6</td>\n",
              "      <td>10년만나다 헤어지네</td>\n",
              "      <td>14년된 여자친구랑 이별</td>\n",
              "      <td>1</td>\n",
              "    </tr>\n",
              "    <tr>\n",
              "      <th>3</th>\n",
              "      <td>4</td>\n",
              "      <td>7</td>\n",
              "      <td>8</td>\n",
              "      <td>10월의 마지막밤 . 더 보고싶네 그사람</td>\n",
              "      <td>15년…안녕</td>\n",
              "      <td>1</td>\n",
              "    </tr>\n",
              "    <tr>\n",
              "      <th>4</th>\n",
              "      <td>5</td>\n",
              "      <td>9</td>\n",
              "      <td>10</td>\n",
              "      <td>14년의 기나긴 이야기.</td>\n",
              "      <td>1년 9개월 의 연애 종지부.</td>\n",
              "      <td>1</td>\n",
              "    </tr>\n",
              "    <tr>\n",
              "      <th>...</th>\n",
              "      <td>...</td>\n",
              "      <td>...</td>\n",
              "      <td>...</td>\n",
              "      <td>...</td>\n",
              "      <td>...</td>\n",
              "      <td>...</td>\n",
              "    </tr>\n",
              "    <tr>\n",
              "      <th>6883</th>\n",
              "      <td>6884</td>\n",
              "      <td>13767</td>\n",
              "      <td>13768</td>\n",
              "      <td>O형 남자와 썸을 타는데</td>\n",
              "      <td>O형 여자와 썸을 타는데</td>\n",
              "      <td>1</td>\n",
              "    </tr>\n",
              "    <tr>\n",
              "      <th>6884</th>\n",
              "      <td>6885</td>\n",
              "      <td>13769</td>\n",
              "      <td>13770</td>\n",
              "      <td>SD카드 안돼</td>\n",
              "      <td>SD카드 망가졌어</td>\n",
              "      <td>0</td>\n",
              "    </tr>\n",
              "    <tr>\n",
              "      <th>6885</th>\n",
              "      <td>6886</td>\n",
              "      <td>13771</td>\n",
              "      <td>13772</td>\n",
              "      <td>SNS 를 끊어야 하는데.</td>\n",
              "      <td>가슴 아픈 이별</td>\n",
              "      <td>1</td>\n",
              "    </tr>\n",
              "    <tr>\n",
              "      <th>6886</th>\n",
              "      <td>6887</td>\n",
              "      <td>13773</td>\n",
              "      <td>13774</td>\n",
              "      <td>SNS 시간낭비인데 자꾸 보게됨</td>\n",
              "      <td>SNS 시간낭비인 거 아는데 매일 하는 중</td>\n",
              "      <td>0</td>\n",
              "    </tr>\n",
              "    <tr>\n",
              "      <th>6887</th>\n",
              "      <td>6888</td>\n",
              "      <td>13775</td>\n",
              "      <td>13776</td>\n",
              "      <td>sns에서 다른 이성이랑 대화하는걸 보니 화가 나</td>\n",
              "      <td>가슴에 구멍이 너무 커.</td>\n",
              "      <td>1</td>\n",
              "    </tr>\n",
              "  </tbody>\n",
              "</table>\n",
              "<p>6888 rows × 6 columns</p>\n",
              "</div>"
            ],
            "text/plain": [
              "        id   qid1  ...                question2 is_duplicate\n",
              "0        1      1  ...                 10년 연예의끝            1\n",
              "1        2      3  ...     10년이라는 시간이 참 무색하다 싶네            1\n",
              "2        3      5  ...            14년된 여자친구랑 이별            1\n",
              "3        4      7  ...                   15년…안녕            1\n",
              "4        5      9  ...         1년 9개월 의 연애 종지부.            1\n",
              "...    ...    ...  ...                      ...          ...\n",
              "6883  6884  13767  ...            O형 여자와 썸을 타는데            1\n",
              "6884  6885  13769  ...                SD카드 망가졌어            0\n",
              "6885  6886  13771  ...                 가슴 아픈 이별            1\n",
              "6886  6887  13773  ...  SNS 시간낭비인 거 아는데 매일 하는 중            0\n",
              "6887  6888  13775  ...            가슴에 구멍이 너무 커.            1\n",
              "\n",
              "[6888 rows x 6 columns]"
            ]
          },
          "metadata": {
            "tags": []
          },
          "execution_count": 13
        }
      ]
    },
    {
      "cell_type": "code",
      "metadata": {
        "id": "KWPDQFPBq3aD",
        "colab": {
          "base_uri": "https://localhost:8080/",
          "height": 402
        },
        "outputId": "978493fc-0549-4288-a18e-641aa34e5485"
      },
      "source": [
        "df_test = pd.read_csv(os.path.join(quora_dir, 'kor_Pair_test.csv'), delimiter=',')\n",
        "df_test"
      ],
      "execution_count": 14,
      "outputs": [
        {
          "output_type": "execute_result",
          "data": {
            "text/html": [
              "<div>\n",
              "<style scoped>\n",
              "    .dataframe tbody tr th:only-of-type {\n",
              "        vertical-align: middle;\n",
              "    }\n",
              "\n",
              "    .dataframe tbody tr th {\n",
              "        vertical-align: top;\n",
              "    }\n",
              "\n",
              "    .dataframe thead th {\n",
              "        text-align: right;\n",
              "    }\n",
              "</style>\n",
              "<table border=\"1\" class=\"dataframe\">\n",
              "  <thead>\n",
              "    <tr style=\"text-align: right;\">\n",
              "      <th></th>\n",
              "      <th>test_id</th>\n",
              "      <th>question1</th>\n",
              "      <th>question2</th>\n",
              "      <th>is_duplicate</th>\n",
              "      <th>Unnamed: 4</th>\n",
              "    </tr>\n",
              "  </thead>\n",
              "  <tbody>\n",
              "    <tr>\n",
              "      <th>0</th>\n",
              "      <td>1</td>\n",
              "      <td>21살의 사랑에 대해</td>\n",
              "      <td>사랑을 노력한다는게 말이 되나요?</td>\n",
              "      <td>1</td>\n",
              "      <td>NaN</td>\n",
              "    </tr>\n",
              "    <tr>\n",
              "      <th>1</th>\n",
              "      <td>2</td>\n",
              "      <td>2년 가량의 연애</td>\n",
              "      <td>2년 만났어</td>\n",
              "      <td>0</td>\n",
              "      <td>NaN</td>\n",
              "    </tr>\n",
              "    <tr>\n",
              "      <th>2</th>\n",
              "      <td>3</td>\n",
              "      <td>2년 만난 기념일이야</td>\n",
              "      <td>우리 벌써 2년 동안 사궜어</td>\n",
              "      <td>0</td>\n",
              "      <td>NaN</td>\n",
              "    </tr>\n",
              "    <tr>\n",
              "      <th>3</th>\n",
              "      <td>4</td>\n",
              "      <td>2년 사귀었는데 결혼하려고</td>\n",
              "      <td>2년째 짝사랑하는 사람이 있어.</td>\n",
              "      <td>1</td>\n",
              "      <td>NaN</td>\n",
              "    </tr>\n",
              "    <tr>\n",
              "      <th>4</th>\n",
              "      <td>5</td>\n",
              "      <td>5급면제도 나랑사랑카드 발급하나요?</td>\n",
              "      <td>아이콘 노래 사랑을 했다 별로인것같은데</td>\n",
              "      <td>1</td>\n",
              "      <td>NaN</td>\n",
              "    </tr>\n",
              "    <tr>\n",
              "      <th>...</th>\n",
              "      <td>...</td>\n",
              "      <td>...</td>\n",
              "      <td>...</td>\n",
              "      <td>...</td>\n",
              "      <td>...</td>\n",
              "    </tr>\n",
              "    <tr>\n",
              "      <th>683</th>\n",
              "      <td>684</td>\n",
              "      <td>회사에서 짤릴 필이 와</td>\n",
              "      <td>나 회사 짤릴 거 같은데 어떻게 만회하지</td>\n",
              "      <td>0</td>\n",
              "      <td>1.0</td>\n",
              "    </tr>\n",
              "    <tr>\n",
              "      <th>684</th>\n",
              "      <td>685</td>\n",
              "      <td>효율적으로 공부하는 방법</td>\n",
              "      <td>새 해 결심 뭐였더라</td>\n",
              "      <td>1</td>\n",
              "      <td>NaN</td>\n",
              "    </tr>\n",
              "    <tr>\n",
              "      <th>685</th>\n",
              "      <td>686</td>\n",
              "      <td>휴대폰 액정 깨졌어</td>\n",
              "      <td>액정 깨짐</td>\n",
              "      <td>0</td>\n",
              "      <td>NaN</td>\n",
              "    </tr>\n",
              "    <tr>\n",
              "      <th>686</th>\n",
              "      <td>687</td>\n",
              "      <td>힘든 일이 너무 많아요</td>\n",
              "      <td>괜찮아 천천히 해도 돼</td>\n",
              "      <td>1</td>\n",
              "      <td>NaN</td>\n",
              "    </tr>\n",
              "    <tr>\n",
              "      <th>687</th>\n",
              "      <td>688</td>\n",
              "      <td>AI도 감정 있나?</td>\n",
              "      <td>이런 감정은 처음인데 설레네</td>\n",
              "      <td>1</td>\n",
              "      <td>NaN</td>\n",
              "    </tr>\n",
              "  </tbody>\n",
              "</table>\n",
              "<p>688 rows × 5 columns</p>\n",
              "</div>"
            ],
            "text/plain": [
              "     test_id            question1  ... is_duplicate  Unnamed: 4\n",
              "0          1          21살의 사랑에 대해  ...            1         NaN\n",
              "1          2            2년 가량의 연애  ...            0         NaN\n",
              "2          3          2년 만난 기념일이야  ...            0         NaN\n",
              "3          4       2년 사귀었는데 결혼하려고  ...            1         NaN\n",
              "4          5  5급면제도 나랑사랑카드 발급하나요?  ...            1         NaN\n",
              "..       ...                  ...  ...          ...         ...\n",
              "683      684         회사에서 짤릴 필이 와  ...            0         1.0\n",
              "684      685        효율적으로 공부하는 방법  ...            1         NaN\n",
              "685      686           휴대폰 액정 깨졌어  ...            0         NaN\n",
              "686      687         힘든 일이 너무 많아요  ...            1         NaN\n",
              "687      688           AI도 감정 있나?  ...            1         NaN\n",
              "\n",
              "[688 rows x 5 columns]"
            ]
          },
          "metadata": {
            "tags": []
          },
          "execution_count": 14
        }
      ]
    },
    {
      "cell_type": "code",
      "metadata": {
        "id": "y9ewl-6Zq3aE",
        "colab": {
          "base_uri": "https://localhost:8080/",
          "height": 402
        },
        "outputId": "956bfe8a-2d84-45ea-d33e-de1b6bc7dd0d"
      },
      "source": [
        "df_test = df_test[['test_id', 'question1', 'question2', 'is_duplicate']]\n",
        "df_test"
      ],
      "execution_count": 15,
      "outputs": [
        {
          "output_type": "execute_result",
          "data": {
            "text/html": [
              "<div>\n",
              "<style scoped>\n",
              "    .dataframe tbody tr th:only-of-type {\n",
              "        vertical-align: middle;\n",
              "    }\n",
              "\n",
              "    .dataframe tbody tr th {\n",
              "        vertical-align: top;\n",
              "    }\n",
              "\n",
              "    .dataframe thead th {\n",
              "        text-align: right;\n",
              "    }\n",
              "</style>\n",
              "<table border=\"1\" class=\"dataframe\">\n",
              "  <thead>\n",
              "    <tr style=\"text-align: right;\">\n",
              "      <th></th>\n",
              "      <th>test_id</th>\n",
              "      <th>question1</th>\n",
              "      <th>question2</th>\n",
              "      <th>is_duplicate</th>\n",
              "    </tr>\n",
              "  </thead>\n",
              "  <tbody>\n",
              "    <tr>\n",
              "      <th>0</th>\n",
              "      <td>1</td>\n",
              "      <td>21살의 사랑에 대해</td>\n",
              "      <td>사랑을 노력한다는게 말이 되나요?</td>\n",
              "      <td>1</td>\n",
              "    </tr>\n",
              "    <tr>\n",
              "      <th>1</th>\n",
              "      <td>2</td>\n",
              "      <td>2년 가량의 연애</td>\n",
              "      <td>2년 만났어</td>\n",
              "      <td>0</td>\n",
              "    </tr>\n",
              "    <tr>\n",
              "      <th>2</th>\n",
              "      <td>3</td>\n",
              "      <td>2년 만난 기념일이야</td>\n",
              "      <td>우리 벌써 2년 동안 사궜어</td>\n",
              "      <td>0</td>\n",
              "    </tr>\n",
              "    <tr>\n",
              "      <th>3</th>\n",
              "      <td>4</td>\n",
              "      <td>2년 사귀었는데 결혼하려고</td>\n",
              "      <td>2년째 짝사랑하는 사람이 있어.</td>\n",
              "      <td>1</td>\n",
              "    </tr>\n",
              "    <tr>\n",
              "      <th>4</th>\n",
              "      <td>5</td>\n",
              "      <td>5급면제도 나랑사랑카드 발급하나요?</td>\n",
              "      <td>아이콘 노래 사랑을 했다 별로인것같은데</td>\n",
              "      <td>1</td>\n",
              "    </tr>\n",
              "    <tr>\n",
              "      <th>...</th>\n",
              "      <td>...</td>\n",
              "      <td>...</td>\n",
              "      <td>...</td>\n",
              "      <td>...</td>\n",
              "    </tr>\n",
              "    <tr>\n",
              "      <th>683</th>\n",
              "      <td>684</td>\n",
              "      <td>회사에서 짤릴 필이 와</td>\n",
              "      <td>나 회사 짤릴 거 같은데 어떻게 만회하지</td>\n",
              "      <td>0</td>\n",
              "    </tr>\n",
              "    <tr>\n",
              "      <th>684</th>\n",
              "      <td>685</td>\n",
              "      <td>효율적으로 공부하는 방법</td>\n",
              "      <td>새 해 결심 뭐였더라</td>\n",
              "      <td>1</td>\n",
              "    </tr>\n",
              "    <tr>\n",
              "      <th>685</th>\n",
              "      <td>686</td>\n",
              "      <td>휴대폰 액정 깨졌어</td>\n",
              "      <td>액정 깨짐</td>\n",
              "      <td>0</td>\n",
              "    </tr>\n",
              "    <tr>\n",
              "      <th>686</th>\n",
              "      <td>687</td>\n",
              "      <td>힘든 일이 너무 많아요</td>\n",
              "      <td>괜찮아 천천히 해도 돼</td>\n",
              "      <td>1</td>\n",
              "    </tr>\n",
              "    <tr>\n",
              "      <th>687</th>\n",
              "      <td>688</td>\n",
              "      <td>AI도 감정 있나?</td>\n",
              "      <td>이런 감정은 처음인데 설레네</td>\n",
              "      <td>1</td>\n",
              "    </tr>\n",
              "  </tbody>\n",
              "</table>\n",
              "<p>688 rows × 4 columns</p>\n",
              "</div>"
            ],
            "text/plain": [
              "     test_id            question1               question2  is_duplicate\n",
              "0          1          21살의 사랑에 대해      사랑을 노력한다는게 말이 되나요?             1\n",
              "1          2            2년 가량의 연애                  2년 만났어             0\n",
              "2          3          2년 만난 기념일이야         우리 벌써 2년 동안 사궜어             0\n",
              "3          4       2년 사귀었는데 결혼하려고       2년째 짝사랑하는 사람이 있어.             1\n",
              "4          5  5급면제도 나랑사랑카드 발급하나요?   아이콘 노래 사랑을 했다 별로인것같은데             1\n",
              "..       ...                  ...                     ...           ...\n",
              "683      684         회사에서 짤릴 필이 와  나 회사 짤릴 거 같은데 어떻게 만회하지             0\n",
              "684      685        효율적으로 공부하는 방법             새 해 결심 뭐였더라             1\n",
              "685      686           휴대폰 액정 깨졌어                   액정 깨짐             0\n",
              "686      687         힘든 일이 너무 많아요            괜찮아 천천히 해도 돼             1\n",
              "687      688           AI도 감정 있나?         이런 감정은 처음인데 설레네             1\n",
              "\n",
              "[688 rows x 4 columns]"
            ]
          },
          "metadata": {
            "tags": []
          },
          "execution_count": 15
        }
      ]
    },
    {
      "cell_type": "code",
      "metadata": {
        "id": "kXcHn9p4q3aE",
        "colab": {
          "base_uri": "https://localhost:8080/",
          "height": 402
        },
        "outputId": "2bceb788-c00f-4948-a149-b387d7f67f4c"
      },
      "source": [
        "df_test = df_test.dropna()\n",
        "df_test"
      ],
      "execution_count": 16,
      "outputs": [
        {
          "output_type": "execute_result",
          "data": {
            "text/html": [
              "<div>\n",
              "<style scoped>\n",
              "    .dataframe tbody tr th:only-of-type {\n",
              "        vertical-align: middle;\n",
              "    }\n",
              "\n",
              "    .dataframe tbody tr th {\n",
              "        vertical-align: top;\n",
              "    }\n",
              "\n",
              "    .dataframe thead th {\n",
              "        text-align: right;\n",
              "    }\n",
              "</style>\n",
              "<table border=\"1\" class=\"dataframe\">\n",
              "  <thead>\n",
              "    <tr style=\"text-align: right;\">\n",
              "      <th></th>\n",
              "      <th>test_id</th>\n",
              "      <th>question1</th>\n",
              "      <th>question2</th>\n",
              "      <th>is_duplicate</th>\n",
              "    </tr>\n",
              "  </thead>\n",
              "  <tbody>\n",
              "    <tr>\n",
              "      <th>0</th>\n",
              "      <td>1</td>\n",
              "      <td>21살의 사랑에 대해</td>\n",
              "      <td>사랑을 노력한다는게 말이 되나요?</td>\n",
              "      <td>1</td>\n",
              "    </tr>\n",
              "    <tr>\n",
              "      <th>1</th>\n",
              "      <td>2</td>\n",
              "      <td>2년 가량의 연애</td>\n",
              "      <td>2년 만났어</td>\n",
              "      <td>0</td>\n",
              "    </tr>\n",
              "    <tr>\n",
              "      <th>2</th>\n",
              "      <td>3</td>\n",
              "      <td>2년 만난 기념일이야</td>\n",
              "      <td>우리 벌써 2년 동안 사궜어</td>\n",
              "      <td>0</td>\n",
              "    </tr>\n",
              "    <tr>\n",
              "      <th>3</th>\n",
              "      <td>4</td>\n",
              "      <td>2년 사귀었는데 결혼하려고</td>\n",
              "      <td>2년째 짝사랑하는 사람이 있어.</td>\n",
              "      <td>1</td>\n",
              "    </tr>\n",
              "    <tr>\n",
              "      <th>4</th>\n",
              "      <td>5</td>\n",
              "      <td>5급면제도 나랑사랑카드 발급하나요?</td>\n",
              "      <td>아이콘 노래 사랑을 했다 별로인것같은데</td>\n",
              "      <td>1</td>\n",
              "    </tr>\n",
              "    <tr>\n",
              "      <th>...</th>\n",
              "      <td>...</td>\n",
              "      <td>...</td>\n",
              "      <td>...</td>\n",
              "      <td>...</td>\n",
              "    </tr>\n",
              "    <tr>\n",
              "      <th>683</th>\n",
              "      <td>684</td>\n",
              "      <td>회사에서 짤릴 필이 와</td>\n",
              "      <td>나 회사 짤릴 거 같은데 어떻게 만회하지</td>\n",
              "      <td>0</td>\n",
              "    </tr>\n",
              "    <tr>\n",
              "      <th>684</th>\n",
              "      <td>685</td>\n",
              "      <td>효율적으로 공부하는 방법</td>\n",
              "      <td>새 해 결심 뭐였더라</td>\n",
              "      <td>1</td>\n",
              "    </tr>\n",
              "    <tr>\n",
              "      <th>685</th>\n",
              "      <td>686</td>\n",
              "      <td>휴대폰 액정 깨졌어</td>\n",
              "      <td>액정 깨짐</td>\n",
              "      <td>0</td>\n",
              "    </tr>\n",
              "    <tr>\n",
              "      <th>686</th>\n",
              "      <td>687</td>\n",
              "      <td>힘든 일이 너무 많아요</td>\n",
              "      <td>괜찮아 천천히 해도 돼</td>\n",
              "      <td>1</td>\n",
              "    </tr>\n",
              "    <tr>\n",
              "      <th>687</th>\n",
              "      <td>688</td>\n",
              "      <td>AI도 감정 있나?</td>\n",
              "      <td>이런 감정은 처음인데 설레네</td>\n",
              "      <td>1</td>\n",
              "    </tr>\n",
              "  </tbody>\n",
              "</table>\n",
              "<p>688 rows × 4 columns</p>\n",
              "</div>"
            ],
            "text/plain": [
              "     test_id            question1               question2  is_duplicate\n",
              "0          1          21살의 사랑에 대해      사랑을 노력한다는게 말이 되나요?             1\n",
              "1          2            2년 가량의 연애                  2년 만났어             0\n",
              "2          3          2년 만난 기념일이야         우리 벌써 2년 동안 사궜어             0\n",
              "3          4       2년 사귀었는데 결혼하려고       2년째 짝사랑하는 사람이 있어.             1\n",
              "4          5  5급면제도 나랑사랑카드 발급하나요?   아이콘 노래 사랑을 했다 별로인것같은데             1\n",
              "..       ...                  ...                     ...           ...\n",
              "683      684         회사에서 짤릴 필이 와  나 회사 짤릴 거 같은데 어떻게 만회하지             0\n",
              "684      685        효율적으로 공부하는 방법             새 해 결심 뭐였더라             1\n",
              "685      686           휴대폰 액정 깨졌어                   액정 깨짐             0\n",
              "686      687         힘든 일이 너무 많아요            괜찮아 천천히 해도 돼             1\n",
              "687      688           AI도 감정 있나?         이런 감정은 처음인데 설레네             1\n",
              "\n",
              "[688 rows x 4 columns]"
            ]
          },
          "metadata": {
            "tags": []
          },
          "execution_count": 16
        }
      ]
    },
    {
      "cell_type": "code",
      "metadata": {
        "id": "pl2JDf6Aq3aF"
      },
      "source": [
        "def load_data(df, n_seq_1, n_seq_2):\n",
        "    \"\"\"\n",
        "    Quora 학습 데이터 생성\n",
        "    :param df: data frame\n",
        "    :param n_seq_1: number of sequence 1\n",
        "    :param n_seq_2: number of sequence 2\n",
        "    :return inputs_1: input data 1\n",
        "    :return inputs_2: input data 2\n",
        "    :return labels: label data\n",
        "    \"\"\"\n",
        "    inputs_1 = np.zeros((len(df), n_seq_1)).astype(np.int32)\n",
        "    inputs_2 = np.zeros((len(df), n_seq_2)).astype(np.int32)\n",
        "    labels = np.zeros((len(df),))\n",
        "    index = 0\n",
        "    for i, row in tqdm(df.iterrows(), total=len(df)):\n",
        "        # tokens 저장\n",
        "        # print()\n",
        "        is_duplicate = row['is_duplicate']\n",
        "        question1 = row['question1']\n",
        "        question2 = row['question2']\n",
        "        # print(is_duplicate, question1, question2)\n",
        "\n",
        "        tokens_1 = vocab.encode_as_pieces(question1)\n",
        "        # print(len(tokens_1), ':', tokens_1)\n",
        "        tokens_2 = vocab.encode_as_pieces(question2)\n",
        "        # print(len(tokens_2), ':', tokens_2)\n",
        "\n",
        "        token_ids_1 = vocab.encode_as_ids(question1)\n",
        "        # print(len(token_ids_1), ':', token_ids_1)\n",
        "        token_ids_2 = vocab.encode_as_ids(question2)\n",
        "        # print(len(token_ids_2), ':', token_ids_2)\n",
        "\n",
        "        token_ids_1 = token_ids_1[:n_seq_1]\n",
        "        # print(len(token_ids_1), ':', token_ids_1)\n",
        "        token_ids_2 = token_ids_2[:n_seq_2]\n",
        "        # print(len(token_ids_2), ':', token_ids_2)\n",
        "\n",
        "        token_ids_1 += [0] * (n_seq_1 - len(token_ids_1))\n",
        "        # print(len(token_ids_1), ':', token_ids_1)\n",
        "        token_ids_2 += [0] * (n_seq_2 - len(token_ids_2))\n",
        "        # print(len(token_ids_2), ':', token_ids_2)\n",
        "\n",
        "        labels[index] = 1 - is_duplicate  # 0 -> 1, 1 -> 0\n",
        "        inputs_1[index] = token_ids_1\n",
        "        inputs_2[index] = token_ids_2\n",
        "        index += 1\n",
        "    return inputs_1, inputs_2, labels"
      ],
      "execution_count": 17,
      "outputs": []
    },
    {
      "cell_type": "code",
      "metadata": {
        "id": "f5cu4GTFq3aF",
        "colab": {
          "base_uri": "https://localhost:8080/",
          "height": 330,
          "referenced_widgets": [
            "1b8800311c8f438e899058c5fc4d8afe",
            "45d37f0a13a4464c88a922a2384e7b8f",
            "433406c6354e4c9a9cffaab93297eb44",
            "8d62a49b985145a0b4fe81890e7013e8",
            "a462c26ab48e4109b55d78bda54852aa",
            "4ac1532d4ffa470ea7daf94404834b98",
            "3e2d6219d0a94cf2bac0df443c682a96",
            "e02de3ccef064ffdb991663b97588207"
          ]
        },
        "outputId": "da02f173-3c22-45c8-b949-c7fbb018a8e4"
      },
      "source": [
        "# train data 생성\n",
        "train_inputs_1, train_inputs_2, train_labels = load_data(df_train, n_seq_1, n_seq_2)\n",
        "train_inputs_1, train_inputs_2, train_labels"
      ],
      "execution_count": 18,
      "outputs": [
        {
          "output_type": "display_data",
          "data": {
            "application/vnd.jupyter.widget-view+json": {
              "model_id": "1b8800311c8f438e899058c5fc4d8afe",
              "version_minor": 0,
              "version_major": 2
            },
            "text/plain": [
              "HBox(children=(FloatProgress(value=0.0, max=6888.0), HTML(value='')))"
            ]
          },
          "metadata": {
            "tags": []
          }
        },
        {
          "output_type": "stream",
          "text": [
            "\n"
          ],
          "name": "stdout"
        },
        {
          "output_type": "execute_result",
          "data": {
            "text/plain": [
              "(array([[ 3800,    26,  7314, ...,     0,     0,     0],\n",
              "        [   67,    15,  8256, ...,     0,     0,     0],\n",
              "        [   67,    15,    62, ...,     0,     0,     0],\n",
              "        ...,\n",
              "        [17834,    10,    20, ...,     0,     0,     0],\n",
              "        [17834,  1151,  4468, ...,     0,     0,     0],\n",
              "        [ 2067, 17548,    22, ...,     0,     0,     0]], dtype=int32),\n",
              " array([[   67,    15, 13442, ...,     0,     0,     0],\n",
              "        [   67,    15,   218, ...,     0,     0,     0],\n",
              "        [  242,    15,    85, ...,     0,     0,     0],\n",
              "        ...,\n",
              "        [ 5135, 29356,    29, ...,     0,     0,     0],\n",
              "        [17834,  1151,  4468, ...,     0,     0,     0],\n",
              "        [ 5135,    13, 20337, ...,     0,     0,     0]], dtype=int32),\n",
              " array([0., 0., 0., ..., 0., 1., 0.]))"
            ]
          },
          "metadata": {
            "tags": []
          },
          "execution_count": 18
        }
      ]
    },
    {
      "cell_type": "code",
      "metadata": {
        "id": "wAc54dMJq3aF",
        "colab": {
          "base_uri": "https://localhost:8080/",
          "height": 1000,
          "referenced_widgets": [
            "1766f03bd93b4d78bed13d01074eb590",
            "ee39597601c5414abdfd867dc7263f58",
            "4d5a5efd07674a4abac2901ca9244c03",
            "00df43cbbce1499aae96bd58a90fb939",
            "79aba206f8ce4d228593ad637f79219d",
            "8b1d5ebe214b4c9ba9e2dc5ca241d4a4",
            "65e9f155967b431e80677f8b614db34a",
            "638d00f240ea4bc9839422add70a561d"
          ]
        },
        "outputId": "c6f7abc2-c0a6-4b10-c3f5-eea3397ef562"
      },
      "source": [
        "# test data 생성\n",
        "test_inputs_1, test_inputs_2, test_labels = load_data(df_test, n_seq_1, n_seq_2)\n",
        "test_inputs_1, test_inputs_2, test_labels"
      ],
      "execution_count": 19,
      "outputs": [
        {
          "output_type": "display_data",
          "data": {
            "application/vnd.jupyter.widget-view+json": {
              "model_id": "1766f03bd93b4d78bed13d01074eb590",
              "version_minor": 0,
              "version_major": 2
            },
            "text/plain": [
              "HBox(children=(FloatProgress(value=0.0, max=688.0), HTML(value='')))"
            ]
          },
          "metadata": {
            "tags": []
          }
        },
        {
          "output_type": "stream",
          "text": [
            "\n"
          ],
          "name": "stdout"
        },
        {
          "output_type": "execute_result",
          "data": {
            "text/plain": [
              "(array([[  513,   704,     9, ...,     0,     0,     0],\n",
              "        [   36,    15,  5657, ...,     0,     0,     0],\n",
              "        [   36,    15,  7314, ...,     0,     0,     0],\n",
              "        ...,\n",
              "        [22848, 27427,  4221, ...,     0,     0,     0],\n",
              "        [10736,  2101,  2329, ...,     0,     0,     0],\n",
              "        [17194,    32,  3971, ...,     0,     0,     0]], dtype=int32),\n",
              " array([[ 5775,  2184,  1973, ...,     0,     0,     0],\n",
              "        [   36,    15, 10711, ...,     0,     0,     0],\n",
              "        [ 1680, 29038,    36, ...,     0,     0,     0],\n",
              "        ...,\n",
              "        [27427,  4221,  4418, ...,     0,     0,     0],\n",
              "        [22827,   141, 17629, ...,     0,     0,     0],\n",
              "        [ 1001,  3971,    18, ...,     0,     0,     0]], dtype=int32),\n",
              " array([0., 1., 1., 0., 0., 0., 1., 0., 0., 0., 1., 0., 1., 0., 0., 1., 1.,\n",
              "        1., 1., 0., 1., 0., 0., 1., 1., 0., 0., 0., 1., 1., 0., 0., 1., 1.,\n",
              "        1., 0., 0., 0., 1., 0., 0., 0., 0., 1., 0., 1., 0., 1., 0., 0., 1.,\n",
              "        1., 0., 1., 0., 1., 1., 0., 1., 1., 1., 0., 1., 0., 0., 0., 0., 0.,\n",
              "        1., 0., 1., 1., 1., 0., 1., 1., 1., 0., 1., 1., 1., 1., 1., 1., 1.,\n",
              "        0., 1., 1., 0., 0., 1., 1., 1., 1., 1., 0., 1., 0., 0., 1., 1., 1.,\n",
              "        0., 1., 1., 1., 0., 0., 0., 1., 1., 0., 0., 1., 1., 1., 1., 0., 1.,\n",
              "        1., 0., 1., 1., 1., 0., 0., 1., 1., 0., 0., 1., 0., 0., 0., 1., 1.,\n",
              "        0., 0., 0., 0., 1., 0., 0., 0., 0., 0., 0., 0., 1., 1., 0., 0., 1.,\n",
              "        1., 1., 1., 1., 1., 0., 1., 1., 1., 0., 1., 1., 1., 1., 0., 0., 1.,\n",
              "        1., 1., 1., 1., 1., 1., 0., 1., 1., 0., 1., 0., 0., 0., 1., 1., 0.,\n",
              "        0., 0., 0., 1., 1., 0., 0., 1., 0., 0., 0., 1., 0., 1., 0., 0., 1.,\n",
              "        1., 1., 0., 0., 1., 1., 0., 1., 1., 0., 1., 0., 0., 1., 0., 0., 1.,\n",
              "        0., 1., 0., 0., 1., 1., 1., 1., 0., 1., 0., 0., 1., 1., 1., 1., 1.,\n",
              "        0., 1., 0., 1., 1., 0., 1., 1., 0., 1., 1., 0., 1., 1., 1., 1., 1.,\n",
              "        0., 1., 1., 1., 1., 1., 0., 1., 0., 0., 0., 0., 1., 1., 0., 0., 0.,\n",
              "        1., 0., 1., 0., 0., 0., 0., 0., 0., 0., 1., 0., 0., 1., 0., 0., 0.,\n",
              "        0., 1., 0., 1., 0., 1., 0., 1., 0., 0., 0., 1., 1., 1., 1., 1., 1.,\n",
              "        1., 0., 0., 1., 1., 0., 1., 0., 1., 0., 1., 1., 0., 0., 0., 0., 1.,\n",
              "        1., 1., 0., 1., 0., 1., 1., 1., 1., 0., 1., 1., 1., 0., 1., 0., 1.,\n",
              "        1., 1., 0., 0., 0., 1., 0., 1., 1., 1., 1., 1., 1., 0., 1., 0., 1.,\n",
              "        1., 0., 0., 0., 0., 1., 0., 1., 1., 0., 1., 0., 0., 0., 0., 1., 0.,\n",
              "        0., 0., 1., 0., 0., 1., 0., 0., 0., 0., 0., 0., 1., 1., 1., 0., 0.,\n",
              "        1., 0., 1., 0., 0., 1., 0., 0., 0., 1., 1., 0., 0., 0., 0., 1., 1.,\n",
              "        0., 0., 0., 0., 1., 0., 1., 1., 1., 1., 1., 0., 1., 1., 1., 0., 1.,\n",
              "        0., 1., 0., 1., 1., 0., 0., 1., 1., 1., 1., 0., 1., 1., 1., 1., 0.,\n",
              "        0., 1., 0., 1., 0., 0., 1., 0., 0., 0., 0., 0., 1., 1., 0., 0., 0.,\n",
              "        0., 0., 1., 0., 1., 0., 1., 0., 1., 0., 0., 0., 0., 1., 1., 1., 1.,\n",
              "        0., 1., 1., 1., 1., 0., 0., 1., 1., 1., 0., 1., 0., 0., 1., 0., 0.,\n",
              "        1., 0., 0., 1., 1., 0., 0., 1., 0., 0., 0., 0., 0., 1., 0., 1., 0.,\n",
              "        0., 1., 0., 1., 1., 1., 0., 1., 1., 1., 0., 1., 1., 0., 0., 0., 1.,\n",
              "        1., 0., 1., 1., 0., 0., 0., 1., 1., 1., 1., 1., 1., 0., 0., 0., 1.,\n",
              "        1., 0., 0., 0., 0., 1., 0., 1., 1., 1., 1., 1., 0., 0., 0., 0., 1.,\n",
              "        1., 0., 1., 1., 0., 1., 0., 0., 0., 0., 0., 1., 0., 1., 1., 1., 1.,\n",
              "        1., 1., 1., 0., 1., 0., 1., 1., 0., 1., 0., 0., 1., 0., 1., 1., 1.,\n",
              "        0., 1., 1., 0., 1., 1., 0., 0., 1., 0., 0., 1., 1., 1., 1., 1., 1.,\n",
              "        1., 0., 0., 0., 1., 1., 1., 1., 0., 0., 1., 1., 1., 0., 0., 1., 1.,\n",
              "        0., 1., 0., 0., 0., 1., 0., 1., 1., 1., 0., 0., 0., 0., 1., 0., 1.,\n",
              "        1., 0., 1., 1., 1., 0., 0., 1., 1., 1., 0., 0., 1., 1., 0., 0., 0.,\n",
              "        1., 0., 1., 1., 0., 0., 1., 1., 1., 1., 1., 1., 0., 0., 0., 1., 0.,\n",
              "        0., 1., 1., 1., 0., 1., 0., 0.]))"
            ]
          },
          "metadata": {
            "tags": []
          },
          "execution_count": 19
        }
      ]
    },
    {
      "cell_type": "markdown",
      "metadata": {
        "id": "wMPwmL79q3aG"
      },
      "source": [
        "## 학습"
      ]
    },
    {
      "cell_type": "code",
      "metadata": {
        "id": "dFNqEE0Bq3aG",
        "colab": {
          "base_uri": "https://localhost:8080/",
          "height": 1000
        },
        "outputId": "20a10b4a-2696-4260-9317-3fb82255ffc9"
      },
      "source": [
        "# 모델 생성\n",
        "model = build_model(len(vocab), d_model, n_seq_1, n_seq_2)\n",
        "# 모델 내용 그래프 출력\n",
        "tf.keras.utils.plot_model(model, 'model.png', show_shapes=True)"
      ],
      "execution_count": 24,
      "outputs": [
        {
          "output_type": "execute_result",
          "data": {
            "image/png": "[encoded data removed]",
            "text/plain": [
              "<IPython.core.display.Image object>"
            ]
          },
          "metadata": {
            "tags": []
          },
          "execution_count": 24
        }
      ]
    },
    {
      "cell_type": "code",
      "metadata": {
        "id": "jQIP_O8Dq3aG"
      },
      "source": [
        "# 모델 loss, optimizer, metric 정의\n",
        "model.compile(loss='mean_squared_error', optimizer='adam', metrics=['binary_accuracy'])"
      ],
      "execution_count": 25,
      "outputs": []
    },
    {
      "cell_type": "code",
      "metadata": {
        "id": "P8Kb7jHvq3aG"
      },
      "source": [
        "# early stopping\n",
        "early_stopping = tf.keras.callbacks.EarlyStopping(monitor='val_binary_accuracy', patience=5)\n",
        "# save weights callback\n",
        "save_weights = tf.keras.callbacks.ModelCheckpoint(os.path.join(quora_dir, 'stub.hdf5'),\n",
        "                                                  monitor='val_binary_accuracy',\n",
        "                                                  verbose=1,\n",
        "                                                  save_best_only=True,\n",
        "                                                  mode=\"max\",\n",
        "                                                  save_freq=\"epoch\",\n",
        "                                                  save_weights_only=True)\n",
        "# csv logger\n",
        "csv_logger = tf.keras.callbacks.CSVLogger(os.path.join(quora_dir, 'stub.csv'))"
      ],
      "execution_count": 26,
      "outputs": []
    },
    {
      "cell_type": "code",
      "metadata": {
        "id": "DU7VaxEcq3aG",
        "colab": {
          "base_uri": "https://localhost:8080/"
        },
        "outputId": "243d4b1c-d559-4254-ecb4-b255335c00ef"
      },
      "source": [
        "# 모델 학습\n",
        "history = model.fit((train_inputs_1, train_inputs_2),\n",
        "                    train_labels,\n",
        "                    validation_data=((test_inputs_1, test_inputs_2), test_labels),\n",
        "                    epochs=100,\n",
        "                    batch_size=256,\n",
        "                    callbacks=[early_stopping, save_weights, csv_logger])"
      ],
      "execution_count": 28,
      "outputs": [
        {
          "output_type": "stream",
          "text": [
            "Epoch 1/100\n",
            "27/27 [==============================] - 3s 126ms/step - loss: 0.6895 - binary_accuracy: 0.3105 - val_loss: 0.5213 - val_binary_accuracy: 0.4746\n",
            "\n",
            "Epoch 00001: val_binary_accuracy improved from -inf to 0.47455, saving model to /content/drive/MyDrive/kowiki/quora/stub.hdf5\n",
            "Epoch 2/100\n",
            "27/27 [==============================] - 3s 112ms/step - loss: 0.6794 - binary_accuracy: 0.3104 - val_loss: 0.4986 - val_binary_accuracy: 0.4746\n",
            "\n",
            "Epoch 00002: val_binary_accuracy did not improve from 0.47455\n",
            "Epoch 3/100\n",
            "27/27 [==============================] - 3s 116ms/step - loss: 0.5987 - binary_accuracy: 0.3104 - val_loss: 0.4195 - val_binary_accuracy: 0.4746\n",
            "\n",
            "Epoch 00003: val_binary_accuracy did not improve from 0.47455\n",
            "Epoch 4/100\n",
            "27/27 [==============================] - 3s 112ms/step - loss: 0.4925 - binary_accuracy: 0.3106 - val_loss: 0.3491 - val_binary_accuracy: 0.4746\n",
            "\n",
            "Epoch 00004: val_binary_accuracy did not improve from 0.47455\n",
            "Epoch 5/100\n",
            "27/27 [==============================] - 3s 111ms/step - loss: 0.3397 - binary_accuracy: 0.3154 - val_loss: 0.2699 - val_binary_accuracy: 0.4817\n",
            "\n",
            "Epoch 00005: val_binary_accuracy improved from 0.47455 to 0.48165, saving model to /content/drive/MyDrive/kowiki/quora/stub.hdf5\n",
            "Epoch 6/100\n",
            "27/27 [==============================] - 3s 113ms/step - loss: 0.1984 - binary_accuracy: 0.6669 - val_loss: 0.2392 - val_binary_accuracy: 0.6037\n",
            "\n",
            "Epoch 00006: val_binary_accuracy improved from 0.48165 to 0.60369, saving model to /content/drive/MyDrive/kowiki/quora/stub.hdf5\n",
            "Epoch 7/100\n",
            "27/27 [==============================] - 3s 112ms/step - loss: 0.1147 - binary_accuracy: 0.9184 - val_loss: 0.2468 - val_binary_accuracy: 0.6126\n",
            "\n",
            "Epoch 00007: val_binary_accuracy improved from 0.60369 to 0.61257, saving model to /content/drive/MyDrive/kowiki/quora/stub.hdf5\n",
            "Epoch 8/100\n",
            "27/27 [==============================] - 3s 113ms/step - loss: 0.0791 - binary_accuracy: 0.9432 - val_loss: 0.2681 - val_binary_accuracy: 0.5979\n",
            "\n",
            "Epoch 00008: val_binary_accuracy did not improve from 0.61257\n",
            "Epoch 9/100\n",
            "27/27 [==============================] - 3s 113ms/step - loss: 0.0583 - binary_accuracy: 0.9587 - val_loss: 0.2652 - val_binary_accuracy: 0.6211\n",
            "\n",
            "Epoch 00009: val_binary_accuracy improved from 0.61257 to 0.62109, saving model to /content/drive/MyDrive/kowiki/quora/stub.hdf5\n",
            "Epoch 10/100\n",
            "27/27 [==============================] - 3s 111ms/step - loss: 0.0377 - binary_accuracy: 0.9704 - val_loss: 0.2784 - val_binary_accuracy: 0.6069\n",
            "\n",
            "Epoch 00010: val_binary_accuracy did not improve from 0.62109\n",
            "Epoch 11/100\n",
            "27/27 [==============================] - 3s 111ms/step - loss: 0.0317 - binary_accuracy: 0.9778 - val_loss: 0.2806 - val_binary_accuracy: 0.6155\n",
            "\n",
            "Epoch 00011: val_binary_accuracy did not improve from 0.62109\n",
            "Epoch 12/100\n",
            "27/27 [==============================] - 3s 111ms/step - loss: 0.0297 - binary_accuracy: 0.9820 - val_loss: 0.2762 - val_binary_accuracy: 0.6180\n",
            "\n",
            "Epoch 00012: val_binary_accuracy did not improve from 0.62109\n",
            "Epoch 13/100\n",
            "27/27 [==============================] - 3s 115ms/step - loss: 0.0255 - binary_accuracy: 0.9852 - val_loss: 0.2778 - val_binary_accuracy: 0.6141\n",
            "\n",
            "Epoch 00013: val_binary_accuracy did not improve from 0.62109\n",
            "Epoch 14/100\n",
            "27/27 [==============================] - 3s 112ms/step - loss: 0.0220 - binary_accuracy: 0.9877 - val_loss: 0.2839 - val_binary_accuracy: 0.6236\n",
            "\n",
            "Epoch 00014: val_binary_accuracy improved from 0.62109 to 0.62358, saving model to /content/drive/MyDrive/kowiki/quora/stub.hdf5\n",
            "Epoch 15/100\n",
            "27/27 [==============================] - 3s 112ms/step - loss: 0.0174 - binary_accuracy: 0.9900 - val_loss: 0.2838 - val_binary_accuracy: 0.6115\n",
            "\n",
            "Epoch 00015: val_binary_accuracy did not improve from 0.62358\n",
            "Epoch 16/100\n",
            "27/27 [==============================] - 3s 112ms/step - loss: 0.0237 - binary_accuracy: 0.9910 - val_loss: 0.2865 - val_binary_accuracy: 0.6107\n",
            "\n",
            "Epoch 00016: val_binary_accuracy did not improve from 0.62358\n",
            "Epoch 17/100\n",
            "27/27 [==============================] - 3s 113ms/step - loss: 0.0163 - binary_accuracy: 0.9913 - val_loss: 0.2579 - val_binary_accuracy: 0.6191\n",
            "\n",
            "Epoch 00017: val_binary_accuracy did not improve from 0.62358\n",
            "Epoch 18/100\n",
            "27/27 [==============================] - 3s 112ms/step - loss: 0.0198 - binary_accuracy: 0.9917 - val_loss: 0.2801 - val_binary_accuracy: 0.6171\n",
            "\n",
            "Epoch 00018: val_binary_accuracy did not improve from 0.62358\n",
            "Epoch 19/100\n",
            "27/27 [==============================] - 3s 111ms/step - loss: 0.0116 - binary_accuracy: 0.9936 - val_loss: 0.2801 - val_binary_accuracy: 0.6179\n",
            "\n",
            "Epoch 00019: val_binary_accuracy did not improve from 0.62358\n"
          ],
          "name": "stdout"
        }
      ]
    },
    {
      "cell_type": "code",
      "metadata": {
        "id": "6jigtzHxq3aG",
        "colab": {
          "base_uri": "https://localhost:8080/",
          "height": 279
        },
        "outputId": "49f61c81-0caf-41f0-d9e4-eaba6e810064"
      },
      "source": [
        "plt.figure(figsize=(12, 4))\n",
        "\n",
        "plt.subplot(1, 2, 1)\n",
        "plt.plot(history.history['loss'], 'b-', label='loss')\n",
        "plt.plot(history.history['val_loss'], 'r--', label='val_loss')\n",
        "plt.xlabel('Epoch')\n",
        "plt.legend()\n",
        "\n",
        "plt.subplot(1, 2, 2)\n",
        "plt.plot(history.history['binary_accuracy'], 'g-', label='acc')\n",
        "plt.plot(history.history['val_binary_accuracy'], 'k--', label='val_acc')\n",
        "plt.xlabel('Epoch')\n",
        "plt.legend()\n",
        "\n",
        "plt.show()"
      ],
      "execution_count": 29,
      "outputs": [
        {
          "output_type": "display_data",
          "data": {
            "image/png": "[encoded data removed]",
            "text/plain": [
              "<Figure size 864x288 with 2 Axes>"
            ]
          },
          "metadata": {
            "tags": [],
            "needs_background": "light"
          }
        }
      ]
    },
    {
      "cell_type": "markdown",
      "metadata": {
        "id": "jTN2yeNEq3aI"
      },
      "source": [
        "## Inference"
      ]
    },
    {
      "cell_type": "code",
      "metadata": {
        "id": "iSWxgN2iq3aI"
      },
      "source": [
        "# 모델 생성\n",
        "model = build_model(len(vocab), d_model, n_seq_1, n_seq_2)\n",
        "# train weight로 초기화\n",
        "model.load_weights(os.path.join(quora_dir, 'stub.hdf5'))"
      ],
      "execution_count": 30,
      "outputs": []
    },
    {
      "cell_type": "code",
      "metadata": {
        "id": "i0nmHeRbq3aI",
        "colab": {
          "base_uri": "https://localhost:8080/"
        },
        "outputId": "a7cb1a0f-fff3-45e2-dadb-feecb0b5e23b"
      },
      "source": [
        "# 예측\n",
        "logits = model.predict((test_inputs_1, test_inputs_2))\n",
        "logits"
      ],
      "execution_count": 31,
      "outputs": [
        {
          "output_type": "execute_result",
          "data": {
            "text/plain": [
              "array([1.83136269e-01, 1.07577248e-02, 8.39008093e-01, 6.40333593e-01,\n",
              "       5.84752321e-01, 2.66009150e-03, 4.92892593e-01, 9.22498763e-01,\n",
              "       5.83787858e-01, 3.94112080e-01, 8.12718630e-01, 6.52639687e-01,\n",
              "       9.02420819e-01, 2.19266430e-01, 6.43092096e-02, 8.50128591e-01,\n",
              "       5.57252586e-01, 9.19797122e-01, 9.10400093e-01, 8.85384858e-01,\n",
              "       3.47855419e-01, 1.04977246e-02, 8.96291018e-01, 8.19393575e-01,\n",
              "       9.07788873e-01, 6.15928710e-01, 7.70544589e-01, 9.10274684e-01,\n",
              "       5.57885647e-01, 8.74632716e-01, 2.81266570e-02, 3.60924214e-01,\n",
              "       8.77224565e-01, 9.07675683e-01, 9.21244442e-01, 9.21624362e-01,\n",
              "       8.18295181e-01, 7.73823619e-01, 8.81429553e-01, 6.65566206e-01,\n",
              "       5.08837700e-01, 4.68874812e-01, 1.36687439e-02, 4.32997972e-01,\n",
              "       2.54908372e-02, 5.79289317e-01, 1.08551960e-02, 8.19434762e-01,\n",
              "       8.05829287e-01, 7.19151020e-01, 1.41234010e-01, 8.83388817e-01,\n",
              "       4.46131602e-02, 5.54527700e-01, 9.18054402e-01, 9.25929666e-01,\n",
              "       9.12798941e-01, 8.07627082e-01, 8.01033556e-01, 9.21068013e-01,\n",
              "       4.14680183e-01, 9.28367734e-01, 3.75042766e-01, 2.81483307e-02,\n",
              "       9.18047071e-01, 9.06497836e-01, 9.81277972e-03, 9.23265576e-01,\n",
              "       8.61073256e-01, 9.17721450e-01, 7.43358016e-01, 5.05503178e-01,\n",
              "       1.21553596e-02, 9.17071998e-01, 9.25860167e-01, 9.18834567e-01,\n",
              "       9.03947830e-01, 8.40485841e-02, 9.21447337e-01, 9.17831957e-01,\n",
              "       9.18160260e-01, 9.24738526e-01, 9.18765366e-01, 9.21321213e-01,\n",
              "       9.25888717e-01, 9.25393522e-01, 9.25100088e-01, 9.29490209e-01,\n",
              "       7.99377680e-01, 9.13151681e-01, 8.88668895e-01, 1.35986269e-01,\n",
              "       8.86167109e-01, 9.24786925e-01, 6.40998483e-01, 4.49002713e-01,\n",
              "       8.46030653e-01, 3.50897729e-01, 8.66765440e-01, 9.17665780e-01,\n",
              "       8.21240321e-02, 8.46180737e-01, 8.69433880e-01, 3.50481391e-01,\n",
              "       8.99840176e-01, 4.64505069e-02, 9.19551015e-01, 6.11827314e-01,\n",
              "       6.54987469e-02, 8.28758478e-01, 5.77838114e-03, 1.13763222e-02,\n",
              "       1.14313466e-03, 9.21147585e-01, 4.43055421e-01, 4.61837426e-02,\n",
              "       5.35978019e-01, 2.02507436e-01, 9.14971113e-01, 8.55236590e-01,\n",
              "       3.79525512e-01, 8.94393265e-01, 4.28867549e-01, 9.16372776e-01,\n",
              "       8.14166963e-01, 9.28760171e-01, 8.99652243e-01, 7.78089225e-01,\n",
              "       9.14925277e-01, 3.77170503e-01, 9.04173851e-01, 2.30659395e-01,\n",
              "       9.11195874e-01, 9.23484504e-01, 9.25149560e-01, 6.34934008e-02,\n",
              "       1.51538298e-01, 9.09183145e-01, 7.25284338e-01, 9.07691240e-01,\n",
              "       9.18050826e-01, 5.68980211e-03, 8.89773607e-01, 7.74900615e-01,\n",
              "       7.33561218e-01, 3.38345706e-01, 5.88022709e-01, 8.51644278e-01,\n",
              "       8.83094013e-01, 8.19341481e-01, 6.85500577e-02, 3.57985884e-01,\n",
              "       1.97935686e-01, 1.99071288e-01, 2.67830938e-01, 9.10426080e-02,\n",
              "       1.21991999e-01, 8.76870193e-03, 8.60078990e-01, 8.70139480e-01,\n",
              "       9.11666811e-01, 6.08572960e-01, 9.25574183e-01, 5.50090134e-01,\n",
              "       2.24819154e-01, 9.05993760e-01, 8.82050335e-01, 2.37550884e-01,\n",
              "       8.17328453e-01, 1.79832354e-01, 4.78138596e-01, 9.01445270e-01,\n",
              "       9.25195277e-01, 4.49986905e-01, 5.38152874e-01, 9.18365121e-01,\n",
              "       6.94625854e-01, 7.85492599e-01, 8.58143926e-01, 8.77349317e-01,\n",
              "       9.20981288e-01, 7.89930811e-04, 7.28751361e-01, 9.26331520e-01,\n",
              "       9.14638340e-01, 6.34424567e-01, 8.74300659e-01, 7.11348832e-01,\n",
              "       8.79139483e-01, 2.65664607e-01, 2.35913903e-03, 8.60946655e-01,\n",
              "       6.78842723e-01, 6.75056875e-01, 7.10504413e-01, 5.94773702e-02,\n",
              "       1.79377664e-03, 1.30342826e-01, 9.22356606e-01, 2.27870315e-01,\n",
              "       9.25443113e-01, 8.70321393e-02, 2.99932122e-01, 9.00723457e-01,\n",
              "       9.28465843e-01, 9.04443324e-01, 3.63260657e-01, 2.80148983e-01,\n",
              "       8.22223663e-01, 9.22696948e-01, 5.72412880e-03, 9.24678326e-01,\n",
              "       8.65946591e-01, 8.78634393e-01, 9.21144068e-01, 4.77008641e-01,\n",
              "       3.88283372e-01, 9.02742505e-01, 8.26952934e-01, 7.93378422e-05,\n",
              "       7.76167810e-02, 7.96768129e-01, 1.54969525e-02, 7.03561127e-01,\n",
              "       2.88903918e-02, 9.15824294e-01, 8.21341872e-01, 5.66697657e-01,\n",
              "       9.07386243e-01, 9.03357387e-01, 6.68152869e-02, 9.13429558e-01,\n",
              "       4.57156897e-01, 8.17424119e-01, 9.01095390e-01, 9.06210780e-01,\n",
              "       8.11358392e-01, 9.10948634e-01, 8.78719866e-01, 8.86911035e-01,\n",
              "       7.85367370e-01, 4.41799402e-01, 5.11027932e-01, 2.26240039e-01,\n",
              "       9.25879419e-01, 6.26049399e-01, 6.62133634e-01, 1.79333985e-02,\n",
              "       4.12396371e-01, 8.54029775e-01, 3.03953998e-02, 1.89008266e-01,\n",
              "       7.99040556e-01, 8.95921409e-01, 3.93030763e-01, 8.53692532e-01,\n",
              "       9.10668612e-01, 8.67490828e-01, 9.05771852e-01, 7.93327451e-01,\n",
              "       8.64804864e-01, 6.91170394e-01, 9.07463312e-01, 1.01638283e-03,\n",
              "       3.90695967e-03, 3.12680036e-01, 9.17525172e-01, 4.18882445e-03,\n",
              "       8.86750817e-01, 5.58389304e-03, 7.96611607e-01, 8.96026552e-01,\n",
              "       9.03405309e-01, 7.28215933e-01, 1.09011918e-01, 8.93284023e-01,\n",
              "       3.02089363e-01, 9.09384608e-01, 9.02817905e-01, 8.31528485e-01,\n",
              "       2.88446933e-01, 9.09555197e-01, 9.10466790e-01, 9.22822535e-01,\n",
              "       3.05355862e-02, 3.48561078e-01, 4.09974903e-01, 7.11963279e-03,\n",
              "       6.88305795e-01, 7.46219695e-01, 2.96562612e-01, 9.11305249e-01,\n",
              "       6.08434081e-01, 7.20014453e-01, 9.11704421e-01, 1.76324695e-01,\n",
              "       8.88647020e-01, 7.74401128e-01, 9.19278502e-01, 3.96035194e-01,\n",
              "       9.09591854e-01, 7.08255529e-01, 9.07270670e-01, 9.26140606e-01,\n",
              "       9.23764706e-01, 9.25758719e-01, 9.06346321e-01, 8.77408206e-01,\n",
              "       3.81404251e-01, 8.84329498e-01, 8.83137286e-01, 8.49147975e-01,\n",
              "       8.80066335e-01, 2.63617933e-01, 7.81875491e-01, 8.90981615e-01,\n",
              "       7.68724263e-01, 9.18930233e-01, 9.16789711e-01, 3.89226526e-01,\n",
              "       9.03613627e-01, 9.09015000e-01, 9.28557813e-01, 8.92539203e-01,\n",
              "       9.22284648e-02, 5.23763061e-01, 9.08983588e-01, 6.44754708e-01,\n",
              "       9.17842507e-01, 1.37423705e-02, 6.76224649e-01, 4.92462099e-01,\n",
              "       7.68527210e-01, 5.11338711e-01, 6.61198676e-01, 9.18830454e-01,\n",
              "       5.16939580e-01, 9.26198006e-01, 1.25870019e-01, 9.06794846e-01,\n",
              "       6.55059099e-01, 8.43745172e-01, 9.20676291e-01, 9.25434470e-01,\n",
              "       9.26027656e-01, 5.67006296e-04, 9.02765810e-01, 2.91905612e-01,\n",
              "       9.07069325e-01, 9.02718484e-01, 9.23708022e-01, 7.57286787e-01,\n",
              "       9.24951196e-01, 7.66833499e-02, 8.99348021e-01, 4.47921036e-03,\n",
              "       8.86776209e-01, 9.21207845e-01, 4.41573858e-01, 5.68889380e-01,\n",
              "       8.45157504e-01, 8.10530007e-01, 5.92381060e-02, 7.60528862e-01,\n",
              "       2.02784454e-03, 8.63607585e-01, 3.25719710e-04, 8.33351672e-01,\n",
              "       1.20657936e-01, 5.30775927e-04, 9.01408613e-01, 7.51722038e-01,\n",
              "       6.49621606e-01, 1.84842333e-01, 4.46228832e-01, 8.36846888e-01,\n",
              "       5.26786566e-01, 8.00024271e-01, 7.31085479e-01, 9.21162426e-01,\n",
              "       8.08510840e-01, 9.18164611e-01, 9.11790252e-01, 8.07622254e-01,\n",
              "       6.53100133e-01, 2.66657829e-01, 9.12355721e-01, 9.18640018e-01,\n",
              "       9.17387247e-01, 6.31364346e-01, 8.84749353e-01, 4.91604239e-01,\n",
              "       8.41847301e-01, 6.81742251e-01, 1.82536766e-01, 7.24492133e-01,\n",
              "       7.65621662e-01, 3.64510059e-01, 9.18558419e-01, 7.27620065e-01,\n",
              "       9.23547924e-01, 9.28557634e-01, 2.00598553e-01, 5.33283710e-01,\n",
              "       4.36494112e-01, 9.57591534e-02, 7.85268843e-01, 4.40870345e-01,\n",
              "       5.69460623e-04, 1.94811709e-02, 4.26067591e-01, 7.90190250e-02,\n",
              "       9.05513227e-01, 7.14924037e-01, 9.05622125e-01, 7.81102955e-01,\n",
              "       1.21831931e-01, 9.00057852e-01, 2.81783551e-01, 7.15024650e-01,\n",
              "       9.11446691e-01, 9.20801640e-01, 8.19138765e-01, 8.12501848e-01,\n",
              "       9.21433866e-01, 9.19830084e-01, 7.59453893e-01, 6.69378877e-01,\n",
              "       1.09739404e-03, 9.19890046e-01, 2.43236497e-02, 6.01268373e-04,\n",
              "       3.85703474e-01, 8.92796040e-01, 9.07524645e-01, 8.74511182e-01,\n",
              "       8.28489840e-01, 2.97157943e-01, 9.03707266e-01, 8.18083525e-01,\n",
              "       5.63682973e-01, 1.11498542e-01, 3.60419936e-02, 5.49207687e-01,\n",
              "       7.46156335e-01, 5.04391313e-01, 8.59501600e-01, 6.13249242e-01,\n",
              "       2.11373538e-01, 8.51940215e-01, 6.61644518e-01, 9.21478093e-01,\n",
              "       7.75121808e-01, 7.31425703e-01, 9.10556376e-01, 4.17836070e-01,\n",
              "       7.67627478e-01, 9.22364652e-01, 4.13142592e-01, 2.67768502e-02,\n",
              "       9.95399524e-03, 9.18022335e-01, 7.94749260e-01, 5.72218001e-02,\n",
              "       2.48936534e-01, 8.01306307e-01, 4.51964960e-02, 9.19938803e-01,\n",
              "       8.61712754e-01, 3.94378081e-02, 3.29762176e-02, 9.11696911e-01,\n",
              "       8.24087262e-01, 8.54170620e-01, 2.19854355e-01, 7.18273699e-01,\n",
              "       6.97474301e-01, 9.28072691e-01, 9.03328300e-01, 7.63654113e-01,\n",
              "       9.23630774e-01, 5.38237214e-01, 3.44081572e-03, 9.21440661e-01,\n",
              "       1.67195741e-02, 7.66853750e-01, 1.02739975e-01, 9.14979339e-01,\n",
              "       9.26766515e-01, 9.28181708e-01, 9.11573052e-01, 7.95330286e-01,\n",
              "       4.50085640e-01, 9.07305598e-01, 9.06246305e-01, 6.46224380e-01,\n",
              "       5.90373755e-01, 9.21249866e-01, 8.64930332e-01, 1.47893536e-03,\n",
              "       9.24951136e-01, 4.33488749e-03, 2.68573463e-01, 4.22556639e-01,\n",
              "       9.19797778e-01, 1.73412085e-01, 1.82827130e-01, 8.95200133e-01,\n",
              "       8.26435328e-01, 9.21765268e-01, 8.41766000e-01, 8.99594665e-01,\n",
              "       9.10282969e-01, 8.89550149e-01, 9.25252318e-01, 9.17132616e-01,\n",
              "       5.26204892e-03, 8.97826910e-01, 3.10719162e-01, 6.89256072e-01,\n",
              "       4.56785768e-01, 5.94394207e-01, 9.27705884e-01, 4.66809869e-01,\n",
              "       8.03665340e-01, 2.94336528e-02, 9.11151230e-01, 8.17599237e-01,\n",
              "       5.64185560e-01, 5.13521254e-01, 2.97196470e-02, 7.75027454e-01,\n",
              "       8.75052452e-01, 1.90339738e-03, 8.66048217e-01, 6.08301222e-01,\n",
              "       9.20471370e-01, 8.59986901e-01, 5.72083950e-01, 8.63340735e-01,\n",
              "       9.22449589e-01, 3.37395258e-02, 6.70747042e-01, 9.16236937e-01,\n",
              "       9.11075950e-01, 1.97538763e-01, 5.88340700e-01, 8.52690279e-01,\n",
              "       9.13174510e-01, 9.22458172e-01, 3.61830331e-02, 1.96988117e-02,\n",
              "       9.27847326e-01, 9.13750172e-01, 8.95264983e-01, 8.92387867e-01,\n",
              "       9.18424129e-01, 9.11977217e-02, 9.05042529e-01, 2.53167958e-03,\n",
              "       9.08584476e-01, 8.98802161e-01, 8.92675459e-01, 9.24498320e-01,\n",
              "       8.99884045e-01, 4.75809306e-01, 8.99586976e-01, 8.60852063e-01,\n",
              "       8.37175488e-01, 9.11627531e-01, 9.09901619e-01, 9.09708858e-01,\n",
              "       9.22310889e-01, 8.48906815e-01, 9.21095133e-01, 6.96714163e-01,\n",
              "       9.27154958e-01, 8.39438021e-01, 7.83484459e-01, 9.11596477e-01,\n",
              "       9.10725176e-01, 1.03313141e-01, 7.99163103e-01, 1.80234294e-02,\n",
              "       8.73222470e-01, 8.45074177e-01, 1.12303887e-02, 7.65298545e-01,\n",
              "       8.38279068e-01, 8.56745839e-02, 8.61408472e-01, 6.18512221e-02,\n",
              "       7.77769566e-01, 9.11187828e-01, 8.85187864e-01, 7.55390465e-01,\n",
              "       3.65504950e-01, 2.27078469e-03, 2.74771750e-01, 7.94347525e-01,\n",
              "       8.39158058e-01, 8.55485260e-01, 2.62749404e-01, 8.72467816e-01,\n",
              "       2.89894879e-01, 6.16505854e-02, 5.93937695e-01, 4.88623410e-01,\n",
              "       9.15131390e-01, 9.07650650e-01, 9.20878470e-01, 7.65002906e-01,\n",
              "       9.26033020e-01, 8.05978417e-01, 9.19465899e-01, 5.78399003e-01,\n",
              "       2.30067939e-01, 3.48009855e-01, 9.22764063e-01, 8.61719072e-01,\n",
              "       9.13539827e-01, 7.04487860e-02, 7.46452749e-01, 9.01724577e-01,\n",
              "       8.80439699e-01, 9.24510121e-01, 3.69666427e-01, 9.15669024e-01,\n",
              "       8.93113077e-01, 9.15657461e-01, 9.19191480e-01, 4.63495731e-01,\n",
              "       8.73370320e-02, 9.16675925e-01, 8.90242457e-01, 8.79393816e-01,\n",
              "       9.17352259e-01, 9.17512417e-01, 9.14572001e-01, 7.20769167e-01,\n",
              "       2.11167246e-01, 9.05871570e-01, 8.62663567e-01, 9.07816291e-01,\n",
              "       4.09556419e-01, 8.89015675e-01, 9.15128827e-01, 3.51819456e-01,\n",
              "       9.16250467e-01, 7.42304444e-01, 8.96831602e-02, 8.66398960e-03,\n",
              "       1.52059495e-02, 8.61856699e-01, 9.21488166e-01, 9.08426106e-01,\n",
              "       3.18667769e-01, 8.40620995e-01, 8.83419037e-01, 4.17171717e-01,\n",
              "       5.51073439e-02, 3.49811986e-02, 7.77316600e-05, 5.54270267e-01,\n",
              "       3.81969988e-01, 6.55339897e-01, 8.43464911e-01, 5.26241660e-01,\n",
              "       4.58311886e-01, 6.79646134e-01, 8.77125263e-01, 9.06466901e-01,\n",
              "       4.77981895e-01, 4.20384780e-02, 9.23041880e-01, 8.62137616e-01,\n",
              "       7.85538182e-02, 9.23751354e-01, 9.19918001e-01, 6.87589794e-02,\n",
              "       6.90358818e-01, 9.24311399e-01, 2.82410771e-01, 8.43649268e-01,\n",
              "       8.47691059e-01, 9.05057251e-01, 8.92903209e-01, 3.40967685e-01],\n",
              "      dtype=float32)"
            ]
          },
          "metadata": {
            "tags": []
          },
          "execution_count": 31
        }
      ]
    },
    {
      "cell_type": "code",
      "metadata": {
        "id": "K8CprZvVq3aI",
        "colab": {
          "base_uri": "https://localhost:8080/"
        },
        "outputId": "beb3a784-423b-40f8-fc58-8cc2e108dcc1"
      },
      "source": [
        "# 0.5를 기준으로 (0, 1) 결정\n",
        "test_preds = (0.5 < logits).astype(np.int)\n",
        "test_preds"
      ],
      "execution_count": 32,
      "outputs": [
        {
          "output_type": "execute_result",
          "data": {
            "text/plain": [
              "array([0, 0, 1, 1, 1, 0, 0, 1, 1, 0, 1, 1, 1, 0, 0, 1, 1, 1, 1, 1, 0, 0,\n",
              "       1, 1, 1, 1, 1, 1, 1, 1, 0, 0, 1, 1, 1, 1, 1, 1, 1, 1, 1, 0, 0, 0,\n",
              "       0, 1, 0, 1, 1, 1, 0, 1, 0, 1, 1, 1, 1, 1, 1, 1, 0, 1, 0, 0, 1, 1,\n",
              "       0, 1, 1, 1, 1, 1, 0, 1, 1, 1, 1, 0, 1, 1, 1, 1, 1, 1, 1, 1, 1, 1,\n",
              "       1, 1, 1, 0, 1, 1, 1, 0, 1, 0, 1, 1, 0, 1, 1, 0, 1, 0, 1, 1, 0, 1,\n",
              "       0, 0, 0, 1, 0, 0, 1, 0, 1, 1, 0, 1, 0, 1, 1, 1, 1, 1, 1, 0, 1, 0,\n",
              "       1, 1, 1, 0, 0, 1, 1, 1, 1, 0, 1, 1, 1, 0, 1, 1, 1, 1, 0, 0, 0, 0,\n",
              "       0, 0, 0, 0, 1, 1, 1, 1, 1, 1, 0, 1, 1, 0, 1, 0, 0, 1, 1, 0, 1, 1,\n",
              "       1, 1, 1, 1, 1, 0, 1, 1, 1, 1, 1, 1, 1, 0, 0, 1, 1, 1, 1, 0, 0, 0,\n",
              "       1, 0, 1, 0, 0, 1, 1, 1, 0, 0, 1, 1, 0, 1, 1, 1, 1, 0, 0, 1, 1, 0,\n",
              "       0, 1, 0, 1, 0, 1, 1, 1, 1, 1, 0, 1, 0, 1, 1, 1, 1, 1, 1, 1, 1, 0,\n",
              "       1, 0, 1, 1, 1, 0, 0, 1, 0, 0, 1, 1, 0, 1, 1, 1, 1, 1, 1, 1, 1, 0,\n",
              "       0, 0, 1, 0, 1, 0, 1, 1, 1, 1, 0, 1, 0, 1, 1, 1, 0, 1, 1, 1, 0, 0,\n",
              "       0, 0, 1, 1, 0, 1, 1, 1, 1, 0, 1, 1, 1, 0, 1, 1, 1, 1, 1, 1, 1, 1,\n",
              "       0, 1, 1, 1, 1, 0, 1, 1, 1, 1, 1, 0, 1, 1, 1, 1, 0, 1, 1, 1, 1, 0,\n",
              "       1, 0, 1, 1, 1, 1, 1, 1, 0, 1, 1, 1, 1, 1, 1, 0, 1, 0, 1, 1, 1, 1,\n",
              "       1, 0, 1, 0, 1, 1, 0, 1, 1, 1, 0, 1, 0, 1, 0, 1, 0, 0, 1, 1, 1, 0,\n",
              "       0, 1, 1, 1, 1, 1, 1, 1, 1, 1, 1, 0, 1, 1, 1, 1, 1, 0, 1, 1, 0, 1,\n",
              "       1, 0, 1, 1, 1, 1, 0, 1, 0, 0, 1, 0, 0, 0, 0, 0, 1, 1, 1, 1, 0, 1,\n",
              "       0, 1, 1, 1, 1, 1, 1, 1, 1, 1, 0, 1, 0, 0, 0, 1, 1, 1, 1, 0, 1, 1,\n",
              "       1, 0, 0, 1, 1, 1, 1, 1, 0, 1, 1, 1, 1, 1, 1, 0, 1, 1, 0, 0, 0, 1,\n",
              "       1, 0, 0, 1, 0, 1, 1, 0, 0, 1, 1, 1, 0, 1, 1, 1, 1, 1, 1, 1, 0, 1,\n",
              "       0, 1, 0, 1, 1, 1, 1, 1, 0, 1, 1, 1, 1, 1, 1, 0, 1, 0, 0, 0, 1, 0,\n",
              "       0, 1, 1, 1, 1, 1, 1, 1, 1, 1, 0, 1, 0, 1, 0, 1, 1, 0, 1, 0, 1, 1,\n",
              "       1, 1, 0, 1, 1, 0, 1, 1, 1, 1, 1, 1, 1, 0, 1, 1, 1, 0, 1, 1, 1, 1,\n",
              "       0, 0, 1, 1, 1, 1, 1, 0, 1, 0, 1, 1, 1, 1, 1, 0, 1, 1, 1, 1, 1, 1,\n",
              "       1, 1, 1, 1, 1, 1, 1, 1, 1, 0, 1, 0, 1, 1, 0, 1, 1, 0, 1, 0, 1, 1,\n",
              "       1, 1, 0, 0, 0, 1, 1, 1, 0, 1, 0, 0, 1, 0, 1, 1, 1, 1, 1, 1, 1, 1,\n",
              "       0, 0, 1, 1, 1, 0, 1, 1, 1, 1, 0, 1, 1, 1, 1, 0, 0, 1, 1, 1, 1, 1,\n",
              "       1, 1, 0, 1, 1, 1, 0, 1, 1, 0, 1, 1, 0, 0, 0, 1, 1, 1, 0, 1, 1, 0,\n",
              "       0, 0, 0, 1, 0, 1, 1, 1, 0, 1, 1, 1, 0, 0, 1, 1, 0, 1, 1, 0, 1, 1,\n",
              "       0, 1, 1, 1, 1, 0])"
            ]
          },
          "metadata": {
            "tags": []
          },
          "execution_count": 32
        }
      ]
    },
    {
      "cell_type": "code",
      "metadata": {
        "id": "Nr6i_0noq3aJ",
        "colab": {
          "base_uri": "https://localhost:8080/"
        },
        "outputId": "8b6f137b-fd29-411b-c207-0fc08ef1e8db"
      },
      "source": [
        "# confusion matrix 계산\n",
        "confusion_matrix = np.zeros((2, 2)).astype(np.int)\n",
        "for y_true, y_pred in zip(test_labels, test_preds):\n",
        "    confusion_matrix[int(y_true), int(y_pred)] += 1\n",
        "confusion_matrix"
      ],
      "execution_count": 33,
      "outputs": [
        {
          "output_type": "execute_result",
          "data": {
            "text/plain": [
              "array([[138, 191],\n",
              "       [ 74, 285]])"
            ]
          },
          "metadata": {
            "tags": []
          },
          "execution_count": 33
        }
      ]
    },
    {
      "cell_type": "code",
      "metadata": {
        "id": "dRx3o1frq3aJ",
        "colab": {
          "base_uri": "https://localhost:8080/"
        },
        "outputId": "1173aa51-20c7-4cde-bd0b-4e6cee344fd6"
      },
      "source": [
        "# score 계산\n",
        "tp = confusion_matrix[1, 1]\n",
        "tn = confusion_matrix[0, 0]\n",
        "fp = confusion_matrix[0, 1]\n",
        "fn = confusion_matrix[1, 0]\n",
        "\n",
        "accuracy = (tp + tn) / max(tp + tn + fp + fn, 1)\n",
        "print(f'accuracy: {accuracy}')\n",
        "precision = (tp) / max(tp + fp, 1)\n",
        "print(f'precision: {precision}')\n",
        "recall = (tp) / max(tp + fn, 1)\n",
        "print(f'recall: {recall}')\n",
        "f1 = 2 * (precision * recall) / max(precision + recall, 1)\n",
        "print(f'f1: {f1}')"
      ],
      "execution_count": 34,
      "outputs": [
        {
          "output_type": "stream",
          "text": [
            "accuracy: 0.6148255813953488\n",
            "precision: 0.5987394957983193\n",
            "recall: 0.7938718662952646\n",
            "f1: 0.6826347305389221\n"
          ],
          "name": "stdout"
        }
      ]
    },
    {
      "cell_type": "code",
      "metadata": {
        "id": "dTLqY8UUq3aJ"
      },
      "source": [
        "def do_predict(model, n_seq_1, string1, n_seq_2, string2):\n",
        "    \"\"\"\n",
        "    입력에 대한 답변 생성하는 함수\n",
        "    :param model: model\n",
        "    :param n_seq_1: 입력 개수 1\n",
        "    :param string1: 입력 문자열 1\n",
        "    :param n_seq_1: 입력 개수 3\n",
        "    :param string2: 입력 문자열 2\n",
        "    \"\"\"\n",
        "    # token 생성: <string 1 tokens>, [PAD] tokens\n",
        "    token1 = vocab.encode_as_ids(string1)[:n_seq_1]\n",
        "    token1 += [0] * (n_seq_1 - len(token1))\n",
        "\n",
        "    # token 생성: <string 2 tokens>, [PAD] tokens\n",
        "    token2 = vocab.encode_as_ids(string2)[:n_seq_2]\n",
        "    token2 += [0] * (n_seq_2 - len(token2))\n",
        "\n",
        "    y_pred = model.predict((np.array([token1]), np.array([token2])))\n",
        "\n",
        "    return \"같음\" if y_pred[0] > 0.5 else \"다름\""
      ],
      "execution_count": 35,
      "outputs": []
    },
    {
      "cell_type": "code",
      "metadata": {
        "id": "jOLOr1Ygq3aJ",
        "colab": {
          "base_uri": "https://localhost:8080/"
        },
        "outputId": "b33729d3-b68b-45b2-8d7d-3f36f44683b4"
      },
      "source": [
        "while True:\n",
        "    print(\"string #1 > \", end=\"\")\n",
        "    string1 = str(input())\n",
        "    if len(string1) == 0:\n",
        "        break\n",
        "    print(\"string #2 > \", end=\"\")\n",
        "    string2 = str(input())\n",
        "    if len(string2) == 0:\n",
        "        break\n",
        "    print(f\"output > {do_predict(model, n_seq_1, string1, n_seq_2, string2)}\")"
      ],
      "execution_count": null,
      "outputs": [
        {
          "output_type": "stream",
          "text": [
            "string #1 > 기분이 좋아\n",
            "string #2 > 슬퍼\n",
            "output > 다름\n",
            "string #1 > 좋아\n",
            "string #2 > 기뻐\n",
            "output > 다름\n",
            "string #1 > 좋아\n",
            "string #2 > 좋아\n",
            "output > 같음\n",
            "string #1 > "
          ],
          "name": "stdout"
        }
      ]
    },
    {
      "cell_type": "code",
      "metadata": {
        "id": "F1YfFKUrsVp8"
      },
      "source": [
        ""
      ],
      "execution_count": null,
      "outputs": []
    }
  ]
}