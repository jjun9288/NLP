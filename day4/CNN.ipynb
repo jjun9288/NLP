{
  "nbformat": 4,
  "nbformat_minor": 0,
  "metadata": {
    "colab": {
      "name": "04-01-cnn-강의.ipynb",
      "provenance": [],
      "collapsed_sections": []
    },
    "kernelspec": {
      "name": "python3",
      "display_name": "Python 3"
    }
  },
  "cells": [
    {
      "cell_type": "markdown",
      "metadata": {
        "id": "JHkHg6XAXoyK"
      },
      "source": [
        "# Evn"
      ]
    },
    {
      "cell_type": "code",
      "metadata": {
        "id": "WkYXFwcBXJDG"
      },
      "source": [
        "import os\n",
        "import random\n",
        "import shutil\n",
        "import json\n",
        "import zipfile\n",
        "import math\n",
        "import copy\n",
        "import collections\n",
        "import re\n",
        "\n",
        "import matplotlib.pyplot as plt\n",
        "import pandas as pd\n",
        "import numpy as np\n",
        "import tensorflow as tf\n",
        "import tensorflow.keras.backend as K\n",
        "\n",
        "from tqdm.notebook import tqdm"
      ],
      "execution_count": 1,
      "outputs": []
    },
    {
      "cell_type": "code",
      "metadata": {
        "id": "nvjyruUlXtlR"
      },
      "source": [
        "# random seed initialize\n",
        "random_seed = 1234\n",
        "random.seed(random_seed)\n",
        "np.random.seed(random_seed)\n",
        "tf.random.set_seed(random_seed)"
      ],
      "execution_count": 2,
      "outputs": []
    },
    {
      "cell_type": "code",
      "metadata": {
        "id": "BC3fXkhdYcYt",
        "colab": {
          "base_uri": "https://localhost:8080/"
        },
        "outputId": "14e31b4e-e0cb-4a01-c8e8-bdb64b2235f6"
      },
      "source": [
        "!nvidia-smi"
      ],
      "execution_count": 3,
      "outputs": [
        {
          "output_type": "stream",
          "text": [
            "NVIDIA-SMI has failed because it couldn't communicate with the NVIDIA driver. Make sure that the latest NVIDIA driver is installed and running.\n",
            "\n"
          ],
          "name": "stdout"
        }
      ]
    },
    {
      "cell_type": "markdown",
      "metadata": {
        "id": "0CdGEt7qettt"
      },
      "source": [
        "# 입력 및 Vocab"
      ]
    },
    {
      "cell_type": "code",
      "metadata": {
        "id": "v_6blgOGetBN"
      },
      "source": [
        "# 입력 문장\n",
        "sentences = [\n",
        "    '나는 오늘 기분이 좋아 나는 오늘 우울해'\n",
        "]"
      ],
      "execution_count": 4,
      "outputs": []
    },
    {
      "cell_type": "code",
      "metadata": {
        "colab": {
          "base_uri": "https://localhost:8080/"
        },
        "id": "jAWGyFfxe_p-",
        "outputId": "4310d490-825e-42be-a777-425bdbd2fe49"
      },
      "source": [
        "# 각 문장을 띄어쓰기 단위로 분할\n",
        "words = []\n",
        "for sentence in sentences:\n",
        "    words.extend(sentence.split())\n",
        "\n",
        "# 중복 단어 제거\n",
        "words = list(dict.fromkeys(words))\n",
        "\n",
        "# 각 단어별 고유한 번호 부여\n",
        "word_to_id = {'[PAD]': 0, '[UNK]': 1}\n",
        "for word in words:\n",
        "    word_to_id[word] = len(word_to_id)\n",
        "\n",
        "# 각 숫자별 단어 부여\n",
        "id_to_word = {_id:word for word, _id in word_to_id.items()}\n",
        "\n",
        "word_to_id, id_to_word"
      ],
      "execution_count": 5,
      "outputs": [
        {
          "output_type": "execute_result",
          "data": {
            "text/plain": [
              "({'[PAD]': 0, '[UNK]': 1, '기분이': 4, '나는': 2, '오늘': 3, '우울해': 6, '좋아': 5},\n",
              " {0: '[PAD]', 1: '[UNK]', 2: '나는', 3: '오늘', 4: '기분이', 5: '좋아', 6: '우울해'})"
            ]
          },
          "metadata": {
            "tags": []
          },
          "execution_count": 5
        }
      ]
    },
    {
      "cell_type": "code",
      "metadata": {
        "colab": {
          "base_uri": "https://localhost:8080/"
        },
        "id": "ywpz8iOsfVnx",
        "outputId": "61a1e0a3-04b7-41be-fecd-9b4637f4fb73"
      },
      "source": [
        "# 학습용 입력 데이터 생성\n",
        "train_inputs = []\n",
        "for sentence in sentences:\n",
        "    train_inputs.append([word_to_id[word] for word in sentence.split()])\n",
        "\n",
        "# train inputs을 numpy array로 변환\n",
        "train_inputs = np.array(train_inputs)\n",
        "\n",
        "train_inputs"
      ],
      "execution_count": 6,
      "outputs": [
        {
          "output_type": "execute_result",
          "data": {
            "text/plain": [
              "array([[2, 3, 4, 5, 2, 3, 6]])"
            ]
          },
          "metadata": {
            "tags": []
          },
          "execution_count": 6
        }
      ]
    },
    {
      "cell_type": "code",
      "metadata": {
        "id": "iNDl5yRU0kge"
      },
      "source": [
        "# embedding\n",
        "embedding = tf.keras.layers.Embedding(len(word_to_id), 4)"
      ],
      "execution_count": 7,
      "outputs": []
    },
    {
      "cell_type": "code",
      "metadata": {
        "id": "YFwk2Fpo0ofW",
        "colab": {
          "base_uri": "https://localhost:8080/"
        },
        "outputId": "2755d9b6-a99e-45cb-e5b7-eaf612548a74"
      },
      "source": [
        "# 단어벡터\n",
        "hidden = embedding(train_inputs)\n",
        "hidden"
      ],
      "execution_count": 8,
      "outputs": [
        {
          "output_type": "execute_result",
          "data": {
            "text/plain": [
              "<tf.Tensor: shape=(1, 7, 4), dtype=float32, numpy=\n",
              "array([[[ 0.02788493,  0.00853021,  0.02688133, -0.00167429],\n",
              "        [ 0.00873896, -0.04772998, -0.00643448,  0.04782395],\n",
              "        [ 0.04810704, -0.03535189,  0.04945729,  0.02813626],\n",
              "        [-0.02798697, -0.00110071,  0.0133124 ,  0.00637371],\n",
              "        [ 0.02788493,  0.00853021,  0.02688133, -0.00167429],\n",
              "        [ 0.00873896, -0.04772998, -0.00643448,  0.04782395],\n",
              "        [-0.00963336, -0.01013004,  0.01826939,  0.02741292]]],\n",
              "      dtype=float32)>"
            ]
          },
          "metadata": {
            "tags": []
          },
          "execution_count": 8
        }
      ]
    },
    {
      "cell_type": "markdown",
      "metadata": {
        "id": "6lNZzsa1eg0F"
      },
      "source": [
        "# CNN"
      ]
    },
    {
      "cell_type": "markdown",
      "metadata": {
        "id": "Q2CeNAe7jF3F"
      },
      "source": [
        "## padding valid"
      ]
    },
    {
      "cell_type": "code",
      "metadata": {
        "id": "rETOG74Pf1T3"
      },
      "source": [
        "# CNN (padding valid)\r\n",
        "conv_1 = tf.keras.layers.Conv1D(filters=5, kernel_size=3, padding = 'valid')"
      ],
      "execution_count": 16,
      "outputs": []
    },
    {
      "cell_type": "code",
      "metadata": {
        "id": "4Nl4j9Z7gEn3",
        "colab": {
          "base_uri": "https://localhost:8080/"
        },
        "outputId": "98a762b3-94bf-4c1d-ab06-a242eb5e78c0"
      },
      "source": [
        "# CNN 실행\r\n",
        "output_1 = conv_1(hidden)\r\n",
        "output_1"
      ],
      "execution_count": 17,
      "outputs": [
        {
          "output_type": "execute_result",
          "data": {
            "text/plain": [
              "<tf.Tensor: shape=(1, 5, 5), dtype=float32, numpy=\n",
              "array([[[ 0.00600692,  0.00247293,  0.02747194,  0.0186885 ,\n",
              "         -0.01984996],\n",
              "        [-0.00763245, -0.02102449,  0.02013165, -0.01687556,\n",
              "          0.00552864],\n",
              "        [ 0.03067771, -0.00388751,  0.03267634,  0.00638673,\n",
              "         -0.00121141],\n",
              "        [ 0.03616542, -0.02965674, -0.04069834,  0.00447287,\n",
              "         -0.02462648],\n",
              "        [-0.01323824,  0.0212419 ,  0.00725392,  0.00087099,\n",
              "          0.00877498]]], dtype=float32)>"
            ]
          },
          "metadata": {
            "tags": []
          },
          "execution_count": 17
        }
      ]
    },
    {
      "cell_type": "code",
      "metadata": {
        "id": "RbuvYwJXgFB5",
        "colab": {
          "base_uri": "https://localhost:8080/"
        },
        "outputId": "65694185-d45d-418a-b02a-6ff2aacf69b1"
      },
      "source": [
        "# weights\r\n",
        "weights = conv_1.get_weights()\r\n",
        "W = weights[0]\r\n",
        "b = weights[1]\r\n",
        "print(W)        #학습되는 값\r\n",
        "print(b)"
      ],
      "execution_count": 18,
      "outputs": [
        {
          "output_type": "stream",
          "text": [
            "[[[ 0.09193316 -0.18560347  0.46921882  0.2906259  -0.07816747]\n",
            "  [-0.44915527  0.10419598 -0.44681078  0.44982007 -0.18263051]\n",
            "  [ 0.21875045  0.09632352 -0.08442339 -0.28093347  0.21896061]\n",
            "  [-0.42425525 -0.0441156  -0.28924257  0.21249148 -0.17919907]]\n",
            "\n",
            " [[-0.25585788 -0.28111228  0.39587072 -0.11687434 -0.02865806]\n",
            "  [ 0.21036956 -0.13839349 -0.1393322   0.36149374 -0.44320726]\n",
            "  [ 0.46889743 -0.46400353 -0.10896724  0.06615809 -0.20135921]\n",
            "  [-0.15183038  0.03011468  0.13338295  0.00303704 -0.43446288]]\n",
            "\n",
            " [[ 0.24923626 -0.4293668   0.44553646  0.08103827 -0.4713582 ]\n",
            "  [-0.37633675  0.34284565  0.31396863 -0.01344192  0.29102948]\n",
            "  [-0.15325764  0.46605054  0.08708516  0.4030544   0.19033447]\n",
            "  [ 0.19635543  0.1865206  -0.4210433   0.3164319  -0.00602251]]]\n",
            "[0. 0. 0. 0. 0.]\n"
          ],
          "name": "stdout"
        }
      ]
    },
    {
      "cell_type": "markdown",
      "metadata": {
        "id": "GIS2v8P-jUNT"
      },
      "source": [
        "## padding causal\n",
        "kernel size에 따라서 앞에 자동으로 padding(all zero)를 추가해서 길이를 맞춤"
      ]
    },
    {
      "cell_type": "code",
      "metadata": {
        "id": "yuq4V_MPjUNb"
      },
      "source": [
        "# CNN (padding causal)\r\n",
        "conv_2 = tf.keras.layers.Conv1D(filters=5, kernel_size=3, padding='causal')"
      ],
      "execution_count": 19,
      "outputs": []
    },
    {
      "cell_type": "code",
      "metadata": {
        "id": "fzh7eRFJjUNc",
        "colab": {
          "base_uri": "https://localhost:8080/"
        },
        "outputId": "a9564112-16d9-4e21-cd6b-757f4bf3c320"
      },
      "source": [
        "# CNN 실행\r\n",
        "output_2 = conv_2(hidden)\r\n",
        "output_2"
      ],
      "execution_count": 20,
      "outputs": [
        {
          "output_type": "execute_result",
          "data": {
            "text/plain": [
              "<tf.Tensor: shape=(1, 7, 5), dtype=float32, numpy=\n",
              "array([[[-0.01014897,  0.01119538,  0.00410501,  0.00514762,\n",
              "         -0.01444891],\n",
              "        [ 0.02018796, -0.00291175,  0.0151935 ,  0.03003684,\n",
              "          0.01938202],\n",
              "        [ 0.01416996,  0.02073024, -0.00810237, -0.0230063 ,\n",
              "         -0.06116884],\n",
              "        [-0.03032022, -0.03279498, -0.01647355,  0.00752435,\n",
              "         -0.02003063],\n",
              "        [ 0.00677435, -0.00519673, -0.02331687, -0.03308157,\n",
              "         -0.04529306],\n",
              "        [ 0.01073357, -0.01107237,  0.02217881,  0.03004878,\n",
              "          0.02413679],\n",
              "        [ 0.01698347,  0.00049678, -0.01335507, -0.03941952,\n",
              "         -0.04289788]]], dtype=float32)>"
            ]
          },
          "metadata": {
            "tags": []
          },
          "execution_count": 20
        }
      ]
    },
    {
      "cell_type": "code",
      "metadata": {
        "id": "r_rBhuQ-jUNc",
        "colab": {
          "base_uri": "https://localhost:8080/"
        },
        "outputId": "72f99d3a-1ab8-4eb1-9534-88dbfe7a22d1"
      },
      "source": [
        "# weights\r\n",
        "weights = conv_2.get_weights()\r\n",
        "W = weights[0]\r\n",
        "b = weights[1]\r\n",
        "print(W)        #학습되는 값\r\n",
        "print(b)"
      ],
      "execution_count": 21,
      "outputs": [
        {
          "output_type": "stream",
          "text": [
            "[[[ 0.38647392  0.15808609 -0.28342128 -0.1617814  -0.4288108 ]\n",
            "  [ 0.01868117  0.00807881 -0.11414635  0.07899794 -0.36011863]\n",
            "  [ 0.22093806 -0.10133529  0.14355758 -0.4345774  -0.3813274 ]\n",
            "  [-0.24456996 -0.37315166 -0.46810067  0.2128109  -0.40264446]]\n",
            "\n",
            " [[ 0.03466818  0.0830293   0.42869142  0.39877024 -0.3101835 ]\n",
            "  [-0.01994759 -0.1052554   0.03494099  0.3027344   0.22240052]\n",
            "  [-0.25998548 -0.31144398  0.04546377  0.09583858  0.09353331]\n",
            "  [-0.10116053 -0.2897451  -0.05035931 -0.30289412 -0.38271788]]\n",
            "\n",
            " [[ 0.10634348  0.16091904  0.4372578   0.21517745 -0.3802011 ]\n",
            "  [-0.15412486 -0.09056348  0.31887206 -0.13364631 -0.20640558]\n",
            "  [-0.41911983  0.27778593 -0.38834095  0.01733968 -0.05666369]\n",
            "  [ 0.31842324 -0.00802341  0.22028258  0.10671595  0.3363479 ]]]\n",
            "[0. 0. 0. 0. 0.]\n"
          ],
          "name": "stdout"
        }
      ]
    },
    {
      "cell_type": "markdown",
      "metadata": {
        "id": "fJqOKxgGjv_v"
      },
      "source": [
        "## padding same\n",
        "kernel size에 따라서 앞/뒤에 자동으로 padding(all zero)를 추가해서 길이를 맞춤"
      ]
    },
    {
      "cell_type": "code",
      "metadata": {
        "id": "L87zU1mYjwAA"
      },
      "source": [
        "# CNN (padding same)\r\n",
        "conv_3 = tf.keras.layers.Conv1D(filters=5, kernel_size=3, padding='causal')"
      ],
      "execution_count": 22,
      "outputs": []
    },
    {
      "cell_type": "code",
      "metadata": {
        "id": "Mz21iNxcjwAA",
        "colab": {
          "base_uri": "https://localhost:8080/"
        },
        "outputId": "ac55475b-47a0-402f-fda6-2075020ea7cc"
      },
      "source": [
        "# CNN 실행\r\n",
        "output_3 = conv_3(hidden)\r\n",
        "output_3"
      ],
      "execution_count": 23,
      "outputs": [
        {
          "output_type": "execute_result",
          "data": {
            "text/plain": [
              "<tf.Tensor: shape=(1, 7, 5), dtype=float32, numpy=\n",
              "array([[[-0.0222273 ,  0.01160453, -0.00783855, -0.00531807,\n",
              "          0.01840655],\n",
              "        [-0.00421624,  0.02463629, -0.00505483,  0.00523536,\n",
              "          0.01377658],\n",
              "        [-0.07752547,  0.03487968, -0.04399529,  0.03358801,\n",
              "          0.02703114],\n",
              "        [-0.04923428,  0.0323867 , -0.00905899, -0.00442523,\n",
              "         -0.01208596],\n",
              "        [-0.03503964, -0.00257611, -0.01077882, -0.00581734,\n",
              "         -0.00285921],\n",
              "        [ 0.01427871,  0.02551159, -0.01551776,  0.01817676,\n",
              "          0.02062933],\n",
              "        [-0.04882377,  0.01695125, -0.03551957,  0.03701252,\n",
              "         -0.0099208 ]]], dtype=float32)>"
            ]
          },
          "metadata": {
            "tags": []
          },
          "execution_count": 23
        }
      ]
    },
    {
      "cell_type": "code",
      "metadata": {
        "id": "RukWCPL9jwAB",
        "colab": {
          "base_uri": "https://localhost:8080/"
        },
        "outputId": "7febfab5-c34b-4c3a-bb02-00894f4403b6"
      },
      "source": [
        "# weights\r\n",
        "weights = conv_3.get_weights()\r\n",
        "W = weights[0]\r\n",
        "b = weights[1]\r\n",
        "print(W)        #학습되는 값\r\n",
        "print(b)"
      ],
      "execution_count": 24,
      "outputs": [
        {
          "output_type": "stream",
          "text": [
            "[[[-0.4675195  -0.08681139  0.14455953 -0.3404591  -0.16911069]\n",
            "  [ 0.24295184  0.3035243  -0.1939418  -0.11364308  0.17683253]\n",
            "  [ 0.44413808 -0.27338052 -0.30845064  0.4600214   0.00065592]\n",
            "  [-0.03681105  0.3795525  -0.3960654  -0.44496834  0.36176077]]\n",
            "\n",
            " [[-0.05683464  0.00652578 -0.27157944  0.00153381  0.3949506 ]\n",
            "  [ 0.37848285 -0.40853018  0.27239093 -0.27020153  0.415087  ]\n",
            "  [-0.06646591  0.32270798  0.30816236 -0.08042967 -0.4244689 ]\n",
            "  [-0.4631361  -0.15624073 -0.2753693   0.3838046   0.01114699]]\n",
            "\n",
            " [[-0.371238    0.17457548 -0.42179936 -0.05340746  0.32109436]\n",
            "  [-0.2077271   0.03196505 -0.35477215 -0.10898837 -0.21125236]\n",
            "  [-0.39415744  0.2674484   0.2320846  -0.10144848  0.4192873 ]\n",
            "  [-0.29389998  0.43333367 -0.42455927  0.10275337  0.00962645]]]\n",
            "[0. 0. 0. 0. 0.]\n"
          ],
          "name": "stdout"
        }
      ]
    },
    {
      "cell_type": "markdown",
      "metadata": {
        "id": "fbrpX2_ckPY2"
      },
      "source": [
        "## dilation_rate\n",
        "kernel이 간격을 두고서 특징을 추출함"
      ]
    },
    {
      "cell_type": "code",
      "metadata": {
        "id": "f089nAQjkPY_"
      },
      "source": [
        "# CNN (padding valid, dilation_rate)\r\n",
        "conv_4 = tf.keras.layers.Conv1D(filters=5, kernel_size=3, padding='valid', dilation_rate=2)"
      ],
      "execution_count": 25,
      "outputs": []
    },
    {
      "cell_type": "code",
      "metadata": {
        "id": "FCkUN0dKkPZA",
        "colab": {
          "base_uri": "https://localhost:8080/"
        },
        "outputId": "02cd79e0-18a7-42b7-f8af-5fd60c87a529"
      },
      "source": [
        "# CNN 실행\r\n",
        "output_4 = conv_4(hidden)      #1x7x5가 아닌 1x3x5\r\n",
        "output_4"
      ],
      "execution_count": 26,
      "outputs": [
        {
          "output_type": "execute_result",
          "data": {
            "text/plain": [
              "<tf.Tensor: shape=(1, 3, 5), dtype=float32, numpy=\n",
              "array([[[ 0.0325524 , -0.00206245, -0.00189349, -0.03478529,\n",
              "         -0.05317757],\n",
              "        [-0.00277372,  0.01686263,  0.00265513, -0.01132733,\n",
              "          0.00100086],\n",
              "        [-0.01174165,  0.03176252,  0.02981255, -0.02295182,\n",
              "         -0.03168605]]], dtype=float32)>"
            ]
          },
          "metadata": {
            "tags": []
          },
          "execution_count": 26
        }
      ]
    },
    {
      "cell_type": "code",
      "metadata": {
        "id": "jypo8LdmkPZA",
        "colab": {
          "base_uri": "https://localhost:8080/"
        },
        "outputId": "36e2e124-a7e7-4924-af64-65bf85231ecb"
      },
      "source": [
        "# weights\r\n",
        "weights = conv_4.get_weights()\r\n",
        "W = weights[0]\r\n",
        "b = weights[1]\r\n",
        "print(W)        #학습되는 값\r\n",
        "print(b)"
      ],
      "execution_count": 27,
      "outputs": [
        {
          "output_type": "stream",
          "text": [
            "[[[-0.11492917  0.43668023  0.3153998   0.43157902 -0.26952708]\n",
            "  [-0.11078721  0.37927946 -0.30464733  0.4143732  -0.09667161]\n",
            "  [-0.37743133  0.334307   -0.29994112 -0.41200253 -0.30424684]\n",
            "  [ 0.3070843   0.28371856  0.14964458 -0.18761316  0.2548686 ]]\n",
            "\n",
            " [[ 0.445213    0.15047762  0.43559006 -0.13255039 -0.02012596]\n",
            "  [-0.4444801  -0.42490306  0.19203511  0.18308434  0.06924579]\n",
            "  [ 0.09955558 -0.23976274 -0.01026472  0.2173424  -0.43615335]\n",
            "  [-0.07456407 -0.41615742 -0.1495541  -0.41472545 -0.28274837]]\n",
            "\n",
            " [[ 0.35661617 -0.32674056 -0.3914224  -0.36399356 -0.23119108]\n",
            "  [ 0.32242092 -0.42068827 -0.02790245 -0.40434158 -0.35387248]\n",
            "  [-0.19944596 -0.4335237   0.06154892 -0.4703067   0.20128581]\n",
            "  [-0.04310769  0.19459876 -0.16208497 -0.24887355 -0.45704728]]]\n",
            "[0. 0. 0. 0. 0.]\n"
          ],
          "name": "stdout"
        }
      ]
    },
    {
      "cell_type": "markdown",
      "metadata": {
        "id": "4N6iZts6k4DI"
      },
      "source": [
        "## CNN 모델"
      ]
    },
    {
      "cell_type": "code",
      "metadata": {
        "id": "S3FMNrUjk_sy"
      },
      "source": [
        "def build_model(n_vocab, d_model, n_seq, n_out):\n",
        "    \"\"\"\n",
        "    CNN 모델\n",
        "    :param n_vocab: vocabulary 단어 수\n",
        "    :param d_model: 단어를 의미하는 벡터의 차원 수\n",
        "    :param n_seq: 문장길이 (단어 수)\n",
        "    :param n_out: 예측할 class 개수\n",
        "    \"\"\"\n",
        "    input = tf.keras.layers.Input(shape=(n_seq,))\n",
        "\n",
        "    embedding = tf.keras.layers.Embedding(n_vocab, d_model)  # (n_vocab x d_model)\n",
        "    hidden = embedding(input)  # (bs, 1, d_model)\n",
        "\n",
        "    #############################################\n",
        "    conv_1 = tf.keras.layers.Conv1D(filters=128, kernel_size=3, padding='causal')\n",
        "    hidden = conv_1(hidden)\n",
        "\n",
        "    conv_2 = tf.keras.layers.Conv1D(filters=64, kernel_size=3, padding='causal' )\n",
        "    hidden = conv_2(hidden)\n",
        "\n",
        "    conv_3 = tf.keras.layers.Conv1D(filters=32, kernel_size=3, padding='causal' )\n",
        "    hidden = conv_3(hidden)\n",
        "    #############################################\n",
        "\n",
        "    output = tf.keras.layers.Dense(n_out, activation=tf.nn.softmax)(hidden)  # (bs, 1, n_vocab)\n",
        "\n",
        "    model = tf.keras.Model(inputs=input, outputs=output)\n",
        "    return model"
      ],
      "execution_count": 36,
      "outputs": []
    },
    {
      "cell_type": "code",
      "metadata": {
        "id": "2f7LVFmKlNDn",
        "colab": {
          "base_uri": "https://localhost:8080/",
          "height": 644
        },
        "outputId": "8f36b8b7-6ec2-40d6-a092-8e3417fba938"
      },
      "source": [
        "# 모델 생성\n",
        "model = build_model(len(word_to_id), 8, 7, 3)\n",
        "# 모델 내용 그래프 출력\n",
        "tf.keras.utils.plot_model(model, 'model.png', show_shapes=True)"
      ],
      "execution_count": 37,
      "outputs": [
        {
          "output_type": "execute_result",
          "data": {
            "image/png": "[encoded data removed]",
            "text/plain": [
              "<IPython.core.display.Image object>"
            ]
          },
          "metadata": {
            "tags": []
          },
          "execution_count": 37
        }
      ]
    },
    {
      "cell_type": "code",
      "metadata": {
        "id": "1XLwp9MLlUsf"
      },
      "source": [
        "model.predict(train_inputs)"
      ],
      "execution_count": null,
      "outputs": []
    },
    {
      "cell_type": "code",
      "metadata": {
        "id": "2MSNy-DdlZzf"
      },
      "source": [
        ""
      ],
      "execution_count": null,
      "outputs": []
    }
  ]
}