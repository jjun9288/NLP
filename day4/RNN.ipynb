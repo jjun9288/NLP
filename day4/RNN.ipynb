{
  "nbformat": 4,
  "nbformat_minor": 0,
  "metadata": {
    "colab": {
      "name": "04-03-rnn-강의.ipynb",
      "provenance": [],
      "collapsed_sections": [
        "JHkHg6XAXoyK",
        "0CdGEt7qettt",
        "FIUQbE4JEpM6",
        "b08qbae2EpM6",
        "0sQe9bt3EpM7",
        "UwYL3S69EpM7",
        "IERrFgvZEpM9",
        "qCoEmDGrEpM9",
        "LkG2MYdTEpM-",
        "xhATu4loEpM-",
        "Fw8vlO4BEpM_",
        "jrerwhbEEpM_",
        "3Dxp5BWdEpNA",
        "a0rCzGcNEpNA",
        "7e5j3OBVEpNB",
        "hQYtG3aOEpNB",
        "zGu354Z0EpNB",
        "AJxyxHyMBLVT",
        "HtKHOhc0BLVh",
        "caCQoTUJBLVi",
        "Cvudxy7hBLVj",
        "3c_70ASUBLVj",
        "WM9iRBglBLVk",
        "a3_5IU2yB4Bh"
      ]
    },
    "kernelspec": {
      "name": "python3",
      "display_name": "Python 3",
      "language": "python"
    }
  },
  "cells": [
    {
      "cell_type": "markdown",
      "metadata": {
        "id": "JHkHg6XAXoyK"
      },
      "source": [
        "# Evn"
      ]
    },
    {
      "cell_type": "code",
      "metadata": {
        "id": "WkYXFwcBXJDG"
      },
      "source": [
        "import os\n",
        "import random\n",
        "import shutil\n",
        "import json\n",
        "import zipfile\n",
        "import math\n",
        "import copy\n",
        "import collections\n",
        "import re\n",
        "\n",
        "import matplotlib.pyplot as plt\n",
        "import pandas as pd\n",
        "import numpy as np\n",
        "import tensorflow as tf\n",
        "import tensorflow.keras.backend as K\n",
        "\n",
        "from tqdm.notebook import tqdm"
      ],
      "execution_count": 3,
      "outputs": []
    },
    {
      "cell_type": "code",
      "metadata": {
        "id": "nvjyruUlXtlR"
      },
      "source": [
        "# random seed initialize\n",
        "random_seed = 1234\n",
        "random.seed(random_seed)\n",
        "np.random.seed(random_seed)\n",
        "tf.random.set_seed(random_seed)"
      ],
      "execution_count": 4,
      "outputs": []
    },
    {
      "cell_type": "code",
      "metadata": {
        "id": "BC3fXkhdYcYt",
        "colab": {
          "base_uri": "https://localhost:8080/"
        },
        "outputId": "aa3250e5-73e4-4ecc-872f-b4fd3ec7770a"
      },
      "source": [
        "!nvidia-smi"
      ],
      "execution_count": 5,
      "outputs": [
        {
          "output_type": "stream",
          "name": "stderr",
          "text": [
            "'nvidia-smi'��(��) ���� �Ǵ� �ܺ� ����, ������ �� �ִ� ���α׷�, �Ǵ�\n��ġ ������ �ƴմϴ�.\n"
          ]
        }
      ]
    },
    {
      "cell_type": "markdown",
      "metadata": {
        "id": "0CdGEt7qettt"
      },
      "source": [
        "# 입력 및 Vocab"
      ]
    },
    {
      "cell_type": "code",
      "metadata": {
        "id": "v_6blgOGetBN"
      },
      "source": [
        "# 입력 문장\n",
        "sentences = [\n",
        "    '나는 오늘 기분이 좋아 나는 오늘 우울해'\n",
        "]"
      ],
      "execution_count": 6,
      "outputs": []
    },
    {
      "cell_type": "code",
      "metadata": {
        "id": "jAWGyFfxe_p-",
        "colab": {
          "base_uri": "https://localhost:8080/"
        },
        "outputId": "56d8fd21-a555-45aa-fce0-468ff8814f96"
      },
      "source": [
        "# 각 문장을 띄어쓰기 단위로 분할\n",
        "words = []\n",
        "for sentence in sentences:\n",
        "    words.extend(sentence.split())\n",
        "\n",
        "# 중복 단어 제거\n",
        "words = list(dict.fromkeys(words))\n",
        "\n",
        "# 각 단어별 고유한 번호 부여\n",
        "word_to_id = {'[PAD]': 0, '[UNK]': 1}\n",
        "for word in words:\n",
        "    word_to_id[word] = len(word_to_id)\n",
        "\n",
        "# 각 숫자별 단어 부여\n",
        "id_to_word = {_id:word for word, _id in word_to_id.items()}\n",
        "\n",
        "word_to_id, id_to_word"
      ],
      "execution_count": 7,
      "outputs": [
        {
          "output_type": "execute_result",
          "data": {
            "text/plain": [
              "({'[PAD]': 0, '[UNK]': 1, '나는': 2, '오늘': 3, '기분이': 4, '좋아': 5, '우울해': 6},\n",
              " {0: '[PAD]', 1: '[UNK]', 2: '나는', 3: '오늘', 4: '기분이', 5: '좋아', 6: '우울해'})"
            ]
          },
          "metadata": {},
          "execution_count": 7
        }
      ]
    },
    {
      "cell_type": "code",
      "metadata": {
        "id": "ywpz8iOsfVnx",
        "colab": {
          "base_uri": "https://localhost:8080/"
        },
        "outputId": "5ab5bcde-f125-4f8d-93fe-dc6e798423df"
      },
      "source": [
        "# 학습용 입력 데이터 생성\n",
        "train_inputs = []\n",
        "for sentence in sentences:\n",
        "    train_inputs.append([word_to_id[word] for word in sentence.split()])\n",
        "\n",
        "# train inputs을 numpy array로 변환\n",
        "train_inputs = np.array(train_inputs)\n",
        "\n",
        "train_inputs"
      ],
      "execution_count": 8,
      "outputs": [
        {
          "output_type": "execute_result",
          "data": {
            "text/plain": [
              "array([[2, 3, 4, 5, 2, 3, 6]])"
            ]
          },
          "metadata": {},
          "execution_count": 8
        }
      ]
    },
    {
      "cell_type": "code",
      "metadata": {
        "id": "2ecE86vf0bWT"
      },
      "source": [
        "# embedding\n",
        "embedding = tf.keras.layers.Embedding(len(word_to_id), 4)"
      ],
      "execution_count": 9,
      "outputs": []
    },
    {
      "cell_type": "code",
      "metadata": {
        "id": "MtjAxtyR0efa",
        "colab": {
          "base_uri": "https://localhost:8080/"
        },
        "outputId": "06a83b46-ceb2-4894-edea-97d2a0aa9ba8"
      },
      "source": [
        "# 단어벡터\n",
        "hidden = embedding(train_inputs)\n",
        "hidden"
      ],
      "execution_count": 10,
      "outputs": [
        {
          "output_type": "execute_result",
          "data": {
            "text/plain": [
              "<tf.Tensor: shape=(1, 7, 4), dtype=float32, numpy=\n",
              "array([[[ 0.02788493,  0.00853021,  0.02688133, -0.00167429],\n",
              "        [ 0.00873896, -0.04772998, -0.00643448,  0.04782395],\n",
              "        [ 0.04810704, -0.03535189,  0.04945729,  0.02813626],\n",
              "        [-0.02798697, -0.00110071,  0.0133124 ,  0.00637371],\n",
              "        [ 0.02788493,  0.00853021,  0.02688133, -0.00167429],\n",
              "        [ 0.00873896, -0.04772998, -0.00643448,  0.04782395],\n",
              "        [-0.00963336, -0.01013004,  0.01826939,  0.02741292]]],\n",
              "      dtype=float32)>"
            ]
          },
          "metadata": {},
          "execution_count": 10
        }
      ]
    },
    {
      "cell_type": "markdown",
      "metadata": {
        "id": "4djaB-QUEpM1"
      },
      "source": [
        "# RNN"
      ]
    },
    {
      "cell_type": "markdown",
      "metadata": {
        "id": "hbKSrcCiEpM4"
      },
      "source": [
        "## return sequence=False, return_state=False"
      ]
    },
    {
      "cell_type": "code",
      "metadata": {
        "id": "bidRb0FkEpM4",
        "colab": {
          "base_uri": "https://localhost:8080/"
        },
        "outputId": "73f79ffb-94f0-40fc-82c9-05ba7b870a51"
      },
      "source": [
        "# rnn\n",
        "rnn_11 = tf.keras.layers.SimpleRNN(units=5)\n",
        "output_11 = rnn_11(hidden)  # (bs, units)\n",
        "print(output_11)"
      ],
      "execution_count": 11,
      "outputs": [
        {
          "output_type": "stream",
          "name": "stdout",
          "text": [
            "tf.Tensor([[ 0.0133051  -0.07108936  0.01356495  0.19825459 -0.03756261]], shape=(1, 5), dtype=float32)\n"
          ]
        }
      ]
    },
    {
      "cell_type": "code",
      "metadata": {
        "id": "uRukSKKQEpM5"
      },
      "source": [
        "# rnn weights\n",
        "weights = rnn_11.get_weights()\n",
        "Wx = weights[0]\n",
        "Wh = weights[1]\n",
        "b = weights[2]\n",
        "print(Wx.shape)  # (d_model, unit)\n",
        "print(Wh.shape)  # (unit, unit)\n",
        "print(b.shape)  # (unit,)"
      ],
      "execution_count": 12,
      "outputs": [
        {
          "output_type": "stream",
          "name": "stdout",
          "text": [
            "(4, 5)\n(5, 5)\n(5,)\n"
          ]
        }
      ]
    },
    {
      "cell_type": "markdown",
      "metadata": {
        "id": "FIUQbE4JEpM6"
      },
      "source": [
        "## return sequence=True, return_state=False"
      ]
    },
    {
      "cell_type": "code",
      "metadata": {
        "id": "uftac_GnEpM6"
      },
      "source": [
        "# (return_sequences=True)\n",
        "rnn_12 = tf.keras.layers.SimpleRNN(units=5, return_sequences=True)\n",
        "output_12 = rnn_12(hidden)  # (bs, seq, units)\n",
        "print(output_12)"
      ],
      "execution_count": 13,
      "outputs": [
        {
          "output_type": "stream",
          "name": "stdout",
          "text": [
            "tf.Tensor(\n[[[ 2.9929111e-02  4.1185715e-03 -7.3335776e-03 -2.7490623e-02\n   -4.2592518e-02]\n  [ 2.1723522e-02  3.4244298e-03 -8.8698789e-03  1.3401904e-02\n   -2.1286123e-02]\n  [ 4.8892796e-02 -1.5492374e-02  5.2009160e-03 -5.0389312e-02\n   -6.7127936e-02]\n  [ 5.3107727e-02  3.3684168e-02  4.7106568e-02  2.6926834e-02\n   -1.6819073e-02]\n  [ 6.6921934e-02 -6.2622130e-06  3.1169422e-02 -2.7292369e-02\n    2.3001323e-02]\n  [ 5.5012077e-02 -4.9766436e-02 -4.8280206e-02  2.3197087e-02\n    1.8371815e-02]\n  [ 1.5149727e-02 -9.3269743e-02  1.8400174e-02  7.5475569e-04\n   -6.5119117e-02]]], shape=(1, 7, 5), dtype=float32)\n"
          ]
        }
      ]
    },
    {
      "cell_type": "markdown",
      "metadata": {
        "id": "b08qbae2EpM6"
      },
      "source": [
        "## return sequence=False, return_state=True"
      ]
    },
    {
      "cell_type": "code",
      "metadata": {
        "id": "KBslq0P_EpM6"
      },
      "source": [
        "# (return_state=True)\n",
        "rnn_13 = tf.keras.layers.SimpleRNN(units=5, return_state=True)\n",
        "output_13, fw_h_13 = rnn_13(hidden)  # (bs, units), (bs, units)\n",
        "print(output_13)\n",
        "print(fw_h_13)"
      ],
      "execution_count": 14,
      "outputs": [
        {
          "output_type": "stream",
          "name": "stdout",
          "text": [
            "tf.Tensor([[-0.22489886  0.08027562  0.02204562 -0.07525434 -0.12735644]], shape=(1, 5), dtype=float32)\ntf.Tensor([[-0.22489886  0.08027562  0.02204562 -0.07525434 -0.12735644]], shape=(1, 5), dtype=float32)\n"
          ]
        }
      ]
    },
    {
      "cell_type": "markdown",
      "metadata": {
        "id": "0sQe9bt3EpM7"
      },
      "source": [
        "## return sequence=True, return_state=True"
      ]
    },
    {
      "cell_type": "code",
      "metadata": {
        "id": "Td7tlwESEpM7"
      },
      "source": [
        "# (return_sequences=True, return_state=True)\n",
        "rnn_14 = tf.keras.layers.SimpleRNN(units=5, return_sequences=True, return_state=True)\n",
        "output_14, fw_h_14 = rnn_14(hidden)  # (bs, seq, units), (bs, units)\n",
        "print(output_14)\n",
        "print(fw_h_14)"
      ],
      "execution_count": 15,
      "outputs": [
        {
          "output_type": "stream",
          "name": "stdout",
          "text": [
            "tf.Tensor(\n[[[-0.00567131  0.00702238  0.0166551  -0.02649674 -0.00639815]\n  [ 0.00745121  0.00397363 -0.03161482  0.00067732  0.03525218]\n  [ 0.02503373  0.04381723 -0.01435504 -0.07607194 -0.03647323]\n  [ 0.03158387 -0.03594298 -0.03295875  0.09170677  0.00911083]\n  [-0.06396969  0.06692141  0.02803504 -0.0789187  -0.05069152]\n  [ 0.03279418 -0.04417153 -0.09341428  0.03336658  0.09773418]\n  [ 0.01325149  0.01543665  0.01574939 -0.08289386 -0.10723302]]], shape=(1, 7, 5), dtype=float32)\ntf.Tensor([[ 0.01325149  0.01543665  0.01574939 -0.08289386 -0.10723302]], shape=(1, 5), dtype=float32)\n"
          ]
        }
      ]
    },
    {
      "cell_type": "markdown",
      "metadata": {
        "id": "UwYL3S69EpM7"
      },
      "source": [
        "## init hidden state"
      ]
    },
    {
      "cell_type": "code",
      "metadata": {
        "id": "U2fQKgI2EpM7"
      },
      "source": [
        "# rnn_11 with fw_h_13\n",
        "rnn_11(hidden, initial_state=[fw_h_13])  # (bs, units)"
      ],
      "execution_count": 16,
      "outputs": [
        {
          "output_type": "execute_result",
          "data": {
            "text/plain": [
              "<tf.Tensor: shape=(1, 5), dtype=float32, numpy=\n",
              "array([[-0.06465919, -0.2559439 , -0.12518845,  0.13231523, -0.02561211]],\n",
              "      dtype=float32)>"
            ]
          },
          "metadata": {},
          "execution_count": 16
        }
      ]
    },
    {
      "cell_type": "code",
      "metadata": {
        "id": "Jnw8LPLuEpM7"
      },
      "source": [
        "# rnn_12 with fw_h_14\n",
        "rnn_12(hidden, initial_state=[fw_h_14])  # (bs, n_seq, units)"
      ],
      "execution_count": 17,
      "outputs": [
        {
          "output_type": "execute_result",
          "data": {
            "text/plain": [
              "<tf.Tensor: shape=(1, 7, 5), dtype=float32, numpy=\n",
              "array([[[ 0.0897052 ,  0.12074084,  0.02214285, -0.00741253,\n",
              "         -0.06301703],\n",
              "        [ 0.06890635,  0.02803105,  0.03387965, -0.06119581,\n",
              "          0.07141123],\n",
              "        [ 0.13040169, -0.04140754, -0.09347052, -0.06496175,\n",
              "         -0.03006374],\n",
              "        [ 0.11627129, -0.03900621,  0.06014572, -0.02257578,\n",
              "         -0.09820992],\n",
              "        [ 0.14631154,  0.03326439,  0.08039216,  0.05096843,\n",
              "         -0.02580848],\n",
              "        [ 0.08789139, -0.06898137,  0.05173641,  0.02846741,\n",
              "          0.1006607 ],\n",
              "        [ 0.04806688, -0.15309522, -0.04242582,  0.05481387,\n",
              "          0.01750816]]], dtype=float32)>"
            ]
          },
          "metadata": {},
          "execution_count": 17
        }
      ]
    },
    {
      "cell_type": "code",
      "metadata": {
        "id": "WG9r1sUTEpM9"
      },
      "source": [
        "# rnn_13 with fw_h_13\n",
        "rnn_13(hidden, initial_state=[fw_h_13])  # (bs, units)"
      ],
      "execution_count": 18,
      "outputs": [
        {
          "output_type": "execute_result",
          "data": {
            "text/plain": [
              "[<tf.Tensor: shape=(1, 5), dtype=float32, numpy=\n",
              " array([[-0.16090795, -0.01084652,  0.00649461,  0.03989045,  0.08458716]],\n",
              "       dtype=float32)>,\n",
              " <tf.Tensor: shape=(1, 5), dtype=float32, numpy=\n",
              " array([[-0.16090795, -0.01084652,  0.00649461,  0.03989045,  0.08458716]],\n",
              "       dtype=float32)>]"
            ]
          },
          "metadata": {},
          "execution_count": 18
        }
      ]
    },
    {
      "cell_type": "code",
      "metadata": {
        "id": "Q49PN3l9EpM9"
      },
      "source": [
        "# rnn_14 with fw_h_14\n",
        "rnn_14(hidden, initial_state=[fw_h_14])  # (bs, n_seq, units)"
      ],
      "execution_count": 19,
      "outputs": [
        {
          "output_type": "execute_result",
          "data": {
            "text/plain": [
              "[<tf.Tensor: shape=(1, 7, 5), dtype=float32, numpy=\n",
              " array([[[-0.04023583, -0.04856524, -0.00745722,  0.08569601,\n",
              "           0.03263333],\n",
              "         [-0.03993216,  0.04022603, -0.01334171, -0.12017839,\n",
              "           0.0170453 ],\n",
              "         [ 0.08773065, -0.04925722, -0.03939975, -0.0144046 ,\n",
              "           0.00531508],\n",
              "         [-0.01835137,  0.00441734,  0.0444012 ,  0.04724797,\n",
              "          -0.07235703],\n",
              "         [-0.06754467,  0.03039356,  0.00770028, -0.02238411,\n",
              "           0.06637931],\n",
              "         [ 0.07404424, -0.00928036, -0.0494388 , -0.06849192,\n",
              "           0.03991262],\n",
              "         [ 0.03545615, -0.01660543,  0.01871964,  0.04337613,\n",
              "          -0.07521324]]], dtype=float32)>,\n",
              " <tf.Tensor: shape=(1, 5), dtype=float32, numpy=\n",
              " array([[ 0.03545615, -0.01660543,  0.01871964,  0.04337613, -0.07521324]],\n",
              "       dtype=float32)>]"
            ]
          },
          "metadata": {},
          "execution_count": 19
        }
      ]
    },
    {
      "cell_type": "markdown",
      "metadata": {
        "id": "IERrFgvZEpM9"
      },
      "source": [
        "# LSTM"
      ]
    },
    {
      "cell_type": "markdown",
      "metadata": {
        "id": "qCoEmDGrEpM9"
      },
      "source": [
        "## return sequence=False, return_state=False"
      ]
    },
    {
      "cell_type": "code",
      "metadata": {
        "id": "e49TFNGREpM-"
      },
      "source": [
        "# lstm\n",
        "lstm_11 = tf.keras.layers.LSTM(units=5)\n",
        "output_11 = lstm_11(hidden)  # (bs, units)\n",
        "print(output_11)"
      ],
      "execution_count": 20,
      "outputs": [
        {
          "output_type": "stream",
          "name": "stdout",
          "text": [
            "tf.Tensor([[ 0.01252828 -0.01186483 -0.01100006  0.00128962  0.00689079]], shape=(1, 5), dtype=float32)\n"
          ]
        }
      ]
    },
    {
      "cell_type": "code",
      "metadata": {
        "id": "zayc3AHAEpM-"
      },
      "source": [
        "# lstm weights\n",
        "weights = lstm_11.get_weights()\n",
        "Wx = weights[0]\n",
        "Wh = weights[1]\n",
        "b = weights[2]\n",
        "print(Wx.shape)  # (d_model, unit * 4) (Wxf, Wxi, Wxc, Wxo)\n",
        "print(Wh.shape)  # (unit, unit * 4) (Whf, Whi, Whc, Who)\n",
        "print(b.shape)  # (unit * 4) (bf, bi, bc, bo)"
      ],
      "execution_count": 21,
      "outputs": [
        {
          "output_type": "stream",
          "name": "stdout",
          "text": [
            "(4, 20)\n(5, 20)\n(20,)\n"
          ]
        }
      ]
    },
    {
      "cell_type": "markdown",
      "metadata": {
        "id": "LkG2MYdTEpM-"
      },
      "source": [
        "## return sequence=True, return_state=False"
      ]
    },
    {
      "cell_type": "code",
      "metadata": {
        "id": "KxnMP990EpM-"
      },
      "source": [
        "# (return_sequences=True)\n",
        "lstm_12 = tf.keras.layers.LSTM(units=5, return_sequences=True)\n",
        "output_12 = lstm_12(hidden)  # (bs, seq, units)\n",
        "print(output_12)"
      ],
      "execution_count": 22,
      "outputs": [
        {
          "output_type": "stream",
          "name": "stdout",
          "text": [
            "tf.Tensor(\n[[[-0.00544438 -0.00505095  0.00146407 -0.00019775 -0.00408297]\n  [ 0.00092337  0.00106309 -0.00256752  0.00214575 -0.00409309]\n  [-0.00466804 -0.00234009 -0.00467811  0.00283395 -0.01177095]\n  [-0.00136526  0.00112071 -0.00880491  0.00172207 -0.00966275]\n  [-0.00722189 -0.00401253 -0.00514568  0.00093245 -0.01217541]\n  [-0.00101653  0.00202121 -0.00762216  0.00274471 -0.01070324]\n  [ 0.00060078  0.00327611 -0.0104871   0.00319098 -0.00986872]]], shape=(1, 7, 5), dtype=float32)\n"
          ]
        }
      ]
    },
    {
      "cell_type": "markdown",
      "metadata": {
        "id": "xhATu4loEpM-"
      },
      "source": [
        "## return sequence=False, return_state=True"
      ]
    },
    {
      "cell_type": "code",
      "metadata": {
        "id": "OHZ1e4Q8EpM-"
      },
      "source": [
        "# (return_state=True)\n",
        "lstm_13 = tf.keras.layers.LSTM(units=5, return_state=True)\n",
        "output_13, fw_h_13, fw_c_13 = lstm_13(hidden)  # (bs, units * 2), (bs, units), (bs, units)\n",
        "print(output_13)\n",
        "print(fw_h_13)\n",
        "print(fw_c_13)"
      ],
      "execution_count": 23,
      "outputs": [
        {
          "output_type": "stream",
          "name": "stdout",
          "text": [
            "tf.Tensor(\n[[ 7.6129837e-03 -1.5287815e-02  7.3035848e-03  4.7374528e-05\n   1.1121367e-02]], shape=(1, 5), dtype=float32)\ntf.Tensor(\n[[ 7.6129837e-03 -1.5287815e-02  7.3035848e-03  4.7374528e-05\n   1.1121367e-02]], shape=(1, 5), dtype=float32)\ntf.Tensor(\n[[ 1.5119700e-02 -3.0797761e-02  1.4539105e-02  9.5068710e-05\n   2.2492610e-02]], shape=(1, 5), dtype=float32)\n"
          ]
        }
      ]
    },
    {
      "cell_type": "markdown",
      "metadata": {
        "id": "Fw8vlO4BEpM_"
      },
      "source": [
        "## return sequence=True, return_state=True"
      ]
    },
    {
      "cell_type": "code",
      "metadata": {
        "id": "tsBwUaxREpM_"
      },
      "source": [
        "# (return_sequences=True, return_state=True)\n",
        "lstm_14 = tf.keras.layers.LSTM(units=5, return_sequences=True, return_state=True)\n",
        "output_14, fw_h_14, fw_c_14 = lstm_14(hidden)  # (bs, seq, units), (bs, units), (bs, units)\n",
        "print(output_14)\n",
        "print(fw_h_14)\n",
        "print(fw_c_14)"
      ],
      "execution_count": 24,
      "outputs": [
        {
          "output_type": "stream",
          "name": "stdout",
          "text": [
            "tf.Tensor(\n[[[ 0.00040525 -0.00275002  0.00038114 -0.00120663  0.00231446]\n  [-0.00520107 -0.00223845 -0.00043894 -0.0053069  -0.00388033]\n  [-0.00688379 -0.00716671 -0.00024295 -0.00974881 -0.00305707]\n  [-0.00176606 -0.0059406   0.00495924 -0.00458891 -0.00075247]\n  [-0.00092784 -0.00677031  0.00413757 -0.00491618  0.00158901]\n  [-0.00619131 -0.00487417  0.00241962 -0.00824052 -0.00451456]\n  [-0.00361855 -0.00470538  0.00690782 -0.00543056 -0.0025354 ]]], shape=(1, 7, 5), dtype=float32)\ntf.Tensor([[-0.00361855 -0.00470538  0.00690782 -0.00543056 -0.0025354 ]], shape=(1, 5), dtype=float32)\ntf.Tensor([[-0.00723412 -0.0093214   0.01380899 -0.01084146 -0.00508808]], shape=(1, 5), dtype=float32)\n"
          ]
        }
      ]
    },
    {
      "cell_type": "markdown",
      "metadata": {
        "id": "jrerwhbEEpM_"
      },
      "source": [
        "## init hidden state"
      ]
    },
    {
      "cell_type": "code",
      "metadata": {
        "id": "DiTpY6GvEpM_"
      },
      "source": [
        "# lstm_11 with fw_h_13, fw_c_13\n",
        "lstm_11(hidden, initial_state=[fw_h_13, fw_c_13])  # (bs, units)"
      ],
      "execution_count": 25,
      "outputs": [
        {
          "output_type": "execute_result",
          "data": {
            "text/plain": [
              "<tf.Tensor: shape=(1, 5), dtype=float32, numpy=\n",
              "array([[ 0.01215496, -0.01394066, -0.01243898,  0.00035355,  0.00925506]],\n",
              "      dtype=float32)>"
            ]
          },
          "metadata": {},
          "execution_count": 25
        }
      ]
    },
    {
      "cell_type": "code",
      "metadata": {
        "id": "9VrA5cIcEpM_"
      },
      "source": [
        "# lstm_12 with fw_h_14, fw_c_14\n",
        "lstm_12(hidden, initial_state=[fw_h_14, fw_c_14])  # (bs, n_seq, units)"
      ],
      "execution_count": 26,
      "outputs": [
        {
          "output_type": "execute_result",
          "data": {
            "text/plain": [
              "<tf.Tensor: shape=(1, 7, 5), dtype=float32, numpy=\n",
              "array([[[-7.3097218e-03, -8.6579267e-03,  6.5108282e-03, -4.6995529e-03,\n",
              "         -6.1655953e-03],\n",
              "        [ 2.5162593e-04, -1.8132351e-03,  1.2117121e-03, -1.3395884e-03,\n",
              "         -5.7245716e-03],\n",
              "        [-4.5920075e-03, -4.5240764e-03, -1.8206030e-03,  4.4292374e-05,\n",
              "         -1.3040293e-02],\n",
              "        [-8.1744191e-04, -5.4931070e-04, -6.6617588e-03, -3.8644689e-04,\n",
              "         -1.0613153e-02],\n",
              "        [-6.4202966e-03, -5.2729584e-03, -3.5087364e-03, -6.8675220e-04,\n",
              "         -1.2861537e-02],\n",
              "        [-8.9271700e-05,  1.0454296e-03, -6.3446402e-03,  1.5852140e-03,\n",
              "         -1.1164520e-02],\n",
              "        [ 1.5599118e-03,  2.5538316e-03, -9.4951764e-03,  2.3441277e-03,\n",
              "         -1.0163450e-02]]], dtype=float32)>"
            ]
          },
          "metadata": {},
          "execution_count": 26
        }
      ]
    },
    {
      "cell_type": "code",
      "metadata": {
        "id": "9t0mejmaEpM_"
      },
      "source": [
        "# lstm_13 with fw_h_13, fw_c_13\n",
        "lstm_13(hidden, initial_state=[fw_h_13, fw_c_14])  # (bs, units), (bs, units), (bs, units)"
      ],
      "execution_count": 27,
      "outputs": [
        {
          "output_type": "execute_result",
          "data": {
            "text/plain": [
              "[<tf.Tensor: shape=(1, 5), dtype=float32, numpy=\n",
              " array([[ 0.00796632, -0.01567245,  0.00890056, -0.00168277,  0.01155532]],\n",
              "       dtype=float32)>,\n",
              " <tf.Tensor: shape=(1, 5), dtype=float32, numpy=\n",
              " array([[ 0.00796632, -0.01567245,  0.00890056, -0.00168277,  0.01155532]],\n",
              "       dtype=float32)>,\n",
              " <tf.Tensor: shape=(1, 5), dtype=float32, numpy=\n",
              " array([[ 0.01581565, -0.03159543,  0.01772808, -0.00337746,  0.02337499]],\n",
              "       dtype=float32)>]"
            ]
          },
          "metadata": {},
          "execution_count": 27
        }
      ]
    },
    {
      "cell_type": "code",
      "metadata": {
        "id": "O8Lsx8TSEpNA"
      },
      "source": [
        "# lstm_14 with fw_h_14, fw_c_14\n",
        "lstm_14(hidden, initial_state=[fw_h_14, fw_c_14])  # (bs, n_seq, units), (bs, units), (bs, units)"
      ],
      "execution_count": 28,
      "outputs": [
        {
          "output_type": "execute_result",
          "data": {
            "text/plain": [
              "[<tf.Tensor: shape=(1, 7, 5), dtype=float32, numpy=\n",
              " array([[[-0.00241018, -0.00558355,  0.00569973, -0.0054552 ,\n",
              "           0.00055526],\n",
              "         [-0.00738834, -0.00379501,  0.00365711, -0.00856859,\n",
              "          -0.00504782],\n",
              "         [-0.0085752 , -0.00787436,  0.00294753, -0.01219721,\n",
              "          -0.00383559],\n",
              "         [-0.00311176, -0.00611526,  0.00749481, -0.00639922,\n",
              "          -0.00124679],\n",
              "         [-0.00200747, -0.00661883,  0.00610426, -0.00623128,\n",
              "           0.00128764],\n",
              "         [-0.00705873, -0.00454286,  0.00394774, -0.00918079,\n",
              "          -0.00467455],\n",
              "         [-0.00432382, -0.00428938,  0.00812357, -0.00609291,\n",
              "          -0.00260176]]], dtype=float32)>,\n",
              " <tf.Tensor: shape=(1, 5), dtype=float32, numpy=\n",
              " array([[-0.00432382, -0.00428938,  0.00812357, -0.00609291, -0.00260176]],\n",
              "       dtype=float32)>,\n",
              " <tf.Tensor: shape=(1, 5), dtype=float32, numpy=\n",
              " array([[-0.00864326, -0.00849324,  0.016246  , -0.01216442, -0.00522   ]],\n",
              "       dtype=float32)>]"
            ]
          },
          "metadata": {},
          "execution_count": 28
        }
      ]
    },
    {
      "cell_type": "markdown",
      "metadata": {
        "id": "3Dxp5BWdEpNA"
      },
      "source": [
        "# GRU"
      ]
    },
    {
      "cell_type": "markdown",
      "metadata": {
        "id": "a0rCzGcNEpNA"
      },
      "source": [
        "## return sequence=False, return_state=False"
      ]
    },
    {
      "cell_type": "code",
      "metadata": {
        "id": "3rFlpzlVEpNA",
        "colab": {
          "base_uri": "https://localhost:8080/"
        },
        "outputId": "54e8f6dd-18f3-4084-a65c-81c264e267bb"
      },
      "source": [
        "# bi GRU\n",
        "gru_11 = tf.keras.layers.GRU(units=5)\n",
        "output_11 = gru_11(hidden)  # (bs, units)\n",
        "print(output_11)"
      ],
      "execution_count": 29,
      "outputs": [
        {
          "output_type": "stream",
          "name": "stdout",
          "text": [
            "tf.Tensor([[-0.00128841  0.01591058 -0.01686392 -0.00689237 -0.01078903]], shape=(1, 5), dtype=float32)\n"
          ]
        }
      ]
    },
    {
      "cell_type": "code",
      "metadata": {
        "id": "wpeqndfqEpNA"
      },
      "source": [
        "# bi GRU weights\n",
        "weights = gru_11.get_weights()\n",
        "Wx = weights[0]\n",
        "Wh = weights[1]\n",
        "b = weights[2]\n",
        "print(Wx.shape)  # (d_model, unit * 3) (Wxr, Wxz, Wxg)\n",
        "print(Wh.shape)  # (unit, unit * 3) (Whr, Whz, Whg)\n",
        "print(b.shape)  # (2, unit * 3) (bxr, bxz, bxg),(bhr, bhz, bhg)"
      ],
      "execution_count": 30,
      "outputs": [
        {
          "output_type": "stream",
          "name": "stdout",
          "text": [
            "(4, 15)\n(5, 15)\n(2, 15)\n"
          ]
        }
      ]
    },
    {
      "cell_type": "markdown",
      "metadata": {
        "id": "_hzfJO5dEpNA"
      },
      "source": [
        "## return sequence=True, return_state=False"
      ]
    },
    {
      "cell_type": "code",
      "metadata": {
        "id": "swrWddyVEpNA"
      },
      "source": [
        "# (return_sequences=True)\n",
        "gru_12 = tf.keras.layers.GRU(units=5, return_sequences=True)\n",
        "output_12 = gru_12(hidden)  # (bs, seq, units)\n",
        "print(output_12)"
      ],
      "execution_count": 31,
      "outputs": [
        {
          "output_type": "stream",
          "name": "stdout",
          "text": [
            "tf.Tensor(\n[[[-0.00724988 -0.01204025 -0.00660731 -0.00241936  0.01091108]\n  [-0.00690028 -0.00760665  0.00473171  0.02366268  0.02218487]\n  [-0.01982778 -0.02418694 -0.000265    0.03126299  0.04256843]\n  [-0.00805993 -0.00707422  0.00594501  0.02301816  0.02065854]\n  [-0.01467839 -0.0149042  -0.00365479  0.01337637  0.02291579]\n  [-0.01298529 -0.00852203  0.00638297  0.03420675  0.02937598]\n  [-0.01063064 -0.00421955  0.01115373  0.0308162   0.02547237]]], shape=(1, 7, 5), dtype=float32)\n"
          ]
        }
      ]
    },
    {
      "cell_type": "markdown",
      "metadata": {
        "id": "7e5j3OBVEpNB"
      },
      "source": [
        "## return sequence=False, return_state=True"
      ]
    },
    {
      "cell_type": "code",
      "metadata": {
        "id": "Js_V2vXMEpNB"
      },
      "source": [
        "# (return_state=True)\n",
        "gru_13 = tf.keras.layers.GRU(units=5, return_sequences=False, return_state=True)\n",
        "output_13 = gru_13(hidden)  \n",
        "print(output_13)"
      ],
      "execution_count": 34,
      "outputs": [
        {
          "output_type": "stream",
          "name": "stdout",
          "text": [
            "[<tf.Tensor: shape=(1, 5), dtype=float32, numpy=\narray([[-0.0019341 ,  0.01071739,  0.00788937,  0.01066312, -0.00221146]],\n      dtype=float32)>, <tf.Tensor: shape=(1, 5), dtype=float32, numpy=\narray([[-0.0019341 ,  0.01071739,  0.00788937,  0.01066312, -0.00221146]],\n      dtype=float32)>]\n"
          ]
        }
      ]
    },
    {
      "cell_type": "markdown",
      "metadata": {
        "id": "hQYtG3aOEpNB"
      },
      "source": [
        "## return sequence=True, return_state=True"
      ]
    },
    {
      "cell_type": "code",
      "metadata": {
        "id": "oEUk24pmEpNB"
      },
      "source": [
        "# (return_sequences=True, return_state=True)\n",
        "gru_14 = tf.keras.layers.GRU(units=5, return_sequences=True, return_state=True)\n",
        "output_14 = gru_14(hidden)\n",
        "print(output_14)"
      ],
      "execution_count": 36,
      "outputs": [
        {
          "output_type": "stream",
          "name": "stdout",
          "text": [
            "[<tf.Tensor: shape=(1, 7, 5), dtype=float32, numpy=\narray([[[-0.00381347,  0.00607597,  0.00153289,  0.00026855,\n          0.01145666],\n        [-0.00331714,  0.01010486, -0.01224199, -0.01133284,\n          0.00853806],\n        [-0.00093711,  0.01803945, -0.0145158 , -0.01409486,\n          0.02851611],\n        [ 0.00880802,  0.01154291, -0.0096231 , -0.00740737,\n          0.012196  ],\n        [ 0.00363141,  0.01305108, -0.00426213, -0.00214698,\n          0.01840561],\n        [ 0.00235771,  0.01434101, -0.01598028, -0.01207952,\n          0.01253426],\n        [ 0.00402145,  0.01470503, -0.0129416 , -0.01024149,\n          0.00994625]]], dtype=float32)>, <tf.Tensor: shape=(1, 5), dtype=float32, numpy=\narray([[ 0.00402145,  0.01470503, -0.0129416 , -0.01024149,  0.00994625]],\n      dtype=float32)>]\n"
          ]
        }
      ]
    },
    {
      "cell_type": "markdown",
      "metadata": {
        "id": "zGu354Z0EpNB"
      },
      "source": [
        "## init hidden state"
      ]
    },
    {
      "cell_type": "code",
      "metadata": {
        "colab": {
          "base_uri": "https://localhost:8080/"
        },
        "id": "guJ1K1BJEpNB",
        "outputId": "23368250-271c-44d5-d7e8-cb1973990476"
      },
      "source": [
        "gru_11(hidden, initial_state=[fw_h_13])  # (bs, units)"
      ],
      "execution_count": 32,
      "outputs": [
        {
          "output_type": "execute_result",
          "data": {
            "text/plain": [
              "<tf.Tensor: shape=(1, 5), dtype=float32, numpy=\n",
              "array([[-0.00107348,  0.0158253 , -0.01736606, -0.00721362, -0.01050446]],\n",
              "      dtype=float32)>"
            ]
          },
          "metadata": {},
          "execution_count": 32
        }
      ]
    },
    {
      "cell_type": "code",
      "metadata": {
        "colab": {
          "base_uri": "https://localhost:8080/"
        },
        "id": "NyHTrpF1EpNB",
        "outputId": "119a610d-733b-4947-9bad-ea9a4a36668e"
      },
      "source": [
        "gru_12(hidden, initial_state=[fw_h_14])  # (bs, n_seq, units)"
      ],
      "execution_count": null,
      "outputs": [
        {
          "output_type": "execute_result",
          "data": {
            "text/plain": [
              "<tf.Tensor: shape=(1, 7, 5), dtype=float32, numpy=\n",
              "array([[[-0.00300019, -0.00323922, -0.01454308, -0.00958822,\n",
              "          0.01849951],\n",
              "        [-0.00319965, -0.00230684, -0.00040348,  0.0188137 ,\n",
              "          0.02772161],\n",
              "        [-0.01684529, -0.02090497, -0.00366238,  0.02805248,\n",
              "          0.04653085],\n",
              "        [-0.00582952, -0.00502904,  0.00368652,  0.0209058 ,\n",
              "          0.02341765],\n",
              "        [-0.01303946, -0.01359165, -0.00516605,  0.01199155,\n",
              "          0.02483771],\n",
              "        [-0.01180617, -0.00767625,  0.00535123,  0.03328608,\n",
              "          0.03071455],\n",
              "        [-0.00979845, -0.00366684,  0.01045386,  0.03020769,\n",
              "          0.02639962]]], dtype=float32)>"
            ]
          },
          "metadata": {
            "tags": []
          },
          "execution_count": 33
        }
      ]
    },
    {
      "cell_type": "code",
      "metadata": {
        "colab": {
          "base_uri": "https://localhost:8080/"
        },
        "id": "-Szb--ULEpNB",
        "outputId": "9b165078-c1de-47be-9cdd-664bcefd09d2"
      },
      "source": [
        "gru_13(hidden, initial_state=[fw_h_13])  # (bs, units), (bs, units)"
      ],
      "execution_count": 35,
      "outputs": [
        {
          "output_type": "execute_result",
          "data": {
            "text/plain": [
              "[<tf.Tensor: shape=(1, 5), dtype=float32, numpy=\n",
              " array([[-0.00189696,  0.01057259,  0.00823002,  0.01054995, -0.00209581]],\n",
              "       dtype=float32)>,\n",
              " <tf.Tensor: shape=(1, 5), dtype=float32, numpy=\n",
              " array([[-0.00189696,  0.01057259,  0.00823002,  0.01054995, -0.00209581]],\n",
              "       dtype=float32)>]"
            ]
          },
          "metadata": {},
          "execution_count": 35
        }
      ]
    },
    {
      "cell_type": "code",
      "metadata": {
        "colab": {
          "base_uri": "https://localhost:8080/"
        },
        "id": "iYLeb1O1EpNC",
        "outputId": "8dd05a59-042d-4048-89f2-ca1d503d729f"
      },
      "source": [
        "gru_14(hidden, initial_state=[fw_h_14])  # (bs, n_seq, units), (bs, units)"
      ],
      "execution_count": 37,
      "outputs": [
        {
          "output_type": "execute_result",
          "data": {
            "text/plain": [
              "[<tf.Tensor: shape=(1, 7, 5), dtype=float32, numpy=\n",
              " array([[[-0.00717009,  0.00367933,  0.00580888, -0.00234792,\n",
              "           0.00994279],\n",
              "         [-0.00600007,  0.00882519, -0.00961242, -0.01255127,\n",
              "           0.00756697],\n",
              "         [-0.00295713,  0.01734281, -0.01287273, -0.01462314,\n",
              "           0.02789093],\n",
              "         [ 0.00736622,  0.01113355, -0.00857693, -0.00759361,\n",
              "           0.01176882],\n",
              "         [ 0.00261882,  0.01280464, -0.00359433, -0.0021952 ,\n",
              "           0.01811581],\n",
              "         [ 0.00166098,  0.014185  , -0.01555701, -0.01207631,\n",
              "           0.01233568],\n",
              "         [ 0.00354787,  0.01460313, -0.0126679 , -0.01022038,\n",
              "           0.00981097]]], dtype=float32)>,\n",
              " <tf.Tensor: shape=(1, 5), dtype=float32, numpy=\n",
              " array([[ 0.00354787,  0.01460313, -0.0126679 , -0.01022038,  0.00981097]],\n",
              "       dtype=float32)>]"
            ]
          },
          "metadata": {},
          "execution_count": 37
        }
      ]
    },
    {
      "cell_type": "markdown",
      "metadata": {
        "id": "jSepMHL3D1A-"
      },
      "source": [
        "# Bidirectional RNN"
      ]
    },
    {
      "cell_type": "markdown",
      "metadata": {
        "id": "QEQVLQilD1BB"
      },
      "source": [
        "## return sequence=False, return_state=False"
      ]
    },
    {
      "cell_type": "code",
      "metadata": {
        "id": "EPre9YBfD1BC",
        "colab": {
          "base_uri": "https://localhost:8080/"
        },
        "outputId": "dcf78fe3-8dd8-494f-fccd-23bd6cfb0c12"
      },
      "source": [
        "# bi rnn\n",
        "# rnn_11 = tf.keras.layers.SimpleRNN(units=5)\n",
        "bi_rnn_11 = tf.keras.layers.Bidirectional(tf.keras.layers.SimpleRNN(units=5))\n",
        "output_11 = bi_rnn_11(hidden)  # (bs, units * 2)\n",
        "print(output_11)"
      ],
      "execution_count": 38,
      "outputs": [
        {
          "output_type": "stream",
          "name": "stdout",
          "text": [
            "tf.Tensor(\n[[ 0.00189243 -0.08352485 -0.07952982 -0.02134597  0.01254618 -0.10349479\n  -0.02856481 -0.15433244  0.04896942  0.0649122 ]], shape=(1, 10), dtype=float32)\n"
          ]
        }
      ]
    },
    {
      "cell_type": "code",
      "metadata": {
        "id": "eQ83Svk2D1BC",
        "colab": {
          "base_uri": "https://localhost:8080/"
        },
        "outputId": "5ee49606-e259-4e35-efe0-8e8a0ef546ab"
      },
      "source": [
        "# bi rnn weights\n",
        "weights = bi_rnn_11.get_weights()\n",
        "Wx = weights[0]\n",
        "Wh = weights[1]\n",
        "b = weights[2]\n",
        "print(Wx.shape)  # (d_model, unit)\n",
        "print(Wh.shape)  # (unit, unit)\n",
        "print(b.shape)  # (unit,)"
      ],
      "execution_count": 39,
      "outputs": [
        {
          "output_type": "stream",
          "name": "stdout",
          "text": [
            "(4, 5)\n(5, 5)\n(5,)\n"
          ]
        }
      ]
    },
    {
      "cell_type": "markdown",
      "metadata": {
        "id": "RXoZmvMRD1BD"
      },
      "source": [
        "## return sequence=True, return_state=False"
      ]
    },
    {
      "cell_type": "code",
      "metadata": {
        "id": "rIhSKwSsD1BD",
        "colab": {
          "base_uri": "https://localhost:8080/"
        },
        "outputId": "d87ad022-e64e-46c4-dcc9-f691fee74cd5"
      },
      "source": [
        "# (return_sequences=True)\n",
        "bi_rnn_12 = tf.keras.layers.Bidirectional(tf.keras.layers.SimpleRNN(units=5, return_sequences=True))\n",
        "output_12 = bi_rnn_12(hidden)  # (bs, seq, units* 2)\n",
        "print(output_12)"
      ],
      "execution_count": 40,
      "outputs": [
        {
          "output_type": "stream",
          "name": "stdout",
          "text": [
            "tf.Tensor(\n[[[ 0.02063904  0.03965816  0.03919788  0.02908319 -0.02135444\n    0.03373568  0.1435729   0.0226585  -0.01834988  0.01760598]\n  [-0.06732998  0.01192621  0.01037599  0.03202324 -0.04788924\n   -0.02202281 -0.12320484  0.00310692  0.03954257  0.02772268]\n  [-0.00692481  0.09928045  0.00049276  0.0842956  -0.02588287\n    0.02357068  0.0346979   0.06235293 -0.08903261  0.01622929]\n  [-0.10489257  0.04832264  0.01487477  0.05294417  0.0026204\n   -0.02221387 -0.06631253 -0.00934883  0.01024336  0.03339537]\n  [-0.02521384  0.11432076  0.01652069  0.04469955  0.06719343\n    0.04058784  0.02231554 -0.00393318 -0.01607523  0.03056315]\n  [-0.08703329  0.01557361  0.07161147  0.08565229  0.04799198\n    0.02592861 -0.04054319 -0.03698469 -0.03118086  0.01623694]\n  [-0.00699221  0.11693998  0.02447138  0.02125133  0.06086859\n   -0.0062323  -0.04051992 -0.00674628 -0.02538864 -0.00846069]]], shape=(1, 7, 10), dtype=float32)\n"
          ]
        }
      ]
    },
    {
      "cell_type": "markdown",
      "metadata": {
        "id": "UFU4PxXoD1BD"
      },
      "source": [
        "## return sequence=False, return_state=True"
      ]
    },
    {
      "cell_type": "code",
      "metadata": {
        "id": "9oAuKuIQD1BD",
        "colab": {
          "base_uri": "https://localhost:8080/"
        },
        "outputId": "57a85967-54fb-423e-d320-73cb64d4655a"
      },
      "source": [
        "# (return_state=True)\n",
        "bi_rnn_13 = tf.keras.layers.Bidirectional(tf.keras.layers.SimpleRNN(units=5, return_state=True))\n",
        "output_13, fw_h_13, bw_h_13 = bi_rnn_13(hidden)  # (bs, units * 2), (bs, units), (bs, units)\n",
        "print(output_13)\n",
        "print(fw_h_13)\n",
        "print(bw_h_13)"
      ],
      "execution_count": 41,
      "outputs": [
        {
          "output_type": "stream",
          "name": "stdout",
          "text": [
            "tf.Tensor(\n[[ 0.10142462  0.04384787  0.03959856  0.09941955  0.05877532  0.1923726\n  -0.0812621   0.04585573  0.21233372 -0.06199192]], shape=(1, 10), dtype=float32)\ntf.Tensor([[0.10142462 0.04384787 0.03959856 0.09941955 0.05877532]], shape=(1, 5), dtype=float32)\ntf.Tensor([[ 0.1923726  -0.0812621   0.04585573  0.21233372 -0.06199192]], shape=(1, 5), dtype=float32)\n"
          ]
        }
      ]
    },
    {
      "cell_type": "markdown",
      "metadata": {
        "id": "43lkL3LeD1BE"
      },
      "source": [
        "## return sequence=True, return_state=True"
      ]
    },
    {
      "cell_type": "code",
      "metadata": {
        "id": "084yhlPOD1BE"
      },
      "source": [
        "# (return_sequences=True, return_state=True)\n",
        "bi_rnn_14 = tf.keras.layers.Bidirectional(tf.keras.layers.SimpleRNN(units=5, return_sequences=True, return_state=True))\n",
        "output_14, fw_h_14, bw_h_14 = bi_rnn_14(hidden)  # (bs, seq, units * 2), (bs, units), (bs, units)\n",
        "print(output_14)\n",
        "print(fw_h_14)\n",
        "print(bw_h_14)"
      ],
      "execution_count": 42,
      "outputs": [
        {
          "output_type": "stream",
          "name": "stdout",
          "text": [
            "tf.Tensor(\n[[[-0.01223004 -0.03604717 -0.01213866  0.00832459 -0.00985193\n   -0.06842471  0.03804661 -0.21594398 -0.07498597  0.12322075]\n  [-0.01207433 -0.02585809  0.01065563  0.0117806  -0.05265585\n    0.07812024 -0.1537342  -0.00190179 -0.13922735  0.13310386]\n  [-0.03699969 -0.07803842  0.04209686  0.04328768 -0.0377161\n    0.07696801  0.08312837 -0.06378457 -0.02303883  0.17275529]\n  [-0.0314906  -0.00641297  0.09045608  0.04872285 -0.02032935\n   -0.06239618 -0.07913798  0.00644678 -0.02948126  0.07311695]\n  [-0.00251456  0.00482456  0.03361512  0.09806921 -0.01537914\n    0.00374243  0.0306529  -0.0893319  -0.05894313  0.04060608]\n  [ 0.06832524  0.01860224  0.02926935  0.06120522 -0.07875358\n    0.03820577 -0.03235299  0.02452954 -0.05579672  0.06007536]\n  [ 0.07677119  0.03446358  0.09452502 -0.0302586   0.00149062\n    0.0218113   0.02294274 -0.00379264 -0.01796763  0.03280125]]], shape=(1, 7, 10), dtype=float32)\ntf.Tensor([[ 0.07677119  0.03446358  0.09452502 -0.0302586   0.00149062]], shape=(1, 5), dtype=float32)\ntf.Tensor([[-0.06842471  0.03804661 -0.21594398 -0.07498597  0.12322075]], shape=(1, 5), dtype=float32)\n"
          ]
        }
      ]
    },
    {
      "cell_type": "markdown",
      "metadata": {
        "id": "Jmv-M7oqD1BE"
      },
      "source": [
        "## init hidden state"
      ]
    },
    {
      "cell_type": "code",
      "metadata": {
        "id": "Z-hUtG_jD1BE"
      },
      "source": [
        "# bi_rnn_11 with fw_h_13, bw_h_13\n",
        "bi_rnn_11(hidden, initial_state=[fw_h_13, bw_h_13])  # (bs, units * 2)"
      ],
      "execution_count": 43,
      "outputs": [
        {
          "output_type": "execute_result",
          "data": {
            "text/plain": [
              "<tf.Tensor: shape=(1, 10), dtype=float32, numpy=\n",
              "array([[ 0.03366553,  0.02708558, -0.088336  ,  0.02204747,  0.11622971,\n",
              "        -0.0972553 , -0.23567973, -0.14445545,  0.18366556, -0.04445885]],\n",
              "      dtype=float32)>"
            ]
          },
          "metadata": {},
          "execution_count": 43
        }
      ]
    },
    {
      "cell_type": "code",
      "metadata": {
        "id": "UBHaQAZKD1BF"
      },
      "source": [
        "# bi_rnn_12 with fw_h_14, bw_h_14\n",
        "bi_rnn_12(hidden, initial_state=[fw_h_14, bw_h_14])  # (bs, n_seq, units * 2)"
      ],
      "execution_count": 44,
      "outputs": [
        {
          "output_type": "execute_result",
          "data": {
            "text/plain": [
              "<tf.Tensor: shape=(1, 7, 10), dtype=float32, numpy=\n",
              "array([[[-0.00958688,  0.03306839,  0.121411  , -0.05310348,\n",
              "         -0.06980097, -0.00270118,  0.34216237,  0.05943167,\n",
              "          0.04920276, -0.08195006],\n",
              "        [-0.08903914, -0.00823845, -0.01903536, -0.08953562,\n",
              "         -0.03271431, -0.14414802, -0.26751807,  0.14107464,\n",
              "          0.11605872, -0.01104428],\n",
              "        [ 0.02232577, -0.00883713, -0.02639924,  0.04660336,\n",
              "          0.01856825,  0.02391093,  0.23287676,  0.21018222,\n",
              "         -0.1373031 ,  0.04852056],\n",
              "        [ 0.01353178,  0.00450392,  0.00479943,  0.05030998,\n",
              "         -0.02010378, -0.12037753, -0.16119109,  0.04842454,\n",
              "          0.18212938,  0.15873083],\n",
              "        [ 0.00532184,  0.08084926,  0.03913521,  0.04759574,\n",
              "         -0.05087122,  0.1654538 ,  0.07834639,  0.14952205,\n",
              "         -0.1347119 ,  0.14144836],\n",
              "        [-0.11827578,  0.02918994,  0.00035903,  0.04068655,\n",
              "         -0.04247618, -0.04291089, -0.04649406, -0.14875302,\n",
              "          0.07161842,  0.22109677],\n",
              "        [-0.060776  ,  0.05895524, -0.07440827,  0.03875528,\n",
              "          0.05703022,  0.22294775, -0.13253468,  0.03559474,\n",
              "         -0.09870931,  0.05031729]]], dtype=float32)>"
            ]
          },
          "metadata": {},
          "execution_count": 44
        }
      ]
    },
    {
      "cell_type": "code",
      "metadata": {
        "id": "KEz0U50aD1BF"
      },
      "source": [
        "# bi_rnn_13 with fw_h_13, bw_h_13\n",
        "bi_rnn_13(hidden, initial_state=[fw_h_13, bw_h_13])"
      ],
      "execution_count": 47,
      "outputs": [
        {
          "output_type": "execute_result",
          "data": {
            "text/plain": [
              "[<tf.Tensor: shape=(1, 10), dtype=float32, numpy=\n",
              " array([[ 0.21820243,  0.12051316,  0.03422751,  0.10649259,  0.11619177,\n",
              "          0.31769815, -0.1452783 ,  0.04461541,  0.30978468,  0.12155467]],\n",
              "       dtype=float32)>,\n",
              " <tf.Tensor: shape=(1, 5), dtype=float32, numpy=\n",
              " array([[0.21820243, 0.12051316, 0.03422751, 0.10649259, 0.11619177]],\n",
              "       dtype=float32)>,\n",
              " <tf.Tensor: shape=(1, 5), dtype=float32, numpy=\n",
              " array([[ 0.31769815, -0.1452783 ,  0.04461541,  0.30978468,  0.12155467]],\n",
              "       dtype=float32)>]"
            ]
          },
          "metadata": {},
          "execution_count": 47
        }
      ]
    },
    {
      "cell_type": "code",
      "metadata": {
        "id": "sBDD0iR2D1BF"
      },
      "source": [
        "# bi_rnn_14 with fw_h_14, bw_h_14\n",
        "bi_rnn_14(hidden, initial_state=[fw_h_14, bw_h_14])"
      ],
      "execution_count": 48,
      "outputs": [
        {
          "output_type": "execute_result",
          "data": {
            "text/plain": [
              "[<tf.Tensor: shape=(1, 7, 10), dtype=float32, numpy=\n",
              " array([[[-0.01605416,  0.08521213,  0.00787716, -0.0052132 ,\n",
              "           0.02986126, -0.08073828, -0.18156148, -0.25961453,\n",
              "          -0.11645738,  0.19696285],\n",
              "         [ 0.04976504,  0.01947387, -0.06751589,  0.02501584,\n",
              "           0.01579398,  0.17407632, -0.08744291, -0.17113174,\n",
              "          -0.17401822,  0.25746417],\n",
              "         [ 0.01264177, -0.07194784, -0.03912844, -0.03732142,\n",
              "          -0.07277697,  0.09552296, -0.07634453, -0.01732098,\n",
              "           0.03210618,  0.3469225 ],\n",
              "         [-0.05013782, -0.04536487,  0.09190008, -0.06441382,\n",
              "           0.02577553, -0.14590366, -0.03704854, -0.19435053,\n",
              "          -0.0259119 ,  0.20409103],\n",
              "         [-0.11520636,  0.00189489, -0.01346462,  0.07705233,\n",
              "           0.02070218,  0.04140914, -0.18265292, -0.1194224 ,\n",
              "          -0.15420522,  0.1466956 ],\n",
              "         [ 0.03836298, -0.07230781, -0.03827994,  0.11328375,\n",
              "          -0.06635913,  0.1209978 ,  0.06455722, -0.10884307,\n",
              "          -0.07171249,  0.24776569],\n",
              "         [ 0.05478877, -0.04579865,  0.10467332, -0.02814358,\n",
              "          -0.09591054, -0.03719819, -0.14861406,  0.03417307,\n",
              "           0.01759545,  0.22281761]]], dtype=float32)>,\n",
              " <tf.Tensor: shape=(1, 5), dtype=float32, numpy=\n",
              " array([[ 0.05478877, -0.04579865,  0.10467332, -0.02814358, -0.09591054]],\n",
              "       dtype=float32)>,\n",
              " <tf.Tensor: shape=(1, 5), dtype=float32, numpy=\n",
              " array([[-0.08073828, -0.18156148, -0.25961453, -0.11645738,  0.19696285]],\n",
              "       dtype=float32)>]"
            ]
          },
          "metadata": {},
          "execution_count": 48
        }
      ]
    },
    {
      "cell_type": "markdown",
      "metadata": {
        "id": "sQaFWsxN_Wa-"
      },
      "source": [
        "# Bidirectional LSTM"
      ]
    },
    {
      "cell_type": "markdown",
      "metadata": {
        "id": "1NvWgSQW_WbI"
      },
      "source": [
        "## return sequence=False, return_state=False"
      ]
    },
    {
      "cell_type": "code",
      "metadata": {
        "id": "yaqddEAJ_WbI",
        "colab": {
          "base_uri": "https://localhost:8080/"
        },
        "outputId": "0b2ff577-5af9-4d50-cd9f-466e6bdd6962"
      },
      "source": [
        "# lstm\n",
        "bi_lstm_11 = tf.keras.layers.Bidirectional(tf.keras.layers.LSTM(units=5))\n",
        "output_11 = bi_lstm_11(hidden)  # (bs, units * 2)\n",
        "print(output_11)"
      ],
      "execution_count": 49,
      "outputs": [
        {
          "output_type": "stream",
          "name": "stdout",
          "text": [
            "tf.Tensor(\n[[-0.01047844 -0.00272136  0.01447616 -0.015981   -0.00944974 -0.01022396\n   0.00184913  0.00054924  0.01690395  0.00960285]], shape=(1, 10), dtype=float32)\n"
          ]
        }
      ]
    },
    {
      "cell_type": "code",
      "metadata": {
        "id": "41rWr-3o_WbI",
        "colab": {
          "base_uri": "https://localhost:8080/"
        },
        "outputId": "eacd54c3-6130-409a-a10f-5665423642d0"
      },
      "source": [
        "# lstm weights\n",
        "weights = bi_lstm_11.get_weights()\n",
        "Wx = weights[0]\n",
        "Wh = weights[1]\n",
        "b = weights[2]\n",
        "print(Wx.shape)  # (d_model, unit * 4) (Wxf, Wxi, Wxc, Wxo)\n",
        "print(Wh.shape)  # (unit, unit * 4) (Whf, Whi, Whc, Who)\n",
        "print(b.shape)  # (unit * 4) (bf, bi, bc, bo)"
      ],
      "execution_count": 50,
      "outputs": [
        {
          "output_type": "stream",
          "name": "stdout",
          "text": [
            "(4, 20)\n(5, 20)\n(20,)\n"
          ]
        }
      ]
    },
    {
      "cell_type": "markdown",
      "metadata": {
        "id": "YYJLRqQN_WbJ"
      },
      "source": [
        "## return sequence=True, return_state=False"
      ]
    },
    {
      "cell_type": "code",
      "metadata": {
        "id": "Upq3pGN3_WbJ"
      },
      "source": [
        "# (return_sequences=True)\n",
        "bi_lstm_12 = tf.keras.layers.Bidirectional(tf.keras.layers.LSTM(units=5, return_sequences=True))\n",
        "output_12 = bi_lstm_12(hidden)  # (bs, seq, units * 2)\n",
        "print(output_12)"
      ],
      "execution_count": 51,
      "outputs": [
        {
          "output_type": "stream",
          "name": "stdout",
          "text": [
            "tf.Tensor(\n[[[ 0.00572704  0.00143487 -0.00331461 -0.00193452 -0.00626948\n    0.00095727 -0.00672461  0.00755316 -0.00082623 -0.00279788]\n  [-0.00464334 -0.00477877 -0.00704962 -0.00027559  0.00117185\n   -0.00306182 -0.0122618   0.01030242 -0.00170412 -0.00148065]\n  [-0.00122711 -0.00535861 -0.01451639 -0.00197635 -0.00332223\n    0.00109893 -0.00459027  0.00640099  0.00262677 -0.00232618]\n  [-0.00385974 -0.00179318 -0.00893673  0.0011897  -0.00094004\n   -0.00352854  0.00051255  0.00387651  0.00455648 -0.00036182]\n  [ 0.00240173  0.00063563 -0.01005731 -0.00161065 -0.00760287\n   -0.0011374  -0.00527796  0.00479362  0.00015036 -0.00207249]\n  [-0.00728943 -0.00494087 -0.01211869 -0.00037022 -0.000363\n   -0.00581124 -0.00962973  0.00659043 -0.00069188 -0.00031079]\n  [-0.0091411  -0.00195885 -0.01065393  0.00111449  0.00126692\n   -0.00256846 -0.00012026  0.00160678  0.00367497 -0.00049144]]], shape=(1, 7, 10), dtype=float32)\n"
          ]
        }
      ]
    },
    {
      "cell_type": "markdown",
      "metadata": {
        "id": "s6uX1Yz2_WbJ"
      },
      "source": [
        "## return sequence=False, return_state=True"
      ]
    },
    {
      "cell_type": "code",
      "metadata": {
        "id": "AQ85oNl6_WbJ",
        "colab": {
          "base_uri": "https://localhost:8080/"
        },
        "outputId": "9c8f75bd-025c-4bba-af58-44a472f5d3cf"
      },
      "source": [
        "# (return_state=True)\n",
        "bi_lstm_13 = tf.keras.layers.Bidirectional(tf.keras.layers.LSTM(units=5, return_state=True))\n",
        "output_13, fw_h_13, fw_c_13, bw_h_13, bw_c_13 = bi_lstm_13(hidden)  # (bs, units * 2), (bs, units), (bs, units), (bs, units), (bs, units)\n",
        "print(output_13)\n",
        "print(fw_h_13)\n",
        "print(fw_c_13)\n",
        "print(bw_h_13)\n",
        "print(bw_c_13)"
      ],
      "execution_count": 52,
      "outputs": [
        {
          "output_type": "stream",
          "name": "stdout",
          "text": [
            "tf.Tensor(\n[[-0.00669851 -0.01033889 -0.00779064  0.01347377 -0.00082833  0.01547839\n   0.00376636 -0.00398766 -0.00370576 -0.00819959]], shape=(1, 10), dtype=float32)\ntf.Tensor([[-0.00669851 -0.01033889 -0.00779064  0.01347377 -0.00082833]], shape=(1, 5), dtype=float32)\ntf.Tensor([[-0.01344749 -0.02074135 -0.01553759  0.02708873 -0.0016644 ]], shape=(1, 5), dtype=float32)\ntf.Tensor([[ 0.01547839  0.00376636 -0.00398766 -0.00370576 -0.00819959]], shape=(1, 5), dtype=float32)\ntf.Tensor([[ 0.03100743  0.00752903 -0.00798306 -0.00741232 -0.0162381 ]], shape=(1, 5), dtype=float32)\n"
          ]
        }
      ]
    },
    {
      "cell_type": "markdown",
      "metadata": {
        "id": "tDsh_WrM_WbK"
      },
      "source": [
        "## return sequence=True, return_state=True"
      ]
    },
    {
      "cell_type": "code",
      "metadata": {
        "id": "ErPLKIBd_WbK",
        "colab": {
          "base_uri": "https://localhost:8080/"
        },
        "outputId": "e9c45058-8118-4014-e982-717aa749de0c"
      },
      "source": [
        "# (return_sequences=True, return_state=True)\n",
        "# (return_sequences=True, return_state=True)\n",
        "bi_lstm_14 = tf.keras.layers.Bidirectional(tf.keras.layers.LSTM(units=5, return_sequences=True, return_state=True))\n",
        "output_14, fw_h_14, fw_c_14, bw_h_14, bw_c_14 = bi_lstm_14(hidden)  # (bs, seq, units), (bs, units), (bs, units), (bs, units), (bs, units)\n",
        "print(output_14)\n",
        "print(fw_h_14)\n",
        "print(fw_c_14)\n",
        "print(bw_h_14)\n",
        "print(bw_c_14)"
      ],
      "execution_count": 53,
      "outputs": [
        {
          "output_type": "stream",
          "name": "stdout",
          "text": [
            "tf.Tensor(\n[[[-1.73568190e-03  9.66656429e-04 -4.43200534e-03  9.81729609e-05\n    5.99584868e-03  3.58588505e-03  6.28273608e-03 -9.33102565e-04\n    1.30135426e-03 -1.71137229e-02]\n  [-7.28761358e-03 -3.23330332e-03 -9.18741710e-03 -7.00382655e-03\n   -2.57872953e-03  4.31145914e-03  1.27696879e-02  2.18096888e-03\n   -2.25784932e-03 -2.00917311e-02]\n  [-1.40764881e-02 -5.22490079e-03 -2.07485575e-02 -9.74385813e-03\n    3.33819329e-03 -7.73747306e-05  9.84441210e-03  1.33407535e-03\n    2.33387039e-03 -1.52610773e-02]\n  [-1.04366727e-02 -7.36432569e-03 -1.33569920e-02 -7.55398208e-03\n    6.90097004e-05 -1.78182859e-03  4.63476637e-03  1.80065818e-03\n   -4.06197691e-03 -6.97691925e-03]\n  [-9.36021190e-03 -4.31238394e-03 -1.47491610e-02 -6.92136539e-03\n    6.73899380e-03  2.75624776e-03  5.51511627e-03  2.85831600e-04\n   -1.84834193e-04 -9.86234285e-03]\n  [-1.27383284e-02 -6.90077711e-03 -1.69051476e-02 -1.33840935e-02\n   -1.56315311e-03  3.62244830e-03  1.00047905e-02  3.20798019e-03\n   -5.02284756e-03 -1.05215097e-02]\n  [-1.20656034e-02 -9.25700739e-03 -1.39710102e-02 -1.27223199e-02\n   -3.77153931e-03 -6.22593216e-04  3.78845981e-03  1.92147144e-03\n   -2.30449787e-03 -2.76111206e-03]]], shape=(1, 7, 10), dtype=float32)\ntf.Tensor([[-0.0120656  -0.00925701 -0.01397101 -0.01272232 -0.00377154]], shape=(1, 5), dtype=float32)\ntf.Tensor([[-0.0240131  -0.01845097 -0.02803136 -0.02516523 -0.00755418]], shape=(1, 5), dtype=float32)\ntf.Tensor([[ 0.00358589  0.00628274 -0.0009331   0.00130135 -0.01711372]], shape=(1, 5), dtype=float32)\ntf.Tensor([[ 0.00712033  0.0125543  -0.00187386  0.00261137 -0.0344017 ]], shape=(1, 5), dtype=float32)\n"
          ]
        }
      ]
    },
    {
      "cell_type": "markdown",
      "metadata": {
        "id": "nMk2duPz_WbK"
      },
      "source": [
        "## init hidden state"
      ]
    },
    {
      "cell_type": "code",
      "metadata": {
        "id": "YOqL64zN_WbK",
        "colab": {
          "base_uri": "https://localhost:8080/"
        },
        "outputId": "e6192474-ac27-4c98-ad6c-5a5b2bd99f96"
      },
      "source": [
        "# bi_lstm_11 with fw_h_13, fw_c_13, bw_h_13, bw_c_13\n",
        "bi_lstm_11(hidden, initial_state=[fw_h_13, fw_c_13, bw_h_13, bw_c_13])  # (bs, units * 2)"
      ],
      "execution_count": 54,
      "outputs": [
        {
          "output_type": "execute_result",
          "data": {
            "text/plain": [
              "<tf.Tensor: shape=(1, 10), dtype=float32, numpy=\n",
              "array([[-0.01044984, -0.00225714,  0.01167913, -0.01586506, -0.00975995,\n",
              "        -0.0087426 ,  0.00403183,  0.00167814,  0.01551284,  0.00888616]],\n",
              "      dtype=float32)>"
            ]
          },
          "metadata": {},
          "execution_count": 54
        }
      ]
    },
    {
      "cell_type": "code",
      "metadata": {
        "id": "tdXXGLEz_WbK",
        "colab": {
          "base_uri": "https://localhost:8080/"
        },
        "outputId": "c3572154-bb00-4c89-a1f1-bc1d716143dd"
      },
      "source": [
        "# bi_lstm_12 with fw_h_14, fw_c_14, bw_h_14, bw_c_14\n",
        "bi_lstm_12(hidden, initial_state=[fw_h_14, fw_c_14, bw_h_14, bw_c_14])  # (bs, n_seq, units * 2)"
      ],
      "execution_count": null,
      "outputs": [
        {
          "output_type": "execute_result",
          "data": {
            "text/plain": [
              "<tf.Tensor: shape=(1, 7, 10), dtype=float32, numpy=\n",
              "array([[[-0.00878573, -0.00138058, -0.00968741,  0.00640582,\n",
              "          0.00185933, -0.0087426 ,  0.00403183,  0.00167814,\n",
              "          0.01551284,  0.00888616],\n",
              "        [-0.0080578 , -0.00069413, -0.00048683, -0.00101975,\n",
              "         -0.00723064, -0.01281356,  0.00418963,  0.00720075,\n",
              "          0.01938561,  0.00453016],\n",
              "        [-0.01302137,  0.0030489 ,  0.00382255, -0.00920187,\n",
              "         -0.00642651, -0.00775529,  0.00828512,  0.00324923,\n",
              "          0.01202187,  0.00806246],\n",
              "        [-0.0085477 , -0.00070268,  0.00368323, -0.01126228,\n",
              "         -0.00488006,  0.00182763,  0.00492204,  0.00440744,\n",
              "          0.00702173, -0.00042675],\n",
              "        [-0.0108273 ,  0.00209046,  0.002517  , -0.0111129 ,\n",
              "         -0.00116849, -0.00197708,  0.0065663 ,  0.00252955,\n",
              "          0.00687623,  0.00017145],\n",
              "        [-0.01069329, -0.00088743,  0.01118687, -0.01366006,\n",
              "         -0.00971235, -0.00227178,  0.00494221,  0.00695366,\n",
              "          0.00949318, -0.00672844],\n",
              "        [-0.01044984, -0.00225714,  0.01167913, -0.01586506,\n",
              "         -0.00975995,  0.00877691,  0.00623289,  0.00052591,\n",
              "          0.00093862, -0.00642887]]], dtype=float32)>"
            ]
          },
          "metadata": {
            "tags": []
          },
          "execution_count": 44
        }
      ]
    },
    {
      "cell_type": "code",
      "metadata": {
        "id": "bJQ0BcMK_WbL"
      },
      "source": [
        "# bi_lstm_13 with fw_h_13, fw_c_13, bw_h_13, bw_c_13\n",
        "bi_lstm_13(hidden, initial_state=[fw_h_13, fw_c_13, bw_h_13, bw_c_13])"
      ],
      "execution_count": 55,
      "outputs": [
        {
          "output_type": "execute_result",
          "data": {
            "text/plain": [
              "[<tf.Tensor: shape=(1, 10), dtype=float32, numpy=\n",
              " array([[-0.00782868, -0.01307623, -0.00731933,  0.01435827, -0.00225139,\n",
              "          0.01593334,  0.0055482 , -0.0060663 , -0.00531265, -0.01116456]],\n",
              "       dtype=float32)>,\n",
              " <tf.Tensor: shape=(1, 5), dtype=float32, numpy=\n",
              " array([[-0.00782868, -0.01307623, -0.00731933,  0.01435827, -0.00225139]],\n",
              "       dtype=float32)>,\n",
              " <tf.Tensor: shape=(1, 5), dtype=float32, numpy=\n",
              " array([[-0.01571304, -0.02624407, -0.01459286,  0.02888137, -0.00452371]],\n",
              "       dtype=float32)>,\n",
              " <tf.Tensor: shape=(1, 5), dtype=float32, numpy=\n",
              " array([[ 0.01593334,  0.0055482 , -0.0060663 , -0.00531265, -0.01116456]],\n",
              "       dtype=float32)>,\n",
              " <tf.Tensor: shape=(1, 5), dtype=float32, numpy=\n",
              " array([[ 0.03193098,  0.01108811, -0.01215264, -0.01063845, -0.02210738]],\n",
              "       dtype=float32)>]"
            ]
          },
          "metadata": {},
          "execution_count": 55
        }
      ]
    },
    {
      "cell_type": "code",
      "metadata": {
        "id": "tVE16Kmr_WbL"
      },
      "source": [
        "# bi_lstm_14 with fw_h_14, fw_c_14, bw_h_14, bw_c_14\n",
        "bi_lstm_14(hidden, initial_state=[fw_h_14, fw_c_14, bw_h_14, bw_c_14])"
      ],
      "execution_count": 56,
      "outputs": [
        {
          "output_type": "execute_result",
          "data": {
            "text/plain": [
              "[<tf.Tensor: shape=(1, 7, 10), dtype=float32, numpy=\n",
              " array([[[-1.04460837e-02, -5.75428503e-03, -1.51174720e-02,\n",
              "          -1.06630018e-02,  4.14686324e-03,  4.68043843e-03,\n",
              "           4.43026749e-03, -2.26083025e-03, -1.06409297e-03,\n",
              "          -1.94848534e-02],\n",
              "         [-1.34683149e-02, -7.94618204e-03, -1.70643963e-02,\n",
              "          -1.61122922e-02, -3.28263291e-03,  5.61679387e-03,\n",
              "           1.07295765e-02,  5.99681865e-04, -4.72701155e-03,\n",
              "          -2.32779253e-02],\n",
              "         [-1.85028408e-02, -8.59788433e-03, -2.64112856e-02,\n",
              "          -1.75623894e-02,  3.32411123e-03,  1.51165563e-03,\n",
              "           7.80272018e-03, -4.54908470e-04, -1.74975939e-04,\n",
              "          -1.95330251e-02],\n",
              "         [-1.35340365e-02, -9.73690581e-03, -1.73044503e-02,\n",
              "          -1.38761597e-02,  4.28098312e-04,  8.07055985e-05,\n",
              "           2.85251974e-03, -1.78919363e-04, -6.44189958e-03,\n",
              "          -1.27323698e-02],\n",
              "         [-1.15437629e-02, -5.96557325e-03, -1.73409060e-02,\n",
              "          -1.22294575e-02,  7.28086615e-03,  4.93523665e-03,\n",
              "           4.32476215e-03, -1.75591139e-03, -2.26526032e-03,\n",
              "          -1.73989907e-02],\n",
              "         [-1.42406691e-02, -8.01759027e-03, -1.84696410e-02,\n",
              "          -1.77592151e-02, -9.88136511e-04,  6.13066368e-03,\n",
              "           1.00889495e-02,  1.17875345e-03, -6.46308484e-03,\n",
              "          -2.05143746e-02],\n",
              "         [-1.31024867e-02, -1.00216325e-02, -1.48007367e-02,\n",
              "          -1.62612963e-02, -3.20622441e-03,  2.36595981e-03,\n",
              "           6.19751867e-03,  2.23246927e-04, -2.66335276e-03,\n",
              "          -1.59444977e-02]]], dtype=float32)>,\n",
              " <tf.Tensor: shape=(1, 5), dtype=float32, numpy=\n",
              " array([[-0.01310249, -0.01002163, -0.01480074, -0.0162613 , -0.00320622]],\n",
              "       dtype=float32)>,\n",
              " <tf.Tensor: shape=(1, 5), dtype=float32, numpy=\n",
              " array([[-0.02607962, -0.01996258, -0.02969774, -0.0321192 , -0.00642195]],\n",
              "       dtype=float32)>,\n",
              " <tf.Tensor: shape=(1, 5), dtype=float32, numpy=\n",
              " array([[ 0.00468044,  0.00443027, -0.00226083, -0.00106409, -0.01948485]],\n",
              "       dtype=float32)>,\n",
              " <tf.Tensor: shape=(1, 5), dtype=float32, numpy=\n",
              " array([[ 0.00930022,  0.00885129, -0.00454444, -0.00213444, -0.03916886]],\n",
              "       dtype=float32)>]"
            ]
          },
          "metadata": {},
          "execution_count": 56
        }
      ]
    },
    {
      "cell_type": "markdown",
      "metadata": {
        "id": "AJxyxHyMBLVT"
      },
      "source": [
        "# Bidirectional GRU"
      ]
    },
    {
      "cell_type": "markdown",
      "metadata": {
        "id": "HtKHOhc0BLVh"
      },
      "source": [
        "## return sequence=False, return_state=False"
      ]
    },
    {
      "cell_type": "code",
      "metadata": {
        "id": "FgM-ssTSBLVh"
      },
      "source": [
        "# bi GRU"
      ],
      "execution_count": null,
      "outputs": []
    },
    {
      "cell_type": "code",
      "metadata": {
        "id": "tRbCY61HBLVi"
      },
      "source": [
        "# bi GRU weights"
      ],
      "execution_count": null,
      "outputs": []
    },
    {
      "cell_type": "markdown",
      "metadata": {
        "id": "caCQoTUJBLVi"
      },
      "source": [
        "## return sequence=True, return_state=False"
      ]
    },
    {
      "cell_type": "code",
      "metadata": {
        "id": "iDp3EdgEBLVj"
      },
      "source": [
        "# (return_sequences=True)"
      ],
      "execution_count": null,
      "outputs": []
    },
    {
      "cell_type": "markdown",
      "metadata": {
        "id": "Cvudxy7hBLVj"
      },
      "source": [
        "## return sequence=False, return_state=True"
      ]
    },
    {
      "cell_type": "code",
      "metadata": {
        "id": "17FvtfnTBLVj"
      },
      "source": [
        "# (return_state=True)"
      ],
      "execution_count": null,
      "outputs": []
    },
    {
      "cell_type": "markdown",
      "metadata": {
        "id": "3c_70ASUBLVj"
      },
      "source": [
        "## return sequence=True, return_state=True"
      ]
    },
    {
      "cell_type": "code",
      "metadata": {
        "id": "M2w7NYXxBLVk"
      },
      "source": [
        "# (return_sequences=True, return_state=True)"
      ],
      "execution_count": null,
      "outputs": []
    },
    {
      "cell_type": "markdown",
      "metadata": {
        "id": "WM9iRBglBLVk"
      },
      "source": [
        "## init hidden state"
      ]
    },
    {
      "cell_type": "code",
      "metadata": {
        "id": "nuJ1oKfSBLVk"
      },
      "source": [
        "# bi_gru_11 with fw_h_13, bw_h_13"
      ],
      "execution_count": null,
      "outputs": []
    },
    {
      "cell_type": "code",
      "metadata": {
        "id": "7zwybtdoBLVk"
      },
      "source": [
        "# bi_gru_12 with fw_h_14, bw_h_14"
      ],
      "execution_count": null,
      "outputs": []
    },
    {
      "cell_type": "code",
      "metadata": {
        "id": "5VlLf8ddBLVl"
      },
      "source": [
        "# bi_gru_13 with fw_h_13, bw_h_13"
      ],
      "execution_count": null,
      "outputs": []
    },
    {
      "cell_type": "code",
      "metadata": {
        "id": "L0kqqvsoBLVl"
      },
      "source": [
        "# bi_gru_14 with fw_h_14, bw_h_14"
      ],
      "execution_count": null,
      "outputs": []
    },
    {
      "cell_type": "markdown",
      "metadata": {
        "id": "a3_5IU2yB4Bh"
      },
      "source": [
        "# RNN 모델"
      ]
    },
    {
      "cell_type": "code",
      "metadata": {
        "id": "Syb0abZJBszL"
      },
      "source": [
        "def build_model(n_vocab, d_model, n_seq, n_out):\n",
        "    \"\"\"\n",
        "    RNN 모델\n",
        "    :param n_vocab: vocabulary 단어 수\n",
        "    :param d_model: 단어를 의미하는 벡터의 차원 수\n",
        "    :param n_seq: 문장길이 (단어 수)\n",
        "    :param n_out: 예측할 class 개수\n",
        "    \"\"\"\n",
        "    input = tf.keras.layers.Input(shape=(n_seq,))\n",
        "\n",
        "    embedding = tf.keras.layers.Embedding(n_vocab, d_model)  # (n_vocab x d_model)\n",
        "    hidden = embedding(input)  # (bs, 1, d_model)\n",
        "\n",
        "    ########################################\n",
        "    rnn_1 = tf.keras.layers.Bidirectional(tf.keras.layers.SimpleRNN(units=128, return_sequences=True))\n",
        "    hidden = rnn_1(hidden)  # (bs, 128)\n",
        "    rnn_2 = tf.keras.layers.SimpleRNN(units=128, return_sequences=True)\n",
        "    hidden = rnn_2(hidden)\n",
        "    ########################################\n",
        "\n",
        "    output = tf.keras.layers.Dense(n_out, activation=tf.nn.softmax)(hidden)  # (bs, 1, n_vocab)\n",
        "\n",
        "    model = tf.keras.Model(inputs=input, outputs=output)\n",
        "    return model"
      ],
      "execution_count": 57,
      "outputs": []
    },
    {
      "cell_type": "code",
      "metadata": {
        "id": "WiLrbkH5CEoT",
        "colab": {
          "base_uri": "https://localhost:8080/",
          "height": 533
        },
        "outputId": "e7cda499-c4d5-4924-85b7-fb591dd2611e"
      },
      "source": [
        "# 모델 생성\n",
        "model = build_model(len(word_to_id), 8, 7, 2)\n",
        "# 모델 내용 그래프 출력\n",
        "tf.keras.utils.plot_model(model, 'model.png', show_shapes=True)"
      ],
      "execution_count": 58,
      "outputs": [
        {
          "output_type": "stream",
          "name": "stdout",
          "text": [
            "('Failed to import pydot. You must `pip install pydot` and install graphviz (https://graphviz.gitlab.io/download/), ', 'for `pydotprint` to work.')\n"
          ]
        }
      ]
    },
    {
      "cell_type": "code",
      "metadata": {
        "id": "VFzhTrGbCFmm",
        "colab": {
          "base_uri": "https://localhost:8080/"
        },
        "outputId": "32632143-5a95-4ef0-eb56-b3cdcd3aa07d"
      },
      "source": [
        "model.predict(train_inputs)"
      ],
      "execution_count": 59,
      "outputs": [
        {
          "output_type": "execute_result",
          "data": {
            "text/plain": [
              "array([[[0.5035379 , 0.4964621 ],\n",
              "        [0.5245969 , 0.47540313],\n",
              "        [0.47764194, 0.52235806],\n",
              "        [0.50906247, 0.49093753],\n",
              "        [0.4950456 , 0.50495446],\n",
              "        [0.50214225, 0.49785778],\n",
              "        [0.444639  , 0.55536103]]], dtype=float32)"
            ]
          },
          "metadata": {},
          "execution_count": 59
        }
      ]
    },
    {
      "cell_type": "code",
      "metadata": {
        "id": "Qoo0PJbBGJe4"
      },
      "source": [],
      "execution_count": null,
      "outputs": []
    }
  ]
}