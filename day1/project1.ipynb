{
  "nbformat": 4,
  "nbformat_minor": 0,
  "metadata": {
    "colab": {
      "name": "01-02-simple-project-강의.ipynb",
      "provenance": [],
      "collapsed_sections": []
    },
    "kernelspec": {
      "name": "python3",
      "display_name": "Python 3",
      "language": "python"
    },
    "accelerator": "GPU"
  },
  "cells": [
    {
      "cell_type": "markdown",
      "metadata": {
        "id": "BuaFwJqDVumT"
      },
      "source": [
        "# EVN"
      ]
    },
    {
      "cell_type": "code",
      "metadata": {
        "id": "ODiNPGQ9VwLK"
      },
      "source": [
        "import numpy as np\n",
        "import matplotlib.pyplot as plt\n",
        "import tensorflow as tf "
      ],
      "execution_count": 1,
      "outputs": []
    },
    {
      "cell_type": "markdown",
      "metadata": {
        "id": "sFo_3tAlzneI"
      },
      "source": [
        "# 단어 긍정(2), 중립(1), 부정(0) 분류 프로젝트"
      ]
    },
    {
      "cell_type": "markdown",
      "metadata": {
        "id": "erIr-mg8zneJ"
      },
      "source": [
        "## 데이터"
      ]
    },
    {
      "cell_type": "code",
      "metadata": {
        "id": "KQqU4MBIzneJ"
      },
      "source": [
        "# 입력 문장\n",
        "sentences = [\n",
        "    '나는 오늘 기분이 좋아',\n",
        "    '나는 오늘 우울해'\n",
        "]\n",
        "\n",
        "# 출력 정답\n",
        "labels = [[1, 1, 1, 2],\n",
        "          [1, 1, 0]]  # 긍정(2), 중립(1), 부정(0)\n",
        "\n",
        "# 정답 dic\n",
        "id_to_label = {0: '부정', 1: '중립', 2: '긍정'}\n"
      ],
      "execution_count": 3,
      "outputs": []
    },
    {
      "cell_type": "markdown",
      "metadata": {
        "id": "wS_edoagzneJ"
      },
      "source": [
        "## Vocabulary"
      ]
    },
    {
      "cell_type": "code",
      "metadata": {
        "colab": {
          "base_uri": "https://localhost:8080/"
        },
        "id": "yRhtQJ1lWQB8",
        "outputId": "6593ce5f-f30d-4b93-8e97-6cfd19592193"
      },
      "source": [
        "words = []\r\n",
        "for sentence in sentences:\r\n",
        "  #print(sentence.split())  ->단어 중복됨\r\n",
        "  words.extend(sentence.split())\r\n",
        "words\r\n",
        "\r\n",
        "#중복 단어 제거\r\n",
        "words = list(dict.fromkeys(words))\r\n",
        "words"
      ],
      "execution_count": 4,
      "outputs": [
        {
          "output_type": "execute_result",
          "data": {
            "text/plain": [
              "['나는', '오늘', '기분이', '좋아', '우울해']"
            ]
          },
          "metadata": {},
          "execution_count": 4
        }
      ]
    },
    {
      "cell_type": "code",
      "metadata": {
        "colab": {
          "base_uri": "https://localhost:8080/"
        },
        "id": "ZMixW735W315",
        "outputId": "ec4c33ab-c18a-4240-ef94-a696f55656c1"
      },
      "source": [
        "#각 단어별 고유한 번호 부여\r\n",
        "word_to_id = {'[PAD]' : 0 , '[UNK]' : 1}\r\n",
        "for word in words:\r\n",
        "  word_to_id[word] = len(word_to_id)\r\n",
        "word_to_id"
      ],
      "execution_count": 5,
      "outputs": [
        {
          "output_type": "execute_result",
          "data": {
            "text/plain": [
              "{'[PAD]': 0, '[UNK]': 1, '나는': 2, '오늘': 3, '기분이': 4, '좋아': 5, '우울해': 6}"
            ]
          },
          "metadata": {},
          "execution_count": 5
        }
      ]
    },
    {
      "cell_type": "code",
      "metadata": {
        "colab": {
          "base_uri": "https://localhost:8080/"
        },
        "id": "pjQiPOJnXcxD",
        "outputId": "cec92e82-85be-4940-e72d-04164dd67c72"
      },
      "source": [
        "#각 숫자별 단어 부여\r\n",
        "id_to_word = {_id:word for word, _id in word_to_id.items()}\r\n",
        "id_to_word"
      ],
      "execution_count": 6,
      "outputs": [
        {
          "output_type": "execute_result",
          "data": {
            "text/plain": [
              "{0: '[PAD]', 1: '[UNK]', 2: '나는', 3: '오늘', 4: '기분이', 5: '좋아', 6: '우울해'}"
            ]
          },
          "metadata": {},
          "execution_count": 6
        }
      ]
    },
    {
      "cell_type": "markdown",
      "metadata": {
        "id": "-0Mbb5GWzneK"
      },
      "source": [
        "## 모델 학습용 데이터 생성"
      ]
    },
    {
      "cell_type": "code",
      "metadata": {
        "colab": {
          "base_uri": "https://localhost:8080/"
        },
        "id": "z8nvjzeMYskb",
        "outputId": "07f08cb1-b685-438f-e0fd-510cd669c2d6"
      },
      "source": [
        "#학습용 입력 데이터 생성\r\n",
        "train_inputs = []\r\n",
        "for sentence in sentences:\r\n",
        "  train_inputs.append([word_to_id[word] for word in sentence.split()])\r\n",
        "train_inputs"
      ],
      "execution_count": 7,
      "outputs": [
        {
          "output_type": "execute_result",
          "data": {
            "text/plain": [
              "[[2, 3, 4, 5], [2, 3, 6]]"
            ]
          },
          "metadata": {},
          "execution_count": 7
        }
      ]
    },
    {
      "cell_type": "code",
      "metadata": {
        "colab": {
          "base_uri": "https://localhost:8080/"
        },
        "id": "2rUQwxgaZUWk",
        "outputId": "48a51c9a-1488-4ed9-c7b4-cda10000d79f"
      },
      "source": [
        "#문장의 길이를 모두 동일하게 변경 (최대 길이 4)\r\n",
        "for row in train_inputs:\r\n",
        "  row += [0]*(4-len(row))\r\n",
        "train_inputs"
      ],
      "execution_count": 8,
      "outputs": [
        {
          "output_type": "execute_result",
          "data": {
            "text/plain": [
              "[[2, 3, 4, 5], [2, 3, 6, 0]]"
            ]
          },
          "metadata": {},
          "execution_count": 8
        }
      ]
    },
    {
      "cell_type": "code",
      "metadata": {
        "colab": {
          "base_uri": "https://localhost:8080/"
        },
        "id": "Kv4m7kxyZprJ",
        "outputId": "982c32b3-3d41-4f49-b857-d70dba1d5a23"
      },
      "source": [
        "#train inputs을 numpy array로 변환\r\n",
        "train_inputs = np.array(train_inputs)\r\n",
        "train_inputs.shape\r\n",
        "train_inputs"
      ],
      "execution_count": 9,
      "outputs": [
        {
          "output_type": "execute_result",
          "data": {
            "text/plain": [
              "array([[2, 3, 4, 5],\n",
              "       [2, 3, 6, 0]])"
            ]
          },
          "metadata": {},
          "execution_count": 9
        }
      ]
    },
    {
      "cell_type": "code",
      "metadata": {
        "colab": {
          "base_uri": "https://localhost:8080/"
        },
        "id": "OLFCx4rhaN7U",
        "outputId": "0d92d1a9-e7fb-44d0-d656-3946754540a6"
      },
      "source": [
        "#train_labels 는 labels 그대로 사용\r\n",
        "train_labels = labels\r\n",
        "train_labels"
      ],
      "execution_count": 10,
      "outputs": [
        {
          "output_type": "execute_result",
          "data": {
            "text/plain": [
              "[[1, 1, 1, 2], [1, 1, 0]]"
            ]
          },
          "metadata": {},
          "execution_count": 10
        }
      ]
    },
    {
      "cell_type": "code",
      "metadata": {
        "colab": {
          "base_uri": "https://localhost:8080/"
        },
        "id": "WP1yJXVsaZu3",
        "outputId": "f1b0556a-374d-4ebc-ab25-d2acacf808d1"
      },
      "source": [
        "#정답의 길이를 모두 동일하게 변경 (최대 길이 4)\r\n",
        "for row in train_labels:\r\n",
        "  row += [0]*(4-len(row))\r\n",
        "train_labels"
      ],
      "execution_count": 11,
      "outputs": [
        {
          "output_type": "execute_result",
          "data": {
            "text/plain": [
              "[[1, 1, 1, 2], [1, 1, 0, 0]]"
            ]
          },
          "metadata": {},
          "execution_count": 11
        }
      ]
    },
    {
      "cell_type": "code",
      "metadata": {
        "colab": {
          "base_uri": "https://localhost:8080/"
        },
        "id": "EvibAH7fbatD",
        "outputId": "6824ddec-4652-4356-c544-d1140a0fa922"
      },
      "source": [
        "#train_labels 를 numpy array 로 변환\r\n",
        "train_labels = np.array(train_labels)\r\n",
        "train_labels"
      ],
      "execution_count": 12,
      "outputs": [
        {
          "output_type": "execute_result",
          "data": {
            "text/plain": [
              "array([[1, 1, 1, 2],\n",
              "       [1, 1, 0, 0]])"
            ]
          },
          "metadata": {},
          "execution_count": 12
        }
      ]
    },
    {
      "cell_type": "markdown",
      "metadata": {
        "id": "milX02G6zneK"
      },
      "source": [
        "## 모델링"
      ]
    },
    {
      "cell_type": "code",
      "metadata": {
        "colab": {
          "base_uri": "https://localhost:8080/"
        },
        "id": "gU6L6IpVcV72",
        "outputId": "a9473fa6-8a4b-4db2-fdc5-9c21385e1a04"
      },
      "source": [
        "#입력 단어를 vector 로 변환\n",
        "embedding = tf.keras.layers.Embedding(len(word_to_id),8) #n_vocab, d_model\n",
        "hidden = embedding(train_inputs)\n",
        "hidden.shape  #[2,4] -> [2,4,8] 2개의 문장 4개의 단어 8개의 벡터\n",
        "hidden\n"
      ],
      "execution_count": 13,
      "outputs": [
        {
          "output_type": "execute_result",
          "data": {
            "text/plain": [
              "<tf.Tensor: shape=(2, 4, 8), dtype=float32, numpy=\n",
              "array([[[ 0.04284133, -0.02876711, -0.00163866,  0.03330027,\n",
              "          0.02337365, -0.0269662 ,  0.03933139, -0.04309992],\n",
              "        [ 0.00149342, -0.00417253, -0.01605514, -0.02321813,\n",
              "         -0.03963493,  0.03614226, -0.01307565, -0.00721397],\n",
              "        [ 0.01542466, -0.02542632,  0.01366394, -0.0437231 ,\n",
              "         -0.02262963, -0.02166047, -0.03564167,  0.03728526],\n",
              "        [-0.02978122, -0.04857594,  0.03387824, -0.04405332,\n",
              "          0.04253738, -0.01814602,  0.01797739, -0.00856046]],\n",
              "\n",
              "       [[ 0.04284133, -0.02876711, -0.00163866,  0.03330027,\n",
              "          0.02337365, -0.0269662 ,  0.03933139, -0.04309992],\n",
              "        [ 0.00149342, -0.00417253, -0.01605514, -0.02321813,\n",
              "         -0.03963493,  0.03614226, -0.01307565, -0.00721397],\n",
              "        [-0.02662399,  0.04946632,  0.03242302, -0.04461578,\n",
              "          0.02674143, -0.04453809,  0.00550575, -0.04626625],\n",
              "        [ 0.03240485, -0.01853127, -0.01492356,  0.02773939,\n",
              "          0.00410317,  0.01065719, -0.0175541 , -0.00804325]]],\n",
              "      dtype=float32)>"
            ]
          },
          "metadata": {},
          "execution_count": 13
        }
      ]
    },
    {
      "cell_type": "code",
      "metadata": {
        "colab": {
          "base_uri": "https://localhost:8080/"
        },
        "id": "SROj7jd6dCy-",
        "outputId": "d4127d73-dfe7-4432-f7a1-3ca091cb017d"
      },
      "source": [
        "#단어의 vector를 이용해서 긍정,부정,중립 확률값 예측\r\n",
        "linear = tf.keras.layers.Dense(3, activation=tf.nn.softmax)\r\n",
        "outputs = linear(hidden)\r\n",
        "outputs"
      ],
      "execution_count": 14,
      "outputs": [
        {
          "output_type": "execute_result",
          "data": {
            "text/plain": [
              "<tf.Tensor: shape=(2, 4, 3), dtype=float32, numpy=\n",
              "array([[[0.35309497, 0.33300892, 0.3138961 ],\n",
              "        [0.31872532, 0.34578976, 0.33548495],\n",
              "        [0.3296053 , 0.33526137, 0.3351333 ],\n",
              "        [0.34787038, 0.32946715, 0.32266244]],\n",
              "\n",
              "       [[0.35309497, 0.33300892, 0.3138961 ],\n",
              "        [0.31872532, 0.34578976, 0.33548495],\n",
              "        [0.34833375, 0.31502986, 0.33663645],\n",
              "        [0.33087674, 0.34070322, 0.32842004]]], dtype=float32)>"
            ]
          },
          "metadata": {},
          "execution_count": 14
        }
      ]
    },
    {
      "cell_type": "code",
      "metadata": {
        "colab": {
          "base_uri": "https://localhost:8080/"
        },
        "id": "CuqBo7BjfT9Q",
        "outputId": "c4678f14-3ebb-4317-e12a-1ecb650ba2ed"
      },
      "source": [
        "#단어의 vector를 이용해서 긍정,부정,중립 확률값 예측\r\n",
        "linear_2 = tf.keras.layers.Dense(3)\r\n",
        "logits = linear_2(hidden)\r\n",
        "logits"
      ],
      "execution_count": 15,
      "outputs": [
        {
          "output_type": "execute_result",
          "data": {
            "text/plain": [
              "<tf.Tensor: shape=(2, 4, 3), dtype=float32, numpy=\n",
              "array([[[ 0.01610089,  0.00811118, -0.00184337],\n",
              "        [ 0.0066236 ,  0.02214439, -0.05437662],\n",
              "        [ 0.01430304,  0.05302685,  0.02138903],\n",
              "        [ 0.01652439,  0.01000705,  0.08214334]],\n",
              "\n",
              "       [[ 0.01610089,  0.00811118, -0.00184337],\n",
              "        [ 0.0066236 ,  0.02214439, -0.05437662],\n",
              "        [ 0.03089322,  0.00058984,  0.02794337],\n",
              "        [-0.00242847, -0.01318137, -0.03467439]]], dtype=float32)>"
            ]
          },
          "metadata": {},
          "execution_count": 15
        }
      ]
    },
    {
      "cell_type": "code",
      "metadata": {
        "colab": {
          "base_uri": "https://localhost:8080/"
        },
        "id": "Y4QG3B12fjHn",
        "outputId": "99a01ede-8286-45b2-f54c-923471284f24"
      },
      "source": [
        "#softmax 계산을 위한 준비 exp(x')/ sum(exp(x))\n",
        "numerator = np.exp(logits)\n",
        "denominator = np.sum(numerator, axis=2, keepdims = True)\n",
        "numerator, denominator"
      ],
      "execution_count": 16,
      "outputs": [
        {
          "output_type": "execute_result",
          "data": {
            "text/plain": [
              "(array([[[1.0162312 , 1.0081441 , 0.99815834],\n",
              "         [1.0066456 , 1.0223914 , 0.94707537],\n",
              "         [1.0144058 , 1.0544579 , 1.0216194 ],\n",
              "         [1.0166616 , 1.0100573 , 1.0856115 ]],\n",
              " \n",
              "        [[1.0162312 , 1.0081441 , 0.99815834],\n",
              "         [1.0066456 , 1.0223914 , 0.94707537],\n",
              "         [1.0313754 , 1.00059   , 1.0283375 ],\n",
              "         [0.99757445, 0.9869051 , 0.96591985]]], dtype=float32),\n",
              " array([[[3.022534 ],\n",
              "         [2.9761124],\n",
              "         [3.0904832],\n",
              "         [3.1123304]],\n",
              " \n",
              "        [[3.022534 ],\n",
              "         [2.9761124],\n",
              "         [3.0603027],\n",
              "         [2.9503994]]], dtype=float32))"
            ]
          },
          "metadata": {},
          "execution_count": 16
        }
      ]
    },
    {
      "cell_type": "code",
      "metadata": {
        "colab": {
          "base_uri": "https://localhost:8080/"
        },
        "id": "2Q0EMajsf6sF",
        "outputId": "72f7a498-cb46-4875-b0d7-12518541c8b6"
      },
      "source": [
        "#두 결과값 비교\r\n",
        "probs = numerator / denominator\r\n",
        "probs"
      ],
      "execution_count": 17,
      "outputs": [
        {
          "output_type": "execute_result",
          "data": {
            "text/plain": [
              "array([[[0.3362183 , 0.3335427 , 0.3302389 ],\n",
              "        [0.3382418 , 0.34353253, 0.31822568],\n",
              "        [0.32823536, 0.34119517, 0.33056948],\n",
              "        [0.32665607, 0.3245341 , 0.34880984]],\n",
              "\n",
              "       [[0.3362183 , 0.3335427 , 0.3302389 ],\n",
              "        [0.3382418 , 0.34353253, 0.31822568],\n",
              "        [0.33701745, 0.32695785, 0.33602476],\n",
              "        [0.33811507, 0.33449882, 0.32738614]]], dtype=float32)"
            ]
          },
          "metadata": {},
          "execution_count": 17
        }
      ]
    },
    {
      "cell_type": "code",
      "metadata": {
        "colab": {
          "base_uri": "https://localhost:8080/"
        },
        "id": "yTqXIs77gJ71",
        "outputId": "98646c9b-640b-43f5-c130-753bf03213a7"
      },
      "source": [
        "#dense 의 weight, bias\r\n",
        "weight, bias = linear_2.get_weights()\r\n",
        "weight, bias"
      ],
      "execution_count": 18,
      "outputs": [
        {
          "output_type": "execute_result",
          "data": {
            "text/plain": [
              "(array([[ 0.51068157,  0.38602406, -0.5540943 ],\n",
              "        [ 0.11337417, -0.23633122, -0.34862953],\n",
              "        [ 0.06252736, -0.1160447 ,  0.5583921 ],\n",
              "        [-0.5637511 , -0.6283983 , -0.00735343],\n",
              "        [ 0.15528232, -0.6299964 ,  0.42939287],\n",
              "        [ 0.03157341, -0.42239594, -0.5765226 ],\n",
              "        [ 0.15316945,  0.35890192,  0.318016  ],\n",
              "        [-0.17533964,  0.12229019,  0.5815678 ]], dtype=float32),\n",
              " array([0., 0., 0.], dtype=float32))"
            ]
          },
          "metadata": {},
          "execution_count": 18
        }
      ]
    },
    {
      "cell_type": "code",
      "metadata": {
        "colab": {
          "base_uri": "https://localhost:8080/"
        },
        "id": "fsyg3B-Ygj9l",
        "outputId": "3eff014b-5957-459c-de54-d4541dcce16c"
      },
      "source": [
        "#numpy를 이용한 Wx + b\r\n",
        "logits = np.matmul(hidden, weight) + bias\r\n",
        "logits"
      ],
      "execution_count": 19,
      "outputs": [
        {
          "output_type": "execute_result",
          "data": {
            "text/plain": [
              "array([[[ 0.01610089,  0.00811118, -0.00184337],\n",
              "        [ 0.0066236 ,  0.02214439, -0.05437662],\n",
              "        [ 0.01430304,  0.05302685,  0.02138903],\n",
              "        [ 0.01652439,  0.01000705,  0.08214334]],\n",
              "\n",
              "       [[ 0.01610089,  0.00811118, -0.00184337],\n",
              "        [ 0.0066236 ,  0.02214439, -0.05437662],\n",
              "        [ 0.03089322,  0.00058984,  0.02794337],\n",
              "        [-0.00242847, -0.01318137, -0.03467439]]], dtype=float32)"
            ]
          },
          "metadata": {},
          "execution_count": 19
        }
      ]
    },
    {
      "cell_type": "code",
      "metadata": {
        "id": "RpAodDoXaFUp"
      },
      "source": [
        "def build_model(n_vocab, d_model, n_seq, n_out):\r\n",
        "  \"\"\"\r\n",
        "  동작만 하는 간단한 모델\r\n",
        "  :n_vocab : vocabulary 단어 수\r\n",
        "  :d_model : 단어를 의미하는 벡터의 차원 수\r\n",
        "  :n_seq : 문장길이(단어 수)\r\n",
        "  :n_out : 예측할 class 개수\r\n",
        "  \"\"\"\r\n",
        "  inputs = tf.keras.layers.Input((n_seq,))\r\n",
        "\r\n",
        "  #입력 단어를 vector로 변환\r\n",
        "  embedding = tf.keras.layers.Embedding(n_vocab, d_model)\r\n",
        "  hidden = embedding(inputs)\r\n",
        "  #단어의 vector를 이용해서 정답 확률값 예측\r\n",
        "  linear = tf.keras.layers.Dense(n_out, activation=tf.nn.softmax)\r\n",
        "  outputs = linear(hidden)\r\n",
        "  #학습할 모델 선언\r\n",
        "  model = tf.keras.Model(inputs = inputs, outputs = outputs)\r\n",
        "  return model"
      ],
      "execution_count": null,
      "outputs": []
    },
    {
      "cell_type": "code",
      "metadata": {
        "colab": {
          "base_uri": "https://localhost:8080/",
          "height": 312
        },
        "id": "8lHgAWbGaQ2-",
        "outputId": "3aa73b2c-40be-48ed-be9c-f9b5a9b09c1e"
      },
      "source": [
        "#모델 생성\r\n",
        "model = build_model(len(word_to_id),8,4,3)\r\n",
        "#모델 내용 그래프 출력\r\n",
        "tf.keras.utils.plot_model(model, 'model.png',show_shapes = True)"
      ],
      "execution_count": 41,
      "outputs": [
        {
          "output_type": "execute_result",
          "data": {
            "image/png": "[encoded data removed]",
            "text/plain": [
              "<IPython.core.display.Image object>"
            ]
          },
          "metadata": {
            "tags": []
          },
          "execution_count": 41
        }
      ]
    },
    {
      "cell_type": "code",
      "metadata": {
        "id": "JOuWaPGBtlh0"
      },
      "source": [
        "#jupyter 환경 아닐 때\r\n",
        "model.summary()"
      ],
      "execution_count": null,
      "outputs": []
    },
    {
      "cell_type": "markdown",
      "metadata": {
        "id": "DhXN7DHvlEpp"
      },
      "source": [
        "## 학습"
      ]
    },
    {
      "cell_type": "code",
      "metadata": {
        "id": "xPLzydjekGc7"
      },
      "source": [
        "#모델 loss,optimizer,metric 정의\r\n",
        "model.compile(loss='sparse_categorical_crossentropy', optimizer = 'adam', metrics = ['accuracy'])"
      ],
      "execution_count": 30,
      "outputs": []
    },
    {
      "cell_type": "code",
      "metadata": {
        "colab": {
          "base_uri": "https://localhost:8080/"
        },
        "id": "bDDr3byWlBeg",
        "outputId": "1b0f2a61-891f-4a86-fbf5-0ae5da966901"
      },
      "source": [
        "#모델 학습\r\n",
        "history = model.fit(train_inputs, train_labels, epochs=100, batch_size = 16)"
      ],
      "execution_count": 31,
      "outputs": [
        {
          "output_type": "stream",
          "text": [
            "Epoch 1/100\n",
            "1/1 [==============================] - 1s 584ms/step - loss: 1.1041 - accuracy: 0.3750\n",
            "Epoch 2/100\n",
            "1/1 [==============================] - 0s 5ms/step - loss: 1.1017 - accuracy: 0.3750\n",
            "Epoch 3/100\n",
            "1/1 [==============================] - 0s 5ms/step - loss: 1.0993 - accuracy: 0.3750\n",
            "Epoch 4/100\n",
            "1/1 [==============================] - 0s 7ms/step - loss: 1.0968 - accuracy: 0.3750\n",
            "Epoch 5/100\n",
            "1/1 [==============================] - 0s 6ms/step - loss: 1.0944 - accuracy: 0.5000\n",
            "Epoch 6/100\n",
            "1/1 [==============================] - 0s 4ms/step - loss: 1.0920 - accuracy: 0.5000\n",
            "Epoch 7/100\n",
            "1/1 [==============================] - 0s 3ms/step - loss: 1.0896 - accuracy: 0.5000\n",
            "Epoch 8/100\n",
            "1/1 [==============================] - 0s 7ms/step - loss: 1.0872 - accuracy: 0.7500\n",
            "Epoch 9/100\n",
            "1/1 [==============================] - 0s 4ms/step - loss: 1.0848 - accuracy: 0.7500\n",
            "Epoch 10/100\n",
            "1/1 [==============================] - 0s 5ms/step - loss: 1.0824 - accuracy: 0.7500\n",
            "Epoch 11/100\n",
            "1/1 [==============================] - 0s 6ms/step - loss: 1.0800 - accuracy: 0.7500\n",
            "Epoch 12/100\n",
            "1/1 [==============================] - 0s 4ms/step - loss: 1.0776 - accuracy: 0.7500\n",
            "Epoch 13/100\n",
            "1/1 [==============================] - 0s 4ms/step - loss: 1.0752 - accuracy: 0.7500\n",
            "Epoch 14/100\n",
            "1/1 [==============================] - 0s 5ms/step - loss: 1.0728 - accuracy: 0.7500\n",
            "Epoch 15/100\n",
            "1/1 [==============================] - 0s 6ms/step - loss: 1.0704 - accuracy: 0.7500\n",
            "Epoch 16/100\n",
            "1/1 [==============================] - 0s 4ms/step - loss: 1.0680 - accuracy: 0.7500\n",
            "Epoch 17/100\n",
            "1/1 [==============================] - 0s 6ms/step - loss: 1.0656 - accuracy: 0.7500\n",
            "Epoch 18/100\n",
            "1/1 [==============================] - 0s 6ms/step - loss: 1.0631 - accuracy: 0.7500\n",
            "Epoch 19/100\n",
            "1/1 [==============================] - 0s 6ms/step - loss: 1.0607 - accuracy: 0.7500\n",
            "Epoch 20/100\n",
            "1/1 [==============================] - 0s 6ms/step - loss: 1.0582 - accuracy: 0.7500\n",
            "Epoch 21/100\n",
            "1/1 [==============================] - 0s 5ms/step - loss: 1.0558 - accuracy: 0.7500\n",
            "Epoch 22/100\n",
            "1/1 [==============================] - 0s 6ms/step - loss: 1.0533 - accuracy: 0.7500\n",
            "Epoch 23/100\n",
            "1/1 [==============================] - 0s 5ms/step - loss: 1.0509 - accuracy: 0.7500\n",
            "Epoch 24/100\n",
            "1/1 [==============================] - 0s 5ms/step - loss: 1.0484 - accuracy: 0.7500\n",
            "Epoch 25/100\n",
            "1/1 [==============================] - 0s 4ms/step - loss: 1.0459 - accuracy: 0.7500\n",
            "Epoch 26/100\n",
            "1/1 [==============================] - 0s 6ms/step - loss: 1.0434 - accuracy: 0.7500\n",
            "Epoch 27/100\n",
            "1/1 [==============================] - 0s 5ms/step - loss: 1.0409 - accuracy: 0.7500\n",
            "Epoch 28/100\n",
            "1/1 [==============================] - 0s 6ms/step - loss: 1.0383 - accuracy: 0.7500\n",
            "Epoch 29/100\n",
            "1/1 [==============================] - 0s 7ms/step - loss: 1.0358 - accuracy: 0.7500\n",
            "Epoch 30/100\n",
            "1/1 [==============================] - 0s 7ms/step - loss: 1.0333 - accuracy: 0.7500\n",
            "Epoch 31/100\n",
            "1/1 [==============================] - 0s 6ms/step - loss: 1.0307 - accuracy: 0.7500\n",
            "Epoch 32/100\n",
            "1/1 [==============================] - 0s 9ms/step - loss: 1.0281 - accuracy: 0.7500\n",
            "Epoch 33/100\n",
            "1/1 [==============================] - 0s 7ms/step - loss: 1.0255 - accuracy: 0.7500\n",
            "Epoch 34/100\n",
            "1/1 [==============================] - 0s 5ms/step - loss: 1.0229 - accuracy: 0.7500\n",
            "Epoch 35/100\n",
            "1/1 [==============================] - 0s 6ms/step - loss: 1.0203 - accuracy: 0.7500\n",
            "Epoch 36/100\n",
            "1/1 [==============================] - 0s 6ms/step - loss: 1.0177 - accuracy: 0.7500\n",
            "Epoch 37/100\n",
            "1/1 [==============================] - 0s 8ms/step - loss: 1.0150 - accuracy: 0.7500\n",
            "Epoch 38/100\n",
            "1/1 [==============================] - 0s 8ms/step - loss: 1.0124 - accuracy: 0.7500\n",
            "Epoch 39/100\n",
            "1/1 [==============================] - 0s 8ms/step - loss: 1.0097 - accuracy: 0.7500\n",
            "Epoch 40/100\n",
            "1/1 [==============================] - 0s 7ms/step - loss: 1.0070 - accuracy: 0.7500\n",
            "Epoch 41/100\n",
            "1/1 [==============================] - 0s 7ms/step - loss: 1.0043 - accuracy: 0.7500\n",
            "Epoch 42/100\n",
            "1/1 [==============================] - 0s 7ms/step - loss: 1.0016 - accuracy: 0.7500\n",
            "Epoch 43/100\n",
            "1/1 [==============================] - 0s 7ms/step - loss: 0.9988 - accuracy: 0.7500\n",
            "Epoch 44/100\n",
            "1/1 [==============================] - 0s 7ms/step - loss: 0.9961 - accuracy: 0.7500\n",
            "Epoch 45/100\n",
            "1/1 [==============================] - 0s 7ms/step - loss: 0.9933 - accuracy: 0.8750\n",
            "Epoch 46/100\n",
            "1/1 [==============================] - 0s 7ms/step - loss: 0.9905 - accuracy: 0.8750\n",
            "Epoch 47/100\n",
            "1/1 [==============================] - 0s 6ms/step - loss: 0.9876 - accuracy: 0.8750\n",
            "Epoch 48/100\n",
            "1/1 [==============================] - 0s 8ms/step - loss: 0.9848 - accuracy: 0.8750\n",
            "Epoch 49/100\n",
            "1/1 [==============================] - 0s 6ms/step - loss: 0.9820 - accuracy: 0.8750\n",
            "Epoch 50/100\n",
            "1/1 [==============================] - 0s 7ms/step - loss: 0.9791 - accuracy: 0.8750\n",
            "Epoch 51/100\n",
            "1/1 [==============================] - 0s 7ms/step - loss: 0.9762 - accuracy: 0.8750\n",
            "Epoch 52/100\n",
            "1/1 [==============================] - 0s 8ms/step - loss: 0.9733 - accuracy: 0.8750\n",
            "Epoch 53/100\n",
            "1/1 [==============================] - 0s 15ms/step - loss: 0.9704 - accuracy: 0.8750\n",
            "Epoch 54/100\n",
            "1/1 [==============================] - 0s 9ms/step - loss: 0.9674 - accuracy: 0.8750\n",
            "Epoch 55/100\n",
            "1/1 [==============================] - 0s 4ms/step - loss: 0.9644 - accuracy: 0.8750\n",
            "Epoch 56/100\n",
            "1/1 [==============================] - 0s 8ms/step - loss: 0.9615 - accuracy: 0.8750\n",
            "Epoch 57/100\n",
            "1/1 [==============================] - 0s 10ms/step - loss: 0.9585 - accuracy: 0.8750\n",
            "Epoch 58/100\n",
            "1/1 [==============================] - 0s 10ms/step - loss: 0.9554 - accuracy: 0.8750\n",
            "Epoch 59/100\n",
            "1/1 [==============================] - 0s 8ms/step - loss: 0.9524 - accuracy: 0.8750\n",
            "Epoch 60/100\n",
            "1/1 [==============================] - 0s 7ms/step - loss: 0.9493 - accuracy: 0.8750\n",
            "Epoch 61/100\n",
            "1/1 [==============================] - 0s 5ms/step - loss: 0.9463 - accuracy: 0.8750\n",
            "Epoch 62/100\n",
            "1/1 [==============================] - 0s 7ms/step - loss: 0.9432 - accuracy: 0.8750\n",
            "Epoch 63/100\n",
            "1/1 [==============================] - 0s 10ms/step - loss: 0.9401 - accuracy: 0.8750\n",
            "Epoch 64/100\n",
            "1/1 [==============================] - 0s 4ms/step - loss: 0.9369 - accuracy: 0.8750\n",
            "Epoch 65/100\n",
            "1/1 [==============================] - 0s 4ms/step - loss: 0.9338 - accuracy: 0.8750\n",
            "Epoch 66/100\n",
            "1/1 [==============================] - 0s 7ms/step - loss: 0.9306 - accuracy: 0.8750\n",
            "Epoch 67/100\n",
            "1/1 [==============================] - 0s 6ms/step - loss: 0.9275 - accuracy: 0.8750\n",
            "Epoch 68/100\n",
            "1/1 [==============================] - 0s 5ms/step - loss: 0.9243 - accuracy: 0.8750\n",
            "Epoch 69/100\n",
            "1/1 [==============================] - 0s 6ms/step - loss: 0.9211 - accuracy: 0.8750\n",
            "Epoch 70/100\n",
            "1/1 [==============================] - 0s 11ms/step - loss: 0.9178 - accuracy: 0.8750\n",
            "Epoch 71/100\n",
            "1/1 [==============================] - 0s 8ms/step - loss: 0.9146 - accuracy: 0.8750\n",
            "Epoch 72/100\n",
            "1/1 [==============================] - 0s 7ms/step - loss: 0.9113 - accuracy: 1.0000\n",
            "Epoch 73/100\n",
            "1/1 [==============================] - 0s 7ms/step - loss: 0.9080 - accuracy: 1.0000\n",
            "Epoch 74/100\n",
            "1/1 [==============================] - 0s 9ms/step - loss: 0.9047 - accuracy: 1.0000\n",
            "Epoch 75/100\n",
            "1/1 [==============================] - 0s 7ms/step - loss: 0.9014 - accuracy: 1.0000\n",
            "Epoch 76/100\n",
            "1/1 [==============================] - 0s 8ms/step - loss: 0.8981 - accuracy: 1.0000\n",
            "Epoch 77/100\n",
            "1/1 [==============================] - 0s 8ms/step - loss: 0.8948 - accuracy: 1.0000\n",
            "Epoch 78/100\n",
            "1/1 [==============================] - 0s 6ms/step - loss: 0.8914 - accuracy: 1.0000\n",
            "Epoch 79/100\n",
            "1/1 [==============================] - 0s 10ms/step - loss: 0.8881 - accuracy: 1.0000\n",
            "Epoch 80/100\n",
            "1/1 [==============================] - 0s 6ms/step - loss: 0.8847 - accuracy: 1.0000\n",
            "Epoch 81/100\n",
            "1/1 [==============================] - 0s 10ms/step - loss: 0.8813 - accuracy: 1.0000\n",
            "Epoch 82/100\n",
            "1/1 [==============================] - 0s 8ms/step - loss: 0.8779 - accuracy: 1.0000\n",
            "Epoch 83/100\n",
            "1/1 [==============================] - 0s 8ms/step - loss: 0.8744 - accuracy: 1.0000\n",
            "Epoch 84/100\n",
            "1/1 [==============================] - 0s 7ms/step - loss: 0.8710 - accuracy: 1.0000\n",
            "Epoch 85/100\n",
            "1/1 [==============================] - 0s 10ms/step - loss: 0.8676 - accuracy: 1.0000\n",
            "Epoch 86/100\n",
            "1/1 [==============================] - 0s 7ms/step - loss: 0.8641 - accuracy: 1.0000\n",
            "Epoch 87/100\n",
            "1/1 [==============================] - 0s 8ms/step - loss: 0.8606 - accuracy: 1.0000\n",
            "Epoch 88/100\n",
            "1/1 [==============================] - 0s 6ms/step - loss: 0.8571 - accuracy: 1.0000\n",
            "Epoch 89/100\n",
            "1/1 [==============================] - 0s 7ms/step - loss: 0.8536 - accuracy: 1.0000\n",
            "Epoch 90/100\n",
            "1/1 [==============================] - 0s 8ms/step - loss: 0.8501 - accuracy: 1.0000\n",
            "Epoch 91/100\n",
            "1/1 [==============================] - 0s 5ms/step - loss: 0.8466 - accuracy: 1.0000\n",
            "Epoch 92/100\n",
            "1/1 [==============================] - 0s 6ms/step - loss: 0.8431 - accuracy: 1.0000\n",
            "Epoch 93/100\n",
            "1/1 [==============================] - 0s 5ms/step - loss: 0.8395 - accuracy: 1.0000\n",
            "Epoch 94/100\n",
            "1/1 [==============================] - 0s 7ms/step - loss: 0.8360 - accuracy: 1.0000\n",
            "Epoch 95/100\n",
            "1/1 [==============================] - 0s 7ms/step - loss: 0.8324 - accuracy: 1.0000\n",
            "Epoch 96/100\n",
            "1/1 [==============================] - 0s 6ms/step - loss: 0.8289 - accuracy: 1.0000\n",
            "Epoch 97/100\n",
            "1/1 [==============================] - 0s 7ms/step - loss: 0.8253 - accuracy: 1.0000\n",
            "Epoch 98/100\n",
            "1/1 [==============================] - 0s 7ms/step - loss: 0.8217 - accuracy: 1.0000\n",
            "Epoch 99/100\n",
            "1/1 [==============================] - 0s 14ms/step - loss: 0.8181 - accuracy: 1.0000\n",
            "Epoch 100/100\n",
            "1/1 [==============================] - 0s 6ms/step - loss: 0.8145 - accuracy: 1.0000\n"
          ],
          "name": "stdout"
        }
      ]
    },
    {
      "cell_type": "markdown",
      "metadata": {
        "id": "hjSlRk99zneL"
      },
      "source": [
        "## 평가"
      ]
    },
    {
      "cell_type": "code",
      "metadata": {
        "colab": {
          "base_uri": "https://localhost:8080/"
        },
        "id": "2Ir0_0rgnNyv",
        "outputId": "f79f9462-4325-439e-fbb0-c2d307677f30"
      },
      "source": [
        "#모델 평가\r\n",
        "model.evaluate(train_inputs, train_labels)"
      ],
      "execution_count": 33,
      "outputs": [
        {
          "output_type": "stream",
          "text": [
            "1/1 [==============================] - 0s 14ms/step - loss: 0.8109 - accuracy: 1.0000\n"
          ],
          "name": "stdout"
        },
        {
          "output_type": "execute_result",
          "data": {
            "text/plain": [
              "[0.8108717203140259, 1.0]"
            ]
          },
          "metadata": {
            "tags": []
          },
          "execution_count": 33
        }
      ]
    },
    {
      "cell_type": "markdown",
      "metadata": {
        "id": "XpcISJ_ozneL"
      },
      "source": [
        "## 예측"
      ]
    },
    {
      "cell_type": "code",
      "metadata": {
        "id": "gAP_78gBoltE"
      },
      "source": [
        "#추론할 입력\r\n",
        "string = '나는 기분이 우울해'"
      ],
      "execution_count": 34,
      "outputs": []
    },
    {
      "cell_type": "code",
      "metadata": {
        "colab": {
          "base_uri": "https://localhost:8080/"
        },
        "id": "L5yl5Z6kos0Y",
        "outputId": "7a0afe10-bd16-4d0a-83cb-97a8f8e60319"
      },
      "source": [
        "#입력을 숫자로 변경\r\n",
        "infer_input = [word_to_id[word] for word in string.split()]\r\n",
        "infer_input"
      ],
      "execution_count": 35,
      "outputs": [
        {
          "output_type": "execute_result",
          "data": {
            "text/plain": [
              "[2, 4, 6]"
            ]
          },
          "metadata": {
            "tags": []
          },
          "execution_count": 35
        }
      ]
    },
    {
      "cell_type": "code",
      "metadata": {
        "colab": {
          "base_uri": "https://localhost:8080/"
        },
        "id": "r-W3I2jEo7_O",
        "outputId": "a87e3a96-2c30-4809-93e8-79e4057f5f7b"
      },
      "source": [
        "#문장의 길이를 모두 동일하게 변경 (최대 4)\r\n",
        "infer_input += [0]*(4-len(infer_input))\r\n",
        "infer_input"
      ],
      "execution_count": 36,
      "outputs": [
        {
          "output_type": "execute_result",
          "data": {
            "text/plain": [
              "[2, 4, 6, 0]"
            ]
          },
          "metadata": {
            "tags": []
          },
          "execution_count": 36
        }
      ]
    },
    {
      "cell_type": "code",
      "metadata": {
        "colab": {
          "base_uri": "https://localhost:8080/"
        },
        "id": "TYB5zU9rorZ-",
        "outputId": "195b2bfc-c1ef-438e-ae34-cafd154c1d68"
      },
      "source": [
        "#numpy array 로 변환\r\n",
        "infer_input = np.array([infer_input])\r\n",
        "infer_input"
      ],
      "execution_count": 37,
      "outputs": [
        {
          "output_type": "execute_result",
          "data": {
            "text/plain": [
              "array([[2, 4, 6, 0]])"
            ]
          },
          "metadata": {
            "tags": []
          },
          "execution_count": 37
        }
      ]
    },
    {
      "cell_type": "code",
      "metadata": {
        "colab": {
          "base_uri": "https://localhost:8080/"
        },
        "id": "DNXxhXocpc6w",
        "outputId": "1cf23aff-b62e-4950-c424-970319c1bbf1"
      },
      "source": [
        "#긍정/부정 추론\r\n",
        "y_preds = model.predict(infer_input)\r\n",
        "y_preds"
      ],
      "execution_count": 38,
      "outputs": [
        {
          "output_type": "execute_result",
          "data": {
            "text/plain": [
              "array([[[0.2670668 , 0.49976307, 0.23317015],\n",
              "        [0.26543173, 0.49701488, 0.23755345],\n",
              "        [0.38678983, 0.31532747, 0.29788277],\n",
              "        [0.36712304, 0.33031213, 0.30256486]]], dtype=float32)"
            ]
          },
          "metadata": {
            "tags": []
          },
          "execution_count": 38
        }
      ]
    },
    {
      "cell_type": "code",
      "metadata": {
        "colab": {
          "base_uri": "https://localhost:8080/"
        },
        "id": "WN5H5BB3pjWz",
        "outputId": "46dabd37-6a11-4efd-9bd9-6591ce621469"
      },
      "source": [
        "#확률의 max 값을 추론 값으로 변경\r\n",
        "y_pred_class = np.argmax(y_preds, axis=2)\r\n",
        "y_pred_class"
      ],
      "execution_count": 39,
      "outputs": [
        {
          "output_type": "execute_result",
          "data": {
            "text/plain": [
              "array([[1, 1, 0, 0]])"
            ]
          },
          "metadata": {
            "tags": []
          },
          "execution_count": 39
        }
      ]
    },
    {
      "cell_type": "code",
      "metadata": {
        "id": "_GI2yzYjsoHC"
      },
      "source": [],
      "execution_count": null,
      "outputs": []
    }
  ]
}