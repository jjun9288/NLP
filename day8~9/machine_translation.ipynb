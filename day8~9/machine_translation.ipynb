{
  "nbformat": 4,
  "nbformat_minor": 0,
  "metadata": {
    "accelerator": "GPU",
    "colab": {
      "name": "08-01-machine-translation-강의 (1).ipynb",
      "provenance": [],
      "collapsed_sections": [
        "3myBX8hNEH1u",
        "AWDVrDn9nGPj",
        "t3btqUHNnGPk",
        "iI6jGGdInGPo",
        "_cDtY-CgnGPp"
      ]
    },
    "kernelspec": {
      "display_name": "Python 3",
      "name": "python3"
    },
    "widgets": {
      "application/vnd.jupyter.widget-state+json": {
        "6b0fe7faca8d4f3dbf442ea9d7f1232c": {
          "model_module": "@jupyter-widgets/controls",
          "model_name": "HBoxModel",
          "state": {
            "_view_name": "HBoxView",
            "_dom_classes": [],
            "_model_name": "HBoxModel",
            "_view_module": "@jupyter-widgets/controls",
            "_model_module_version": "1.5.0",
            "_view_count": null,
            "_view_module_version": "1.5.0",
            "box_style": "",
            "layout": "IPY_MODEL_75556a49194746099224f43b09af4e1d",
            "_model_module": "@jupyter-widgets/controls",
            "children": [
              "IPY_MODEL_97a93d367206439bb39a811fa0d040ee",
              "IPY_MODEL_9ca060a3bcfd4a44833ddfb89cc4ad31"
            ]
          }
        },
        "75556a49194746099224f43b09af4e1d": {
          "model_module": "@jupyter-widgets/base",
          "model_name": "LayoutModel",
          "state": {
            "_view_name": "LayoutView",
            "grid_template_rows": null,
            "right": null,
            "justify_content": null,
            "_view_module": "@jupyter-widgets/base",
            "overflow": null,
            "_model_module_version": "1.2.0",
            "_view_count": null,
            "flex_flow": null,
            "width": null,
            "min_width": null,
            "border": null,
            "align_items": null,
            "bottom": null,
            "_model_module": "@jupyter-widgets/base",
            "top": null,
            "grid_column": null,
            "overflow_y": null,
            "overflow_x": null,
            "grid_auto_flow": null,
            "grid_area": null,
            "grid_template_columns": null,
            "flex": null,
            "_model_name": "LayoutModel",
            "justify_items": null,
            "grid_row": null,
            "max_height": null,
            "align_content": null,
            "visibility": null,
            "align_self": null,
            "height": null,
            "min_height": null,
            "padding": null,
            "grid_auto_rows": null,
            "grid_gap": null,
            "max_width": null,
            "order": null,
            "_view_module_version": "1.2.0",
            "grid_template_areas": null,
            "object_position": null,
            "object_fit": null,
            "grid_auto_columns": null,
            "margin": null,
            "display": null,
            "left": null
          }
        },
        "97a93d367206439bb39a811fa0d040ee": {
          "model_module": "@jupyter-widgets/controls",
          "model_name": "FloatProgressModel",
          "state": {
            "_view_name": "ProgressView",
            "style": "IPY_MODEL_455d0eaa624641999b24478718d1b407",
            "_dom_classes": [],
            "description": "100%",
            "_model_name": "FloatProgressModel",
            "bar_style": "success",
            "max": 10,
            "_view_module": "@jupyter-widgets/controls",
            "_model_module_version": "1.5.0",
            "value": 10,
            "_view_count": null,
            "_view_module_version": "1.5.0",
            "orientation": "horizontal",
            "min": 0,
            "description_tooltip": null,
            "_model_module": "@jupyter-widgets/controls",
            "layout": "IPY_MODEL_e643fc3c5bcf4e82830a8ab4c926f128"
          }
        },
        "9ca060a3bcfd4a44833ddfb89cc4ad31": {
          "model_module": "@jupyter-widgets/controls",
          "model_name": "HTMLModel",
          "state": {
            "_view_name": "HTMLView",
            "style": "IPY_MODEL_9834842ff2b54f0ea8baed530e87d210",
            "_dom_classes": [],
            "description": "",
            "_model_name": "HTMLModel",
            "placeholder": "​",
            "_view_module": "@jupyter-widgets/controls",
            "_model_module_version": "1.5.0",
            "value": " 10/10 [08:37&lt;00:00, 51.76s/it]",
            "_view_count": null,
            "_view_module_version": "1.5.0",
            "description_tooltip": null,
            "_model_module": "@jupyter-widgets/controls",
            "layout": "IPY_MODEL_9cb953a1a0994da5ba90f1ec44bf9d68"
          }
        },
        "455d0eaa624641999b24478718d1b407": {
          "model_module": "@jupyter-widgets/controls",
          "model_name": "ProgressStyleModel",
          "state": {
            "_view_name": "StyleView",
            "_model_name": "ProgressStyleModel",
            "description_width": "initial",
            "_view_module": "@jupyter-widgets/base",
            "_model_module_version": "1.5.0",
            "_view_count": null,
            "_view_module_version": "1.2.0",
            "bar_color": null,
            "_model_module": "@jupyter-widgets/controls"
          }
        },
        "e643fc3c5bcf4e82830a8ab4c926f128": {
          "model_module": "@jupyter-widgets/base",
          "model_name": "LayoutModel",
          "state": {
            "_view_name": "LayoutView",
            "grid_template_rows": null,
            "right": null,
            "justify_content": null,
            "_view_module": "@jupyter-widgets/base",
            "overflow": null,
            "_model_module_version": "1.2.0",
            "_view_count": null,
            "flex_flow": null,
            "width": null,
            "min_width": null,
            "border": null,
            "align_items": null,
            "bottom": null,
            "_model_module": "@jupyter-widgets/base",
            "top": null,
            "grid_column": null,
            "overflow_y": null,
            "overflow_x": null,
            "grid_auto_flow": null,
            "grid_area": null,
            "grid_template_columns": null,
            "flex": null,
            "_model_name": "LayoutModel",
            "justify_items": null,
            "grid_row": null,
            "max_height": null,
            "align_content": null,
            "visibility": null,
            "align_self": null,
            "height": null,
            "min_height": null,
            "padding": null,
            "grid_auto_rows": null,
            "grid_gap": null,
            "max_width": null,
            "order": null,
            "_view_module_version": "1.2.0",
            "grid_template_areas": null,
            "object_position": null,
            "object_fit": null,
            "grid_auto_columns": null,
            "margin": null,
            "display": null,
            "left": null
          }
        },
        "9834842ff2b54f0ea8baed530e87d210": {
          "model_module": "@jupyter-widgets/controls",
          "model_name": "DescriptionStyleModel",
          "state": {
            "_view_name": "StyleView",
            "_model_name": "DescriptionStyleModel",
            "description_width": "",
            "_view_module": "@jupyter-widgets/base",
            "_model_module_version": "1.5.0",
            "_view_count": null,
            "_view_module_version": "1.2.0",
            "_model_module": "@jupyter-widgets/controls"
          }
        },
        "9cb953a1a0994da5ba90f1ec44bf9d68": {
          "model_module": "@jupyter-widgets/base",
          "model_name": "LayoutModel",
          "state": {
            "_view_name": "LayoutView",
            "grid_template_rows": null,
            "right": null,
            "justify_content": null,
            "_view_module": "@jupyter-widgets/base",
            "overflow": null,
            "_model_module_version": "1.2.0",
            "_view_count": null,
            "flex_flow": null,
            "width": null,
            "min_width": null,
            "border": null,
            "align_items": null,
            "bottom": null,
            "_model_module": "@jupyter-widgets/base",
            "top": null,
            "grid_column": null,
            "overflow_y": null,
            "overflow_x": null,
            "grid_auto_flow": null,
            "grid_area": null,
            "grid_template_columns": null,
            "flex": null,
            "_model_name": "LayoutModel",
            "justify_items": null,
            "grid_row": null,
            "max_height": null,
            "align_content": null,
            "visibility": null,
            "align_self": null,
            "height": null,
            "min_height": null,
            "padding": null,
            "grid_auto_rows": null,
            "grid_gap": null,
            "max_width": null,
            "order": null,
            "_view_module_version": "1.2.0",
            "grid_template_areas": null,
            "object_position": null,
            "object_fit": null,
            "grid_auto_columns": null,
            "margin": null,
            "display": null,
            "left": null
          }
        }
      }
    }
  },
  "cells": [
    {
      "cell_type": "markdown",
      "metadata": {
        "id": "g78tzmjN3mzF"
      },
      "source": [
        "# 한글폰트 설치\n",
        "- 아래 실행후 '런터임 다시 시작' 하면 됩니다.\n",
        "- 메뉴에서 '런타임' >> '런타임 다시 시작'을 클릭하세요.\n",
        "- 런타임 다시 시작 후 다시 실행할 필요 없습니다."
      ]
    },
    {
      "cell_type": "code",
      "metadata": {
        "id": "Co97FHic3p0D",
        "colab": {
          "base_uri": "https://localhost:8080/"
        },
        "outputId": "e5523166-c9a5-4c90-d426-eb0c76504c1e"
      },
      "source": [
        "# 폰트 설치\n",
        "!apt-get update -qq # 나눔고딕 설치\n",
        "!apt-get install fonts-nanum* -qq\n",
        "\n",
        "import matplotlib as mpl\n",
        "import matplotlib.pyplot as plt\n",
        "import matplotlib.font_manager as fm\n",
        "\n",
        "# 폰트 로딩\n",
        "fontpath = '/usr/share/fonts/truetype/nanum/NanumBarunGothic.ttf'\n",
        "font = fm.FontProperties(fname=fontpath, size=9)\n",
        "plt.rc('font', family='NanumBarunGothic') \n",
        "mpl.font_manager._rebuild()"
      ],
      "execution_count": 1,
      "outputs": [
        {
          "output_type": "stream",
          "text": [
            "Selecting previously unselected package fonts-nanum.\n",
            "(Reading database ... 146456 files and directories currently installed.)\n",
            "Preparing to unpack .../fonts-nanum_20170925-1_all.deb ...\n",
            "Unpacking fonts-nanum (20170925-1) ...\n",
            "Selecting previously unselected package fonts-nanum-eco.\n",
            "Preparing to unpack .../fonts-nanum-eco_1.000-6_all.deb ...\n",
            "Unpacking fonts-nanum-eco (1.000-6) ...\n",
            "Selecting previously unselected package fonts-nanum-extra.\n",
            "Preparing to unpack .../fonts-nanum-extra_20170925-1_all.deb ...\n",
            "Unpacking fonts-nanum-extra (20170925-1) ...\n",
            "Selecting previously unselected package fonts-nanum-coding.\n",
            "Preparing to unpack .../fonts-nanum-coding_2.5-1_all.deb ...\n",
            "Unpacking fonts-nanum-coding (2.5-1) ...\n",
            "Setting up fonts-nanum-extra (20170925-1) ...\n",
            "Setting up fonts-nanum (20170925-1) ...\n",
            "Setting up fonts-nanum-coding (2.5-1) ...\n",
            "Setting up fonts-nanum-eco (1.000-6) ...\n",
            "Processing triggers for fontconfig (2.12.6-0ubuntu2) ...\n"
          ],
          "name": "stdout"
        }
      ]
    },
    {
      "cell_type": "markdown",
      "metadata": {
        "id": "6dfJPT-2XMTB"
      },
      "source": [
        "# Install"
      ]
    },
    {
      "cell_type": "code",
      "metadata": {
        "id": "a193aGJWVaqb",
        "colab": {
          "base_uri": "https://localhost:8080/"
        },
        "outputId": "93a99430-c115-472b-dad3-f20c4142ca7f"
      },
      "source": [
        "!pip install sentencepiece"
      ],
      "execution_count": 1,
      "outputs": [
        {
          "output_type": "stream",
          "text": [
            "Collecting sentencepiece\n",
            "\u001b[?25l  Downloading https://files.pythonhosted.org/packages/14/67/e42bd1181472c95c8cda79305df848264f2a7f62740995a46945d9797b67/sentencepiece-0.1.95-cp36-cp36m-manylinux2014_x86_64.whl (1.2MB)\n",
            "\r\u001b[K     |▎                               | 10kB 21.3MB/s eta 0:00:01\r\u001b[K     |▌                               | 20kB 27.4MB/s eta 0:00:01\r\u001b[K     |▉                               | 30kB 25.4MB/s eta 0:00:01\r\u001b[K     |█                               | 40kB 22.6MB/s eta 0:00:01\r\u001b[K     |█▍                              | 51kB 23.2MB/s eta 0:00:01\r\u001b[K     |█▋                              | 61kB 17.3MB/s eta 0:00:01\r\u001b[K     |██                              | 71kB 17.9MB/s eta 0:00:01\r\u001b[K     |██▏                             | 81kB 18.9MB/s eta 0:00:01\r\u001b[K     |██▌                             | 92kB 17.3MB/s eta 0:00:01\r\u001b[K     |██▊                             | 102kB 18.6MB/s eta 0:00:01\r\u001b[K     |███                             | 112kB 18.6MB/s eta 0:00:01\r\u001b[K     |███▎                            | 122kB 18.6MB/s eta 0:00:01\r\u001b[K     |███▌                            | 133kB 18.6MB/s eta 0:00:01\r\u001b[K     |███▉                            | 143kB 18.6MB/s eta 0:00:01\r\u001b[K     |████                            | 153kB 18.6MB/s eta 0:00:01\r\u001b[K     |████▍                           | 163kB 18.6MB/s eta 0:00:01\r\u001b[K     |████▋                           | 174kB 18.6MB/s eta 0:00:01\r\u001b[K     |█████                           | 184kB 18.6MB/s eta 0:00:01\r\u001b[K     |█████▏                          | 194kB 18.6MB/s eta 0:00:01\r\u001b[K     |█████▌                          | 204kB 18.6MB/s eta 0:00:01\r\u001b[K     |█████▊                          | 215kB 18.6MB/s eta 0:00:01\r\u001b[K     |██████                          | 225kB 18.6MB/s eta 0:00:01\r\u001b[K     |██████▎                         | 235kB 18.6MB/s eta 0:00:01\r\u001b[K     |██████▌                         | 245kB 18.6MB/s eta 0:00:01\r\u001b[K     |██████▉                         | 256kB 18.6MB/s eta 0:00:01\r\u001b[K     |███████                         | 266kB 18.6MB/s eta 0:00:01\r\u001b[K     |███████▍                        | 276kB 18.6MB/s eta 0:00:01\r\u001b[K     |███████▋                        | 286kB 18.6MB/s eta 0:00:01\r\u001b[K     |████████                        | 296kB 18.6MB/s eta 0:00:01\r\u001b[K     |████████▏                       | 307kB 18.6MB/s eta 0:00:01\r\u001b[K     |████████▍                       | 317kB 18.6MB/s eta 0:00:01\r\u001b[K     |████████▊                       | 327kB 18.6MB/s eta 0:00:01\r\u001b[K     |█████████                       | 337kB 18.6MB/s eta 0:00:01\r\u001b[K     |█████████▎                      | 348kB 18.6MB/s eta 0:00:01\r\u001b[K     |█████████▌                      | 358kB 18.6MB/s eta 0:00:01\r\u001b[K     |█████████▉                      | 368kB 18.6MB/s eta 0:00:01\r\u001b[K     |██████████                      | 378kB 18.6MB/s eta 0:00:01\r\u001b[K     |██████████▍                     | 389kB 18.6MB/s eta 0:00:01\r\u001b[K     |██████████▋                     | 399kB 18.6MB/s eta 0:00:01\r\u001b[K     |███████████                     | 409kB 18.6MB/s eta 0:00:01\r\u001b[K     |███████████▏                    | 419kB 18.6MB/s eta 0:00:01\r\u001b[K     |███████████▍                    | 430kB 18.6MB/s eta 0:00:01\r\u001b[K     |███████████▊                    | 440kB 18.6MB/s eta 0:00:01\r\u001b[K     |████████████                    | 450kB 18.6MB/s eta 0:00:01\r\u001b[K     |████████████▎                   | 460kB 18.6MB/s eta 0:00:01\r\u001b[K     |████████████▌                   | 471kB 18.6MB/s eta 0:00:01\r\u001b[K     |████████████▉                   | 481kB 18.6MB/s eta 0:00:01\r\u001b[K     |█████████████                   | 491kB 18.6MB/s eta 0:00:01\r\u001b[K     |█████████████▍                  | 501kB 18.6MB/s eta 0:00:01\r\u001b[K     |█████████████▋                  | 512kB 18.6MB/s eta 0:00:01\r\u001b[K     |█████████████▉                  | 522kB 18.6MB/s eta 0:00:01\r\u001b[K     |██████████████▏                 | 532kB 18.6MB/s eta 0:00:01\r\u001b[K     |██████████████▍                 | 542kB 18.6MB/s eta 0:00:01\r\u001b[K     |██████████████▊                 | 552kB 18.6MB/s eta 0:00:01\r\u001b[K     |███████████████                 | 563kB 18.6MB/s eta 0:00:01\r\u001b[K     |███████████████▎                | 573kB 18.6MB/s eta 0:00:01\r\u001b[K     |███████████████▌                | 583kB 18.6MB/s eta 0:00:01\r\u001b[K     |███████████████▉                | 593kB 18.6MB/s eta 0:00:01\r\u001b[K     |████████████████                | 604kB 18.6MB/s eta 0:00:01\r\u001b[K     |████████████████▍               | 614kB 18.6MB/s eta 0:00:01\r\u001b[K     |████████████████▋               | 624kB 18.6MB/s eta 0:00:01\r\u001b[K     |████████████████▉               | 634kB 18.6MB/s eta 0:00:01\r\u001b[K     |█████████████████▏              | 645kB 18.6MB/s eta 0:00:01\r\u001b[K     |█████████████████▍              | 655kB 18.6MB/s eta 0:00:01\r\u001b[K     |█████████████████▊              | 665kB 18.6MB/s eta 0:00:01\r\u001b[K     |██████████████████              | 675kB 18.6MB/s eta 0:00:01\r\u001b[K     |██████████████████▎             | 686kB 18.6MB/s eta 0:00:01\r\u001b[K     |██████████████████▌             | 696kB 18.6MB/s eta 0:00:01\r\u001b[K     |██████████████████▉             | 706kB 18.6MB/s eta 0:00:01\r\u001b[K     |███████████████████             | 716kB 18.6MB/s eta 0:00:01\r\u001b[K     |███████████████████▎            | 727kB 18.6MB/s eta 0:00:01\r\u001b[K     |███████████████████▋            | 737kB 18.6MB/s eta 0:00:01\r\u001b[K     |███████████████████▉            | 747kB 18.6MB/s eta 0:00:01\r\u001b[K     |████████████████████▏           | 757kB 18.6MB/s eta 0:00:01\r\u001b[K     |████████████████████▍           | 768kB 18.6MB/s eta 0:00:01\r\u001b[K     |████████████████████▊           | 778kB 18.6MB/s eta 0:00:01\r\u001b[K     |█████████████████████           | 788kB 18.6MB/s eta 0:00:01\r\u001b[K     |█████████████████████▎          | 798kB 18.6MB/s eta 0:00:01\r\u001b[K     |█████████████████████▌          | 808kB 18.6MB/s eta 0:00:01\r\u001b[K     |█████████████████████▉          | 819kB 18.6MB/s eta 0:00:01\r\u001b[K     |██████████████████████          | 829kB 18.6MB/s eta 0:00:01\r\u001b[K     |██████████████████████▎         | 839kB 18.6MB/s eta 0:00:01\r\u001b[K     |██████████████████████▋         | 849kB 18.6MB/s eta 0:00:01\r\u001b[K     |██████████████████████▉         | 860kB 18.6MB/s eta 0:00:01\r\u001b[K     |███████████████████████▏        | 870kB 18.6MB/s eta 0:00:01\r\u001b[K     |███████████████████████▍        | 880kB 18.6MB/s eta 0:00:01\r\u001b[K     |███████████████████████▊        | 890kB 18.6MB/s eta 0:00:01\r\u001b[K     |████████████████████████        | 901kB 18.6MB/s eta 0:00:01\r\u001b[K     |████████████████████████▎       | 911kB 18.6MB/s eta 0:00:01\r\u001b[K     |████████████████████████▌       | 921kB 18.6MB/s eta 0:00:01\r\u001b[K     |████████████████████████▊       | 931kB 18.6MB/s eta 0:00:01\r\u001b[K     |█████████████████████████       | 942kB 18.6MB/s eta 0:00:01\r\u001b[K     |█████████████████████████▎      | 952kB 18.6MB/s eta 0:00:01\r\u001b[K     |█████████████████████████▋      | 962kB 18.6MB/s eta 0:00:01\r\u001b[K     |█████████████████████████▉      | 972kB 18.6MB/s eta 0:00:01\r\u001b[K     |██████████████████████████▏     | 983kB 18.6MB/s eta 0:00:01\r\u001b[K     |██████████████████████████▍     | 993kB 18.6MB/s eta 0:00:01\r\u001b[K     |██████████████████████████▊     | 1.0MB 18.6MB/s eta 0:00:01\r\u001b[K     |███████████████████████████     | 1.0MB 18.6MB/s eta 0:00:01\r\u001b[K     |███████████████████████████▎    | 1.0MB 18.6MB/s eta 0:00:01\r\u001b[K     |███████████████████████████▌    | 1.0MB 18.6MB/s eta 0:00:01\r\u001b[K     |███████████████████████████▊    | 1.0MB 18.6MB/s eta 0:00:01\r\u001b[K     |████████████████████████████    | 1.1MB 18.6MB/s eta 0:00:01\r\u001b[K     |████████████████████████████▎   | 1.1MB 18.6MB/s eta 0:00:01\r\u001b[K     |████████████████████████████▋   | 1.1MB 18.6MB/s eta 0:00:01\r\u001b[K     |████████████████████████████▉   | 1.1MB 18.6MB/s eta 0:00:01\r\u001b[K     |█████████████████████████████▏  | 1.1MB 18.6MB/s eta 0:00:01\r\u001b[K     |█████████████████████████████▍  | 1.1MB 18.6MB/s eta 0:00:01\r\u001b[K     |█████████████████████████████▊  | 1.1MB 18.6MB/s eta 0:00:01\r\u001b[K     |██████████████████████████████  | 1.1MB 18.6MB/s eta 0:00:01\r\u001b[K     |██████████████████████████████▏ | 1.1MB 18.6MB/s eta 0:00:01\r\u001b[K     |██████████████████████████████▌ | 1.1MB 18.6MB/s eta 0:00:01\r\u001b[K     |██████████████████████████████▊ | 1.2MB 18.6MB/s eta 0:00:01\r\u001b[K     |███████████████████████████████ | 1.2MB 18.6MB/s eta 0:00:01\r\u001b[K     |███████████████████████████████▎| 1.2MB 18.6MB/s eta 0:00:01\r\u001b[K     |███████████████████████████████▋| 1.2MB 18.6MB/s eta 0:00:01\r\u001b[K     |███████████████████████████████▉| 1.2MB 18.6MB/s eta 0:00:01\r\u001b[K     |████████████████████████████████| 1.2MB 18.6MB/s \n",
            "\u001b[?25hInstalling collected packages: sentencepiece\n",
            "Successfully installed sentencepiece-0.1.95\n"
          ],
          "name": "stdout"
        }
      ]
    },
    {
      "cell_type": "markdown",
      "metadata": {
        "id": "JHkHg6XAXoyK"
      },
      "source": [
        "# Evn"
      ]
    },
    {
      "cell_type": "code",
      "metadata": {
        "id": "WkYXFwcBXJDG"
      },
      "source": [
        "import os\n",
        "import random\n",
        "import shutil\n",
        "import json\n",
        "import zipfile\n",
        "import math\n",
        "import copy\n",
        "import collections\n",
        "import re\n",
        "\n",
        "import matplotlib.pyplot as plt\n",
        "import seaborn as sns\n",
        "from wordcloud import WordCloud\n",
        "import pandas as pd\n",
        "import numpy as np\n",
        "import sentencepiece as spm\n",
        "import tensorflow as tf\n",
        "import tensorflow.keras.backend as K\n",
        "\n",
        "from tqdm.notebook import tqdm"
      ],
      "execution_count": 2,
      "outputs": []
    },
    {
      "cell_type": "code",
      "metadata": {
        "id": "nvjyruUlXtlR"
      },
      "source": [
        "# random seed initialize\n",
        "random_seed = 1234\n",
        "random.seed(random_seed)\n",
        "np.random.seed(random_seed)\n",
        "tf.random.set_seed(random_seed)"
      ],
      "execution_count": 3,
      "outputs": []
    },
    {
      "cell_type": "code",
      "metadata": {
        "id": "BC3fXkhdYcYt",
        "colab": {
          "base_uri": "https://localhost:8080/"
        },
        "outputId": "47538eb0-fa3d-4d42-f940-a7afb8fa4003"
      },
      "source": [
        "!nvidia-smi"
      ],
      "execution_count": 4,
      "outputs": [
        {
          "output_type": "stream",
          "text": [
            "Thu Feb  4 01:04:03 2021       \n",
            "+-----------------------------------------------------------------------------+\n",
            "| NVIDIA-SMI 460.39       Driver Version: 418.67       CUDA Version: 10.1     |\n",
            "|-------------------------------+----------------------+----------------------+\n",
            "| GPU  Name        Persistence-M| Bus-Id        Disp.A | Volatile Uncorr. ECC |\n",
            "| Fan  Temp  Perf  Pwr:Usage/Cap|         Memory-Usage | GPU-Util  Compute M. |\n",
            "|                               |                      |               MIG M. |\n",
            "|===============================+======================+======================|\n",
            "|   0  Tesla T4            Off  | 00000000:00:04.0 Off |                    0 |\n",
            "| N/A   34C    P8     9W /  70W |      0MiB / 15079MiB |      0%      Default |\n",
            "|                               |                      |                 ERR! |\n",
            "+-------------------------------+----------------------+----------------------+\n",
            "                                                                               \n",
            "+-----------------------------------------------------------------------------+\n",
            "| Processes:                                                                  |\n",
            "|  GPU   GI   CI        PID   Type   Process name                  GPU Memory |\n",
            "|        ID   ID                                                   Usage      |\n",
            "|=============================================================================|\n",
            "|  No running processes found                                                 |\n",
            "+-----------------------------------------------------------------------------+\n"
          ],
          "name": "stdout"
        }
      ]
    },
    {
      "cell_type": "code",
      "metadata": {
        "id": "xVRdxYReYeQj",
        "colab": {
          "base_uri": "https://localhost:8080/"
        },
        "outputId": "77b24b28-184a-4704-d806-0efd140b96f9"
      },
      "source": [
        "# google drive mount\n",
        "from google.colab import drive\n",
        "drive.mount('/content/drive')"
      ],
      "execution_count": 5,
      "outputs": [
        {
          "output_type": "stream",
          "text": [
            "Mounted at /content/drive\n"
          ],
          "name": "stdout"
        }
      ]
    },
    {
      "cell_type": "code",
      "metadata": {
        "id": "byCIiLJBbFHh",
        "colab": {
          "base_uri": "https://localhost:8080/"
        },
        "outputId": "d32983aa-e7b5-49f3-97be-0ba18df2b3f9"
      },
      "source": [
        "# data dir\n",
        "data_dir = '/content/drive/MyDrive/kowiki'\n",
        "os.listdir(data_dir)"
      ],
      "execution_count": 7,
      "outputs": [
        {
          "output_type": "execute_result",
          "data": {
            "text/plain": [
              "['ko_32000.model',\n",
              " 'ko_32000.vocab',\n",
              " 'kowiki.txt.zip',\n",
              " 'my_corpus.txt',\n",
              " 'nsmc (1)',\n",
              " 'nsmc',\n",
              " 'quora',\n",
              " 'kowiki',\n",
              " 'kowiki_lm.json',\n",
              " 'songys']"
            ]
          },
          "metadata": {
            "tags": []
          },
          "execution_count": 7
        }
      ]
    },
    {
      "cell_type": "code",
      "metadata": {
        "id": "_Ru56YS3-SME",
        "colab": {
          "base_uri": "https://localhost:8080/"
        },
        "outputId": "c3b79d08-9427-4e72-ac30-d59bfb56ea10"
      },
      "source": [
        "# songys chatbot dir\n",
        "songys_dir = os.path.join(data_dir, 'songys')\n",
        "if not os.path.exists(songys_dir):\n",
        "    os.makedirs(songys_dir)\n",
        "os.listdir(songys_dir)"
      ],
      "execution_count": 8,
      "outputs": [
        {
          "output_type": "execute_result",
          "data": {
            "text/plain": [
              "[]"
            ]
          },
          "metadata": {
            "tags": []
          },
          "execution_count": 8
        }
      ]
    },
    {
      "cell_type": "markdown",
      "metadata": {
        "id": "3myBX8hNEH1u"
      },
      "source": [
        "# 모델링"
      ]
    },
    {
      "cell_type": "code",
      "metadata": {
        "id": "c8EOlZ9uJaLU"
      },
      "source": [
        "# 입력 문장\n",
        "sentences = [\n",
        "    ['나는 오늘 기분이 좋아', '네가 기분이 좋으니 나도 좋아'],\n",
        "    ['나는 오늘 행복해', '나도 행복하다'],\n",
        "]"
      ],
      "execution_count": 17,
      "outputs": []
    },
    {
      "cell_type": "code",
      "metadata": {
        "id": "jVkMjq_oJ_79",
        "colab": {
          "base_uri": "https://localhost:8080/"
        },
        "outputId": "45a3857e-8295-4ebf-d434-509648acd33f"
      },
      "source": [
        "# 각 문장을 띄어쓰기 단위로 분할\n",
        "words = []\n",
        "for pair in sentences:\n",
        "    for sentence in pair:\n",
        "        words.extend(sentence.split())\n",
        "\n",
        "# 중복 단어 제거\n",
        "words = list(dict.fromkeys(words))\n",
        "\n",
        "# 각 단어별 고유한 번호 부여\n",
        "word_to_id = {'[PAD]': 0, '[UNK]': 1, '[BOS]': 2, '[EOS]': 3}\n",
        "for word in words:\n",
        "    word_to_id[word] = len(word_to_id)\n",
        "\n",
        "# 각 숫자별 단어 부여\n",
        "id_to_word = {_id:word for word, _id in word_to_id.items()}\n",
        "\n",
        "word_to_id, id_to_word"
      ],
      "execution_count": 18,
      "outputs": [
        {
          "output_type": "execute_result",
          "data": {
            "text/plain": [
              "({'[BOS]': 2,\n",
              "  '[EOS]': 3,\n",
              "  '[PAD]': 0,\n",
              "  '[UNK]': 1,\n",
              "  '기분이': 6,\n",
              "  '나는': 4,\n",
              "  '나도': 10,\n",
              "  '네가': 8,\n",
              "  '오늘': 5,\n",
              "  '좋아': 7,\n",
              "  '좋으니': 9,\n",
              "  '행복하다': 12,\n",
              "  '행복해': 11},\n",
              " {0: '[PAD]',\n",
              "  1: '[UNK]',\n",
              "  2: '[BOS]',\n",
              "  3: '[EOS]',\n",
              "  4: '나는',\n",
              "  5: '오늘',\n",
              "  6: '기분이',\n",
              "  7: '좋아',\n",
              "  8: '네가',\n",
              "  9: '좋으니',\n",
              "  10: '나도',\n",
              "  11: '행복해',\n",
              "  12: '행복하다'})"
            ]
          },
          "metadata": {
            "tags": []
          },
          "execution_count": 18
        }
      ]
    },
    {
      "cell_type": "code",
      "metadata": {
        "id": "15sKGqq9cLdE",
        "colab": {
          "base_uri": "https://localhost:8080/"
        },
        "outputId": "37bb2747-8712-4d3d-8652-a85b3b9f5688"
      },
      "source": [
        "# Question과 Answer를 숫자료\n",
        "question_list, answer_list = [], []\n",
        "\n",
        "for pair in sentences:\n",
        "    question_list.append([word_to_id[word] for word in pair[0].split()])\n",
        "    answer_list.append([word_to_id[word] for word in pair[1].split()])\n",
        "\n",
        "question_list, answer_list"
      ],
      "execution_count": 19,
      "outputs": [
        {
          "output_type": "execute_result",
          "data": {
            "text/plain": [
              "([[4, 5, 6, 7], [4, 5, 11]], [[8, 6, 9, 10, 7], [10, 12]])"
            ]
          },
          "metadata": {
            "tags": []
          },
          "execution_count": 19
        }
      ]
    },
    {
      "cell_type": "code",
      "metadata": {
        "id": "qX4UVcbCcqPf",
        "colab": {
          "base_uri": "https://localhost:8080/"
        },
        "outputId": "2d2383ea-008e-4feb-9055-bcbc17d146e6"
      },
      "source": [
        "# 학습용 입력 데이터 생성\n",
        "train_enc_inputs, train_dec_inputs, train_labels = [], [], []\n",
        "\n",
        "for question, answer in zip(question_list, answer_list):\n",
        "    train_enc_inputs.append(question)\n",
        "    train_dec_inputs.append([word_to_id['[BOS]']] + answer)\n",
        "    train_labels.append(answer + [word_to_id['[EOS]']])\n",
        "\n",
        "train_enc_inputs, train_dec_inputs, train_labels"
      ],
      "execution_count": 20,
      "outputs": [
        {
          "output_type": "execute_result",
          "data": {
            "text/plain": [
              "([[4, 5, 6, 7], [4, 5, 11]],\n",
              " [[2, 8, 6, 9, 10, 7], [2, 10, 12]],\n",
              " [[8, 6, 9, 10, 7, 3], [10, 12, 3]])"
            ]
          },
          "metadata": {
            "tags": []
          },
          "execution_count": 20
        }
      ]
    },
    {
      "cell_type": "code",
      "metadata": {
        "id": "l_z25RmNdAcm",
        "colab": {
          "base_uri": "https://localhost:8080/"
        },
        "outputId": "3853eea7-4edd-466e-e3ac-9dad74d612ed"
      },
      "source": [
        "# Encoder 입력의 길이를 모두 동일하게 변경 (최대길이 4)\n",
        "for row in train_enc_inputs:\n",
        "    row += [0] * (4 - len(row))\n",
        "\n",
        "# Decoder 입력의 길이를 모두 동일하게 변경 (최대길이 6)\n",
        "for row in train_dec_inputs:\n",
        "    row += [0] * (6 - len(row))\n",
        "\n",
        "# 정답의 길이를 모두 동일하게 변경 (최대길이 6)\n",
        "for row in train_labels:\n",
        "    row += [0] * (6 - len(row))\n",
        "\n",
        "train_enc_inputs, train_dec_inputs, train_labels"
      ],
      "execution_count": 21,
      "outputs": [
        {
          "output_type": "execute_result",
          "data": {
            "text/plain": [
              "([[4, 5, 6, 7], [4, 5, 11, 0]],\n",
              " [[2, 8, 6, 9, 10, 7], [2, 10, 12, 0, 0, 0]],\n",
              " [[8, 6, 9, 10, 7, 3], [10, 12, 3, 0, 0, 0]])"
            ]
          },
          "metadata": {
            "tags": []
          },
          "execution_count": 21
        }
      ]
    },
    {
      "cell_type": "code",
      "metadata": {
        "id": "ACH2lRb7KPkm",
        "colab": {
          "base_uri": "https://localhost:8080/"
        },
        "outputId": "6216c5a9-a92a-4742-ea93-296d6bdf0593"
      },
      "source": [
        "# numpy array로 변환\n",
        "train_enc_inputs = np.array(train_enc_inputs)\n",
        "train_dec_inputs = np.array(train_dec_inputs)\n",
        "train_labels = np.array(train_labels)\n",
        "\n",
        "train_enc_inputs, train_dec_inputs, train_labels"
      ],
      "execution_count": 22,
      "outputs": [
        {
          "output_type": "execute_result",
          "data": {
            "text/plain": [
              "(array([[ 4,  5,  6,  7],\n",
              "        [ 4,  5, 11,  0]]), array([[ 2,  8,  6,  9, 10,  7],\n",
              "        [ 2, 10, 12,  0,  0,  0]]), array([[ 8,  6,  9, 10,  7,  3],\n",
              "        [10, 12,  3,  0,  0,  0]]))"
            ]
          },
          "metadata": {
            "tags": []
          },
          "execution_count": 22
        }
      ]
    },
    {
      "cell_type": "code",
      "metadata": {
        "id": "u3qs4Y0EGVz8",
        "colab": {
          "base_uri": "https://localhost:8080/"
        },
        "outputId": "5ab8baf1-b773-428f-c54d-23fa0ada93b8"
      },
      "source": [
        "# embedding 생성\n",
        "embedding = tf.keras.layers.Embedding(len(id_to_word), 5)\n",
        "\n",
        "# word embedding\n",
        "hidden_enc = embedding(train_enc_inputs)  # (bs, n_enc_seq, 5)\n",
        "hidden_dec = embedding(train_dec_inputs)  # (bs, n_dec_seq, 5)\n",
        "hidden_enc.shape, hidden_dec.shape"
      ],
      "execution_count": 23,
      "outputs": [
        {
          "output_type": "execute_result",
          "data": {
            "text/plain": [
              "(TensorShape([2, 4, 5]), TensorShape([2, 6, 5]))"
            ]
          },
          "metadata": {
            "tags": []
          },
          "execution_count": 23
        }
      ]
    },
    {
      "cell_type": "code",
      "metadata": {
        "id": "Cd3Gs-VAGhyq",
        "colab": {
          "base_uri": "https://localhost:8080/"
        },
        "outputId": "c35d7245-3582-406f-babe-2d1c3b24ddef"
      },
      "source": [
        "# Encoder LSTM (uni-direction, bi-direction 가능)\n",
        "fw_cell = tf.keras.layers.LSTM(units=4, return_state=True)\n",
        "bw_cell = tf.keras.layers.LSTM(units=4, go_backwards=True, return_state=True)\n",
        "\n",
        "lstm_enc = tf.keras.layers.Bidirectional(fw_cell, backward_layer=bw_cell)\n",
        "hidden_enc, fw_h, fw_c, bw_h, bw_c = lstm_enc(hidden_enc)\n",
        "\n",
        "hidden_enc.shape, fw_h.shape, fw_c.shape, bw_h.shape, bw_c.shape"
      ],
      "execution_count": 24,
      "outputs": [
        {
          "output_type": "execute_result",
          "data": {
            "text/plain": [
              "(TensorShape([2, 8]),\n",
              " TensorShape([2, 4]),\n",
              " TensorShape([2, 4]),\n",
              " TensorShape([2, 4]),\n",
              " TensorShape([2, 4]))"
            ]
          },
          "metadata": {
            "tags": []
          },
          "execution_count": 24
        }
      ]
    },
    {
      "cell_type": "code",
      "metadata": {
        "id": "N6hKQ0rtjwLN",
        "colab": {
          "base_uri": "https://localhost:8080/"
        },
        "outputId": "edb96377-8246-42d5-edeb-e1b8a4556686"
      },
      "source": [
        "# Concat hidden and cell state\n",
        "s_h = K.concatenate([fw_h, bw_h], axis=-1)\n",
        "s_c = K.concatenate([fw_c, bw_c], axis=-1)\n",
        "s_h.shape, s_c.shape"
      ],
      "execution_count": 25,
      "outputs": [
        {
          "output_type": "execute_result",
          "data": {
            "text/plain": [
              "(TensorShape([2, 8]), TensorShape([2, 8]))"
            ]
          },
          "metadata": {
            "tags": []
          },
          "execution_count": 25
        }
      ]
    },
    {
      "cell_type": "code",
      "metadata": {
        "id": "JFoP_qdSB0mU"
      },
      "source": [
        "# # Encoder LSTM  & Decoder 모두 uni-dicrection\n",
        "# lstm_enc = tf.keras.layers.LSTM(units=4, return_state=True)\n",
        "# hidden_enc, fw_h, fw_c = lstm_enc(hidden_enc)\n",
        "\n",
        "# lstm_dec = tf.keras.layers.LSTM(units=4, return_sequences=True)\n",
        "# hidden_dec = lstm_dec(hidden_dec, initial_state=[fw_h, fw_c])\n",
        "\n",
        "# hidden_enc.shape, fw_h.shape, fw_c.shape, hidden_dec.shape"
      ],
      "execution_count": 26,
      "outputs": []
    },
    {
      "cell_type": "code",
      "metadata": {
        "id": "L47UgZ04J80U",
        "colab": {
          "base_uri": "https://localhost:8080/"
        },
        "outputId": "d59b7c97-7a34-46fa-bd54-599d346e6c79"
      },
      "source": [
        "# Decoder LSTM (uni-direction만 가능)\n",
        "lstm_dec = tf.keras.layers.LSTM(units=8, return_sequences=True)\n",
        "hidden_dec = lstm_dec(hidden_dec, initial_state=[s_h, s_c])\n",
        "hidden_dec.shape"
      ],
      "execution_count": 27,
      "outputs": [
        {
          "output_type": "execute_result",
          "data": {
            "text/plain": [
              "TensorShape([2, 6, 8])"
            ]
          },
          "metadata": {
            "tags": []
          },
          "execution_count": 27
        }
      ]
    },
    {
      "cell_type": "code",
      "metadata": {
        "id": "Svm6u8oVG9Ue",
        "colab": {
          "base_uri": "https://localhost:8080/"
        },
        "outputId": "2b6869c6-e9c0-4cfd-b0a6-57784cbee429"
      },
      "source": [
        "# Decoder 입력의 다음단어 예측\n",
        "dense_out = tf.keras.layers.Dense(units=len(id_to_word), activation=tf.nn.softmax)\n",
        "outputs = dense_out(hidden_dec)\n",
        "outputs.shape"
      ],
      "execution_count": 28,
      "outputs": [
        {
          "output_type": "execute_result",
          "data": {
            "text/plain": [
              "TensorShape([2, 6, 13])"
            ]
          },
          "metadata": {
            "tags": []
          },
          "execution_count": 28
        }
      ]
    },
    {
      "cell_type": "code",
      "metadata": {
        "id": "SobekkcjEX_P"
      },
      "source": [
        "def build_model(n_vocab, d_model, n_enc_seq, n_dec_seq):\n",
        "    \"\"\"\n",
        "    seq2seq 모델\n",
        "    :param n_vocab: vocabulary 단어 수\n",
        "    :param d_model: 단어를 의미하는 벡터의 차원 수\n",
        "    :param n_enc_seq: encoder 문장 길이 (단어 수)\n",
        "    :param n_dec_seq: decoder 문장 길이 (단어 수)\n",
        "    \"\"\"\n",
        "    inputs_enc = tf.keras.layers.Input((n_enc_seq,))  # (bs, n_enc_seq)\n",
        "    inputs_dec = tf.keras.layers.Input((n_dec_seq,))  # (bs, n_dec_seq)\n",
        "    ################################################\n",
        "    # 입력 단어를 vector로 변환\n",
        "    embedding = tf.keras.layers.Embedding(n_vocab, d_model)\n",
        "    hidden_enc = embedding(inputs_enc)  # (bs, n_enc_seq, d_model)\n",
        "    hidden_dec = embedding(inputs_dec)  # (bs, n_dec_seq, d_model)\n",
        "\n",
        "    # Encoder LSTM (uni-direction, bi-direction 가능)\n",
        "    fw_cell = tf.keras.layers.LSTM(units=d_model, return_state=True)\n",
        "    bw_cell = tf.keras.layers.LSTM(units=d_model, go_backwards=True, return_state=True)\n",
        "    lstm_enc = tf.keras.layers.Bidirectional(fw_cell, backward_layer=bw_cell)\n",
        "    hidden_enc, fw_h, fw_c, bw_h, bw_c = lstm_enc(hidden_enc)  # (bs, d_model * 2), (bs, d_model), (bs, d_model), (bs, d_model), (bs, d_model)\n",
        "\n",
        "    # Concatenate hidden states and cell states\n",
        "    s_h = K.concatenate([fw_h, bw_h], axis=-1)  # (bs, d_model * 2)\n",
        "    s_c = K.concatenate([fw_c, bw_c], axis=-1)  # (bs, d_model * 2)\n",
        "\n",
        "    # Decoder LSTM (uni-direction만 가능)\n",
        "    lstm_dec = tf.keras.layers.LSTM(units=d_model * 2, return_sequences=True)\n",
        "    hidden_dec = lstm_dec(hidden_dec, initial_state=[s_h, s_c])  # (bs, n_dec_seq, d_model)\n",
        "    \n",
        "    # 다음단어 예측\n",
        "    dense_out = tf.keras.layers.Dense(units=n_vocab, activation=tf.nn.softmax)\n",
        "    outputs = dense_out(hidden_dec)  # (bs, n_dec_seq, n_vocab)\n",
        "    ################################################\n",
        "    # 학습할 모델 선언\n",
        "    model = tf.keras.Model(inputs=(inputs_enc, inputs_dec), outputs=outputs)\n",
        "    return model"
      ],
      "execution_count": 29,
      "outputs": []
    },
    {
      "cell_type": "code",
      "metadata": {
        "id": "72cRi9zUEeqG",
        "colab": {
          "base_uri": "https://localhost:8080/",
          "height": 0
        },
        "outputId": "20c76191-e5d8-4fa9-f1ea-8bb3cee0e12e"
      },
      "source": [
        "# 모델 생성\n",
        "model = build_model(len(id_to_word), 5, 4, 6)\n",
        "# 모델 내용 그래프 출력\n",
        "tf.keras.utils.plot_model(model, 'model.png', show_shapes=True)"
      ],
      "execution_count": 30,
      "outputs": [
        {
          "output_type": "execute_result",
          "data": {
            "image/png": "[encoded data removed]",
            "text/plain": [
              "<IPython.core.display.Image object>"
            ]
          },
          "metadata": {
            "tags": []
          },
          "execution_count": 30
        }
      ]
    },
    {
      "cell_type": "markdown",
      "metadata": {
        "id": "fsRvlzDzSX9e"
      },
      "source": [
        "# 다운로드\n",
        "- https://github.com/songys/Chatbot_data"
      ]
    },
    {
      "cell_type": "code",
      "metadata": {
        "id": "BEBQj0AFSXOH",
        "colab": {
          "base_uri": "https://localhost:8080/"
        },
        "outputId": "c4a5e8a2-b2cf-413b-906b-7c03587ff537"
      },
      "source": [
        "# 파일 다운로드 및 목록 확인\n",
        "!wget https://github.com/songys/Chatbot_data/raw/master/ChatbotData%20.csv\n",
        "os.listdir('./')"
      ],
      "execution_count": 31,
      "outputs": [
        {
          "output_type": "stream",
          "text": [
            "--2021-02-04 01:10:20--  https://github.com/songys/Chatbot_data/raw/master/ChatbotData%20.csv\n",
            "Resolving github.com (github.com)... 140.82.112.3\n",
            "Connecting to github.com (github.com)|140.82.112.3|:443... connected.\n",
            "HTTP request sent, awaiting response... 302 Found\n",
            "Location: https://raw.githubusercontent.com/songys/Chatbot_data/master/ChatbotData%20.csv [following]\n",
            "--2021-02-04 01:10:20--  https://raw.githubusercontent.com/songys/Chatbot_data/master/ChatbotData%20.csv\n",
            "Resolving raw.githubusercontent.com (raw.githubusercontent.com)... 151.101.0.133, 151.101.64.133, 151.101.128.133, ...\n",
            "Connecting to raw.githubusercontent.com (raw.githubusercontent.com)|151.101.0.133|:443... connected.\n",
            "HTTP request sent, awaiting response... 200 OK\n",
            "Length: 889842 (869K) [text/plain]\n",
            "Saving to: ‘ChatbotData .csv’\n",
            "\n",
            "\rChatbotData .csv      0%[                    ]       0  --.-KB/s               \rChatbotData .csv    100%[===================>] 868.99K  --.-KB/s    in 0.02s   \n",
            "\n",
            "2021-02-04 01:10:20 (46.1 MB/s) - ‘ChatbotData .csv’ saved [889842/889842]\n",
            "\n"
          ],
          "name": "stdout"
        },
        {
          "output_type": "execute_result",
          "data": {
            "text/plain": [
              "['.config', 'drive', 'model.png', 'ChatbotData .csv', 'sample_data']"
            ]
          },
          "metadata": {
            "tags": []
          },
          "execution_count": 31
        }
      ]
    },
    {
      "cell_type": "code",
      "metadata": {
        "id": "_L3k4qr5SaVb",
        "colab": {
          "base_uri": "https://localhost:8080/"
        },
        "outputId": "d0032daf-f26d-473c-92fb-4bba26c62c1c"
      },
      "source": [
        "# 파일명 변경 및 목록 확인\n",
        "!mv 'ChatbotData .csv' ChatbotData.csv\n",
        "os.listdir('./')"
      ],
      "execution_count": 32,
      "outputs": [
        {
          "output_type": "execute_result",
          "data": {
            "text/plain": [
              "['.config', 'drive', 'model.png', 'ChatbotData.csv', 'sample_data']"
            ]
          },
          "metadata": {
            "tags": []
          },
          "execution_count": 32
        }
      ]
    },
    {
      "cell_type": "code",
      "metadata": {
        "id": "9aO9qpNNbQcc",
        "colab": {
          "base_uri": "https://localhost:8080/"
        },
        "outputId": "45dc922f-a91e-4533-e64b-2436e0d82e5a"
      },
      "source": [
        "# 파일 이동\n",
        "shutil.move('ChatbotData.csv', os.path.join(songys_dir, 'ChatbotData.csv'))\n",
        "os.listdir(songys_dir)"
      ],
      "execution_count": 33,
      "outputs": [
        {
          "output_type": "execute_result",
          "data": {
            "text/plain": [
              "['ChatbotData.csv']"
            ]
          },
          "metadata": {
            "tags": []
          },
          "execution_count": 33
        }
      ]
    },
    {
      "cell_type": "markdown",
      "metadata": {
        "id": "XwriCkq_R1Lc"
      },
      "source": [
        "# Vocabulary & config"
      ]
    },
    {
      "cell_type": "code",
      "metadata": {
        "id": "2H0BLydCb7lg",
        "colab": {
          "base_uri": "https://localhost:8080/"
        },
        "outputId": "32b62cf4-fb07-49f6-f7c0-0ac26bd7a588"
      },
      "source": [
        "# vocab loading\n",
        "vocab = spm.SentencePieceProcessor()\n",
        "vocab.load(os.path.join(data_dir, 'ko_32000.model'))"
      ],
      "execution_count": 34,
      "outputs": [
        {
          "output_type": "execute_result",
          "data": {
            "text/plain": [
              "True"
            ]
          },
          "metadata": {
            "tags": []
          },
          "execution_count": 34
        }
      ]
    },
    {
      "cell_type": "code",
      "metadata": {
        "id": "0ETZ19flTRmt"
      },
      "source": [
        "n_vocab = len(vocab)  # number of vocabulary\n",
        "n_enc_seq = 32  # number of sequence 1\n",
        "n_dec_seq = 40  # number of sequence 2\n",
        "d_model = 256  # dimension of model"
      ],
      "execution_count": 35,
      "outputs": []
    },
    {
      "cell_type": "markdown",
      "metadata": {
        "id": "MXrWvdLuhVIu"
      },
      "source": [
        "# 데이터 분석"
      ]
    },
    {
      "cell_type": "code",
      "metadata": {
        "id": "MhP07wT3hXoN",
        "colab": {
          "base_uri": "https://localhost:8080/",
          "height": 402
        },
        "outputId": "92ead7d1-a634-4fa3-b78d-272b8394125f"
      },
      "source": [
        "# train data load\n",
        "df_train = pd.read_csv(os.path.join(songys_dir, 'ChatbotData.csv'), delimiter=',')\n",
        "df_train"
      ],
      "execution_count": 36,
      "outputs": [
        {
          "output_type": "execute_result",
          "data": {
            "text/html": [
              "<div>\n",
              "<style scoped>\n",
              "    .dataframe tbody tr th:only-of-type {\n",
              "        vertical-align: middle;\n",
              "    }\n",
              "\n",
              "    .dataframe tbody tr th {\n",
              "        vertical-align: top;\n",
              "    }\n",
              "\n",
              "    .dataframe thead th {\n",
              "        text-align: right;\n",
              "    }\n",
              "</style>\n",
              "<table border=\"1\" class=\"dataframe\">\n",
              "  <thead>\n",
              "    <tr style=\"text-align: right;\">\n",
              "      <th></th>\n",
              "      <th>Q</th>\n",
              "      <th>A</th>\n",
              "      <th>label</th>\n",
              "    </tr>\n",
              "  </thead>\n",
              "  <tbody>\n",
              "    <tr>\n",
              "      <th>0</th>\n",
              "      <td>12시 땡!</td>\n",
              "      <td>하루가 또 가네요.</td>\n",
              "      <td>0</td>\n",
              "    </tr>\n",
              "    <tr>\n",
              "      <th>1</th>\n",
              "      <td>1지망 학교 떨어졌어</td>\n",
              "      <td>위로해 드립니다.</td>\n",
              "      <td>0</td>\n",
              "    </tr>\n",
              "    <tr>\n",
              "      <th>2</th>\n",
              "      <td>3박4일 놀러가고 싶다</td>\n",
              "      <td>여행은 언제나 좋죠.</td>\n",
              "      <td>0</td>\n",
              "    </tr>\n",
              "    <tr>\n",
              "      <th>3</th>\n",
              "      <td>3박4일 정도 놀러가고 싶다</td>\n",
              "      <td>여행은 언제나 좋죠.</td>\n",
              "      <td>0</td>\n",
              "    </tr>\n",
              "    <tr>\n",
              "      <th>4</th>\n",
              "      <td>PPL 심하네</td>\n",
              "      <td>눈살이 찌푸려지죠.</td>\n",
              "      <td>0</td>\n",
              "    </tr>\n",
              "    <tr>\n",
              "      <th>...</th>\n",
              "      <td>...</td>\n",
              "      <td>...</td>\n",
              "      <td>...</td>\n",
              "    </tr>\n",
              "    <tr>\n",
              "      <th>11818</th>\n",
              "      <td>훔쳐보는 것도 눈치 보임.</td>\n",
              "      <td>티가 나니까 눈치가 보이는 거죠!</td>\n",
              "      <td>2</td>\n",
              "    </tr>\n",
              "    <tr>\n",
              "      <th>11819</th>\n",
              "      <td>훔쳐보는 것도 눈치 보임.</td>\n",
              "      <td>훔쳐보는 거 티나나봐요.</td>\n",
              "      <td>2</td>\n",
              "    </tr>\n",
              "    <tr>\n",
              "      <th>11820</th>\n",
              "      <td>흑기사 해주는 짝남.</td>\n",
              "      <td>설렜겠어요.</td>\n",
              "      <td>2</td>\n",
              "    </tr>\n",
              "    <tr>\n",
              "      <th>11821</th>\n",
              "      <td>힘든 연애 좋은 연애라는게 무슨 차이일까?</td>\n",
              "      <td>잘 헤어질 수 있는 사이 여부인 거 같아요.</td>\n",
              "      <td>2</td>\n",
              "    </tr>\n",
              "    <tr>\n",
              "      <th>11822</th>\n",
              "      <td>힘들어서 결혼할까봐</td>\n",
              "      <td>도피성 결혼은 하지 않길 바라요.</td>\n",
              "      <td>2</td>\n",
              "    </tr>\n",
              "  </tbody>\n",
              "</table>\n",
              "<p>11823 rows × 3 columns</p>\n",
              "</div>"
            ],
            "text/plain": [
              "                             Q                         A  label\n",
              "0                       12시 땡!                하루가 또 가네요.      0\n",
              "1                  1지망 학교 떨어졌어                 위로해 드립니다.      0\n",
              "2                 3박4일 놀러가고 싶다               여행은 언제나 좋죠.      0\n",
              "3              3박4일 정도 놀러가고 싶다               여행은 언제나 좋죠.      0\n",
              "4                      PPL 심하네                눈살이 찌푸려지죠.      0\n",
              "...                        ...                       ...    ...\n",
              "11818           훔쳐보는 것도 눈치 보임.        티가 나니까 눈치가 보이는 거죠!      2\n",
              "11819           훔쳐보는 것도 눈치 보임.             훔쳐보는 거 티나나봐요.      2\n",
              "11820              흑기사 해주는 짝남.                    설렜겠어요.      2\n",
              "11821  힘든 연애 좋은 연애라는게 무슨 차이일까?  잘 헤어질 수 있는 사이 여부인 거 같아요.      2\n",
              "11822               힘들어서 결혼할까봐        도피성 결혼은 하지 않길 바라요.      2\n",
              "\n",
              "[11823 rows x 3 columns]"
            ]
          },
          "metadata": {
            "tags": []
          },
          "execution_count": 36
        }
      ]
    },
    {
      "cell_type": "code",
      "metadata": {
        "id": "f0aL5Ve6iVbk",
        "colab": {
          "base_uri": "https://localhost:8080/",
          "height": 402
        },
        "outputId": "bb65dc0d-ead3-445b-954d-55a04b8f420b"
      },
      "source": [
        "# train null 데이터 제거\n",
        "df_train = df_train.dropna()\n",
        "df_train"
      ],
      "execution_count": 37,
      "outputs": [
        {
          "output_type": "execute_result",
          "data": {
            "text/html": [
              "<div>\n",
              "<style scoped>\n",
              "    .dataframe tbody tr th:only-of-type {\n",
              "        vertical-align: middle;\n",
              "    }\n",
              "\n",
              "    .dataframe tbody tr th {\n",
              "        vertical-align: top;\n",
              "    }\n",
              "\n",
              "    .dataframe thead th {\n",
              "        text-align: right;\n",
              "    }\n",
              "</style>\n",
              "<table border=\"1\" class=\"dataframe\">\n",
              "  <thead>\n",
              "    <tr style=\"text-align: right;\">\n",
              "      <th></th>\n",
              "      <th>Q</th>\n",
              "      <th>A</th>\n",
              "      <th>label</th>\n",
              "    </tr>\n",
              "  </thead>\n",
              "  <tbody>\n",
              "    <tr>\n",
              "      <th>0</th>\n",
              "      <td>12시 땡!</td>\n",
              "      <td>하루가 또 가네요.</td>\n",
              "      <td>0</td>\n",
              "    </tr>\n",
              "    <tr>\n",
              "      <th>1</th>\n",
              "      <td>1지망 학교 떨어졌어</td>\n",
              "      <td>위로해 드립니다.</td>\n",
              "      <td>0</td>\n",
              "    </tr>\n",
              "    <tr>\n",
              "      <th>2</th>\n",
              "      <td>3박4일 놀러가고 싶다</td>\n",
              "      <td>여행은 언제나 좋죠.</td>\n",
              "      <td>0</td>\n",
              "    </tr>\n",
              "    <tr>\n",
              "      <th>3</th>\n",
              "      <td>3박4일 정도 놀러가고 싶다</td>\n",
              "      <td>여행은 언제나 좋죠.</td>\n",
              "      <td>0</td>\n",
              "    </tr>\n",
              "    <tr>\n",
              "      <th>4</th>\n",
              "      <td>PPL 심하네</td>\n",
              "      <td>눈살이 찌푸려지죠.</td>\n",
              "      <td>0</td>\n",
              "    </tr>\n",
              "    <tr>\n",
              "      <th>...</th>\n",
              "      <td>...</td>\n",
              "      <td>...</td>\n",
              "      <td>...</td>\n",
              "    </tr>\n",
              "    <tr>\n",
              "      <th>11818</th>\n",
              "      <td>훔쳐보는 것도 눈치 보임.</td>\n",
              "      <td>티가 나니까 눈치가 보이는 거죠!</td>\n",
              "      <td>2</td>\n",
              "    </tr>\n",
              "    <tr>\n",
              "      <th>11819</th>\n",
              "      <td>훔쳐보는 것도 눈치 보임.</td>\n",
              "      <td>훔쳐보는 거 티나나봐요.</td>\n",
              "      <td>2</td>\n",
              "    </tr>\n",
              "    <tr>\n",
              "      <th>11820</th>\n",
              "      <td>흑기사 해주는 짝남.</td>\n",
              "      <td>설렜겠어요.</td>\n",
              "      <td>2</td>\n",
              "    </tr>\n",
              "    <tr>\n",
              "      <th>11821</th>\n",
              "      <td>힘든 연애 좋은 연애라는게 무슨 차이일까?</td>\n",
              "      <td>잘 헤어질 수 있는 사이 여부인 거 같아요.</td>\n",
              "      <td>2</td>\n",
              "    </tr>\n",
              "    <tr>\n",
              "      <th>11822</th>\n",
              "      <td>힘들어서 결혼할까봐</td>\n",
              "      <td>도피성 결혼은 하지 않길 바라요.</td>\n",
              "      <td>2</td>\n",
              "    </tr>\n",
              "  </tbody>\n",
              "</table>\n",
              "<p>11823 rows × 3 columns</p>\n",
              "</div>"
            ],
            "text/plain": [
              "                             Q                         A  label\n",
              "0                       12시 땡!                하루가 또 가네요.      0\n",
              "1                  1지망 학교 떨어졌어                 위로해 드립니다.      0\n",
              "2                 3박4일 놀러가고 싶다               여행은 언제나 좋죠.      0\n",
              "3              3박4일 정도 놀러가고 싶다               여행은 언제나 좋죠.      0\n",
              "4                      PPL 심하네                눈살이 찌푸려지죠.      0\n",
              "...                        ...                       ...    ...\n",
              "11818           훔쳐보는 것도 눈치 보임.        티가 나니까 눈치가 보이는 거죠!      2\n",
              "11819           훔쳐보는 것도 눈치 보임.             훔쳐보는 거 티나나봐요.      2\n",
              "11820              흑기사 해주는 짝남.                    설렜겠어요.      2\n",
              "11821  힘든 연애 좋은 연애라는게 무슨 차이일까?  잘 헤어질 수 있는 사이 여부인 거 같아요.      2\n",
              "11822               힘들어서 결혼할까봐        도피성 결혼은 하지 않길 바라요.      2\n",
              "\n",
              "[11823 rows x 3 columns]"
            ]
          },
          "metadata": {
            "tags": []
          },
          "execution_count": 37
        }
      ]
    },
    {
      "cell_type": "markdown",
      "metadata": {
        "id": "iCtHjN1jiPBl"
      },
      "source": [
        "## Char"
      ]
    },
    {
      "cell_type": "markdown",
      "metadata": {
        "id": "8BJA69lTf6_P"
      },
      "source": [
        "### Q"
      ]
    },
    {
      "cell_type": "code",
      "metadata": {
        "id": "WHtRNTBoiOck",
        "colab": {
          "base_uri": "https://localhost:8080/"
        },
        "outputId": "8be6463e-d0bc-4a71-cbfa-ff3b9e4a1cf3"
      },
      "source": [
        "# char 길이 데이터\n",
        "char_len = df_train['Q'].astype(\"str\").apply(len)\n",
        "char_len.head(10)"
      ],
      "execution_count": 38,
      "outputs": [
        {
          "output_type": "execute_result",
          "data": {
            "text/plain": [
              "0     6\n",
              "1    11\n",
              "2    12\n",
              "3    15\n",
              "4     7\n",
              "5     9\n",
              "6     7\n",
              "7    14\n",
              "8    23\n",
              "9    17\n",
              "Name: Q, dtype: int64"
            ]
          },
          "metadata": {
            "tags": []
          },
          "execution_count": 38
        }
      ]
    },
    {
      "cell_type": "code",
      "metadata": {
        "id": "1hFnO7mOikBU",
        "colab": {
          "base_uri": "https://localhost:8080/",
          "height": 295
        },
        "outputId": "6ae1deee-f753-4baf-abb1-cdb446807c80"
      },
      "source": [
        "# 그래프에 대한 이미지 사이즈 선언\n",
        "# figsize: (가로, 세로) 형태의 튜플로 입력\n",
        "plt.figure(figsize=(8, 4))\n",
        "# histogram 선언\n",
        "# bins: 히스토그램 값들에 대한 버켓 범위, \n",
        "# range: x축 값의 범위\n",
        "# facecolor: 그래프 색상\n",
        "# label: 그래프에 대한 라벨\n",
        "plt.hist(char_len, bins=60, range=[0, 60], facecolor='r', label='train')\n",
        "# 그래프 제목\n",
        "plt.title('Lengh of char')\n",
        "# 그래프 x 축 라벨\n",
        "plt.xlabel('Number of char')\n",
        "# 그래프 y 축 라벨\n",
        "plt.ylabel('Count of review')\n",
        "plt.show()"
      ],
      "execution_count": 39,
      "outputs": [
        {
          "output_type": "display_data",
          "data": {
            "image/png": "[encoded data removed]",
            "text/plain": [
              "<Figure size 576x288 with 1 Axes>"
            ]
          },
          "metadata": {
            "tags": [],
            "needs_background": "light"
          }
        }
      ]
    },
    {
      "cell_type": "code",
      "metadata": {
        "id": "sOyYWAgWipKs",
        "colab": {
          "base_uri": "https://localhost:8080/"
        },
        "outputId": "487ad09e-2da3-4962-a31e-fb9e3d0430f8"
      },
      "source": [
        "# 데이터 길이\n",
        "print(f\"char 길이 최대:    {np.max(char_len):4d}\")\n",
        "print(f\"char 길이 최소:    {np.min(char_len):4d}\")\n",
        "print(f\"char 길이 평균:    {np.mean(char_len):7.2f}\")\n",
        "print(f\"char 길이 표준편차: {np.std(char_len):7.2f}\")\n",
        "# https://ko.wikipedia.org/wiki/%EB%B0%B1%EB%B6%84%EC%9C%84%EC%88%98\n",
        "# 백분위수(Percentile)는 크기가 있는 값들로 이뤄진 자료를 순서대로 나열했을 때 백분율로 나타낸 특정 위치의 값을 이르는 용어이다.\n",
        "# 일반적으로 크기가 작은 것부터 나열하여 가장 작은 것을 0, 가장 큰 것을 100으로 한다.\n",
        "# 100개의 값을 가진 어떤 자료의 20 백분위수는 그 자료의 값들 중 20번째로 작은 값을 뜻한다. 50 백분위수는 중앙값과 같다.\n",
        "percentile25 = np.percentile(char_len, 25)\n",
        "percentile50 = np.percentile(char_len, 50)\n",
        "percentile75 = np.percentile(char_len, 75)\n",
        "percentileIQR = percentile75 - percentile25\n",
        "percentileMAX = percentile75 + percentileIQR * 1.5\n",
        "print(f\"char 25/100분위:  {percentile25:7.2f}\")\n",
        "print(f\"char 50/100분위:  {percentile50:7.2f}\")\n",
        "print(f\"char 75/100분위:  {percentile75:7.2f}\")\n",
        "print(f\"char IQR:        {percentileIQR:7.2f}\")\n",
        "print(f\"char MAX/100분위: {percentileMAX:7.2f}\")"
      ],
      "execution_count": 40,
      "outputs": [
        {
          "output_type": "stream",
          "text": [
            "char 길이 최대:      56\n",
            "char 길이 최소:       1\n",
            "char 길이 평균:      12.88\n",
            "char 길이 표준편차:    6.17\n",
            "char 25/100분위:     9.00\n",
            "char 50/100분위:    12.00\n",
            "char 75/100분위:    16.00\n",
            "char IQR:           7.00\n",
            "char MAX/100분위:   26.50\n"
          ],
          "name": "stdout"
        }
      ]
    },
    {
      "cell_type": "code",
      "metadata": {
        "id": "TWVI7cQNjXKZ",
        "colab": {
          "base_uri": "https://localhost:8080/",
          "height": 374
        },
        "outputId": "f42b1afa-98f1-44ad-c522-7f2cf9da1a0b"
      },
      "source": [
        "plt.figure(figsize=(4, 6))\n",
        "# 박스플롯 생성\n",
        "# 첫번째 파라메터: 여러 분포에 대한 데이터 리스트를\n",
        "# labels: 입력한 데이터에 대한 라벨\n",
        "# showmeans: 평균값을 표현\n",
        "# 참고: https://leebaro.tistory.com/entry/%EB%B0%95%EC%8A%A4-%ED%94%8C%EB%A1%AFbox-plot-%EC%84%A4%EB%AA%85\n",
        "plt.boxplot(char_len, labels=['char counts'], showmeans=True)\n",
        "plt.show()"
      ],
      "execution_count": 41,
      "outputs": [
        {
          "output_type": "display_data",
          "data": {
            "image/png": "[encoded data removed]",
            "text/plain": [
              "<Figure size 288x432 with 1 Axes>"
            ]
          },
          "metadata": {
            "tags": [],
            "needs_background": "light"
          }
        }
      ]
    },
    {
      "cell_type": "markdown",
      "metadata": {
        "id": "vuf2hfnmgPtJ"
      },
      "source": [
        "### A"
      ]
    },
    {
      "cell_type": "code",
      "metadata": {
        "id": "3KpYJ-pogPtK",
        "colab": {
          "base_uri": "https://localhost:8080/"
        },
        "outputId": "0c98be9c-ae2f-4f1d-d59e-577a3e79660e"
      },
      "source": [
        "# char 길이 데이터\n",
        "char_len = df_train['A'].astype(\"str\").apply(len)\n",
        "char_len.head(10)"
      ],
      "execution_count": 42,
      "outputs": [
        {
          "output_type": "execute_result",
          "data": {
            "text/plain": [
              "0    10\n",
              "1     9\n",
              "2    11\n",
              "3    11\n",
              "4    10\n",
              "5    18\n",
              "6    18\n",
              "7    16\n",
              "8    13\n",
              "9    13\n",
              "Name: A, dtype: int64"
            ]
          },
          "metadata": {
            "tags": []
          },
          "execution_count": 42
        }
      ]
    },
    {
      "cell_type": "code",
      "metadata": {
        "id": "bxB0kK6ZgPtK",
        "colab": {
          "base_uri": "https://localhost:8080/",
          "height": 295
        },
        "outputId": "897fc7d5-60e7-41ec-82d6-449c21f9586f"
      },
      "source": [
        "# 그래프에 대한 이미지 사이즈 선언\n",
        "# figsize: (가로, 세로) 형태의 튜플로 입력\n",
        "plt.figure(figsize=(8, 4))\n",
        "# histogram 선언\n",
        "# bins: 히스토그램 값들에 대한 버켓 범위, \n",
        "# range: x축 값의 범위\n",
        "# facecolor: 그래프 색상\n",
        "# label: 그래프에 대한 라벨\n",
        "plt.hist(char_len, bins=80, range=[0, 80], facecolor='r', label='train')\n",
        "# 그래프 제목\n",
        "plt.title('Lengh of char')\n",
        "# 그래프 x 축 라벨\n",
        "plt.xlabel('Number of char')\n",
        "# 그래프 y 축 라벨\n",
        "plt.ylabel('Count of review')\n",
        "plt.show()"
      ],
      "execution_count": 43,
      "outputs": [
        {
          "output_type": "display_data",
          "data": {
            "image/png": "[encoded data removed]",
            "text/plain": [
              "<Figure size 576x288 with 1 Axes>"
            ]
          },
          "metadata": {
            "tags": [],
            "needs_background": "light"
          }
        }
      ]
    },
    {
      "cell_type": "code",
      "metadata": {
        "id": "csmytKFngPtL",
        "colab": {
          "base_uri": "https://localhost:8080/"
        },
        "outputId": "c5cbf8dc-d1b3-46ca-e916-7da56d75fb27"
      },
      "source": [
        "# 데이터 길이\n",
        "print(f\"char 길이 최대:    {np.max(char_len):4d}\")\n",
        "print(f\"char 길이 최소:    {np.min(char_len):4d}\")\n",
        "print(f\"char 길이 평균:    {np.mean(char_len):7.2f}\")\n",
        "print(f\"char 길이 표준편차: {np.std(char_len):7.2f}\")\n",
        "# https://ko.wikipedia.org/wiki/%EB%B0%B1%EB%B6%84%EC%9C%84%EC%88%98\n",
        "# 백분위수(Percentile)는 크기가 있는 값들로 이뤄진 자료를 순서대로 나열했을 때 백분율로 나타낸 특정 위치의 값을 이르는 용어이다.\n",
        "# 일반적으로 크기가 작은 것부터 나열하여 가장 작은 것을 0, 가장 큰 것을 100으로 한다.\n",
        "# 100개의 값을 가진 어떤 자료의 20 백분위수는 그 자료의 값들 중 20번째로 작은 값을 뜻한다. 50 백분위수는 중앙값과 같다.\n",
        "percentile25 = np.percentile(char_len, 25)\n",
        "percentile50 = np.percentile(char_len, 50)\n",
        "percentile75 = np.percentile(char_len, 75)\n",
        "percentileIQR = percentile75 - percentile25\n",
        "percentileMAX = percentile75 + percentileIQR * 1.5\n",
        "print(f\"char 25/100분위:  {percentile25:7.2f}\")\n",
        "print(f\"char 50/100분위:  {percentile50:7.2f}\")\n",
        "print(f\"char 75/100분위:  {percentile75:7.2f}\")\n",
        "print(f\"char IQR:        {percentileIQR:7.2f}\")\n",
        "print(f\"char MAX/100분위: {percentileMAX:7.2f}\")"
      ],
      "execution_count": 44,
      "outputs": [
        {
          "output_type": "stream",
          "text": [
            "char 길이 최대:      76\n",
            "char 길이 최소:       1\n",
            "char 길이 평균:      15.02\n",
            "char 길이 표준편차:    6.70\n",
            "char 25/100분위:    10.00\n",
            "char 50/100분위:    14.00\n",
            "char 75/100분위:    18.00\n",
            "char IQR:           8.00\n",
            "char MAX/100분위:   30.00\n"
          ],
          "name": "stdout"
        }
      ]
    },
    {
      "cell_type": "code",
      "metadata": {
        "id": "J-l0t3u1gPtL",
        "colab": {
          "base_uri": "https://localhost:8080/",
          "height": 374
        },
        "outputId": "c28fa2cb-877a-4dae-ca32-a71d9af1b7b8"
      },
      "source": [
        "plt.figure(figsize=(4, 6))\n",
        "# 박스플롯 생성\n",
        "# 첫번째 파라메터: 여러 분포에 대한 데이터 리스트를\n",
        "# labels: 입력한 데이터에 대한 라벨\n",
        "# showmeans: 평균값을 표현\n",
        "# 참고: https://leebaro.tistory.com/entry/%EB%B0%95%EC%8A%A4-%ED%94%8C%EB%A1%AFbox-plot-%EC%84%A4%EB%AA%85\n",
        "plt.boxplot(char_len, labels=['char counts'], showmeans=True)\n",
        "plt.show()"
      ],
      "execution_count": 45,
      "outputs": [
        {
          "output_type": "display_data",
          "data": {
            "image/png": "[encoded data removed]",
            "text/plain": [
              "<Figure size 288x432 with 1 Axes>"
            ]
          },
          "metadata": {
            "tags": [],
            "needs_background": "light"
          }
        }
      ]
    },
    {
      "cell_type": "markdown",
      "metadata": {
        "id": "z5vUjpBDjvwM"
      },
      "source": [
        "## Word"
      ]
    },
    {
      "cell_type": "markdown",
      "metadata": {
        "id": "0wOb77mrgo2j"
      },
      "source": [
        "### Q"
      ]
    },
    {
      "cell_type": "code",
      "metadata": {
        "id": "6H_Rp3N5jvwX",
        "colab": {
          "base_uri": "https://localhost:8080/"
        },
        "outputId": "056d9bdb-07f2-4d2b-d968-31504bfdb06d"
      },
      "source": [
        "# word 길이 데이터\n",
        "word_len = df_train['Q'].astype(str).apply(lambda x:len(x.split(' ')))\n",
        "word_len.head(10)"
      ],
      "execution_count": 46,
      "outputs": [
        {
          "output_type": "execute_result",
          "data": {
            "text/plain": [
              "0    2\n",
              "1    3\n",
              "2    3\n",
              "3    4\n",
              "4    2\n",
              "5    2\n",
              "6    2\n",
              "7    4\n",
              "8    7\n",
              "9    4\n",
              "Name: Q, dtype: int64"
            ]
          },
          "metadata": {
            "tags": []
          },
          "execution_count": 46
        }
      ]
    },
    {
      "cell_type": "code",
      "metadata": {
        "id": "P26X6GHQjvwY",
        "colab": {
          "base_uri": "https://localhost:8080/",
          "height": 295
        },
        "outputId": "5b825f32-037b-4d9a-d2be-791e4880da0e"
      },
      "source": [
        "# 그래프에 대한 이미지 사이즈 선언\n",
        "# figsize: (가로, 세로) 형태의 튜플로 입력\n",
        "plt.figure(figsize=(8, 4))\n",
        "# histogram 선언\n",
        "# bins: 히스토그램 값들에 대한 버켓 범위, \n",
        "# range: x축 값의 범위\n",
        "# facecolor: 그래프 색상\n",
        "# label: 그래프에 대한 라벨\n",
        "plt.hist(word_len, bins=15, range=[0, 15], facecolor='r', label='train')\n",
        "# 그래프 제목\n",
        "plt.title('Lengh of word')\n",
        "# 그래프 x 축 라벨\n",
        "plt.xlabel('Number of word')\n",
        "# 그래프 y 축 라벨\n",
        "plt.ylabel('Count of review')\n",
        "plt.show()"
      ],
      "execution_count": 47,
      "outputs": [
        {
          "output_type": "display_data",
          "data": {
            "image/png": "[encoded data removed]",
            "text/plain": [
              "<Figure size 576x288 with 1 Axes>"
            ]
          },
          "metadata": {
            "tags": [],
            "needs_background": "light"
          }
        }
      ]
    },
    {
      "cell_type": "code",
      "metadata": {
        "id": "2eW21IJ8jvwa",
        "colab": {
          "base_uri": "https://localhost:8080/"
        },
        "outputId": "93e6246a-b93e-4e0e-d979-71c242baa9f7"
      },
      "source": [
        "# 데이터 길이\n",
        "print(f\"word 길이 최대:    {np.max(word_len):4d}\")\n",
        "print(f\"word 길이 최소:    {np.min(word_len):4d}\")\n",
        "print(f\"word 길이 평균:    {np.mean(word_len):7.2f}\")\n",
        "print(f\"word 길이 표준편차: {np.std(word_len):7.2f}\")\n",
        "# https://ko.wikipedia.org/wiki/%EB%B0%B1%EB%B6%84%EC%9C%84%EC%88%98\n",
        "# 백분위수(Percentile)는 크기가 있는 값들로 이뤄진 자료를 순서대로 나열했을 때 백분율로 나타낸 특정 위치의 값을 이르는 용어이다.\n",
        "# 일반적으로 크기가 작은 것부터 나열하여 가장 작은 것을 0, 가장 큰 것을 100으로 한다.\n",
        "# 100개의 값을 가진 어떤 자료의 20 백분위수는 그 자료의 값들 중 20번째로 작은 값을 뜻한다. 50 백분위수는 중앙값과 같다.\n",
        "percentile25 = np.percentile(word_len, 25)\n",
        "percentile50 = np.percentile(word_len, 50)\n",
        "percentile75 = np.percentile(word_len, 75)\n",
        "percentileIQR = percentile75 - percentile25\n",
        "percentileMAX = percentile75 + percentileIQR * 1.5\n",
        "print(f\"word 25/100분위:  {percentile25:7.2f}\")\n",
        "print(f\"word 50/100분위:  {percentile50:7.2f}\")\n",
        "print(f\"word 75/100분위:  {percentile75:7.2f}\")\n",
        "print(f\"word IQR:        {percentileIQR:7.2f}\")\n",
        "print(f\"word MAX/100분위: {percentileMAX:7.2f}\")"
      ],
      "execution_count": 48,
      "outputs": [
        {
          "output_type": "stream",
          "text": [
            "word 길이 최대:      15\n",
            "word 길이 최소:       1\n",
            "word 길이 평균:       3.59\n",
            "word 길이 표준편차:    1.62\n",
            "word 25/100분위:     2.00\n",
            "word 50/100분위:     3.00\n",
            "word 75/100분위:     4.00\n",
            "word IQR:           2.00\n",
            "word MAX/100분위:    7.00\n"
          ],
          "name": "stdout"
        }
      ]
    },
    {
      "cell_type": "code",
      "metadata": {
        "id": "NerMTgt_jvwa",
        "colab": {
          "base_uri": "https://localhost:8080/",
          "height": 374
        },
        "outputId": "ed9bc0d2-1f1c-48a0-8447-6d05cebb0bc1"
      },
      "source": [
        "plt.figure(figsize=(4, 6))\n",
        "# 박스플롯 생성\n",
        "# 첫번째 파라메터: 여러 분포에 대한 데이터 리스트를\n",
        "# labels: 입력한 데이터에 대한 라벨\n",
        "# showmeans: 평균값을 표현\n",
        "# 참고: https://leebaro.tistory.com/entry/%EB%B0%95%EC%8A%A4-%ED%94%8C%EB%A1%AFbox-plot-%EC%84%A4%EB%AA%85\n",
        "plt.boxplot(word_len, labels=['word counts'], showmeans=True)\n",
        "plt.show()"
      ],
      "execution_count": 49,
      "outputs": [
        {
          "output_type": "display_data",
          "data": {
            "image/png": "[encoded data removed]",
            "text/plain": [
              "<Figure size 288x432 with 1 Axes>"
            ]
          },
          "metadata": {
            "tags": [],
            "needs_background": "light"
          }
        }
      ]
    },
    {
      "cell_type": "markdown",
      "metadata": {
        "id": "aAf5NLDXg1ri"
      },
      "source": [
        "### A"
      ]
    },
    {
      "cell_type": "code",
      "metadata": {
        "id": "KSwFC-_Gg1rj",
        "colab": {
          "base_uri": "https://localhost:8080/"
        },
        "outputId": "998115ad-458e-479d-f573-6adf23713832"
      },
      "source": [
        "# word 길이 데이터\n",
        "word_len = df_train['A'].astype(str).apply(lambda x:len(x.split(' ')))\n",
        "word_len.head(10)"
      ],
      "execution_count": 50,
      "outputs": [
        {
          "output_type": "execute_result",
          "data": {
            "text/plain": [
              "0    3\n",
              "1    2\n",
              "2    3\n",
              "3    3\n",
              "4    2\n",
              "5    6\n",
              "6    6\n",
              "7    5\n",
              "8    3\n",
              "9    3\n",
              "Name: A, dtype: int64"
            ]
          },
          "metadata": {
            "tags": []
          },
          "execution_count": 50
        }
      ]
    },
    {
      "cell_type": "code",
      "metadata": {
        "id": "CnikZCQCg1rj",
        "colab": {
          "base_uri": "https://localhost:8080/",
          "height": 295
        },
        "outputId": "48dc4ea1-01ee-479f-c329-dbf6f1cc840f"
      },
      "source": [
        "# 그래프에 대한 이미지 사이즈 선언\n",
        "# figsize: (가로, 세로) 형태의 튜플로 입력\n",
        "plt.figure(figsize=(8, 4))\n",
        "# histogram 선언\n",
        "# bins: 히스토그램 값들에 대한 버켓 범위, \n",
        "# range: x축 값의 범위\n",
        "# facecolor: 그래프 색상\n",
        "# label: 그래프에 대한 라벨\n",
        "plt.hist(word_len, bins=21, range=[0, 21], facecolor='r', label='train')\n",
        "# 그래프 제목\n",
        "plt.title('Lengh of word')\n",
        "# 그래프 x 축 라벨\n",
        "plt.xlabel('Number of word')\n",
        "# 그래프 y 축 라벨\n",
        "plt.ylabel('Count of review')\n",
        "plt.show()"
      ],
      "execution_count": 51,
      "outputs": [
        {
          "output_type": "display_data",
          "data": {
            "image/png": "[encoded data removed]",
            "text/plain": [
              "<Figure size 576x288 with 1 Axes>"
            ]
          },
          "metadata": {
            "tags": [],
            "needs_background": "light"
          }
        }
      ]
    },
    {
      "cell_type": "code",
      "metadata": {
        "id": "Ji9DXHsSg1rk",
        "colab": {
          "base_uri": "https://localhost:8080/"
        },
        "outputId": "1ecef849-fd6c-4ec4-a698-bbc424d1f17b"
      },
      "source": [
        "# 데이터 길이\n",
        "print(f\"word 길이 최대:    {np.max(word_len):4d}\")\n",
        "print(f\"word 길이 최소:    {np.min(word_len):4d}\")\n",
        "print(f\"word 길이 평균:    {np.mean(word_len):7.2f}\")\n",
        "print(f\"word 길이 표준편차: {np.std(word_len):7.2f}\")\n",
        "# https://ko.wikipedia.org/wiki/%EB%B0%B1%EB%B6%84%EC%9C%84%EC%88%98\n",
        "# 백분위수(Percentile)는 크기가 있는 값들로 이뤄진 자료를 순서대로 나열했을 때 백분율로 나타낸 특정 위치의 값을 이르는 용어이다.\n",
        "# 일반적으로 크기가 작은 것부터 나열하여 가장 작은 것을 0, 가장 큰 것을 100으로 한다.\n",
        "# 100개의 값을 가진 어떤 자료의 20 백분위수는 그 자료의 값들 중 20번째로 작은 값을 뜻한다. 50 백분위수는 중앙값과 같다.\n",
        "percentile25 = np.percentile(word_len, 25)\n",
        "percentile50 = np.percentile(word_len, 50)\n",
        "percentile75 = np.percentile(word_len, 75)\n",
        "percentileIQR = percentile75 - percentile25\n",
        "percentileMAX = percentile75 + percentileIQR * 1.5\n",
        "print(f\"word 25/100분위:  {percentile25:7.2f}\")\n",
        "print(f\"word 50/100분위:  {percentile50:7.2f}\")\n",
        "print(f\"word 75/100분위:  {percentile75:7.2f}\")\n",
        "print(f\"word IQR:        {percentileIQR:7.2f}\")\n",
        "print(f\"word MAX/100분위: {percentileMAX:7.2f}\")"
      ],
      "execution_count": 52,
      "outputs": [
        {
          "output_type": "stream",
          "text": [
            "word 길이 최대:      21\n",
            "word 길이 최소:       1\n",
            "word 길이 평균:       3.69\n",
            "word 길이 표준편차:    1.86\n",
            "word 25/100분위:     2.00\n",
            "word 50/100분위:     3.00\n",
            "word 75/100분위:     5.00\n",
            "word IQR:           3.00\n",
            "word MAX/100분위:    9.50\n"
          ],
          "name": "stdout"
        }
      ]
    },
    {
      "cell_type": "code",
      "metadata": {
        "id": "FDYnKKC4g1rk",
        "colab": {
          "base_uri": "https://localhost:8080/",
          "height": 374
        },
        "outputId": "c8e79efa-4dae-4dce-d5bf-ac9036fd8140"
      },
      "source": [
        "plt.figure(figsize=(4, 6))\n",
        "# 박스플롯 생성\n",
        "# 첫번째 파라메터: 여러 분포에 대한 데이터 리스트를\n",
        "# labels: 입력한 데이터에 대한 라벨\n",
        "# showmeans: 평균값을 표현\n",
        "# 참고: https://leebaro.tistory.com/entry/%EB%B0%95%EC%8A%A4-%ED%94%8C%EB%A1%AFbox-plot-%EC%84%A4%EB%AA%85\n",
        "plt.boxplot(word_len, labels=['word counts'], showmeans=True)\n",
        "plt.show()"
      ],
      "execution_count": 53,
      "outputs": [
        {
          "output_type": "display_data",
          "data": {
            "image/png": "[encoded data removed]",
            "text/plain": [
              "<Figure size 288x432 with 1 Axes>"
            ]
          },
          "metadata": {
            "tags": [],
            "needs_background": "light"
          }
        }
      ]
    },
    {
      "cell_type": "markdown",
      "metadata": {
        "id": "HH3c7rY7kbCh"
      },
      "source": [
        "## SentencePiece"
      ]
    },
    {
      "cell_type": "markdown",
      "metadata": {
        "id": "INyPdEigjQpG"
      },
      "source": [
        "### Q"
      ]
    },
    {
      "cell_type": "code",
      "metadata": {
        "id": "6cvc0ZDzkbCi",
        "colab": {
          "base_uri": "https://localhost:8080/"
        },
        "outputId": "f4bd1e40-5fd5-4986-a0b8-5edee94e3403"
      },
      "source": [
        "# word 길이 데이터\n",
        "spm_len = df_train['Q'].astype(str).apply(lambda x:len(vocab.encode_as_pieces(x)))\n",
        "spm_len.head(10)"
      ],
      "execution_count": 54,
      "outputs": [
        {
          "output_type": "execute_result",
          "data": {
            "text/plain": [
              "0     5\n",
              "1     6\n",
              "2     9\n",
              "3    10\n",
              "4     5\n",
              "5     6\n",
              "6     4\n",
              "7     7\n",
              "8    11\n",
              "9     9\n",
              "Name: Q, dtype: int64"
            ]
          },
          "metadata": {
            "tags": []
          },
          "execution_count": 54
        }
      ]
    },
    {
      "cell_type": "code",
      "metadata": {
        "id": "KDr_r83DkbCi",
        "colab": {
          "base_uri": "https://localhost:8080/",
          "height": 295
        },
        "outputId": "161ee2b1-995b-4862-b937-011856d5baad"
      },
      "source": [
        "# 그래프에 대한 이미지 사이즈 선언\n",
        "# figsize: (가로, 세로) 형태의 튜플로 입력\n",
        "plt.figure(figsize=(8, 4))\n",
        "# histogram 선언\n",
        "# bins: 히스토그램 값들에 대한 버켓 범위, \n",
        "# range: x축 값의 범위\n",
        "# facecolor: 그래프 색상\n",
        "# label: 그래프에 대한 라벨\n",
        "plt.hist(spm_len, bins=26, range=[0, 26], facecolor='r', label='train')\n",
        "# 그래프 제목\n",
        "plt.title('Lengh of spm')\n",
        "# 그래프 x 축 라벨\n",
        "plt.xlabel('Number of spm')\n",
        "# 그래프 y 축 라벨\n",
        "plt.ylabel('Count of review')\n",
        "plt.show()"
      ],
      "execution_count": 55,
      "outputs": [
        {
          "output_type": "display_data",
          "data": {
            "image/png": "[encoded data removed]",
            "text/plain": [
              "<Figure size 576x288 with 1 Axes>"
            ]
          },
          "metadata": {
            "tags": [],
            "needs_background": "light"
          }
        }
      ]
    },
    {
      "cell_type": "code",
      "metadata": {
        "id": "hl9BiOWnkbCj",
        "colab": {
          "base_uri": "https://localhost:8080/"
        },
        "outputId": "c3eec89d-c05f-41a6-9e27-a82e267f566f"
      },
      "source": [
        "# 데이터 길이\n",
        "print(f\"spm 길이 최대:    {np.max(spm_len):4d}\")\n",
        "print(f\"spm 길이 최소:    {np.min(spm_len):4d}\")\n",
        "print(f\"spm 길이 평균:    {np.mean(spm_len):7.2f}\")\n",
        "print(f\"spm 길이 표준편차: {np.std(spm_len):7.2f}\")\n",
        "# https://ko.wikipedia.org/wiki/%EB%B0%B1%EB%B6%84%EC%9C%84%EC%88%98\n",
        "# 백분위수(Percentile)는 크기가 있는 값들로 이뤄진 자료를 순서대로 나열했을 때 백분율로 나타낸 특정 위치의 값을 이르는 용어이다.\n",
        "# 일반적으로 크기가 작은 것부터 나열하여 가장 작은 것을 0, 가장 큰 것을 100으로 한다.\n",
        "# 100개의 값을 가진 어떤 자료의 20 백분위수는 그 자료의 값들 중 20번째로 작은 값을 뜻한다. 50 백분위수는 중앙값과 같다.\n",
        "percentile25 = np.percentile(spm_len, 25)\n",
        "percentile50 = np.percentile(spm_len, 50)\n",
        "percentile75 = np.percentile(spm_len, 75)\n",
        "percentileIQR = percentile75 - percentile25\n",
        "percentileMAX = percentile75 + percentileIQR * 1.5\n",
        "print(f\"spm 25/100분위:  {percentile25:7.2f}\")\n",
        "print(f\"spm 50/100분위:  {percentile50:7.2f}\")\n",
        "print(f\"spm 75/100분위:  {percentile75:7.2f}\")\n",
        "print(f\"spm IQR:        {percentileIQR:7.2f}\")\n",
        "print(f\"spm MAX/100분위: {percentileMAX:7.2f}\")"
      ],
      "execution_count": 56,
      "outputs": [
        {
          "output_type": "stream",
          "text": [
            "spm 길이 최대:      26\n",
            "spm 길이 최소:       1\n",
            "spm 길이 평균:       7.00\n",
            "spm 길이 표준편차:    3.09\n",
            "spm 25/100분위:     5.00\n",
            "spm 50/100분위:     6.00\n",
            "spm 75/100분위:     9.00\n",
            "spm IQR:           4.00\n",
            "spm MAX/100분위:   15.00\n"
          ],
          "name": "stdout"
        }
      ]
    },
    {
      "cell_type": "code",
      "metadata": {
        "id": "bhYzc3QVkbCj",
        "colab": {
          "base_uri": "https://localhost:8080/",
          "height": 374
        },
        "outputId": "82811273-8ea0-47c0-f0d7-020344f2ef52"
      },
      "source": [
        "plt.figure(figsize=(4, 6))\n",
        "# 박스플롯 생성\n",
        "# 첫번째 파라메터: 여러 분포에 대한 데이터 리스트를\n",
        "# labels: 입력한 데이터에 대한 라벨\n",
        "# showmeans: 평균값을 표현\n",
        "# 참고: https://leebaro.tistory.com/entry/%EB%B0%95%EC%8A%A4-%ED%94%8C%EB%A1%AFbox-plot-%EC%84%A4%EB%AA%85\n",
        "plt.boxplot(spm_len, labels=['spm counts'], showmeans=True)\n",
        "plt.show()"
      ],
      "execution_count": 57,
      "outputs": [
        {
          "output_type": "display_data",
          "data": {
            "image/png": "[encoded data removed]",
            "text/plain": [
              "<Figure size 288x432 with 1 Axes>"
            ]
          },
          "metadata": {
            "tags": [],
            "needs_background": "light"
          }
        }
      ]
    },
    {
      "cell_type": "markdown",
      "metadata": {
        "id": "CZNmjRZLjcU-"
      },
      "source": [
        "### A"
      ]
    },
    {
      "cell_type": "code",
      "metadata": {
        "id": "WiYg-7FcjcU-",
        "colab": {
          "base_uri": "https://localhost:8080/"
        },
        "outputId": "8132062f-1140-4cc1-9b3b-d7ac8b4c6cde"
      },
      "source": [
        "# word 길이 데이터\n",
        "spm_len = df_train['A'].astype(str).apply(lambda x:len(vocab.encode_as_pieces(x)))\n",
        "spm_len.head(10)"
      ],
      "execution_count": 58,
      "outputs": [
        {
          "output_type": "execute_result",
          "data": {
            "text/plain": [
              "0    6\n",
              "1    6\n",
              "2    6\n",
              "3    6\n",
              "4    8\n",
              "5    9\n",
              "6    9\n",
              "7    7\n",
              "8    6\n",
              "9    6\n",
              "Name: A, dtype: int64"
            ]
          },
          "metadata": {
            "tags": []
          },
          "execution_count": 58
        }
      ]
    },
    {
      "cell_type": "code",
      "metadata": {
        "id": "VCsAsqaGjcU_",
        "colab": {
          "base_uri": "https://localhost:8080/",
          "height": 295
        },
        "outputId": "13b3a2e8-2174-43cc-d50a-b45bcaaecf72"
      },
      "source": [
        "# 그래프에 대한 이미지 사이즈 선언\n",
        "# figsize: (가로, 세로) 형태의 튜플로 입력\n",
        "plt.figure(figsize=(8, 4))\n",
        "# histogram 선언\n",
        "# bins: 히스토그램 값들에 대한 버켓 범위, \n",
        "# range: x축 값의 범위\n",
        "# facecolor: 그래프 색상\n",
        "# label: 그래프에 대한 라벨\n",
        "plt.hist(spm_len, bins=35, range=[0, 35], facecolor='r', label='train')\n",
        "# 그래프 제목\n",
        "plt.title('Lengh of spm')\n",
        "# 그래프 x 축 라벨\n",
        "plt.xlabel('Number of spm')\n",
        "# 그래프 y 축 라벨\n",
        "plt.ylabel('Count of review')\n",
        "plt.show()"
      ],
      "execution_count": 59,
      "outputs": [
        {
          "output_type": "display_data",
          "data": {
            "image/png": "[encoded data removed]",
            "text/plain": [
              "<Figure size 576x288 with 1 Axes>"
            ]
          },
          "metadata": {
            "tags": [],
            "needs_background": "light"
          }
        }
      ]
    },
    {
      "cell_type": "code",
      "metadata": {
        "id": "2vghdAIjjcVB",
        "colab": {
          "base_uri": "https://localhost:8080/"
        },
        "outputId": "adeb8542-02c4-4427-fa2f-15094876a1bd"
      },
      "source": [
        "# 데이터 길이\n",
        "print(f\"spm 길이 최대:    {np.max(spm_len):4d}\")\n",
        "print(f\"spm 길이 최소:    {np.min(spm_len):4d}\")\n",
        "print(f\"spm 길이 평균:    {np.mean(spm_len):7.2f}\")\n",
        "print(f\"spm 길이 표준편차: {np.std(spm_len):7.2f}\")\n",
        "# https://ko.wikipedia.org/wiki/%EB%B0%B1%EB%B6%84%EC%9C%84%EC%88%98\n",
        "# 백분위수(Percentile)는 크기가 있는 값들로 이뤄진 자료를 순서대로 나열했을 때 백분율로 나타낸 특정 위치의 값을 이르는 용어이다.\n",
        "# 일반적으로 크기가 작은 것부터 나열하여 가장 작은 것을 0, 가장 큰 것을 100으로 한다.\n",
        "# 100개의 값을 가진 어떤 자료의 20 백분위수는 그 자료의 값들 중 20번째로 작은 값을 뜻한다. 50 백분위수는 중앙값과 같다.\n",
        "percentile25 = np.percentile(spm_len, 25)\n",
        "percentile50 = np.percentile(spm_len, 50)\n",
        "percentile75 = np.percentile(spm_len, 75)\n",
        "percentileIQR = percentile75 - percentile25\n",
        "percentileMAX = percentile75 + percentileIQR * 1.5\n",
        "print(f\"spm 25/100분위:  {percentile25:7.2f}\")\n",
        "print(f\"spm 50/100분위:  {percentile50:7.2f}\")\n",
        "print(f\"spm 75/100분위:  {percentile75:7.2f}\")\n",
        "print(f\"spm IQR:        {percentileIQR:7.2f}\")\n",
        "print(f\"spm MAX/100분위: {percentileMAX:7.2f}\")"
      ],
      "execution_count": 60,
      "outputs": [
        {
          "output_type": "stream",
          "text": [
            "spm 길이 최대:      35\n",
            "spm 길이 최소:       1\n",
            "spm 길이 평균:       8.44\n",
            "spm 길이 표준편차:    3.06\n",
            "spm 25/100분위:     6.00\n",
            "spm 50/100분위:     8.00\n",
            "spm 75/100분위:    10.00\n",
            "spm IQR:           4.00\n",
            "spm MAX/100분위:   16.00\n"
          ],
          "name": "stdout"
        }
      ]
    },
    {
      "cell_type": "code",
      "metadata": {
        "id": "_VXBV7NMjcVB",
        "colab": {
          "base_uri": "https://localhost:8080/",
          "height": 374
        },
        "outputId": "b65d525b-51f8-46de-a39d-4b2ee0515c6b"
      },
      "source": [
        "plt.figure(figsize=(4, 6))\n",
        "# 박스플롯 생성\n",
        "# 첫번째 파라메터: 여러 분포에 대한 데이터 리스트를\n",
        "# labels: 입력한 데이터에 대한 라벨\n",
        "# showmeans: 평균값을 표현\n",
        "# 참고: https://leebaro.tistory.com/entry/%EB%B0%95%EC%8A%A4-%ED%94%8C%EB%A1%AFbox-plot-%EC%84%A4%EB%AA%85\n",
        "plt.boxplot(spm_len, labels=['spm counts'], showmeans=True)\n",
        "plt.show()"
      ],
      "execution_count": 61,
      "outputs": [
        {
          "output_type": "display_data",
          "data": {
            "image/png": "[encoded data removed]",
            "text/plain": [
              "<Figure size 288x432 with 1 Axes>"
            ]
          },
          "metadata": {
            "tags": [],
            "needs_background": "light"
          }
        }
      ]
    },
    {
      "cell_type": "markdown",
      "metadata": {
        "id": "PEEHnQPfluqb"
      },
      "source": [
        "## Word Cloud"
      ]
    },
    {
      "cell_type": "code",
      "metadata": {
        "id": "WXlNyhTvkiRi",
        "colab": {
          "base_uri": "https://localhost:8080/"
        },
        "outputId": "b1f977f1-edd3-40f4-a7fe-8cf6387ba4f0"
      },
      "source": [
        "# data 합치기\n",
        "train_set = pd.Series(df_train['Q'].tolist() + df_train['A'].tolist()).astype(str)\n",
        "train_set.head(10)"
      ],
      "execution_count": 62,
      "outputs": [
        {
          "output_type": "execute_result",
          "data": {
            "text/plain": [
              "0                     12시 땡!\n",
              "1                1지망 학교 떨어졌어\n",
              "2               3박4일 놀러가고 싶다\n",
              "3            3박4일 정도 놀러가고 싶다\n",
              "4                    PPL 심하네\n",
              "5                  SD카드 망가졌어\n",
              "6                    SD카드 안돼\n",
              "7             SNS 맞팔 왜 안하지ㅠㅠ\n",
              "8    SNS 시간낭비인 거 아는데 매일 하는 중\n",
              "9          SNS 시간낭비인데 자꾸 보게됨\n",
              "dtype: object"
            ]
          },
          "metadata": {
            "tags": []
          },
          "execution_count": 62
        }
      ]
    },
    {
      "cell_type": "code",
      "metadata": {
        "id": "HRb4fQxsloKx",
        "colab": {
          "base_uri": "https://localhost:8080/"
        },
        "outputId": "b761ab14-8ba0-4393-ccfa-7807f3820b8b"
      },
      "source": [
        "# train review documents\n",
        "train_review = [review for review in train_set if type(review) is str]\n",
        "train_review[:10]"
      ],
      "execution_count": 63,
      "outputs": [
        {
          "output_type": "execute_result",
          "data": {
            "text/plain": [
              "['12시 땡!',\n",
              " '1지망 학교 떨어졌어',\n",
              " '3박4일 놀러가고 싶다',\n",
              " '3박4일 정도 놀러가고 싶다',\n",
              " 'PPL 심하네',\n",
              " 'SD카드 망가졌어',\n",
              " 'SD카드 안돼',\n",
              " 'SNS 맞팔 왜 안하지ㅠㅠ',\n",
              " 'SNS 시간낭비인 거 아는데 매일 하는 중',\n",
              " 'SNS 시간낭비인데 자꾸 보게됨']"
            ]
          },
          "metadata": {
            "tags": []
          },
          "execution_count": 63
        }
      ]
    },
    {
      "cell_type": "code",
      "metadata": {
        "id": "ASMXNml2lz8i",
        "colab": {
          "base_uri": "https://localhost:8080/",
          "height": 53
        },
        "outputId": "d0ca0b96-2b5f-472f-c28a-25ab393bb8e3"
      },
      "source": [
        "' '.join(train_review[:10])"
      ],
      "execution_count": 64,
      "outputs": [
        {
          "output_type": "execute_result",
          "data": {
            "application/vnd.google.colaboratory.intrinsic+json": {
              "type": "string"
            },
            "text/plain": [
              "'12시 땡! 1지망 학교 떨어졌어 3박4일 놀러가고 싶다 3박4일 정도 놀러가고 싶다 PPL 심하네 SD카드 망가졌어 SD카드 안돼 SNS 맞팔 왜 안하지ㅠㅠ SNS 시간낭비인 거 아는데 매일 하는 중 SNS 시간낭비인데 자꾸 보게됨'"
            ]
          },
          "metadata": {
            "tags": []
          },
          "execution_count": 64
        }
      ]
    },
    {
      "cell_type": "code",
      "metadata": {
        "id": "MmQXZB-bl4RM",
        "colab": {
          "base_uri": "https://localhost:8080/",
          "height": 575
        },
        "outputId": "66d1565f-86fd-4ef5-cc06-402b5d603df4"
      },
      "source": [
        "# WordCloud\n",
        "# window: C:/Windows/Fonts/malgun.ttf, mac: /Library/Fonts/AppleGothic.ttf, colab: /usr/share/fonts/truetype/nanum/NanumBarunGothic.ttf\n",
        "wordcloud = WordCloud(width=800, height=800, font_path='/usr/share/fonts/truetype/nanum/NanumBarunGothic.ttf').generate(' '.join(train_review))\n",
        "plt.figure(figsize=(10, 10))\n",
        "# https://datascienceschool.net/view-notebook/6e71dbff254542d9b0a054a7c98b34ec/\n",
        "# image 출력, interpolation 이미지 시각화 옵션\n",
        "plt.imshow(wordcloud, interpolation='bilinear')\n",
        "plt.axis('off')\n",
        "plt.show()"
      ],
      "execution_count": 65,
      "outputs": [
        {
          "output_type": "display_data",
          "data": {
            "image/png": "[encoded data removed]",
            "text/plain": [
              "<Figure size 720x720 with 1 Axes>"
            ]
          },
          "metadata": {
            "tags": [],
            "needs_background": "light"
          }
        }
      ]
    },
    {
      "cell_type": "markdown",
      "metadata": {
        "id": "kTgzpx2Wl6uv"
      },
      "source": [
        "# Loss & Acc"
      ]
    },
    {
      "cell_type": "code",
      "metadata": {
        "id": "hQRKhodYtQHr"
      },
      "source": [
        "def lm_loss(y_true, y_pred):\n",
        "    \"\"\"\n",
        "    pad 부분을 제외하고 loss를 계산하는 함수\n",
        "    :param y_true: 정답\n",
        "    :param y_pred: 예측 값\n",
        "    :retrun loss: pad 부분이 제외된 loss 값\n",
        "    \"\"\"\n",
        "    # loss = sparse_entropy = tf.keras.losses.SparseCategoricalCrossentropy()(y_true, y_pred)\n",
        "    loss = tf.keras.losses.SparseCategoricalCrossentropy(reduction=tf.keras.losses.Reduction.NONE)(y_true, y_pred)\n",
        "    mask = tf.not_equal(y_true, 0)\n",
        "    mask = tf.cast(mask, tf.float32)\n",
        "    # print(mask)\n",
        "    loss *= mask\n",
        "    return loss"
      ],
      "execution_count": 66,
      "outputs": []
    },
    {
      "cell_type": "code",
      "metadata": {
        "id": "xQqs7xzA3N3Q"
      },
      "source": [
        "def lm_acc(y_true, y_pred):\n",
        "    \"\"\"\n",
        "    pad 부분을 제외하고 accuracy를 계산하는 함수\n",
        "    :param y_true: 정답\n",
        "    :param y_pred: 예측 값\n",
        "    :retrun loss: pad 부분이 제외된 accuracy 값\n",
        "    \"\"\"\n",
        "    y_true = tf.cast(y_true, tf.float32)\n",
        "    # print(y_true)\n",
        "    y_pred_class = tf.cast(tf.argmax(y_pred, axis=-1), tf.float32)\n",
        "    # print(y_pred_class)\n",
        "    matches = tf.cast(tf.equal(y_true, y_pred_class), tf.float32)\n",
        "    # print(matches)\n",
        "    mask = tf.not_equal(y_true, 0)\n",
        "    mask = tf.cast(mask, tf.float32)\n",
        "    # print(mask)\n",
        "    matches *= mask\n",
        "    # print(matches)\n",
        "    # accuracy = tf.reduce_sum(matches) / tf.maximum(tf.reduce_sum(tf.ones_like(matches)), 1)\n",
        "    accuracy = tf.reduce_sum(matches) / tf.maximum(tf.reduce_sum(mask), 1)\n",
        "    return accuracy"
      ],
      "execution_count": 67,
      "outputs": []
    },
    {
      "cell_type": "markdown",
      "metadata": {
        "id": "gcG7zBAr_R_4"
      },
      "source": [
        "# Sample Data Project"
      ]
    },
    {
      "cell_type": "markdown",
      "metadata": {
        "id": "jv0OPyaKSpjw"
      },
      "source": [
        "## Data\n"
      ]
    },
    {
      "cell_type": "code",
      "metadata": {
        "id": "98u39IsbSoBk",
        "colab": {
          "base_uri": "https://localhost:8080/",
          "height": 402
        },
        "outputId": "a429463a-ca8f-43f7-e437-a5e4394be38d"
      },
      "source": [
        "df_train = pd.read_csv(os.path.join(songys_dir, 'ChatbotData.csv'))\n",
        "df_train"
      ],
      "execution_count": 68,
      "outputs": [
        {
          "output_type": "execute_result",
          "data": {
            "text/html": [
              "<div>\n",
              "<style scoped>\n",
              "    .dataframe tbody tr th:only-of-type {\n",
              "        vertical-align: middle;\n",
              "    }\n",
              "\n",
              "    .dataframe tbody tr th {\n",
              "        vertical-align: top;\n",
              "    }\n",
              "\n",
              "    .dataframe thead th {\n",
              "        text-align: right;\n",
              "    }\n",
              "</style>\n",
              "<table border=\"1\" class=\"dataframe\">\n",
              "  <thead>\n",
              "    <tr style=\"text-align: right;\">\n",
              "      <th></th>\n",
              "      <th>Q</th>\n",
              "      <th>A</th>\n",
              "      <th>label</th>\n",
              "    </tr>\n",
              "  </thead>\n",
              "  <tbody>\n",
              "    <tr>\n",
              "      <th>0</th>\n",
              "      <td>12시 땡!</td>\n",
              "      <td>하루가 또 가네요.</td>\n",
              "      <td>0</td>\n",
              "    </tr>\n",
              "    <tr>\n",
              "      <th>1</th>\n",
              "      <td>1지망 학교 떨어졌어</td>\n",
              "      <td>위로해 드립니다.</td>\n",
              "      <td>0</td>\n",
              "    </tr>\n",
              "    <tr>\n",
              "      <th>2</th>\n",
              "      <td>3박4일 놀러가고 싶다</td>\n",
              "      <td>여행은 언제나 좋죠.</td>\n",
              "      <td>0</td>\n",
              "    </tr>\n",
              "    <tr>\n",
              "      <th>3</th>\n",
              "      <td>3박4일 정도 놀러가고 싶다</td>\n",
              "      <td>여행은 언제나 좋죠.</td>\n",
              "      <td>0</td>\n",
              "    </tr>\n",
              "    <tr>\n",
              "      <th>4</th>\n",
              "      <td>PPL 심하네</td>\n",
              "      <td>눈살이 찌푸려지죠.</td>\n",
              "      <td>0</td>\n",
              "    </tr>\n",
              "    <tr>\n",
              "      <th>...</th>\n",
              "      <td>...</td>\n",
              "      <td>...</td>\n",
              "      <td>...</td>\n",
              "    </tr>\n",
              "    <tr>\n",
              "      <th>11818</th>\n",
              "      <td>훔쳐보는 것도 눈치 보임.</td>\n",
              "      <td>티가 나니까 눈치가 보이는 거죠!</td>\n",
              "      <td>2</td>\n",
              "    </tr>\n",
              "    <tr>\n",
              "      <th>11819</th>\n",
              "      <td>훔쳐보는 것도 눈치 보임.</td>\n",
              "      <td>훔쳐보는 거 티나나봐요.</td>\n",
              "      <td>2</td>\n",
              "    </tr>\n",
              "    <tr>\n",
              "      <th>11820</th>\n",
              "      <td>흑기사 해주는 짝남.</td>\n",
              "      <td>설렜겠어요.</td>\n",
              "      <td>2</td>\n",
              "    </tr>\n",
              "    <tr>\n",
              "      <th>11821</th>\n",
              "      <td>힘든 연애 좋은 연애라는게 무슨 차이일까?</td>\n",
              "      <td>잘 헤어질 수 있는 사이 여부인 거 같아요.</td>\n",
              "      <td>2</td>\n",
              "    </tr>\n",
              "    <tr>\n",
              "      <th>11822</th>\n",
              "      <td>힘들어서 결혼할까봐</td>\n",
              "      <td>도피성 결혼은 하지 않길 바라요.</td>\n",
              "      <td>2</td>\n",
              "    </tr>\n",
              "  </tbody>\n",
              "</table>\n",
              "<p>11823 rows × 3 columns</p>\n",
              "</div>"
            ],
            "text/plain": [
              "                             Q                         A  label\n",
              "0                       12시 땡!                하루가 또 가네요.      0\n",
              "1                  1지망 학교 떨어졌어                 위로해 드립니다.      0\n",
              "2                 3박4일 놀러가고 싶다               여행은 언제나 좋죠.      0\n",
              "3              3박4일 정도 놀러가고 싶다               여행은 언제나 좋죠.      0\n",
              "4                      PPL 심하네                눈살이 찌푸려지죠.      0\n",
              "...                        ...                       ...    ...\n",
              "11818           훔쳐보는 것도 눈치 보임.        티가 나니까 눈치가 보이는 거죠!      2\n",
              "11819           훔쳐보는 것도 눈치 보임.             훔쳐보는 거 티나나봐요.      2\n",
              "11820              흑기사 해주는 짝남.                    설렜겠어요.      2\n",
              "11821  힘든 연애 좋은 연애라는게 무슨 차이일까?  잘 헤어질 수 있는 사이 여부인 거 같아요.      2\n",
              "11822               힘들어서 결혼할까봐        도피성 결혼은 하지 않길 바라요.      2\n",
              "\n",
              "[11823 rows x 3 columns]"
            ]
          },
          "metadata": {
            "tags": []
          },
          "execution_count": 68
        }
      ]
    },
    {
      "cell_type": "code",
      "metadata": {
        "id": "_mHKFva1M5hv",
        "colab": {
          "base_uri": "https://localhost:8080/",
          "height": 402
        },
        "outputId": "d05d6d2b-a759-4e9c-a5f3-092949ae934f"
      },
      "source": [
        "df_train = df_train.dropna()\n",
        "df_train"
      ],
      "execution_count": 69,
      "outputs": [
        {
          "output_type": "execute_result",
          "data": {
            "text/html": [
              "<div>\n",
              "<style scoped>\n",
              "    .dataframe tbody tr th:only-of-type {\n",
              "        vertical-align: middle;\n",
              "    }\n",
              "\n",
              "    .dataframe tbody tr th {\n",
              "        vertical-align: top;\n",
              "    }\n",
              "\n",
              "    .dataframe thead th {\n",
              "        text-align: right;\n",
              "    }\n",
              "</style>\n",
              "<table border=\"1\" class=\"dataframe\">\n",
              "  <thead>\n",
              "    <tr style=\"text-align: right;\">\n",
              "      <th></th>\n",
              "      <th>Q</th>\n",
              "      <th>A</th>\n",
              "      <th>label</th>\n",
              "    </tr>\n",
              "  </thead>\n",
              "  <tbody>\n",
              "    <tr>\n",
              "      <th>0</th>\n",
              "      <td>12시 땡!</td>\n",
              "      <td>하루가 또 가네요.</td>\n",
              "      <td>0</td>\n",
              "    </tr>\n",
              "    <tr>\n",
              "      <th>1</th>\n",
              "      <td>1지망 학교 떨어졌어</td>\n",
              "      <td>위로해 드립니다.</td>\n",
              "      <td>0</td>\n",
              "    </tr>\n",
              "    <tr>\n",
              "      <th>2</th>\n",
              "      <td>3박4일 놀러가고 싶다</td>\n",
              "      <td>여행은 언제나 좋죠.</td>\n",
              "      <td>0</td>\n",
              "    </tr>\n",
              "    <tr>\n",
              "      <th>3</th>\n",
              "      <td>3박4일 정도 놀러가고 싶다</td>\n",
              "      <td>여행은 언제나 좋죠.</td>\n",
              "      <td>0</td>\n",
              "    </tr>\n",
              "    <tr>\n",
              "      <th>4</th>\n",
              "      <td>PPL 심하네</td>\n",
              "      <td>눈살이 찌푸려지죠.</td>\n",
              "      <td>0</td>\n",
              "    </tr>\n",
              "    <tr>\n",
              "      <th>...</th>\n",
              "      <td>...</td>\n",
              "      <td>...</td>\n",
              "      <td>...</td>\n",
              "    </tr>\n",
              "    <tr>\n",
              "      <th>11818</th>\n",
              "      <td>훔쳐보는 것도 눈치 보임.</td>\n",
              "      <td>티가 나니까 눈치가 보이는 거죠!</td>\n",
              "      <td>2</td>\n",
              "    </tr>\n",
              "    <tr>\n",
              "      <th>11819</th>\n",
              "      <td>훔쳐보는 것도 눈치 보임.</td>\n",
              "      <td>훔쳐보는 거 티나나봐요.</td>\n",
              "      <td>2</td>\n",
              "    </tr>\n",
              "    <tr>\n",
              "      <th>11820</th>\n",
              "      <td>흑기사 해주는 짝남.</td>\n",
              "      <td>설렜겠어요.</td>\n",
              "      <td>2</td>\n",
              "    </tr>\n",
              "    <tr>\n",
              "      <th>11821</th>\n",
              "      <td>힘든 연애 좋은 연애라는게 무슨 차이일까?</td>\n",
              "      <td>잘 헤어질 수 있는 사이 여부인 거 같아요.</td>\n",
              "      <td>2</td>\n",
              "    </tr>\n",
              "    <tr>\n",
              "      <th>11822</th>\n",
              "      <td>힘들어서 결혼할까봐</td>\n",
              "      <td>도피성 결혼은 하지 않길 바라요.</td>\n",
              "      <td>2</td>\n",
              "    </tr>\n",
              "  </tbody>\n",
              "</table>\n",
              "<p>11823 rows × 3 columns</p>\n",
              "</div>"
            ],
            "text/plain": [
              "                             Q                         A  label\n",
              "0                       12시 땡!                하루가 또 가네요.      0\n",
              "1                  1지망 학교 떨어졌어                 위로해 드립니다.      0\n",
              "2                 3박4일 놀러가고 싶다               여행은 언제나 좋죠.      0\n",
              "3              3박4일 정도 놀러가고 싶다               여행은 언제나 좋죠.      0\n",
              "4                      PPL 심하네                눈살이 찌푸려지죠.      0\n",
              "...                        ...                       ...    ...\n",
              "11818           훔쳐보는 것도 눈치 보임.        티가 나니까 눈치가 보이는 거죠!      2\n",
              "11819           훔쳐보는 것도 눈치 보임.             훔쳐보는 거 티나나봐요.      2\n",
              "11820              흑기사 해주는 짝남.                    설렜겠어요.      2\n",
              "11821  힘든 연애 좋은 연애라는게 무슨 차이일까?  잘 헤어질 수 있는 사이 여부인 거 같아요.      2\n",
              "11822               힘들어서 결혼할까봐        도피성 결혼은 하지 않길 바라요.      2\n",
              "\n",
              "[11823 rows x 3 columns]"
            ]
          },
          "metadata": {
            "tags": []
          },
          "execution_count": 69
        }
      ]
    },
    {
      "cell_type": "code",
      "metadata": {
        "id": "lAZD9iR6_oO_",
        "colab": {
          "base_uri": "https://localhost:8080/",
          "height": 343
        },
        "outputId": "df017ddc-74fd-4141-d6a6-36bfbb5a6499"
      },
      "source": [
        "# 랜덤하게 10개만 확인\n",
        "df_train = df_train.sample(10)\n",
        "df_train"
      ],
      "execution_count": 70,
      "outputs": [
        {
          "output_type": "execute_result",
          "data": {
            "text/html": [
              "<div>\n",
              "<style scoped>\n",
              "    .dataframe tbody tr th:only-of-type {\n",
              "        vertical-align: middle;\n",
              "    }\n",
              "\n",
              "    .dataframe tbody tr th {\n",
              "        vertical-align: top;\n",
              "    }\n",
              "\n",
              "    .dataframe thead th {\n",
              "        text-align: right;\n",
              "    }\n",
              "</style>\n",
              "<table border=\"1\" class=\"dataframe\">\n",
              "  <thead>\n",
              "    <tr style=\"text-align: right;\">\n",
              "      <th></th>\n",
              "      <th>Q</th>\n",
              "      <th>A</th>\n",
              "      <th>label</th>\n",
              "    </tr>\n",
              "  </thead>\n",
              "  <tbody>\n",
              "    <tr>\n",
              "      <th>11761</th>\n",
              "      <td>하루종일 썸남 생각만 해. 괜찮을까?</td>\n",
              "      <td>그것 또한 감정의 일부니까요.</td>\n",
              "      <td>2</td>\n",
              "    </tr>\n",
              "    <tr>\n",
              "      <th>924</th>\n",
              "      <td>냉장고에 먹을 게 하나도 없네</td>\n",
              "      <td>슈퍼라도 가서 쇼핑하고 오세요.</td>\n",
              "      <td>0</td>\n",
              "    </tr>\n",
              "    <tr>\n",
              "      <th>3763</th>\n",
              "      <td>인사드리러 갔는데 파혼하는게 나을것 같아</td>\n",
              "      <td>이혼이 아니라 다행입니다.</td>\n",
              "      <td>0</td>\n",
              "    </tr>\n",
              "    <tr>\n",
              "      <th>341</th>\n",
              "      <td>금값 어때</td>\n",
              "      <td>비싸요.</td>\n",
              "      <td>0</td>\n",
              "    </tr>\n",
              "    <tr>\n",
              "      <th>10736</th>\n",
              "      <td>연애상담하더니 둘이 사귀더라</td>\n",
              "      <td>대화를 하다가 친해졌나봐요.</td>\n",
              "      <td>2</td>\n",
              "    </tr>\n",
              "    <tr>\n",
              "      <th>5140</th>\n",
              "      <td>혼자 노래방 가면 어색할 거 같은데</td>\n",
              "      <td>신나는 노래로 분위기를 띄어보세요.</td>\n",
              "      <td>0</td>\n",
              "    </tr>\n",
              "    <tr>\n",
              "      <th>5713</th>\n",
              "      <td>기회도 없네.</td>\n",
              "      <td>다른 기회가 올 거예요.</td>\n",
              "      <td>1</td>\n",
              "    </tr>\n",
              "    <tr>\n",
              "      <th>9996</th>\n",
              "      <td>사랑한 만큼 배려해야했어</td>\n",
              "      <td>이제야 깨달았나봐요.</td>\n",
              "      <td>2</td>\n",
              "    </tr>\n",
              "    <tr>\n",
              "      <th>3168</th>\n",
              "      <td>여자친구가 전화를 안해</td>\n",
              "      <td>다른 연락을 많이 하거나 더 자주 만나세요.</td>\n",
              "      <td>0</td>\n",
              "    </tr>\n",
              "    <tr>\n",
              "      <th>9762</th>\n",
              "      <td>못생긴 남자를 좋아하는 여자가 있을지.</td>\n",
              "      <td>외모가 중요한 시대는 끝났어요.</td>\n",
              "      <td>2</td>\n",
              "    </tr>\n",
              "  </tbody>\n",
              "</table>\n",
              "</div>"
            ],
            "text/plain": [
              "                            Q                         A  label\n",
              "11761    하루종일 썸남 생각만 해. 괜찮을까?          그것 또한 감정의 일부니까요.      2\n",
              "924          냉장고에 먹을 게 하나도 없네         슈퍼라도 가서 쇼핑하고 오세요.      0\n",
              "3763   인사드리러 갔는데 파혼하는게 나을것 같아            이혼이 아니라 다행입니다.      0\n",
              "341                     금값 어때                      비싸요.      0\n",
              "10736         연애상담하더니 둘이 사귀더라           대화를 하다가 친해졌나봐요.      2\n",
              "5140      혼자 노래방 가면 어색할 거 같은데       신나는 노래로 분위기를 띄어보세요.      0\n",
              "5713                  기회도 없네.             다른 기회가 올 거예요.      1\n",
              "9996            사랑한 만큼 배려해야했어               이제야 깨달았나봐요.      2\n",
              "3168             여자친구가 전화를 안해  다른 연락을 많이 하거나 더 자주 만나세요.      0\n",
              "9762    못생긴 남자를 좋아하는 여자가 있을지.         외모가 중요한 시대는 끝났어요.      2"
            ]
          },
          "metadata": {
            "tags": []
          },
          "execution_count": 70
        }
      ]
    },
    {
      "cell_type": "code",
      "metadata": {
        "id": "pkzwlvcVS1cj"
      },
      "source": [
        "def load_data(df, n_enc_seq, n_dec_seq):\n",
        "    \"\"\"\n",
        "    Quora 학습 데이터 생성\n",
        "    :param df: data frame\n",
        "    :param n_enc_seq: number of encoder sequence\n",
        "    :param n_dec_seq: number of decoder sequence\n",
        "    :return enc_inputs: encoder input data\n",
        "    :return dec_inputs: decoder input data\n",
        "    :return labels: label data\n",
        "    \"\"\"\n",
        "    n_enc_max = n_enc_seq\n",
        "    n_dec_max = n_dec_seq - 1\n",
        "    enc_inputs = np.zeros((len(df), n_enc_seq)).astype(np.int32)\n",
        "    dec_inputs = np.zeros((len(df), n_dec_seq)).astype(np.int32)\n",
        "    labels = np.zeros((len(df), n_dec_seq)).astype(np.int32)\n",
        "    index = 0\n",
        "    for i, row in tqdm(df.iterrows(), total=len(df)):\n",
        "        # tokens 저장\n",
        "        print()\n",
        "        ###########################################\n",
        "        Q = row['Q']\n",
        "        A = row['A']\n",
        "        print(Q, '/', A)\n",
        "\n",
        "        tokens_q = vocab.encode_as_pieces(Q)\n",
        "        print(len(tokens_q), ':', tokens_q)\n",
        "        tokens_a = vocab.encode_as_pieces(A)\n",
        "        print(len(tokens_a), ':', tokens_a)\n",
        "\n",
        "        #token id 생성\n",
        "        tokens_ids_q = vocab.encode_as_ids(Q)[:n_enc_max]\n",
        "        print(len(tokens_ids_q), ':', tokens_ids_q)\n",
        "        tokens_ids_a = vocab.encode_as_ids(A)[:n_enc_max]\n",
        "        print(len(tokens_ids_a), ':', tokens_ids_a)\n",
        "\n",
        "        # decoder 입력 출력 생성\n",
        "        tokens_dec_in = [vocab.bos_id()] + tokens_ids_a\n",
        "        tokens_dec_out = tokens_ids_a + [vocab.eos_id()]\n",
        "\n",
        "        # encoder 입력, dec 입력, dec 출력에 pad 추가\n",
        "        tokens_ids_q += [0] * (n_enc_seq - len(tokens_ids_q))\n",
        "        print(len(tokens_ids_q), ':', tokens_ids_q)\n",
        "        tokens_dec_in += [0] * (n_dec_seq - len(tokens_dec_in))\n",
        "        print(len(tokens_dec_in), ':', tokens_dec_in)\n",
        "        tokens_dec_out += [0] * (n_dec_seq - len(tokens_dec_out))\n",
        "        print(len(tokens_dec_out), ':', tokens_dec_out)\n",
        "\n",
        "        # 값 저장\n",
        "        enc_inputs[index] = tokens_ids_q\n",
        "        dec_inputs[index] = tokens_dec_in\n",
        "        labels[index] = tokens_dec_out\n",
        "        index += 1\n",
        "        ###########################################\n",
        "    return enc_inputs, dec_inputs, labels"
      ],
      "execution_count": 74,
      "outputs": []
    },
    {
      "cell_type": "code",
      "metadata": {
        "id": "bfEwG-jgS4aN",
        "colab": {
          "base_uri": "https://localhost:8080/",
          "height": 1000,
          "referenced_widgets": [
            "6b0fe7faca8d4f3dbf442ea9d7f1232c",
            "75556a49194746099224f43b09af4e1d",
            "97a93d367206439bb39a811fa0d040ee",
            "9ca060a3bcfd4a44833ddfb89cc4ad31",
            "455d0eaa624641999b24478718d1b407",
            "e643fc3c5bcf4e82830a8ab4c926f128",
            "9834842ff2b54f0ea8baed530e87d210",
            "9cb953a1a0994da5ba90f1ec44bf9d68"
          ]
        },
        "outputId": "a385e06f-1438-44be-8c1d-bf85fb8caa0f"
      },
      "source": [
        "# train data 생성\n",
        "train_enc_inputs, train_dec_inputs, train_labels = load_data(df_train, n_enc_seq, n_dec_seq)\n",
        "train_enc_inputs, train_dec_inputs, train_labels"
      ],
      "execution_count": 75,
      "outputs": [
        {
          "output_type": "display_data",
          "data": {
            "application/vnd.jupyter.widget-view+json": {
              "model_id": "6b0fe7faca8d4f3dbf442ea9d7f1232c",
              "version_minor": 0,
              "version_major": 2
            },
            "text/plain": [
              "HBox(children=(FloatProgress(value=0.0, max=10.0), HTML(value='')))"
            ]
          },
          "metadata": {
            "tags": []
          }
        },
        {
          "output_type": "stream",
          "text": [
            "\n",
            "하루종일 썸남 생각만 해. 괜찮을까? / 그것 또한 감정의 일부니까요.\n",
            "14 : ['▁하루', '종', '일', '▁', '썸', '남', '▁생각', '만', '▁해', '.', '▁괜찮', '을', '까', '?']\n",
            "8 : ['▁그것', '▁또한', '▁감정', '의', '▁일부', '니까', '요', '.']\n",
            "14 : [2261, 389, 26, 10, 28134, 481, 1162, 62, 210, 7, 22827, 16, 2657, 1860]\n",
            "8 : [8223, 109, 3971, 9, 396, 8933, 431, 7]\n",
            "32 : [2261, 389, 26, 10, 28134, 481, 1162, 62, 210, 7, 22827, 16, 2657, 1860, 0, 0, 0, 0, 0, 0, 0, 0, 0, 0, 0, 0, 0, 0, 0, 0, 0, 0]\n",
            "40 : [2, 8223, 109, 3971, 9, 396, 8933, 431, 7, 0, 0, 0, 0, 0, 0, 0, 0, 0, 0, 0, 0, 0, 0, 0, 0, 0, 0, 0, 0, 0, 0, 0, 0, 0, 0, 0, 0, 0, 0, 0]\n",
            "40 : [8223, 109, 3971, 9, 396, 8933, 431, 7, 3, 0, 0, 0, 0, 0, 0, 0, 0, 0, 0, 0, 0, 0, 0, 0, 0, 0, 0, 0, 0, 0, 0, 0, 0, 0, 0, 0, 0, 0, 0, 0]\n",
            "\n",
            "냉장고에 먹을 게 하나도 없네 / 슈퍼라도 가서 쇼핑하고 오세요.\n",
            "10 : ['▁냉', '장', '고', '에', '▁먹을', '▁게', '▁하나', '도', '▁없', '네']\n",
            "8 : ['▁슈퍼', '라도', '▁가서', '▁쇼핑', '하고', '▁오', '세요', '.']\n",
            "10 : [8255, 147, 37, 13, 12600, 1513, 925, 32, 6943, 343]\n",
            "8 : [2505, 4743, 3424, 15489, 43, 178, 15319, 7]\n",
            "32 : [8255, 147, 37, 13, 12600, 1513, 925, 32, 6943, 343, 0, 0, 0, 0, 0, 0, 0, 0, 0, 0, 0, 0, 0, 0, 0, 0, 0, 0, 0, 0, 0, 0]\n",
            "40 : [2, 2505, 4743, 3424, 15489, 43, 178, 15319, 7, 0, 0, 0, 0, 0, 0, 0, 0, 0, 0, 0, 0, 0, 0, 0, 0, 0, 0, 0, 0, 0, 0, 0, 0, 0, 0, 0, 0, 0, 0, 0]\n",
            "40 : [2505, 4743, 3424, 15489, 43, 178, 15319, 7, 3, 0, 0, 0, 0, 0, 0, 0, 0, 0, 0, 0, 0, 0, 0, 0, 0, 0, 0, 0, 0, 0, 0, 0, 0, 0, 0, 0, 0, 0, 0, 0]\n",
            "\n",
            "인사드리러 갔는데 파혼하는게 나을것 같아 / 이혼이 아니라 다행입니다.\n",
            "13 : ['▁인사', '드리', '러', '▁', '갔는데', '▁파', '혼', '하는', '게', '▁나', '을', '것', '▁같아']\n",
            "7 : ['▁이혼', '이', '▁아니라', '▁다', '행', '입니다', '.']\n",
            "13 : [3299, 5537, 447, 10, 19191, 437, 1980, 42, 128, 339, 16, 5922, 15509]\n",
            "7 : [4620, 17, 465, 262, 624, 5304, 7]\n",
            "32 : [3299, 5537, 447, 10, 19191, 437, 1980, 42, 128, 339, 16, 5922, 15509, 0, 0, 0, 0, 0, 0, 0, 0, 0, 0, 0, 0, 0, 0, 0, 0, 0, 0, 0]\n",
            "40 : [2, 4620, 17, 465, 262, 624, 5304, 7, 0, 0, 0, 0, 0, 0, 0, 0, 0, 0, 0, 0, 0, 0, 0, 0, 0, 0, 0, 0, 0, 0, 0, 0, 0, 0, 0, 0, 0, 0, 0, 0]\n",
            "40 : [4620, 17, 465, 262, 624, 5304, 7, 3, 0, 0, 0, 0, 0, 0, 0, 0, 0, 0, 0, 0, 0, 0, 0, 0, 0, 0, 0, 0, 0, 0, 0, 0, 0, 0, 0, 0, 0, 0, 0, 0]\n",
            "\n",
            "금값 어때 / 비싸요.\n",
            "4 : ['▁금', '값', '▁어', '때']\n",
            "3 : ['▁비싸', '요', '.']\n",
            "4 : [631, 4167, 492, 1406]\n",
            "3 : [22324, 431, 7]\n",
            "32 : [631, 4167, 492, 1406, 0, 0, 0, 0, 0, 0, 0, 0, 0, 0, 0, 0, 0, 0, 0, 0, 0, 0, 0, 0, 0, 0, 0, 0, 0, 0, 0, 0]\n",
            "40 : [2, 22324, 431, 7, 0, 0, 0, 0, 0, 0, 0, 0, 0, 0, 0, 0, 0, 0, 0, 0, 0, 0, 0, 0, 0, 0, 0, 0, 0, 0, 0, 0, 0, 0, 0, 0, 0, 0, 0, 0]\n",
            "40 : [22324, 431, 7, 3, 0, 0, 0, 0, 0, 0, 0, 0, 0, 0, 0, 0, 0, 0, 0, 0, 0, 0, 0, 0, 0, 0, 0, 0, 0, 0, 0, 0, 0, 0, 0, 0, 0, 0, 0, 0]\n",
            "\n",
            "연애상담하더니 둘이 사귀더라 / 대화를 하다가 친해졌나봐요.\n",
            "8 : ['▁연애', '상담', '하', '더니', '▁둘이', '▁사귀', '더', '라']\n",
            "9 : ['▁대화를', '▁하다가', '▁친', '해', '졌', '나', '봐', '요', '.']\n",
            "8 : [8256, 24051, 237, 10451, 19702, 21096, 502, 96]\n",
            "9 : [16006, 7466, 1145, 61, 14916, 58, 15346, 431, 7]\n",
            "32 : [8256, 24051, 237, 10451, 19702, 21096, 502, 96, 0, 0, 0, 0, 0, 0, 0, 0, 0, 0, 0, 0, 0, 0, 0, 0, 0, 0, 0, 0, 0, 0, 0, 0]\n",
            "40 : [2, 16006, 7466, 1145, 61, 14916, 58, 15346, 431, 7, 0, 0, 0, 0, 0, 0, 0, 0, 0, 0, 0, 0, 0, 0, 0, 0, 0, 0, 0, 0, 0, 0, 0, 0, 0, 0, 0, 0, 0, 0]\n",
            "40 : [16006, 7466, 1145, 61, 14916, 58, 15346, 431, 7, 3, 0, 0, 0, 0, 0, 0, 0, 0, 0, 0, 0, 0, 0, 0, 0, 0, 0, 0, 0, 0, 0, 0, 0, 0, 0, 0, 0, 0, 0, 0]\n",
            "\n",
            "혼자 노래방 가면 어색할 거 같은데 / 신나는 노래로 분위기를 띄어보세요.\n",
            "10 : ['▁혼자', '▁노래', '방', '▁가면', '▁어', '색', '할', '▁거', '▁같은', '데']\n",
            "8 : ['▁신', '나는', '▁노래로', '▁분위기를', '▁띄어', '보', '세요', '.']\n",
            "10 : [8121, 1186, 377, 9379, 492, 905, 60, 1140, 98, 298]\n",
            "8 : [186, 3649, 16788, 14055, 26898, 191, 15319, 7]\n",
            "32 : [8121, 1186, 377, 9379, 492, 905, 60, 1140, 98, 298, 0, 0, 0, 0, 0, 0, 0, 0, 0, 0, 0, 0, 0, 0, 0, 0, 0, 0, 0, 0, 0, 0]\n",
            "40 : [2, 186, 3649, 16788, 14055, 26898, 191, 15319, 7, 0, 0, 0, 0, 0, 0, 0, 0, 0, 0, 0, 0, 0, 0, 0, 0, 0, 0, 0, 0, 0, 0, 0, 0, 0, 0, 0, 0, 0, 0, 0]\n",
            "40 : [186, 3649, 16788, 14055, 26898, 191, 15319, 7, 3, 0, 0, 0, 0, 0, 0, 0, 0, 0, 0, 0, 0, 0, 0, 0, 0, 0, 0, 0, 0, 0, 0, 0, 0, 0, 0, 0, 0, 0, 0, 0]\n",
            "\n",
            "기회도 없네. / 다른 기회가 올 거예요.\n",
            "5 : ['▁기회', '도', '▁없', '네', '.']\n",
            "8 : ['▁다른', '▁기회', '가', '▁올', '▁거', '예', '요', '.']\n",
            "5 : [4828, 32, 6943, 343, 7]\n",
            "8 : [93, 4828, 19, 1793, 1140, 625, 431, 7]\n",
            "32 : [4828, 32, 6943, 343, 7, 0, 0, 0, 0, 0, 0, 0, 0, 0, 0, 0, 0, 0, 0, 0, 0, 0, 0, 0, 0, 0, 0, 0, 0, 0, 0, 0]\n",
            "40 : [2, 93, 4828, 19, 1793, 1140, 625, 431, 7, 0, 0, 0, 0, 0, 0, 0, 0, 0, 0, 0, 0, 0, 0, 0, 0, 0, 0, 0, 0, 0, 0, 0, 0, 0, 0, 0, 0, 0, 0, 0]\n",
            "40 : [93, 4828, 19, 1793, 1140, 625, 431, 7, 3, 0, 0, 0, 0, 0, 0, 0, 0, 0, 0, 0, 0, 0, 0, 0, 0, 0, 0, 0, 0, 0, 0, 0, 0, 0, 0, 0, 0, 0, 0, 0]\n",
            "\n",
            "사랑한 만큼 배려해야했어 / 이제야 깨달았나봐요.\n",
            "7 : ['▁사랑', '한', '▁만큼', '▁배려', '해야', '했', '어']\n",
            "9 : ['▁이제', '야', '▁깨', '달', '았', '나', '봐', '요', '.']\n",
            "7 : [1816, 33, 2881, 14519, 755, 5120, 110]\n",
            "9 : [3379, 173, 4221, 726, 9815, 58, 15346, 431, 7]\n",
            "32 : [1816, 33, 2881, 14519, 755, 5120, 110, 0, 0, 0, 0, 0, 0, 0, 0, 0, 0, 0, 0, 0, 0, 0, 0, 0, 0, 0, 0, 0, 0, 0, 0, 0]\n",
            "40 : [2, 3379, 173, 4221, 726, 9815, 58, 15346, 431, 7, 0, 0, 0, 0, 0, 0, 0, 0, 0, 0, 0, 0, 0, 0, 0, 0, 0, 0, 0, 0, 0, 0, 0, 0, 0, 0, 0, 0, 0, 0]\n",
            "40 : [3379, 173, 4221, 726, 9815, 58, 15346, 431, 7, 3, 0, 0, 0, 0, 0, 0, 0, 0, 0, 0, 0, 0, 0, 0, 0, 0, 0, 0, 0, 0, 0, 0, 0, 0, 0, 0, 0, 0, 0, 0]\n",
            "\n",
            "여자친구가 전화를 안해 / 다른 연락을 많이 하거나 더 자주 만나세요.\n",
            "5 : ['▁여자친구', '가', '▁전화를', '▁안', '해']\n",
            "10 : ['▁다른', '▁연락', '을', '▁많이', '▁하거나', '▁더', '▁자주', '▁만나', '세요', '.']\n",
            "5 : [19577, 19, 16656, 295, 61]\n",
            "10 : [93, 5324, 16, 522, 10087, 149, 1377, 2014, 15319, 7]\n",
            "32 : [19577, 19, 16656, 295, 61, 0, 0, 0, 0, 0, 0, 0, 0, 0, 0, 0, 0, 0, 0, 0, 0, 0, 0, 0, 0, 0, 0, 0, 0, 0, 0, 0]\n",
            "40 : [2, 93, 5324, 16, 522, 10087, 149, 1377, 2014, 15319, 7, 0, 0, 0, 0, 0, 0, 0, 0, 0, 0, 0, 0, 0, 0, 0, 0, 0, 0, 0, 0, 0, 0, 0, 0, 0, 0, 0, 0, 0]\n",
            "40 : [93, 5324, 16, 522, 10087, 149, 1377, 2014, 15319, 7, 3, 0, 0, 0, 0, 0, 0, 0, 0, 0, 0, 0, 0, 0, 0, 0, 0, 0, 0, 0, 0, 0, 0, 0, 0, 0, 0, 0, 0, 0]\n",
            "\n",
            "못생긴 남자를 좋아하는 여자가 있을지. / 외모가 중요한 시대는 끝났어요.\n",
            "11 : ['▁못', '생', '긴', '▁남자', '를', '▁좋아하는', '▁여자', '가', '▁있을', '지', '.']\n",
            "8 : ['▁외모', '가', '▁중요한', '▁시대', '는', '▁끝났', '어요', '.']\n",
            "11 : [1382, 489, 1994, 1041, 20, 8272, 646, 19, 860, 47, 7]\n",
            "8 : [11826, 19, 705, 821, 11, 16489, 15963, 7]\n",
            "32 : [1382, 489, 1994, 1041, 20, 8272, 646, 19, 860, 47, 7, 0, 0, 0, 0, 0, 0, 0, 0, 0, 0, 0, 0, 0, 0, 0, 0, 0, 0, 0, 0, 0]\n",
            "40 : [2, 11826, 19, 705, 821, 11, 16489, 15963, 7, 0, 0, 0, 0, 0, 0, 0, 0, 0, 0, 0, 0, 0, 0, 0, 0, 0, 0, 0, 0, 0, 0, 0, 0, 0, 0, 0, 0, 0, 0, 0]\n",
            "40 : [11826, 19, 705, 821, 11, 16489, 15963, 7, 3, 0, 0, 0, 0, 0, 0, 0, 0, 0, 0, 0, 0, 0, 0, 0, 0, 0, 0, 0, 0, 0, 0, 0, 0, 0, 0, 0, 0, 0, 0, 0]\n",
            "\n"
          ],
          "name": "stdout"
        },
        {
          "output_type": "execute_result",
          "data": {
            "text/plain": [
              "(array([[ 2261,   389,    26,    10, 28134,   481,  1162,    62,   210,\n",
              "             7, 22827,    16,  2657,  1860,     0,     0,     0,     0,\n",
              "             0,     0,     0,     0,     0,     0,     0,     0,     0,\n",
              "             0,     0,     0,     0,     0],\n",
              "        [ 8255,   147,    37,    13, 12600,  1513,   925,    32,  6943,\n",
              "           343,     0,     0,     0,     0,     0,     0,     0,     0,\n",
              "             0,     0,     0,     0,     0,     0,     0,     0,     0,\n",
              "             0,     0,     0,     0,     0],\n",
              "        [ 3299,  5537,   447,    10, 19191,   437,  1980,    42,   128,\n",
              "           339,    16,  5922, 15509,     0,     0,     0,     0,     0,\n",
              "             0,     0,     0,     0,     0,     0,     0,     0,     0,\n",
              "             0,     0,     0,     0,     0],\n",
              "        [  631,  4167,   492,  1406,     0,     0,     0,     0,     0,\n",
              "             0,     0,     0,     0,     0,     0,     0,     0,     0,\n",
              "             0,     0,     0,     0,     0,     0,     0,     0,     0,\n",
              "             0,     0,     0,     0,     0],\n",
              "        [ 8256, 24051,   237, 10451, 19702, 21096,   502,    96,     0,\n",
              "             0,     0,     0,     0,     0,     0,     0,     0,     0,\n",
              "             0,     0,     0,     0,     0,     0,     0,     0,     0,\n",
              "             0,     0,     0,     0,     0],\n",
              "        [ 8121,  1186,   377,  9379,   492,   905,    60,  1140,    98,\n",
              "           298,     0,     0,     0,     0,     0,     0,     0,     0,\n",
              "             0,     0,     0,     0,     0,     0,     0,     0,     0,\n",
              "             0,     0,     0,     0,     0],\n",
              "        [ 4828,    32,  6943,   343,     7,     0,     0,     0,     0,\n",
              "             0,     0,     0,     0,     0,     0,     0,     0,     0,\n",
              "             0,     0,     0,     0,     0,     0,     0,     0,     0,\n",
              "             0,     0,     0,     0,     0],\n",
              "        [ 1816,    33,  2881, 14519,   755,  5120,   110,     0,     0,\n",
              "             0,     0,     0,     0,     0,     0,     0,     0,     0,\n",
              "             0,     0,     0,     0,     0,     0,     0,     0,     0,\n",
              "             0,     0,     0,     0,     0],\n",
              "        [19577,    19, 16656,   295,    61,     0,     0,     0,     0,\n",
              "             0,     0,     0,     0,     0,     0,     0,     0,     0,\n",
              "             0,     0,     0,     0,     0,     0,     0,     0,     0,\n",
              "             0,     0,     0,     0,     0],\n",
              "        [ 1382,   489,  1994,  1041,    20,  8272,   646,    19,   860,\n",
              "            47,     7,     0,     0,     0,     0,     0,     0,     0,\n",
              "             0,     0,     0,     0,     0,     0,     0,     0,     0,\n",
              "             0,     0,     0,     0,     0]], dtype=int32),\n",
              " array([[    2,  8223,   109,  3971,     9,   396,  8933,   431,     7,\n",
              "             0,     0,     0,     0,     0,     0,     0,     0,     0,\n",
              "             0,     0,     0,     0,     0,     0,     0,     0,     0,\n",
              "             0,     0,     0,     0,     0,     0,     0,     0,     0,\n",
              "             0,     0,     0,     0],\n",
              "        [    2,  2505,  4743,  3424, 15489,    43,   178, 15319,     7,\n",
              "             0,     0,     0,     0,     0,     0,     0,     0,     0,\n",
              "             0,     0,     0,     0,     0,     0,     0,     0,     0,\n",
              "             0,     0,     0,     0,     0,     0,     0,     0,     0,\n",
              "             0,     0,     0,     0],\n",
              "        [    2,  4620,    17,   465,   262,   624,  5304,     7,     0,\n",
              "             0,     0,     0,     0,     0,     0,     0,     0,     0,\n",
              "             0,     0,     0,     0,     0,     0,     0,     0,     0,\n",
              "             0,     0,     0,     0,     0,     0,     0,     0,     0,\n",
              "             0,     0,     0,     0],\n",
              "        [    2, 22324,   431,     7,     0,     0,     0,     0,     0,\n",
              "             0,     0,     0,     0,     0,     0,     0,     0,     0,\n",
              "             0,     0,     0,     0,     0,     0,     0,     0,     0,\n",
              "             0,     0,     0,     0,     0,     0,     0,     0,     0,\n",
              "             0,     0,     0,     0],\n",
              "        [    2, 16006,  7466,  1145,    61, 14916,    58, 15346,   431,\n",
              "             7,     0,     0,     0,     0,     0,     0,     0,     0,\n",
              "             0,     0,     0,     0,     0,     0,     0,     0,     0,\n",
              "             0,     0,     0,     0,     0,     0,     0,     0,     0,\n",
              "             0,     0,     0,     0],\n",
              "        [    2,   186,  3649, 16788, 14055, 26898,   191, 15319,     7,\n",
              "             0,     0,     0,     0,     0,     0,     0,     0,     0,\n",
              "             0,     0,     0,     0,     0,     0,     0,     0,     0,\n",
              "             0,     0,     0,     0,     0,     0,     0,     0,     0,\n",
              "             0,     0,     0,     0],\n",
              "        [    2,    93,  4828,    19,  1793,  1140,   625,   431,     7,\n",
              "             0,     0,     0,     0,     0,     0,     0,     0,     0,\n",
              "             0,     0,     0,     0,     0,     0,     0,     0,     0,\n",
              "             0,     0,     0,     0,     0,     0,     0,     0,     0,\n",
              "             0,     0,     0,     0],\n",
              "        [    2,  3379,   173,  4221,   726,  9815,    58, 15346,   431,\n",
              "             7,     0,     0,     0,     0,     0,     0,     0,     0,\n",
              "             0,     0,     0,     0,     0,     0,     0,     0,     0,\n",
              "             0,     0,     0,     0,     0,     0,     0,     0,     0,\n",
              "             0,     0,     0,     0],\n",
              "        [    2,    93,  5324,    16,   522, 10087,   149,  1377,  2014,\n",
              "         15319,     7,     0,     0,     0,     0,     0,     0,     0,\n",
              "             0,     0,     0,     0,     0,     0,     0,     0,     0,\n",
              "             0,     0,     0,     0,     0,     0,     0,     0,     0,\n",
              "             0,     0,     0,     0],\n",
              "        [    2, 11826,    19,   705,   821,    11, 16489, 15963,     7,\n",
              "             0,     0,     0,     0,     0,     0,     0,     0,     0,\n",
              "             0,     0,     0,     0,     0,     0,     0,     0,     0,\n",
              "             0,     0,     0,     0,     0,     0,     0,     0,     0,\n",
              "             0,     0,     0,     0]], dtype=int32),\n",
              " array([[ 8223,   109,  3971,     9,   396,  8933,   431,     7,     3,\n",
              "             0,     0,     0,     0,     0,     0,     0,     0,     0,\n",
              "             0,     0,     0,     0,     0,     0,     0,     0,     0,\n",
              "             0,     0,     0,     0,     0,     0,     0,     0,     0,\n",
              "             0,     0,     0,     0],\n",
              "        [ 2505,  4743,  3424, 15489,    43,   178, 15319,     7,     3,\n",
              "             0,     0,     0,     0,     0,     0,     0,     0,     0,\n",
              "             0,     0,     0,     0,     0,     0,     0,     0,     0,\n",
              "             0,     0,     0,     0,     0,     0,     0,     0,     0,\n",
              "             0,     0,     0,     0],\n",
              "        [ 4620,    17,   465,   262,   624,  5304,     7,     3,     0,\n",
              "             0,     0,     0,     0,     0,     0,     0,     0,     0,\n",
              "             0,     0,     0,     0,     0,     0,     0,     0,     0,\n",
              "             0,     0,     0,     0,     0,     0,     0,     0,     0,\n",
              "             0,     0,     0,     0],\n",
              "        [22324,   431,     7,     3,     0,     0,     0,     0,     0,\n",
              "             0,     0,     0,     0,     0,     0,     0,     0,     0,\n",
              "             0,     0,     0,     0,     0,     0,     0,     0,     0,\n",
              "             0,     0,     0,     0,     0,     0,     0,     0,     0,\n",
              "             0,     0,     0,     0],\n",
              "        [16006,  7466,  1145,    61, 14916,    58, 15346,   431,     7,\n",
              "             3,     0,     0,     0,     0,     0,     0,     0,     0,\n",
              "             0,     0,     0,     0,     0,     0,     0,     0,     0,\n",
              "             0,     0,     0,     0,     0,     0,     0,     0,     0,\n",
              "             0,     0,     0,     0],\n",
              "        [  186,  3649, 16788, 14055, 26898,   191, 15319,     7,     3,\n",
              "             0,     0,     0,     0,     0,     0,     0,     0,     0,\n",
              "             0,     0,     0,     0,     0,     0,     0,     0,     0,\n",
              "             0,     0,     0,     0,     0,     0,     0,     0,     0,\n",
              "             0,     0,     0,     0],\n",
              "        [   93,  4828,    19,  1793,  1140,   625,   431,     7,     3,\n",
              "             0,     0,     0,     0,     0,     0,     0,     0,     0,\n",
              "             0,     0,     0,     0,     0,     0,     0,     0,     0,\n",
              "             0,     0,     0,     0,     0,     0,     0,     0,     0,\n",
              "             0,     0,     0,     0],\n",
              "        [ 3379,   173,  4221,   726,  9815,    58, 15346,   431,     7,\n",
              "             3,     0,     0,     0,     0,     0,     0,     0,     0,\n",
              "             0,     0,     0,     0,     0,     0,     0,     0,     0,\n",
              "             0,     0,     0,     0,     0,     0,     0,     0,     0,\n",
              "             0,     0,     0,     0],\n",
              "        [   93,  5324,    16,   522, 10087,   149,  1377,  2014, 15319,\n",
              "             7,     3,     0,     0,     0,     0,     0,     0,     0,\n",
              "             0,     0,     0,     0,     0,     0,     0,     0,     0,\n",
              "             0,     0,     0,     0,     0,     0,     0,     0,     0,\n",
              "             0,     0,     0,     0],\n",
              "        [11826,    19,   705,   821,    11, 16489, 15963,     7,     3,\n",
              "             0,     0,     0,     0,     0,     0,     0,     0,     0,\n",
              "             0,     0,     0,     0,     0,     0,     0,     0,     0,\n",
              "             0,     0,     0,     0,     0,     0,     0,     0,     0,\n",
              "             0,     0,     0,     0]], dtype=int32))"
            ]
          },
          "metadata": {
            "tags": []
          },
          "execution_count": 75
        }
      ]
    },
    {
      "cell_type": "markdown",
      "metadata": {
        "id": "IFTsdA3kE2h-"
      },
      "source": [
        "## 학습"
      ]
    },
    {
      "cell_type": "code",
      "metadata": {
        "id": "KxTRu5kVNA59",
        "colab": {
          "base_uri": "https://localhost:8080/",
          "height": 644
        },
        "outputId": "ef3f021f-95b5-4b83-e30c-c0e7775967ee"
      },
      "source": [
        "# 모델 생성\n",
        "model = build_model(len(vocab), d_model, n_enc_seq, n_dec_seq)\n",
        "# 모델 내용 그래프 출력\n",
        "tf.keras.utils.plot_model(model, 'model.png', show_shapes=True)"
      ],
      "execution_count": 76,
      "outputs": [
        {
          "output_type": "execute_result",
          "data": {
            "image/png": "[encoded data removed]",
            "text/plain": [
              "<IPython.core.display.Image object>"
            ]
          },
          "metadata": {
            "tags": []
          },
          "execution_count": 76
        }
      ]
    },
    {
      "cell_type": "code",
      "metadata": {
        "id": "X7UDvaPqEx1c"
      },
      "source": [
        "# 모델 loss, optimizer, metric 정의\n",
        "model.compile(loss=lm_loss, optimizer='adam', metrics=[lm_acc])"
      ],
      "execution_count": 77,
      "outputs": []
    },
    {
      "cell_type": "code",
      "metadata": {
        "id": "-FQBJ2aQLXdp"
      },
      "source": [
        "# early stopping\n",
        "early_stopping = tf.keras.callbacks.EarlyStopping(monitor='lm_acc', patience=100)\n",
        "# save weights callback\n",
        "save_weights = tf.keras.callbacks.ModelCheckpoint(os.path.join(songys_dir, 'lstm.hdf5'),\n",
        "                                                  monitor='lm_acc',\n",
        "                                                  verbose=1,\n",
        "                                                  save_best_only=True,\n",
        "                                                  mode=\"max\",\n",
        "                                                  save_freq=\"epoch\",\n",
        "                                                  save_weights_only=True)\n",
        "# csv logger\n",
        "csv_logger = tf.keras.callbacks.CSVLogger(os.path.join(songys_dir, 'lstm.csv'))"
      ],
      "execution_count": 78,
      "outputs": []
    },
    {
      "cell_type": "code",
      "metadata": {
        "id": "MSyF0MvAFGoJ",
        "colab": {
          "base_uri": "https://localhost:8080/"
        },
        "outputId": "f6d8175f-59ea-4f3a-fdee-bd6a01f46931"
      },
      "source": [
        "# 모델 학습\n",
        "history = model.fit((train_enc_inputs, train_dec_inputs),\n",
        "                    train_labels,\n",
        "                    epochs=400,\n",
        "                    batch_size=256,\n",
        "                    callbacks=[early_stopping, save_weights, csv_logger])"
      ],
      "execution_count": 79,
      "outputs": [
        {
          "output_type": "stream",
          "text": [
            "Epoch 1/400\n",
            "1/1 [==============================] - 4s 4s/step - loss: 2.2822 - lm_acc: 0.0000e+00\n",
            "\n",
            "Epoch 00001: lm_acc improved from -inf to 0.00000, saving model to /content/drive/MyDrive/kowiki/songys/lstm.hdf5\n",
            "Epoch 2/400\n",
            "1/1 [==============================] - 0s 189ms/step - loss: 2.2808 - lm_acc: 0.2386\n",
            "\n",
            "Epoch 00002: lm_acc improved from 0.00000 to 0.23864, saving model to /content/drive/MyDrive/kowiki/songys/lstm.hdf5\n",
            "Epoch 3/400\n",
            "1/1 [==============================] - 0s 195ms/step - loss: 2.2790 - lm_acc: 0.2500\n",
            "\n",
            "Epoch 00003: lm_acc improved from 0.23864 to 0.25000, saving model to /content/drive/MyDrive/kowiki/songys/lstm.hdf5\n",
            "Epoch 4/400\n",
            "1/1 [==============================] - 0s 133ms/step - loss: 2.2758 - lm_acc: 0.2386\n",
            "\n",
            "Epoch 00004: lm_acc did not improve from 0.25000\n",
            "Epoch 5/400\n",
            "1/1 [==============================] - 0s 137ms/step - loss: 2.2691 - lm_acc: 0.1932\n",
            "\n",
            "Epoch 00005: lm_acc did not improve from 0.25000\n",
            "Epoch 6/400\n",
            "1/1 [==============================] - 0s 133ms/step - loss: 2.2520 - lm_acc: 0.1364\n",
            "\n",
            "Epoch 00006: lm_acc did not improve from 0.25000\n",
            "Epoch 7/400\n",
            "1/1 [==============================] - 0s 127ms/step - loss: 2.2055 - lm_acc: 0.1364\n",
            "\n",
            "Epoch 00007: lm_acc did not improve from 0.25000\n",
            "Epoch 8/400\n",
            "1/1 [==============================] - 0s 133ms/step - loss: 2.1037 - lm_acc: 0.1364\n",
            "\n",
            "Epoch 00008: lm_acc did not improve from 0.25000\n",
            "Epoch 9/400\n",
            "1/1 [==============================] - 0s 128ms/step - loss: 1.9662 - lm_acc: 0.1364\n",
            "\n",
            "Epoch 00009: lm_acc did not improve from 0.25000\n",
            "Epoch 10/400\n",
            "1/1 [==============================] - 0s 129ms/step - loss: 1.8203 - lm_acc: 0.1364\n",
            "\n",
            "Epoch 00010: lm_acc did not improve from 0.25000\n",
            "Epoch 11/400\n",
            "1/1 [==============================] - 0s 130ms/step - loss: 1.6596 - lm_acc: 0.1364\n",
            "\n",
            "Epoch 00011: lm_acc did not improve from 0.25000\n",
            "Epoch 12/400\n",
            "1/1 [==============================] - 0s 124ms/step - loss: 1.4751 - lm_acc: 0.1364\n",
            "\n",
            "Epoch 00012: lm_acc did not improve from 0.25000\n",
            "Epoch 13/400\n",
            "1/1 [==============================] - 0s 123ms/step - loss: 1.2755 - lm_acc: 0.1364\n",
            "\n",
            "Epoch 00013: lm_acc did not improve from 0.25000\n",
            "Epoch 14/400\n",
            "1/1 [==============================] - 0s 135ms/step - loss: 1.0892 - lm_acc: 0.1364\n",
            "\n",
            "Epoch 00014: lm_acc did not improve from 0.25000\n",
            "Epoch 15/400\n",
            "1/1 [==============================] - 0s 120ms/step - loss: 0.9492 - lm_acc: 0.1364\n",
            "\n",
            "Epoch 00015: lm_acc did not improve from 0.25000\n",
            "Epoch 16/400\n",
            "1/1 [==============================] - 0s 124ms/step - loss: 0.8648 - lm_acc: 0.1364\n",
            "\n",
            "Epoch 00016: lm_acc did not improve from 0.25000\n",
            "Epoch 17/400\n",
            "1/1 [==============================] - 0s 128ms/step - loss: 0.8190 - lm_acc: 0.1364\n",
            "\n",
            "Epoch 00017: lm_acc did not improve from 0.25000\n",
            "Epoch 18/400\n",
            "1/1 [==============================] - 0s 124ms/step - loss: 0.7913 - lm_acc: 0.1364\n",
            "\n",
            "Epoch 00018: lm_acc did not improve from 0.25000\n",
            "Epoch 19/400\n",
            "1/1 [==============================] - 0s 125ms/step - loss: 0.7715 - lm_acc: 0.1364\n",
            "\n",
            "Epoch 00019: lm_acc did not improve from 0.25000\n",
            "Epoch 20/400\n",
            "1/1 [==============================] - 0s 125ms/step - loss: 0.7570 - lm_acc: 0.1364\n",
            "\n",
            "Epoch 00020: lm_acc did not improve from 0.25000\n",
            "Epoch 21/400\n",
            "1/1 [==============================] - 0s 124ms/step - loss: 0.7464 - lm_acc: 0.1364\n",
            "\n",
            "Epoch 00021: lm_acc did not improve from 0.25000\n",
            "Epoch 22/400\n",
            "1/1 [==============================] - 0s 123ms/step - loss: 0.7383 - lm_acc: 0.1364\n",
            "\n",
            "Epoch 00022: lm_acc did not improve from 0.25000\n",
            "Epoch 23/400\n",
            "1/1 [==============================] - 0s 123ms/step - loss: 0.7324 - lm_acc: 0.1364\n",
            "\n",
            "Epoch 00023: lm_acc did not improve from 0.25000\n",
            "Epoch 24/400\n",
            "1/1 [==============================] - 0s 128ms/step - loss: 0.7276 - lm_acc: 0.1364\n",
            "\n",
            "Epoch 00024: lm_acc did not improve from 0.25000\n",
            "Epoch 25/400\n",
            "1/1 [==============================] - 0s 116ms/step - loss: 0.7226 - lm_acc: 0.1477\n",
            "\n",
            "Epoch 00025: lm_acc did not improve from 0.25000\n",
            "Epoch 26/400\n",
            "1/1 [==============================] - 0s 120ms/step - loss: 0.7177 - lm_acc: 0.1364\n",
            "\n",
            "Epoch 00026: lm_acc did not improve from 0.25000\n",
            "Epoch 27/400\n",
            "1/1 [==============================] - 0s 117ms/step - loss: 0.7127 - lm_acc: 0.1364\n",
            "\n",
            "Epoch 00027: lm_acc did not improve from 0.25000\n",
            "Epoch 28/400\n",
            "1/1 [==============================] - 0s 117ms/step - loss: 0.7074 - lm_acc: 0.1364\n",
            "\n",
            "Epoch 00028: lm_acc did not improve from 0.25000\n",
            "Epoch 29/400\n",
            "1/1 [==============================] - 0s 111ms/step - loss: 0.7018 - lm_acc: 0.1364\n",
            "\n",
            "Epoch 00029: lm_acc did not improve from 0.25000\n",
            "Epoch 30/400\n",
            "1/1 [==============================] - 0s 117ms/step - loss: 0.6969 - lm_acc: 0.1477\n",
            "\n",
            "Epoch 00030: lm_acc did not improve from 0.25000\n",
            "Epoch 31/400\n",
            "1/1 [==============================] - 0s 118ms/step - loss: 0.6927 - lm_acc: 0.1477\n",
            "\n",
            "Epoch 00031: lm_acc did not improve from 0.25000\n",
            "Epoch 32/400\n",
            "1/1 [==============================] - 0s 117ms/step - loss: 0.6883 - lm_acc: 0.1477\n",
            "\n",
            "Epoch 00032: lm_acc did not improve from 0.25000\n",
            "Epoch 33/400\n",
            "1/1 [==============================] - 0s 116ms/step - loss: 0.6841 - lm_acc: 0.1364\n",
            "\n",
            "Epoch 00033: lm_acc did not improve from 0.25000\n",
            "Epoch 34/400\n",
            "1/1 [==============================] - 0s 111ms/step - loss: 0.6803 - lm_acc: 0.1364\n",
            "\n",
            "Epoch 00034: lm_acc did not improve from 0.25000\n",
            "Epoch 35/400\n",
            "1/1 [==============================] - 0s 110ms/step - loss: 0.6766 - lm_acc: 0.1364\n",
            "\n",
            "Epoch 00035: lm_acc did not improve from 0.25000\n",
            "Epoch 36/400\n",
            "1/1 [==============================] - 0s 116ms/step - loss: 0.6731 - lm_acc: 0.1364\n",
            "\n",
            "Epoch 00036: lm_acc did not improve from 0.25000\n",
            "Epoch 37/400\n",
            "1/1 [==============================] - 0s 111ms/step - loss: 0.6695 - lm_acc: 0.1364\n",
            "\n",
            "Epoch 00037: lm_acc did not improve from 0.25000\n",
            "Epoch 38/400\n",
            "1/1 [==============================] - 0s 119ms/step - loss: 0.6660 - lm_acc: 0.1477\n",
            "\n",
            "Epoch 00038: lm_acc did not improve from 0.25000\n",
            "Epoch 39/400\n",
            "1/1 [==============================] - 0s 110ms/step - loss: 0.6625 - lm_acc: 0.1477\n",
            "\n",
            "Epoch 00039: lm_acc did not improve from 0.25000\n",
            "Epoch 40/400\n",
            "1/1 [==============================] - 0s 116ms/step - loss: 0.6591 - lm_acc: 0.1477\n",
            "\n",
            "Epoch 00040: lm_acc did not improve from 0.25000\n",
            "Epoch 41/400\n",
            "1/1 [==============================] - 0s 118ms/step - loss: 0.6560 - lm_acc: 0.1477\n",
            "\n",
            "Epoch 00041: lm_acc did not improve from 0.25000\n",
            "Epoch 42/400\n",
            "1/1 [==============================] - 0s 123ms/step - loss: 0.6530 - lm_acc: 0.1477\n",
            "\n",
            "Epoch 00042: lm_acc did not improve from 0.25000\n",
            "Epoch 43/400\n",
            "1/1 [==============================] - 0s 115ms/step - loss: 0.6501 - lm_acc: 0.1364\n",
            "\n",
            "Epoch 00043: lm_acc did not improve from 0.25000\n",
            "Epoch 44/400\n",
            "1/1 [==============================] - 0s 114ms/step - loss: 0.6472 - lm_acc: 0.1477\n",
            "\n",
            "Epoch 00044: lm_acc did not improve from 0.25000\n",
            "Epoch 45/400\n",
            "1/1 [==============================] - 0s 115ms/step - loss: 0.6444 - lm_acc: 0.1477\n",
            "\n",
            "Epoch 00045: lm_acc did not improve from 0.25000\n",
            "Epoch 46/400\n",
            "1/1 [==============================] - 0s 112ms/step - loss: 0.6419 - lm_acc: 0.1477\n",
            "\n",
            "Epoch 00046: lm_acc did not improve from 0.25000\n",
            "Epoch 47/400\n",
            "1/1 [==============================] - 0s 116ms/step - loss: 0.6391 - lm_acc: 0.1477\n",
            "\n",
            "Epoch 00047: lm_acc did not improve from 0.25000\n",
            "Epoch 48/400\n",
            "1/1 [==============================] - 0s 115ms/step - loss: 0.6360 - lm_acc: 0.1591\n",
            "\n",
            "Epoch 00048: lm_acc did not improve from 0.25000\n",
            "Epoch 49/400\n",
            "1/1 [==============================] - 0s 125ms/step - loss: 0.6327 - lm_acc: 0.1591\n",
            "\n",
            "Epoch 00049: lm_acc did not improve from 0.25000\n",
            "Epoch 50/400\n",
            "1/1 [==============================] - 0s 115ms/step - loss: 0.6212 - lm_acc: 0.1705\n",
            "\n",
            "Epoch 00050: lm_acc did not improve from 0.25000\n",
            "Epoch 51/400\n",
            "1/1 [==============================] - 0s 118ms/step - loss: 0.6278 - lm_acc: 0.1477\n",
            "\n",
            "Epoch 00051: lm_acc did not improve from 0.25000\n",
            "Epoch 52/400\n",
            "1/1 [==============================] - 0s 113ms/step - loss: 0.6257 - lm_acc: 0.1477\n",
            "\n",
            "Epoch 00052: lm_acc did not improve from 0.25000\n",
            "Epoch 53/400\n",
            "1/1 [==============================] - 0s 117ms/step - loss: 0.6230 - lm_acc: 0.1477\n",
            "\n",
            "Epoch 00053: lm_acc did not improve from 0.25000\n",
            "Epoch 54/400\n",
            "1/1 [==============================] - 0s 115ms/step - loss: 0.6209 - lm_acc: 0.1477\n",
            "\n",
            "Epoch 00054: lm_acc did not improve from 0.25000\n",
            "Epoch 55/400\n",
            "1/1 [==============================] - 0s 120ms/step - loss: 0.6185 - lm_acc: 0.1477\n",
            "\n",
            "Epoch 00055: lm_acc did not improve from 0.25000\n",
            "Epoch 56/400\n",
            "1/1 [==============================] - 0s 114ms/step - loss: 0.6156 - lm_acc: 0.1477\n",
            "\n",
            "Epoch 00056: lm_acc did not improve from 0.25000\n",
            "Epoch 57/400\n",
            "1/1 [==============================] - 0s 123ms/step - loss: 0.6130 - lm_acc: 0.1477\n",
            "\n",
            "Epoch 00057: lm_acc did not improve from 0.25000\n",
            "Epoch 58/400\n",
            "1/1 [==============================] - 0s 112ms/step - loss: 0.6097 - lm_acc: 0.1591\n",
            "\n",
            "Epoch 00058: lm_acc did not improve from 0.25000\n",
            "Epoch 59/400\n",
            "1/1 [==============================] - 0s 117ms/step - loss: 0.5972 - lm_acc: 0.1932\n",
            "\n",
            "Epoch 00059: lm_acc did not improve from 0.25000\n",
            "Epoch 60/400\n",
            "1/1 [==============================] - 0s 112ms/step - loss: 0.6060 - lm_acc: 0.1477\n",
            "\n",
            "Epoch 00060: lm_acc did not improve from 0.25000\n",
            "Epoch 61/400\n",
            "1/1 [==============================] - 0s 116ms/step - loss: 0.6041 - lm_acc: 0.1477\n",
            "\n",
            "Epoch 00061: lm_acc did not improve from 0.25000\n",
            "Epoch 62/400\n",
            "1/1 [==============================] - 0s 114ms/step - loss: 0.6018 - lm_acc: 0.1477\n",
            "\n",
            "Epoch 00062: lm_acc did not improve from 0.25000\n",
            "Epoch 63/400\n",
            "1/1 [==============================] - 0s 118ms/step - loss: 0.6006 - lm_acc: 0.1477\n",
            "\n",
            "Epoch 00063: lm_acc did not improve from 0.25000\n",
            "Epoch 64/400\n",
            "1/1 [==============================] - 0s 112ms/step - loss: 0.5977 - lm_acc: 0.1591\n",
            "\n",
            "Epoch 00064: lm_acc did not improve from 0.25000\n",
            "Epoch 65/400\n",
            "1/1 [==============================] - 0s 118ms/step - loss: 0.5958 - lm_acc: 0.1477\n",
            "\n",
            "Epoch 00065: lm_acc did not improve from 0.25000\n",
            "Epoch 66/400\n",
            "1/1 [==============================] - 0s 121ms/step - loss: 0.5939 - lm_acc: 0.1477\n",
            "\n",
            "Epoch 00066: lm_acc did not improve from 0.25000\n",
            "Epoch 67/400\n",
            "1/1 [==============================] - 0s 117ms/step - loss: 0.5911 - lm_acc: 0.1477\n",
            "\n",
            "Epoch 00067: lm_acc did not improve from 0.25000\n",
            "Epoch 68/400\n",
            "1/1 [==============================] - 0s 112ms/step - loss: 0.5896 - lm_acc: 0.1477\n",
            "\n",
            "Epoch 00068: lm_acc did not improve from 0.25000\n",
            "Epoch 69/400\n",
            "1/1 [==============================] - 0s 117ms/step - loss: 0.5874 - lm_acc: 0.1591\n",
            "\n",
            "Epoch 00069: lm_acc did not improve from 0.25000\n",
            "Epoch 70/400\n",
            "1/1 [==============================] - 0s 112ms/step - loss: 0.5851 - lm_acc: 0.1591\n",
            "\n",
            "Epoch 00070: lm_acc did not improve from 0.25000\n",
            "Epoch 71/400\n",
            "1/1 [==============================] - 0s 119ms/step - loss: 0.5834 - lm_acc: 0.1591\n",
            "\n",
            "Epoch 00071: lm_acc did not improve from 0.25000\n",
            "Epoch 72/400\n",
            "1/1 [==============================] - 0s 114ms/step - loss: 0.5810 - lm_acc: 0.1818\n",
            "\n",
            "Epoch 00072: lm_acc did not improve from 0.25000\n",
            "Epoch 73/400\n",
            "1/1 [==============================] - 0s 119ms/step - loss: 0.5789 - lm_acc: 0.2727\n",
            "\n",
            "Epoch 00073: lm_acc improved from 0.25000 to 0.27273, saving model to /content/drive/MyDrive/kowiki/songys/lstm.hdf5\n",
            "Epoch 74/400\n",
            "1/1 [==============================] - 0s 127ms/step - loss: 0.5770 - lm_acc: 0.2159\n",
            "\n",
            "Epoch 00074: lm_acc did not improve from 0.27273\n",
            "Epoch 75/400\n",
            "1/1 [==============================] - 0s 116ms/step - loss: 0.5744 - lm_acc: 0.2159\n",
            "\n",
            "Epoch 00075: lm_acc did not improve from 0.27273\n",
            "Epoch 76/400\n",
            "1/1 [==============================] - 0s 117ms/step - loss: 0.5722 - lm_acc: 0.2273\n",
            "\n",
            "Epoch 00076: lm_acc did not improve from 0.27273\n",
            "Epoch 77/400\n",
            "1/1 [==============================] - 0s 117ms/step - loss: 0.5695 - lm_acc: 0.2500\n",
            "\n",
            "Epoch 00077: lm_acc did not improve from 0.27273\n",
            "Epoch 78/400\n",
            "1/1 [==============================] - 0s 116ms/step - loss: 0.5639 - lm_acc: 0.2159\n",
            "\n",
            "Epoch 00078: lm_acc did not improve from 0.27273\n",
            "Epoch 79/400\n",
            "1/1 [==============================] - 0s 126ms/step - loss: 0.5557 - lm_acc: 0.2273\n",
            "\n",
            "Epoch 00079: lm_acc did not improve from 0.27273\n",
            "Epoch 80/400\n",
            "1/1 [==============================] - 0s 114ms/step - loss: 0.5535 - lm_acc: 0.2273\n",
            "\n",
            "Epoch 00080: lm_acc did not improve from 0.27273\n",
            "Epoch 81/400\n",
            "1/1 [==============================] - 0s 116ms/step - loss: 0.5512 - lm_acc: 0.2500\n",
            "\n",
            "Epoch 00081: lm_acc did not improve from 0.27273\n",
            "Epoch 82/400\n",
            "1/1 [==============================] - 0s 113ms/step - loss: 0.5487 - lm_acc: 0.2614\n",
            "\n",
            "Epoch 00082: lm_acc did not improve from 0.27273\n",
            "Epoch 83/400\n",
            "1/1 [==============================] - 0s 117ms/step - loss: 0.5461 - lm_acc: 0.2500\n",
            "\n",
            "Epoch 00083: lm_acc did not improve from 0.27273\n",
            "Epoch 84/400\n",
            "1/1 [==============================] - 0s 123ms/step - loss: 0.5435 - lm_acc: 0.2614\n",
            "\n",
            "Epoch 00084: lm_acc did not improve from 0.27273\n",
            "Epoch 85/400\n",
            "1/1 [==============================] - 0s 127ms/step - loss: 0.5407 - lm_acc: 0.2841\n",
            "\n",
            "Epoch 00085: lm_acc improved from 0.27273 to 0.28409, saving model to /content/drive/MyDrive/kowiki/songys/lstm.hdf5\n",
            "Epoch 86/400\n",
            "1/1 [==============================] - 0s 118ms/step - loss: 0.5380 - lm_acc: 0.2841\n",
            "\n",
            "Epoch 00086: lm_acc did not improve from 0.28409\n",
            "Epoch 87/400\n",
            "1/1 [==============================] - 0s 117ms/step - loss: 0.5351 - lm_acc: 0.3182\n",
            "\n",
            "Epoch 00087: lm_acc improved from 0.28409 to 0.31818, saving model to /content/drive/MyDrive/kowiki/songys/lstm.hdf5\n",
            "Epoch 88/400\n",
            "1/1 [==============================] - 0s 129ms/step - loss: 0.5322 - lm_acc: 0.3182\n",
            "\n",
            "Epoch 00088: lm_acc did not improve from 0.31818\n",
            "Epoch 89/400\n",
            "1/1 [==============================] - 0s 114ms/step - loss: 0.5293 - lm_acc: 0.3295\n",
            "\n",
            "Epoch 00089: lm_acc improved from 0.31818 to 0.32955, saving model to /content/drive/MyDrive/kowiki/songys/lstm.hdf5\n",
            "Epoch 90/400\n",
            "1/1 [==============================] - 0s 115ms/step - loss: 0.5263 - lm_acc: 0.3409\n",
            "\n",
            "Epoch 00090: lm_acc improved from 0.32955 to 0.34091, saving model to /content/drive/MyDrive/kowiki/songys/lstm.hdf5\n",
            "Epoch 91/400\n",
            "1/1 [==============================] - 0s 126ms/step - loss: 0.5233 - lm_acc: 0.3409\n",
            "\n",
            "Epoch 00091: lm_acc did not improve from 0.34091\n",
            "Epoch 92/400\n",
            "1/1 [==============================] - 0s 126ms/step - loss: 0.5203 - lm_acc: 0.3409\n",
            "\n",
            "Epoch 00092: lm_acc did not improve from 0.34091\n",
            "Epoch 93/400\n",
            "1/1 [==============================] - 0s 128ms/step - loss: 0.5174 - lm_acc: 0.3409\n",
            "\n",
            "Epoch 00093: lm_acc did not improve from 0.34091\n",
            "Epoch 94/400\n",
            "1/1 [==============================] - 0s 123ms/step - loss: 0.5145 - lm_acc: 0.3750\n",
            "\n",
            "Epoch 00094: lm_acc improved from 0.34091 to 0.37500, saving model to /content/drive/MyDrive/kowiki/songys/lstm.hdf5\n",
            "Epoch 95/400\n",
            "1/1 [==============================] - 0s 115ms/step - loss: 0.5117 - lm_acc: 0.3636\n",
            "\n",
            "Epoch 00095: lm_acc did not improve from 0.37500\n",
            "Epoch 96/400\n",
            "1/1 [==============================] - 0s 129ms/step - loss: 0.5090 - lm_acc: 0.3864\n",
            "\n",
            "Epoch 00096: lm_acc improved from 0.37500 to 0.38636, saving model to /content/drive/MyDrive/kowiki/songys/lstm.hdf5\n",
            "Epoch 97/400\n",
            "1/1 [==============================] - 0s 121ms/step - loss: 0.5063 - lm_acc: 0.3864\n",
            "\n",
            "Epoch 00097: lm_acc did not improve from 0.38636\n",
            "Epoch 98/400\n",
            "1/1 [==============================] - 0s 119ms/step - loss: 0.5036 - lm_acc: 0.3864\n",
            "\n",
            "Epoch 00098: lm_acc did not improve from 0.38636\n",
            "Epoch 99/400\n",
            "1/1 [==============================] - 0s 122ms/step - loss: 0.5009 - lm_acc: 0.3977\n",
            "\n",
            "Epoch 00099: lm_acc improved from 0.38636 to 0.39773, saving model to /content/drive/MyDrive/kowiki/songys/lstm.hdf5\n",
            "Epoch 100/400\n",
            "1/1 [==============================] - 0s 114ms/step - loss: 0.4982 - lm_acc: 0.4091\n",
            "\n",
            "Epoch 00100: lm_acc improved from 0.39773 to 0.40909, saving model to /content/drive/MyDrive/kowiki/songys/lstm.hdf5\n",
            "Epoch 101/400\n",
            "1/1 [==============================] - 0s 122ms/step - loss: 0.4955 - lm_acc: 0.4318\n",
            "\n",
            "Epoch 00101: lm_acc improved from 0.40909 to 0.43182, saving model to /content/drive/MyDrive/kowiki/songys/lstm.hdf5\n",
            "Epoch 102/400\n",
            "1/1 [==============================] - 0s 125ms/step - loss: 0.4927 - lm_acc: 0.4659\n",
            "\n",
            "Epoch 00102: lm_acc improved from 0.43182 to 0.46591, saving model to /content/drive/MyDrive/kowiki/songys/lstm.hdf5\n",
            "Epoch 103/400\n",
            "1/1 [==============================] - 0s 126ms/step - loss: 0.4900 - lm_acc: 0.4886\n",
            "\n",
            "Epoch 00103: lm_acc improved from 0.46591 to 0.48864, saving model to /content/drive/MyDrive/kowiki/songys/lstm.hdf5\n",
            "Epoch 104/400\n",
            "1/1 [==============================] - 0s 132ms/step - loss: 0.4872 - lm_acc: 0.4886\n",
            "\n",
            "Epoch 00104: lm_acc did not improve from 0.48864\n",
            "Epoch 105/400\n",
            "1/1 [==============================] - 0s 129ms/step - loss: 0.4844 - lm_acc: 0.4886\n",
            "\n",
            "Epoch 00105: lm_acc did not improve from 0.48864\n",
            "Epoch 106/400\n",
            "1/1 [==============================] - 0s 129ms/step - loss: 0.4816 - lm_acc: 0.5000\n",
            "\n",
            "Epoch 00106: lm_acc improved from 0.48864 to 0.50000, saving model to /content/drive/MyDrive/kowiki/songys/lstm.hdf5\n",
            "Epoch 107/400\n",
            "1/1 [==============================] - 0s 129ms/step - loss: 0.4788 - lm_acc: 0.5114\n",
            "\n",
            "Epoch 00107: lm_acc improved from 0.50000 to 0.51136, saving model to /content/drive/MyDrive/kowiki/songys/lstm.hdf5\n",
            "Epoch 108/400\n",
            "1/1 [==============================] - 0s 128ms/step - loss: 0.4760 - lm_acc: 0.5227\n",
            "\n",
            "Epoch 00108: lm_acc improved from 0.51136 to 0.52273, saving model to /content/drive/MyDrive/kowiki/songys/lstm.hdf5\n",
            "Epoch 109/400\n",
            "1/1 [==============================] - 0s 157ms/step - loss: 0.4731 - lm_acc: 0.5227\n",
            "\n",
            "Epoch 00109: lm_acc did not improve from 0.52273\n",
            "Epoch 110/400\n",
            "1/1 [==============================] - 0s 123ms/step - loss: 0.4702 - lm_acc: 0.5227\n",
            "\n",
            "Epoch 00110: lm_acc did not improve from 0.52273\n",
            "Epoch 111/400\n",
            "1/1 [==============================] - 0s 124ms/step - loss: 0.4673 - lm_acc: 0.5341\n",
            "\n",
            "Epoch 00111: lm_acc improved from 0.52273 to 0.53409, saving model to /content/drive/MyDrive/kowiki/songys/lstm.hdf5\n",
            "Epoch 112/400\n",
            "1/1 [==============================] - 0s 127ms/step - loss: 0.4642 - lm_acc: 0.5341\n",
            "\n",
            "Epoch 00112: lm_acc did not improve from 0.53409\n",
            "Epoch 113/400\n",
            "1/1 [==============================] - 0s 123ms/step - loss: 0.4611 - lm_acc: 0.5568\n",
            "\n",
            "Epoch 00113: lm_acc improved from 0.53409 to 0.55682, saving model to /content/drive/MyDrive/kowiki/songys/lstm.hdf5\n",
            "Epoch 114/400\n",
            "1/1 [==============================] - 0s 122ms/step - loss: 0.4580 - lm_acc: 0.5682\n",
            "\n",
            "Epoch 00114: lm_acc improved from 0.55682 to 0.56818, saving model to /content/drive/MyDrive/kowiki/songys/lstm.hdf5\n",
            "Epoch 115/400\n",
            "1/1 [==============================] - 0s 137ms/step - loss: 0.4549 - lm_acc: 0.5682\n",
            "\n",
            "Epoch 00115: lm_acc did not improve from 0.56818\n",
            "Epoch 116/400\n",
            "1/1 [==============================] - 0s 128ms/step - loss: 0.4516 - lm_acc: 0.5682\n",
            "\n",
            "Epoch 00116: lm_acc did not improve from 0.56818\n",
            "Epoch 117/400\n",
            "1/1 [==============================] - 0s 131ms/step - loss: 0.4483 - lm_acc: 0.5682\n",
            "\n",
            "Epoch 00117: lm_acc did not improve from 0.56818\n",
            "Epoch 118/400\n",
            "1/1 [==============================] - 0s 118ms/step - loss: 0.4449 - lm_acc: 0.5682\n",
            "\n",
            "Epoch 00118: lm_acc did not improve from 0.56818\n",
            "Epoch 119/400\n",
            "1/1 [==============================] - 0s 124ms/step - loss: 0.4415 - lm_acc: 0.5909\n",
            "\n",
            "Epoch 00119: lm_acc improved from 0.56818 to 0.59091, saving model to /content/drive/MyDrive/kowiki/songys/lstm.hdf5\n",
            "Epoch 120/400\n",
            "1/1 [==============================] - 0s 136ms/step - loss: 0.4380 - lm_acc: 0.5909\n",
            "\n",
            "Epoch 00120: lm_acc did not improve from 0.59091\n",
            "Epoch 121/400\n",
            "1/1 [==============================] - 0s 129ms/step - loss: 0.4345 - lm_acc: 0.5909\n",
            "\n",
            "Epoch 00121: lm_acc did not improve from 0.59091\n",
            "Epoch 122/400\n",
            "1/1 [==============================] - 0s 120ms/step - loss: 0.4310 - lm_acc: 0.5909\n",
            "\n",
            "Epoch 00122: lm_acc did not improve from 0.59091\n",
            "Epoch 123/400\n",
            "1/1 [==============================] - 0s 116ms/step - loss: 0.4274 - lm_acc: 0.5909\n",
            "\n",
            "Epoch 00123: lm_acc did not improve from 0.59091\n",
            "Epoch 124/400\n",
            "1/1 [==============================] - 0s 128ms/step - loss: 0.4237 - lm_acc: 0.5909\n",
            "\n",
            "Epoch 00124: lm_acc did not improve from 0.59091\n",
            "Epoch 125/400\n",
            "1/1 [==============================] - 0s 116ms/step - loss: 0.4200 - lm_acc: 0.5909\n",
            "\n",
            "Epoch 00125: lm_acc did not improve from 0.59091\n",
            "Epoch 126/400\n",
            "1/1 [==============================] - 0s 117ms/step - loss: 0.4163 - lm_acc: 0.5909\n",
            "\n",
            "Epoch 00126: lm_acc did not improve from 0.59091\n",
            "Epoch 127/400\n",
            "1/1 [==============================] - 0s 112ms/step - loss: 0.4125 - lm_acc: 0.5909\n",
            "\n",
            "Epoch 00127: lm_acc did not improve from 0.59091\n",
            "Epoch 128/400\n",
            "1/1 [==============================] - 0s 117ms/step - loss: 0.4087 - lm_acc: 0.6023\n",
            "\n",
            "Epoch 00128: lm_acc improved from 0.59091 to 0.60227, saving model to /content/drive/MyDrive/kowiki/songys/lstm.hdf5\n",
            "Epoch 129/400\n",
            "1/1 [==============================] - 0s 124ms/step - loss: 0.4048 - lm_acc: 0.6023\n",
            "\n",
            "Epoch 00129: lm_acc did not improve from 0.60227\n",
            "Epoch 130/400\n",
            "1/1 [==============================] - 0s 118ms/step - loss: 0.4009 - lm_acc: 0.6023\n",
            "\n",
            "Epoch 00130: lm_acc did not improve from 0.60227\n",
            "Epoch 131/400\n",
            "1/1 [==============================] - 0s 123ms/step - loss: 0.3970 - lm_acc: 0.6023\n",
            "\n",
            "Epoch 00131: lm_acc did not improve from 0.60227\n",
            "Epoch 132/400\n",
            "1/1 [==============================] - 0s 121ms/step - loss: 0.3931 - lm_acc: 0.6023\n",
            "\n",
            "Epoch 00132: lm_acc did not improve from 0.60227\n",
            "Epoch 133/400\n",
            "1/1 [==============================] - 0s 115ms/step - loss: 0.3891 - lm_acc: 0.6136\n",
            "\n",
            "Epoch 00133: lm_acc improved from 0.60227 to 0.61364, saving model to /content/drive/MyDrive/kowiki/songys/lstm.hdf5\n",
            "Epoch 134/400\n",
            "1/1 [==============================] - 0s 125ms/step - loss: 0.3851 - lm_acc: 0.6136\n",
            "\n",
            "Epoch 00134: lm_acc did not improve from 0.61364\n",
            "Epoch 135/400\n",
            "1/1 [==============================] - 0s 126ms/step - loss: 0.3811 - lm_acc: 0.6136\n",
            "\n",
            "Epoch 00135: lm_acc did not improve from 0.61364\n",
            "Epoch 136/400\n",
            "1/1 [==============================] - 0s 131ms/step - loss: 0.3770 - lm_acc: 0.6136\n",
            "\n",
            "Epoch 00136: lm_acc did not improve from 0.61364\n",
            "Epoch 137/400\n",
            "1/1 [==============================] - 0s 128ms/step - loss: 0.3730 - lm_acc: 0.6250\n",
            "\n",
            "Epoch 00137: lm_acc improved from 0.61364 to 0.62500, saving model to /content/drive/MyDrive/kowiki/songys/lstm.hdf5\n",
            "Epoch 138/400\n",
            "1/1 [==============================] - 0s 114ms/step - loss: 0.3690 - lm_acc: 0.6364\n",
            "\n",
            "Epoch 00138: lm_acc improved from 0.62500 to 0.63636, saving model to /content/drive/MyDrive/kowiki/songys/lstm.hdf5\n",
            "Epoch 139/400\n",
            "1/1 [==============================] - 0s 121ms/step - loss: 0.3650 - lm_acc: 0.6364\n",
            "\n",
            "Epoch 00139: lm_acc did not improve from 0.63636\n",
            "Epoch 140/400\n",
            "1/1 [==============================] - 0s 130ms/step - loss: 0.3609 - lm_acc: 0.6364\n",
            "\n",
            "Epoch 00140: lm_acc did not improve from 0.63636\n",
            "Epoch 141/400\n",
            "1/1 [==============================] - 0s 125ms/step - loss: 0.3569 - lm_acc: 0.6477\n",
            "\n",
            "Epoch 00141: lm_acc improved from 0.63636 to 0.64773, saving model to /content/drive/MyDrive/kowiki/songys/lstm.hdf5\n",
            "Epoch 142/400\n",
            "1/1 [==============================] - 0s 136ms/step - loss: 0.3529 - lm_acc: 0.6477\n",
            "\n",
            "Epoch 00142: lm_acc did not improve from 0.64773\n",
            "Epoch 143/400\n",
            "1/1 [==============================] - 0s 134ms/step - loss: 0.3489 - lm_acc: 0.6818\n",
            "\n",
            "Epoch 00143: lm_acc improved from 0.64773 to 0.68182, saving model to /content/drive/MyDrive/kowiki/songys/lstm.hdf5\n",
            "Epoch 144/400\n",
            "1/1 [==============================] - 0s 138ms/step - loss: 0.3448 - lm_acc: 0.6818\n",
            "\n",
            "Epoch 00144: lm_acc did not improve from 0.68182\n",
            "Epoch 145/400\n",
            "1/1 [==============================] - 0s 132ms/step - loss: 0.3409 - lm_acc: 0.6818\n",
            "\n",
            "Epoch 00145: lm_acc did not improve from 0.68182\n",
            "Epoch 146/400\n",
            "1/1 [==============================] - 0s 129ms/step - loss: 0.3369 - lm_acc: 0.6932\n",
            "\n",
            "Epoch 00146: lm_acc improved from 0.68182 to 0.69318, saving model to /content/drive/MyDrive/kowiki/songys/lstm.hdf5\n",
            "Epoch 147/400\n",
            "1/1 [==============================] - 0s 113ms/step - loss: 0.3329 - lm_acc: 0.7045\n",
            "\n",
            "Epoch 00147: lm_acc improved from 0.69318 to 0.70455, saving model to /content/drive/MyDrive/kowiki/songys/lstm.hdf5\n",
            "Epoch 148/400\n",
            "1/1 [==============================] - 0s 129ms/step - loss: 0.3290 - lm_acc: 0.7045\n",
            "\n",
            "Epoch 00148: lm_acc did not improve from 0.70455\n",
            "Epoch 149/400\n",
            "1/1 [==============================] - 0s 130ms/step - loss: 0.3251 - lm_acc: 0.7273\n",
            "\n",
            "Epoch 00149: lm_acc improved from 0.70455 to 0.72727, saving model to /content/drive/MyDrive/kowiki/songys/lstm.hdf5\n",
            "Epoch 150/400\n",
            "1/1 [==============================] - 0s 126ms/step - loss: 0.3212 - lm_acc: 0.7386\n",
            "\n",
            "Epoch 00150: lm_acc improved from 0.72727 to 0.73864, saving model to /content/drive/MyDrive/kowiki/songys/lstm.hdf5\n",
            "Epoch 151/400\n",
            "1/1 [==============================] - 0s 155ms/step - loss: 0.3174 - lm_acc: 0.7386\n",
            "\n",
            "Epoch 00151: lm_acc did not improve from 0.73864\n",
            "Epoch 152/400\n",
            "1/1 [==============================] - 0s 136ms/step - loss: 0.3135 - lm_acc: 0.7500\n",
            "\n",
            "Epoch 00152: lm_acc improved from 0.73864 to 0.75000, saving model to /content/drive/MyDrive/kowiki/songys/lstm.hdf5\n",
            "Epoch 153/400\n",
            "1/1 [==============================] - 0s 131ms/step - loss: 0.3097 - lm_acc: 0.7614\n",
            "\n",
            "Epoch 00153: lm_acc improved from 0.75000 to 0.76136, saving model to /content/drive/MyDrive/kowiki/songys/lstm.hdf5\n",
            "Epoch 154/400\n",
            "1/1 [==============================] - 0s 127ms/step - loss: 0.3059 - lm_acc: 0.7614\n",
            "\n",
            "Epoch 00154: lm_acc did not improve from 0.76136\n",
            "Epoch 155/400\n",
            "1/1 [==============================] - 0s 134ms/step - loss: 0.3023 - lm_acc: 0.7614\n",
            "\n",
            "Epoch 00155: lm_acc did not improve from 0.76136\n",
            "Epoch 156/400\n",
            "1/1 [==============================] - 0s 126ms/step - loss: 0.2987 - lm_acc: 0.7614\n",
            "\n",
            "Epoch 00156: lm_acc did not improve from 0.76136\n",
            "Epoch 157/400\n",
            "1/1 [==============================] - 0s 125ms/step - loss: 0.2948 - lm_acc: 0.7841\n",
            "\n",
            "Epoch 00157: lm_acc improved from 0.76136 to 0.78409, saving model to /content/drive/MyDrive/kowiki/songys/lstm.hdf5\n",
            "Epoch 158/400\n",
            "1/1 [==============================] - 0s 126ms/step - loss: 0.2914 - lm_acc: 0.7841\n",
            "\n",
            "Epoch 00158: lm_acc did not improve from 0.78409\n",
            "Epoch 159/400\n",
            "1/1 [==============================] - 0s 146ms/step - loss: 0.2876 - lm_acc: 0.7955\n",
            "\n",
            "Epoch 00159: lm_acc improved from 0.78409 to 0.79545, saving model to /content/drive/MyDrive/kowiki/songys/lstm.hdf5\n",
            "Epoch 160/400\n",
            "1/1 [==============================] - 0s 127ms/step - loss: 0.2840 - lm_acc: 0.7955\n",
            "\n",
            "Epoch 00160: lm_acc did not improve from 0.79545\n",
            "Epoch 161/400\n",
            "1/1 [==============================] - 0s 124ms/step - loss: 0.2805 - lm_acc: 0.7955\n",
            "\n",
            "Epoch 00161: lm_acc did not improve from 0.79545\n",
            "Epoch 162/400\n",
            "1/1 [==============================] - 0s 131ms/step - loss: 0.2769 - lm_acc: 0.7955\n",
            "\n",
            "Epoch 00162: lm_acc did not improve from 0.79545\n",
            "Epoch 163/400\n",
            "1/1 [==============================] - 0s 130ms/step - loss: 0.2734 - lm_acc: 0.7955\n",
            "\n",
            "Epoch 00163: lm_acc did not improve from 0.79545\n",
            "Epoch 164/400\n",
            "1/1 [==============================] - 0s 144ms/step - loss: 0.2700 - lm_acc: 0.7955\n",
            "\n",
            "Epoch 00164: lm_acc did not improve from 0.79545\n",
            "Epoch 165/400\n",
            "1/1 [==============================] - 0s 123ms/step - loss: 0.2665 - lm_acc: 0.7955\n",
            "\n",
            "Epoch 00165: lm_acc did not improve from 0.79545\n",
            "Epoch 166/400\n",
            "1/1 [==============================] - 0s 125ms/step - loss: 0.2631 - lm_acc: 0.7955\n",
            "\n",
            "Epoch 00166: lm_acc did not improve from 0.79545\n",
            "Epoch 167/400\n",
            "1/1 [==============================] - 0s 125ms/step - loss: 0.2596 - lm_acc: 0.7955\n",
            "\n",
            "Epoch 00167: lm_acc did not improve from 0.79545\n",
            "Epoch 168/400\n",
            "1/1 [==============================] - 0s 126ms/step - loss: 0.2562 - lm_acc: 0.7955\n",
            "\n",
            "Epoch 00168: lm_acc did not improve from 0.79545\n",
            "Epoch 169/400\n",
            "1/1 [==============================] - 0s 124ms/step - loss: 0.2529 - lm_acc: 0.7955\n",
            "\n",
            "Epoch 00169: lm_acc did not improve from 0.79545\n",
            "Epoch 170/400\n",
            "1/1 [==============================] - 0s 120ms/step - loss: 0.2496 - lm_acc: 0.7955\n",
            "\n",
            "Epoch 00170: lm_acc did not improve from 0.79545\n",
            "Epoch 171/400\n",
            "1/1 [==============================] - 0s 119ms/step - loss: 0.2465 - lm_acc: 0.7955\n",
            "\n",
            "Epoch 00171: lm_acc did not improve from 0.79545\n",
            "Epoch 172/400\n",
            "1/1 [==============================] - 0s 124ms/step - loss: 0.2433 - lm_acc: 0.7955\n",
            "\n",
            "Epoch 00172: lm_acc did not improve from 0.79545\n",
            "Epoch 173/400\n",
            "1/1 [==============================] - 0s 117ms/step - loss: 0.2402 - lm_acc: 0.7955\n",
            "\n",
            "Epoch 00173: lm_acc did not improve from 0.79545\n",
            "Epoch 174/400\n",
            "1/1 [==============================] - 0s 113ms/step - loss: 0.2371 - lm_acc: 0.7955\n",
            "\n",
            "Epoch 00174: lm_acc did not improve from 0.79545\n",
            "Epoch 175/400\n",
            "1/1 [==============================] - 0s 122ms/step - loss: 0.2341 - lm_acc: 0.7955\n",
            "\n",
            "Epoch 00175: lm_acc did not improve from 0.79545\n",
            "Epoch 176/400\n",
            "1/1 [==============================] - 0s 116ms/step - loss: 0.2313 - lm_acc: 0.8295\n",
            "\n",
            "Epoch 00176: lm_acc improved from 0.79545 to 0.82955, saving model to /content/drive/MyDrive/kowiki/songys/lstm.hdf5\n",
            "Epoch 177/400\n",
            "1/1 [==============================] - 0s 130ms/step - loss: 0.2286 - lm_acc: 0.8409\n",
            "\n",
            "Epoch 00177: lm_acc improved from 0.82955 to 0.84091, saving model to /content/drive/MyDrive/kowiki/songys/lstm.hdf5\n",
            "Epoch 178/400\n",
            "1/1 [==============================] - 0s 126ms/step - loss: 0.2255 - lm_acc: 0.8523\n",
            "\n",
            "Epoch 00178: lm_acc improved from 0.84091 to 0.85227, saving model to /content/drive/MyDrive/kowiki/songys/lstm.hdf5\n",
            "Epoch 179/400\n",
            "1/1 [==============================] - 0s 129ms/step - loss: 0.2225 - lm_acc: 0.8523\n",
            "\n",
            "Epoch 00179: lm_acc did not improve from 0.85227\n",
            "Epoch 180/400\n",
            "1/1 [==============================] - 0s 131ms/step - loss: 0.2200 - lm_acc: 0.8523\n",
            "\n",
            "Epoch 00180: lm_acc did not improve from 0.85227\n",
            "Epoch 181/400\n",
            "1/1 [==============================] - 0s 123ms/step - loss: 0.2171 - lm_acc: 0.8636\n",
            "\n",
            "Epoch 00181: lm_acc improved from 0.85227 to 0.86364, saving model to /content/drive/MyDrive/kowiki/songys/lstm.hdf5\n",
            "Epoch 182/400\n",
            "1/1 [==============================] - 0s 125ms/step - loss: 0.2143 - lm_acc: 0.8636\n",
            "\n",
            "Epoch 00182: lm_acc did not improve from 0.86364\n",
            "Epoch 183/400\n",
            "1/1 [==============================] - 0s 139ms/step - loss: 0.2116 - lm_acc: 0.8750\n",
            "\n",
            "Epoch 00183: lm_acc improved from 0.86364 to 0.87500, saving model to /content/drive/MyDrive/kowiki/songys/lstm.hdf5\n",
            "Epoch 184/400\n",
            "1/1 [==============================] - 0s 123ms/step - loss: 0.2090 - lm_acc: 0.8864\n",
            "\n",
            "Epoch 00184: lm_acc improved from 0.87500 to 0.88636, saving model to /content/drive/MyDrive/kowiki/songys/lstm.hdf5\n",
            "Epoch 185/400\n",
            "1/1 [==============================] - 0s 133ms/step - loss: 0.2064 - lm_acc: 0.8864\n",
            "\n",
            "Epoch 00185: lm_acc did not improve from 0.88636\n",
            "Epoch 186/400\n",
            "1/1 [==============================] - 0s 129ms/step - loss: 0.2041 - lm_acc: 0.8750\n",
            "\n",
            "Epoch 00186: lm_acc did not improve from 0.88636\n",
            "Epoch 187/400\n",
            "1/1 [==============================] - 0s 130ms/step - loss: 0.2015 - lm_acc: 0.8864\n",
            "\n",
            "Epoch 00187: lm_acc did not improve from 0.88636\n",
            "Epoch 188/400\n",
            "1/1 [==============================] - 0s 128ms/step - loss: 0.1990 - lm_acc: 0.8864\n",
            "\n",
            "Epoch 00188: lm_acc did not improve from 0.88636\n",
            "Epoch 189/400\n",
            "1/1 [==============================] - 0s 126ms/step - loss: 0.1966 - lm_acc: 0.8864\n",
            "\n",
            "Epoch 00189: lm_acc did not improve from 0.88636\n",
            "Epoch 190/400\n",
            "1/1 [==============================] - 0s 123ms/step - loss: 0.1942 - lm_acc: 0.8864\n",
            "\n",
            "Epoch 00190: lm_acc did not improve from 0.88636\n",
            "Epoch 191/400\n",
            "1/1 [==============================] - 0s 120ms/step - loss: 0.1919 - lm_acc: 0.8864\n",
            "\n",
            "Epoch 00191: lm_acc did not improve from 0.88636\n",
            "Epoch 192/400\n",
            "1/1 [==============================] - 0s 116ms/step - loss: 0.1897 - lm_acc: 0.8864\n",
            "\n",
            "Epoch 00192: lm_acc did not improve from 0.88636\n",
            "Epoch 193/400\n",
            "1/1 [==============================] - 0s 116ms/step - loss: 0.1873 - lm_acc: 0.8977\n",
            "\n",
            "Epoch 00193: lm_acc improved from 0.88636 to 0.89773, saving model to /content/drive/MyDrive/kowiki/songys/lstm.hdf5\n",
            "Epoch 194/400\n",
            "1/1 [==============================] - 0s 115ms/step - loss: 0.1851 - lm_acc: 0.8977\n",
            "\n",
            "Epoch 00194: lm_acc did not improve from 0.89773\n",
            "Epoch 195/400\n",
            "1/1 [==============================] - 0s 120ms/step - loss: 0.1829 - lm_acc: 0.8977\n",
            "\n",
            "Epoch 00195: lm_acc did not improve from 0.89773\n",
            "Epoch 196/400\n",
            "1/1 [==============================] - 0s 131ms/step - loss: 0.1806 - lm_acc: 0.8977\n",
            "\n",
            "Epoch 00196: lm_acc did not improve from 0.89773\n",
            "Epoch 197/400\n",
            "1/1 [==============================] - 0s 116ms/step - loss: 0.1786 - lm_acc: 0.8864\n",
            "\n",
            "Epoch 00197: lm_acc did not improve from 0.89773\n",
            "Epoch 198/400\n",
            "1/1 [==============================] - 0s 126ms/step - loss: 0.1764 - lm_acc: 0.9091\n",
            "\n",
            "Epoch 00198: lm_acc improved from 0.89773 to 0.90909, saving model to /content/drive/MyDrive/kowiki/songys/lstm.hdf5\n",
            "Epoch 199/400\n",
            "1/1 [==============================] - 0s 125ms/step - loss: 0.1744 - lm_acc: 0.9091\n",
            "\n",
            "Epoch 00199: lm_acc did not improve from 0.90909\n",
            "Epoch 200/400\n",
            "1/1 [==============================] - 0s 127ms/step - loss: 0.1724 - lm_acc: 0.9091\n",
            "\n",
            "Epoch 00200: lm_acc did not improve from 0.90909\n",
            "Epoch 201/400\n",
            "1/1 [==============================] - 0s 126ms/step - loss: 0.1704 - lm_acc: 0.9091\n",
            "\n",
            "Epoch 00201: lm_acc did not improve from 0.90909\n",
            "Epoch 202/400\n",
            "1/1 [==============================] - 0s 126ms/step - loss: 0.1685 - lm_acc: 0.9091\n",
            "\n",
            "Epoch 00202: lm_acc did not improve from 0.90909\n",
            "Epoch 203/400\n",
            "1/1 [==============================] - 0s 125ms/step - loss: 0.1666 - lm_acc: 0.9205\n",
            "\n",
            "Epoch 00203: lm_acc improved from 0.90909 to 0.92045, saving model to /content/drive/MyDrive/kowiki/songys/lstm.hdf5\n",
            "Epoch 204/400\n",
            "1/1 [==============================] - 0s 146ms/step - loss: 0.1648 - lm_acc: 0.9318\n",
            "\n",
            "Epoch 00204: lm_acc improved from 0.92045 to 0.93182, saving model to /content/drive/MyDrive/kowiki/songys/lstm.hdf5\n",
            "Epoch 205/400\n",
            "1/1 [==============================] - 0s 133ms/step - loss: 0.1630 - lm_acc: 0.9318\n",
            "\n",
            "Epoch 00205: lm_acc did not improve from 0.93182\n",
            "Epoch 206/400\n",
            "1/1 [==============================] - 0s 133ms/step - loss: 0.1612 - lm_acc: 0.9205\n",
            "\n",
            "Epoch 00206: lm_acc did not improve from 0.93182\n",
            "Epoch 207/400\n",
            "1/1 [==============================] - 0s 112ms/step - loss: 0.1595 - lm_acc: 0.9318\n",
            "\n",
            "Epoch 00207: lm_acc did not improve from 0.93182\n",
            "Epoch 208/400\n",
            "1/1 [==============================] - 0s 129ms/step - loss: 0.1578 - lm_acc: 0.9318\n",
            "\n",
            "Epoch 00208: lm_acc did not improve from 0.93182\n",
            "Epoch 209/400\n",
            "1/1 [==============================] - 0s 120ms/step - loss: 0.1561 - lm_acc: 0.9318\n",
            "\n",
            "Epoch 00209: lm_acc did not improve from 0.93182\n",
            "Epoch 210/400\n",
            "1/1 [==============================] - 0s 121ms/step - loss: 0.1545 - lm_acc: 0.9318\n",
            "\n",
            "Epoch 00210: lm_acc did not improve from 0.93182\n",
            "Epoch 211/400\n",
            "1/1 [==============================] - 0s 124ms/step - loss: 0.1529 - lm_acc: 0.9318\n",
            "\n",
            "Epoch 00211: lm_acc did not improve from 0.93182\n",
            "Epoch 212/400\n",
            "1/1 [==============================] - 0s 117ms/step - loss: 0.1513 - lm_acc: 0.9318\n",
            "\n",
            "Epoch 00212: lm_acc did not improve from 0.93182\n",
            "Epoch 213/400\n",
            "1/1 [==============================] - 0s 118ms/step - loss: 0.1500 - lm_acc: 0.9318\n",
            "\n",
            "Epoch 00213: lm_acc did not improve from 0.93182\n",
            "Epoch 214/400\n",
            "1/1 [==============================] - 0s 118ms/step - loss: 0.1491 - lm_acc: 0.9318\n",
            "\n",
            "Epoch 00214: lm_acc did not improve from 0.93182\n",
            "Epoch 215/400\n",
            "1/1 [==============================] - 0s 124ms/step - loss: 0.1484 - lm_acc: 0.9091\n",
            "\n",
            "Epoch 00215: lm_acc did not improve from 0.93182\n",
            "Epoch 216/400\n",
            "1/1 [==============================] - 0s 117ms/step - loss: 0.1460 - lm_acc: 0.9432\n",
            "\n",
            "Epoch 00216: lm_acc improved from 0.93182 to 0.94318, saving model to /content/drive/MyDrive/kowiki/songys/lstm.hdf5\n",
            "Epoch 217/400\n",
            "1/1 [==============================] - 0s 121ms/step - loss: 0.1446 - lm_acc: 0.9318\n",
            "\n",
            "Epoch 00217: lm_acc did not improve from 0.94318\n",
            "Epoch 218/400\n",
            "1/1 [==============================] - 0s 117ms/step - loss: 0.1429 - lm_acc: 0.9432\n",
            "\n",
            "Epoch 00218: lm_acc did not improve from 0.94318\n",
            "Epoch 219/400\n",
            "1/1 [==============================] - 0s 121ms/step - loss: 0.1418 - lm_acc: 0.9318\n",
            "\n",
            "Epoch 00219: lm_acc did not improve from 0.94318\n",
            "Epoch 220/400\n",
            "1/1 [==============================] - 0s 118ms/step - loss: 0.1401 - lm_acc: 0.9432\n",
            "\n",
            "Epoch 00220: lm_acc did not improve from 0.94318\n",
            "Epoch 221/400\n",
            "1/1 [==============================] - 0s 117ms/step - loss: 0.1388 - lm_acc: 0.9432\n",
            "\n",
            "Epoch 00221: lm_acc did not improve from 0.94318\n",
            "Epoch 222/400\n",
            "1/1 [==============================] - 0s 124ms/step - loss: 0.1375 - lm_acc: 0.9432\n",
            "\n",
            "Epoch 00222: lm_acc did not improve from 0.94318\n",
            "Epoch 223/400\n",
            "1/1 [==============================] - 0s 120ms/step - loss: 0.1360 - lm_acc: 0.9432\n",
            "\n",
            "Epoch 00223: lm_acc did not improve from 0.94318\n",
            "Epoch 224/400\n",
            "1/1 [==============================] - 0s 111ms/step - loss: 0.1349 - lm_acc: 0.9545\n",
            "\n",
            "Epoch 00224: lm_acc improved from 0.94318 to 0.95455, saving model to /content/drive/MyDrive/kowiki/songys/lstm.hdf5\n",
            "Epoch 225/400\n",
            "1/1 [==============================] - 0s 133ms/step - loss: 0.1335 - lm_acc: 0.9432\n",
            "\n",
            "Epoch 00225: lm_acc did not improve from 0.95455\n",
            "Epoch 226/400\n",
            "1/1 [==============================] - 0s 126ms/step - loss: 0.1323 - lm_acc: 0.9432\n",
            "\n",
            "Epoch 00226: lm_acc did not improve from 0.95455\n",
            "Epoch 227/400\n",
            "1/1 [==============================] - 0s 124ms/step - loss: 0.1309 - lm_acc: 0.9545\n",
            "\n",
            "Epoch 00227: lm_acc did not improve from 0.95455\n",
            "Epoch 228/400\n",
            "1/1 [==============================] - 0s 124ms/step - loss: 0.1297 - lm_acc: 0.9432\n",
            "\n",
            "Epoch 00228: lm_acc did not improve from 0.95455\n",
            "Epoch 229/400\n",
            "1/1 [==============================] - 0s 131ms/step - loss: 0.1285 - lm_acc: 0.9432\n",
            "\n",
            "Epoch 00229: lm_acc did not improve from 0.95455\n",
            "Epoch 230/400\n",
            "1/1 [==============================] - 0s 121ms/step - loss: 0.1273 - lm_acc: 0.9545\n",
            "\n",
            "Epoch 00230: lm_acc did not improve from 0.95455\n",
            "Epoch 231/400\n",
            "1/1 [==============================] - 0s 126ms/step - loss: 0.1260 - lm_acc: 0.9545\n",
            "\n",
            "Epoch 00231: lm_acc did not improve from 0.95455\n",
            "Epoch 232/400\n",
            "1/1 [==============================] - 0s 117ms/step - loss: 0.1250 - lm_acc: 0.9545\n",
            "\n",
            "Epoch 00232: lm_acc did not improve from 0.95455\n",
            "Epoch 233/400\n",
            "1/1 [==============================] - 0s 121ms/step - loss: 0.1237 - lm_acc: 0.9545\n",
            "\n",
            "Epoch 00233: lm_acc did not improve from 0.95455\n",
            "Epoch 234/400\n",
            "1/1 [==============================] - 0s 101ms/step - loss: 0.1226 - lm_acc: 0.9545\n",
            "\n",
            "Epoch 00234: lm_acc did not improve from 0.95455\n",
            "Epoch 235/400\n",
            "1/1 [==============================] - 0s 120ms/step - loss: 0.1215 - lm_acc: 0.9659\n",
            "\n",
            "Epoch 00235: lm_acc improved from 0.95455 to 0.96591, saving model to /content/drive/MyDrive/kowiki/songys/lstm.hdf5\n",
            "Epoch 236/400\n",
            "1/1 [==============================] - 0s 105ms/step - loss: 0.1202 - lm_acc: 0.9545\n",
            "\n",
            "Epoch 00236: lm_acc did not improve from 0.96591\n",
            "Epoch 237/400\n",
            "1/1 [==============================] - 0s 129ms/step - loss: 0.1192 - lm_acc: 0.9545\n",
            "\n",
            "Epoch 00237: lm_acc did not improve from 0.96591\n",
            "Epoch 238/400\n",
            "1/1 [==============================] - 0s 118ms/step - loss: 0.1180 - lm_acc: 0.9659\n",
            "\n",
            "Epoch 00238: lm_acc did not improve from 0.96591\n",
            "Epoch 239/400\n",
            "1/1 [==============================] - 0s 122ms/step - loss: 0.1168 - lm_acc: 0.9659\n",
            "\n",
            "Epoch 00239: lm_acc did not improve from 0.96591\n",
            "Epoch 240/400\n",
            "1/1 [==============================] - 0s 132ms/step - loss: 0.1157 - lm_acc: 0.9659\n",
            "\n",
            "Epoch 00240: lm_acc did not improve from 0.96591\n",
            "Epoch 241/400\n",
            "1/1 [==============================] - 0s 125ms/step - loss: 0.1145 - lm_acc: 0.9659\n",
            "\n",
            "Epoch 00241: lm_acc did not improve from 0.96591\n",
            "Epoch 242/400\n",
            "1/1 [==============================] - 0s 124ms/step - loss: 0.1134 - lm_acc: 0.9659\n",
            "\n",
            "Epoch 00242: lm_acc did not improve from 0.96591\n",
            "Epoch 243/400\n",
            "1/1 [==============================] - 0s 117ms/step - loss: 0.1124 - lm_acc: 0.9659\n",
            "\n",
            "Epoch 00243: lm_acc did not improve from 0.96591\n",
            "Epoch 244/400\n",
            "1/1 [==============================] - 0s 129ms/step - loss: 0.1114 - lm_acc: 0.9773\n",
            "\n",
            "Epoch 00244: lm_acc improved from 0.96591 to 0.97727, saving model to /content/drive/MyDrive/kowiki/songys/lstm.hdf5\n",
            "Epoch 245/400\n",
            "1/1 [==============================] - 0s 126ms/step - loss: 0.1104 - lm_acc: 0.9659\n",
            "\n",
            "Epoch 00245: lm_acc did not improve from 0.97727\n",
            "Epoch 246/400\n",
            "1/1 [==============================] - 0s 126ms/step - loss: 0.1094 - lm_acc: 0.9773\n",
            "\n",
            "Epoch 00246: lm_acc did not improve from 0.97727\n",
            "Epoch 247/400\n",
            "1/1 [==============================] - 0s 129ms/step - loss: 0.1084 - lm_acc: 0.9773\n",
            "\n",
            "Epoch 00247: lm_acc did not improve from 0.97727\n",
            "Epoch 248/400\n",
            "1/1 [==============================] - 0s 126ms/step - loss: 0.1075 - lm_acc: 0.9773\n",
            "\n",
            "Epoch 00248: lm_acc did not improve from 0.97727\n",
            "Epoch 249/400\n",
            "1/1 [==============================] - 0s 132ms/step - loss: 0.1063 - lm_acc: 0.9773\n",
            "\n",
            "Epoch 00249: lm_acc did not improve from 0.97727\n",
            "Epoch 250/400\n",
            "1/1 [==============================] - 0s 125ms/step - loss: 0.1054 - lm_acc: 0.9773\n",
            "\n",
            "Epoch 00250: lm_acc did not improve from 0.97727\n",
            "Epoch 251/400\n",
            "1/1 [==============================] - 0s 130ms/step - loss: 0.1043 - lm_acc: 0.9773\n",
            "\n",
            "Epoch 00251: lm_acc did not improve from 0.97727\n",
            "Epoch 252/400\n",
            "1/1 [==============================] - 0s 124ms/step - loss: 0.1034 - lm_acc: 0.9773\n",
            "\n",
            "Epoch 00252: lm_acc did not improve from 0.97727\n",
            "Epoch 253/400\n",
            "1/1 [==============================] - 0s 139ms/step - loss: 0.1024 - lm_acc: 0.9773\n",
            "\n",
            "Epoch 00253: lm_acc did not improve from 0.97727\n",
            "Epoch 254/400\n",
            "1/1 [==============================] - 0s 125ms/step - loss: 0.1015 - lm_acc: 0.9773\n",
            "\n",
            "Epoch 00254: lm_acc did not improve from 0.97727\n",
            "Epoch 255/400\n",
            "1/1 [==============================] - 0s 136ms/step - loss: 0.1005 - lm_acc: 0.9773\n",
            "\n",
            "Epoch 00255: lm_acc did not improve from 0.97727\n",
            "Epoch 256/400\n",
            "1/1 [==============================] - 0s 127ms/step - loss: 0.0996 - lm_acc: 0.9773\n",
            "\n",
            "Epoch 00256: lm_acc did not improve from 0.97727\n",
            "Epoch 257/400\n",
            "1/1 [==============================] - 0s 119ms/step - loss: 0.0986 - lm_acc: 0.9773\n",
            "\n",
            "Epoch 00257: lm_acc did not improve from 0.97727\n",
            "Epoch 258/400\n",
            "1/1 [==============================] - 0s 123ms/step - loss: 0.0977 - lm_acc: 0.9773\n",
            "\n",
            "Epoch 00258: lm_acc did not improve from 0.97727\n",
            "Epoch 259/400\n",
            "1/1 [==============================] - 0s 117ms/step - loss: 0.0969 - lm_acc: 0.9773\n",
            "\n",
            "Epoch 00259: lm_acc did not improve from 0.97727\n",
            "Epoch 260/400\n",
            "1/1 [==============================] - 0s 119ms/step - loss: 0.0960 - lm_acc: 0.9773\n",
            "\n",
            "Epoch 00260: lm_acc did not improve from 0.97727\n",
            "Epoch 261/400\n",
            "1/1 [==============================] - 0s 114ms/step - loss: 0.0950 - lm_acc: 0.9773\n",
            "\n",
            "Epoch 00261: lm_acc did not improve from 0.97727\n",
            "Epoch 262/400\n",
            "1/1 [==============================] - 0s 116ms/step - loss: 0.0942 - lm_acc: 0.9773\n",
            "\n",
            "Epoch 00262: lm_acc did not improve from 0.97727\n",
            "Epoch 263/400\n",
            "1/1 [==============================] - 0s 111ms/step - loss: 0.0933 - lm_acc: 0.9773\n",
            "\n",
            "Epoch 00263: lm_acc did not improve from 0.97727\n",
            "Epoch 264/400\n",
            "1/1 [==============================] - 0s 124ms/step - loss: 0.0924 - lm_acc: 0.9773\n",
            "\n",
            "Epoch 00264: lm_acc did not improve from 0.97727\n",
            "Epoch 265/400\n",
            "1/1 [==============================] - 0s 118ms/step - loss: 0.0915 - lm_acc: 0.9773\n",
            "\n",
            "Epoch 00265: lm_acc did not improve from 0.97727\n",
            "Epoch 266/400\n",
            "1/1 [==============================] - 0s 116ms/step - loss: 0.0907 - lm_acc: 0.9773\n",
            "\n",
            "Epoch 00266: lm_acc did not improve from 0.97727\n",
            "Epoch 267/400\n",
            "1/1 [==============================] - 0s 116ms/step - loss: 0.0898 - lm_acc: 0.9773\n",
            "\n",
            "Epoch 00267: lm_acc did not improve from 0.97727\n",
            "Epoch 268/400\n",
            "1/1 [==============================] - 0s 120ms/step - loss: 0.0889 - lm_acc: 0.9773\n",
            "\n",
            "Epoch 00268: lm_acc did not improve from 0.97727\n",
            "Epoch 269/400\n",
            "1/1 [==============================] - 0s 108ms/step - loss: 0.0881 - lm_acc: 0.9773\n",
            "\n",
            "Epoch 00269: lm_acc did not improve from 0.97727\n",
            "Epoch 270/400\n",
            "1/1 [==============================] - 0s 106ms/step - loss: 0.0871 - lm_acc: 0.9773\n",
            "\n",
            "Epoch 00270: lm_acc did not improve from 0.97727\n",
            "Epoch 271/400\n",
            "1/1 [==============================] - 0s 118ms/step - loss: 0.0863 - lm_acc: 0.9773\n",
            "\n",
            "Epoch 00271: lm_acc did not improve from 0.97727\n",
            "Epoch 272/400\n",
            "1/1 [==============================] - 0s 117ms/step - loss: 0.0855 - lm_acc: 0.9773\n",
            "\n",
            "Epoch 00272: lm_acc did not improve from 0.97727\n",
            "Epoch 273/400\n",
            "1/1 [==============================] - 0s 118ms/step - loss: 0.0847 - lm_acc: 0.9773\n",
            "\n",
            "Epoch 00273: lm_acc did not improve from 0.97727\n",
            "Epoch 274/400\n",
            "1/1 [==============================] - 0s 117ms/step - loss: 0.0839 - lm_acc: 0.9773\n",
            "\n",
            "Epoch 00274: lm_acc did not improve from 0.97727\n",
            "Epoch 275/400\n",
            "1/1 [==============================] - 0s 117ms/step - loss: 0.0831 - lm_acc: 0.9773\n",
            "\n",
            "Epoch 00275: lm_acc did not improve from 0.97727\n",
            "Epoch 276/400\n",
            "1/1 [==============================] - 0s 120ms/step - loss: 0.0823 - lm_acc: 0.9773\n",
            "\n",
            "Epoch 00276: lm_acc did not improve from 0.97727\n",
            "Epoch 277/400\n",
            "1/1 [==============================] - 0s 119ms/step - loss: 0.0814 - lm_acc: 0.9773\n",
            "\n",
            "Epoch 00277: lm_acc did not improve from 0.97727\n",
            "Epoch 278/400\n",
            "1/1 [==============================] - 0s 122ms/step - loss: 0.0805 - lm_acc: 0.9773\n",
            "\n",
            "Epoch 00278: lm_acc did not improve from 0.97727\n",
            "Epoch 279/400\n",
            "1/1 [==============================] - 0s 110ms/step - loss: 0.0794 - lm_acc: 0.9773\n",
            "\n",
            "Epoch 00279: lm_acc did not improve from 0.97727\n",
            "Epoch 280/400\n",
            "1/1 [==============================] - 0s 119ms/step - loss: 0.0782 - lm_acc: 0.9773\n",
            "\n",
            "Epoch 00280: lm_acc did not improve from 0.97727\n",
            "Epoch 281/400\n",
            "1/1 [==============================] - 0s 123ms/step - loss: 0.0778 - lm_acc: 0.9886\n",
            "\n",
            "Epoch 00281: lm_acc improved from 0.97727 to 0.98864, saving model to /content/drive/MyDrive/kowiki/songys/lstm.hdf5\n",
            "Epoch 282/400\n",
            "1/1 [==============================] - 0s 120ms/step - loss: 0.0766 - lm_acc: 0.9886\n",
            "\n",
            "Epoch 00282: lm_acc did not improve from 0.98864\n",
            "Epoch 283/400\n",
            "1/1 [==============================] - 0s 126ms/step - loss: 0.0753 - lm_acc: 0.9773\n",
            "\n",
            "Epoch 00283: lm_acc did not improve from 0.98864\n",
            "Epoch 284/400\n",
            "1/1 [==============================] - 0s 118ms/step - loss: 0.0746 - lm_acc: 0.9773\n",
            "\n",
            "Epoch 00284: lm_acc did not improve from 0.98864\n",
            "Epoch 285/400\n",
            "1/1 [==============================] - 0s 132ms/step - loss: 0.0738 - lm_acc: 0.9773\n",
            "\n",
            "Epoch 00285: lm_acc did not improve from 0.98864\n",
            "Epoch 286/400\n",
            "1/1 [==============================] - 0s 135ms/step - loss: 0.0728 - lm_acc: 0.9773\n",
            "\n",
            "Epoch 00286: lm_acc did not improve from 0.98864\n",
            "Epoch 287/400\n",
            "1/1 [==============================] - 0s 129ms/step - loss: 0.0718 - lm_acc: 0.9886\n",
            "\n",
            "Epoch 00287: lm_acc did not improve from 0.98864\n",
            "Epoch 288/400\n",
            "1/1 [==============================] - 0s 120ms/step - loss: 0.0710 - lm_acc: 0.9886\n",
            "\n",
            "Epoch 00288: lm_acc did not improve from 0.98864\n",
            "Epoch 289/400\n",
            "1/1 [==============================] - 0s 128ms/step - loss: 0.0703 - lm_acc: 0.9886\n",
            "\n",
            "Epoch 00289: lm_acc did not improve from 0.98864\n",
            "Epoch 290/400\n",
            "1/1 [==============================] - 0s 118ms/step - loss: 0.0695 - lm_acc: 0.9886\n",
            "\n",
            "Epoch 00290: lm_acc did not improve from 0.98864\n",
            "Epoch 291/400\n",
            "1/1 [==============================] - 0s 127ms/step - loss: 0.0686 - lm_acc: 0.9886\n",
            "\n",
            "Epoch 00291: lm_acc did not improve from 0.98864\n",
            "Epoch 292/400\n",
            "1/1 [==============================] - 0s 114ms/step - loss: 0.0678 - lm_acc: 0.9886\n",
            "\n",
            "Epoch 00292: lm_acc did not improve from 0.98864\n",
            "Epoch 293/400\n",
            "1/1 [==============================] - 0s 118ms/step - loss: 0.0671 - lm_acc: 0.9886\n",
            "\n",
            "Epoch 00293: lm_acc did not improve from 0.98864\n",
            "Epoch 294/400\n",
            "1/1 [==============================] - 0s 110ms/step - loss: 0.0664 - lm_acc: 0.9886\n",
            "\n",
            "Epoch 00294: lm_acc did not improve from 0.98864\n",
            "Epoch 295/400\n",
            "1/1 [==============================] - 0s 120ms/step - loss: 0.0656 - lm_acc: 1.0000\n",
            "\n",
            "Epoch 00295: lm_acc improved from 0.98864 to 1.00000, saving model to /content/drive/MyDrive/kowiki/songys/lstm.hdf5\n",
            "Epoch 296/400\n",
            "1/1 [==============================] - 0s 116ms/step - loss: 0.0649 - lm_acc: 1.0000\n",
            "\n",
            "Epoch 00296: lm_acc did not improve from 1.00000\n",
            "Epoch 297/400\n",
            "1/1 [==============================] - 0s 120ms/step - loss: 0.0641 - lm_acc: 1.0000\n",
            "\n",
            "Epoch 00297: lm_acc did not improve from 1.00000\n",
            "Epoch 298/400\n",
            "1/1 [==============================] - 0s 124ms/step - loss: 0.0633 - lm_acc: 0.9886\n",
            "\n",
            "Epoch 00298: lm_acc did not improve from 1.00000\n",
            "Epoch 299/400\n",
            "1/1 [==============================] - 0s 121ms/step - loss: 0.0626 - lm_acc: 0.9886\n",
            "\n",
            "Epoch 00299: lm_acc did not improve from 1.00000\n",
            "Epoch 300/400\n",
            "1/1 [==============================] - 0s 116ms/step - loss: 0.0618 - lm_acc: 1.0000\n",
            "\n",
            "Epoch 00300: lm_acc did not improve from 1.00000\n",
            "Epoch 301/400\n",
            "1/1 [==============================] - 0s 122ms/step - loss: 0.0611 - lm_acc: 1.0000\n",
            "\n",
            "Epoch 00301: lm_acc did not improve from 1.00000\n",
            "Epoch 302/400\n",
            "1/1 [==============================] - 0s 133ms/step - loss: 0.0604 - lm_acc: 1.0000\n",
            "\n",
            "Epoch 00302: lm_acc did not improve from 1.00000\n",
            "Epoch 303/400\n",
            "1/1 [==============================] - 0s 118ms/step - loss: 0.0598 - lm_acc: 1.0000\n",
            "\n",
            "Epoch 00303: lm_acc did not improve from 1.00000\n",
            "Epoch 304/400\n",
            "1/1 [==============================] - 0s 122ms/step - loss: 0.0592 - lm_acc: 1.0000\n",
            "\n",
            "Epoch 00304: lm_acc did not improve from 1.00000\n",
            "Epoch 305/400\n",
            "1/1 [==============================] - 0s 123ms/step - loss: 0.0586 - lm_acc: 1.0000\n",
            "\n",
            "Epoch 00305: lm_acc did not improve from 1.00000\n",
            "Epoch 306/400\n",
            "1/1 [==============================] - 0s 115ms/step - loss: 0.0578 - lm_acc: 1.0000\n",
            "\n",
            "Epoch 00306: lm_acc did not improve from 1.00000\n",
            "Epoch 307/400\n",
            "1/1 [==============================] - 0s 121ms/step - loss: 0.0572 - lm_acc: 1.0000\n",
            "\n",
            "Epoch 00307: lm_acc did not improve from 1.00000\n",
            "Epoch 308/400\n",
            "1/1 [==============================] - 0s 115ms/step - loss: 0.0566 - lm_acc: 1.0000\n",
            "\n",
            "Epoch 00308: lm_acc did not improve from 1.00000\n",
            "Epoch 309/400\n",
            "1/1 [==============================] - 0s 127ms/step - loss: 0.0560 - lm_acc: 1.0000\n",
            "\n",
            "Epoch 00309: lm_acc did not improve from 1.00000\n",
            "Epoch 310/400\n",
            "1/1 [==============================] - 0s 111ms/step - loss: 0.0553 - lm_acc: 1.0000\n",
            "\n",
            "Epoch 00310: lm_acc did not improve from 1.00000\n",
            "Epoch 311/400\n",
            "1/1 [==============================] - 0s 116ms/step - loss: 0.0547 - lm_acc: 1.0000\n",
            "\n",
            "Epoch 00311: lm_acc did not improve from 1.00000\n",
            "Epoch 312/400\n",
            "1/1 [==============================] - 0s 116ms/step - loss: 0.0542 - lm_acc: 1.0000\n",
            "\n",
            "Epoch 00312: lm_acc did not improve from 1.00000\n",
            "Epoch 313/400\n",
            "1/1 [==============================] - 0s 118ms/step - loss: 0.0536 - lm_acc: 1.0000\n",
            "\n",
            "Epoch 00313: lm_acc did not improve from 1.00000\n",
            "Epoch 314/400\n",
            "1/1 [==============================] - 0s 134ms/step - loss: 0.0530 - lm_acc: 1.0000\n",
            "\n",
            "Epoch 00314: lm_acc did not improve from 1.00000\n",
            "Epoch 315/400\n",
            "1/1 [==============================] - 0s 123ms/step - loss: 0.0524 - lm_acc: 1.0000\n",
            "\n",
            "Epoch 00315: lm_acc did not improve from 1.00000\n",
            "Epoch 316/400\n",
            "1/1 [==============================] - 0s 130ms/step - loss: 0.0518 - lm_acc: 1.0000\n",
            "\n",
            "Epoch 00316: lm_acc did not improve from 1.00000\n",
            "Epoch 317/400\n",
            "1/1 [==============================] - 0s 120ms/step - loss: 0.0513 - lm_acc: 1.0000\n",
            "\n",
            "Epoch 00317: lm_acc did not improve from 1.00000\n",
            "Epoch 318/400\n",
            "1/1 [==============================] - 0s 126ms/step - loss: 0.0507 - lm_acc: 1.0000\n",
            "\n",
            "Epoch 00318: lm_acc did not improve from 1.00000\n",
            "Epoch 319/400\n",
            "1/1 [==============================] - 0s 122ms/step - loss: 0.0502 - lm_acc: 1.0000\n",
            "\n",
            "Epoch 00319: lm_acc did not improve from 1.00000\n",
            "Epoch 320/400\n",
            "1/1 [==============================] - 0s 128ms/step - loss: 0.0497 - lm_acc: 1.0000\n",
            "\n",
            "Epoch 00320: lm_acc did not improve from 1.00000\n",
            "Epoch 321/400\n",
            "1/1 [==============================] - 0s 117ms/step - loss: 0.0491 - lm_acc: 1.0000\n",
            "\n",
            "Epoch 00321: lm_acc did not improve from 1.00000\n",
            "Epoch 322/400\n",
            "1/1 [==============================] - 0s 112ms/step - loss: 0.0486 - lm_acc: 1.0000\n",
            "\n",
            "Epoch 00322: lm_acc did not improve from 1.00000\n",
            "Epoch 323/400\n",
            "1/1 [==============================] - 0s 116ms/step - loss: 0.0481 - lm_acc: 1.0000\n",
            "\n",
            "Epoch 00323: lm_acc did not improve from 1.00000\n",
            "Epoch 324/400\n",
            "1/1 [==============================] - 0s 115ms/step - loss: 0.0475 - lm_acc: 1.0000\n",
            "\n",
            "Epoch 00324: lm_acc did not improve from 1.00000\n",
            "Epoch 325/400\n",
            "1/1 [==============================] - 0s 115ms/step - loss: 0.0470 - lm_acc: 1.0000\n",
            "\n",
            "Epoch 00325: lm_acc did not improve from 1.00000\n",
            "Epoch 326/400\n",
            "1/1 [==============================] - 0s 114ms/step - loss: 0.0465 - lm_acc: 1.0000\n",
            "\n",
            "Epoch 00326: lm_acc did not improve from 1.00000\n",
            "Epoch 327/400\n",
            "1/1 [==============================] - 0s 112ms/step - loss: 0.0460 - lm_acc: 1.0000\n",
            "\n",
            "Epoch 00327: lm_acc did not improve from 1.00000\n",
            "Epoch 328/400\n",
            "1/1 [==============================] - 0s 121ms/step - loss: 0.0455 - lm_acc: 1.0000\n",
            "\n",
            "Epoch 00328: lm_acc did not improve from 1.00000\n",
            "Epoch 329/400\n",
            "1/1 [==============================] - 0s 122ms/step - loss: 0.0449 - lm_acc: 1.0000\n",
            "\n",
            "Epoch 00329: lm_acc did not improve from 1.00000\n",
            "Epoch 330/400\n",
            "1/1 [==============================] - 0s 121ms/step - loss: 0.0444 - lm_acc: 1.0000\n",
            "\n",
            "Epoch 00330: lm_acc did not improve from 1.00000\n",
            "Epoch 331/400\n",
            "1/1 [==============================] - 0s 115ms/step - loss: 0.0440 - lm_acc: 1.0000\n",
            "\n",
            "Epoch 00331: lm_acc did not improve from 1.00000\n",
            "Epoch 332/400\n",
            "1/1 [==============================] - 0s 116ms/step - loss: 0.0436 - lm_acc: 1.0000\n",
            "\n",
            "Epoch 00332: lm_acc did not improve from 1.00000\n",
            "Epoch 333/400\n",
            "1/1 [==============================] - 0s 113ms/step - loss: 0.0431 - lm_acc: 1.0000\n",
            "\n",
            "Epoch 00333: lm_acc did not improve from 1.00000\n",
            "Epoch 334/400\n",
            "1/1 [==============================] - 0s 117ms/step - loss: 0.0426 - lm_acc: 1.0000\n",
            "\n",
            "Epoch 00334: lm_acc did not improve from 1.00000\n",
            "Epoch 335/400\n",
            "1/1 [==============================] - 0s 117ms/step - loss: 0.0422 - lm_acc: 1.0000\n",
            "\n",
            "Epoch 00335: lm_acc did not improve from 1.00000\n",
            "Epoch 336/400\n",
            "1/1 [==============================] - 0s 116ms/step - loss: 0.0417 - lm_acc: 1.0000\n",
            "\n",
            "Epoch 00336: lm_acc did not improve from 1.00000\n",
            "Epoch 337/400\n",
            "1/1 [==============================] - 0s 116ms/step - loss: 0.0412 - lm_acc: 1.0000\n",
            "\n",
            "Epoch 00337: lm_acc did not improve from 1.00000\n",
            "Epoch 338/400\n",
            "1/1 [==============================] - 0s 116ms/step - loss: 0.0408 - lm_acc: 1.0000\n",
            "\n",
            "Epoch 00338: lm_acc did not improve from 1.00000\n",
            "Epoch 339/400\n",
            "1/1 [==============================] - 0s 122ms/step - loss: 0.0404 - lm_acc: 1.0000\n",
            "\n",
            "Epoch 00339: lm_acc did not improve from 1.00000\n",
            "Epoch 340/400\n",
            "1/1 [==============================] - 0s 122ms/step - loss: 0.0400 - lm_acc: 1.0000\n",
            "\n",
            "Epoch 00340: lm_acc did not improve from 1.00000\n",
            "Epoch 341/400\n",
            "1/1 [==============================] - 0s 122ms/step - loss: 0.0396 - lm_acc: 1.0000\n",
            "\n",
            "Epoch 00341: lm_acc did not improve from 1.00000\n",
            "Epoch 342/400\n",
            "1/1 [==============================] - 0s 117ms/step - loss: 0.0392 - lm_acc: 1.0000\n",
            "\n",
            "Epoch 00342: lm_acc did not improve from 1.00000\n",
            "Epoch 343/400\n",
            "1/1 [==============================] - 0s 121ms/step - loss: 0.0388 - lm_acc: 1.0000\n",
            "\n",
            "Epoch 00343: lm_acc did not improve from 1.00000\n",
            "Epoch 344/400\n",
            "1/1 [==============================] - 0s 116ms/step - loss: 0.0384 - lm_acc: 1.0000\n",
            "\n",
            "Epoch 00344: lm_acc did not improve from 1.00000\n",
            "Epoch 345/400\n",
            "1/1 [==============================] - 0s 117ms/step - loss: 0.0380 - lm_acc: 1.0000\n",
            "\n",
            "Epoch 00345: lm_acc did not improve from 1.00000\n",
            "Epoch 346/400\n",
            "1/1 [==============================] - 0s 122ms/step - loss: 0.0376 - lm_acc: 1.0000\n",
            "\n",
            "Epoch 00346: lm_acc did not improve from 1.00000\n",
            "Epoch 347/400\n",
            "1/1 [==============================] - 0s 116ms/step - loss: 0.0372 - lm_acc: 1.0000\n",
            "\n",
            "Epoch 00347: lm_acc did not improve from 1.00000\n",
            "Epoch 348/400\n",
            "1/1 [==============================] - 0s 121ms/step - loss: 0.0368 - lm_acc: 1.0000\n",
            "\n",
            "Epoch 00348: lm_acc did not improve from 1.00000\n",
            "Epoch 349/400\n",
            "1/1 [==============================] - 0s 126ms/step - loss: 0.0365 - lm_acc: 1.0000\n",
            "\n",
            "Epoch 00349: lm_acc did not improve from 1.00000\n",
            "Epoch 350/400\n",
            "1/1 [==============================] - 0s 115ms/step - loss: 0.0361 - lm_acc: 1.0000\n",
            "\n",
            "Epoch 00350: lm_acc did not improve from 1.00000\n",
            "Epoch 351/400\n",
            "1/1 [==============================] - 0s 119ms/step - loss: 0.0357 - lm_acc: 1.0000\n",
            "\n",
            "Epoch 00351: lm_acc did not improve from 1.00000\n",
            "Epoch 352/400\n",
            "1/1 [==============================] - 0s 124ms/step - loss: 0.0354 - lm_acc: 1.0000\n",
            "\n",
            "Epoch 00352: lm_acc did not improve from 1.00000\n",
            "Epoch 353/400\n",
            "1/1 [==============================] - 0s 122ms/step - loss: 0.0350 - lm_acc: 1.0000\n",
            "\n",
            "Epoch 00353: lm_acc did not improve from 1.00000\n",
            "Epoch 354/400\n",
            "1/1 [==============================] - 0s 120ms/step - loss: 0.0347 - lm_acc: 1.0000\n",
            "\n",
            "Epoch 00354: lm_acc did not improve from 1.00000\n",
            "Epoch 355/400\n",
            "1/1 [==============================] - 0s 154ms/step - loss: 0.0344 - lm_acc: 1.0000\n",
            "\n",
            "Epoch 00355: lm_acc did not improve from 1.00000\n",
            "Epoch 356/400\n",
            "1/1 [==============================] - 0s 148ms/step - loss: 0.0340 - lm_acc: 1.0000\n",
            "\n",
            "Epoch 00356: lm_acc did not improve from 1.00000\n",
            "Epoch 357/400\n",
            "1/1 [==============================] - 0s 135ms/step - loss: 0.0337 - lm_acc: 1.0000\n",
            "\n",
            "Epoch 00357: lm_acc did not improve from 1.00000\n",
            "Epoch 358/400\n",
            "1/1 [==============================] - 0s 137ms/step - loss: 0.0334 - lm_acc: 1.0000\n",
            "\n",
            "Epoch 00358: lm_acc did not improve from 1.00000\n",
            "Epoch 359/400\n",
            "1/1 [==============================] - 0s 144ms/step - loss: 0.0330 - lm_acc: 1.0000\n",
            "\n",
            "Epoch 00359: lm_acc did not improve from 1.00000\n",
            "Epoch 360/400\n",
            "1/1 [==============================] - 0s 138ms/step - loss: 0.0327 - lm_acc: 1.0000\n",
            "\n",
            "Epoch 00360: lm_acc did not improve from 1.00000\n",
            "Epoch 361/400\n",
            "1/1 [==============================] - 0s 141ms/step - loss: 0.0323 - lm_acc: 1.0000\n",
            "\n",
            "Epoch 00361: lm_acc did not improve from 1.00000\n",
            "Epoch 362/400\n",
            "1/1 [==============================] - 0s 133ms/step - loss: 0.0319 - lm_acc: 1.0000\n",
            "\n",
            "Epoch 00362: lm_acc did not improve from 1.00000\n",
            "Epoch 363/400\n",
            "1/1 [==============================] - 0s 136ms/step - loss: 0.0316 - lm_acc: 1.0000\n",
            "\n",
            "Epoch 00363: lm_acc did not improve from 1.00000\n",
            "Epoch 364/400\n",
            "1/1 [==============================] - 0s 129ms/step - loss: 0.0312 - lm_acc: 1.0000\n",
            "\n",
            "Epoch 00364: lm_acc did not improve from 1.00000\n",
            "Epoch 365/400\n",
            "1/1 [==============================] - 0s 120ms/step - loss: 0.0308 - lm_acc: 1.0000\n",
            "\n",
            "Epoch 00365: lm_acc did not improve from 1.00000\n",
            "Epoch 366/400\n",
            "1/1 [==============================] - 0s 126ms/step - loss: 0.0305 - lm_acc: 1.0000\n",
            "\n",
            "Epoch 00366: lm_acc did not improve from 1.00000\n",
            "Epoch 367/400\n",
            "1/1 [==============================] - 0s 129ms/step - loss: 0.0301 - lm_acc: 1.0000\n",
            "\n",
            "Epoch 00367: lm_acc did not improve from 1.00000\n",
            "Epoch 368/400\n",
            "1/1 [==============================] - 0s 122ms/step - loss: 0.0297 - lm_acc: 1.0000\n",
            "\n",
            "Epoch 00368: lm_acc did not improve from 1.00000\n",
            "Epoch 369/400\n",
            "1/1 [==============================] - 0s 131ms/step - loss: 0.0294 - lm_acc: 1.0000\n",
            "\n",
            "Epoch 00369: lm_acc did not improve from 1.00000\n",
            "Epoch 370/400\n",
            "1/1 [==============================] - 0s 124ms/step - loss: 0.0292 - lm_acc: 1.0000\n",
            "\n",
            "Epoch 00370: lm_acc did not improve from 1.00000\n",
            "Epoch 371/400\n",
            "1/1 [==============================] - 0s 127ms/step - loss: 0.0289 - lm_acc: 1.0000\n",
            "\n",
            "Epoch 00371: lm_acc did not improve from 1.00000\n",
            "Epoch 372/400\n",
            "1/1 [==============================] - 0s 124ms/step - loss: 0.0285 - lm_acc: 1.0000\n",
            "\n",
            "Epoch 00372: lm_acc did not improve from 1.00000\n",
            "Epoch 373/400\n",
            "1/1 [==============================] - 0s 127ms/step - loss: 0.0281 - lm_acc: 1.0000\n",
            "\n",
            "Epoch 00373: lm_acc did not improve from 1.00000\n",
            "Epoch 374/400\n",
            "1/1 [==============================] - 0s 119ms/step - loss: 0.0278 - lm_acc: 1.0000\n",
            "\n",
            "Epoch 00374: lm_acc did not improve from 1.00000\n",
            "Epoch 375/400\n",
            "1/1 [==============================] - 0s 123ms/step - loss: 0.0275 - lm_acc: 1.0000\n",
            "\n",
            "Epoch 00375: lm_acc did not improve from 1.00000\n",
            "Epoch 376/400\n",
            "1/1 [==============================] - 0s 126ms/step - loss: 0.0273 - lm_acc: 1.0000\n",
            "\n",
            "Epoch 00376: lm_acc did not improve from 1.00000\n",
            "Epoch 377/400\n",
            "1/1 [==============================] - 0s 123ms/step - loss: 0.0271 - lm_acc: 1.0000\n",
            "\n",
            "Epoch 00377: lm_acc did not improve from 1.00000\n",
            "Epoch 378/400\n",
            "1/1 [==============================] - 0s 133ms/step - loss: 0.0268 - lm_acc: 1.0000\n",
            "\n",
            "Epoch 00378: lm_acc did not improve from 1.00000\n",
            "Epoch 379/400\n",
            "1/1 [==============================] - 0s 126ms/step - loss: 0.0265 - lm_acc: 1.0000\n",
            "\n",
            "Epoch 00379: lm_acc did not improve from 1.00000\n",
            "Epoch 380/400\n",
            "1/1 [==============================] - 0s 126ms/step - loss: 0.0260 - lm_acc: 1.0000\n",
            "\n",
            "Epoch 00380: lm_acc did not improve from 1.00000\n",
            "Epoch 381/400\n",
            "1/1 [==============================] - 0s 124ms/step - loss: 0.0255 - lm_acc: 1.0000\n",
            "\n",
            "Epoch 00381: lm_acc did not improve from 1.00000\n",
            "Epoch 382/400\n",
            "1/1 [==============================] - 0s 121ms/step - loss: 0.0257 - lm_acc: 1.0000\n",
            "\n",
            "Epoch 00382: lm_acc did not improve from 1.00000\n",
            "Epoch 383/400\n",
            "1/1 [==============================] - 0s 121ms/step - loss: 0.0250 - lm_acc: 1.0000\n",
            "\n",
            "Epoch 00383: lm_acc did not improve from 1.00000\n",
            "Epoch 384/400\n",
            "1/1 [==============================] - 0s 126ms/step - loss: 0.0247 - lm_acc: 1.0000\n",
            "\n",
            "Epoch 00384: lm_acc did not improve from 1.00000\n",
            "Epoch 385/400\n",
            "1/1 [==============================] - 0s 126ms/step - loss: 0.0245 - lm_acc: 1.0000\n",
            "\n",
            "Epoch 00385: lm_acc did not improve from 1.00000\n",
            "Epoch 386/400\n",
            "1/1 [==============================] - 0s 122ms/step - loss: 0.0243 - lm_acc: 1.0000\n",
            "\n",
            "Epoch 00386: lm_acc did not improve from 1.00000\n",
            "Epoch 387/400\n",
            "1/1 [==============================] - 0s 120ms/step - loss: 0.0240 - lm_acc: 1.0000\n",
            "\n",
            "Epoch 00387: lm_acc did not improve from 1.00000\n",
            "Epoch 388/400\n",
            "1/1 [==============================] - 0s 120ms/step - loss: 0.0237 - lm_acc: 1.0000\n",
            "\n",
            "Epoch 00388: lm_acc did not improve from 1.00000\n",
            "Epoch 389/400\n",
            "1/1 [==============================] - 0s 131ms/step - loss: 0.0234 - lm_acc: 1.0000\n",
            "\n",
            "Epoch 00389: lm_acc did not improve from 1.00000\n",
            "Epoch 390/400\n",
            "1/1 [==============================] - 0s 118ms/step - loss: 0.0231 - lm_acc: 1.0000\n",
            "\n",
            "Epoch 00390: lm_acc did not improve from 1.00000\n",
            "Epoch 391/400\n",
            "1/1 [==============================] - 0s 123ms/step - loss: 0.0229 - lm_acc: 1.0000\n",
            "\n",
            "Epoch 00391: lm_acc did not improve from 1.00000\n",
            "Epoch 392/400\n",
            "1/1 [==============================] - 0s 123ms/step - loss: 0.0227 - lm_acc: 1.0000\n",
            "\n",
            "Epoch 00392: lm_acc did not improve from 1.00000\n",
            "Epoch 393/400\n",
            "1/1 [==============================] - 0s 124ms/step - loss: 0.0225 - lm_acc: 1.0000\n",
            "\n",
            "Epoch 00393: lm_acc did not improve from 1.00000\n",
            "Epoch 394/400\n",
            "1/1 [==============================] - 0s 126ms/step - loss: 0.0223 - lm_acc: 1.0000\n",
            "\n",
            "Epoch 00394: lm_acc did not improve from 1.00000\n",
            "Epoch 395/400\n",
            "1/1 [==============================] - 0s 122ms/step - loss: 0.0221 - lm_acc: 1.0000\n",
            "\n",
            "Epoch 00395: lm_acc did not improve from 1.00000\n"
          ],
          "name": "stdout"
        }
      ]
    },
    {
      "cell_type": "code",
      "metadata": {
        "id": "m1UWJMf4FTiZ",
        "colab": {
          "base_uri": "https://localhost:8080/",
          "height": 279
        },
        "outputId": "b4875a77-b3d6-4162-a747-bb45e4e78a68"
      },
      "source": [
        "plt.figure(figsize=(12, 4))\n",
        "\n",
        "plt.subplot(1, 2, 1)\n",
        "plt.plot(history.history['loss'], 'b-', label='loss')\n",
        "plt.xlabel('Epoch')\n",
        "plt.legend()\n",
        "\n",
        "plt.subplot(1, 2, 2)\n",
        "plt.plot(history.history['lm_acc'], 'g-', label='acc')\n",
        "plt.xlabel('Epoch')\n",
        "plt.legend()\n",
        "\n",
        "plt.show()"
      ],
      "execution_count": 80,
      "outputs": [
        {
          "output_type": "display_data",
          "data": {
            "image/png": "[encoded data removed]",
            "text/plain": [
              "<Figure size 864x288 with 2 Axes>"
            ]
          },
          "metadata": {
            "tags": [],
            "needs_background": "light"
          }
        }
      ]
    },
    {
      "cell_type": "markdown",
      "metadata": {
        "id": "PQvKAxTbaEpt"
      },
      "source": [
        "## Inference"
      ]
    },
    {
      "cell_type": "code",
      "metadata": {
        "id": "ZuK60XkEOSUS"
      },
      "source": [
        "# 모델 생성\n",
        "model = build_model(len(vocab), d_model, n_enc_seq, n_dec_seq)\n",
        "# train weight로 초기화\n",
        "model.load_weights(os.path.join(songys_dir, 'lstm.hdf5'))"
      ],
      "execution_count": null,
      "outputs": []
    },
    {
      "cell_type": "code",
      "metadata": {
        "id": "KzaDEUSbaeu4"
      },
      "source": [
        "def do_chat(vocab, model, n_enc_seq, n_dec_seq, string):\n",
        "    \"\"\"\n",
        "    seq2seq chat\n",
        "    :param vocab: vocab\n",
        "    :param model: model\n",
        "    :param n_enc_seq: number of enc seqence\n",
        "    :param n_dec_seq: number of dec seqence\n",
        "    :param string: inpust string\n",
        "    \"\"\"\n",
        "    #####################################\n",
        "    # qeustion\n",
        "    q = vocab.encode_as_pieces(string)\n",
        "    print(q)\n",
        "    q_id = vocab.encode_as_ids(string)[:n_enc_seq]\n",
        "    q_id += [0] * (n_enc_seq - len(q_id))\n",
        "    print(len(q_id), q_id)\n",
        "    assert len(q_id) == n_enc_seq\n",
        "\n",
        "    # answer\n",
        "    a_id = [vocab.bos_id()]\n",
        "    a_id += [0] * (n_dec_seq - len(a_id))\n",
        "    print(len(a_id), a_id)\n",
        "    assert len(a_id) == n_dec_seq\n",
        "\n",
        "    # 처음부터 예측\n",
        "    start_idx = 0\n",
        "\n",
        "    for _ in range(0, n_dec_seq - 1):\n",
        "        # 다음단어 예측\n",
        "        outputs = model.predict((np.array([q_id]), np.array([a_id])))\n",
        "        # print(outputs.shape)\n",
        "        prob = outputs[0][start_idx]\n",
        "        word_id = int(np.argmax(prob))\n",
        "        # print(prob[word_id - 5:word_id + 5])\n",
        "        print(word_id, vocab.id_to_piece(word_id))\n",
        "        # eos면 종료\n",
        "        if word_id == vocab.eos_id():\n",
        "            break\n",
        "        a_id[start_idx + 1] = word_id\n",
        "        start_idx += 1\n",
        "        print(start_idx, a_id)\n",
        "        print()\n",
        "    # 예측된 문장 생성\n",
        "    predict_id = a_id[1:start_idx + 1]\n",
        "    print(predict_id)\n",
        "    predict_str = vocab.decode_ids(predict_id)\n",
        "    return predict_str\n",
        "    #####################################"
      ],
      "execution_count": 97,
      "outputs": []
    },
    {
      "cell_type": "code",
      "metadata": {
        "id": "b44EoEoWes4R",
        "colab": {
          "base_uri": "https://localhost:8080/",
          "height": 546
        },
        "outputId": "bbb1c3d0-5499-4cce-98a2-0fe895a00da4"
      },
      "source": [
        "string = '너는 누구니'\n",
        "do_chat(vocab, model, n_enc_seq, n_dec_seq, string)"
      ],
      "execution_count": 98,
      "outputs": [
        {
          "output_type": "stream",
          "text": [
            "['▁너', '는', '▁누구', '니']\n",
            "32 [5103, 11, 8214, 213, 0, 0, 0, 0, 0, 0, 0, 0, 0, 0, 0, 0, 0, 0, 0, 0, 0, 0, 0, 0, 0, 0, 0, 0, 0, 0, 0, 0]\n",
            "40 [2, 0, 0, 0, 0, 0, 0, 0, 0, 0, 0, 0, 0, 0, 0, 0, 0, 0, 0, 0, 0, 0, 0, 0, 0, 0, 0, 0, 0, 0, 0, 0, 0, 0, 0, 0, 0, 0, 0, 0]\n",
            "93 ▁다른\n",
            "1 [2, 93, 0, 0, 0, 0, 0, 0, 0, 0, 0, 0, 0, 0, 0, 0, 0, 0, 0, 0, 0, 0, 0, 0, 0, 0, 0, 0, 0, 0, 0, 0, 0, 0, 0, 0, 0, 0, 0, 0]\n",
            "\n",
            "4828 ▁기회\n",
            "2 [2, 93, 4828, 0, 0, 0, 0, 0, 0, 0, 0, 0, 0, 0, 0, 0, 0, 0, 0, 0, 0, 0, 0, 0, 0, 0, 0, 0, 0, 0, 0, 0, 0, 0, 0, 0, 0, 0, 0, 0]\n",
            "\n",
            "19 가\n",
            "3 [2, 93, 4828, 19, 0, 0, 0, 0, 0, 0, 0, 0, 0, 0, 0, 0, 0, 0, 0, 0, 0, 0, 0, 0, 0, 0, 0, 0, 0, 0, 0, 0, 0, 0, 0, 0, 0, 0, 0, 0]\n",
            "\n",
            "1793 ▁올\n",
            "4 [2, 93, 4828, 19, 1793, 0, 0, 0, 0, 0, 0, 0, 0, 0, 0, 0, 0, 0, 0, 0, 0, 0, 0, 0, 0, 0, 0, 0, 0, 0, 0, 0, 0, 0, 0, 0, 0, 0, 0, 0]\n",
            "\n",
            "1140 ▁거\n",
            "5 [2, 93, 4828, 19, 1793, 1140, 0, 0, 0, 0, 0, 0, 0, 0, 0, 0, 0, 0, 0, 0, 0, 0, 0, 0, 0, 0, 0, 0, 0, 0, 0, 0, 0, 0, 0, 0, 0, 0, 0, 0]\n",
            "\n",
            "625 예\n",
            "6 [2, 93, 4828, 19, 1793, 1140, 625, 0, 0, 0, 0, 0, 0, 0, 0, 0, 0, 0, 0, 0, 0, 0, 0, 0, 0, 0, 0, 0, 0, 0, 0, 0, 0, 0, 0, 0, 0, 0, 0, 0]\n",
            "\n",
            "431 요\n",
            "7 [2, 93, 4828, 19, 1793, 1140, 625, 431, 0, 0, 0, 0, 0, 0, 0, 0, 0, 0, 0, 0, 0, 0, 0, 0, 0, 0, 0, 0, 0, 0, 0, 0, 0, 0, 0, 0, 0, 0, 0, 0]\n",
            "\n",
            "7 .\n",
            "8 [2, 93, 4828, 19, 1793, 1140, 625, 431, 7, 0, 0, 0, 0, 0, 0, 0, 0, 0, 0, 0, 0, 0, 0, 0, 0, 0, 0, 0, 0, 0, 0, 0, 0, 0, 0, 0, 0, 0, 0, 0]\n",
            "\n",
            "3 [EOS]\n",
            "[93, 4828, 19, 1793, 1140, 625, 431, 7]\n"
          ],
          "name": "stdout"
        },
        {
          "output_type": "execute_result",
          "data": {
            "application/vnd.google.colaboratory.intrinsic+json": {
              "type": "string"
            },
            "text/plain": [
              "'다른 기회가 올 거예요.'"
            ]
          },
          "metadata": {
            "tags": []
          },
          "execution_count": 98
        }
      ]
    },
    {
      "cell_type": "code",
      "metadata": {
        "id": "mQVkuBylavCr",
        "colab": {
          "base_uri": "https://localhost:8080/",
          "height": 1000
        },
        "outputId": "4cc0149c-f1ad-4cc9-d1c0-4bc1bfa2969b"
      },
      "source": [
        "while True:\n",
        "    string = input('질문 > ')\n",
        "    string = string.strip()\n",
        "    if len(string) == 0:\n",
        "        break\n",
        "    predict_str = do_chat(vocab, model, n_enc_seq, n_dec_seq, string)\n",
        "    print(f'답변 > {predict_str}')"
      ],
      "execution_count": 100,
      "outputs": [
        {
          "output_type": "stream",
          "text": [
            "질문 > 너는 누구니\n",
            "['▁너', '는', '▁누구', '니']\n",
            "32 [5103, 11, 8214, 213, 0, 0, 0, 0, 0, 0, 0, 0, 0, 0, 0, 0, 0, 0, 0, 0, 0, 0, 0, 0, 0, 0, 0, 0, 0, 0, 0, 0]\n",
            "40 [2, 0, 0, 0, 0, 0, 0, 0, 0, 0, 0, 0, 0, 0, 0, 0, 0, 0, 0, 0, 0, 0, 0, 0, 0, 0, 0, 0, 0, 0, 0, 0, 0, 0, 0, 0, 0, 0, 0, 0]\n",
            "93 ▁다른\n",
            "1 [2, 93, 0, 0, 0, 0, 0, 0, 0, 0, 0, 0, 0, 0, 0, 0, 0, 0, 0, 0, 0, 0, 0, 0, 0, 0, 0, 0, 0, 0, 0, 0, 0, 0, 0, 0, 0, 0, 0, 0]\n",
            "\n",
            "4828 ▁기회\n",
            "2 [2, 93, 4828, 0, 0, 0, 0, 0, 0, 0, 0, 0, 0, 0, 0, 0, 0, 0, 0, 0, 0, 0, 0, 0, 0, 0, 0, 0, 0, 0, 0, 0, 0, 0, 0, 0, 0, 0, 0, 0]\n",
            "\n",
            "19 가\n",
            "3 [2, 93, 4828, 19, 0, 0, 0, 0, 0, 0, 0, 0, 0, 0, 0, 0, 0, 0, 0, 0, 0, 0, 0, 0, 0, 0, 0, 0, 0, 0, 0, 0, 0, 0, 0, 0, 0, 0, 0, 0]\n",
            "\n",
            "1793 ▁올\n",
            "4 [2, 93, 4828, 19, 1793, 0, 0, 0, 0, 0, 0, 0, 0, 0, 0, 0, 0, 0, 0, 0, 0, 0, 0, 0, 0, 0, 0, 0, 0, 0, 0, 0, 0, 0, 0, 0, 0, 0, 0, 0]\n",
            "\n",
            "1140 ▁거\n",
            "5 [2, 93, 4828, 19, 1793, 1140, 0, 0, 0, 0, 0, 0, 0, 0, 0, 0, 0, 0, 0, 0, 0, 0, 0, 0, 0, 0, 0, 0, 0, 0, 0, 0, 0, 0, 0, 0, 0, 0, 0, 0]\n",
            "\n",
            "625 예\n",
            "6 [2, 93, 4828, 19, 1793, 1140, 625, 0, 0, 0, 0, 0, 0, 0, 0, 0, 0, 0, 0, 0, 0, 0, 0, 0, 0, 0, 0, 0, 0, 0, 0, 0, 0, 0, 0, 0, 0, 0, 0, 0]\n",
            "\n",
            "431 요\n",
            "7 [2, 93, 4828, 19, 1793, 1140, 625, 431, 0, 0, 0, 0, 0, 0, 0, 0, 0, 0, 0, 0, 0, 0, 0, 0, 0, 0, 0, 0, 0, 0, 0, 0, 0, 0, 0, 0, 0, 0, 0, 0]\n",
            "\n",
            "7 .\n",
            "8 [2, 93, 4828, 19, 1793, 1140, 625, 431, 7, 0, 0, 0, 0, 0, 0, 0, 0, 0, 0, 0, 0, 0, 0, 0, 0, 0, 0, 0, 0, 0, 0, 0, 0, 0, 0, 0, 0, 0, 0, 0]\n",
            "\n",
            "3 [EOS]\n",
            "[93, 4828, 19, 1793, 1140, 625, 431, 7]\n",
            "답변 > 다른 기회가 올 거예요.\n",
            "질문 > 무슨 기회가 와?\n",
            "['▁무슨', '▁기회', '가', '▁와', '?']\n",
            "32 [13559, 4828, 19, 1626, 1860, 0, 0, 0, 0, 0, 0, 0, 0, 0, 0, 0, 0, 0, 0, 0, 0, 0, 0, 0, 0, 0, 0, 0, 0, 0, 0, 0]\n",
            "40 [2, 0, 0, 0, 0, 0, 0, 0, 0, 0, 0, 0, 0, 0, 0, 0, 0, 0, 0, 0, 0, 0, 0, 0, 0, 0, 0, 0, 0, 0, 0, 0, 0, 0, 0, 0, 0, 0, 0, 0]\n",
            "93 ▁다른\n",
            "1 [2, 93, 0, 0, 0, 0, 0, 0, 0, 0, 0, 0, 0, 0, 0, 0, 0, 0, 0, 0, 0, 0, 0, 0, 0, 0, 0, 0, 0, 0, 0, 0, 0, 0, 0, 0, 0, 0, 0, 0]\n",
            "\n",
            "5324 ▁연락\n",
            "2 [2, 93, 5324, 0, 0, 0, 0, 0, 0, 0, 0, 0, 0, 0, 0, 0, 0, 0, 0, 0, 0, 0, 0, 0, 0, 0, 0, 0, 0, 0, 0, 0, 0, 0, 0, 0, 0, 0, 0, 0]\n",
            "\n",
            "16 을\n",
            "3 [2, 93, 5324, 16, 0, 0, 0, 0, 0, 0, 0, 0, 0, 0, 0, 0, 0, 0, 0, 0, 0, 0, 0, 0, 0, 0, 0, 0, 0, 0, 0, 0, 0, 0, 0, 0, 0, 0, 0, 0]\n",
            "\n",
            "522 ▁많이\n",
            "4 [2, 93, 5324, 16, 522, 0, 0, 0, 0, 0, 0, 0, 0, 0, 0, 0, 0, 0, 0, 0, 0, 0, 0, 0, 0, 0, 0, 0, 0, 0, 0, 0, 0, 0, 0, 0, 0, 0, 0, 0]\n",
            "\n",
            "10087 ▁하거나\n",
            "5 [2, 93, 5324, 16, 522, 10087, 0, 0, 0, 0, 0, 0, 0, 0, 0, 0, 0, 0, 0, 0, 0, 0, 0, 0, 0, 0, 0, 0, 0, 0, 0, 0, 0, 0, 0, 0, 0, 0, 0, 0]\n",
            "\n",
            "149 ▁더\n",
            "6 [2, 93, 5324, 16, 522, 10087, 149, 0, 0, 0, 0, 0, 0, 0, 0, 0, 0, 0, 0, 0, 0, 0, 0, 0, 0, 0, 0, 0, 0, 0, 0, 0, 0, 0, 0, 0, 0, 0, 0, 0]\n",
            "\n",
            "1377 ▁자주\n",
            "7 [2, 93, 5324, 16, 522, 10087, 149, 1377, 0, 0, 0, 0, 0, 0, 0, 0, 0, 0, 0, 0, 0, 0, 0, 0, 0, 0, 0, 0, 0, 0, 0, 0, 0, 0, 0, 0, 0, 0, 0, 0]\n",
            "\n",
            "7 .\n",
            "8 [2, 93, 5324, 16, 522, 10087, 149, 1377, 7, 0, 0, 0, 0, 0, 0, 0, 0, 0, 0, 0, 0, 0, 0, 0, 0, 0, 0, 0, 0, 0, 0, 0, 0, 0, 0, 0, 0, 0, 0, 0]\n",
            "\n",
            "3 [EOS]\n",
            "[93, 5324, 16, 522, 10087, 149, 1377, 7]\n",
            "답변 > 다른 연락을 많이 하거나 더 자주.\n",
            "질문 > 뭐라는거야 시발롬이\n",
            "['▁뭐', '라는', '거', '야', '▁시', '발', '롬', '이']\n",
            "32 [19999, 126, 439, 173, 162, 498, 5185, 17, 0, 0, 0, 0, 0, 0, 0, 0, 0, 0, 0, 0, 0, 0, 0, 0, 0, 0, 0, 0, 0, 0, 0, 0]\n",
            "40 [2, 0, 0, 0, 0, 0, 0, 0, 0, 0, 0, 0, 0, 0, 0, 0, 0, 0, 0, 0, 0, 0, 0, 0, 0, 0, 0, 0, 0, 0, 0, 0, 0, 0, 0, 0, 0, 0, 0, 0]\n",
            "93 ▁다른\n",
            "1 [2, 93, 0, 0, 0, 0, 0, 0, 0, 0, 0, 0, 0, 0, 0, 0, 0, 0, 0, 0, 0, 0, 0, 0, 0, 0, 0, 0, 0, 0, 0, 0, 0, 0, 0, 0, 0, 0, 0, 0]\n",
            "\n",
            "5324 ▁연락\n",
            "2 [2, 93, 5324, 0, 0, 0, 0, 0, 0, 0, 0, 0, 0, 0, 0, 0, 0, 0, 0, 0, 0, 0, 0, 0, 0, 0, 0, 0, 0, 0, 0, 0, 0, 0, 0, 0, 0, 0, 0, 0]\n",
            "\n",
            "16 을\n",
            "3 [2, 93, 5324, 16, 0, 0, 0, 0, 0, 0, 0, 0, 0, 0, 0, 0, 0, 0, 0, 0, 0, 0, 0, 0, 0, 0, 0, 0, 0, 0, 0, 0, 0, 0, 0, 0, 0, 0, 0, 0]\n",
            "\n",
            "9 의\n",
            "4 [2, 93, 5324, 16, 9, 0, 0, 0, 0, 0, 0, 0, 0, 0, 0, 0, 0, 0, 0, 0, 0, 0, 0, 0, 0, 0, 0, 0, 0, 0, 0, 0, 0, 0, 0, 0, 0, 0, 0, 0]\n",
            "\n",
            "396 ▁일부\n",
            "5 [2, 93, 5324, 16, 9, 396, 0, 0, 0, 0, 0, 0, 0, 0, 0, 0, 0, 0, 0, 0, 0, 0, 0, 0, 0, 0, 0, 0, 0, 0, 0, 0, 0, 0, 0, 0, 0, 0, 0, 0]\n",
            "\n",
            "8933 니까\n",
            "6 [2, 93, 5324, 16, 9, 396, 8933, 0, 0, 0, 0, 0, 0, 0, 0, 0, 0, 0, 0, 0, 0, 0, 0, 0, 0, 0, 0, 0, 0, 0, 0, 0, 0, 0, 0, 0, 0, 0, 0, 0]\n",
            "\n",
            "431 요\n",
            "7 [2, 93, 5324, 16, 9, 396, 8933, 431, 0, 0, 0, 0, 0, 0, 0, 0, 0, 0, 0, 0, 0, 0, 0, 0, 0, 0, 0, 0, 0, 0, 0, 0, 0, 0, 0, 0, 0, 0, 0, 0]\n",
            "\n",
            "7 .\n",
            "8 [2, 93, 5324, 16, 9, 396, 8933, 431, 7, 0, 0, 0, 0, 0, 0, 0, 0, 0, 0, 0, 0, 0, 0, 0, 0, 0, 0, 0, 0, 0, 0, 0, 0, 0, 0, 0, 0, 0, 0, 0]\n",
            "\n",
            "3 [EOS]\n",
            "[93, 5324, 16, 9, 396, 8933, 431, 7]\n",
            "답변 > 다른 연락을의 일부니까요.\n"
          ],
          "name": "stdout"
        },
        {
          "output_type": "error",
          "ename": "KeyboardInterrupt",
          "evalue": "ignored",
          "traceback": [
            "\u001b[0;31m---------------------------------------------------------------------------\u001b[0m",
            "\u001b[0;31mKeyboardInterrupt\u001b[0m                         Traceback (most recent call last)",
            "\u001b[0;32m/usr/local/lib/python3.6/dist-packages/ipykernel/kernelbase.py\u001b[0m in \u001b[0;36m_input_request\u001b[0;34m(self, prompt, ident, parent, password)\u001b[0m\n\u001b[1;32m    728\u001b[0m             \u001b[0;32mtry\u001b[0m\u001b[0;34m:\u001b[0m\u001b[0;34m\u001b[0m\u001b[0;34m\u001b[0m\u001b[0m\n\u001b[0;32m--> 729\u001b[0;31m                 \u001b[0mident\u001b[0m\u001b[0;34m,\u001b[0m \u001b[0mreply\u001b[0m \u001b[0;34m=\u001b[0m \u001b[0mself\u001b[0m\u001b[0;34m.\u001b[0m\u001b[0msession\u001b[0m\u001b[0;34m.\u001b[0m\u001b[0mrecv\u001b[0m\u001b[0;34m(\u001b[0m\u001b[0mself\u001b[0m\u001b[0;34m.\u001b[0m\u001b[0mstdin_socket\u001b[0m\u001b[0;34m,\u001b[0m \u001b[0;36m0\u001b[0m\u001b[0;34m)\u001b[0m\u001b[0;34m\u001b[0m\u001b[0;34m\u001b[0m\u001b[0m\n\u001b[0m\u001b[1;32m    730\u001b[0m             \u001b[0;32mexcept\u001b[0m \u001b[0mException\u001b[0m\u001b[0;34m:\u001b[0m\u001b[0;34m\u001b[0m\u001b[0;34m\u001b[0m\u001b[0m\n",
            "\u001b[0;32m/usr/local/lib/python3.6/dist-packages/jupyter_client/session.py\u001b[0m in \u001b[0;36mrecv\u001b[0;34m(self, socket, mode, content, copy)\u001b[0m\n\u001b[1;32m    802\u001b[0m         \u001b[0;32mtry\u001b[0m\u001b[0;34m:\u001b[0m\u001b[0;34m\u001b[0m\u001b[0;34m\u001b[0m\u001b[0m\n\u001b[0;32m--> 803\u001b[0;31m             \u001b[0mmsg_list\u001b[0m \u001b[0;34m=\u001b[0m \u001b[0msocket\u001b[0m\u001b[0;34m.\u001b[0m\u001b[0mrecv_multipart\u001b[0m\u001b[0;34m(\u001b[0m\u001b[0mmode\u001b[0m\u001b[0;34m,\u001b[0m \u001b[0mcopy\u001b[0m\u001b[0;34m=\u001b[0m\u001b[0mcopy\u001b[0m\u001b[0;34m)\u001b[0m\u001b[0;34m\u001b[0m\u001b[0;34m\u001b[0m\u001b[0m\n\u001b[0m\u001b[1;32m    804\u001b[0m         \u001b[0;32mexcept\u001b[0m \u001b[0mzmq\u001b[0m\u001b[0;34m.\u001b[0m\u001b[0mZMQError\u001b[0m \u001b[0;32mas\u001b[0m \u001b[0me\u001b[0m\u001b[0;34m:\u001b[0m\u001b[0;34m\u001b[0m\u001b[0;34m\u001b[0m\u001b[0m\n",
            "\u001b[0;32m/usr/local/lib/python3.6/dist-packages/zmq/sugar/socket.py\u001b[0m in \u001b[0;36mrecv_multipart\u001b[0;34m(self, flags, copy, track)\u001b[0m\n\u001b[1;32m    582\u001b[0m         \"\"\"\n\u001b[0;32m--> 583\u001b[0;31m         \u001b[0mparts\u001b[0m \u001b[0;34m=\u001b[0m \u001b[0;34m[\u001b[0m\u001b[0mself\u001b[0m\u001b[0;34m.\u001b[0m\u001b[0mrecv\u001b[0m\u001b[0;34m(\u001b[0m\u001b[0mflags\u001b[0m\u001b[0;34m,\u001b[0m \u001b[0mcopy\u001b[0m\u001b[0;34m=\u001b[0m\u001b[0mcopy\u001b[0m\u001b[0;34m,\u001b[0m \u001b[0mtrack\u001b[0m\u001b[0;34m=\u001b[0m\u001b[0mtrack\u001b[0m\u001b[0;34m)\u001b[0m\u001b[0;34m]\u001b[0m\u001b[0;34m\u001b[0m\u001b[0;34m\u001b[0m\u001b[0m\n\u001b[0m\u001b[1;32m    584\u001b[0m         \u001b[0;31m# have first part already, only loop while more to receive\u001b[0m\u001b[0;34m\u001b[0m\u001b[0;34m\u001b[0m\u001b[0;34m\u001b[0m\u001b[0m\n",
            "\u001b[0;32mzmq/backend/cython/socket.pyx\u001b[0m in \u001b[0;36mzmq.backend.cython.socket.Socket.recv\u001b[0;34m()\u001b[0m\n",
            "\u001b[0;32mzmq/backend/cython/socket.pyx\u001b[0m in \u001b[0;36mzmq.backend.cython.socket.Socket.recv\u001b[0;34m()\u001b[0m\n",
            "\u001b[0;32mzmq/backend/cython/socket.pyx\u001b[0m in \u001b[0;36mzmq.backend.cython.socket._recv_copy\u001b[0;34m()\u001b[0m\n",
            "\u001b[0;32m/usr/local/lib/python3.6/dist-packages/zmq/backend/cython/checkrc.pxd\u001b[0m in \u001b[0;36mzmq.backend.cython.checkrc._check_rc\u001b[0;34m()\u001b[0m\n",
            "\u001b[0;31mKeyboardInterrupt\u001b[0m: ",
            "\nDuring handling of the above exception, another exception occurred:\n",
            "\u001b[0;31mKeyboardInterrupt\u001b[0m                         Traceback (most recent call last)",
            "\u001b[0;32m<ipython-input-100-63202f6612cd>\u001b[0m in \u001b[0;36m<module>\u001b[0;34m()\u001b[0m\n\u001b[1;32m      1\u001b[0m \u001b[0;32mwhile\u001b[0m \u001b[0;32mTrue\u001b[0m\u001b[0;34m:\u001b[0m\u001b[0;34m\u001b[0m\u001b[0;34m\u001b[0m\u001b[0m\n\u001b[0;32m----> 2\u001b[0;31m     \u001b[0mstring\u001b[0m \u001b[0;34m=\u001b[0m \u001b[0minput\u001b[0m\u001b[0;34m(\u001b[0m\u001b[0;34m'질문 > '\u001b[0m\u001b[0;34m)\u001b[0m\u001b[0;34m\u001b[0m\u001b[0;34m\u001b[0m\u001b[0m\n\u001b[0m\u001b[1;32m      3\u001b[0m     \u001b[0mstring\u001b[0m \u001b[0;34m=\u001b[0m \u001b[0mstring\u001b[0m\u001b[0;34m.\u001b[0m\u001b[0mstrip\u001b[0m\u001b[0;34m(\u001b[0m\u001b[0;34m)\u001b[0m\u001b[0;34m\u001b[0m\u001b[0;34m\u001b[0m\u001b[0m\n\u001b[1;32m      4\u001b[0m     \u001b[0;32mif\u001b[0m \u001b[0mlen\u001b[0m\u001b[0;34m(\u001b[0m\u001b[0mstring\u001b[0m\u001b[0;34m)\u001b[0m \u001b[0;34m==\u001b[0m \u001b[0;36m0\u001b[0m\u001b[0;34m:\u001b[0m\u001b[0;34m\u001b[0m\u001b[0;34m\u001b[0m\u001b[0m\n\u001b[1;32m      5\u001b[0m         \u001b[0;32mbreak\u001b[0m\u001b[0;34m\u001b[0m\u001b[0;34m\u001b[0m\u001b[0m\n",
            "\u001b[0;32m/usr/local/lib/python3.6/dist-packages/ipykernel/kernelbase.py\u001b[0m in \u001b[0;36mraw_input\u001b[0;34m(self, prompt)\u001b[0m\n\u001b[1;32m    702\u001b[0m             \u001b[0mself\u001b[0m\u001b[0;34m.\u001b[0m\u001b[0m_parent_ident\u001b[0m\u001b[0;34m,\u001b[0m\u001b[0;34m\u001b[0m\u001b[0;34m\u001b[0m\u001b[0m\n\u001b[1;32m    703\u001b[0m             \u001b[0mself\u001b[0m\u001b[0;34m.\u001b[0m\u001b[0m_parent_header\u001b[0m\u001b[0;34m,\u001b[0m\u001b[0;34m\u001b[0m\u001b[0;34m\u001b[0m\u001b[0m\n\u001b[0;32m--> 704\u001b[0;31m             \u001b[0mpassword\u001b[0m\u001b[0;34m=\u001b[0m\u001b[0;32mFalse\u001b[0m\u001b[0;34m,\u001b[0m\u001b[0;34m\u001b[0m\u001b[0;34m\u001b[0m\u001b[0m\n\u001b[0m\u001b[1;32m    705\u001b[0m         )\n\u001b[1;32m    706\u001b[0m \u001b[0;34m\u001b[0m\u001b[0m\n",
            "\u001b[0;32m/usr/local/lib/python3.6/dist-packages/ipykernel/kernelbase.py\u001b[0m in \u001b[0;36m_input_request\u001b[0;34m(self, prompt, ident, parent, password)\u001b[0m\n\u001b[1;32m    732\u001b[0m             \u001b[0;32mexcept\u001b[0m \u001b[0mKeyboardInterrupt\u001b[0m\u001b[0;34m:\u001b[0m\u001b[0;34m\u001b[0m\u001b[0;34m\u001b[0m\u001b[0m\n\u001b[1;32m    733\u001b[0m                 \u001b[0;31m# re-raise KeyboardInterrupt, to truncate traceback\u001b[0m\u001b[0;34m\u001b[0m\u001b[0;34m\u001b[0m\u001b[0;34m\u001b[0m\u001b[0m\n\u001b[0;32m--> 734\u001b[0;31m                 \u001b[0;32mraise\u001b[0m \u001b[0mKeyboardInterrupt\u001b[0m\u001b[0;34m\u001b[0m\u001b[0;34m\u001b[0m\u001b[0m\n\u001b[0m\u001b[1;32m    735\u001b[0m             \u001b[0;32melse\u001b[0m\u001b[0;34m:\u001b[0m\u001b[0;34m\u001b[0m\u001b[0;34m\u001b[0m\u001b[0m\n\u001b[1;32m    736\u001b[0m                 \u001b[0;32mbreak\u001b[0m\u001b[0;34m\u001b[0m\u001b[0;34m\u001b[0m\u001b[0m\n",
            "\u001b[0;31mKeyboardInterrupt\u001b[0m: "
          ]
        }
      ]
    },
    {
      "cell_type": "markdown",
      "metadata": {
        "id": "AWDVrDn9nGPj"
      },
      "source": [
        "# All Data Project"
      ]
    },
    {
      "cell_type": "markdown",
      "metadata": {
        "id": "t3btqUHNnGPk"
      },
      "source": [
        "## Data\n"
      ]
    },
    {
      "cell_type": "code",
      "metadata": {
        "id": "EC8V06BinGPk"
      },
      "source": [
        "df_train = pd.read_csv(os.path.join(songys_dir, 'ChatbotData.csv'))\n",
        "df_train"
      ],
      "execution_count": null,
      "outputs": []
    },
    {
      "cell_type": "code",
      "metadata": {
        "id": "hLGjMlWZN5y6"
      },
      "source": [
        "df_train = df_train.dropna()\n",
        "df_train"
      ],
      "execution_count": null,
      "outputs": []
    },
    {
      "cell_type": "code",
      "metadata": {
        "id": "CJcJazU7nGPl"
      },
      "source": [
        "def load_data(df, n_enc_seq, n_dec_seq):\n",
        "    \"\"\"\n",
        "    Quora 학습 데이터 생성\n",
        "    :param df: data frame\n",
        "    :param n_enc_seq: number of encoder sequence\n",
        "    :param n_dec_seq: number of decoder sequence\n",
        "    :return enc_inputs: encoder input data\n",
        "    :return dec_inputs: decoder input data\n",
        "    :return labels: label data\n",
        "    \"\"\"\n",
        "    n_enc_max = n_enc_seq\n",
        "    n_dec_max = n_dec_seq - 1\n",
        "    enc_inputs = np.zeros((len(df), n_enc_seq)).astype(np.int32)\n",
        "    dec_inputs = np.zeros((len(df), n_dec_seq)).astype(np.int32)\n",
        "    labels = np.zeros((len(df), n_dec_seq)).astype(np.int32)\n",
        "    index = 0\n",
        "    for i, row in tqdm(df.iterrows(), total=len(df)):\n",
        "        # tokens 저장\n",
        "        # print()\n",
        "        Q = row['Q']\n",
        "        A = row['A']\n",
        "        # print(Q, '/', A)\n",
        "\n",
        "        tokens_q = vocab.encode_as_pieces(Q)\n",
        "        # print(len(tokens_q), ':', tokens_q)\n",
        "        tokens_a = vocab.encode_as_pieces(A)\n",
        "        # print(len(tokens_a), ':', tokens_a)\n",
        "\n",
        "        tokens_ids_q = vocab.encode_as_ids(Q)\n",
        "        # print(len(tokens_ids_q), ':', tokens_ids_q)\n",
        "        tokens_ids_a = vocab.encode_as_ids(A)\n",
        "        # print(len(tokens_ids_a), ':', tokens_ids_a)\n",
        "\n",
        "        tokens_ids_q = tokens_ids_q[:n_enc_max]\n",
        "        # print(len(tokens_ids_q), ':', tokens_ids_q)\n",
        "        tokens_ids_a = tokens_ids_a[:n_dec_max]\n",
        "        # print(len(tokens_ids_a), ':', tokens_ids_a)\n",
        "\n",
        "        tokens_dec_in = [vocab.bos_id()] + tokens_ids_a\n",
        "        tokens_dec_out = tokens_ids_a + [vocab.eos_id()]\n",
        "\n",
        "        tokens_ids_q += [0] * (n_enc_seq - len(tokens_ids_q))\n",
        "        # print(len(tokens_ids_q), ':', tokens_ids_q)\n",
        "        tokens_dec_in += [0] * (n_dec_seq - len(tokens_dec_in))\n",
        "        # print(len(tokens_dec_in), ':', tokens_dec_in)\n",
        "        tokens_dec_out += [0] * (n_dec_seq - len(tokens_dec_out))\n",
        "        # print(len(tokens_dec_out), ':', tokens_dec_out)\n",
        "\n",
        "        enc_inputs[index] = tokens_ids_q\n",
        "        dec_inputs[index] = tokens_dec_in\n",
        "        labels[index] = tokens_dec_out\n",
        "        index += 1\n",
        "    return enc_inputs, dec_inputs, labels"
      ],
      "execution_count": null,
      "outputs": []
    },
    {
      "cell_type": "code",
      "metadata": {
        "id": "2RtUc6TNnGPl"
      },
      "source": [
        "# train data 생성\n",
        "train_enc_inputs, train_dec_inputs, train_labels = load_data(df_train, n_enc_seq, n_dec_seq)\n",
        "train_enc_inputs, train_dec_inputs, train_labels"
      ],
      "execution_count": null,
      "outputs": []
    },
    {
      "cell_type": "code",
      "metadata": {
        "id": "Spw5GKuLnXgR"
      },
      "source": [
        "train_enc_inputs.shape, train_dec_inputs.shape, train_labels.shape"
      ],
      "execution_count": null,
      "outputs": []
    },
    {
      "cell_type": "markdown",
      "metadata": {
        "id": "iI6jGGdInGPo"
      },
      "source": [
        "## 학습"
      ]
    },
    {
      "cell_type": "code",
      "metadata": {
        "id": "HjYNgH9LOWLn"
      },
      "source": [
        "# 모델 생성\n",
        "model = build_model(len(vocab), d_model, n_enc_seq, n_dec_seq)\n",
        "# 모델 내용 그래프 출력\n",
        "tf.keras.utils.plot_model(model, 'model.png', show_shapes=True)"
      ],
      "execution_count": null,
      "outputs": []
    },
    {
      "cell_type": "code",
      "metadata": {
        "id": "Mv6ZBiC6nGPo"
      },
      "source": [
        "# 모델 loss, optimizer, metric 정의\n",
        "model.compile(loss=lm_loss, optimizer='adam', metrics=[lm_acc])"
      ],
      "execution_count": null,
      "outputs": []
    },
    {
      "cell_type": "code",
      "metadata": {
        "id": "r-XzjeyEnGPo"
      },
      "source": [
        "# early stopping\n",
        "early_stopping = tf.keras.callbacks.EarlyStopping(monitor='lm_acc', patience=10)\n",
        "# save weights callback\n",
        "save_weights = tf.keras.callbacks.ModelCheckpoint(os.path.join(songys_dir, 'lstm.hdf5'),\n",
        "                                                  monitor='lm_acc',\n",
        "                                                  verbose=1,\n",
        "                                                  save_best_only=True,\n",
        "                                                  mode=\"max\",\n",
        "                                                  save_freq=\"epoch\",\n",
        "                                                  save_weights_only=True)\n",
        "# csv logger\n",
        "csv_logger = tf.keras.callbacks.CSVLogger(os.path.join(songys_dir, 'lstm.csv'))"
      ],
      "execution_count": null,
      "outputs": []
    },
    {
      "cell_type": "code",
      "metadata": {
        "colab": {
          "background_save": true
        },
        "id": "KqWT_rcpnGPp"
      },
      "source": [
        "# 모델 학습\n",
        "history = model.fit((train_enc_inputs, train_dec_inputs),\n",
        "                    train_labels,\n",
        "                    epochs=100,\n",
        "                    batch_size=256,\n",
        "                    callbacks=[early_stopping, save_weights, csv_logger])"
      ],
      "execution_count": null,
      "outputs": []
    },
    {
      "cell_type": "code",
      "metadata": {
        "colab": {
          "background_save": true
        },
        "id": "hXhqNj5_nGPp"
      },
      "source": [
        "plt.figure(figsize=(12, 4))\n",
        "\n",
        "plt.subplot(1, 2, 1)\n",
        "plt.plot(history.history['loss'], 'b-', label='loss')\n",
        "plt.xlabel('Epoch')\n",
        "plt.legend()\n",
        "\n",
        "plt.subplot(1, 2, 2)\n",
        "plt.plot(history.history['lm_acc'], 'g-', label='acc')\n",
        "plt.xlabel('Epoch')\n",
        "plt.legend()\n",
        "\n",
        "plt.show()"
      ],
      "execution_count": null,
      "outputs": []
    },
    {
      "cell_type": "markdown",
      "metadata": {
        "id": "_cDtY-CgnGPp"
      },
      "source": [
        "## Inference"
      ]
    },
    {
      "cell_type": "code",
      "metadata": {
        "colab": {
          "background_save": true
        },
        "id": "Q2WvJLDtnGPq"
      },
      "source": [
        "# 모델 생성\n",
        "model = build_model(len(vocab), d_model, n_enc_seq, n_dec_seq)\n",
        "# train weight로 초기화\n",
        "model.load_weights(os.path.join(songys_dir, 'lstm.hdf5'))"
      ],
      "execution_count": null,
      "outputs": []
    },
    {
      "cell_type": "code",
      "metadata": {
        "colab": {
          "background_save": true
        },
        "id": "Di5UHb9AnGPq"
      },
      "source": [
        "def do_chat(vocab, model, n_enc_seq, n_dec_seq, string):\n",
        "    \"\"\"\n",
        "    seq2seq chat\n",
        "    :param vocab: vocab\n",
        "    :param model: model\n",
        "    :param n_enc_seq: number of enc seqence\n",
        "    :param n_dec_seq: number of dec seqence\n",
        "    :param string: inpust string\n",
        "    \"\"\"\n",
        "    # qeustion\n",
        "    q = vocab.encode_as_pieces(string)\n",
        "    q_id = [vocab.piece_to_id(p) for p in q][:n_enc_seq]\n",
        "    q_id += [0] * (n_enc_seq - len(q_id))\n",
        "    assert len(q_id) == n_enc_seq\n",
        "\n",
        "    # answer\n",
        "    a_id = [vocab.bos_id()]\n",
        "    a_id += [0] * (n_dec_seq - len(a_id))\n",
        "    assert len(a_id) == n_dec_seq\n",
        "\n",
        "    # 처음부터 예측\n",
        "    start_idx = 0\n",
        "\n",
        "    for _ in range(start_idx, n_dec_seq - 1):\n",
        "        outputs = model.predict((np.array([q_id]), np.array([a_id])))\n",
        "        prob = outputs[0][start_idx]\n",
        "        word_id = np.argmax(prob)\n",
        "        if word_id == vocab.eos_id():\n",
        "            break\n",
        "        a_id[start_idx + 1] = int(word_id)\n",
        "        start_idx += 1\n",
        "    predict_id = a_id[1:start_idx + 1]\n",
        "    predict_str = vocab.decode_ids(predict_id)\n",
        "    return predict_str"
      ],
      "execution_count": null,
      "outputs": []
    },
    {
      "cell_type": "code",
      "metadata": {
        "id": "t0j-HAT9nGPq"
      },
      "source": [
        "while True:\n",
        "    string = input('질문 > ')\n",
        "    string = string.strip()\n",
        "    if len(string) == 0:\n",
        "        break\n",
        "    predict_str = do_chat(vocab, model, n_enc_seq, n_dec_seq, string)\n",
        "    print(f'답변 > {predict_str}')"
      ],
      "execution_count": null,
      "outputs": []
    },
    {
      "cell_type": "code",
      "metadata": {
        "id": "vUYz0deCt-tq"
      },
      "source": [
        ""
      ],
      "execution_count": null,
      "outputs": []
    }
  ]
}