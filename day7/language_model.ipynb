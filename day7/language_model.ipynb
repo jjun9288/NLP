{
  "nbformat": 4,
  "nbformat_minor": 0,
  "metadata": {
    "colab": {
      "name": "07-01-language-model-강의 (1).ipynb",
      "provenance": [],
      "collapsed_sections": [
        "6dfJPT-2XMTB",
        "JHkHg6XAXoyK",
        "XwriCkq_R1Lc",
        "3myBX8hNEH1u",
        "jv0OPyaKSpjw",
        "gcG7zBAr_R_4",
        "mvdVp2P8tCfR",
        "kTgzpx2Wl6uv",
        "IFTsdA3kE2h-",
        "PQvKAxTbaEpt",
        "L2vJmIBt3-ci",
        "_dBAGBHE3-ck",
        "MFWK8EvH3-cp",
        "g2rxLFrL3-cq",
        "rfTrHA3v3-cr"
      ]
    },
    "kernelspec": {
      "name": "python3",
      "display_name": "Python 3"
    },
    "accelerator": "GPU"
  },
  "cells": [
    {
      "cell_type": "markdown",
      "metadata": {
        "id": "6dfJPT-2XMTB"
      },
      "source": [
        "# Install"
      ]
    },
    {
      "cell_type": "code",
      "metadata": {
        "id": "a193aGJWVaqb",
        "colab": {
          "base_uri": "https://localhost:8080/"
        },
        "outputId": "5ae7991c-6d5b-48d9-980a-b4d5623b2319"
      },
      "source": [
        "!pip install sentencepiece"
      ],
      "execution_count": 1,
      "outputs": [
        {
          "output_type": "stream",
          "text": [
            "Collecting sentencepiece\n",
            "\u001b[?25l  Downloading https://files.pythonhosted.org/packages/14/67/e42bd1181472c95c8cda79305df848264f2a7f62740995a46945d9797b67/sentencepiece-0.1.95-cp36-cp36m-manylinux2014_x86_64.whl (1.2MB)\n",
            "\r\u001b[K     |▎                               | 10kB 22.9MB/s eta 0:00:01\r\u001b[K     |▌                               | 20kB 20.4MB/s eta 0:00:01\r\u001b[K     |▉                               | 30kB 15.9MB/s eta 0:00:01\r\u001b[K     |█                               | 40kB 14.8MB/s eta 0:00:01\r\u001b[K     |█▍                              | 51kB 10.3MB/s eta 0:00:01\r\u001b[K     |█▋                              | 61kB 11.9MB/s eta 0:00:01\r\u001b[K     |██                              | 71kB 11.1MB/s eta 0:00:01\r\u001b[K     |██▏                             | 81kB 11.9MB/s eta 0:00:01\r\u001b[K     |██▌                             | 92kB 12.5MB/s eta 0:00:01\r\u001b[K     |██▊                             | 102kB 9.7MB/s eta 0:00:01\r\u001b[K     |███                             | 112kB 9.7MB/s eta 0:00:01\r\u001b[K     |███▎                            | 122kB 9.7MB/s eta 0:00:01\r\u001b[K     |███▌                            | 133kB 9.7MB/s eta 0:00:01\r\u001b[K     |███▉                            | 143kB 9.7MB/s eta 0:00:01\r\u001b[K     |████                            | 153kB 9.7MB/s eta 0:00:01\r\u001b[K     |████▍                           | 163kB 9.7MB/s eta 0:00:01\r\u001b[K     |████▋                           | 174kB 9.7MB/s eta 0:00:01\r\u001b[K     |█████                           | 184kB 9.7MB/s eta 0:00:01\r\u001b[K     |█████▏                          | 194kB 9.7MB/s eta 0:00:01\r\u001b[K     |█████▌                          | 204kB 9.7MB/s eta 0:00:01\r\u001b[K     |█████▊                          | 215kB 9.7MB/s eta 0:00:01\r\u001b[K     |██████                          | 225kB 9.7MB/s eta 0:00:01\r\u001b[K     |██████▎                         | 235kB 9.7MB/s eta 0:00:01\r\u001b[K     |██████▌                         | 245kB 9.7MB/s eta 0:00:01\r\u001b[K     |██████▉                         | 256kB 9.7MB/s eta 0:00:01\r\u001b[K     |███████                         | 266kB 9.7MB/s eta 0:00:01\r\u001b[K     |███████▍                        | 276kB 9.7MB/s eta 0:00:01\r\u001b[K     |███████▋                        | 286kB 9.7MB/s eta 0:00:01\r\u001b[K     |████████                        | 296kB 9.7MB/s eta 0:00:01\r\u001b[K     |████████▏                       | 307kB 9.7MB/s eta 0:00:01\r\u001b[K     |████████▍                       | 317kB 9.7MB/s eta 0:00:01\r\u001b[K     |████████▊                       | 327kB 9.7MB/s eta 0:00:01\r\u001b[K     |█████████                       | 337kB 9.7MB/s eta 0:00:01\r\u001b[K     |█████████▎                      | 348kB 9.7MB/s eta 0:00:01\r\u001b[K     |█████████▌                      | 358kB 9.7MB/s eta 0:00:01\r\u001b[K     |█████████▉                      | 368kB 9.7MB/s eta 0:00:01\r\u001b[K     |██████████                      | 378kB 9.7MB/s eta 0:00:01\r\u001b[K     |██████████▍                     | 389kB 9.7MB/s eta 0:00:01\r\u001b[K     |██████████▋                     | 399kB 9.7MB/s eta 0:00:01\r\u001b[K     |███████████                     | 409kB 9.7MB/s eta 0:00:01\r\u001b[K     |███████████▏                    | 419kB 9.7MB/s eta 0:00:01\r\u001b[K     |███████████▍                    | 430kB 9.7MB/s eta 0:00:01\r\u001b[K     |███████████▊                    | 440kB 9.7MB/s eta 0:00:01\r\u001b[K     |████████████                    | 450kB 9.7MB/s eta 0:00:01\r\u001b[K     |████████████▎                   | 460kB 9.7MB/s eta 0:00:01\r\u001b[K     |████████████▌                   | 471kB 9.7MB/s eta 0:00:01\r\u001b[K     |████████████▉                   | 481kB 9.7MB/s eta 0:00:01\r\u001b[K     |█████████████                   | 491kB 9.7MB/s eta 0:00:01\r\u001b[K     |█████████████▍                  | 501kB 9.7MB/s eta 0:00:01\r\u001b[K     |█████████████▋                  | 512kB 9.7MB/s eta 0:00:01\r\u001b[K     |█████████████▉                  | 522kB 9.7MB/s eta 0:00:01\r\u001b[K     |██████████████▏                 | 532kB 9.7MB/s eta 0:00:01\r\u001b[K     |██████████████▍                 | 542kB 9.7MB/s eta 0:00:01\r\u001b[K     |██████████████▊                 | 552kB 9.7MB/s eta 0:00:01\r\u001b[K     |███████████████                 | 563kB 9.7MB/s eta 0:00:01\r\u001b[K     |███████████████▎                | 573kB 9.7MB/s eta 0:00:01\r\u001b[K     |███████████████▌                | 583kB 9.7MB/s eta 0:00:01\r\u001b[K     |███████████████▉                | 593kB 9.7MB/s eta 0:00:01\r\u001b[K     |████████████████                | 604kB 9.7MB/s eta 0:00:01\r\u001b[K     |████████████████▍               | 614kB 9.7MB/s eta 0:00:01\r\u001b[K     |████████████████▋               | 624kB 9.7MB/s eta 0:00:01\r\u001b[K     |████████████████▉               | 634kB 9.7MB/s eta 0:00:01\r\u001b[K     |█████████████████▏              | 645kB 9.7MB/s eta 0:00:01\r\u001b[K     |█████████████████▍              | 655kB 9.7MB/s eta 0:00:01\r\u001b[K     |█████████████████▊              | 665kB 9.7MB/s eta 0:00:01\r\u001b[K     |██████████████████              | 675kB 9.7MB/s eta 0:00:01\r\u001b[K     |██████████████████▎             | 686kB 9.7MB/s eta 0:00:01\r\u001b[K     |██████████████████▌             | 696kB 9.7MB/s eta 0:00:01\r\u001b[K     |██████████████████▉             | 706kB 9.7MB/s eta 0:00:01\r\u001b[K     |███████████████████             | 716kB 9.7MB/s eta 0:00:01\r\u001b[K     |███████████████████▎            | 727kB 9.7MB/s eta 0:00:01\r\u001b[K     |███████████████████▋            | 737kB 9.7MB/s eta 0:00:01\r\u001b[K     |███████████████████▉            | 747kB 9.7MB/s eta 0:00:01\r\u001b[K     |████████████████████▏           | 757kB 9.7MB/s eta 0:00:01\r\u001b[K     |████████████████████▍           | 768kB 9.7MB/s eta 0:00:01\r\u001b[K     |████████████████████▊           | 778kB 9.7MB/s eta 0:00:01\r\u001b[K     |█████████████████████           | 788kB 9.7MB/s eta 0:00:01\r\u001b[K     |█████████████████████▎          | 798kB 9.7MB/s eta 0:00:01\r\u001b[K     |█████████████████████▌          | 808kB 9.7MB/s eta 0:00:01\r\u001b[K     |█████████████████████▉          | 819kB 9.7MB/s eta 0:00:01\r\u001b[K     |██████████████████████          | 829kB 9.7MB/s eta 0:00:01\r\u001b[K     |██████████████████████▎         | 839kB 9.7MB/s eta 0:00:01\r\u001b[K     |██████████████████████▋         | 849kB 9.7MB/s eta 0:00:01\r\u001b[K     |██████████████████████▉         | 860kB 9.7MB/s eta 0:00:01\r\u001b[K     |███████████████████████▏        | 870kB 9.7MB/s eta 0:00:01\r\u001b[K     |███████████████████████▍        | 880kB 9.7MB/s eta 0:00:01\r\u001b[K     |███████████████████████▊        | 890kB 9.7MB/s eta 0:00:01\r\u001b[K     |████████████████████████        | 901kB 9.7MB/s eta 0:00:01\r\u001b[K     |████████████████████████▎       | 911kB 9.7MB/s eta 0:00:01\r\u001b[K     |████████████████████████▌       | 921kB 9.7MB/s eta 0:00:01\r\u001b[K     |████████████████████████▊       | 931kB 9.7MB/s eta 0:00:01\r\u001b[K     |█████████████████████████       | 942kB 9.7MB/s eta 0:00:01\r\u001b[K     |█████████████████████████▎      | 952kB 9.7MB/s eta 0:00:01\r\u001b[K     |█████████████████████████▋      | 962kB 9.7MB/s eta 0:00:01\r\u001b[K     |█████████████████████████▉      | 972kB 9.7MB/s eta 0:00:01\r\u001b[K     |██████████████████████████▏     | 983kB 9.7MB/s eta 0:00:01\r\u001b[K     |██████████████████████████▍     | 993kB 9.7MB/s eta 0:00:01\r\u001b[K     |██████████████████████████▊     | 1.0MB 9.7MB/s eta 0:00:01\r\u001b[K     |███████████████████████████     | 1.0MB 9.7MB/s eta 0:00:01\r\u001b[K     |███████████████████████████▎    | 1.0MB 9.7MB/s eta 0:00:01\r\u001b[K     |███████████████████████████▌    | 1.0MB 9.7MB/s eta 0:00:01\r\u001b[K     |███████████████████████████▊    | 1.0MB 9.7MB/s eta 0:00:01\r\u001b[K     |████████████████████████████    | 1.1MB 9.7MB/s eta 0:00:01\r\u001b[K     |████████████████████████████▎   | 1.1MB 9.7MB/s eta 0:00:01\r\u001b[K     |████████████████████████████▋   | 1.1MB 9.7MB/s eta 0:00:01\r\u001b[K     |████████████████████████████▉   | 1.1MB 9.7MB/s eta 0:00:01\r\u001b[K     |█████████████████████████████▏  | 1.1MB 9.7MB/s eta 0:00:01\r\u001b[K     |█████████████████████████████▍  | 1.1MB 9.7MB/s eta 0:00:01\r\u001b[K     |█████████████████████████████▊  | 1.1MB 9.7MB/s eta 0:00:01\r\u001b[K     |██████████████████████████████  | 1.1MB 9.7MB/s eta 0:00:01\r\u001b[K     |██████████████████████████████▏ | 1.1MB 9.7MB/s eta 0:00:01\r\u001b[K     |██████████████████████████████▌ | 1.1MB 9.7MB/s eta 0:00:01\r\u001b[K     |██████████████████████████████▊ | 1.2MB 9.7MB/s eta 0:00:01\r\u001b[K     |███████████████████████████████ | 1.2MB 9.7MB/s eta 0:00:01\r\u001b[K     |███████████████████████████████▎| 1.2MB 9.7MB/s eta 0:00:01\r\u001b[K     |███████████████████████████████▋| 1.2MB 9.7MB/s eta 0:00:01\r\u001b[K     |███████████████████████████████▉| 1.2MB 9.7MB/s eta 0:00:01\r\u001b[K     |████████████████████████████████| 1.2MB 9.7MB/s \n",
            "\u001b[?25hInstalling collected packages: sentencepiece\n",
            "Successfully installed sentencepiece-0.1.95\n"
          ],
          "name": "stdout"
        }
      ]
    },
    {
      "cell_type": "markdown",
      "metadata": {
        "id": "JHkHg6XAXoyK"
      },
      "source": [
        "# Evn"
      ]
    },
    {
      "cell_type": "code",
      "metadata": {
        "id": "WkYXFwcBXJDG"
      },
      "source": [
        "import os\n",
        "import random\n",
        "import shutil\n",
        "import json\n",
        "import zipfile\n",
        "import math\n",
        "import copy\n",
        "import collections\n",
        "import re\n",
        "\n",
        "import matplotlib.pyplot as plt\n",
        "import pandas as pd\n",
        "import numpy as np\n",
        "import sentencepiece as spm\n",
        "import tensorflow as tf\n",
        "import tensorflow.keras.backend as K\n",
        "\n",
        "from tqdm.notebook import tqdm"
      ],
      "execution_count": 2,
      "outputs": []
    },
    {
      "cell_type": "code",
      "metadata": {
        "id": "nvjyruUlXtlR"
      },
      "source": [
        "# random seed initialize\n",
        "random_seed = 1234\n",
        "random.seed(random_seed)\n",
        "np.random.seed(random_seed)\n",
        "tf.random.set_seed(random_seed)"
      ],
      "execution_count": 3,
      "outputs": []
    },
    {
      "cell_type": "code",
      "metadata": {
        "id": "BC3fXkhdYcYt",
        "colab": {
          "base_uri": "https://localhost:8080/"
        },
        "outputId": "d2420bf8-b0dd-496c-bf12-d2f1119253de"
      },
      "source": [
        "!nvidia-smi"
      ],
      "execution_count": 4,
      "outputs": [
        {
          "output_type": "stream",
          "text": [
            "Wed Feb  3 01:04:50 2021       \n",
            "+-----------------------------------------------------------------------------+\n",
            "| NVIDIA-SMI 460.39       Driver Version: 418.67       CUDA Version: 10.1     |\n",
            "|-------------------------------+----------------------+----------------------+\n",
            "| GPU  Name        Persistence-M| Bus-Id        Disp.A | Volatile Uncorr. ECC |\n",
            "| Fan  Temp  Perf  Pwr:Usage/Cap|         Memory-Usage | GPU-Util  Compute M. |\n",
            "|                               |                      |               MIG M. |\n",
            "|===============================+======================+======================|\n",
            "|   0  Tesla T4            Off  | 00000000:00:04.0 Off |                    0 |\n",
            "| N/A   40C    P8     9W /  70W |      0MiB / 15079MiB |      0%      Default |\n",
            "|                               |                      |                 ERR! |\n",
            "+-------------------------------+----------------------+----------------------+\n",
            "                                                                               \n",
            "+-----------------------------------------------------------------------------+\n",
            "| Processes:                                                                  |\n",
            "|  GPU   GI   CI        PID   Type   Process name                  GPU Memory |\n",
            "|        ID   ID                                                   Usage      |\n",
            "|=============================================================================|\n",
            "|  No running processes found                                                 |\n",
            "+-----------------------------------------------------------------------------+\n"
          ],
          "name": "stdout"
        }
      ]
    },
    {
      "cell_type": "code",
      "metadata": {
        "id": "xVRdxYReYeQj",
        "colab": {
          "base_uri": "https://localhost:8080/"
        },
        "outputId": "5f19a60a-e353-4dcf-ef8d-19d77fb3168f"
      },
      "source": [
        "# google drive mount\n",
        "from google.colab import drive\n",
        "drive.mount('/content/drive')"
      ],
      "execution_count": 5,
      "outputs": [
        {
          "output_type": "stream",
          "text": [
            "Mounted at /content/drive\n"
          ],
          "name": "stdout"
        }
      ]
    },
    {
      "cell_type": "code",
      "metadata": {
        "id": "byCIiLJBbFHh",
        "colab": {
          "base_uri": "https://localhost:8080/"
        },
        "outputId": "3fa4f30e-27ad-4810-d990-9d43e22c2ef8"
      },
      "source": [
        "# data dir\n",
        "data_dir = '/content/drive/MyDrive/kowiki'\n",
        "os.listdir(data_dir)"
      ],
      "execution_count": 32,
      "outputs": [
        {
          "output_type": "execute_result",
          "data": {
            "text/plain": [
              "['ko_32000.model',\n",
              " 'ko_32000.vocab',\n",
              " 'kowiki.txt.zip',\n",
              " 'my_corpus.txt',\n",
              " 'nsmc (1)',\n",
              " 'nsmc',\n",
              " 'quora',\n",
              " 'kowiki',\n",
              " 'kowiki_lm.json']"
            ]
          },
          "metadata": {
            "tags": []
          },
          "execution_count": 32
        }
      ]
    },
    {
      "cell_type": "code",
      "metadata": {
        "id": "_Ru56YS3-SME",
        "colab": {
          "base_uri": "https://localhost:8080/"
        },
        "outputId": "000d0d3c-2859-4be4-90b6-edaadebf0f78"
      },
      "source": [
        "# korean wiki dir\n",
        "kowiki_dir = os.path.join(data_dir, 'kowiki')\n",
        "if not os.path.exists(kowiki_dir):\n",
        "    os.makedirs(kowiki_dir)\n",
        "os.listdir(kowiki_dir)"
      ],
      "execution_count": 33,
      "outputs": [
        {
          "output_type": "execute_result",
          "data": {
            "text/plain": [
              "[]"
            ]
          },
          "metadata": {
            "tags": []
          },
          "execution_count": 33
        }
      ]
    },
    {
      "cell_type": "markdown",
      "metadata": {
        "id": "XwriCkq_R1Lc"
      },
      "source": [
        "# Vocabulary & config"
      ]
    },
    {
      "cell_type": "code",
      "metadata": {
        "id": "2H0BLydCb7lg",
        "colab": {
          "base_uri": "https://localhost:8080/"
        },
        "outputId": "d23e2366-f751-447f-d2a1-b25248027f6a"
      },
      "source": [
        "# vocab loading\n",
        "vocab = spm.SentencePieceProcessor()\n",
        "vocab.load(os.path.join(data_dir, 'ko_32000.model'))"
      ],
      "execution_count": 34,
      "outputs": [
        {
          "output_type": "execute_result",
          "data": {
            "text/plain": [
              "True"
            ]
          },
          "metadata": {
            "tags": []
          },
          "execution_count": 34
        }
      ]
    },
    {
      "cell_type": "code",
      "metadata": {
        "id": "0ETZ19flTRmt"
      },
      "source": [
        "n_vocab = len(vocab)  # number of vocabulary\n",
        "n_seq = 256  # number of sequence\n",
        "d_model = 256  # dimension of model"
      ],
      "execution_count": 14,
      "outputs": []
    },
    {
      "cell_type": "markdown",
      "metadata": {
        "id": "3myBX8hNEH1u"
      },
      "source": [
        "# 모델링"
      ]
    },
    {
      "cell_type": "code",
      "metadata": {
        "id": "bVaNre9FOpVv"
      },
      "source": [
        "# 입력 문장\n",
        "sentences = [\n",
        "    '나는 오늘 기분이 좋아 나는 오늘 우울해',\n",
        "    '나는 오늘 행복해 나는 오늘 즐거워'\n",
        "]"
      ],
      "execution_count": 15,
      "outputs": []
    },
    {
      "cell_type": "code",
      "metadata": {
        "id": "7NsSdXF8O51C",
        "colab": {
          "base_uri": "https://localhost:8080/"
        },
        "outputId": "865ebbdc-eea7-4b5e-be3f-aa1edf0cb65c"
      },
      "source": [
        "# 각 문장을 띄어쓰기 단위로 분할\n",
        "words = []\n",
        "for sentence in sentences:\n",
        "    words.extend(sentence.split())\n",
        "\n",
        "# 중복 단어 제거\n",
        "words = list(dict.fromkeys(words))\n",
        "\n",
        "# 각 단어별 고유한 번호 부여\n",
        "word_to_id = {'[PAD]': 0, '[UNK]': 1, '[BOS]': 2, '[EOS]': 3}\n",
        "for word in words:\n",
        "    word_to_id[word] = len(word_to_id)\n",
        "\n",
        "# 각 숫자별 단어 부여\n",
        "id_to_word = {_id:word for word, _id in word_to_id.items()}\n",
        "\n",
        "word_to_id, id_to_word"
      ],
      "execution_count": 16,
      "outputs": [
        {
          "output_type": "execute_result",
          "data": {
            "text/plain": [
              "({'[BOS]': 2,\n",
              "  '[EOS]': 3,\n",
              "  '[PAD]': 0,\n",
              "  '[UNK]': 1,\n",
              "  '기분이': 6,\n",
              "  '나는': 4,\n",
              "  '오늘': 5,\n",
              "  '우울해': 8,\n",
              "  '좋아': 7,\n",
              "  '즐거워': 10,\n",
              "  '행복해': 9},\n",
              " {0: '[PAD]',\n",
              "  1: '[UNK]',\n",
              "  2: '[BOS]',\n",
              "  3: '[EOS]',\n",
              "  4: '나는',\n",
              "  5: '오늘',\n",
              "  6: '기분이',\n",
              "  7: '좋아',\n",
              "  8: '우울해',\n",
              "  9: '행복해',\n",
              "  10: '즐거워'})"
            ]
          },
          "metadata": {
            "tags": []
          },
          "execution_count": 16
        }
      ]
    },
    {
      "cell_type": "code",
      "metadata": {
        "id": "nGSnITRaO-9v",
        "colab": {
          "base_uri": "https://localhost:8080/"
        },
        "outputId": "045bc7ec-cbd8-4e8b-a8de-0068105126e7"
      },
      "source": [
        "# 학습용 입력 데이터 생성\n",
        "train_ids = []\n",
        "for sentence in sentences:\n",
        "    train_ids.append([word_to_id[word] for word in sentence.split()])\n",
        "\n",
        "# id를 입력과 정답으로 저장\n",
        "train_inputs, train_labels = [], []\n",
        "for train_id in train_ids:\n",
        "    train_inputs.append([word_to_id['[BOS]']] + train_id)\n",
        "    train_labels.append(train_id + [word_to_id['[EOS]']])\n",
        "\n",
        "# 문장의 길이를 모두 동일하게 변경 (최대길이 8)\n",
        "for row in train_inputs:\n",
        "    row += [0] * (8 - len(row))\n",
        "\n",
        "# 문장의 길이를 모두 동일하게 변경 (최대길이 8)\n",
        "for row in train_labels:\n",
        "    row += [0] * (8 - len(row))\n",
        "\n",
        "# train inputs을 numpy array로 변환\n",
        "train_inputs = np.array(train_inputs)\n",
        "train_labels = np.array(train_labels)\n",
        "\n",
        "train_inputs, train_labels"
      ],
      "execution_count": 17,
      "outputs": [
        {
          "output_type": "execute_result",
          "data": {
            "text/plain": [
              "(array([[ 2,  4,  5,  6,  7,  4,  5,  8],\n",
              "        [ 2,  4,  5,  9,  4,  5, 10,  0]]),\n",
              " array([[ 4,  5,  6,  7,  4,  5,  8,  3],\n",
              "        [ 4,  5,  9,  4,  5, 10,  3,  0]]))"
            ]
          },
          "metadata": {
            "tags": []
          },
          "execution_count": 17
        }
      ]
    },
    {
      "cell_type": "code",
      "metadata": {
        "id": "34wJtGLuGR-9",
        "colab": {
          "base_uri": "https://localhost:8080/"
        },
        "outputId": "cf397f7a-163d-4682-eee0-4821f066d142"
      },
      "source": [
        "# 단어를 벡터로 변환\n",
        "embedding = tf.keras.layers.Embedding(len(word_to_id), 4)\n",
        "hidden = embedding(train_inputs)  # (bs, n_seq, 4)\n",
        "hidden"
      ],
      "execution_count": 18,
      "outputs": [
        {
          "output_type": "execute_result",
          "data": {
            "text/plain": [
              "<tf.Tensor: shape=(2, 8, 4), dtype=float32, numpy=\n",
              "array([[[ 0.02788493,  0.00853021,  0.02688133, -0.00167429],\n",
              "        [ 0.04810704, -0.03535189,  0.04945729,  0.02813626],\n",
              "        [-0.02798697, -0.00110071,  0.0133124 ,  0.00637371],\n",
              "        [-0.00963336, -0.01013004,  0.01826939,  0.02741292],\n",
              "        [-0.00544795, -0.04431503, -0.02540476, -0.0194685 ],\n",
              "        [ 0.04810704, -0.03535189,  0.04945729,  0.02813626],\n",
              "        [-0.02798697, -0.00110071,  0.0133124 ,  0.00637371],\n",
              "        [-0.01826397, -0.03069841,  0.03251565,  0.00923193]],\n",
              "\n",
              "       [[ 0.02788493,  0.00853021,  0.02688133, -0.00167429],\n",
              "        [ 0.04810704, -0.03535189,  0.04945729,  0.02813626],\n",
              "        [-0.02798697, -0.00110071,  0.0133124 ,  0.00637371],\n",
              "        [-0.01256046,  0.0343336 , -0.02595751,  0.03221213],\n",
              "        [ 0.04810704, -0.03535189,  0.04945729,  0.02813626],\n",
              "        [-0.02798697, -0.00110071,  0.0133124 ,  0.00637371],\n",
              "        [-0.03375109, -0.02327753, -0.00871272,  0.00912046],\n",
              "        [ 0.00380393, -0.01353813,  0.00816301, -0.02561716]]],\n",
              "      dtype=float32)>"
            ]
          },
          "metadata": {
            "tags": []
          },
          "execution_count": 18
        }
      ]
    },
    {
      "cell_type": "code",
      "metadata": {
        "id": "Cd3Gs-VAGhyq",
        "colab": {
          "base_uri": "https://localhost:8080/"
        },
        "outputId": "d3292196-a163-4149-b8e9-b75c78db872d"
      },
      "source": [
        "# LSTM 실행\n",
        "lstm = tf.keras.layers.LSTM(units=5, return_sequences=True)\n",
        "hidden = lstm(hidden)\n",
        "hidden"
      ],
      "execution_count": 19,
      "outputs": [
        {
          "output_type": "execute_result",
          "data": {
            "text/plain": [
              "<tf.Tensor: shape=(2, 8, 5), dtype=float32, numpy=\n",
              "array([[[ 0.00319188,  0.0004601 ,  0.00048046,  0.00068459,\n",
              "          0.00486466],\n",
              "        [ 0.00894166, -0.00398243, -0.00042938, -0.00316281,\n",
              "          0.01105411],\n",
              "        [ 0.00766935, -0.00386156,  0.00388169, -0.00665173,\n",
              "          0.00903312],\n",
              "        [ 0.00829616, -0.00536775,  0.00688199, -0.01092444,\n",
              "          0.01057143],\n",
              "        [-0.00012326, -0.00511966, -0.00149244, -0.00613498,\n",
              "         -0.0010604 ],\n",
              "        [ 0.00606216, -0.00820581, -0.00172402, -0.00856205,\n",
              "          0.00738286],\n",
              "        [ 0.00519836, -0.00702938,  0.00313166, -0.01096036,\n",
              "          0.00693066],\n",
              "        [ 0.00657915, -0.00800196,  0.00457055, -0.01407604,\n",
              "          0.00739967]],\n",
              "\n",
              "       [[ 0.00319188,  0.0004601 ,  0.00048046,  0.00068459,\n",
              "          0.00486466],\n",
              "        [ 0.00894166, -0.00398243, -0.00042938, -0.00316281,\n",
              "          0.01105411],\n",
              "        [ 0.00766935, -0.00386156,  0.00388169, -0.00665173,\n",
              "          0.00903312],\n",
              "        [ 0.00388655, -0.00242244,  0.00856029, -0.00810846,\n",
              "          0.00914428],\n",
              "        [ 0.00867492, -0.00566278,  0.00575731, -0.01013837,\n",
              "          0.01500174],\n",
              "        [ 0.00686534, -0.00475602,  0.00849079, -0.01219667,\n",
              "          0.01245715],\n",
              "        [ 0.00288458, -0.00525455,  0.00740161, -0.0134944 ,\n",
              "          0.00628166],\n",
              "        [ 0.00016705, -0.00287942,  0.00276615, -0.00814157,\n",
              "          0.00284877]]], dtype=float32)>"
            ]
          },
          "metadata": {
            "tags": []
          },
          "execution_count": 19
        }
      ]
    },
    {
      "cell_type": "code",
      "metadata": {
        "colab": {
          "base_uri": "https://localhost:8080/"
        },
        "id": "FatlPGYhftoK",
        "outputId": "bdf20051-85c7-4319-8ca0-0f14ee256102"
      },
      "source": [
        "len(word_to_id)"
      ],
      "execution_count": 20,
      "outputs": [
        {
          "output_type": "execute_result",
          "data": {
            "text/plain": [
              "11"
            ]
          },
          "metadata": {
            "tags": []
          },
          "execution_count": 20
        }
      ]
    },
    {
      "cell_type": "code",
      "metadata": {
        "id": "L47UgZ04J80U",
        "colab": {
          "base_uri": "https://localhost:8080/"
        },
        "outputId": "5cf20436-6618-4328-aaed-3dead0a702fa"
      },
      "source": [
        "# 다음단어 예측\n",
        "dense = tf.keras.layers.Dense(len(word_to_id), activation=tf.nn.softmax)\n",
        "outputs = dense(hidden)\n",
        "outputs"
      ],
      "execution_count": 21,
      "outputs": [
        {
          "output_type": "execute_result",
          "data": {
            "text/plain": [
              "<tf.Tensor: shape=(2, 8, 11), dtype=float32, numpy=\n",
              "array([[[0.09095009, 0.09100534, 0.09078809, 0.09107333, 0.09073468,\n",
              "         0.09084196, 0.09071952, 0.0911459 , 0.09077941, 0.09089004,\n",
              "         0.09107161],\n",
              "        [0.09091932, 0.0908605 , 0.09085783, 0.09155371, 0.09053011,\n",
              "         0.09105469, 0.09082662, 0.09110866, 0.0907365 , 0.09049691,\n",
              "         0.09105515],\n",
              "        [0.0910784 , 0.09098901, 0.09074864, 0.09155462, 0.090539  ,\n",
              "         0.09118763, 0.09117985, 0.09108083, 0.09056233, 0.09015973,\n",
              "         0.09091996],\n",
              "        [0.09113628, 0.09101795, 0.09070639, 0.09178611, 0.09049145,\n",
              "         0.09136044, 0.0914659 , 0.09108679, 0.0903735 , 0.08977969,\n",
              "         0.0907955 ],\n",
              "        [0.09075198, 0.09058631, 0.09120022, 0.09120046, 0.09101953,\n",
              "         0.09125873, 0.09135398, 0.0905164 , 0.0910138 , 0.09051464,\n",
              "         0.09058393],\n",
              "        [0.09073099, 0.09053629, 0.0911767 , 0.09170382, 0.09075757,\n",
              "         0.09136692, 0.09129173, 0.09067336, 0.09086999, 0.09021923,\n",
              "         0.09067339],\n",
              "        [0.09090739, 0.09074099, 0.0909916 , 0.09171211, 0.09071954,\n",
              "         0.09142141, 0.0915226 , 0.09078801, 0.09062362, 0.08995098,\n",
              "         0.09062178],\n",
              "        [0.09098372, 0.09076019, 0.09095989, 0.0918367 , 0.09065623,\n",
              "         0.09155927, 0.09173351, 0.09074419, 0.09054325, 0.08966406,\n",
              "         0.09055902]],\n",
              "\n",
              "       [[0.09095009, 0.09100534, 0.09078809, 0.09107333, 0.09073468,\n",
              "         0.09084196, 0.09071952, 0.0911459 , 0.09077941, 0.09089004,\n",
              "         0.09107161],\n",
              "        [0.09091932, 0.0908605 , 0.09085783, 0.09155371, 0.09053011,\n",
              "         0.09105469, 0.09082662, 0.09110866, 0.0907365 , 0.09049691,\n",
              "         0.09105515],\n",
              "        [0.0910784 , 0.09098901, 0.09074864, 0.09155462, 0.090539  ,\n",
              "         0.09118763, 0.09117985, 0.09108083, 0.09056233, 0.09015973,\n",
              "         0.09091996],\n",
              "        [0.09109382, 0.09113513, 0.09063639, 0.09159528, 0.09062732,\n",
              "         0.09117442, 0.09131467, 0.09126665, 0.09027364, 0.09007011,\n",
              "         0.09081267],\n",
              "        [0.09096879, 0.09095397, 0.09075209, 0.0919959 , 0.09047915,\n",
              "         0.09129214, 0.09124538, 0.09125935, 0.09029676, 0.08991078,\n",
              "         0.09084565],\n",
              "        [0.09106793, 0.09105109, 0.09068108, 0.09192007, 0.09052593,\n",
              "         0.09135855, 0.09147449, 0.09123203, 0.09019429, 0.08974454,\n",
              "         0.09074998],\n",
              "        [0.0909932 , 0.09090863, 0.09085473, 0.09172469, 0.09075362,\n",
              "         0.09145838, 0.09171911, 0.09091874, 0.09036531, 0.08976557,\n",
              "         0.09053799],\n",
              "        [0.09083477, 0.0908155 , 0.09098035, 0.0913797 , 0.09091645,\n",
              "         0.0912337 , 0.09135897, 0.09086192, 0.09064125, 0.09033925,\n",
              "         0.0906381 ]]], dtype=float32)>"
            ]
          },
          "metadata": {
            "tags": []
          },
          "execution_count": 21
        }
      ]
    },
    {
      "cell_type": "code",
      "metadata": {
        "id": "SobekkcjEX_P"
      },
      "source": [
        "def build_model(n_vocab, d_model, n_seq):\n",
        "    \"\"\"\n",
        "    문장 유사도 비교 모델\n",
        "    :param n_vocab: vocabulary 단어 수\n",
        "    :param d_model: 단어를 의미하는 벡터의 차원 수\n",
        "    :param n_seq: 문장 길이 (단어 수)\n",
        "    \"\"\"\n",
        "    inputs = tf.keras.layers.Input((n_seq,))  # (bs, n_seq)\n",
        "    #######################################################\n",
        "    # 입력 단어를 vector로 변환\n",
        "    embedding = tf.keras.layers.Embedding(n_vocab, d_model)\n",
        "    hidden = embedding(inputs)  # (bs, n_seq, d_model)\n",
        "    # LSTM\n",
        "    lstm = tf.keras.layers.LSTM(units=d_model * 2, return_sequences=True)\n",
        "    hidden = lstm(hidden)  # (bs, n_seq, d_model * 2)\n",
        "    # 다음단어 확률 분포\n",
        "    dense = tf.keras.layers.Dense(n_vocab, activation=tf.nn.softmax)\n",
        "    outputs = dense(hidden)\n",
        "    #######################################################\n",
        "    # 학습할 모델 선언\n",
        "    model = tf.keras.Model(inputs=inputs, outputs=outputs)\n",
        "    return model"
      ],
      "execution_count": 22,
      "outputs": []
    },
    {
      "cell_type": "code",
      "metadata": {
        "id": "72cRi9zUEeqG",
        "colab": {
          "base_uri": "https://localhost:8080/",
          "height": 422
        },
        "outputId": "e99ef9a7-0f49-4865-9e8a-8c738f507956"
      },
      "source": [
        "# 모델 생성\n",
        "model = build_model(len(word_to_id), 4, 8)\n",
        "# 모델 내용 그래프 출력\n",
        "tf.keras.utils.plot_model(model, 'model.png', show_shapes=True)"
      ],
      "execution_count": 23,
      "outputs": [
        {
          "output_type": "execute_result",
          "data": {
            "image/png": "[encoded data removed]",
            "text/plain": [
              "<IPython.core.display.Image object>"
            ]
          },
          "metadata": {
            "tags": []
          },
          "execution_count": 23
        }
      ]
    },
    {
      "cell_type": "markdown",
      "metadata": {
        "id": "jv0OPyaKSpjw"
      },
      "source": [
        "# Preprocessing\n"
      ]
    },
    {
      "cell_type": "code",
      "metadata": {
        "id": "E13I0Xr_kMX-",
        "colab": {
          "base_uri": "https://localhost:8080/",
          "height": 362
        },
        "outputId": "c67f63e0-352d-4f6e-d6ce-bf48ea4f7bdc"
      },
      "source": [
        "# 파일 내용 확인\n",
        "with zipfile.ZipFile(os.path.join(kowiki_dir, 'kowiki.txt.zip')) as z:\n",
        "    with z.open('kowiki.txt') as f:\n",
        "        for i, line in enumerate(f):\n",
        "            line = line.decode('utf-8').strip()\n",
        "            print(line)\n",
        "            if i >= 100:\n",
        "                break"
      ],
      "execution_count": 35,
      "outputs": [
        {
          "output_type": "error",
          "ename": "FileNotFoundError",
          "evalue": "ignored",
          "traceback": [
            "\u001b[0;31m---------------------------------------------------------------------------\u001b[0m",
            "\u001b[0;31mFileNotFoundError\u001b[0m                         Traceback (most recent call last)",
            "\u001b[0;32m<ipython-input-35-1d6409d8a73d>\u001b[0m in \u001b[0;36m<module>\u001b[0;34m()\u001b[0m\n\u001b[1;32m      1\u001b[0m \u001b[0;31m# 파일 내용 확인\u001b[0m\u001b[0;34m\u001b[0m\u001b[0;34m\u001b[0m\u001b[0;34m\u001b[0m\u001b[0m\n\u001b[0;32m----> 2\u001b[0;31m \u001b[0;32mwith\u001b[0m \u001b[0mzipfile\u001b[0m\u001b[0;34m.\u001b[0m\u001b[0mZipFile\u001b[0m\u001b[0;34m(\u001b[0m\u001b[0mos\u001b[0m\u001b[0;34m.\u001b[0m\u001b[0mpath\u001b[0m\u001b[0;34m.\u001b[0m\u001b[0mjoin\u001b[0m\u001b[0;34m(\u001b[0m\u001b[0mkowiki_dir\u001b[0m\u001b[0;34m,\u001b[0m \u001b[0;34m'kowiki.txt.zip'\u001b[0m\u001b[0;34m)\u001b[0m\u001b[0;34m)\u001b[0m \u001b[0;32mas\u001b[0m \u001b[0mz\u001b[0m\u001b[0;34m:\u001b[0m\u001b[0;34m\u001b[0m\u001b[0;34m\u001b[0m\u001b[0m\n\u001b[0m\u001b[1;32m      3\u001b[0m     \u001b[0;32mwith\u001b[0m \u001b[0mz\u001b[0m\u001b[0;34m.\u001b[0m\u001b[0mopen\u001b[0m\u001b[0;34m(\u001b[0m\u001b[0;34m'kowiki.txt'\u001b[0m\u001b[0;34m)\u001b[0m \u001b[0;32mas\u001b[0m \u001b[0mf\u001b[0m\u001b[0;34m:\u001b[0m\u001b[0;34m\u001b[0m\u001b[0;34m\u001b[0m\u001b[0m\n\u001b[1;32m      4\u001b[0m         \u001b[0;32mfor\u001b[0m \u001b[0mi\u001b[0m\u001b[0;34m,\u001b[0m \u001b[0mline\u001b[0m \u001b[0;32min\u001b[0m \u001b[0menumerate\u001b[0m\u001b[0;34m(\u001b[0m\u001b[0mf\u001b[0m\u001b[0;34m)\u001b[0m\u001b[0;34m:\u001b[0m\u001b[0;34m\u001b[0m\u001b[0;34m\u001b[0m\u001b[0m\n\u001b[1;32m      5\u001b[0m             \u001b[0mline\u001b[0m \u001b[0;34m=\u001b[0m \u001b[0mline\u001b[0m\u001b[0;34m.\u001b[0m\u001b[0mdecode\u001b[0m\u001b[0;34m(\u001b[0m\u001b[0;34m'utf-8'\u001b[0m\u001b[0;34m)\u001b[0m\u001b[0;34m.\u001b[0m\u001b[0mstrip\u001b[0m\u001b[0;34m(\u001b[0m\u001b[0;34m)\u001b[0m\u001b[0;34m\u001b[0m\u001b[0;34m\u001b[0m\u001b[0m\n",
            "\u001b[0;32m/usr/lib/python3.6/zipfile.py\u001b[0m in \u001b[0;36m__init__\u001b[0;34m(self, file, mode, compression, allowZip64)\u001b[0m\n\u001b[1;32m   1111\u001b[0m             \u001b[0;32mwhile\u001b[0m \u001b[0;32mTrue\u001b[0m\u001b[0;34m:\u001b[0m\u001b[0;34m\u001b[0m\u001b[0;34m\u001b[0m\u001b[0m\n\u001b[1;32m   1112\u001b[0m                 \u001b[0;32mtry\u001b[0m\u001b[0;34m:\u001b[0m\u001b[0;34m\u001b[0m\u001b[0;34m\u001b[0m\u001b[0m\n\u001b[0;32m-> 1113\u001b[0;31m                     \u001b[0mself\u001b[0m\u001b[0;34m.\u001b[0m\u001b[0mfp\u001b[0m \u001b[0;34m=\u001b[0m \u001b[0mio\u001b[0m\u001b[0;34m.\u001b[0m\u001b[0mopen\u001b[0m\u001b[0;34m(\u001b[0m\u001b[0mfile\u001b[0m\u001b[0;34m,\u001b[0m \u001b[0mfilemode\u001b[0m\u001b[0;34m)\u001b[0m\u001b[0;34m\u001b[0m\u001b[0;34m\u001b[0m\u001b[0m\n\u001b[0m\u001b[1;32m   1114\u001b[0m                 \u001b[0;32mexcept\u001b[0m \u001b[0mOSError\u001b[0m\u001b[0;34m:\u001b[0m\u001b[0;34m\u001b[0m\u001b[0;34m\u001b[0m\u001b[0m\n\u001b[1;32m   1115\u001b[0m                     \u001b[0;32mif\u001b[0m \u001b[0mfilemode\u001b[0m \u001b[0;32min\u001b[0m \u001b[0mmodeDict\u001b[0m\u001b[0;34m:\u001b[0m\u001b[0;34m\u001b[0m\u001b[0;34m\u001b[0m\u001b[0m\n",
            "\u001b[0;31mFileNotFoundError\u001b[0m: [Errno 2] No such file or directory: '/content/drive/MyDrive/kowiki/kowiki/kowiki.txt.zip'"
          ]
        }
      ]
    },
    {
      "cell_type": "code",
      "metadata": {
        "id": "98u39IsbSoBk",
        "colab": {
          "base_uri": "https://localhost:8080/",
          "height": 362
        },
        "outputId": "fd6d7a9a-556a-4432-f657-208a4e566b94"
      },
      "source": [
        "# 파일 내용 확인 (주제단위)\n",
        "with zipfile.ZipFile(os.path.join(kowiki_dir, 'kowiki.txt.zip')) as z:\n",
        "    with z.open('kowiki.txt') as f:\n",
        "        doc = []\n",
        "        for i, line in enumerate(f):\n",
        "            line = line.decode('utf-8').strip()\n",
        "            if len(line) == 0:\n",
        "                if len(doc) > 0:\n",
        "                    break\n",
        "            else:\n",
        "                doc.append(line)\n",
        "doc"
      ],
      "execution_count": 26,
      "outputs": [
        {
          "output_type": "error",
          "ename": "FileNotFoundError",
          "evalue": "ignored",
          "traceback": [
            "\u001b[0;31m---------------------------------------------------------------------------\u001b[0m",
            "\u001b[0;31mFileNotFoundError\u001b[0m                         Traceback (most recent call last)",
            "\u001b[0;32m<ipython-input-26-4373c50efebb>\u001b[0m in \u001b[0;36m<module>\u001b[0;34m()\u001b[0m\n\u001b[1;32m      1\u001b[0m \u001b[0;31m# 파일 내용 확인 (주제단위)\u001b[0m\u001b[0;34m\u001b[0m\u001b[0;34m\u001b[0m\u001b[0;34m\u001b[0m\u001b[0m\n\u001b[0;32m----> 2\u001b[0;31m \u001b[0;32mwith\u001b[0m \u001b[0mzipfile\u001b[0m\u001b[0;34m.\u001b[0m\u001b[0mZipFile\u001b[0m\u001b[0;34m(\u001b[0m\u001b[0mos\u001b[0m\u001b[0;34m.\u001b[0m\u001b[0mpath\u001b[0m\u001b[0;34m.\u001b[0m\u001b[0mjoin\u001b[0m\u001b[0;34m(\u001b[0m\u001b[0mkowiki_dir\u001b[0m\u001b[0;34m,\u001b[0m \u001b[0;34m'kowiki.txt.zip'\u001b[0m\u001b[0;34m)\u001b[0m\u001b[0;34m)\u001b[0m \u001b[0;32mas\u001b[0m \u001b[0mz\u001b[0m\u001b[0;34m:\u001b[0m\u001b[0;34m\u001b[0m\u001b[0;34m\u001b[0m\u001b[0m\n\u001b[0m\u001b[1;32m      3\u001b[0m     \u001b[0;32mwith\u001b[0m \u001b[0mz\u001b[0m\u001b[0;34m.\u001b[0m\u001b[0mopen\u001b[0m\u001b[0;34m(\u001b[0m\u001b[0;34m'kowiki.txt'\u001b[0m\u001b[0;34m)\u001b[0m \u001b[0;32mas\u001b[0m \u001b[0mf\u001b[0m\u001b[0;34m:\u001b[0m\u001b[0;34m\u001b[0m\u001b[0;34m\u001b[0m\u001b[0m\n\u001b[1;32m      4\u001b[0m         \u001b[0mdoc\u001b[0m \u001b[0;34m=\u001b[0m \u001b[0;34m[\u001b[0m\u001b[0;34m]\u001b[0m\u001b[0;34m\u001b[0m\u001b[0;34m\u001b[0m\u001b[0m\n\u001b[1;32m      5\u001b[0m         \u001b[0;32mfor\u001b[0m \u001b[0mi\u001b[0m\u001b[0;34m,\u001b[0m \u001b[0mline\u001b[0m \u001b[0;32min\u001b[0m \u001b[0menumerate\u001b[0m\u001b[0;34m(\u001b[0m\u001b[0mf\u001b[0m\u001b[0;34m)\u001b[0m\u001b[0;34m:\u001b[0m\u001b[0;34m\u001b[0m\u001b[0;34m\u001b[0m\u001b[0m\n",
            "\u001b[0;32m/usr/lib/python3.6/zipfile.py\u001b[0m in \u001b[0;36m__init__\u001b[0;34m(self, file, mode, compression, allowZip64)\u001b[0m\n\u001b[1;32m   1111\u001b[0m             \u001b[0;32mwhile\u001b[0m \u001b[0;32mTrue\u001b[0m\u001b[0;34m:\u001b[0m\u001b[0;34m\u001b[0m\u001b[0;34m\u001b[0m\u001b[0m\n\u001b[1;32m   1112\u001b[0m                 \u001b[0;32mtry\u001b[0m\u001b[0;34m:\u001b[0m\u001b[0;34m\u001b[0m\u001b[0;34m\u001b[0m\u001b[0m\n\u001b[0;32m-> 1113\u001b[0;31m                     \u001b[0mself\u001b[0m\u001b[0;34m.\u001b[0m\u001b[0mfp\u001b[0m \u001b[0;34m=\u001b[0m \u001b[0mio\u001b[0m\u001b[0;34m.\u001b[0m\u001b[0mopen\u001b[0m\u001b[0;34m(\u001b[0m\u001b[0mfile\u001b[0m\u001b[0;34m,\u001b[0m \u001b[0mfilemode\u001b[0m\u001b[0;34m)\u001b[0m\u001b[0;34m\u001b[0m\u001b[0;34m\u001b[0m\u001b[0m\n\u001b[0m\u001b[1;32m   1114\u001b[0m                 \u001b[0;32mexcept\u001b[0m \u001b[0mOSError\u001b[0m\u001b[0;34m:\u001b[0m\u001b[0;34m\u001b[0m\u001b[0;34m\u001b[0m\u001b[0m\n\u001b[1;32m   1115\u001b[0m                     \u001b[0;32mif\u001b[0m \u001b[0mfilemode\u001b[0m \u001b[0;32min\u001b[0m \u001b[0mmodeDict\u001b[0m\u001b[0;34m:\u001b[0m\u001b[0;34m\u001b[0m\u001b[0;34m\u001b[0m\u001b[0m\n",
            "\u001b[0;31mFileNotFoundError\u001b[0m: [Errno 2] No such file or directory: '/content/drive/MyDrive/kowiki/kowiki/kowiki.txt.zip'"
          ]
        }
      ]
    },
    {
      "cell_type": "code",
      "metadata": {
        "id": "EKoCzDHNSy3r"
      },
      "source": [
        "def create_train_instance(vocab, n_seq, doc):\n",
        "    \"\"\"\n",
        "    create train instance\n",
        "    :param vocab: vocabulary object\n",
        "    :param n_seq: sequece number\n",
        "    :param doc: wiki document\n",
        "    :return: train instance list\n",
        "    \"\"\"\n",
        "    n_max = n_seq - 1  # [BOS] or [EOS]\n",
        "    instance_list = []\n",
        "\n",
        "    chunk = []\n",
        "    chunk_len = 0\n",
        "    for i, line in enumerate(doc):\n",
        "        ##################################\n",
        "        # print(line)\n",
        "        tokens = vocab.encode_as_pieces(line)\n",
        "        chunk.append(tokens)\n",
        "        chunk_len += len(tokens)\n",
        "        if n_max <= chunk_len or i >= len(doc) -1:\n",
        "            # print()\n",
        "            # print(chunk_len, chunk)\n",
        "            # 문장의 배열을 하나의 배열로 변경\n",
        "            instance = []\n",
        "            for tokens in chunk:\n",
        "                instance.extend(tokens)\n",
        "            # 길이가 긴 경우 길이를 자름\n",
        "            instance = instance[:n_max]\n",
        "            # print(len(instance), instance)\n",
        "            # instance 저장\n",
        "            instance_list.append(instance)\n",
        "            # chunk 초기화\n",
        "            chunk = []\n",
        "            chunk_len = 0\n",
        "        ##################################\n",
        "    return instance_list"
      ],
      "execution_count": 36,
      "outputs": []
    },
    {
      "cell_type": "code",
      "metadata": {
        "id": "UNNBJKa_Abb7"
      },
      "source": [
        "# instance 동작 확인\n",
        "instance_list = create_train_instance(vocab, n_seq, doc)\n",
        "for instance in instance_list:\n",
        "    print(len(instance), instance)"
      ],
      "execution_count": null,
      "outputs": []
    },
    {
      "cell_type": "code",
      "metadata": {
        "id": "L7ZWtd8NqE0Z"
      },
      "source": [
        "# instance를 json 형태로 저장하는 함수\n",
        "def save_instance(vocab, n_seq, doc, o_f):\n",
        "    instance_list = create_train_instance(vocab, n_seq, doc)\n",
        "    for instance in instance_list:\n",
        "        o_f.write(json.dumps({'token': instance}, ensure_ascii=False))\n",
        "        o_f.write('\\n')"
      ],
      "execution_count": 38,
      "outputs": []
    },
    {
      "cell_type": "code",
      "metadata": {
        "id": "lAZD9iR6_oO_"
      },
      "source": [
        "# 전체 문서에 대한 instance 생성\n",
        "with open(os.path.join(kowiki_dir, 'kowiki_lm.json'), 'w') as o_f:\n",
        "    with zipfile.ZipFile(os.path.join(kowiki_dir, 'kowiki.txt.zip')) as z:\n",
        "        with z.open('kowiki.txt') as f:\n",
        "            doc = []\n",
        "            for i, line in enumerate(tqdm(f)):\n",
        "                line = line.decode('utf-8').strip()\n",
        "                if len(line) == 0:\n",
        "                    if len(doc) > 0:\n",
        "                        save_instance(vocab, n_seq, doc, o_f)\n",
        "                        doc = []\n",
        "                        # break\n",
        "                else:\n",
        "                    doc.append(line)\n",
        "            if len(doc) > 0:\n",
        "                save_instance(vocab, n_seq, doc, o_f)"
      ],
      "execution_count": null,
      "outputs": []
    },
    {
      "cell_type": "code",
      "metadata": {
        "id": "i3joZ7O1r93K",
        "colab": {
          "base_uri": "https://localhost:8080/"
        },
        "outputId": "acdb815f-efc5-4496-fa79-e3030051a63c"
      },
      "source": [
        "# 파일 라인수 확인\n",
        "n_line = 0\n",
        "with open(os.path.join(kowiki_dir, 'kowiki_lm.json')) as f:\n",
        "    for line in f:\n",
        "        n_line += 1\n",
        "        if n_line <= 10:\n",
        "            print(line)\n",
        "n_line"
      ],
      "execution_count": 40,
      "outputs": [
        {
          "output_type": "execute_result",
          "data": {
            "text/plain": [
              "0"
            ]
          },
          "metadata": {
            "tags": []
          },
          "execution_count": 40
        }
      ]
    },
    {
      "cell_type": "markdown",
      "metadata": {
        "id": "gcG7zBAr_R_4"
      },
      "source": [
        "# Sample Data Project"
      ]
    },
    {
      "cell_type": "markdown",
      "metadata": {
        "id": "mvdVp2P8tCfR"
      },
      "source": [
        "## Data\n"
      ]
    },
    {
      "cell_type": "code",
      "metadata": {
        "id": "pkzwlvcVS1cj"
      },
      "source": [
        "def load_data(vocab, n_seq):\n",
        "    \"\"\"\n",
        "    Language Model 학습 데이터 생성\n",
        "    :param vocab: vocabulary object\n",
        "    :param n_seq: number of sequence\n",
        "    :return inputs_1: input data 1\n",
        "    :return inputs_2: input data 2\n",
        "    :return labels: label data\n",
        "    \"\"\"\n",
        "    # line 수 조회\n",
        "    # n_line = 0\n",
        "    # with open(os.path.join(kowiki_dir, 'kowiki_lm.json')) as f:\n",
        "    #     for line in f:\n",
        "    #         n_line += 1\n",
        "    # 10개로 제한\n",
        "    n_data = 10\n",
        "    # 빈 데이터 생성\n",
        "    inputs = np.zeros((n_data, n_seq)).astype(np.int32)\n",
        "    labels = np.zeros((n_data, n_seq)).astype(np.int32)\n",
        "\n",
        "    with open(os.path.join(kowiki_dir, 'kowiki_lm.json')) as f:\n",
        "        for i, line in enumerate(f):\n",
        "            if i >= n_data:\n",
        "                break\n",
        "            ##################################\n",
        "            data = json.loads(line)\n",
        "            print()\n",
        "            print(data)\n",
        "            token_id = [vocab.piece_to_id(p) for p in data['token']]\n",
        "            print(len(token_id), token_id)\n",
        "            # input id\n",
        "            input_id = [vocab.bos_id()] + token_id\n",
        "            input_id += [0] * (n_seq - len(input_id))\n",
        "            print(len(input_id), input_id)\n",
        "            # label id\n",
        "            label_id = token_id + [vocab.eos_id()]\n",
        "            label_id += [0] * (n_seq - len(label_id))\n",
        "            print(len(label_id), label_id)\n",
        "            # 값 저장\n",
        "            inputs[i] = input_id\n",
        "            labels[i] = label_id\n",
        "            ##################################\n",
        "\n",
        "    return inputs, labels"
      ],
      "execution_count": null,
      "outputs": []
    },
    {
      "cell_type": "code",
      "metadata": {
        "id": "bfEwG-jgS4aN",
        "colab": {
          "base_uri": "https://localhost:8080/"
        },
        "outputId": "00510f3d-3086-4062-9584-8089b753445d"
      },
      "source": [
        "# train data 생성\n",
        "train_inputs, train_labels = load_data(vocab, n_seq)\n",
        "train_inputs, train_labels"
      ],
      "execution_count": null,
      "outputs": [
        {
          "output_type": "stream",
          "text": [
            "\n",
            "{'token': ['▁지미', '▁카터', '▁제임스', '▁얼', '▁\"', '지', '미', '\"', '▁카터', '▁주니어', '(', ',', '▁1924', '년', '▁10', '월', '▁1', '일', '▁~', '▁)', '는', '▁민주당', '▁출신', '▁미국', '▁39', '대', '▁대통령', '▁', '(1977', '년', '▁~', '▁1981', '년', ')', '이다', '.', '▁지미', '▁카터', '는', '▁조지아주', '▁섬', '터', '▁카운티', '▁플레', '인', '스', '▁마을에서', '▁태어났다', '.', '▁조지아', '▁공과대학교', '를', '▁졸업하였다', '.', '▁그', '▁후', '▁해군', '에', '▁들어가', '▁전함', '·', '원자력', '·', '잠수함', '의', '▁승무원', '으로', '▁일', '하였다', '.', '▁1953', '년', '▁미국', '▁해군', '▁대위', '로', '▁예편', '하였고', '▁이후', '▁땅콩', '·', '면', '화', '▁등을', '▁가', '꿔', '▁많은', '▁돈을', '▁벌', '었다', '.', '▁그의', '▁별명이', '▁\"', '땅', '콩', '▁농부', '\"', '▁(', 'P', 'ean', 'ut', '▁F', 'ar', 'mer', ')', '로', '▁알려졌다', '.', '▁1962', '년', '▁조지아', '▁주', '▁상원', '▁의원', '▁선거에서', '▁낙선', '하나', '▁그', '▁선거', '가', '▁부정', '선거', '▁', '였', '음을', '▁입증', '하게', '▁되어', '▁당선', '되고', ',', '▁1966', '년', '▁조지아', '▁주', '▁지사', '▁선거에', '▁낙선', '하지만', '▁1970', '년', '▁조지아', '▁주', '▁지사', '를', '▁역임했다', '.', '▁대통령이', '▁되기', '▁전', '▁조지아주', '▁상원의원', '을', '▁두', '번', '▁연임', '했으며', ',', '▁1971', '년부터', '▁1975', '년까지', '▁조지아', '▁지사', '로', '▁근무했다', '.', '▁조지아', '▁주지사', '로', '▁지내면서', ',', '▁미국에', '▁사는', '▁흑인', '▁등용', '법을', '▁내세웠다', '.', '▁1976', '년', '▁미합중국', '▁(', '미국', ')', '▁제', '39', '대', '▁대통령', '▁선거에', '▁민주당', '▁후보로', '▁출마하여', '▁도덕', '주의', '▁정책으로', '▁내세워', '서', ',', '▁많은', '▁지지를', '▁받고', '▁제', '럴', '드', '▁포드', '▁(', '당시', '▁미국', '▁대통령', ')', '▁', '를', '▁누르고', '▁당선되었다', '.', '▁카터', '▁대통령은', '▁에너지', '▁개발을', '▁촉구', '했으나', '▁공화당', '의', '▁반대로', '▁무산되었다', '.', '▁카터', '는', '▁이집트', '와', '▁이스라엘', '을', '▁조정', '하여', ',', '▁캠프', '▁데이비드', '에서', '▁안', '와', '르', '▁사다', '트', '▁대통령과', '▁메', '나', '헴', '▁베', '긴', '▁수상', '과', '▁함께', '▁중동']}\n",
            "255 [14473, 14639, 2033, 6158, 45, 47, 167, 44, 14639, 5512, 14, 8, 4734, 15, 67, 23, 35, 26, 76, 113, 11, 2221, 1141, 140, 5065, 72, 776, 10, 23852, 15, 76, 2088, 15, 12, 30, 7, 14473, 14639, 11, 21436, 1009, 547, 3433, 7835, 31, 86, 13282, 710, 7, 4490, 18253, 20, 8003, 7, 39, 78, 1461, 13, 2120, 9365, 75, 27663, 75, 29554, 9, 9660, 28, 312, 54, 7, 3754, 15, 140, 1461, 10515, 21, 22389, 277, 82, 28045, 75, 122, 121, 336, 243, 30781, 192, 4747, 1609, 782, 7, 134, 16783, 45, 12014, 6716, 21262, 44, 55, 649, 22728, 3411, 518, 2004, 8221, 12, 21, 3608, 7, 2718, 15, 4490, 133, 5648, 1755, 3320, 11430, 2606, 39, 874, 19, 2538, 5286, 10, 8853, 3599, 7140, 104, 386, 4170, 269, 8, 2894, 15, 4490, 133, 10009, 7664, 11430, 1101, 1221, 15, 4490, 133, 10009, 20, 3420, 7, 3827, 4241, 102, 21436, 12820, 16, 99, 385, 26365, 421, 8, 2388, 301, 2395, 402, 4490, 10009, 21, 12703, 7, 4490, 8624, 21, 27560, 8, 8056, 3052, 4308, 12359, 2541, 27145, 7, 2341, 15, 20047, 55, 5230, 12, 41, 3254, 72, 776, 7664, 2221, 3865, 20129, 9177, 576, 21337, 20014, 70, 8, 192, 4942, 956, 41, 4897, 194, 9583, 55, 4652, 140, 776, 12, 10, 20, 9428, 7310, 7, 14639, 5064, 1646, 7784, 11477, 815, 6428, 9, 3955, 18546, 7, 14639, 11, 2448, 27, 2466, 16, 1738, 52, 8, 7518, 3814, 22, 295, 27, 328, 9685, 175, 12919, 1023, 58, 27126, 791, 1994, 1403, 24, 112, 6087]\n",
            "256 [2, 14473, 14639, 2033, 6158, 45, 47, 167, 44, 14639, 5512, 14, 8, 4734, 15, 67, 23, 35, 26, 76, 113, 11, 2221, 1141, 140, 5065, 72, 776, 10, 23852, 15, 76, 2088, 15, 12, 30, 7, 14473, 14639, 11, 21436, 1009, 547, 3433, 7835, 31, 86, 13282, 710, 7, 4490, 18253, 20, 8003, 7, 39, 78, 1461, 13, 2120, 9365, 75, 27663, 75, 29554, 9, 9660, 28, 312, 54, 7, 3754, 15, 140, 1461, 10515, 21, 22389, 277, 82, 28045, 75, 122, 121, 336, 243, 30781, 192, 4747, 1609, 782, 7, 134, 16783, 45, 12014, 6716, 21262, 44, 55, 649, 22728, 3411, 518, 2004, 8221, 12, 21, 3608, 7, 2718, 15, 4490, 133, 5648, 1755, 3320, 11430, 2606, 39, 874, 19, 2538, 5286, 10, 8853, 3599, 7140, 104, 386, 4170, 269, 8, 2894, 15, 4490, 133, 10009, 7664, 11430, 1101, 1221, 15, 4490, 133, 10009, 20, 3420, 7, 3827, 4241, 102, 21436, 12820, 16, 99, 385, 26365, 421, 8, 2388, 301, 2395, 402, 4490, 10009, 21, 12703, 7, 4490, 8624, 21, 27560, 8, 8056, 3052, 4308, 12359, 2541, 27145, 7, 2341, 15, 20047, 55, 5230, 12, 41, 3254, 72, 776, 7664, 2221, 3865, 20129, 9177, 576, 21337, 20014, 70, 8, 192, 4942, 956, 41, 4897, 194, 9583, 55, 4652, 140, 776, 12, 10, 20, 9428, 7310, 7, 14639, 5064, 1646, 7784, 11477, 815, 6428, 9, 3955, 18546, 7, 14639, 11, 2448, 27, 2466, 16, 1738, 52, 8, 7518, 3814, 22, 295, 27, 328, 9685, 175, 12919, 1023, 58, 27126, 791, 1994, 1403, 24, 112, 6087]\n",
            "256 [14473, 14639, 2033, 6158, 45, 47, 167, 44, 14639, 5512, 14, 8, 4734, 15, 67, 23, 35, 26, 76, 113, 11, 2221, 1141, 140, 5065, 72, 776, 10, 23852, 15, 76, 2088, 15, 12, 30, 7, 14473, 14639, 11, 21436, 1009, 547, 3433, 7835, 31, 86, 13282, 710, 7, 4490, 18253, 20, 8003, 7, 39, 78, 1461, 13, 2120, 9365, 75, 27663, 75, 29554, 9, 9660, 28, 312, 54, 7, 3754, 15, 140, 1461, 10515, 21, 22389, 277, 82, 28045, 75, 122, 121, 336, 243, 30781, 192, 4747, 1609, 782, 7, 134, 16783, 45, 12014, 6716, 21262, 44, 55, 649, 22728, 3411, 518, 2004, 8221, 12, 21, 3608, 7, 2718, 15, 4490, 133, 5648, 1755, 3320, 11430, 2606, 39, 874, 19, 2538, 5286, 10, 8853, 3599, 7140, 104, 386, 4170, 269, 8, 2894, 15, 4490, 133, 10009, 7664, 11430, 1101, 1221, 15, 4490, 133, 10009, 20, 3420, 7, 3827, 4241, 102, 21436, 12820, 16, 99, 385, 26365, 421, 8, 2388, 301, 2395, 402, 4490, 10009, 21, 12703, 7, 4490, 8624, 21, 27560, 8, 8056, 3052, 4308, 12359, 2541, 27145, 7, 2341, 15, 20047, 55, 5230, 12, 41, 3254, 72, 776, 7664, 2221, 3865, 20129, 9177, 576, 21337, 20014, 70, 8, 192, 4942, 956, 41, 4897, 194, 9583, 55, 4652, 140, 776, 12, 10, 20, 9428, 7310, 7, 14639, 5064, 1646, 7784, 11477, 815, 6428, 9, 3955, 18546, 7, 14639, 11, 2448, 27, 2466, 16, 1738, 52, 8, 7518, 3814, 22, 295, 27, 328, 9685, 175, 12919, 1023, 58, 27126, 791, 1994, 1403, 24, 112, 6087, 3]\n",
            "\n",
            "{'token': ['▁그러나', '▁이것은', '▁공화당', '과', '▁미국의', '▁유대인', '▁단체의', '▁반발', '을', '▁일으켰다', '.', '▁1979', '년', '▁백악관', '에서', '▁양국', '▁간의', '▁평화', '조약', '으로', '▁이끌어', '졌다', '.', '▁또한', '▁소련과', '▁제', '2', '차', '▁전략', '▁무기', '▁제한', '▁협상', '에', '▁조인', '했다', '.', '▁카터', '는', '▁1970', '년대', '▁후반', '▁당시', '▁대한민국', '▁등', '▁인권', '▁후진', '국의', '▁국민들의', '▁인권', '을', '▁지키기', '▁위해', '▁노력', '했으며', ',', '▁취임', '▁이후', '▁계속해서', '▁도덕', '정치', '를', '▁내세웠다', '.', '▁그러나', '▁주', '▁이란', '▁미국', '▁대사관', '▁인질', '▁사건', '에서', '▁인질', '▁구출', '▁실패', '를', '▁이유로', '▁1980', '년', '▁대통령', '▁선거에서', '▁공화당', '의', '▁로널드', '▁레이건', '▁후보', '에게', '▁', '져', '▁결국', '▁재선', '에', '▁실패했다', '.', '▁또한', '▁임기', '▁말기에', '▁터', '진', '▁소련의', '▁아프가니스탄', '▁침공', '▁사건으로', '▁인해', '▁1980', '년', '▁하계', '▁올림픽에', '▁반공', '국가', '들의', '▁보이콧', '을', '▁내세웠다', '.', '▁지미', '▁카터', '는', '▁대한민국과', '의', '▁관계', '에서도', '▁중요한', '▁영향을', '▁미', '쳤던', '▁대통령', '▁중', '▁하나다', '.', '▁인권', '▁문제와', '▁주한미군', '▁철수', '▁문제로', '▁한때', '▁한미', '▁관계가', '▁불편', '하기도', '▁했다', '.', '▁1978', '년', '▁대한민국에', '▁대한', '▁북한의', '▁위협', '에', '▁대비해', '▁한미', '연합', '사를', '▁창설', '하면서', ',', '▁1982', '년까지', '▁3', '단계', '에', '▁걸쳐', '▁주한미군', '을', '▁철수', '하기로', '▁했다', '.', '▁그러나', '▁주한미군', '사령부', '와', '▁정보', '기관', '·', '의', '회의', '▁반대', '에', '▁부딪혀', '▁주한미군', '은', '▁완전', '철', '수', '▁대신', '▁6,000', '명을', '▁감축', '하는', '▁데', '▁그쳤다', '.', '▁또한', '▁박정희', '▁정권', '의', '▁인권', '▁문제', '▁등과', '의', '▁논란', '으로', '▁불', '협', '화', '음을', '▁', '냈으나', ',', '▁1979', '년', '▁6', '월', '▁하순', ',', '▁대한민국', '을', '▁방문하여', '▁관계가', '▁다소', '▁회복', '되었다', '.', '▁1979', '년', '▁~', '▁1980', '년', '▁대한민국의', '▁정치적', '▁격', '변', '기', '▁당시의', '▁대통령', '이었던', '▁그는', '▁이에', '▁대해', '▁애', '매', '한', '▁태도를', '▁보였고', ',', '▁이는', '▁후에', '▁대한민국', '▁내에서', '▁고조', '되는', '▁반', '미', '▁운동의', '▁한']}\n",
            "255 [138, 931, 6428, 24, 319, 4289, 18672, 3633, 16, 5099, 7, 2083, 15, 20807, 22, 6067, 2048, 1897, 7443, 28, 8059, 1215, 7, 109, 19697, 41, 108, 116, 3062, 1990, 1790, 4402, 13, 12907, 53, 7, 14639, 11, 1221, 535, 2557, 179, 255, 84, 3782, 14802, 3327, 18990, 3782, 16, 14070, 115, 2184, 421, 8, 3373, 82, 5426, 9177, 3278, 20, 27145, 7, 138, 133, 2523, 140, 7121, 21758, 1084, 22, 21758, 10576, 2339, 20, 1143, 1011, 15, 776, 3320, 6428, 9, 25792, 23750, 1538, 80, 10, 995, 493, 10516, 13, 8136, 7, 109, 4655, 9399, 2114, 130, 4860, 6972, 2302, 5335, 433, 1011, 15, 1445, 5013, 20964, 2518, 337, 29182, 16, 27145, 7, 14473, 14639, 11, 12152, 9, 1333, 664, 705, 614, 267, 27804, 776, 69, 15691, 7, 3782, 15048, 24325, 3330, 3889, 2717, 12312, 4032, 9297, 577, 168, 7, 2375, 15, 10588, 94, 9153, 3012, 13, 23307, 12312, 3036, 1465, 3716, 248, 8, 1872, 402, 38, 3983, 13, 1121, 24325, 16, 3330, 1720, 168, 7, 138, 24325, 4473, 27, 1111, 1988, 75, 9, 1350, 1073, 13, 29410, 24325, 18, 4152, 723, 107, 851, 23643, 1049, 23855, 42, 228, 10894, 7, 109, 4488, 2933, 9, 3782, 1313, 1361, 9, 5406, 28, 508, 2506, 121, 3599, 10, 19600, 8, 2083, 15, 64, 23, 26328, 8, 255, 16, 14952, 4032, 4375, 2401, 97, 7, 2083, 15, 76, 1011, 15, 215, 1923, 2691, 901, 48, 3004, 776, 830, 88, 482, 333, 893, 779, 33, 10685, 19309, 8, 378, 718, 255, 2148, 8307, 268, 358, 167, 8945, 59]\n",
            "256 [2, 138, 931, 6428, 24, 319, 4289, 18672, 3633, 16, 5099, 7, 2083, 15, 20807, 22, 6067, 2048, 1897, 7443, 28, 8059, 1215, 7, 109, 19697, 41, 108, 116, 3062, 1990, 1790, 4402, 13, 12907, 53, 7, 14639, 11, 1221, 535, 2557, 179, 255, 84, 3782, 14802, 3327, 18990, 3782, 16, 14070, 115, 2184, 421, 8, 3373, 82, 5426, 9177, 3278, 20, 27145, 7, 138, 133, 2523, 140, 7121, 21758, 1084, 22, 21758, 10576, 2339, 20, 1143, 1011, 15, 776, 3320, 6428, 9, 25792, 23750, 1538, 80, 10, 995, 493, 10516, 13, 8136, 7, 109, 4655, 9399, 2114, 130, 4860, 6972, 2302, 5335, 433, 1011, 15, 1445, 5013, 20964, 2518, 337, 29182, 16, 27145, 7, 14473, 14639, 11, 12152, 9, 1333, 664, 705, 614, 267, 27804, 776, 69, 15691, 7, 3782, 15048, 24325, 3330, 3889, 2717, 12312, 4032, 9297, 577, 168, 7, 2375, 15, 10588, 94, 9153, 3012, 13, 23307, 12312, 3036, 1465, 3716, 248, 8, 1872, 402, 38, 3983, 13, 1121, 24325, 16, 3330, 1720, 168, 7, 138, 24325, 4473, 27, 1111, 1988, 75, 9, 1350, 1073, 13, 29410, 24325, 18, 4152, 723, 107, 851, 23643, 1049, 23855, 42, 228, 10894, 7, 109, 4488, 2933, 9, 3782, 1313, 1361, 9, 5406, 28, 508, 2506, 121, 3599, 10, 19600, 8, 2083, 15, 64, 23, 26328, 8, 255, 16, 14952, 4032, 4375, 2401, 97, 7, 2083, 15, 76, 1011, 15, 215, 1923, 2691, 901, 48, 3004, 776, 830, 88, 482, 333, 893, 779, 33, 10685, 19309, 8, 378, 718, 255, 2148, 8307, 268, 358, 167, 8945, 59]\n",
            "256 [138, 931, 6428, 24, 319, 4289, 18672, 3633, 16, 5099, 7, 2083, 15, 20807, 22, 6067, 2048, 1897, 7443, 28, 8059, 1215, 7, 109, 19697, 41, 108, 116, 3062, 1990, 1790, 4402, 13, 12907, 53, 7, 14639, 11, 1221, 535, 2557, 179, 255, 84, 3782, 14802, 3327, 18990, 3782, 16, 14070, 115, 2184, 421, 8, 3373, 82, 5426, 9177, 3278, 20, 27145, 7, 138, 133, 2523, 140, 7121, 21758, 1084, 22, 21758, 10576, 2339, 20, 1143, 1011, 15, 776, 3320, 6428, 9, 25792, 23750, 1538, 80, 10, 995, 493, 10516, 13, 8136, 7, 109, 4655, 9399, 2114, 130, 4860, 6972, 2302, 5335, 433, 1011, 15, 1445, 5013, 20964, 2518, 337, 29182, 16, 27145, 7, 14473, 14639, 11, 12152, 9, 1333, 664, 705, 614, 267, 27804, 776, 69, 15691, 7, 3782, 15048, 24325, 3330, 3889, 2717, 12312, 4032, 9297, 577, 168, 7, 2375, 15, 10588, 94, 9153, 3012, 13, 23307, 12312, 3036, 1465, 3716, 248, 8, 1872, 402, 38, 3983, 13, 1121, 24325, 16, 3330, 1720, 168, 7, 138, 24325, 4473, 27, 1111, 1988, 75, 9, 1350, 1073, 13, 29410, 24325, 18, 4152, 723, 107, 851, 23643, 1049, 23855, 42, 228, 10894, 7, 109, 4488, 2933, 9, 3782, 1313, 1361, 9, 5406, 28, 508, 2506, 121, 3599, 10, 19600, 8, 2083, 15, 64, 23, 26328, 8, 255, 16, 14952, 4032, 4375, 2401, 97, 7, 2083, 15, 76, 1011, 15, 215, 1923, 2691, 901, 48, 3004, 776, 830, 88, 482, 333, 893, 779, 33, 10685, 19309, 8, 378, 718, 255, 2148, 8307, 268, 358, 167, 8945, 59, 3]\n",
            "\n",
            "{'token': ['▁퇴임', '▁이후', '▁민간', '▁자원을', '▁적극', '▁활용한', '▁비영리', '▁기구', '인', '▁카터', '▁재단', '을', '▁설립한', '▁뒤', '▁민주주의', '▁실현', '을', '▁위해', '▁제', '▁3', '세계', '의', '▁선거', '▁감시', '▁활동', '▁및', '▁기니', '▁', '벌레', '에', '▁의한', '▁드라', '쿤', '쿠르', '스', '▁질병', '▁방', '재를', '▁위해', '▁힘썼다', '.', '▁미국의', '▁빈곤', '층', '▁지원', '▁활동', ',', '▁사랑의', '▁집', '짓', '기', '▁운동', ',', '▁국제', '▁분쟁', '▁중재', '▁등의', '▁활동', '도', '▁했다', '.', '▁카터', '는', '▁카터', '▁행정부', '▁이후', '▁미국이', '▁북', '핵', '▁위기', ',', '▁코소보', '▁전쟁', ',', '▁이라크', '▁전쟁과', '▁같이', '▁미국이', '▁군사적', '▁행동을', '▁최후', '로', '▁선택', '하는', '▁전통적', '▁사고를', '▁버리고', '▁군사적', '▁행동을', '▁선행', '하는', '▁행위에', '▁대해', '▁깊은', '▁유감', '을', '▁표시', '▁하며', '▁미국의', '▁군사적', '▁활동에', '▁강한', '▁반대', '▁입장을', '▁보이고', '▁있다', '.', '▁특히', '▁국제', '▁분쟁', '▁조정', '을', '▁위해', '▁북한의', '▁김일성', ',', '▁아이티', '의', '▁세', '드라', '스', '▁장군', ',', '▁팔레', '인', '스타', '인', '의', '▁하마', '스', ',', '▁보스니아', '의', '▁세르비아', '계', '▁정권', '▁같이', '▁미국', '▁정부에', '▁대해', '▁협상을', '▁거부', '하면서', '▁사태', '의', '▁위기를', '▁초래', '한', '▁인물', '▁및', '▁단체', '를', '▁직접', '▁만나', '▁분쟁', '의', '▁원인을', '▁근본적으로', '▁해결하기', '▁위해', '▁힘썼다', '.', '▁이', '▁과정에서', '▁미국', '▁행정부', '와', '▁갈등을', '▁보이기도', '▁했지만', ',', '▁전직', '▁대통령의', '▁권한', '과', '▁재', '야', '▁유명', '▁인사들', '의', '▁활약으로', '▁해결', '해', '▁나갔다', '.', '▁1978', '년에', '▁채', '결', '된', '▁캠프', '데이', '비', '드', '▁협정', '의', '▁이행', '이', '▁지지', '부', '진', '▁하자', '▁중동', '▁분쟁', '▁분', '제를', '▁해결하기', '▁위해', '▁1993', '년', '▁퇴임', '▁후', '▁직접', '▁이스라엘', '과', '▁팔레', '인', '스타', '인', '의', '▁오슬로', '▁협정을', '▁이끌어', '▁내는', '▁데', '도', '▁성공했다', '.', '▁1993', '년', '▁1', '차', '▁북', '핵', '▁위기', '▁당시', '▁북한', '에', '▁대한', '▁미국의', '▁군사적', '▁행동이', '▁임', '박', '했으나', ',', '▁미국', '▁전직', '▁대통령으로', '는', '▁처음으로', '▁북한', '을', '▁방문', '하고']}\n",
            "255 [12780, 82, 3392, 17901, 6971, 20307, 15186, 2981, 31, 14639, 5900, 16, 6391, 294, 5183, 4104, 16, 115, 41, 38, 2966, 9, 874, 4810, 793, 95, 17705, 10, 8893, 13, 823, 12687, 15642, 15672, 86, 3507, 595, 11643, 115, 19893, 7, 319, 13712, 773, 904, 793, 8, 15822, 1130, 5663, 48, 1138, 8, 478, 5446, 10015, 282, 793, 32, 168, 7, 14639, 11, 14639, 8159, 82, 10057, 786, 4096, 5071, 8, 17971, 600, 8, 4362, 18198, 412, 10057, 7398, 4818, 10753, 21, 1296, 42, 14805, 13410, 7607, 7398, 4818, 14324, 42, 20342, 333, 3604, 26695, 16, 1991, 895, 319, 7398, 7449, 1833, 1073, 4297, 6193, 25, 7, 381, 478, 5446, 1738, 16, 115, 9153, 4971, 8, 17753, 9, 231, 4348, 86, 2556, 8, 19975, 31, 1072, 31, 9, 13933, 86, 8, 8770, 9, 3619, 239, 2933, 412, 140, 5767, 333, 12036, 2564, 248, 4489, 9, 10856, 7290, 33, 2215, 95, 1549, 20, 728, 2014, 5446, 9, 13494, 23454, 12860, 115, 19893, 7, 29, 1376, 140, 8159, 27, 12264, 23700, 2633, 8, 4728, 5272, 8292, 24, 443, 173, 2465, 7550, 9, 18108, 2593, 61, 7541, 7, 2375, 77, 896, 1185, 85, 7518, 5164, 152, 194, 5721, 9, 5993, 17, 1681, 106, 130, 2241, 6087, 5446, 736, 2122, 12860, 115, 1346, 15, 12780, 78, 728, 2466, 24, 19975, 31, 1072, 31, 9, 22769, 16388, 8059, 8539, 228, 32, 5403, 7, 1346, 15, 35, 116, 786, 4096, 5071, 179, 1951, 13, 94, 319, 7398, 18219, 748, 819, 815, 8, 140, 4728, 12480, 11, 812, 1951, 16, 2194, 43]\n",
            "256 [2, 12780, 82, 3392, 17901, 6971, 20307, 15186, 2981, 31, 14639, 5900, 16, 6391, 294, 5183, 4104, 16, 115, 41, 38, 2966, 9, 874, 4810, 793, 95, 17705, 10, 8893, 13, 823, 12687, 15642, 15672, 86, 3507, 595, 11643, 115, 19893, 7, 319, 13712, 773, 904, 793, 8, 15822, 1130, 5663, 48, 1138, 8, 478, 5446, 10015, 282, 793, 32, 168, 7, 14639, 11, 14639, 8159, 82, 10057, 786, 4096, 5071, 8, 17971, 600, 8, 4362, 18198, 412, 10057, 7398, 4818, 10753, 21, 1296, 42, 14805, 13410, 7607, 7398, 4818, 14324, 42, 20342, 333, 3604, 26695, 16, 1991, 895, 319, 7398, 7449, 1833, 1073, 4297, 6193, 25, 7, 381, 478, 5446, 1738, 16, 115, 9153, 4971, 8, 17753, 9, 231, 4348, 86, 2556, 8, 19975, 31, 1072, 31, 9, 13933, 86, 8, 8770, 9, 3619, 239, 2933, 412, 140, 5767, 333, 12036, 2564, 248, 4489, 9, 10856, 7290, 33, 2215, 95, 1549, 20, 728, 2014, 5446, 9, 13494, 23454, 12860, 115, 19893, 7, 29, 1376, 140, 8159, 27, 12264, 23700, 2633, 8, 4728, 5272, 8292, 24, 443, 173, 2465, 7550, 9, 18108, 2593, 61, 7541, 7, 2375, 77, 896, 1185, 85, 7518, 5164, 152, 194, 5721, 9, 5993, 17, 1681, 106, 130, 2241, 6087, 5446, 736, 2122, 12860, 115, 1346, 15, 12780, 78, 728, 2466, 24, 19975, 31, 1072, 31, 9, 22769, 16388, 8059, 8539, 228, 32, 5403, 7, 1346, 15, 35, 116, 786, 4096, 5071, 179, 1951, 13, 94, 319, 7398, 18219, 748, 819, 815, 8, 140, 4728, 12480, 11, 812, 1951, 16, 2194, 43]\n",
            "256 [12780, 82, 3392, 17901, 6971, 20307, 15186, 2981, 31, 14639, 5900, 16, 6391, 294, 5183, 4104, 16, 115, 41, 38, 2966, 9, 874, 4810, 793, 95, 17705, 10, 8893, 13, 823, 12687, 15642, 15672, 86, 3507, 595, 11643, 115, 19893, 7, 319, 13712, 773, 904, 793, 8, 15822, 1130, 5663, 48, 1138, 8, 478, 5446, 10015, 282, 793, 32, 168, 7, 14639, 11, 14639, 8159, 82, 10057, 786, 4096, 5071, 8, 17971, 600, 8, 4362, 18198, 412, 10057, 7398, 4818, 10753, 21, 1296, 42, 14805, 13410, 7607, 7398, 4818, 14324, 42, 20342, 333, 3604, 26695, 16, 1991, 895, 319, 7398, 7449, 1833, 1073, 4297, 6193, 25, 7, 381, 478, 5446, 1738, 16, 115, 9153, 4971, 8, 17753, 9, 231, 4348, 86, 2556, 8, 19975, 31, 1072, 31, 9, 13933, 86, 8, 8770, 9, 3619, 239, 2933, 412, 140, 5767, 333, 12036, 2564, 248, 4489, 9, 10856, 7290, 33, 2215, 95, 1549, 20, 728, 2014, 5446, 9, 13494, 23454, 12860, 115, 19893, 7, 29, 1376, 140, 8159, 27, 12264, 23700, 2633, 8, 4728, 5272, 8292, 24, 443, 173, 2465, 7550, 9, 18108, 2593, 61, 7541, 7, 2375, 77, 896, 1185, 85, 7518, 5164, 152, 194, 5721, 9, 5993, 17, 1681, 106, 130, 2241, 6087, 5446, 736, 2122, 12860, 115, 1346, 15, 12780, 78, 728, 2466, 24, 19975, 31, 1072, 31, 9, 22769, 16388, 8059, 8539, 228, 32, 5403, 7, 1346, 15, 35, 116, 786, 4096, 5071, 179, 1951, 13, 94, 319, 7398, 18219, 748, 819, 815, 8, 140, 4728, 12480, 11, 812, 1951, 16, 2194, 43, 3]\n",
            "\n",
            "{'token': ['▁미국의', '▁관', '타나', '모', '▁수용소', '▁문제', ',', '▁세계의', '▁인권', '문제', '에서도', '▁관심이', '▁깊어', '▁유엔', '에', '▁유엔', '인권', '고등', '판', '무관', '의', '▁제도를', '▁시행', '하도록', '▁노력', '하여', '▁독재자', '들의', '▁인권', '▁유', '린', '에', '▁대해', '▁제약', '을', '▁하고', ',', '▁국제', '형사', '재판소', '를', '▁만드는', '▁데', '▁기여', '하여', '▁독재자', '들', '▁같은', '▁인권', '유', '린', '범죄', '자를', '▁', '재판소', '로', '▁회', '부', '하여', '▁국제적인', '▁처벌을', '▁받게', '▁하는', '▁등', '▁인권', '▁신장', '에', '▁크', '나', '▁큰', '▁기여를', '▁했다', '.', '▁2011', '년', '▁4', '월', '▁26', '일부터', '▁29', '일까지', '▁북한', '을', '▁3', '일간', '▁방문했다', '.', '▁경제', '문제를', '▁해결', '하지', '▁못하고', '▁주', '▁이란', '▁미국', '▁대사관', '▁인질', '▁사건에', '▁발목', '이', '▁잡혀', '▁실패한', '▁대통령으로', '▁평가를', '▁받지', '만', '▁이란', '▁사태', '는', '▁미국', '▁내', '▁이란', '▁재산을', '▁풀어주', '겠다는', '▁조건을', '▁내세워', '서', '▁사실상', '▁카터', '가', '▁해결', '한', '▁것이', '었고', ',', '▁사랑의', '▁집', '짓', '기', '▁운동', '▁등으로', '▁퇴임', '▁후에', '▁훨씬', '▁더', '▁존경', '받는', '▁미국', '▁대통령', '▁중에', '▁특이한', '▁인물로', '▁남았다', '.', '▁그는', '▁2002', '년', '▁말', '▁인권', '과', '▁중재', '▁역할에', '▁대한', '▁공로', '를', '▁인정받아', '▁노벨', '▁평화', '상을', '▁받게', '▁되었다', '.']}\n",
            "163 [319, 1139, 10218, 296, 10594, 1313, 8, 6055, 3782, 4279, 664, 7288, 21831, 3198, 13, 3198, 12948, 9132, 568, 15590, 9, 5706, 1918, 1332, 2184, 52, 24840, 337, 3782, 216, 458, 13, 333, 7151, 16, 382, 8, 478, 18299, 9250, 20, 2136, 228, 3618, 52, 24840, 306, 98, 3782, 284, 458, 10352, 1349, 10, 9250, 21, 1135, 106, 52, 12591, 20481, 3402, 208, 84, 3782, 5467, 13, 2444, 58, 230, 14170, 168, 7, 452, 15, 46, 23, 628, 539, 720, 737, 1951, 16, 38, 6201, 20861, 7, 627, 19917, 2593, 202, 1785, 133, 2523, 140, 7121, 21758, 6275, 18088, 17, 12378, 12589, 12480, 3648, 2928, 62, 2523, 4489, 11, 140, 283, 2523, 9319, 27583, 9101, 5371, 20014, 70, 2226, 14639, 19, 2593, 33, 221, 1623, 8, 15822, 1130, 5663, 48, 1138, 1110, 12780, 718, 2834, 149, 9131, 8450, 140, 776, 1458, 9088, 5498, 15829, 7, 88, 780, 15, 335, 3782, 24, 10015, 22424, 94, 8365, 20, 8993, 5012, 1897, 926, 3402, 91, 7]\n",
            "256 [2, 319, 1139, 10218, 296, 10594, 1313, 8, 6055, 3782, 4279, 664, 7288, 21831, 3198, 13, 3198, 12948, 9132, 568, 15590, 9, 5706, 1918, 1332, 2184, 52, 24840, 337, 3782, 216, 458, 13, 333, 7151, 16, 382, 8, 478, 18299, 9250, 20, 2136, 228, 3618, 52, 24840, 306, 98, 3782, 284, 458, 10352, 1349, 10, 9250, 21, 1135, 106, 52, 12591, 20481, 3402, 208, 84, 3782, 5467, 13, 2444, 58, 230, 14170, 168, 7, 452, 15, 46, 23, 628, 539, 720, 737, 1951, 16, 38, 6201, 20861, 7, 627, 19917, 2593, 202, 1785, 133, 2523, 140, 7121, 21758, 6275, 18088, 17, 12378, 12589, 12480, 3648, 2928, 62, 2523, 4489, 11, 140, 283, 2523, 9319, 27583, 9101, 5371, 20014, 70, 2226, 14639, 19, 2593, 33, 221, 1623, 8, 15822, 1130, 5663, 48, 1138, 1110, 12780, 718, 2834, 149, 9131, 8450, 140, 776, 1458, 9088, 5498, 15829, 7, 88, 780, 15, 335, 3782, 24, 10015, 22424, 94, 8365, 20, 8993, 5012, 1897, 926, 3402, 91, 7, 0, 0, 0, 0, 0, 0, 0, 0, 0, 0, 0, 0, 0, 0, 0, 0, 0, 0, 0, 0, 0, 0, 0, 0, 0, 0, 0, 0, 0, 0, 0, 0, 0, 0, 0, 0, 0, 0, 0, 0, 0, 0, 0, 0, 0, 0, 0, 0, 0, 0, 0, 0, 0, 0, 0, 0, 0, 0, 0, 0, 0, 0, 0, 0, 0, 0, 0, 0, 0, 0, 0, 0, 0, 0, 0, 0, 0, 0, 0, 0, 0, 0, 0, 0, 0, 0, 0, 0, 0, 0, 0, 0]\n",
            "256 [319, 1139, 10218, 296, 10594, 1313, 8, 6055, 3782, 4279, 664, 7288, 21831, 3198, 13, 3198, 12948, 9132, 568, 15590, 9, 5706, 1918, 1332, 2184, 52, 24840, 337, 3782, 216, 458, 13, 333, 7151, 16, 382, 8, 478, 18299, 9250, 20, 2136, 228, 3618, 52, 24840, 306, 98, 3782, 284, 458, 10352, 1349, 10, 9250, 21, 1135, 106, 52, 12591, 20481, 3402, 208, 84, 3782, 5467, 13, 2444, 58, 230, 14170, 168, 7, 452, 15, 46, 23, 628, 539, 720, 737, 1951, 16, 38, 6201, 20861, 7, 627, 19917, 2593, 202, 1785, 133, 2523, 140, 7121, 21758, 6275, 18088, 17, 12378, 12589, 12480, 3648, 2928, 62, 2523, 4489, 11, 140, 283, 2523, 9319, 27583, 9101, 5371, 20014, 70, 2226, 14639, 19, 2593, 33, 221, 1623, 8, 15822, 1130, 5663, 48, 1138, 1110, 12780, 718, 2834, 149, 9131, 8450, 140, 776, 1458, 9088, 5498, 15829, 7, 88, 780, 15, 335, 3782, 24, 10015, 22424, 94, 8365, 20, 8993, 5012, 1897, 926, 3402, 91, 7, 3, 0, 0, 0, 0, 0, 0, 0, 0, 0, 0, 0, 0, 0, 0, 0, 0, 0, 0, 0, 0, 0, 0, 0, 0, 0, 0, 0, 0, 0, 0, 0, 0, 0, 0, 0, 0, 0, 0, 0, 0, 0, 0, 0, 0, 0, 0, 0, 0, 0, 0, 0, 0, 0, 0, 0, 0, 0, 0, 0, 0, 0, 0, 0, 0, 0, 0, 0, 0, 0, 0, 0, 0, 0, 0, 0, 0, 0, 0, 0, 0, 0, 0, 0, 0, 0, 0, 0, 0, 0, 0, 0, 0]\n",
            "\n",
            "{'token': ['▁수학', '▁수학', '(', '數', '學', ',', '▁)', '은', '▁양', ',', '▁구조', ',', '▁공간', ',', '▁변화', '등을', '▁다룬다', '고', '▁설명', '▁할', '▁수', '▁있으나', '▁일반적으로', '▁받아들여', '지는', '▁정의는', '▁없다', '▁수학', '은', '▁공리', ',', '▁명제', ',', '▁증명', '▁등으로', '▁구성된', '▁추상적', '▁대상을', '▁연구하는', '▁학문', '이다', '.', '▁수학자', '는', '▁인간이', '▁살아가는', '▁실제', '▁세상', '과', '▁대비해', '▁보았을', '▁때', '▁전혀', '▁다른', '▁독립', '적이며', '▁추상적', '이고', '▁엄격한', '▁구조를', '▁만들고', '▁연구', '한다', '.', '▁그러나', '▁이런', '▁추상적', '인', '▁사실', '들이', '▁가끔', '은', '▁실제', '를', '▁설명', '하는데', '▁필요한', '▁경우도', '▁있다', '.', '▁고대', '로부터', '▁문명', '이', '▁생기는', '데', '▁필요한', '▁건축', ',', '▁천문학', ',', '▁토지', '▁측량', ',', '▁기계', '▁공학', ',', '▁상업', '▁등에', '▁수학적', '▁개념', '들이', '▁응용', '되어', '왔다', '.', '▁수학', '에서는', '▁예술', '에서', '▁그', '렇', '듯', '▁실용', '적', '▁고려', '를', '▁하지', '▁않으며', ',', '▁거의', '▁모두', '▁실용', '성을', '▁가지지', '▁않지만', ',', '▁극히', '▁일부', '▁실용적인', '▁부분', '도', '▁있다', '.', '▁응용', '▁수학', '에서는', '▁이렇게', '▁수학', '을', '▁물리학', ',', '▁화학', ',', '▁생물학', ',', '▁공학', ',', '▁경제학', ',', '▁사회학', '▁등', '▁다른', '▁학문', '에', '▁응용', '하는데', '▁관심이', '▁있다', '.', '▁또한', '▁수학', '은', '▁음악', '이나', '▁미술', '▁등', '▁예술', '과', '도', '▁관련이', '▁있다', '.', '▁피타고라스', '는', '▁두', '▁정수', '의', '▁비율이', '▁듣기', '▁좋은', '▁소리가', '▁난다', '는', '▁점을', '▁가지고', '▁피타고라스', '▁음', '계를', '▁만들었다', '.', '▁중세', '시대에', '도', '▁음악과', '▁수학', '을', '▁밀접', '하게', '▁연관', '시켰으며', '▁성', '▁빅토르', '의', '▁후', '고', '는', '▁“', '음악', '은', '▁조화', '다', '”', '라고', '▁했고', ',', '▁성', '▁', '트론', '드의', '▁루돌프', '는', '▁“', '음악', '은', '▁조화', '의', '▁토대', '(', 'rat', 'io', ')', '다', '”', '라고', '▁쓴', '▁바', '▁있다', '.', '▁조화', '가', '▁반드시', '▁소리', '로', '▁표현', '될', '▁필요', '는', '▁없고', '▁소리', '의', '▁음악은', '▁음악의', '▁형식', '▁중']}\n",
            "255 [2337, 2337, 14, 10657, 2710, 8, 113, 18, 288, 8, 1571, 8, 1709, 8, 1526, 5428, 10710, 37, 1968, 276, 34, 1492, 886, 5015, 873, 17701, 488, 2337, 18, 13272, 8, 10292, 8, 2847, 1110, 2567, 22518, 11109, 8380, 3121, 30, 7, 9311, 11, 7492, 19541, 1545, 5210, 24, 23307, 24844, 100, 2555, 93, 652, 9194, 22518, 425, 11195, 2023, 4485, 524, 101, 7, 138, 1001, 22518, 31, 1330, 143, 7909, 18, 1545, 20, 1968, 987, 1866, 2260, 25, 7, 1045, 408, 5037, 17, 8686, 298, 1866, 1643, 8, 8339, 8, 3323, 21988, 8, 2150, 6059, 8, 3461, 1103, 11915, 3401, 143, 3437, 125, 2770, 7, 2337, 118, 1612, 22, 39, 11853, 6872, 10726, 87, 685, 20, 1294, 3717, 8, 567, 241, 10726, 764, 17361, 4733, 8, 9697, 396, 28221, 1386, 32, 25, 7, 3437, 2337, 118, 1640, 2337, 16, 5704, 8, 2525, 8, 13243, 8, 6059, 8, 6449, 8, 11294, 84, 93, 3121, 13, 3437, 987, 7288, 25, 7, 109, 2337, 18, 579, 180, 2758, 84, 1612, 24, 32, 5055, 25, 7, 28651, 11, 99, 4720, 9, 12576, 24163, 1172, 14240, 10619, 11, 3303, 480, 28651, 1237, 4826, 1894, 7, 2999, 13736, 32, 16666, 2337, 16, 21428, 104, 9989, 12876, 232, 16612, 9, 78, 37, 11, 403, 2651, 18, 10465, 50, 496, 137, 2972, 8, 232, 10, 13956, 6893, 16074, 11, 403, 2651, 18, 10465, 9, 17298, 14, 21102, 4479, 12, 50, 496, 137, 1662, 327, 25, 7, 10465, 19, 3537, 3491, 21, 1150, 473, 2277, 11, 2800, 3491, 9, 15821, 14320, 2134, 69]\n",
            "256 [2, 2337, 2337, 14, 10657, 2710, 8, 113, 18, 288, 8, 1571, 8, 1709, 8, 1526, 5428, 10710, 37, 1968, 276, 34, 1492, 886, 5015, 873, 17701, 488, 2337, 18, 13272, 8, 10292, 8, 2847, 1110, 2567, 22518, 11109, 8380, 3121, 30, 7, 9311, 11, 7492, 19541, 1545, 5210, 24, 23307, 24844, 100, 2555, 93, 652, 9194, 22518, 425, 11195, 2023, 4485, 524, 101, 7, 138, 1001, 22518, 31, 1330, 143, 7909, 18, 1545, 20, 1968, 987, 1866, 2260, 25, 7, 1045, 408, 5037, 17, 8686, 298, 1866, 1643, 8, 8339, 8, 3323, 21988, 8, 2150, 6059, 8, 3461, 1103, 11915, 3401, 143, 3437, 125, 2770, 7, 2337, 118, 1612, 22, 39, 11853, 6872, 10726, 87, 685, 20, 1294, 3717, 8, 567, 241, 10726, 764, 17361, 4733, 8, 9697, 396, 28221, 1386, 32, 25, 7, 3437, 2337, 118, 1640, 2337, 16, 5704, 8, 2525, 8, 13243, 8, 6059, 8, 6449, 8, 11294, 84, 93, 3121, 13, 3437, 987, 7288, 25, 7, 109, 2337, 18, 579, 180, 2758, 84, 1612, 24, 32, 5055, 25, 7, 28651, 11, 99, 4720, 9, 12576, 24163, 1172, 14240, 10619, 11, 3303, 480, 28651, 1237, 4826, 1894, 7, 2999, 13736, 32, 16666, 2337, 16, 21428, 104, 9989, 12876, 232, 16612, 9, 78, 37, 11, 403, 2651, 18, 10465, 50, 496, 137, 2972, 8, 232, 10, 13956, 6893, 16074, 11, 403, 2651, 18, 10465, 9, 17298, 14, 21102, 4479, 12, 50, 496, 137, 1662, 327, 25, 7, 10465, 19, 3537, 3491, 21, 1150, 473, 2277, 11, 2800, 3491, 9, 15821, 14320, 2134, 69]\n",
            "256 [2337, 2337, 14, 10657, 2710, 8, 113, 18, 288, 8, 1571, 8, 1709, 8, 1526, 5428, 10710, 37, 1968, 276, 34, 1492, 886, 5015, 873, 17701, 488, 2337, 18, 13272, 8, 10292, 8, 2847, 1110, 2567, 22518, 11109, 8380, 3121, 30, 7, 9311, 11, 7492, 19541, 1545, 5210, 24, 23307, 24844, 100, 2555, 93, 652, 9194, 22518, 425, 11195, 2023, 4485, 524, 101, 7, 138, 1001, 22518, 31, 1330, 143, 7909, 18, 1545, 20, 1968, 987, 1866, 2260, 25, 7, 1045, 408, 5037, 17, 8686, 298, 1866, 1643, 8, 8339, 8, 3323, 21988, 8, 2150, 6059, 8, 3461, 1103, 11915, 3401, 143, 3437, 125, 2770, 7, 2337, 118, 1612, 22, 39, 11853, 6872, 10726, 87, 685, 20, 1294, 3717, 8, 567, 241, 10726, 764, 17361, 4733, 8, 9697, 396, 28221, 1386, 32, 25, 7, 3437, 2337, 118, 1640, 2337, 16, 5704, 8, 2525, 8, 13243, 8, 6059, 8, 6449, 8, 11294, 84, 93, 3121, 13, 3437, 987, 7288, 25, 7, 109, 2337, 18, 579, 180, 2758, 84, 1612, 24, 32, 5055, 25, 7, 28651, 11, 99, 4720, 9, 12576, 24163, 1172, 14240, 10619, 11, 3303, 480, 28651, 1237, 4826, 1894, 7, 2999, 13736, 32, 16666, 2337, 16, 21428, 104, 9989, 12876, 232, 16612, 9, 78, 37, 11, 403, 2651, 18, 10465, 50, 496, 137, 2972, 8, 232, 10, 13956, 6893, 16074, 11, 403, 2651, 18, 10465, 9, 17298, 14, 21102, 4479, 12, 50, 496, 137, 1662, 327, 25, 7, 10465, 19, 3537, 3491, 21, 1150, 473, 2277, 11, 2800, 3491, 9, 15821, 14320, 2134, 69, 3]\n",
            "\n",
            "{'token': ['▁오늘날', '▁수학', '은', '▁자연과학', ',', '▁공학', '뿐만', '▁아니라', ',', '▁경제학', '▁등의', '▁사회과학', '에서도', '▁중요한', '▁도구로', '▁사용된다', '.', '▁예를', '들어', ',', '▁정도의', '▁차이는', '▁있으나', ',', '▁미', '적', '분', '학과', '▁선형', '대', '수학', '은', '▁자연과학', '과', '▁공학', ',', '▁경제학', '을', '▁하는데', '에', '▁필수적', '▁과목', '으로', '▁여겨지며', ',', '▁확률', '론은', '▁계량', '경제학', '에', '▁응용', '된다', '.', '▁통계학', '은', '▁사회과학', '이론', '에', '▁근거', '를', '▁마련', '하는데', '▁필수적', '이다', '.', '▁16', '세기에', '▁갈릴레오', '▁갈릴레이', '가', '▁\"', '자연', '이라는', '▁책은', '▁수학', '이라는', '▁언어로', '▁기록되어', '▁있다', '.', '\"', '는', '▁주장', '과', '▁함께', '▁물리학', '에', '▁수학적', '▁방법을', '▁도입', '하였고', ',', '▁17', '세기에', '▁아이작', '▁뉴턴', '이', '▁고전', '▁역학', '의', '▁기본', '▁물리학', '▁법칙', '들을', '▁수학적', '으로', '▁기술', '하고', '▁정립', '하여', '▁물리학', '▁이론에서', '▁수학적', '▁모델링', '은', '▁필수적', '▁요소가', '▁되었다', '.', '▁또한', '▁이', '▁시기는', '▁과학적', '▁방법이', '▁정립', '되는', '▁시기', '이기도', '▁한', '데', ',', '▁많은', '▁과학적', '▁현상', '들이', '▁수학적', '▁관계가', '▁있음', '이', '▁드러나', '면서', '▁과학적', '▁방법에', '도', '▁수학', '은', '▁중요한', '▁역할을', '▁하고', '▁있다', '.', '▁노벨', '▁물리학', '상', '▁수상자', '▁유진', '▁위그', '너는', '▁그의', '▁에세이', '▁\"', 'The', '▁', 'un', 'rea', 'son', 'able', '▁', 'ef', 'fe', 'ctive', 'ness', '▁of', '▁ma', 'the', 'matic', 's', '▁in', '▁n', 'at', 'ural', '▁s', 'ci', 'ence', 's', '\"', '에서', '▁인간', '▁세상', '과', '▁동', '떨', '어져', '있고', '▁현실', '과', '▁아무', '▁관련이', '▁없다고', '▁여겨', '지던', '▁수학', '▁중', '▁극히', '▁일부는', '▁뜻', '밖에', '도', '▁자연과학', '과', '▁연관성', '이', '▁드러나', '고', '▁과학', '이론', '에', '▁효과적인', '▁토대', '를', '▁마련', '해', '▁주', '는데', '에', '▁대한', '▁놀라', '움', '을', '▁표현하였다', '.', '▁예를', '▁들어', ',', '▁비유', '클리', '드', '기', '하', '와', '▁3', '차원', '▁이상의', '▁임의의', '▁차원에서', '▁기하학', '을', '▁탐구', '했던', '▁미분', '▁기하학', '은', '▁당시에는', '▁현실', '과']}\n",
            "255 [2392, 2337, 18, 20727, 8, 6059, 3346, 465, 8, 6449, 282, 19332, 664, 705, 22113, 1683, 7, 1184, 6227, 8, 2833, 11910, 1492, 8, 267, 87, 302, 3027, 6553, 72, 13553, 18, 20727, 24, 6059, 8, 6449, 16, 2734, 13, 19284, 11885, 28, 27481, 8, 5360, 6989, 19382, 15570, 13, 3437, 309, 7, 27123, 18, 19332, 8093, 13, 3557, 20, 2683, 987, 19284, 30, 7, 183, 2233, 22385, 25484, 19, 45, 9295, 218, 6855, 2337, 218, 7594, 5150, 25, 7, 44, 11, 1505, 24, 112, 5704, 13, 11915, 3301, 1480, 277, 8, 212, 2233, 24177, 11220, 17, 2979, 11786, 9, 1564, 5704, 4544, 204, 11915, 28, 789, 43, 13753, 52, 5704, 14937, 11915, 24871, 18, 19284, 10376, 91, 7, 109, 29, 9955, 6256, 6263, 13753, 268, 1550, 907, 59, 298, 8, 192, 6256, 3393, 143, 11915, 4032, 8201, 17, 6052, 456, 6256, 13432, 32, 2337, 18, 705, 797, 382, 25, 7, 5012, 5704, 120, 7065, 12307, 15411, 10814, 134, 23751, 45, 1235, 10, 2577, 11123, 3816, 12215, 10, 12696, 9767, 22297, 11257, 641, 15519, 6438, 28449, 155, 2051, 4154, 2790, 27946, 2067, 4678, 9529, 155, 44, 22, 1344, 5210, 24, 370, 17782, 10055, 8730, 2772, 24, 2522, 5055, 3352, 5398, 18379, 2337, 69, 9697, 4179, 3190, 4506, 32, 20727, 24, 16430, 17, 6052, 37, 1293, 8093, 13, 16084, 17298, 20, 2683, 61, 133, 921, 13, 94, 15410, 1920, 16, 22871, 7, 1184, 573, 8, 10230, 11025, 194, 48, 237, 27, 38, 2528, 1051, 4843, 9965, 14317, 16, 11343, 506, 6833, 14317, 18, 3997, 2772, 24]\n",
            "256 [2, 2392, 2337, 18, 20727, 8, 6059, 3346, 465, 8, 6449, 282, 19332, 664, 705, 22113, 1683, 7, 1184, 6227, 8, 2833, 11910, 1492, 8, 267, 87, 302, 3027, 6553, 72, 13553, 18, 20727, 24, 6059, 8, 6449, 16, 2734, 13, 19284, 11885, 28, 27481, 8, 5360, 6989, 19382, 15570, 13, 3437, 309, 7, 27123, 18, 19332, 8093, 13, 3557, 20, 2683, 987, 19284, 30, 7, 183, 2233, 22385, 25484, 19, 45, 9295, 218, 6855, 2337, 218, 7594, 5150, 25, 7, 44, 11, 1505, 24, 112, 5704, 13, 11915, 3301, 1480, 277, 8, 212, 2233, 24177, 11220, 17, 2979, 11786, 9, 1564, 5704, 4544, 204, 11915, 28, 789, 43, 13753, 52, 5704, 14937, 11915, 24871, 18, 19284, 10376, 91, 7, 109, 29, 9955, 6256, 6263, 13753, 268, 1550, 907, 59, 298, 8, 192, 6256, 3393, 143, 11915, 4032, 8201, 17, 6052, 456, 6256, 13432, 32, 2337, 18, 705, 797, 382, 25, 7, 5012, 5704, 120, 7065, 12307, 15411, 10814, 134, 23751, 45, 1235, 10, 2577, 11123, 3816, 12215, 10, 12696, 9767, 22297, 11257, 641, 15519, 6438, 28449, 155, 2051, 4154, 2790, 27946, 2067, 4678, 9529, 155, 44, 22, 1344, 5210, 24, 370, 17782, 10055, 8730, 2772, 24, 2522, 5055, 3352, 5398, 18379, 2337, 69, 9697, 4179, 3190, 4506, 32, 20727, 24, 16430, 17, 6052, 37, 1293, 8093, 13, 16084, 17298, 20, 2683, 61, 133, 921, 13, 94, 15410, 1920, 16, 22871, 7, 1184, 573, 8, 10230, 11025, 194, 48, 237, 27, 38, 2528, 1051, 4843, 9965, 14317, 16, 11343, 506, 6833, 14317, 18, 3997, 2772, 24]\n",
            "256 [2392, 2337, 18, 20727, 8, 6059, 3346, 465, 8, 6449, 282, 19332, 664, 705, 22113, 1683, 7, 1184, 6227, 8, 2833, 11910, 1492, 8, 267, 87, 302, 3027, 6553, 72, 13553, 18, 20727, 24, 6059, 8, 6449, 16, 2734, 13, 19284, 11885, 28, 27481, 8, 5360, 6989, 19382, 15570, 13, 3437, 309, 7, 27123, 18, 19332, 8093, 13, 3557, 20, 2683, 987, 19284, 30, 7, 183, 2233, 22385, 25484, 19, 45, 9295, 218, 6855, 2337, 218, 7594, 5150, 25, 7, 44, 11, 1505, 24, 112, 5704, 13, 11915, 3301, 1480, 277, 8, 212, 2233, 24177, 11220, 17, 2979, 11786, 9, 1564, 5704, 4544, 204, 11915, 28, 789, 43, 13753, 52, 5704, 14937, 11915, 24871, 18, 19284, 10376, 91, 7, 109, 29, 9955, 6256, 6263, 13753, 268, 1550, 907, 59, 298, 8, 192, 6256, 3393, 143, 11915, 4032, 8201, 17, 6052, 456, 6256, 13432, 32, 2337, 18, 705, 797, 382, 25, 7, 5012, 5704, 120, 7065, 12307, 15411, 10814, 134, 23751, 45, 1235, 10, 2577, 11123, 3816, 12215, 10, 12696, 9767, 22297, 11257, 641, 15519, 6438, 28449, 155, 2051, 4154, 2790, 27946, 2067, 4678, 9529, 155, 44, 22, 1344, 5210, 24, 370, 17782, 10055, 8730, 2772, 24, 2522, 5055, 3352, 5398, 18379, 2337, 69, 9697, 4179, 3190, 4506, 32, 20727, 24, 16430, 17, 6052, 37, 1293, 8093, 13, 16084, 17298, 20, 2683, 61, 133, 921, 13, 94, 15410, 1920, 16, 22871, 7, 1184, 573, 8, 10230, 11025, 194, 48, 237, 27, 38, 2528, 1051, 4843, 9965, 14317, 16, 11343, 506, 6833, 14317, 18, 3997, 2772, 24, 3]\n",
            "\n",
            "{'token': ['▁ma', 'the', 'matic', 's', '라는', '▁단어는', \"▁'\", '아는', '▁모든', '▁것', \"'\", '라는', '▁뜻의', '▁고대', '▁그리스어', '▁ma', 'the', 'mat', 'ik', 'os', '에서', '▁유래되었다', '.', '▁줄여서', '▁ma', 'th', '라고', '▁표현을', '하기도', '▁한다', '.', '▁수학', '은', '▁기원전', '▁600', '년', '▁경', '에', '▁살았던', '▁탈', '레스', '로부터', '▁시작됐다', '.', '▁하지만', '▁탈', '레스', '가', '▁태어나', '기', '▁전에', '도', '▁수학', '을', '▁연구', '한', '▁사람이', '▁있을', '▁수도', '▁있기', '▁때문에', '▁인류의', '▁역사와', '▁더불어', '▁시작되었다', '고', '▁할', '▁수', '▁있다', '.', '▁교역', '•', '분', '배', '•', '과', '세', '▁등의', '▁인류의', '▁사회', '▁생활에', '▁필요한', '▁모든', '▁계산', '을', '▁수학', '이', '▁담당', '해', '▁', '왔고', ',', '▁농경', '▁생활에', '▁필수적인', '▁천문', '▁관측', '과', '▁달력', '의', '▁제정', ',', '▁토지', '의', '▁측량', '▁또한', '▁수학', '이', '▁직접적으로', '▁관여', '한', '▁분야', '이다', '.', '▁고대', '▁수학', '을', '▁크게', '▁발전시킨', '▁나라', '로', '는', '▁이집트', ',', '▁인도', ',', '▁그리스', ',', '▁중국', '▁등이', '▁있다', '.', '▁그', '▁중에서도', '▁그리스', '는', '▁처음으로', '▁방정식', '에서', '▁변수', '를', '▁문자로', '▁쓴', '▁나라', '이다', '.', '▁한국의', '▁수학', '은', '▁약', '▁1,500', '년', '▁전부터', '▁기록으로', '▁보이기', '▁시작한다', '.', '▁신라', '▁시대에', '▁수학', '을', '▁가르', '쳤으며', ',', '▁탈', '레스', '가', '▁최초로', '▁발견한', '▁일식', '과', '▁', '월', '식을', '▁예측', '할', '▁정도로', '▁발달', '했다', '.', '▁조선', '▁시대에', '▁훈', '민', '정', '음을', '▁창', '제', '한', '▁세종', '▁대왕', '은', '▁집현전', '▁학자들', '에게', '▁수학', '▁연구를', '▁명', '하는', '▁등', ',', '▁조선의', '▁수학', '▁수준을', '▁향상', '시키기', '▁위해서', '▁많은', '▁노력을', '▁기울였다', '.', '▁하지만', '▁임진왜란', '으로', '▁많은', '▁서적', '들이', '▁불타', '고', ',', '▁천문학', '▁분야에서', '▁큰', '▁손실을', '▁입었다', '.', '▁조선', '▁후기의', '▁한국의', '▁수학', '은', '▁실', '학자들', '을', '▁중심으로', '▁다시', '▁발전', '하였고', ',', '▁새로운', '▁결과', '도', '▁성취', '되었다', '.', '▁수학', '의', '▁각', '▁분야', '들은', '▁상업', '에', '▁필요한', '▁계산', '을']}\n",
            "255 [15519, 6438, 28449, 155, 126, 12758, 63, 10888, 246, 434, 57, 126, 9506, 1045, 5429, 15519, 6438, 18493, 8747, 3381, 22, 15474, 7, 8832, 15519, 1754, 137, 12207, 577, 79, 7, 2337, 18, 915, 6142, 15, 423, 13, 12417, 1995, 2045, 408, 26649, 7, 325, 1995, 2045, 19, 2540, 48, 1275, 32, 2337, 16, 524, 33, 1183, 860, 588, 1451, 135, 15131, 14457, 1834, 2227, 37, 276, 34, 25, 7, 7062, 18515, 302, 476, 18515, 24, 124, 282, 15131, 666, 18834, 1866, 246, 2082, 16, 2337, 17, 2543, 61, 10, 7602, 8, 22793, 18834, 18582, 12579, 1644, 24, 24381, 9, 2615, 8, 3323, 9, 21988, 109, 2337, 17, 10788, 5636, 33, 3238, 30, 7, 1045, 2337, 16, 691, 28973, 1655, 21, 11, 2448, 8, 991, 8, 997, 8, 351, 266, 25, 7, 39, 6543, 997, 11, 812, 4536, 22, 4895, 20, 19525, 1662, 1655, 30, 7, 1981, 2337, 18, 226, 15733, 15, 8836, 13024, 18336, 4000, 7, 2040, 2497, 2337, 16, 7464, 13221, 8, 1995, 2045, 19, 1071, 8351, 9785, 24, 10, 23, 2629, 3517, 60, 1383, 1905, 53, 7, 369, 2497, 4403, 440, 159, 3599, 983, 127, 33, 3798, 8127, 18, 28376, 12494, 80, 2337, 4025, 445, 42, 84, 8, 5069, 2337, 17696, 3438, 2934, 1651, 192, 9458, 27236, 7, 325, 4311, 28, 192, 7840, 143, 14010, 37, 8, 8339, 4083, 230, 16734, 6847, 7, 369, 7778, 1981, 2337, 18, 872, 26195, 16, 910, 203, 1095, 277, 8, 418, 796, 32, 11260, 97, 7, 2337, 9, 346, 3238, 181, 3461, 13, 1866, 2082, 16]\n",
            "256 [2, 15519, 6438, 28449, 155, 126, 12758, 63, 10888, 246, 434, 57, 126, 9506, 1045, 5429, 15519, 6438, 18493, 8747, 3381, 22, 15474, 7, 8832, 15519, 1754, 137, 12207, 577, 79, 7, 2337, 18, 915, 6142, 15, 423, 13, 12417, 1995, 2045, 408, 26649, 7, 325, 1995, 2045, 19, 2540, 48, 1275, 32, 2337, 16, 524, 33, 1183, 860, 588, 1451, 135, 15131, 14457, 1834, 2227, 37, 276, 34, 25, 7, 7062, 18515, 302, 476, 18515, 24, 124, 282, 15131, 666, 18834, 1866, 246, 2082, 16, 2337, 17, 2543, 61, 10, 7602, 8, 22793, 18834, 18582, 12579, 1644, 24, 24381, 9, 2615, 8, 3323, 9, 21988, 109, 2337, 17, 10788, 5636, 33, 3238, 30, 7, 1045, 2337, 16, 691, 28973, 1655, 21, 11, 2448, 8, 991, 8, 997, 8, 351, 266, 25, 7, 39, 6543, 997, 11, 812, 4536, 22, 4895, 20, 19525, 1662, 1655, 30, 7, 1981, 2337, 18, 226, 15733, 15, 8836, 13024, 18336, 4000, 7, 2040, 2497, 2337, 16, 7464, 13221, 8, 1995, 2045, 19, 1071, 8351, 9785, 24, 10, 23, 2629, 3517, 60, 1383, 1905, 53, 7, 369, 2497, 4403, 440, 159, 3599, 983, 127, 33, 3798, 8127, 18, 28376, 12494, 80, 2337, 4025, 445, 42, 84, 8, 5069, 2337, 17696, 3438, 2934, 1651, 192, 9458, 27236, 7, 325, 4311, 28, 192, 7840, 143, 14010, 37, 8, 8339, 4083, 230, 16734, 6847, 7, 369, 7778, 1981, 2337, 18, 872, 26195, 16, 910, 203, 1095, 277, 8, 418, 796, 32, 11260, 97, 7, 2337, 9, 346, 3238, 181, 3461, 13, 1866, 2082, 16]\n",
            "256 [15519, 6438, 28449, 155, 126, 12758, 63, 10888, 246, 434, 57, 126, 9506, 1045, 5429, 15519, 6438, 18493, 8747, 3381, 22, 15474, 7, 8832, 15519, 1754, 137, 12207, 577, 79, 7, 2337, 18, 915, 6142, 15, 423, 13, 12417, 1995, 2045, 408, 26649, 7, 325, 1995, 2045, 19, 2540, 48, 1275, 32, 2337, 16, 524, 33, 1183, 860, 588, 1451, 135, 15131, 14457, 1834, 2227, 37, 276, 34, 25, 7, 7062, 18515, 302, 476, 18515, 24, 124, 282, 15131, 666, 18834, 1866, 246, 2082, 16, 2337, 17, 2543, 61, 10, 7602, 8, 22793, 18834, 18582, 12579, 1644, 24, 24381, 9, 2615, 8, 3323, 9, 21988, 109, 2337, 17, 10788, 5636, 33, 3238, 30, 7, 1045, 2337, 16, 691, 28973, 1655, 21, 11, 2448, 8, 991, 8, 997, 8, 351, 266, 25, 7, 39, 6543, 997, 11, 812, 4536, 22, 4895, 20, 19525, 1662, 1655, 30, 7, 1981, 2337, 18, 226, 15733, 15, 8836, 13024, 18336, 4000, 7, 2040, 2497, 2337, 16, 7464, 13221, 8, 1995, 2045, 19, 1071, 8351, 9785, 24, 10, 23, 2629, 3517, 60, 1383, 1905, 53, 7, 369, 2497, 4403, 440, 159, 3599, 983, 127, 33, 3798, 8127, 18, 28376, 12494, 80, 2337, 4025, 445, 42, 84, 8, 5069, 2337, 17696, 3438, 2934, 1651, 192, 9458, 27236, 7, 325, 4311, 28, 192, 7840, 143, 14010, 37, 8, 8339, 4083, 230, 16734, 6847, 7, 369, 7778, 1981, 2337, 18, 872, 26195, 16, 910, 203, 1095, 277, 8, 418, 796, 32, 11260, 97, 7, 2337, 9, 346, 3238, 181, 3461, 13, 1866, 2082, 16, 3]\n",
            "\n",
            "{'token': ['▁산술', '은', '▁자연수', '와', '▁정수', '▁및', '▁이에', '▁대한', '▁사', '칙', '연', '산에', '▁대한', '▁연구', '로서', '▁시작했다', '.', '▁수', '론은', '▁이런', '▁주제', '들을', '▁보다', '▁깊게', '▁다루는', '▁학문', '으로', ',', '▁그', '▁결과로', '는', '▁페르', '마', '의', '▁마지막', '▁정리', '▁등이', '▁유명하다', '.', '▁또한', '▁쌍둥이', '▁소수', '▁추측', '과', '▁골드', '바흐', '▁추측', '▁등을', '▁비롯해', '▁오랜', '▁세월', '▁동안', '▁해결', '되지', '▁않고', '▁남아있는', '▁문제들', '도', '▁여럿', '▁있다', '.', '▁수', '의', '▁체계', '가', '▁보다', '▁발전', '하면서', ',', '▁정수', '의', '▁집합', '을', '▁유리', '수의', '▁집합', '의', '▁부분', '집합', '으로', '▁여기', '게', '▁되었다', '.', '▁또한', '▁유리', '수의', '▁집합', '은', '▁실수', '의', '▁집합', '의', '▁부분', '집합', '이며', ',', '▁이는', '▁또다시', '▁복소수', '▁집합', '의', '▁일부분', '으로', '▁볼', '▁수', '▁있다', '.', '▁여기에서', '▁더', '▁나아가', '면', '▁사원', '수와', '▁팔', '원수', '▁등의', '▁개념을', '▁생각할', '▁수도', '▁있다', '.', '▁이와', '는', '▁약간', '▁다른', '▁방향으로', ',', '▁자연수', '를', '▁무한', '대', '까지', '▁세', '어', '나간다', '는', '▁개념을', '▁형식', '화', '하여', '▁순서', '수의', '▁개념을', '▁얻으며', ',', '▁집합', '의', '▁크기', '▁비교', '를', '▁이용하여', '▁무한', '대를', '▁다루기', '▁위한', '▁또다른', '▁방법으로', '는', '▁기수', '의', '▁개념', '도', '▁있다', '.', '▁수', '▁대신', '▁문자를', '▁써서', '▁문제', '해', '결', '을', '▁쉽게', '▁하는', '▁것과', ',', '▁마찬가지로', '▁수학적', '▁법칙을', '▁일반', '적이고', '▁간', '명', '하게', '▁나타내는', '▁것을', '▁포함한다', '.', '▁고전', '대', '수학', '은', '▁대수', '방정식', '▁및', '▁연립', '방정식', '의', '▁해', '법', '에서', '▁시작하여', '▁군', ',', '▁환', ',', '▁체', '▁등의', '▁추상', '대', '수학', '을', '▁거쳐', '▁현대에', '▁와서', '는', '▁대수', '계의', '▁구조를', '▁보는', '▁것을', '▁중심으로', '▁하는', '▁선형', '대', '수학', '으로', '▁전개', '되었다', '.', '▁수', '의', '▁집합', '이나', '▁함수', '와', '▁같은', '▁많은', '▁수학적', '▁대상', '들은', '▁내재', '적인', '▁구조를', '▁보인다', '.', '▁이러한', '▁대상', '들의', '▁구조적', '▁특성', '들이', '▁군', '론']}\n",
            "255 [25180, 18, 19486, 27, 4720, 95, 482, 94, 207, 5608, 360, 12680, 94, 524, 380, 772, 7, 34, 6989, 1001, 3741, 204, 1660, 20296, 6464, 3121, 28, 8, 39, 6745, 11, 5038, 187, 9, 803, 1769, 266, 2639, 7, 109, 10330, 3480, 3911, 24, 6316, 11916, 3911, 336, 6009, 2968, 10475, 344, 2593, 593, 514, 9271, 15518, 32, 21271, 25, 7, 34, 9, 3224, 19, 1660, 1095, 248, 8, 4720, 9, 1766, 16, 2135, 5049, 1766, 9, 1386, 7978, 28, 7498, 128, 91, 7, 109, 2135, 5049, 1766, 18, 4386, 9, 1766, 9, 1386, 7978, 114, 8, 378, 8500, 12583, 1766, 9, 12944, 28, 438, 34, 25, 7, 8444, 149, 4632, 122, 5108, 7877, 1087, 15741, 282, 5536, 10716, 588, 25, 7, 1222, 11, 2918, 93, 3162, 8, 19486, 20, 5881, 72, 161, 231, 110, 25673, 11, 5536, 2134, 121, 52, 4445, 5049, 5536, 28302, 8, 1766, 9, 3220, 3490, 20, 1884, 5881, 1854, 25236, 270, 6133, 3516, 11, 9928, 9, 3401, 32, 25, 7, 34, 851, 12999, 9020, 1313, 61, 1185, 16, 2191, 208, 1478, 8, 1635, 11915, 17876, 990, 2697, 536, 123, 104, 3448, 142, 3755, 7, 2979, 72, 13553, 18, 3294, 20187, 95, 17100, 20187, 9, 210, 368, 22, 3280, 467, 8, 1559, 8, 1200, 282, 15170, 72, 13553, 16, 758, 16380, 5416, 11, 3294, 2784, 2023, 3322, 142, 910, 208, 6553, 72, 13553, 28, 2230, 97, 7, 34, 9, 1766, 180, 1846, 27, 98, 192, 11915, 1869, 181, 21469, 148, 2023, 1064, 7, 314, 1869, 337, 17981, 3275, 143, 467, 603]\n",
            "256 [2, 25180, 18, 19486, 27, 4720, 95, 482, 94, 207, 5608, 360, 12680, 94, 524, 380, 772, 7, 34, 6989, 1001, 3741, 204, 1660, 20296, 6464, 3121, 28, 8, 39, 6745, 11, 5038, 187, 9, 803, 1769, 266, 2639, 7, 109, 10330, 3480, 3911, 24, 6316, 11916, 3911, 336, 6009, 2968, 10475, 344, 2593, 593, 514, 9271, 15518, 32, 21271, 25, 7, 34, 9, 3224, 19, 1660, 1095, 248, 8, 4720, 9, 1766, 16, 2135, 5049, 1766, 9, 1386, 7978, 28, 7498, 128, 91, 7, 109, 2135, 5049, 1766, 18, 4386, 9, 1766, 9, 1386, 7978, 114, 8, 378, 8500, 12583, 1766, 9, 12944, 28, 438, 34, 25, 7, 8444, 149, 4632, 122, 5108, 7877, 1087, 15741, 282, 5536, 10716, 588, 25, 7, 1222, 11, 2918, 93, 3162, 8, 19486, 20, 5881, 72, 161, 231, 110, 25673, 11, 5536, 2134, 121, 52, 4445, 5049, 5536, 28302, 8, 1766, 9, 3220, 3490, 20, 1884, 5881, 1854, 25236, 270, 6133, 3516, 11, 9928, 9, 3401, 32, 25, 7, 34, 851, 12999, 9020, 1313, 61, 1185, 16, 2191, 208, 1478, 8, 1635, 11915, 17876, 990, 2697, 536, 123, 104, 3448, 142, 3755, 7, 2979, 72, 13553, 18, 3294, 20187, 95, 17100, 20187, 9, 210, 368, 22, 3280, 467, 8, 1559, 8, 1200, 282, 15170, 72, 13553, 16, 758, 16380, 5416, 11, 3294, 2784, 2023, 3322, 142, 910, 208, 6553, 72, 13553, 28, 2230, 97, 7, 34, 9, 1766, 180, 1846, 27, 98, 192, 11915, 1869, 181, 21469, 148, 2023, 1064, 7, 314, 1869, 337, 17981, 3275, 143, 467, 603]\n",
            "256 [25180, 18, 19486, 27, 4720, 95, 482, 94, 207, 5608, 360, 12680, 94, 524, 380, 772, 7, 34, 6989, 1001, 3741, 204, 1660, 20296, 6464, 3121, 28, 8, 39, 6745, 11, 5038, 187, 9, 803, 1769, 266, 2639, 7, 109, 10330, 3480, 3911, 24, 6316, 11916, 3911, 336, 6009, 2968, 10475, 344, 2593, 593, 514, 9271, 15518, 32, 21271, 25, 7, 34, 9, 3224, 19, 1660, 1095, 248, 8, 4720, 9, 1766, 16, 2135, 5049, 1766, 9, 1386, 7978, 28, 7498, 128, 91, 7, 109, 2135, 5049, 1766, 18, 4386, 9, 1766, 9, 1386, 7978, 114, 8, 378, 8500, 12583, 1766, 9, 12944, 28, 438, 34, 25, 7, 8444, 149, 4632, 122, 5108, 7877, 1087, 15741, 282, 5536, 10716, 588, 25, 7, 1222, 11, 2918, 93, 3162, 8, 19486, 20, 5881, 72, 161, 231, 110, 25673, 11, 5536, 2134, 121, 52, 4445, 5049, 5536, 28302, 8, 1766, 9, 3220, 3490, 20, 1884, 5881, 1854, 25236, 270, 6133, 3516, 11, 9928, 9, 3401, 32, 25, 7, 34, 851, 12999, 9020, 1313, 61, 1185, 16, 2191, 208, 1478, 8, 1635, 11915, 17876, 990, 2697, 536, 123, 104, 3448, 142, 3755, 7, 2979, 72, 13553, 18, 3294, 20187, 95, 17100, 20187, 9, 210, 368, 22, 3280, 467, 8, 1559, 8, 1200, 282, 15170, 72, 13553, 16, 758, 16380, 5416, 11, 3294, 2784, 2023, 3322, 142, 910, 208, 6553, 72, 13553, 28, 2230, 97, 7, 34, 9, 1766, 180, 1846, 27, 98, 192, 11915, 1869, 181, 21469, 148, 2023, 1064, 7, 314, 1869, 337, 17981, 3275, 143, 467, 603, 3]\n",
            "\n",
            "{'token': ['▁공간에', '▁대한', '▁연구는', '▁기하학', '에서', '▁시작되었고', ',', '▁특히', '▁유클리드', '▁기하학', '에서', '▁비롯되었다', '.', '▁삼각', '법은', '▁공간', '과', '▁수', '들을', '▁결합', '하였고', ',', '▁잘', '▁알려진', '▁피타고라스', '의', '▁정리', '를', '▁포함한다', '.', '▁현대에', '▁와서', '▁공간에', '▁대한', '▁연구는', ',', '▁이러한', '▁개념', '들은', '▁더', '▁높은', '▁차원', '의', '▁기하학', '을', '▁다루기', '▁위해', '▁비유', '클리', '드', '▁기하학', '(', '상대', '성이', '론에서', '▁핵심적인', '▁역할을', '▁함', ')', '과', '▁위상수학', '으로', '▁일반화', '되었다', '.', '▁수', '론과', '▁공간에', '▁대한', '▁이해', '는', '▁모두', '▁해석', '▁기하학', ',', '▁미분', '기하학', ',', '▁대수', '기하학', '에', '▁중요한', '▁역할을', '▁한다', '.', '▁리', '▁군도', '▁공간', '과', '▁구조', ',', '▁변화를', '▁다루는', '데', '▁사용된다', '.', '▁위상수학', '은', '▁20', '세기', '▁수학', '의', '▁다양한', '▁지류', '속에서', '▁', '괄', '목', '할만한', '▁성장을', '▁한', '▁분야', '이며', ',', '▁푸', '앵', '카', '레', '▁추측', '과', '▁인간', '에', '▁의해서', '▁증명', '되지', '▁못하고', '▁오직', '▁컴퓨터', '로', '만', '▁증명', '된', '▁4', '색', '정리', '를', '▁포함한다', '.', '▁변화에', '▁대한', '▁이해', '와', '▁묘사', '는', '▁자연과학', '에', '▁있어서', '▁일반적인', '▁주제', '이며', ',', '▁미', '적', '분', '학은', '▁변화를', '▁탐구', '하는', '▁강력한', '▁도구', '로서', '▁발전', '되었다', '.', '▁함수는', '▁변화하는', '▁양', '을', '▁묘사', '함에', '▁있어서', '▁중추', '적인', '▁개념', '으로써', '▁떠오르', '게', '▁된다', '.', '▁실수', '와', '▁실', '변수', '로', '▁구성된', '▁함수의', '▁엄', '밀', '한', '▁탐구', '가', '▁실', '해석학', '이라는', '▁분야로', '▁알려지게', '▁되었고', ',', '▁복소수', '에', '▁대한', '▁이와', '▁같은', '▁탐구', '▁분야', '는', '▁복소', '해석학', '이라고', '▁한다', '.', '▁함수', '해석학', '은', '▁함수의', '▁공간', '(', '특히', '▁무한', '차원', ')', '의', '▁탐구', '에', '▁주목', '한다', '.', '▁함수', '해석학', '의', '▁많은', '▁응용', '분야', '▁중', '▁하나가', '▁양자역학', '이다', '.', '▁많은', '▁문제들', '이', '▁자연스럽게', '▁양', '과', '▁그', '▁양의', '▁변화', '율', '의', '▁관계로', '▁귀', '착', '되고', ',', '▁이러한']}\n",
            "255 [17718, 94, 9601, 14317, 22, 17393, 8, 381, 18250, 14317, 22, 19993, 7, 10186, 5156, 1709, 24, 34, 204, 1734, 277, 8, 441, 1246, 28651, 9, 1769, 20, 3755, 7, 16380, 5416, 17718, 94, 9601, 8, 314, 3401, 181, 149, 611, 6213, 9, 14317, 16, 25236, 115, 10230, 11025, 194, 14317, 14, 17385, 1263, 13348, 21720, 797, 1448, 12, 24, 29322, 28, 9696, 97, 7, 34, 11425, 17718, 94, 2301, 11, 241, 1579, 14317, 8, 6833, 27453, 8, 3294, 27453, 13, 705, 797, 79, 7, 383, 18295, 1709, 24, 1571, 8, 4434, 6464, 298, 1683, 7, 29322, 18, 227, 398, 2337, 9, 552, 9735, 15014, 10, 10377, 584, 23184, 13399, 59, 3238, 114, 8, 1524, 8963, 274, 289, 3911, 24, 1344, 13, 2327, 2847, 593, 1785, 4692, 970, 21, 62, 2847, 85, 46, 905, 9487, 20, 3755, 7, 11995, 94, 2301, 27, 2736, 11, 20727, 13, 1027, 2138, 3741, 114, 8, 267, 87, 302, 15645, 4434, 11343, 42, 2246, 4681, 380, 1095, 97, 7, 18117, 22140, 288, 16, 2736, 2815, 1027, 16633, 148, 3401, 2205, 17099, 128, 174, 7, 4386, 27, 872, 19341, 21, 2567, 14354, 3158, 1543, 33, 11343, 19, 872, 29847, 218, 22071, 12229, 986, 8, 12583, 13, 94, 1222, 98, 11343, 3238, 11, 18950, 29847, 263, 79, 7, 1846, 29847, 18, 14354, 1709, 14, 11679, 5881, 2528, 12, 9, 11343, 13, 5656, 101, 7, 1846, 29847, 9, 192, 3437, 6398, 69, 5913, 19536, 30, 7, 192, 15518, 17, 11015, 288, 24, 39, 6555, 1526, 2545, 9, 8722, 1210, 2334, 269, 8, 314]\n",
            "256 [2, 17718, 94, 9601, 14317, 22, 17393, 8, 381, 18250, 14317, 22, 19993, 7, 10186, 5156, 1709, 24, 34, 204, 1734, 277, 8, 441, 1246, 28651, 9, 1769, 20, 3755, 7, 16380, 5416, 17718, 94, 9601, 8, 314, 3401, 181, 149, 611, 6213, 9, 14317, 16, 25236, 115, 10230, 11025, 194, 14317, 14, 17385, 1263, 13348, 21720, 797, 1448, 12, 24, 29322, 28, 9696, 97, 7, 34, 11425, 17718, 94, 2301, 11, 241, 1579, 14317, 8, 6833, 27453, 8, 3294, 27453, 13, 705, 797, 79, 7, 383, 18295, 1709, 24, 1571, 8, 4434, 6464, 298, 1683, 7, 29322, 18, 227, 398, 2337, 9, 552, 9735, 15014, 10, 10377, 584, 23184, 13399, 59, 3238, 114, 8, 1524, 8963, 274, 289, 3911, 24, 1344, 13, 2327, 2847, 593, 1785, 4692, 970, 21, 62, 2847, 85, 46, 905, 9487, 20, 3755, 7, 11995, 94, 2301, 27, 2736, 11, 20727, 13, 1027, 2138, 3741, 114, 8, 267, 87, 302, 15645, 4434, 11343, 42, 2246, 4681, 380, 1095, 97, 7, 18117, 22140, 288, 16, 2736, 2815, 1027, 16633, 148, 3401, 2205, 17099, 128, 174, 7, 4386, 27, 872, 19341, 21, 2567, 14354, 3158, 1543, 33, 11343, 19, 872, 29847, 218, 22071, 12229, 986, 8, 12583, 13, 94, 1222, 98, 11343, 3238, 11, 18950, 29847, 263, 79, 7, 1846, 29847, 18, 14354, 1709, 14, 11679, 5881, 2528, 12, 9, 11343, 13, 5656, 101, 7, 1846, 29847, 9, 192, 3437, 6398, 69, 5913, 19536, 30, 7, 192, 15518, 17, 11015, 288, 24, 39, 6555, 1526, 2545, 9, 8722, 1210, 2334, 269, 8, 314]\n",
            "256 [17718, 94, 9601, 14317, 22, 17393, 8, 381, 18250, 14317, 22, 19993, 7, 10186, 5156, 1709, 24, 34, 204, 1734, 277, 8, 441, 1246, 28651, 9, 1769, 20, 3755, 7, 16380, 5416, 17718, 94, 9601, 8, 314, 3401, 181, 149, 611, 6213, 9, 14317, 16, 25236, 115, 10230, 11025, 194, 14317, 14, 17385, 1263, 13348, 21720, 797, 1448, 12, 24, 29322, 28, 9696, 97, 7, 34, 11425, 17718, 94, 2301, 11, 241, 1579, 14317, 8, 6833, 27453, 8, 3294, 27453, 13, 705, 797, 79, 7, 383, 18295, 1709, 24, 1571, 8, 4434, 6464, 298, 1683, 7, 29322, 18, 227, 398, 2337, 9, 552, 9735, 15014, 10, 10377, 584, 23184, 13399, 59, 3238, 114, 8, 1524, 8963, 274, 289, 3911, 24, 1344, 13, 2327, 2847, 593, 1785, 4692, 970, 21, 62, 2847, 85, 46, 905, 9487, 20, 3755, 7, 11995, 94, 2301, 27, 2736, 11, 20727, 13, 1027, 2138, 3741, 114, 8, 267, 87, 302, 15645, 4434, 11343, 42, 2246, 4681, 380, 1095, 97, 7, 18117, 22140, 288, 16, 2736, 2815, 1027, 16633, 148, 3401, 2205, 17099, 128, 174, 7, 4386, 27, 872, 19341, 21, 2567, 14354, 3158, 1543, 33, 11343, 19, 872, 29847, 218, 22071, 12229, 986, 8, 12583, 13, 94, 1222, 98, 11343, 3238, 11, 18950, 29847, 263, 79, 7, 1846, 29847, 18, 14354, 1709, 14, 11679, 5881, 2528, 12, 9, 11343, 13, 5656, 101, 7, 1846, 29847, 9, 192, 3437, 6398, 69, 5913, 19536, 30, 7, 192, 15518, 17, 11015, 288, 24, 39, 6555, 1526, 2545, 9, 8722, 1210, 2334, 269, 8, 314, 3]\n",
            "\n",
            "{'token': ['▁수학', '의', '▁기초를', '▁확실히', '▁세우기', '▁위해', ',', '▁수리', '논리', '학과', '▁집합론', '이', '▁발전', '하였고', ',', '▁이와', '▁더불어', '▁범주', '론이', '▁최근에', '도', '▁발전', '되고', '▁있다', '.', '▁“', '근', '본', '▁위기', '”', '라는', '▁말은', '▁대략', '▁1900', '년', '에서', '▁1930', '년', '▁사이에', '▁일어난', ',', '▁수학', '의', '▁엄', '밀', '한', '▁기초', '에', '▁대한', '▁탐구', '를', '▁상징적', '으로', '▁보여주는', '▁말이다', '.', '▁수학', '의', '▁엄', '밀', '한', '▁기초', '에', '▁대한', '▁몇', '▁가지', '▁의견', '▁불일치', '는', '▁오늘날에도', '▁계속되고', '▁있다', '.', '▁수학', '의', '▁기초', '에', '▁대한', '▁위기', '는', '▁그', '▁당시', '▁수많은', '▁논쟁', '에', '▁의해', '▁촉발', '되었으며', ',', '▁그', '▁논쟁', '에는', '▁칸', '토', '어의', '▁집합론', '과', '▁', '브라우', '어', '-', '힐', '베르트', '▁논쟁이', '▁포함되었다', '.']}\n",
            "106 [2337, 9, 12386, 11701, 21748, 115, 8, 5620, 21210, 3027, 27252, 17, 1095, 277, 8, 1222, 1834, 3929, 10331, 7676, 32, 1095, 269, 25, 7, 403, 716, 672, 5071, 496, 126, 8210, 3270, 4841, 15, 22, 2479, 15, 749, 1907, 8, 2337, 9, 3158, 1543, 33, 3626, 13, 94, 11343, 20, 25798, 28, 5466, 2367, 7, 2337, 9, 3158, 1543, 33, 3626, 13, 94, 740, 659, 5668, 29821, 11, 23190, 23019, 25, 7, 2337, 9, 3626, 13, 94, 5071, 11, 39, 179, 1552, 5388, 13, 185, 20599, 572, 8, 39, 5388, 117, 1630, 258, 5935, 27252, 24, 10, 28350, 110, 66, 3813, 9987, 15505, 5787, 7]\n",
            "256 [2, 2337, 9, 12386, 11701, 21748, 115, 8, 5620, 21210, 3027, 27252, 17, 1095, 277, 8, 1222, 1834, 3929, 10331, 7676, 32, 1095, 269, 25, 7, 403, 716, 672, 5071, 496, 126, 8210, 3270, 4841, 15, 22, 2479, 15, 749, 1907, 8, 2337, 9, 3158, 1543, 33, 3626, 13, 94, 11343, 20, 25798, 28, 5466, 2367, 7, 2337, 9, 3158, 1543, 33, 3626, 13, 94, 740, 659, 5668, 29821, 11, 23190, 23019, 25, 7, 2337, 9, 3626, 13, 94, 5071, 11, 39, 179, 1552, 5388, 13, 185, 20599, 572, 8, 39, 5388, 117, 1630, 258, 5935, 27252, 24, 10, 28350, 110, 66, 3813, 9987, 15505, 5787, 7, 0, 0, 0, 0, 0, 0, 0, 0, 0, 0, 0, 0, 0, 0, 0, 0, 0, 0, 0, 0, 0, 0, 0, 0, 0, 0, 0, 0, 0, 0, 0, 0, 0, 0, 0, 0, 0, 0, 0, 0, 0, 0, 0, 0, 0, 0, 0, 0, 0, 0, 0, 0, 0, 0, 0, 0, 0, 0, 0, 0, 0, 0, 0, 0, 0, 0, 0, 0, 0, 0, 0, 0, 0, 0, 0, 0, 0, 0, 0, 0, 0, 0, 0, 0, 0, 0, 0, 0, 0, 0, 0, 0, 0, 0, 0, 0, 0, 0, 0, 0, 0, 0, 0, 0, 0, 0, 0, 0, 0, 0, 0, 0, 0, 0, 0, 0, 0, 0, 0, 0, 0, 0, 0, 0, 0, 0, 0, 0, 0, 0, 0, 0, 0, 0, 0, 0, 0, 0, 0, 0, 0, 0, 0, 0, 0, 0, 0, 0, 0]\n",
            "256 [2337, 9, 12386, 11701, 21748, 115, 8, 5620, 21210, 3027, 27252, 17, 1095, 277, 8, 1222, 1834, 3929, 10331, 7676, 32, 1095, 269, 25, 7, 403, 716, 672, 5071, 496, 126, 8210, 3270, 4841, 15, 22, 2479, 15, 749, 1907, 8, 2337, 9, 3158, 1543, 33, 3626, 13, 94, 11343, 20, 25798, 28, 5466, 2367, 7, 2337, 9, 3158, 1543, 33, 3626, 13, 94, 740, 659, 5668, 29821, 11, 23190, 23019, 25, 7, 2337, 9, 3626, 13, 94, 5071, 11, 39, 179, 1552, 5388, 13, 185, 20599, 572, 8, 39, 5388, 117, 1630, 258, 5935, 27252, 24, 10, 28350, 110, 66, 3813, 9987, 15505, 5787, 7, 3, 0, 0, 0, 0, 0, 0, 0, 0, 0, 0, 0, 0, 0, 0, 0, 0, 0, 0, 0, 0, 0, 0, 0, 0, 0, 0, 0, 0, 0, 0, 0, 0, 0, 0, 0, 0, 0, 0, 0, 0, 0, 0, 0, 0, 0, 0, 0, 0, 0, 0, 0, 0, 0, 0, 0, 0, 0, 0, 0, 0, 0, 0, 0, 0, 0, 0, 0, 0, 0, 0, 0, 0, 0, 0, 0, 0, 0, 0, 0, 0, 0, 0, 0, 0, 0, 0, 0, 0, 0, 0, 0, 0, 0, 0, 0, 0, 0, 0, 0, 0, 0, 0, 0, 0, 0, 0, 0, 0, 0, 0, 0, 0, 0, 0, 0, 0, 0, 0, 0, 0, 0, 0, 0, 0, 0, 0, 0, 0, 0, 0, 0, 0, 0, 0, 0, 0, 0, 0, 0, 0, 0, 0, 0, 0, 0, 0, 0, 0, 0]\n"
          ],
          "name": "stdout"
        },
        {
          "output_type": "execute_result",
          "data": {
            "text/plain": [
              "(array([[    2, 14473, 14639, ...,    24,   112,  6087],\n",
              "        [    2,   138,   931, ...,   167,  8945,    59],\n",
              "        [    2, 12780,    82, ...,    16,  2194,    43],\n",
              "        ...,\n",
              "        [    2, 25180,    18, ...,   143,   467,   603],\n",
              "        [    2, 17718,    94, ...,   269,     8,   314],\n",
              "        [    2,  2337,     9, ...,     0,     0,     0]], dtype=int32),\n",
              " array([[14473, 14639,  2033, ...,   112,  6087,     3],\n",
              "        [  138,   931,  6428, ...,  8945,    59,     3],\n",
              "        [12780,    82,  3392, ...,  2194,    43,     3],\n",
              "        ...,\n",
              "        [25180,    18, 19486, ...,   467,   603,     3],\n",
              "        [17718,    94,  9601, ...,     8,   314,     3],\n",
              "        [ 2337,     9, 12386, ...,     0,     0,     0]], dtype=int32))"
            ]
          },
          "metadata": {
            "tags": []
          },
          "execution_count": 68
        }
      ]
    },
    {
      "cell_type": "markdown",
      "metadata": {
        "id": "kTgzpx2Wl6uv"
      },
      "source": [
        "## Loss & Acc"
      ]
    },
    {
      "cell_type": "code",
      "metadata": {
        "id": "G65wyrG_l-uM",
        "colab": {
          "base_uri": "https://localhost:8080/"
        },
        "outputId": "2c878f76-1edc-44fe-8c0c-b45d3bfd8c2c"
      },
      "source": [
        "# 4개 의 단어를 예측하기 위한 정답과 예측값 가정\n",
        "# 정답\n",
        "y_true = np.random.randint(1, 3, (1, 20)).astype(np.float32)\n",
        "y_true[:, 8:] = 0\n",
        "# 예측 값\n",
        "y_pred = np.random.random((1, 20, 4)).astype(np.float32)\n",
        "y_pred = tf.nn.softmax(y_pred, axis=-1).numpy()  # 확률 값으로 변경\n",
        "\n",
        "y_true, y_pred"
      ],
      "execution_count": null,
      "outputs": [
        {
          "output_type": "execute_result",
          "data": {
            "text/plain": [
              "(array([[2., 2., 1., 2., 1., 1., 1., 2., 0., 0., 0., 0., 0., 0., 0., 0.,\n",
              "         0., 0., 0., 0.]], dtype=float32),\n",
              " array([[[0.2014149 , 0.2324197 , 0.27894443, 0.28722093],\n",
              "         [0.24675597, 0.2986718 , 0.28180978, 0.17276245],\n",
              "         [0.27507097, 0.30699873, 0.18292724, 0.23500307],\n",
              "         [0.15437317, 0.20702004, 0.36399195, 0.2746149 ],\n",
              "         [0.21794164, 0.3223877 , 0.20111176, 0.25855884],\n",
              "         [0.3259501 , 0.21140808, 0.3048331 , 0.15780872],\n",
              "         [0.25889552, 0.2589785 , 0.15932654, 0.32279947],\n",
              "         [0.24688564, 0.39390135, 0.16844237, 0.1907706 ],\n",
              "         [0.1605852 , 0.30077136, 0.27757582, 0.26106766],\n",
              "         [0.17876586, 0.30012107, 0.23803584, 0.2830772 ],\n",
              "         [0.19547004, 0.32076427, 0.3078022 , 0.17596354],\n",
              "         [0.20055635, 0.26928666, 0.23845431, 0.29170266],\n",
              "         [0.32548183, 0.2754673 , 0.1659615 , 0.23308928],\n",
              "         [0.30148587, 0.22730768, 0.27395034, 0.19725612],\n",
              "         [0.2416972 , 0.41077355, 0.17416099, 0.17336829],\n",
              "         [0.31672984, 0.27227968, 0.24253808, 0.16845237],\n",
              "         [0.1811328 , 0.35424083, 0.21849547, 0.2461309 ],\n",
              "         [0.17501946, 0.23494002, 0.26923424, 0.32080632],\n",
              "         [0.33123577, 0.24724233, 0.26790434, 0.15361756],\n",
              "         [0.26899838, 0.29284662, 0.24041528, 0.19773977]]], dtype=float32))"
            ]
          },
          "metadata": {
            "tags": []
          },
          "execution_count": 69
        }
      ]
    },
    {
      "cell_type": "code",
      "metadata": {
        "id": "hQRKhodYtQHr"
      },
      "source": [
        "def lm_loss(y_true, y_pred):\n",
        "    \"\"\"\n",
        "    pad 부분을 제외하고 loss를 계산하는 함수\n",
        "    :param y_true: 정답\n",
        "    :param y_pred: 예측 값\n",
        "    :retrun loss: pad 부분이 제외된 loss 값\n",
        "    \"\"\"\n",
        "    # sparse_entropy = tf.keras.losses.SparseCategoricalCrossentropy()\n",
        "    sparse_entropy = tf.keras.losses.SparseCategoricalCrossentropy(reduction=tf.keras.losses.Reduction.NONE)\n",
        "    loss = sparse_entropy(y_true, y_pred)\n",
        "    # mask 계산\n",
        "    # print(y_true)\n",
        "    mask = tf.not_equal(y_true, 0)\n",
        "    mask = tf.cast(mask, tf.float32)\n",
        "    # print(mask)\n",
        "    loss *= mask\n",
        "    return loss"
      ],
      "execution_count": null,
      "outputs": []
    },
    {
      "cell_type": "code",
      "metadata": {
        "id": "27gjDDDtttgq",
        "colab": {
          "base_uri": "https://localhost:8080/"
        },
        "outputId": "f72bf677-5b96-4ed3-88ae-f6e072cbcaab"
      },
      "source": [
        "# lm_loss 함수 확인\n",
        "loss = lm_loss(y_true, y_pred)\n",
        "print(loss, np.mean(loss))"
      ],
      "execution_count": null,
      "outputs": [
        {
          "output_type": "stream",
          "text": [
            "tf.Tensor(\n",
            "[[1.2767426 1.266523  1.1809117 1.0106235 1.1320004 1.553965  1.3510103\n",
            "  1.7811615 0.        0.        0.        0.        0.        0.\n",
            "  0.        0.        0.        0.        0.        0.       ]], shape=(1, 20), dtype=float32) 0.5276469\n"
          ],
          "name": "stdout"
        }
      ]
    },
    {
      "cell_type": "code",
      "metadata": {
        "id": "xQqs7xzA3N3Q"
      },
      "source": [
        "def lm_acc(y_true, y_pred):\n",
        "    \"\"\"\n",
        "    pad 부분을 제외하고 accuracy를 계산하는 함수\n",
        "    :param y_true: 정답\n",
        "    :param y_pred: 예측 값\n",
        "    :retrun loss: pad 부분이 제외된 accuracy 값\n",
        "    \"\"\"\n",
        "    y_true = tf.cast(y_true, tf.float32)\n",
        "    # print(y_true)\n",
        "    y_pred_class = tf.cast(tf.argmax(y_pred, axis=-1), tf.float32)\n",
        "    # print(y_pred_class)\n",
        "    matches = tf.cast(tf.equal(y_true, y_pred_class), tf.float32)\n",
        "    # print(matches)\n",
        "    # mask 계산\n",
        "    mask = tf.not_equal(y_true, 0)\n",
        "    mask = tf.cast(mask, tf.float32)\n",
        "    # print(mask)\n",
        "    # match에 mask 적용\n",
        "    matches *= mask\n",
        "    # print(matches)\n",
        "    # accuracy = tf.reduce_sum(matches) / tf.maximum(tf.reduce_sum(tf.ones_like(matches)), 1)\n",
        "    # 분모는 mask의 1인 개수\n",
        "    accuracy = tf.reduce_sum(matches) / tf.maximum(tf.reduce_sum(mask), 1)\n",
        "    return accuracy"
      ],
      "execution_count": null,
      "outputs": []
    },
    {
      "cell_type": "code",
      "metadata": {
        "id": "SNDm5SWq30oS",
        "colab": {
          "base_uri": "https://localhost:8080/"
        },
        "outputId": "9c9d0eb5-d243-4c5e-d767-bd81b5cdca02"
      },
      "source": [
        "# lm_acc 함수 확인\n",
        "accuracy = lm_acc(y_true, y_pred)\n",
        "print(accuracy)"
      ],
      "execution_count": null,
      "outputs": [
        {
          "output_type": "stream",
          "text": [
            "tf.Tensor(0.375, shape=(), dtype=float32)\n"
          ],
          "name": "stdout"
        }
      ]
    },
    {
      "cell_type": "markdown",
      "metadata": {
        "id": "IFTsdA3kE2h-"
      },
      "source": [
        "## 학습"
      ]
    },
    {
      "cell_type": "code",
      "metadata": {
        "id": "5V40yb2wRRsv",
        "colab": {
          "base_uri": "https://localhost:8080/",
          "height": 422
        },
        "outputId": "2febeb37-52c2-43cb-cf1d-ca4171fb3ebc"
      },
      "source": [
        "# 모델 생성\n",
        "model = build_model(len(vocab), d_model, n_seq)\n",
        "# 모델 내용 그래프 출력\n",
        "tf.keras.utils.plot_model(model, 'model.png', show_shapes=True)"
      ],
      "execution_count": null,
      "outputs": [
        {
          "output_type": "execute_result",
          "data": {
            "image/png": "[encoded data removed]",
            "text/plain": [
              "<IPython.core.display.Image object>"
            ]
          },
          "metadata": {
            "tags": []
          },
          "execution_count": 99
        }
      ]
    },
    {
      "cell_type": "code",
      "metadata": {
        "id": "X7UDvaPqEx1c"
      },
      "source": [
        "# 모델 loss, optimizer, metric 정의\n",
        "model.compile(loss=lm_loss, optimizer='adam', metrics=[lm_acc])"
      ],
      "execution_count": null,
      "outputs": []
    },
    {
      "cell_type": "code",
      "metadata": {
        "id": "-FQBJ2aQLXdp"
      },
      "source": [
        "# early stopping\n",
        "early_stopping = tf.keras.callbacks.EarlyStopping(monitor='lm_acc', patience=50)\n",
        "# save weights callback\n",
        "save_weights = tf.keras.callbacks.ModelCheckpoint(os.path.join(kowiki_dir, 'lm.hdf5'),\n",
        "                                                  monitor='lm_acc',\n",
        "                                                  verbose=1,\n",
        "                                                  save_best_only=True,\n",
        "                                                  mode=\"max\",\n",
        "                                                  save_freq=\"epoch\",\n",
        "                                                  save_weights_only=True)\n",
        "# csv logger\n",
        "csv_logger = tf.keras.callbacks.CSVLogger(os.path.join(kowiki_dir, 'lm.csv'))"
      ],
      "execution_count": null,
      "outputs": []
    },
    {
      "cell_type": "code",
      "metadata": {
        "id": "MSyF0MvAFGoJ",
        "colab": {
          "base_uri": "https://localhost:8080/"
        },
        "outputId": "0a064a29-1fcc-436b-bac7-a10165c9a9c2"
      },
      "source": [
        "# 모델 학습\n",
        "history = model.fit(train_inputs,\n",
        "                    train_labels,\n",
        "                    epochs=500,\n",
        "                    batch_size=128,\n",
        "                    callbacks=[early_stopping, save_weights, csv_logger])"
      ],
      "execution_count": null,
      "outputs": [
        {
          "output_type": "stream",
          "text": [
            "Epoch 1/500\n",
            "1/1 [==============================] - 2s 2s/step - loss: 9.3971 - lm_acc: 4.3122e-04\n",
            "\n",
            "Epoch 00001: lm_acc improved from -inf to 0.00043, saving model to /content/drive/MyDrive/Data/nlp/kowiki/lm.hdf5\n",
            "Epoch 2/500\n",
            "1/1 [==============================] - 0s 199ms/step - loss: 9.3944 - lm_acc: 0.0371\n",
            "\n",
            "Epoch 00002: lm_acc improved from 0.00043 to 0.03708, saving model to /content/drive/MyDrive/Data/nlp/kowiki/lm.hdf5\n",
            "Epoch 3/500\n",
            "1/1 [==============================] - 0s 143ms/step - loss: 9.3912 - lm_acc: 0.0591\n",
            "\n",
            "Epoch 00003: lm_acc improved from 0.03708 to 0.05908, saving model to /content/drive/MyDrive/Data/nlp/kowiki/lm.hdf5\n",
            "Epoch 4/500\n",
            "1/1 [==============================] - 0s 175ms/step - loss: 9.3867 - lm_acc: 0.0556\n",
            "\n",
            "Epoch 00004: lm_acc did not improve from 0.05908\n",
            "Epoch 5/500\n",
            "1/1 [==============================] - 0s 163ms/step - loss: 9.3767 - lm_acc: 0.0448\n",
            "\n",
            "Epoch 00005: lm_acc did not improve from 0.05908\n",
            "Epoch 6/500\n",
            "1/1 [==============================] - 0s 217ms/step - loss: 9.2801 - lm_acc: 0.0401\n",
            "\n",
            "Epoch 00006: lm_acc did not improve from 0.05908\n",
            "Epoch 7/500\n",
            "1/1 [==============================] - 0s 149ms/step - loss: 8.9812 - lm_acc: 0.0375\n",
            "\n",
            "Epoch 00007: lm_acc did not improve from 0.05908\n",
            "Epoch 8/500\n",
            "1/1 [==============================] - 0s 147ms/step - loss: 8.5690 - lm_acc: 0.0375\n",
            "\n",
            "Epoch 00008: lm_acc did not improve from 0.05908\n",
            "Epoch 9/500\n",
            "1/1 [==============================] - 0s 132ms/step - loss: 8.0823 - lm_acc: 0.0367\n",
            "\n",
            "Epoch 00009: lm_acc did not improve from 0.05908\n",
            "Epoch 10/500\n",
            "1/1 [==============================] - 0s 126ms/step - loss: 7.5349 - lm_acc: 0.0367\n",
            "\n",
            "Epoch 00010: lm_acc did not improve from 0.05908\n",
            "Epoch 11/500\n",
            "1/1 [==============================] - 0s 123ms/step - loss: 6.9855 - lm_acc: 0.0367\n",
            "\n",
            "Epoch 00011: lm_acc did not improve from 0.05908\n",
            "Epoch 12/500\n",
            "1/1 [==============================] - 0s 148ms/step - loss: 6.5628 - lm_acc: 0.0367\n",
            "\n",
            "Epoch 00012: lm_acc did not improve from 0.05908\n",
            "Epoch 13/500\n",
            "1/1 [==============================] - 0s 133ms/step - loss: 6.3100 - lm_acc: 0.0367\n",
            "\n",
            "Epoch 00013: lm_acc did not improve from 0.05908\n",
            "Epoch 14/500\n",
            "1/1 [==============================] - 0s 136ms/step - loss: 6.1574 - lm_acc: 0.0367\n",
            "\n",
            "Epoch 00014: lm_acc did not improve from 0.05908\n",
            "Epoch 15/500\n",
            "1/1 [==============================] - 0s 134ms/step - loss: 6.0585 - lm_acc: 0.0367\n",
            "\n",
            "Epoch 00015: lm_acc did not improve from 0.05908\n",
            "Epoch 16/500\n",
            "1/1 [==============================] - 0s 142ms/step - loss: 5.9975 - lm_acc: 0.0367\n",
            "\n",
            "Epoch 00016: lm_acc did not improve from 0.05908\n",
            "Epoch 17/500\n",
            "1/1 [==============================] - 0s 138ms/step - loss: 5.9646 - lm_acc: 0.0367\n",
            "\n",
            "Epoch 00017: lm_acc did not improve from 0.05908\n",
            "Epoch 18/500\n",
            "1/1 [==============================] - 0s 139ms/step - loss: 5.9510 - lm_acc: 0.0367\n",
            "\n",
            "Epoch 00018: lm_acc did not improve from 0.05908\n",
            "Epoch 19/500\n",
            "1/1 [==============================] - 0s 154ms/step - loss: 5.9505 - lm_acc: 0.0367\n",
            "\n",
            "Epoch 00019: lm_acc did not improve from 0.05908\n",
            "Epoch 20/500\n",
            "1/1 [==============================] - 0s 143ms/step - loss: 5.9562 - lm_acc: 0.0367\n",
            "\n",
            "Epoch 00020: lm_acc did not improve from 0.05908\n",
            "Epoch 21/500\n",
            "1/1 [==============================] - 0s 143ms/step - loss: 5.9587 - lm_acc: 0.0367\n",
            "\n",
            "Epoch 00021: lm_acc did not improve from 0.05908\n",
            "Epoch 22/500\n",
            "1/1 [==============================] - 0s 140ms/step - loss: 5.9503 - lm_acc: 0.0367\n",
            "\n",
            "Epoch 00022: lm_acc did not improve from 0.05908\n",
            "Epoch 23/500\n",
            "1/1 [==============================] - 0s 137ms/step - loss: 5.9326 - lm_acc: 0.0367\n",
            "\n",
            "Epoch 00023: lm_acc did not improve from 0.05908\n",
            "Epoch 24/500\n",
            "1/1 [==============================] - 0s 139ms/step - loss: 5.9150 - lm_acc: 0.0367\n",
            "\n",
            "Epoch 00024: lm_acc did not improve from 0.05908\n",
            "Epoch 25/500\n",
            "1/1 [==============================] - 0s 144ms/step - loss: 5.9053 - lm_acc: 0.0367\n",
            "\n",
            "Epoch 00025: lm_acc did not improve from 0.05908\n",
            "Epoch 26/500\n",
            "1/1 [==============================] - 0s 147ms/step - loss: 5.9033 - lm_acc: 0.0367\n",
            "\n",
            "Epoch 00026: lm_acc did not improve from 0.05908\n",
            "Epoch 27/500\n",
            "1/1 [==============================] - 0s 137ms/step - loss: 5.9042 - lm_acc: 0.0367\n",
            "\n",
            "Epoch 00027: lm_acc did not improve from 0.05908\n",
            "Epoch 28/500\n",
            "1/1 [==============================] - 0s 140ms/step - loss: 5.9047 - lm_acc: 0.0367\n",
            "\n",
            "Epoch 00028: lm_acc did not improve from 0.05908\n",
            "Epoch 29/500\n",
            "1/1 [==============================] - 0s 141ms/step - loss: 5.9037 - lm_acc: 0.0367\n",
            "\n",
            "Epoch 00029: lm_acc did not improve from 0.05908\n",
            "Epoch 30/500\n",
            "1/1 [==============================] - 0s 137ms/step - loss: 5.9015 - lm_acc: 0.0367\n",
            "\n",
            "Epoch 00030: lm_acc did not improve from 0.05908\n",
            "Epoch 31/500\n",
            "1/1 [==============================] - 0s 135ms/step - loss: 5.8982 - lm_acc: 0.0367\n",
            "\n",
            "Epoch 00031: lm_acc did not improve from 0.05908\n",
            "Epoch 32/500\n",
            "1/1 [==============================] - 0s 137ms/step - loss: 5.8937 - lm_acc: 0.0367\n",
            "\n",
            "Epoch 00032: lm_acc did not improve from 0.05908\n",
            "Epoch 33/500\n",
            "1/1 [==============================] - 0s 135ms/step - loss: 5.8889 - lm_acc: 0.0367\n",
            "\n",
            "Epoch 00033: lm_acc did not improve from 0.05908\n",
            "Epoch 34/500\n",
            "1/1 [==============================] - 0s 136ms/step - loss: 5.8847 - lm_acc: 0.0367\n",
            "\n",
            "Epoch 00034: lm_acc did not improve from 0.05908\n",
            "Epoch 35/500\n",
            "1/1 [==============================] - 0s 137ms/step - loss: 5.8820 - lm_acc: 0.0367\n",
            "\n",
            "Epoch 00035: lm_acc did not improve from 0.05908\n",
            "Epoch 36/500\n",
            "1/1 [==============================] - 0s 145ms/step - loss: 5.8811 - lm_acc: 0.0367\n",
            "\n",
            "Epoch 00036: lm_acc did not improve from 0.05908\n",
            "Epoch 37/500\n",
            "1/1 [==============================] - 0s 145ms/step - loss: 5.8813 - lm_acc: 0.0367\n",
            "\n",
            "Epoch 00037: lm_acc did not improve from 0.05908\n",
            "Epoch 38/500\n",
            "1/1 [==============================] - 0s 139ms/step - loss: 5.8815 - lm_acc: 0.0367\n",
            "\n",
            "Epoch 00038: lm_acc did not improve from 0.05908\n",
            "Epoch 39/500\n",
            "1/1 [==============================] - 0s 147ms/step - loss: 5.8809 - lm_acc: 0.0367\n",
            "\n",
            "Epoch 00039: lm_acc did not improve from 0.05908\n",
            "Epoch 40/500\n",
            "1/1 [==============================] - 0s 156ms/step - loss: 5.8793 - lm_acc: 0.0367\n",
            "\n",
            "Epoch 00040: lm_acc did not improve from 0.05908\n",
            "Epoch 41/500\n",
            "1/1 [==============================] - 0s 152ms/step - loss: 5.8771 - lm_acc: 0.0367\n",
            "\n",
            "Epoch 00041: lm_acc did not improve from 0.05908\n",
            "Epoch 42/500\n",
            "1/1 [==============================] - 0s 156ms/step - loss: 5.8750 - lm_acc: 0.0367\n",
            "\n",
            "Epoch 00042: lm_acc did not improve from 0.05908\n",
            "Epoch 43/500\n",
            "1/1 [==============================] - 0s 148ms/step - loss: 5.8734 - lm_acc: 0.0367\n",
            "\n",
            "Epoch 00043: lm_acc did not improve from 0.05908\n",
            "Epoch 44/500\n",
            "1/1 [==============================] - 0s 155ms/step - loss: 5.8725 - lm_acc: 0.0367\n",
            "\n",
            "Epoch 00044: lm_acc did not improve from 0.05908\n",
            "Epoch 45/500\n",
            "1/1 [==============================] - 0s 149ms/step - loss: 5.8720 - lm_acc: 0.0367\n",
            "\n",
            "Epoch 00045: lm_acc did not improve from 0.05908\n",
            "Epoch 46/500\n",
            "1/1 [==============================] - 0s 154ms/step - loss: 5.8716 - lm_acc: 0.0367\n",
            "\n",
            "Epoch 00046: lm_acc did not improve from 0.05908\n",
            "Epoch 47/500\n",
            "1/1 [==============================] - 0s 146ms/step - loss: 5.8711 - lm_acc: 0.0367\n",
            "\n",
            "Epoch 00047: lm_acc did not improve from 0.05908\n",
            "Epoch 48/500\n",
            "1/1 [==============================] - 0s 137ms/step - loss: 5.8704 - lm_acc: 0.0367\n",
            "\n",
            "Epoch 00048: lm_acc did not improve from 0.05908\n",
            "Epoch 49/500\n",
            "1/1 [==============================] - 0s 152ms/step - loss: 5.8696 - lm_acc: 0.0367\n",
            "\n",
            "Epoch 00049: lm_acc did not improve from 0.05908\n",
            "Epoch 50/500\n",
            "1/1 [==============================] - 0s 139ms/step - loss: 5.8688 - lm_acc: 0.0367\n",
            "\n",
            "Epoch 00050: lm_acc did not improve from 0.05908\n",
            "Epoch 51/500\n",
            "1/1 [==============================] - 0s 142ms/step - loss: 5.8681 - lm_acc: 0.0367\n",
            "\n",
            "Epoch 00051: lm_acc did not improve from 0.05908\n",
            "Epoch 52/500\n",
            "1/1 [==============================] - 0s 143ms/step - loss: 5.8674 - lm_acc: 0.0367\n",
            "\n",
            "Epoch 00052: lm_acc did not improve from 0.05908\n",
            "Epoch 53/500\n",
            "1/1 [==============================] - 0s 145ms/step - loss: 5.8670 - lm_acc: 0.0367\n",
            "\n",
            "Epoch 00053: lm_acc did not improve from 0.05908\n"
          ],
          "name": "stdout"
        }
      ]
    },
    {
      "cell_type": "code",
      "metadata": {
        "id": "m1UWJMf4FTiZ",
        "colab": {
          "base_uri": "https://localhost:8080/",
          "height": 279
        },
        "outputId": "628313f0-9b86-4c50-a252-31868a91000c"
      },
      "source": [
        "plt.figure(figsize=(12, 4))\n",
        "\n",
        "plt.subplot(1, 2, 1)\n",
        "plt.plot(history.history['loss'], 'b-', label='loss')\n",
        "plt.xlabel('Epoch')\n",
        "plt.legend()\n",
        "\n",
        "plt.subplot(1, 2, 2)\n",
        "plt.plot(history.history['lm_acc'], 'g-', label='acc')\n",
        "plt.xlabel('Epoch')\n",
        "plt.legend()\n",
        "\n",
        "plt.show()"
      ],
      "execution_count": null,
      "outputs": [
        {
          "output_type": "display_data",
          "data": {
            "image/png": "[encoded data removed]",
            "text/plain": [
              "<Figure size 864x288 with 2 Axes>"
            ]
          },
          "metadata": {
            "tags": [],
            "needs_background": "light"
          }
        }
      ]
    },
    {
      "cell_type": "markdown",
      "metadata": {
        "id": "PQvKAxTbaEpt"
      },
      "source": [
        "## Inference"
      ]
    },
    {
      "cell_type": "code",
      "metadata": {
        "id": "ZuK60XkEOSUS"
      },
      "source": [
        "# 모델 생성\n",
        "model = build_model(len(vocab), d_model, n_seq)\n",
        "# train weight로 초기화"
      ],
      "execution_count": null,
      "outputs": []
    },
    {
      "cell_type": "code",
      "metadata": {
        "id": "KzaDEUSbaeu4"
      },
      "source": [
        "def do_next(vocab, model, n_seq, string):\n",
        "    \"\"\"\n",
        "    다음단어 예측\n",
        "    :param vocab: vocab\n",
        "    :param model: model\n",
        "    :param n_seq: number of seqence\n",
        "    :param string: inpust string\n",
        "    \"\"\"\n",
        "    n_max = n_seq - 1\n",
        "    \n",
        "    tokens = vocab.encode_as_pieces(string)\n",
        "    start_idx = len(tokens)\n",
        "    token_id = [vocab.piece_to_id(p) for p in tokens][:n_max]\n",
        "    token_id = [vocab.bos_id()] + token_id\n",
        "    token_id += [0] * (n_seq - len(token_id))\n",
        "    assert len(token_id) == n_seq\n",
        "\n",
        "    ###################################\n",
        "    ###################################\n",
        "    return next_prob"
      ],
      "execution_count": null,
      "outputs": []
    },
    {
      "cell_type": "code",
      "metadata": {
        "id": "G6BNj2NuZgax"
      },
      "source": [
        "string = '대한민국'\n",
        "do_next(vocab, model, n_seq, string)"
      ],
      "execution_count": null,
      "outputs": []
    },
    {
      "cell_type": "code",
      "metadata": {
        "id": "mQVkuBylavCr"
      },
      "source": [
        "while True:\n",
        "    string = input('시작 문장 > ')\n",
        "    string = string.strip()\n",
        "    if len(string) == 0:\n",
        "        break\n",
        "    next_prob = do_next(vocab, model, n_seq, string)\n",
        "    for w, p in next_prob:\n",
        "        print(f'{w}: {p}')\n",
        "    print()"
      ],
      "execution_count": null,
      "outputs": []
    },
    {
      "cell_type": "code",
      "metadata": {
        "id": "UJfeSZ3y3iAE"
      },
      "source": [
        "def do_generate(vocab, model, n_seq, string):\n",
        "    \"\"\"\n",
        "    문장생성\n",
        "    :param vocab: vocab\n",
        "    :param model: model\n",
        "    :param n_seq: number of seqence\n",
        "    :param string: inpust string\n",
        "    \"\"\"\n",
        "    n_max = n_seq - 1\n",
        "    tokens = vocab.encode_as_pieces(string)\n",
        "    start_idx = len(tokens)\n",
        "    token_id = [vocab.piece_to_id(p) for p in tokens][:n_max]\n",
        "    token_id = [vocab.bos_id()] + token_id\n",
        "    token_id += [0] * (n_seq - len(token_id))\n",
        "    assert len(token_id) == n_seq\n",
        "\n",
        "    for _ in range(start_idx, n_seq - 1):\n",
        "        print()\n",
        "        #########################################\n",
        "        #########################################\n",
        "    predict_id = token_id[1:start_idx + 1]\n",
        "    predict_str = vocab.decode_ids(predict_id)\n",
        "    return predict_str"
      ],
      "execution_count": null,
      "outputs": []
    },
    {
      "cell_type": "code",
      "metadata": {
        "id": "doo95xxXZmkf"
      },
      "source": [
        "string = '대한민국'\n",
        "do_generate(vocab, model, n_seq, string)"
      ],
      "execution_count": null,
      "outputs": []
    },
    {
      "cell_type": "code",
      "metadata": {
        "id": "zqkvQ27A3qRL"
      },
      "source": [
        "while True:\n",
        "    string = input('시작 문장 > ')\n",
        "    string = string.strip()\n",
        "    if len(string) == 0:\n",
        "        break\n",
        "    predict_str = do_generate(vocab, model, n_seq, string)\n",
        "    print(predict_str)"
      ],
      "execution_count": null,
      "outputs": []
    },
    {
      "cell_type": "markdown",
      "metadata": {
        "id": "L2vJmIBt3-ci"
      },
      "source": [
        "# All Data Project"
      ]
    },
    {
      "cell_type": "markdown",
      "metadata": {
        "id": "_dBAGBHE3-ck"
      },
      "source": [
        "## Data\n"
      ]
    },
    {
      "cell_type": "code",
      "metadata": {
        "id": "X7Jbbcdm3-ck"
      },
      "source": [
        "def load_data(vocab, n_seq):\n",
        "    \"\"\"\n",
        "    Language Model 학습 데이터 생성\n",
        "    :param vocab: vocabulary object\n",
        "    :param n_seq: number of sequence\n",
        "    :return inputs_1: input data 1\n",
        "    :return inputs_2: input data 2\n",
        "    :return labels: label data\n",
        "    \"\"\"\n",
        "    # line 수 조회\n",
        "    n_line = 0\n",
        "    with open(os.path.join(kowiki_dir, 'kowiki_lm.json')) as f:\n",
        "        for line in f:\n",
        "            n_line += 1\n",
        "    # 최대 100,000개 데이터\n",
        "    n_data = min(n_line, 100000)\n",
        "    # 빈 데이터 생성\n",
        "    inputs = np.zeros((n_data, n_seq)).astype(np.int32)\n",
        "    labels = np.zeros((n_data, n_seq)).astype(np.int32)\n",
        "\n",
        "    with open(os.path.join(kowiki_dir, 'kowiki_lm.json')) as f:\n",
        "        for i, line in enumerate(tqdm(f, total=n_data)):\n",
        "            if i >= n_data:\n",
        "                break\n",
        "            data = json.loads(line)\n",
        "            token_id = [vocab.piece_to_id(p) for p in data['token']]\n",
        "            # input id\n",
        "            input_id = [vocab.bos_id()] + token_id\n",
        "            input_id += [0] * (n_seq - len(input_id))\n",
        "            # label id\n",
        "            label_id = token_id + [vocab.eos_id()]\n",
        "            label_id += [0] * (n_seq - len(label_id))\n",
        "            # 값 저장\n",
        "            inputs[i] = input_id\n",
        "            labels[i] = label_id\n",
        "\n",
        "    return inputs, labels"
      ],
      "execution_count": null,
      "outputs": []
    },
    {
      "cell_type": "code",
      "metadata": {
        "id": "w3P_qk633-cl"
      },
      "source": [
        "# train data 생성\n",
        "train_inputs, train_labels = load_data(vocab, n_seq)\n",
        "train_inputs, train_labels"
      ],
      "execution_count": null,
      "outputs": []
    },
    {
      "cell_type": "markdown",
      "metadata": {
        "id": "MFWK8EvH3-cp"
      },
      "source": [
        "## Loss & Acc"
      ]
    },
    {
      "cell_type": "code",
      "metadata": {
        "id": "3cpcM1MW3-cp"
      },
      "source": [
        "def lm_loss(y_true, y_pred):\n",
        "    \"\"\"\n",
        "    pad 부분을 제외하고 loss를 계산하는 함수\n",
        "    :param y_true: 정답\n",
        "    :param y_pred: 예측 값\n",
        "    :retrun loss: pad 부분이 제외된 loss 값\n",
        "    \"\"\"\n",
        "    loss = tf.keras.losses.SparseCategoricalCrossentropy(reduction=tf.keras.losses.Reduction.NONE)(y_true, y_pred)\n",
        "    mask = tf.not_equal(y_true, 0)\n",
        "    mask = tf.cast(mask, tf.float32)\n",
        "    loss *= mask\n",
        "    return loss"
      ],
      "execution_count": null,
      "outputs": []
    },
    {
      "cell_type": "code",
      "metadata": {
        "id": "Xt7wUUf53-cp"
      },
      "source": [
        "def lm_acc(y_true, y_pred):\n",
        "    \"\"\"\n",
        "    pad 부분을 제외하고 accuracy를 계산하는 함수\n",
        "    :param y_true: 정답\n",
        "    :param y_pred: 예측 값\n",
        "    :retrun loss: pad 부분이 제외된 accuracy 값\n",
        "    \"\"\"\n",
        "    y_true = tf.cast(y_true, tf.float32)\n",
        "    y_pred_class = tf.cast(tf.argmax(y_pred, axis=-1), tf.float32)\n",
        "    matches = tf.cast(tf.equal(y_true, y_pred_class), tf.float32)\n",
        "    mask = tf.not_equal(y_true, 0)\n",
        "    mask = tf.cast(mask, tf.float32)\n",
        "    matches *= mask\n",
        "    accuracy = tf.reduce_sum(matches) / tf.maximum(tf.reduce_sum(mask), 1)\n",
        "    return accuracy"
      ],
      "execution_count": null,
      "outputs": []
    },
    {
      "cell_type": "markdown",
      "metadata": {
        "id": "g2rxLFrL3-cq"
      },
      "source": [
        "## 학습"
      ]
    },
    {
      "cell_type": "code",
      "metadata": {
        "id": "E45XLFFC3-cq"
      },
      "source": [
        "# 모델 loss, optimizer, metric 정의\n",
        "model.compile(loss=lm_loss, optimizer='adam', metrics=[lm_acc])"
      ],
      "execution_count": null,
      "outputs": []
    },
    {
      "cell_type": "code",
      "metadata": {
        "id": "Js_YBU2l3-cq"
      },
      "source": [
        "# early stopping\n",
        "early_stopping = tf.keras.callbacks.EarlyStopping(monitor='lm_acc', patience=50)\n",
        "# save weights callback\n",
        "save_weights = tf.keras.callbacks.ModelCheckpoint(os.path.join(kowiki_dir, 'lm.hdf5'),\n",
        "                                                  monitor='lm_acc',\n",
        "                                                  verbose=1,\n",
        "                                                  save_best_only=True,\n",
        "                                                  mode=\"max\",\n",
        "                                                  save_freq=\"epoch\",\n",
        "                                                  save_weights_only=True)\n",
        "# csv logger\n",
        "csv_logger = tf.keras.callbacks.CSVLogger(os.path.join(kowiki_dir, 'lm.csv'))"
      ],
      "execution_count": null,
      "outputs": []
    },
    {
      "cell_type": "code",
      "metadata": {
        "id": "mQqvywUG3-cq"
      },
      "source": [
        "# 모델 학습\n",
        "history = model.fit(train_inputs,\n",
        "                    train_labels,\n",
        "                    epochs=2,\n",
        "                    batch_size=64,\n",
        "                    callbacks=[early_stopping, save_weights, csv_logger])"
      ],
      "execution_count": null,
      "outputs": []
    },
    {
      "cell_type": "code",
      "metadata": {
        "id": "EttHWg_w3-cr"
      },
      "source": [
        "plt.figure(figsize=(12, 4))\n",
        "\n",
        "plt.subplot(1, 2, 1)\n",
        "plt.plot(history.history['loss'], 'b-', label='loss')\n",
        "plt.xlabel('Epoch')\n",
        "plt.legend()\n",
        "\n",
        "plt.subplot(1, 2, 2)\n",
        "plt.plot(history.history['lm_acc'], 'g-', label='acc')\n",
        "plt.xlabel('Epoch')\n",
        "plt.legend()\n",
        "\n",
        "plt.show()"
      ],
      "execution_count": null,
      "outputs": []
    },
    {
      "cell_type": "markdown",
      "metadata": {
        "id": "rfTrHA3v3-cr"
      },
      "source": [
        "## Inference"
      ]
    },
    {
      "cell_type": "code",
      "metadata": {
        "id": "DSh7XdUg3-cr"
      },
      "source": [
        "# 모델 생성\n",
        "model = build_model(len(vocab), d_model, n_seq)\n",
        "# train weight로 초기화\n",
        "model.load_weights(os.path.join(kowiki_dir, 'lm.hdf5'))"
      ],
      "execution_count": null,
      "outputs": []
    },
    {
      "cell_type": "code",
      "metadata": {
        "id": "nDtLZD4K3-cr"
      },
      "source": [
        "def do_next(vocab, model, n_seq, string):\n",
        "    \"\"\"\n",
        "    다음단어 예측\n",
        "    :param vocab: vocab\n",
        "    :param model: model\n",
        "    :param n_seq: number of seqence\n",
        "    :param string: inpust string\n",
        "    \"\"\"\n",
        "    n_max = n_seq - 1\n",
        "    \n",
        "    tokens = vocab.encode_as_pieces(string)\n",
        "    start_idx = len(tokens)\n",
        "    token_id = [vocab.piece_to_id(p) for p in tokens][:n_max]\n",
        "    token_id = [vocab.bos_id()] + token_id\n",
        "    token_id += [0] * (n_seq - len(token_id))\n",
        "    assert len(token_id) == n_seq\n",
        "\n",
        "    result = model.predict(np.array([token_id]))\n",
        "    prob = result[0][start_idx]\n",
        "    max_args = np.argsort(prob)[-10:]\n",
        "    max_args = list(max_args)\n",
        "    max_args.reverse()\n",
        "\n",
        "    next_prob = []\n",
        "    for i in max_args:\n",
        "        w = vocab.id_to_piece(int(i))\n",
        "        p = prob[i]\n",
        "        next_prob.append((w, p))\n",
        "    return next_prob"
      ],
      "execution_count": null,
      "outputs": []
    },
    {
      "cell_type": "code",
      "metadata": {
        "id": "-_QF5gIm3-cr"
      },
      "source": [
        "while True:\n",
        "    string = input('시작 문장 > ')\n",
        "    string = string.strip()\n",
        "    if len(string) == 0:\n",
        "        break\n",
        "    next_prob = do_next(vocab, model, n_seq, string)\n",
        "    for w, p in next_prob:\n",
        "        print(f'{w}: {p}')\n",
        "    print()"
      ],
      "execution_count": null,
      "outputs": []
    },
    {
      "cell_type": "code",
      "metadata": {
        "id": "PJ2JSeaK3-cr"
      },
      "source": [
        "def do_generate(vocab, model, n_seq, string):\n",
        "    \"\"\"\n",
        "    문장생성\n",
        "    :param vocab: vocab\n",
        "    :param model: model\n",
        "    :param n_seq: number of seqence\n",
        "    :param string: inpust string\n",
        "    \"\"\"\n",
        "    n_max = n_seq - 1\n",
        "    tokens = vocab.encode_as_pieces(string)\n",
        "    start_idx = len(tokens)\n",
        "    token_id = [vocab.piece_to_id(p) for p in tokens][:n_max]\n",
        "    token_id = [vocab.bos_id()] + token_id\n",
        "    token_id += [0] * (n_seq - len(token_id))\n",
        "    assert len(token_id) == n_seq\n",
        "\n",
        "    for _ in range(start_idx, n_seq - 1):\n",
        "        outputs = model.predict(np.array([token_id]))\n",
        "        prob = outputs[0][start_idx]\n",
        "        word_id = int(np.random.choice(len(vocab), 1, p=prob)[0])\n",
        "        # word_id = np.argmax(prob)\n",
        "        if word_id == vocab.eos_id():\n",
        "            break\n",
        "        token_id[start_idx + 1] = word_id\n",
        "        start_idx += 1\n",
        "    predict_id = token_id[1:start_idx + 1]\n",
        "    predict_str = vocab.decode_ids(predict_id)\n",
        "    return predict_str"
      ],
      "execution_count": null,
      "outputs": []
    },
    {
      "cell_type": "code",
      "metadata": {
        "id": "ts-fnAO73-cs"
      },
      "source": [
        "while True:\n",
        "    string = input('시작 문장 > ')\n",
        "    string = string.strip()\n",
        "    if len(string) == 0:\n",
        "        break\n",
        "    predict_str = do_generate(vocab, model, n_seq, string)\n",
        "    print(predict_str)"
      ],
      "execution_count": null,
      "outputs": []
    }
  ]
}